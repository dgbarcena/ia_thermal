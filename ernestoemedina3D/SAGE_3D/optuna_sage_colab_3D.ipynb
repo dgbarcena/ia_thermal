{
 "cells": [
  {
   "cell_type": "code",
   "execution_count": 1,
   "id": "15cbfd92",
   "metadata": {},
   "outputs": [
    {
     "name": "stderr",
     "output_type": "stream",
     "text": [
      "WARNING: Failed to remove contents in a temporary directory 'C:\\Users\\ramse\\anaconda3\\envs\\Spacethermalpy\\Lib\\site-packages\\~orch_scatter'.\n",
      "You can safely remove it manually.\n",
      "WARNING: Skipping torch-sparse as it is not installed.\n",
      "WARNING: Skipping torch-cluster as it is not installed.\n",
      "WARNING: Skipping torch-spline-conv as it is not installed.\n"
     ]
    },
    {
     "name": "stdout",
     "output_type": "stream",
     "text": [
      "^C\n"
     ]
    },
    {
     "ename": "",
     "evalue": "",
     "output_type": "error",
     "traceback": [
      "\u001b[1;31mThe Kernel crashed while executing code in the current cell or a previous cell. \n",
      "\u001b[1;31mPlease review the code in the cell(s) to identify a possible cause of the failure. \n",
      "\u001b[1;31mClick <a href='https://aka.ms/vscodeJupyterKernelCrash'>here</a> for more info. \n",
      "\u001b[1;31mView Jupyter <a href='command:jupyter.viewOutput'>log</a> for further details."
     ]
    }
   ],
   "source": [
    "import os\n",
    "\n",
    "# Desinstala numpy y cualquier paquete conflictivo\n",
    "!pip uninstall -y numpy torch torchvision torchaudio torch-geometric torch-scatter torch-sparse torch-cluster torch-spline-conv -q\n",
    "\n",
    "# Instala numpy compatible (ANTES de que torch lo cargue)\n",
    "!pip install numpy==1.24.4\n",
    "\n",
    "# Mensaje al usuario\n",
    "print(\"NumPy 1.24.4 instalado correctamente.\")\n",
    "print(\"Reiniciando entorno para que los cambios surtan efecto...\")\n",
    "\n",
    "# Reinicia el entorno de ejecución automáticamente (muy importante)\n",
    "os.kill(os.getpid(), 9)\n"
   ]
  },
  {
   "cell_type": "code",
   "execution_count": null,
   "id": "9d3b2954",
   "metadata": {},
   "outputs": [],
   "source": [
    "\n",
    "# Instalación de PyTorch con CUDA 11.8\n",
    "!pip install torch==2.0.1+cu118 torchvision==0.15.2+cu118 torchaudio==2.0.2 --index-url https://download.pytorch.org/whl/cu118\n",
    "\n",
    "# Instalación de dependencias específicas de PyTorch Geometric\n",
    "!pip install torch-scatter torch-sparse torch-cluster torch-spline-conv -f https://data.pyg.org/whl/torch-2.0.0+cu118.html\n",
    "\n",
    "# Instalación de torch-geometric y librerías útiles\n",
    "!pip install torch-geometric matplotlib pandas optuna optuna-dashboard\n",
    "\n",
    "!pip install pyngrok --quiet\n"
   ]
  },
  {
   "cell_type": "code",
   "execution_count": null,
   "id": "f6e4da4b",
   "metadata": {},
   "outputs": [],
   "source": [
    "# Eliminar carpeta antigua si existe, para evitar que se quede en  el caché\n",
    "!rm -rf ia_thermal\n",
    "\n",
    "# Clonar versión actualizada desde GitHub\n",
    "!git clone --branch Ernesto https://github.com/dgbarcena/ia_thermal.git\n",
    "\n",
    "%cd ia_thermal/ernestoemedina3D/SAGE_3D"
   ]
  },
  {
   "cell_type": "code",
   "execution_count": null,
   "id": "1f728fe6",
   "metadata": {},
   "outputs": [],
   "source": [
    "# Añadir ruta al sistema para importar módulos locales\n",
    "import sys\n",
    "sys.path.append('/content/ia_thermal/ernestoemedina3D/SAGE_3D')"
   ]
  },
  {
   "cell_type": "code",
   "execution_count": null,
   "id": "250af8c7",
   "metadata": {},
   "outputs": [],
   "source": [
    "from google.colab import drive\n",
    "drive.mount('/content/drive')"
   ]
  },
  {
   "cell_type": "markdown",
   "id": "05b11f5a",
   "metadata": {},
   "source": [
    "# Optuna"
   ]
  },
  {
   "cell_type": "code",
   "execution_count": 6,
   "id": "c2dd21d0",
   "metadata": {},
   "outputs": [],
   "source": [
    "import optuna\n",
    "import torch\n",
    "import os\n",
    "from torch.optim.lr_scheduler import ReduceLROnPlateau\n",
    "from SAGE_model import GraphSAGE\n",
    "from train_eval import train, evaluate\n",
    "from Data_loader import load_dataset"
   ]
  },
  {
   "cell_type": "code",
   "execution_count": 7,
   "id": "f832ccfc",
   "metadata": {},
   "outputs": [],
   "source": [
    "try:\n",
    "    import google.colab\n",
    "    IN_COLAB = True\n",
    "except ImportError:\n",
    "    IN_COLAB = False\n",
    "\n",
    "if IN_COLAB:\n",
    "    dir_path = \"/content/drive/MyDrive/ErnestoData\"\n",
    "    db_path = \"/content/drive/MyDrive/ErnestoData/Optuna3D/sage_optuna_1.db\"\n",
    "else:\n",
    "    dir_path = os.getcwd()\n",
    "    db_path = os.path.join(dir_path, \"sage_optuna_1.db\")"
   ]
  },
  {
   "cell_type": "code",
   "execution_count": 8,
   "id": "135b41d3",
   "metadata": {},
   "outputs": [
    {
     "name": "stdout",
     "output_type": "stream",
     "text": [
      "Usando dispositivo: cuda\n"
     ]
    }
   ],
   "source": [
    "\n",
    "device = torch.device(\"cuda\" if torch.cuda.is_available() else \"cpu\")\n",
    "print(\"Usando dispositivo:\", device)\n"
   ]
  },
  {
   "cell_type": "code",
   "execution_count": 9,
   "id": "3d2339b0",
   "metadata": {},
   "outputs": [],
   "source": [
    "def objective(trial):\n",
    "    # --- Hiperparámetros a optimizar ---\n",
    "    num_layers = trial.suggest_int(\"num_layers\", 3, 10)\n",
    "    hidden_dim = trial.suggest_categorical(\"hidden_dim\", [32, 64, 128])\n",
    "    dropout_rate = trial.suggest_float(\"dropout_rate\", 0.0, 0.2)\n",
    "    lr = trial.suggest_float(\"lr\", 1e-4, 1e-2, log=True)\n",
    "    batch_size = trial.suggest_categorical(\"batch_size\", [16, 32, 64])\n",
    "\n",
    "    # --- Cargar datos ---\n",
    "    dataset_path = os.path.join(dir_path, \"Datasets3D\", \"Dataset3D_10000_model.pth\")\n",
    "    \n",
    "    train_loader, val_loader, test_loader, norm_info = load_dataset(\n",
    "    path=dataset_path,\n",
    "    batch_size=batch_size\n",
    "    )\n",
    "\n",
    "\n",
    "    # --- Crear modelo ---\n",
    "    model = GraphSAGE(\n",
    "        input_dim=2,\n",
    "        hidden_dim=hidden_dim,\n",
    "        output_dim=1,\n",
    "        num_layers=num_layers,\n",
    "        use_dropout=True,\n",
    "        dropout_rate=dropout_rate,\n",
    "        use_batchnorm=True,\n",
    "        use_residual=True\n",
    "    ).to(device)\n",
    "\n",
    "    optimizer = torch.optim.Adam(model.parameters(), lr=lr)\n",
    "\n",
    "    # --- Scheduler con ReduceLROnPlateau ---\n",
    "    scheduler = ReduceLROnPlateau(\n",
    "        optimizer,\n",
    "        mode='min',\n",
    "        factor=0.5,\n",
    "        patience=10,\n",
    "        min_lr=1e-6\n",
    "    )\n",
    "\n",
    "    # --- Entrenamiento + Evaluación en validación ---\n",
    "    for epoch in range(50):\n",
    "        train(\n",
    "            model,\n",
    "            train_loader,\n",
    "            optimizer,\n",
    "            device,\n",
    "            norm_info=norm_info,\n",
    "            use_physics=False,\n",
    "            lambda_physics=0.00001,\n",
    "            use_heater_loss=False,\n",
    "            lambda_heater=0.1\n",
    "        )\n",
    "\n",
    "        val_metrics = evaluate(\n",
    "            model,\n",
    "            val_loader,\n",
    "            device,\n",
    "            norm_info=norm_info,\n",
    "            lambda_physics=0.00001,\n",
    "            use_physics=False,\n",
    "            lambda_heater=0.1,\n",
    "            use_heater_loss=False,\n",
    "            error_threshold_K=3.0\n",
    "        )\n",
    "\n",
    "        val_total_loss = val_metrics[-1]\n",
    "        scheduler.step(val_total_loss)\n",
    "\n",
    "    return val_total_loss  # Métrica a minimizar"
   ]
  },
  {
   "cell_type": "markdown",
   "id": "46d23df8",
   "metadata": {},
   "source": [
    "## Estudio"
   ]
  },
  {
   "cell_type": "code",
   "execution_count": 10,
   "id": "5aed0a15",
   "metadata": {},
   "outputs": [
    {
     "name": "stderr",
     "output_type": "stream",
     "text": [
      "[I 2025-06-21 10:48:30,656] Using an existing study with name 'sage_study_1' instead of creating a new one.\n"
     ]
    },
    {
     "name": "stderr",
     "output_type": "stream",
     "text": [
      "c:\\Users\\ramse\\Escritorio\\Aero Ordenador\\4to Aero\\2do Cuatri\\ia_thermal\\ernestoemedina3D\\SAGE\\Data_loader.py:10: FutureWarning: You are using `torch.load` with `weights_only=False` (the current default value), which uses the default pickle module implicitly. It is possible to construct malicious pickle data which will execute arbitrary code during unpickling (See https://github.com/pytorch/pytorch/blob/main/SECURITY.md#untrusted-models for more details). In a future release, the default value for `weights_only` will be flipped to `True`. This limits the functions that could be executed during unpickling. Arbitrary objects will no longer be allowed to be loaded via this mode unless they are explicitly allowlisted by the user via `torch.serialization.add_safe_globals`. We recommend you start setting `weights_only=True` for any use case where you don't have full control of the loaded file. Please open an issue on GitHub for any issues related to this experimental feature.\n",
      "  data_bundle = torch.load(path)\n",
      "[I 2025-06-21 10:54:33,438] Trial 6 finished with value: 0.00146156702976441 and parameters: {'num_layers': 9, 'hidden_dim': 64, 'dropout_rate': 0.05412289715755561, 'lr': 0.0009156068570881952, 'batch_size': 64}. Best is trial 6 with value: 0.00146156702976441.\n",
      "[I 2025-06-21 10:57:52,612] Trial 7 finished with value: 0.00029011945207457757 and parameters: {'num_layers': 3, 'hidden_dim': 128, 'dropout_rate': 0.1955081249044306, 'lr': 0.004620806283577028, 'batch_size': 64}. Best is trial 7 with value: 0.00029011945207457757.\n",
      "[I 2025-06-21 11:09:40,103] Trial 8 finished with value: 7.357193813760883e-05 and parameters: {'num_layers': 6, 'hidden_dim': 128, 'dropout_rate': 0.055814347888038546, 'lr': 0.005309039459118491, 'batch_size': 16}. Best is trial 8 with value: 7.357193813760883e-05.\n",
      "[I 2025-06-21 11:12:30,612] Trial 9 finished with value: 0.0008604388967796694 and parameters: {'num_layers': 4, 'hidden_dim': 64, 'dropout_rate': 0.14234505147383258, 'lr': 0.0018026164392677796, 'batch_size': 64}. Best is trial 8 with value: 7.357193813760883e-05.\n",
      "[I 2025-06-21 11:16:16,750] Trial 10 finished with value: 0.0002813188020809321 and parameters: {'num_layers': 6, 'hidden_dim': 32, 'dropout_rate': 0.049912770855953026, 'lr': 0.002270473435841744, 'batch_size': 32}. Best is trial 8 with value: 7.357193813760883e-05.\n",
      "[I 2025-06-21 11:19:13,329] Trial 11 finished with value: 0.00024737314470257843 and parameters: {'num_layers': 8, 'hidden_dim': 128, 'dropout_rate': 0.19414858956289854, 'lr': 0.005091423098767294, 'batch_size': 64}. Best is trial 8 with value: 7.357193813760883e-05.\n",
      "[I 2025-06-21 11:23:59,896] Trial 12 finished with value: 0.002930462702352088 and parameters: {'num_layers': 7, 'hidden_dim': 64, 'dropout_rate': 0.12771712221907394, 'lr': 0.00040737491675541584, 'batch_size': 32}. Best is trial 8 with value: 7.357193813760883e-05.\n",
      "[I 2025-06-21 11:26:37,582] Trial 13 finished with value: 0.0007253093299368629 and parameters: {'num_layers': 3, 'hidden_dim': 64, 'dropout_rate': 0.05258283845791905, 'lr': 0.0001563323963337107, 'batch_size': 32}. Best is trial 8 with value: 7.357193813760883e-05.\n",
      "[I 2025-06-21 11:35:03,373] Trial 14 finished with value: 0.00017047478190978014 and parameters: {'num_layers': 8, 'hidden_dim': 128, 'dropout_rate': 0.023351787537434478, 'lr': 0.00042542120163567744, 'batch_size': 16}. Best is trial 8 with value: 7.357193813760883e-05.\n",
      "[I 2025-06-21 11:36:16,202] Trial 15 finished with value: 0.0003019878613486071 and parameters: {'num_layers': 3, 'hidden_dim': 128, 'dropout_rate': 0.010336706066581125, 'lr': 0.0006368105270724791, 'batch_size': 64}. Best is trial 8 with value: 7.357193813760883e-05.\n",
      "[I 2025-06-21 11:42:26,540] Trial 16 finished with value: 3.2062810114150613e-05 and parameters: {'num_layers': 5, 'hidden_dim': 32, 'dropout_rate': 0.09022234988491384, 'lr': 0.00811102834727095, 'batch_size': 16}. Best is trial 16 with value: 3.2062810114150613e-05.\n",
      "[I 2025-06-21 11:48:37,011] Trial 17 finished with value: 7.310268795533505e-05 and parameters: {'num_layers': 5, 'hidden_dim': 32, 'dropout_rate': 0.09079741083048731, 'lr': 0.008519918525732511, 'batch_size': 16}. Best is trial 16 with value: 3.2062810114150613e-05.\n",
      "[I 2025-06-21 11:54:37,298] Trial 18 finished with value: 4.314840470980262e-05 and parameters: {'num_layers': 5, 'hidden_dim': 32, 'dropout_rate': 0.1006144309766722, 'lr': 0.006627521985899512, 'batch_size': 16}. Best is trial 16 with value: 3.2062810114150613e-05.\n",
      "[I 2025-06-21 12:00:43,094] Trial 19 finished with value: 4.309261312878262e-05 and parameters: {'num_layers': 5, 'hidden_dim': 32, 'dropout_rate': 0.10317016844622132, 'lr': 0.009442642004868806, 'batch_size': 16}. Best is trial 16 with value: 3.2062810114150613e-05.\n",
      "[I 2025-06-21 12:06:45,160] Trial 20 finished with value: 0.00046701223861115676 and parameters: {'num_layers': 5, 'hidden_dim': 32, 'dropout_rate': 0.09898457707948836, 'lr': 0.002240280450655301, 'batch_size': 16}. Best is trial 16 with value: 3.2062810114150613e-05.\n",
      "[I 2025-06-21 12:17:05,942] Trial 21 finished with value: 0.0004149280263975795 and parameters: {'num_layers': 10, 'hidden_dim': 32, 'dropout_rate': 0.13982392279437894, 'lr': 0.009758245069910921, 'batch_size': 16}. Best is trial 16 with value: 3.2062810114150613e-05.\n",
      "[I 2025-06-21 12:22:24,057] Trial 22 finished with value: 3.9350766100041154e-05 and parameters: {'num_layers': 4, 'hidden_dim': 32, 'dropout_rate': 0.11439043930737659, 'lr': 0.004004186620420187, 'batch_size': 16}. Best is trial 16 with value: 3.2062810114150613e-05.\n",
      "[I 2025-06-21 12:27:36,272] Trial 23 finished with value: 0.0001080210766679282 and parameters: {'num_layers': 4, 'hidden_dim': 32, 'dropout_rate': 0.17154936654908037, 'lr': 0.0031689314561051413, 'batch_size': 16}. Best is trial 16 with value: 3.2062810114150613e-05.\n",
      "[I 2025-06-21 12:33:05,687] Trial 24 finished with value: 0.0007944184970775885 and parameters: {'num_layers': 4, 'hidden_dim': 32, 'dropout_rate': 0.08107265129501236, 'lr': 0.001278316182495745, 'batch_size': 16}. Best is trial 16 with value: 3.2062810114150613e-05.\n",
      "[I 2025-06-21 12:40:49,886] Trial 25 finished with value: 0.0005455228910293608 and parameters: {'num_layers': 7, 'hidden_dim': 32, 'dropout_rate': 0.11946751235128164, 'lr': 0.0033625515377656875, 'batch_size': 16}. Best is trial 16 with value: 3.2062810114150613e-05.\n",
      "[I 2025-06-21 12:44:29,634] Trial 26 finished with value: 0.0037740511470474303 and parameters: {'num_layers': 6, 'hidden_dim': 32, 'dropout_rate': 0.16590768220361599, 'lr': 0.0033831458330028205, 'batch_size': 32}. Best is trial 16 with value: 3.2062810114150613e-05.\n",
      "[I 2025-06-21 12:50:47,071] Trial 27 finished with value: 0.0001267373160180074 and parameters: {'num_layers': 5, 'hidden_dim': 32, 'dropout_rate': 0.07519265846257467, 'lr': 0.009880313285946601, 'batch_size': 16}. Best is trial 16 with value: 3.2062810114150613e-05.\n",
      "[I 2025-06-21 12:55:50,658] Trial 28 finished with value: 4.859183398019966e-05 and parameters: {'num_layers': 4, 'hidden_dim': 32, 'dropout_rate': 0.10580442384638232, 'lr': 0.006527441986481999, 'batch_size': 16}. Best is trial 16 with value: 3.2062810114150613e-05.\n",
      "[I 2025-06-21 13:01:55,395] Trial 29 finished with value: 0.00046117550421816606 and parameters: {'num_layers': 5, 'hidden_dim': 32, 'dropout_rate': 0.11920151653973655, 'lr': 0.00414330873393108, 'batch_size': 16}. Best is trial 16 with value: 3.2062810114150613e-05.\n",
      "[I 2025-06-21 13:07:01,642] Trial 30 finished with value: 4.8403020945630806e-05 and parameters: {'num_layers': 4, 'hidden_dim': 32, 'dropout_rate': 0.0770839382775956, 'lr': 0.006634957156161853, 'batch_size': 16}. Best is trial 16 with value: 3.2062810114150613e-05.\n",
      "[I 2025-06-21 13:14:15,124] Trial 31 finished with value: 0.0015836816377169083 and parameters: {'num_layers': 6, 'hidden_dim': 32, 'dropout_rate': 0.15308167204291603, 'lr': 0.0001113208427696354, 'batch_size': 16}. Best is trial 16 with value: 3.2062810114150613e-05.\n",
      "[I 2025-06-21 13:20:25,762] Trial 32 finished with value: 8.221537849287474e-05 and parameters: {'num_layers': 5, 'hidden_dim': 32, 'dropout_rate': 0.11273893646197611, 'lr': 0.007274682731634705, 'batch_size': 16}. Best is trial 16 with value: 3.2062810114150613e-05.\n",
      "[I 2025-06-21 13:24:45,834] Trial 33 finished with value: 0.00021703200740924488 and parameters: {'num_layers': 3, 'hidden_dim': 32, 'dropout_rate': 0.131248169700186, 'lr': 0.0024568313982444145, 'batch_size': 16}. Best is trial 16 with value: 3.2062810114150613e-05.\n",
      "[I 2025-06-21 13:28:59,110] Trial 34 finished with value: 0.0013516593207896221 and parameters: {'num_layers': 7, 'hidden_dim': 32, 'dropout_rate': 0.07284364659443018, 'lr': 0.0015106285168830407, 'batch_size': 32}. Best is trial 16 with value: 3.2062810114150613e-05.\n",
      "[I 2025-06-21 13:34:03,785] Trial 35 finished with value: 0.00012713816284390522 and parameters: {'num_layers': 4, 'hidden_dim': 64, 'dropout_rate': 0.041668383757292704, 'lr': 0.0011681237088664517, 'batch_size': 16}. Best is trial 16 with value: 3.2062810114150613e-05.\n",
      "[I 2025-06-21 13:36:11,412] Trial 36 finished with value: 0.0007531224109698087 and parameters: {'num_layers': 6, 'hidden_dim': 64, 'dropout_rate': 0.0896238562195079, 'lr': 0.0007270350667165536, 'batch_size': 64}. Best is trial 16 with value: 3.2062810114150613e-05.\n",
      "[I 2025-06-21 13:42:13,855] Trial 37 finished with value: 9.541360429018765e-05 and parameters: {'num_layers': 5, 'hidden_dim': 32, 'dropout_rate': 0.10304890655481598, 'lr': 0.006325141407664451, 'batch_size': 16}. Best is trial 16 with value: 3.2062810114150613e-05.\n",
      "[I 2025-06-21 13:48:20,670] Trial 38 finished with value: 4.2771976084276543e-05 and parameters: {'num_layers': 5, 'hidden_dim': 32, 'dropout_rate': 0.06334187290784596, 'lr': 0.004390636861643713, 'batch_size': 16}. Best is trial 16 with value: 3.2062810114150613e-05.\n",
      "[I 2025-06-21 13:53:22,633] Trial 39 finished with value: 5.670672815915803e-05 and parameters: {'num_layers': 4, 'hidden_dim': 32, 'dropout_rate': 0.06372920394194383, 'lr': 0.003975463654350652, 'batch_size': 16}. Best is trial 16 with value: 3.2062810114150613e-05.\n",
      "[I 2025-06-21 13:57:23,208] Trial 40 finished with value: 0.00017186728181845938 and parameters: {'num_layers': 3, 'hidden_dim': 128, 'dropout_rate': 0.06327683974026702, 'lr': 0.004974156349310342, 'batch_size': 16}. Best is trial 16 with value: 3.2062810114150613e-05.\n",
      "[I 2025-06-21 13:59:19,777] Trial 41 finished with value: 0.0003837305284832837 and parameters: {'num_layers': 6, 'hidden_dim': 32, 'dropout_rate': 0.03913968148355729, 'lr': 0.002825919573303024, 'batch_size': 64}. Best is trial 16 with value: 3.2062810114150613e-05.\n",
      "[I 2025-06-21 14:05:27,181] Trial 42 finished with value: 7.967241132670703e-05 and parameters: {'num_layers': 5, 'hidden_dim': 32, 'dropout_rate': 0.09001798650725436, 'lr': 0.0049102951884450645, 'batch_size': 16}. Best is trial 16 with value: 3.2062810114150613e-05.\n",
      "[I 2025-06-21 14:10:32,249] Trial 43 finished with value: 0.00011823268892291549 and parameters: {'num_layers': 4, 'hidden_dim': 128, 'dropout_rate': 0.0646214879729991, 'lr': 0.0018108929280349266, 'batch_size': 16}. Best is trial 16 with value: 3.2062810114150613e-05.\n",
      "[I 2025-06-21 14:14:26,951] Trial 44 finished with value: 0.000682137257172144 and parameters: {'num_layers': 7, 'hidden_dim': 64, 'dropout_rate': 0.1278343620802053, 'lr': 0.0079557204105514, 'batch_size': 32}. Best is trial 16 with value: 3.2062810114150613e-05.\n",
      "[I 2025-06-21 14:16:53,978] Trial 45 finished with value: 0.0001773750564098009 and parameters: {'num_layers': 8, 'hidden_dim': 32, 'dropout_rate': 0.0262018187539136, 'lr': 0.005548916197325449, 'batch_size': 64}. Best is trial 16 with value: 3.2062810114150613e-05.\n",
      "[I 2025-06-21 14:20:55,310] Trial 46 finished with value: 0.0001510353086771266 and parameters: {'num_layers': 3, 'hidden_dim': 32, 'dropout_rate': 0.14498234246819022, 'lr': 0.004325794504017096, 'batch_size': 16}. Best is trial 16 with value: 3.2062810114150613e-05.\n",
      "[I 2025-06-21 14:26:46,166] Trial 47 finished with value: 1.6837290165731535e-05 and parameters: {'num_layers': 5, 'hidden_dim': 32, 'dropout_rate': 0.11220305978280316, 'lr': 0.00858941660382923, 'batch_size': 16}. Best is trial 47 with value: 1.6837290165731535e-05.\n",
      "[I 2025-06-21 14:33:30,809] Trial 48 finished with value: 0.0001207872638977798 and parameters: {'num_layers': 6, 'hidden_dim': 32, 'dropout_rate': 0.08690126989644498, 'lr': 0.009901147031018335, 'batch_size': 16}. Best is trial 47 with value: 1.6837290165731535e-05.\n",
      "[I 2025-06-21 14:39:25,546] Trial 49 finished with value: 5.5667913762763853e-05 and parameters: {'num_layers': 5, 'hidden_dim': 32, 'dropout_rate': 0.11317534693482909, 'lr': 0.007915050184530687, 'batch_size': 16}. Best is trial 47 with value: 1.6837290165731535e-05.\n",
      "[I 2025-06-21 14:45:59,997] Trial 50 finished with value: 9.832284232534077e-06 and parameters: {'num_layers': 6, 'hidden_dim': 128, 'dropout_rate': 0.11363596301818839, 'lr': 0.0056233027045382, 'batch_size': 16}. Best is trial 50 with value: 9.832284232534077e-06.\n",
      "[I 2025-06-21 14:53:08,431] Trial 51 finished with value: 0.0013053088397201565 and parameters: {'num_layers': 6, 'hidden_dim': 128, 'dropout_rate': 0.13380285233408495, 'lr': 0.00026615335128949547, 'batch_size': 16}. Best is trial 50 with value: 9.832284232534077e-06.\n",
      "[I 2025-06-21 14:56:47,699] Trial 52 finished with value: 0.00018068569306706195 and parameters: {'num_layers': 6, 'hidden_dim': 128, 'dropout_rate': 0.11645671017886465, 'lr': 0.005676780935969677, 'batch_size': 32}. Best is trial 50 with value: 9.832284232534077e-06.\n",
      "[I 2025-06-21 14:58:34,779] Trial 53 finished with value: 0.0015330679379985668 and parameters: {'num_layers': 5, 'hidden_dim': 128, 'dropout_rate': 0.1507142463618204, 'lr': 0.00206565043792847, 'batch_size': 64}. Best is trial 50 with value: 9.832284232534077e-06.\n",
      "[I 2025-06-21 15:07:43,474] Trial 54 finished with value: 0.0002479275172513481 and parameters: {'num_layers': 9, 'hidden_dim': 128, 'dropout_rate': 0.09292798356550165, 'lr': 0.003791001334708755, 'batch_size': 16}. Best is trial 50 with value: 9.832284232534077e-06.\n",
      "[I 2025-06-21 15:12:50,153] Trial 55 finished with value: 1.8797421193633614e-05 and parameters: {'num_layers': 4, 'hidden_dim': 128, 'dropout_rate': 0.05140175649199983, 'lr': 0.002839930308962484, 'batch_size': 16}. Best is trial 50 with value: 9.832284232534077e-06.\n",
      "[I 2025-06-21 15:17:46,804] Trial 56 finished with value: 0.0002665153699040058 and parameters: {'num_layers': 4, 'hidden_dim': 128, 'dropout_rate': 0.12475406769321663, 'lr': 0.0027826248393244654, 'batch_size': 16}. Best is trial 50 with value: 9.832284232534077e-06.\n",
      "[I 2025-06-21 15:23:40,144] Trial 57 finished with value: 1.2963418027668791e-05 and parameters: {'num_layers': 5, 'hidden_dim': 128, 'dropout_rate': 0.046873578920073405, 'lr': 0.00550516640714695, 'batch_size': 16}. Best is trial 50 with value: 9.832284232534077e-06.\n",
      "[I 2025-06-21 15:28:38,379] Trial 58 finished with value: 6.866984113869312e-06 and parameters: {'num_layers': 4, 'hidden_dim': 128, 'dropout_rate': 0.016985416214694387, 'lr': 0.005628994452365782, 'batch_size': 16}. Best is trial 58 with value: 6.866984113869312e-06.\n",
      "[I 2025-06-21 15:32:41,166] Trial 59 finished with value: 0.00011009640175394626 and parameters: {'num_layers': 3, 'hidden_dim': 128, 'dropout_rate': 0.002959171410431484, 'lr': 0.00803721966929076, 'batch_size': 16}. Best is trial 58 with value: 6.866984113869312e-06.\n",
      "[I 2025-06-21 15:37:36,360] Trial 60 finished with value: 1.4845830481222255e-05 and parameters: {'num_layers': 4, 'hidden_dim': 128, 'dropout_rate': 0.03148650449953467, 'lr': 0.005896557772884887, 'batch_size': 16}. Best is trial 58 with value: 6.866984113869312e-06.\n",
      "[I 2025-06-21 15:42:39,714] Trial 61 finished with value: 2.3167147966367857e-05 and parameters: {'num_layers': 4, 'hidden_dim': 128, 'dropout_rate': 0.023728639337106186, 'lr': 0.005484419667345935, 'batch_size': 16}. Best is trial 58 with value: 6.866984113869312e-06.\n",
      "[I 2025-06-21 15:47:41,141] Trial 62 finished with value: 4.917022779986765e-05 and parameters: {'num_layers': 4, 'hidden_dim': 128, 'dropout_rate': 0.0160965347427951, 'lr': 0.006000285988678268, 'batch_size': 16}. Best is trial 58 with value: 6.866984113869312e-06.\n",
      "[I 2025-06-21 15:51:31,461] Trial 63 finished with value: 5.5075089236082035e-05 and parameters: {'num_layers': 3, 'hidden_dim': 128, 'dropout_rate': 0.0349108374979821, 'lr': 0.003414169715636179, 'batch_size': 16}. Best is trial 58 with value: 6.866984113869312e-06.\n",
      "[I 2025-06-21 15:54:15,746] Trial 64 finished with value: 0.00014407951380235318 and parameters: {'num_layers': 4, 'hidden_dim': 128, 'dropout_rate': 0.032070831597223425, 'lr': 0.007007546726755154, 'batch_size': 32}. Best is trial 58 with value: 6.866984113869312e-06.\n",
      "[I 2025-06-21 16:00:21,164] Trial 65 finished with value: 3.994916245112166e-05 and parameters: {'num_layers': 5, 'hidden_dim': 128, 'dropout_rate': 0.04706721769207284, 'lr': 0.004658291252316954, 'batch_size': 16}. Best is trial 58 with value: 6.866984113869312e-06.\n",
      "[I 2025-06-21 16:05:26,098] Trial 66 finished with value: 0.0001066661015289673 and parameters: {'num_layers': 4, 'hidden_dim': 128, 'dropout_rate': 0.01617555391478171, 'lr': 0.002766938825594702, 'batch_size': 16}. Best is trial 58 with value: 6.866984113869312e-06.\n",
      "[I 2025-06-21 16:10:20,561] Trial 67 finished with value: 6.328544114939943e-05 and parameters: {'num_layers': 4, 'hidden_dim': 128, 'dropout_rate': 0.00222393606897104, 'lr': 0.00541438111716895, 'batch_size': 16}. Best is trial 58 with value: 6.866984113869312e-06.\n",
      "[I 2025-06-21 16:14:18,394] Trial 68 finished with value: 4.445936342346526e-05 and parameters: {'num_layers': 3, 'hidden_dim': 128, 'dropout_rate': 0.02540749997474423, 'lr': 0.00865336927612579, 'batch_size': 16}. Best is trial 58 with value: 6.866984113869312e-06.\n",
      "[I 2025-06-21 16:19:21,433] Trial 69 finished with value: 1.7470645890705148e-05 and parameters: {'num_layers': 4, 'hidden_dim': 128, 'dropout_rate': 0.049989756209394595, 'lr': 0.005987382632061383, 'batch_size': 16}. Best is trial 58 with value: 6.866984113869312e-06.\n",
      "[I 2025-06-21 16:25:28,148] Trial 70 finished with value: 4.867423616353393e-05 and parameters: {'num_layers': 5, 'hidden_dim': 128, 'dropout_rate': 0.049883401734746854, 'lr': 0.007300311438309577, 'batch_size': 16}. Best is trial 58 with value: 6.866984113869312e-06.\n",
      "[I 2025-06-21 16:30:24,206] Trial 71 finished with value: 2.1087135229165488e-05 and parameters: {'num_layers': 4, 'hidden_dim': 128, 'dropout_rate': 0.04413380160407729, 'lr': 0.0034709974395921803, 'batch_size': 16}. Best is trial 58 with value: 6.866984113869312e-06.\n",
      "[I 2025-06-21 16:36:19,158] Trial 72 finished with value: 1.1004650086905467e-05 and parameters: {'num_layers': 5, 'hidden_dim': 128, 'dropout_rate': 0.05729717359246867, 'lr': 0.0060578541591585055, 'batch_size': 16}. Best is trial 58 with value: 6.866984113869312e-06.\n",
      "[I 2025-06-21 16:42:21,679] Trial 73 finished with value: 7.675181936180692e-05 and parameters: {'num_layers': 5, 'hidden_dim': 128, 'dropout_rate': 0.014008047227456232, 'lr': 0.006606893572379051, 'batch_size': 16}. Best is trial 58 with value: 6.866984113869312e-06.\n",
      "[I 2025-06-21 16:44:41,613] Trial 74 finished with value: 0.0007353169567068107 and parameters: {'num_layers': 7, 'hidden_dim': 128, 'dropout_rate': 0.057034263301082244, 'lr': 0.004843527393397692, 'batch_size': 64}. Best is trial 58 with value: 6.866984113869312e-06.\n",
      "[I 2025-06-21 16:50:41,320] Trial 75 finished with value: 1.2295575382426798e-05 and parameters: {'num_layers': 5, 'hidden_dim': 128, 'dropout_rate': 0.032589521836111385, 'lr': 0.008535422259687302, 'batch_size': 16}. Best is trial 58 with value: 6.866984113869312e-06.\n",
      "[I 2025-06-21 16:57:52,039] Trial 76 finished with value: 2.4267110867575476e-05 and parameters: {'num_layers': 6, 'hidden_dim': 64, 'dropout_rate': 0.032005398327629116, 'lr': 0.008357801621487774, 'batch_size': 16}. Best is trial 58 with value: 6.866984113869312e-06.\n",
      "[I 2025-06-21 17:04:00,198] Trial 77 finished with value: 1.7894637277918047e-05 and parameters: {'num_layers': 5, 'hidden_dim': 128, 'dropout_rate': 0.037621047915186834, 'lr': 0.009053029189600681, 'batch_size': 16}. Best is trial 58 with value: 6.866984113869312e-06.\n",
      "[I 2025-06-21 17:10:02,991] Trial 78 finished with value: 7.488119081244804e-05 and parameters: {'num_layers': 5, 'hidden_dim': 128, 'dropout_rate': 0.007871555682579107, 'lr': 0.006127678027170786, 'batch_size': 16}. Best is trial 58 with value: 6.866984113869312e-06.\n",
      "[I 2025-06-21 17:16:00,780] Trial 79 finished with value: 4.960534207630045e-05 and parameters: {'num_layers': 5, 'hidden_dim': 128, 'dropout_rate': 0.057540009941957085, 'lr': 0.00757637749729618, 'batch_size': 16}. Best is trial 58 with value: 6.866984113869312e-06.\n",
      "[I 2025-06-21 17:22:07,295] Trial 80 finished with value: 4.161156008079175e-05 and parameters: {'num_layers': 5, 'hidden_dim': 128, 'dropout_rate': 0.10763296447799625, 'lr': 0.006729890944285905, 'batch_size': 16}. Best is trial 58 with value: 6.866984113869312e-06.\n",
      "[I 2025-06-21 17:29:06,223] Trial 81 finished with value: 0.00014599988935515285 and parameters: {'num_layers': 6, 'hidden_dim': 128, 'dropout_rate': 0.02022005212706228, 'lr': 0.009924168886860317, 'batch_size': 16}. Best is trial 58 with value: 6.866984113869312e-06.\n",
      "[I 2025-06-21 17:36:13,633] Trial 82 finished with value: 7.777544536991858e-05 and parameters: {'num_layers': 6, 'hidden_dim': 128, 'dropout_rate': 0.03012767900385562, 'lr': 0.005089910903820059, 'batch_size': 16}. Best is trial 58 with value: 6.866984113869312e-06.\n",
      "[I 2025-06-21 17:38:54,117] Trial 83 finished with value: 0.0002169313656850136 and parameters: {'num_layers': 4, 'hidden_dim': 128, 'dropout_rate': 0.07076565540181505, 'lr': 0.003952610710234659, 'batch_size': 32}. Best is trial 58 with value: 6.866984113869312e-06.\n",
      "[I 2025-06-21 17:44:55,177] Trial 84 finished with value: 1.3830166810496141e-05 and parameters: {'num_layers': 5, 'hidden_dim': 64, 'dropout_rate': 0.04489307199976447, 'lr': 0.006069533206230711, 'batch_size': 16}. Best is trial 58 with value: 6.866984113869312e-06.\n",
      "[I 2025-06-21 17:51:56,491] Trial 85 finished with value: 0.0002140200446038285 and parameters: {'num_layers': 6, 'hidden_dim': 64, 'dropout_rate': 0.04444400219288301, 'lr': 0.00437878803707259, 'batch_size': 16}. Best is trial 58 with value: 6.866984113869312e-06.\n",
      "[I 2025-06-21 17:57:48,083] Trial 86 finished with value: 0.0005144823581859884 and parameters: {'num_layers': 5, 'hidden_dim': 64, 'dropout_rate': 0.0814458137580985, 'lr': 0.0004564131241668219, 'batch_size': 16}. Best is trial 58 with value: 6.866984113869312e-06.\n",
      "[I 2025-06-21 18:03:49,909] Trial 87 finished with value: 0.0001374874825290005 and parameters: {'num_layers': 5, 'hidden_dim': 64, 'dropout_rate': 0.04011632155278554, 'lr': 0.006102221704705082, 'batch_size': 16}. Best is trial 58 with value: 6.866984113869312e-06.\n",
      "[I 2025-06-21 18:09:48,164] Trial 88 finished with value: 0.00021702530105516965 and parameters: {'num_layers': 5, 'hidden_dim': 64, 'dropout_rate': 0.055773388329500094, 'lr': 0.00702039199519436, 'batch_size': 16}. Best is trial 58 with value: 6.866984113869312e-06.\n",
      "[I 2025-06-21 18:14:44,309] Trial 89 finished with value: 1.6456585904557465e-05 and parameters: {'num_layers': 4, 'hidden_dim': 128, 'dropout_rate': 0.0968880845887378, 'lr': 0.00862010723643422, 'batch_size': 16}. Best is trial 58 with value: 6.866984113869312e-06.\n",
      "[I 2025-06-21 18:20:34,464] Trial 90 finished with value: 2.0290643887064005e-05 and parameters: {'num_layers': 5, 'hidden_dim': 128, 'dropout_rate': 0.19118824262759515, 'lr': 0.008742533175557267, 'batch_size': 16}. Best is trial 58 with value: 6.866984113869312e-06.\n",
      "[I 2025-06-21 18:22:04,684] Trial 91 finished with value: 0.000693441710609477 and parameters: {'num_layers': 4, 'hidden_dim': 64, 'dropout_rate': 0.09884004526139278, 'lr': 0.007579439218158688, 'batch_size': 64}. Best is trial 58 with value: 6.866984113869312e-06.\n",
      "[I 2025-06-21 18:28:49,528] Trial 92 finished with value: 0.00012308932814954055 and parameters: {'num_layers': 6, 'hidden_dim': 128, 'dropout_rate': 0.12213883449043715, 'lr': 0.008725939161458767, 'batch_size': 16}. Best is trial 58 with value: 6.866984113869312e-06.\n",
      "[I 2025-06-21 18:34:47,920] Trial 93 finished with value: 2.02203884818739e-05 and parameters: {'num_layers': 5, 'hidden_dim': 128, 'dropout_rate': 0.09536479490874719, 'lr': 0.005329165811778052, 'batch_size': 16}. Best is trial 58 with value: 6.866984113869312e-06.\n",
      "[I 2025-06-21 18:40:13,876] Trial 94 finished with value: 1.747369203388059e-05 and parameters: {'num_layers': 4, 'hidden_dim': 128, 'dropout_rate': 0.028972466368854442, 'lr': 0.00469438659142502, 'batch_size': 16}. Best is trial 58 with value: 6.866984113869312e-06.\n",
      "[I 2025-06-21 18:48:10,540] Trial 95 finished with value: 1.6698136263700676e-05 and parameters: {'num_layers': 7, 'hidden_dim': 128, 'dropout_rate': 0.10694858194559531, 'lr': 0.007343203612418057, 'batch_size': 16}. Best is trial 58 with value: 6.866984113869312e-06.\n",
      "[I 2025-06-21 18:52:17,948] Trial 96 finished with value: 0.00014047845388631686 and parameters: {'num_layers': 7, 'hidden_dim': 128, 'dropout_rate': 0.018882392380423163, 'lr': 0.00027244343037364306, 'batch_size': 32}. Best is trial 58 with value: 6.866984113869312e-06.\n",
      "[I 2025-06-21 19:01:07,640] Trial 97 finished with value: 9.233581751311523e-05 and parameters: {'num_layers': 8, 'hidden_dim': 128, 'dropout_rate': 0.10591197294419372, 'lr': 0.007242989056102486, 'batch_size': 16}. Best is trial 58 with value: 6.866984113869312e-06.\n",
      "[I 2025-06-21 19:08:57,091] Trial 98 finished with value: 6.308632313563961e-05 and parameters: {'num_layers': 7, 'hidden_dim': 128, 'dropout_rate': 0.10873070604285955, 'lr': 0.006497967134198111, 'batch_size': 16}. Best is trial 58 with value: 6.866984113869312e-06.\n",
      "[I 2025-06-21 19:16:42,680] Trial 99 finished with value: 6.273560384648764e-05 and parameters: {'num_layers': 7, 'hidden_dim': 128, 'dropout_rate': 0.03518886210047238, 'lr': 0.009192050859125327, 'batch_size': 16}. Best is trial 58 with value: 6.866984113869312e-06.\n",
      "[I 2025-06-21 19:26:42,757] Trial 100 finished with value: 6.614172502489214e-05 and parameters: {'num_layers': 10, 'hidden_dim': 128, 'dropout_rate': 0.008979549430782684, 'lr': 0.005681962797881417, 'batch_size': 16}. Best is trial 58 with value: 6.866984113869312e-06.\n",
      "[I 2025-06-21 19:33:25,839] Trial 101 finished with value: 0.002379463239025975 and parameters: {'num_layers': 6, 'hidden_dim': 64, 'dropout_rate': 0.13486702712537085, 'lr': 0.0009149022575786471, 'batch_size': 16}. Best is trial 58 with value: 6.866984113869312e-06.\n",
      "[I 2025-06-21 19:37:16,260] Trial 102 finished with value: 0.0004530187820025261 and parameters: {'num_layers': 3, 'hidden_dim': 128, 'dropout_rate': 0.1123106329430678, 'lr': 0.00781996133412375, 'batch_size': 16}. Best is trial 58 with value: 6.866984113869312e-06.\n",
      "[I 2025-06-21 19:45:25,207] Trial 103 finished with value: 3.67505996282922e-05 and parameters: {'num_layers': 8, 'hidden_dim': 128, 'dropout_rate': 0.06818133071233189, 'lr': 0.003695601713238374, 'batch_size': 16}. Best is trial 58 with value: 6.866984113869312e-06.\n",
      "[I 2025-06-21 19:50:57,118] Trial 104 finished with value: 6.202997818555949e-05 and parameters: {'num_layers': 5, 'hidden_dim': 128, 'dropout_rate': 0.12618212135936707, 'lr': 0.005045925793651247, 'batch_size': 16}. Best is trial 58 with value: 6.866984113869312e-06.\n",
      "[I 2025-06-21 19:52:25,858] Trial 105 finished with value: 0.00015952671856211964 and parameters: {'num_layers': 4, 'hidden_dim': 128, 'dropout_rate': 0.08371959554499933, 'lr': 0.004282676308223956, 'batch_size': 64}. Best is trial 58 with value: 6.866984113869312e-06.\n"
     ]
    }
   ],
   "source": [
    "# Crear estudio y ejecutar optimización\n",
    "study = optuna.create_study(\n",
    "    direction=\"minimize\",\n",
    "    study_name=\"sage_study_1\",\n",
    "    storage=f\"sqlite:///{db_path}\",\n",
    "    load_if_exists=True\n",
    ")\n",
    "\n",
    "study.optimize(objective, n_trials=100)"
   ]
  },
  {
   "cell_type": "code",
   "execution_count": 11,
   "id": "46b94be1",
   "metadata": {},
   "outputs": [
    {
     "name": "stdout",
     "output_type": "stream",
     "text": [
      "Mejor conjunto de hiperparámetros encontrados:\n",
      "num_layers: 4\n",
      "hidden_dim: 128\n",
      "dropout_rate: 0.016985416214694387\n",
      "lr: 0.005628994452365782\n",
      "batch_size: 16\n"
     ]
    }
   ],
   "source": [
    "\n",
    "print(\"Mejor conjunto de hiperparámetros encontrados:\")\n",
    "for key, val in study.best_trial.params.items():\n",
    "    print(f\"{key}: {val}\")\n"
   ]
  },
  {
   "cell_type": "code",
   "execution_count": 12,
   "id": "38ba32cd",
   "metadata": {},
   "outputs": [
    {
     "name": "stderr",
     "output_type": "stream",
     "text": [
      "C:\\Users\\ramse\\AppData\\Local\\Temp\\ipykernel_3012\\2927595419.py:3: ExperimentalWarning: plot_optimization_history is experimental (supported from v2.2.0). The interface can change in the future.\n",
      "  fig1 = vis.plot_optimization_history(study)\n"
     ]
    },
    {
     "ename": "AttributeError",
     "evalue": "'Axes' object has no attribute 'show'",
     "output_type": "error",
     "traceback": [
      "\u001b[1;31m---------------------------------------------------------------------------\u001b[0m",
      "\u001b[1;31mAttributeError\u001b[0m                            Traceback (most recent call last)",
      "Cell \u001b[1;32mIn[12], line 4\u001b[0m\n\u001b[0;32m      1\u001b[0m \u001b[38;5;28;01mimport\u001b[39;00m \u001b[38;5;21;01moptuna\u001b[39;00m\u001b[38;5;21;01m.\u001b[39;00m\u001b[38;5;21;01mvisualization\u001b[39;00m\u001b[38;5;21;01m.\u001b[39;00m\u001b[38;5;21;01mmatplotlib\u001b[39;00m \u001b[38;5;28;01mas\u001b[39;00m \u001b[38;5;21;01mvis\u001b[39;00m\n\u001b[0;32m      3\u001b[0m fig1 \u001b[38;5;241m=\u001b[39m vis\u001b[38;5;241m.\u001b[39mplot_optimization_history(study)\n\u001b[1;32m----> 4\u001b[0m fig1\u001b[38;5;241m.\u001b[39mshow()\n\u001b[0;32m      6\u001b[0m fig2 \u001b[38;5;241m=\u001b[39m vis\u001b[38;5;241m.\u001b[39mplot_param_importances(study)\n\u001b[0;32m      7\u001b[0m fig2\u001b[38;5;241m.\u001b[39mshow()\n",
      "\u001b[1;31mAttributeError\u001b[0m: 'Axes' object has no attribute 'show'"
     ]
    }
   ],
   "source": [
    "\n",
    "import optuna.visualization.matplotlib as vis\n",
    "\n",
    "fig1 = vis.plot_optimization_history(study)\n",
    "fig1.show()\n",
    "\n",
    "fig2 = vis.plot_param_importances(study)\n",
    "fig2.show()\n"
   ]
  }
 ],
 "metadata": {
  "kernelspec": {
   "display_name": "base",
   "language": "python",
   "name": "python3"
  },
  "language_info": {
   "codemirror_mode": {
    "name": "ipython",
    "version": 3
   },
   "file_extension": ".py",
   "mimetype": "text/x-python",
   "name": "python",
   "nbconvert_exporter": "python",
   "pygments_lexer": "ipython3",
   "version": "3.12.9"
  }
 },
 "nbformat": 4,
 "nbformat_minor": 5
}
