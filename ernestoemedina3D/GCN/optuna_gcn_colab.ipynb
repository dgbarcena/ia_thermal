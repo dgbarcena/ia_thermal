{
 "cells": [
  {
   "cell_type": "code",
   "execution_count": 1,
   "id": "15cbfd92",
   "metadata": {},
   "outputs": [
    {
     "name": "stderr",
     "output_type": "stream",
     "text": [
      "WARNING: Failed to remove contents in a temporary directory 'C:\\Users\\ramse\\anaconda3\\envs\\Spacethermalpy\\Lib\\site-packages\\~orch_scatter'.\n",
      "You can safely remove it manually.\n",
      "WARNING: Skipping torch-sparse as it is not installed.\n",
      "WARNING: Skipping torch-cluster as it is not installed.\n",
      "WARNING: Skipping torch-spline-conv as it is not installed.\n"
     ]
    },
    {
     "name": "stdout",
     "output_type": "stream",
     "text": [
      "^C\n"
     ]
    },
    {
     "ename": "",
     "evalue": "",
     "output_type": "error",
     "traceback": [
      "\u001b[1;31mThe Kernel crashed while executing code in the current cell or a previous cell. \n",
      "\u001b[1;31mPlease review the code in the cell(s) to identify a possible cause of the failure. \n",
      "\u001b[1;31mClick <a href='https://aka.ms/vscodeJupyterKernelCrash'>here</a> for more info. \n",
      "\u001b[1;31mView Jupyter <a href='command:jupyter.viewOutput'>log</a> for further details."
     ]
    }
   ],
   "source": [
    "import os\n",
    "\n",
    "# Desinstala numpy y cualquier paquete conflictivo\n",
    "!pip uninstall -y numpy torch torchvision torchaudio torch-geometric torch-scatter torch-sparse torch-cluster torch-spline-conv -q\n",
    "\n",
    "# Instala numpy compatible (ANTES de que torch lo cargue)\n",
    "!pip install numpy==1.24.4\n",
    "\n",
    "# Mensaje al usuario\n",
    "print(\"NumPy 1.24.4 instalado correctamente.\")\n",
    "print(\"Reiniciando entorno para que los cambios surtan efecto...\")\n",
    "\n",
    "# Reinicia el entorno de ejecución automáticamente (muy importante)\n",
    "os.kill(os.getpid(), 9)\n"
   ]
  },
  {
   "cell_type": "code",
   "execution_count": null,
   "id": "9d3b2954",
   "metadata": {},
   "outputs": [],
   "source": [
    "\n",
    "# Instalación de PyTorch con CUDA 11.8\n",
    "!pip install torch==2.0.1+cu118 torchvision==0.15.2+cu118 torchaudio==2.0.2 --index-url https://download.pytorch.org/whl/cu118\n",
    "\n",
    "# Instalación de dependencias específicas de PyTorch Geometric\n",
    "!pip install torch-scatter torch-sparse torch-cluster torch-spline-conv -f https://data.pyg.org/whl/torch-2.0.0+cu118.html\n",
    "\n",
    "# Instalación de torch-geometric y librerías útiles\n",
    "!pip install torch-geometric matplotlib pandas optuna optuna-dashboard\n",
    "\n",
    "!pip install pyngrok --quiet\n"
   ]
  },
  {
   "cell_type": "code",
   "execution_count": null,
   "id": "f6e4da4b",
   "metadata": {},
   "outputs": [],
   "source": [
    "# Eliminar carpeta antigua si existe, para evitar que se quede en  el caché\n",
    "!rm -rf ia_thermal\n",
    "\n",
    "# Clonar versión actualizada desde GitHub\n",
    "!git clone --branch Ernesto https://github.com/dgbarcena/ia_thermal.git\n",
    "\n",
    "%cd ia_thermal/ernestoemedina3D/GCN"
   ]
  },
  {
   "cell_type": "code",
   "execution_count": null,
   "id": "1f728fe6",
   "metadata": {},
   "outputs": [],
   "source": [
    "# Añadir ruta al sistema para importar módulos locales\n",
    "import sys\n",
    "sys.path.append('/content/ia_thermal/ernestoemedina3D/GCN')"
   ]
  },
  {
   "cell_type": "code",
   "execution_count": null,
   "id": "250af8c7",
   "metadata": {},
   "outputs": [],
   "source": [
    "from google.colab import drive\n",
    "drive.mount('/content/drive')"
   ]
  },
  {
   "cell_type": "markdown",
   "id": "05b11f5a",
   "metadata": {},
   "source": [
    "# Optuna"
   ]
  },
  {
   "cell_type": "code",
   "execution_count": 6,
   "id": "c2dd21d0",
   "metadata": {},
   "outputs": [],
   "source": [
    "import optuna\n",
    "import torch\n",
    "import os\n",
    "from torch.optim.lr_scheduler import ReduceLROnPlateau\n",
    "from GCN_model import GCN\n",
    "from train_eval import train, evaluate\n",
    "from Data_loader import load_dataset"
   ]
  },
  {
   "cell_type": "code",
   "execution_count": 7,
   "id": "f832ccfc",
   "metadata": {},
   "outputs": [],
   "source": [
    "try:\n",
    "    import google.colab\n",
    "    IN_COLAB = True\n",
    "except ImportError:\n",
    "    IN_COLAB = False\n",
    "\n",
    "if IN_COLAB:\n",
    "    dir_path = \"/content/drive/MyDrive/ErnestoData\"\n",
    "    db_path = \"/content/drive/MyDrive/ErnestoData/Optuna3D/gcn_optuna_1.db\"\n",
    "else:\n",
    "    dir_path = os.getcwd()\n",
    "    db_path = os.path.join(dir_path, \"gcn_optuna_1.db\")"
   ]
  },
  {
   "cell_type": "code",
   "execution_count": 8,
   "id": "135b41d3",
   "metadata": {},
   "outputs": [
    {
     "name": "stdout",
     "output_type": "stream",
     "text": [
      "Usando dispositivo: cuda\n"
     ]
    }
   ],
   "source": [
    "\n",
    "device = torch.device(\"cuda\" if torch.cuda.is_available() else \"cpu\")\n",
    "print(\"Usando dispositivo:\", device)\n"
   ]
  },
  {
   "cell_type": "code",
   "execution_count": 9,
   "id": "3d2339b0",
   "metadata": {},
   "outputs": [],
   "source": [
    "def objective(trial):\n",
    "    # --- Hiperparámetros a optimizar ---\n",
    "    num_layers = trial.suggest_int(\"num_layers\", 3, 10)\n",
    "    hidden_dim = trial.suggest_categorical(\"hidden_dim\", [32, 64, 128])\n",
    "    dropout_rate = trial.suggest_float(\"dropout_rate\", 0.0, 0.2)\n",
    "    lr = trial.suggest_float(\"lr\", 1e-4, 1e-2, log=True)\n",
    "    batch_size = trial.suggest_categorical(\"batch_size\", [16, 32, 64])\n",
    "\n",
    "    # --- Cargar datos ---\n",
    "    dataset_path = os.path.join(dir_path, \"Datasets3D\", \"Dataset3D_10000_model.pth\")\n",
    "    \n",
    "    train_loader, val_loader, test_loader, norm_info = load_dataset(\n",
    "    path=dataset_path,\n",
    "    batch_size=batch_size\n",
    "    )\n",
    "\n",
    "\n",
    "    # --- Crear modelo ---\n",
    "    model = GCN(\n",
    "        input_dim=2,\n",
    "        hidden_dim=hidden_dim,\n",
    "        output_dim=1,\n",
    "        num_layers=num_layers,\n",
    "        use_dropout=True,\n",
    "        dropout_rate=dropout_rate,\n",
    "        use_batchnorm=True,\n",
    "        use_residual=True\n",
    "    ).to(device)\n",
    "\n",
    "    optimizer = torch.optim.Adam(model.parameters(), lr=lr)\n",
    "\n",
    "    # --- Scheduler con ReduceLROnPlateau ---\n",
    "    scheduler = ReduceLROnPlateau(\n",
    "        optimizer,\n",
    "        mode='min',\n",
    "        factor=0.5,\n",
    "        patience=10,\n",
    "        min_lr=1e-6\n",
    "    )\n",
    "\n",
    "    # --- Entrenamiento + Evaluación en validación ---\n",
    "    for epoch in range(50):\n",
    "        train(\n",
    "            model,\n",
    "            train_loader,\n",
    "            optimizer,\n",
    "            device,\n",
    "            norm_info=norm_info,\n",
    "            use_physics=True,\n",
    "            lambda_physics=0.00001,\n",
    "            use_heater_loss=True,\n",
    "            lambda_heater=0.1\n",
    "        )\n",
    "\n",
    "        val_metrics = evaluate(\n",
    "            model,\n",
    "            val_loader,\n",
    "            device,\n",
    "            norm_info=norm_info,\n",
    "            lambda_physics=0.00001,\n",
    "            use_physics=True,\n",
    "            lambda_heater=0.1,\n",
    "            use_heater_loss=True,\n",
    "            error_threshold_K=3.0\n",
    "        )\n",
    "\n",
    "        val_total_loss = val_metrics[-1]\n",
    "        scheduler.step(val_total_loss)\n",
    "\n",
    "    return val_total_loss  # Métrica a minimizar"
   ]
  },
  {
   "cell_type": "markdown",
   "id": "46d23df8",
   "metadata": {},
   "source": [
    "## Estudio"
   ]
  },
  {
   "cell_type": "code",
   "execution_count": null,
   "id": "5aed0a15",
   "metadata": {},
   "outputs": [
    {
     "name": "stderr",
     "output_type": "stream",
     "text": [
      "[I 2025-06-20 10:31:03,510] Using an existing study with name 'gcn_study_1' instead of creating a new one.\n",
      "[I 2025-06-20 10:35:21,465] Trial 1 finished with value: 3.9383542984724045 and parameters: {'num_layers': 6, 'hidden_dim': 64, 'dropout_rate': 0.00992510888720477, 'lr': 0.004132095909115032, 'batch_size': 32}. Best is trial 1 with value: 3.9383542984724045.\n",
      "[I 2025-06-20 10:38:16,262] Trial 2 finished with value: 66.02512764930725 and parameters: {'num_layers': 10, 'hidden_dim': 32, 'dropout_rate': 0.0676397019996902, 'lr': 0.0064097486220142975, 'batch_size': 64}. Best is trial 1 with value: 3.9383542984724045.\n",
      "[I 2025-06-20 10:41:35,491] Trial 3 finished with value: 130.90468168258667 and parameters: {'num_layers': 3, 'hidden_dim': 64, 'dropout_rate': 0.1739019388492502, 'lr': 0.00028989226984354837, 'batch_size': 32}. Best is trial 1 with value: 3.9383542984724045.\n",
      "[I 2025-06-20 10:44:08,920] Trial 4 finished with value: 522.6641979217529 and parameters: {'num_layers': 6, 'hidden_dim': 128, 'dropout_rate': 0.0671886378760732, 'lr': 0.005284055023164107, 'batch_size': 64}. Best is trial 1 with value: 3.9383542984724045.\n",
      "[I 2025-06-20 10:47:16,291] Trial 5 finished with value: 2.365505576133728 and parameters: {'num_layers': 3, 'hidden_dim': 32, 'dropout_rate': 0.09719633001343571, 'lr': 0.001079479056970486, 'batch_size': 32}. Best is trial 5 with value: 2.365505576133728.\n",
      "[I 2025-06-20 10:50:39,139] Trial 6 finished with value: 74.09296607971191 and parameters: {'num_layers': 4, 'hidden_dim': 32, 'dropout_rate': 0.1084451985401578, 'lr': 0.00013084464127707262, 'batch_size': 32}. Best is trial 5 with value: 2.365505576133728.\n",
      "[I 2025-06-20 10:53:19,814] Trial 7 finished with value: 12.012731611728668 and parameters: {'num_layers': 8, 'hidden_dim': 32, 'dropout_rate': 0.017322352966278664, 'lr': 0.0019695972144525577, 'batch_size': 64}. Best is trial 5 with value: 2.365505576133728.\n",
      "[I 2025-06-20 10:55:13,558] Trial 8 finished with value: 44.545325756073 and parameters: {'num_layers': 5, 'hidden_dim': 64, 'dropout_rate': 0.17150824620064586, 'lr': 0.0017477130308533153, 'batch_size': 64}. Best is trial 5 with value: 2.365505576133728.\n",
      "[I 2025-06-20 10:57:06,113] Trial 9 finished with value: 73.2486834526062 and parameters: {'num_layers': 5, 'hidden_dim': 32, 'dropout_rate': 0.12886762955971662, 'lr': 0.0004478260345739734, 'batch_size': 64}. Best is trial 5 with value: 2.365505576133728.\n",
      "[I 2025-06-20 11:01:00,494] Trial 10 finished with value: 93.01774144172668 and parameters: {'num_layers': 6, 'hidden_dim': 64, 'dropout_rate': 0.0023034523923914254, 'lr': 0.00018128264225183765, 'batch_size': 32}. Best is trial 5 with value: 2.365505576133728.\n",
      "[I 2025-06-20 11:10:04,666] Trial 11 finished with value: 7.2566719736371725 and parameters: {'num_layers': 8, 'hidden_dim': 128, 'dropout_rate': 0.073544209076626, 'lr': 0.0007899296666451683, 'batch_size': 16}. Best is trial 5 with value: 2.365505576133728.\n",
      "[I 2025-06-20 11:14:52,834] Trial 12 finished with value: 1.236037965863943 and parameters: {'num_layers': 8, 'hidden_dim': 64, 'dropout_rate': 0.03730023499827301, 'lr': 0.0028494256085290657, 'batch_size': 32}. Best is trial 12 with value: 1.236037965863943.\n",
      "[I 2025-06-20 11:19:52,942] Trial 13 finished with value: 297.1165590286255 and parameters: {'num_layers': 8, 'hidden_dim': 32, 'dropout_rate': 0.03694991522704095, 'lr': 0.0019615696406126456, 'batch_size': 32}. Best is trial 12 with value: 1.236037965863943.\n",
      "[I 2025-06-20 11:31:33,344] Trial 14 finished with value: 2.546854908504183 and parameters: {'num_layers': 10, 'hidden_dim': 64, 'dropout_rate': 0.1324546904039503, 'lr': 0.0008866157360118487, 'batch_size': 16}. Best is trial 12 with value: 1.236037965863943.\n",
      "[I 2025-06-20 11:34:43,245] Trial 15 finished with value: 0.5486193876713514 and parameters: {'num_layers': 3, 'hidden_dim': 128, 'dropout_rate': 0.045151069653561894, 'lr': 0.0028691126025918784, 'batch_size': 32}. Best is trial 15 with value: 0.5486193876713514.\n",
      "[I 2025-06-20 11:40:53,995] Trial 16 finished with value: 97.15260195732117 and parameters: {'num_layers': 9, 'hidden_dim': 128, 'dropout_rate': 0.041338257758812356, 'lr': 0.0031549219193390634, 'batch_size': 32}. Best is trial 15 with value: 0.5486193876713514.\n",
      "[I 2025-06-20 11:47:24,663] Trial 17 finished with value: 16276.003021240234 and parameters: {'num_layers': 7, 'hidden_dim': 128, 'dropout_rate': 0.04265632889813373, 'lr': 0.00911648894755987, 'batch_size': 32}. Best is trial 15 with value: 0.5486193876713514.\n"
     ]
    }
   ],
   "source": [
    "# Crear estudio y ejecutar optimización\n",
    "study = optuna.create_study(\n",
    "    direction=\"minimize\",\n",
    "    study_name=\"gcn_study_1\",\n",
    "    storage=f\"sqlite:///{db_path}\",\n",
    "    load_if_exists=True\n",
    ")\n",
    "\n",
    "study.optimize(objective, n_trials=100)"
   ]
  },
  {
   "cell_type": "code",
   "execution_count": null,
   "id": "46b94be1",
   "metadata": {},
   "outputs": [],
   "source": [
    "\n",
    "print(\"Mejor conjunto de hiperparámetros encontrados:\")\n",
    "for key, val in study.best_trial.params.items():\n",
    "    print(f\"{key}: {val}\")\n"
   ]
  },
  {
   "cell_type": "code",
   "execution_count": null,
   "id": "38ba32cd",
   "metadata": {},
   "outputs": [],
   "source": [
    "\n",
    "import optuna.visualization.matplotlib as vis\n",
    "\n",
    "fig1 = vis.plot_optimization_history(study)\n",
    "fig1.show()\n",
    "\n",
    "fig2 = vis.plot_param_importances(study)\n",
    "fig2.show()\n"
   ]
  }
 ],
 "metadata": {
  "kernelspec": {
   "display_name": "Spacethermalpy",
   "language": "python",
   "name": "python3"
  },
  "language_info": {
   "codemirror_mode": {
    "name": "ipython",
    "version": 3
   },
   "file_extension": ".py",
   "mimetype": "text/x-python",
   "name": "python",
   "nbconvert_exporter": "python",
   "pygments_lexer": "ipython3",
   "version": "3.11.11"
  }
 },
 "nbformat": 4,
 "nbformat_minor": 5
}
