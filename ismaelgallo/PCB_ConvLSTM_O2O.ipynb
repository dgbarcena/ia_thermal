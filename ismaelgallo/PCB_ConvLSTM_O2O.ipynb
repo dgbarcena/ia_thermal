{
  "cells": [
    {
      "cell_type": "markdown",
      "id": "2d95600b",
      "metadata": {
        "id": "2d95600b"
      },
      "source": [
        "# Convolutional LSTM One To One Neural Network"
      ]
    },
    {
      "cell_type": "markdown",
      "id": "70aa002e",
      "metadata": {
        "id": "70aa002e"
      },
      "source": [
        "Implementing a Convolutional LSTM with 6 entry channels being them `[T_int, Q_heat, T_env, T_prev, mask_interfaces, mask_heaters]`, all in shape `[T, 13, 13]`. It predices the full `T` sequence of the system"
      ]
    },
    {
      "cell_type": "markdown",
      "id": "868ff05f",
      "metadata": {
        "id": "868ff05f"
      },
      "source": [
        "## Previous"
      ]
    },
    {
      "cell_type": "markdown",
      "id": "66fd24f5",
      "metadata": {
        "id": "66fd24f5"
      },
      "source": [
        "\n",
        "Esta celda detecta si el código se ejecuta en **Google Colab** o localmente, configura rutas base para guardar datasets y modelos, y crea los directorios necesarios si no existen.\n"
      ]
    },
    {
      "cell_type": "code",
      "execution_count": 1,
      "id": "5fd7e198",
      "metadata": {
        "id": "5fd7e198",
        "outputId": "83cc4f07-01c0-49c1-dec0-976363cb5419",
        "colab": {
          "base_uri": "https://localhost:8080/"
        }
      },
      "outputs": [
        {
          "output_type": "stream",
          "name": "stdout",
          "text": [
            "Drive already mounted at /content/drive; to attempt to forcibly remount, call drive.mount(\"/content/drive\", force_remount=True).\n",
            "✅ Entorno detectado: Colab\n",
            "📁 Ruta base: /content/drive/MyDrive/ia_thermal_colab\n",
            "📁 Ruta datasets: /content/drive/MyDrive/ia_thermal_colab/datasets\n",
            "📁 Ruta modelos: /content/drive/MyDrive/ia_thermal_colab/models\n"
          ]
        }
      ],
      "source": [
        "from pathlib import Path\n",
        "import os\n",
        "import IPython\n",
        "\n",
        "def detectar_entorno_colab():\n",
        "    try:\n",
        "        import google.colab\n",
        "        return True\n",
        "    except ImportError:\n",
        "        return False\n",
        "\n",
        "def configurar_rutas(base_local=None, base_colab=\"/content/drive/MyDrive/ia_thermal_colab\", verbose=True):\n",
        "    IN_COLAB = detectar_entorno_colab()\n",
        "\n",
        "    if IN_COLAB:\n",
        "        from google.colab import drive\n",
        "        drive.mount('/content/drive')\n",
        "        base_path = Path(base_colab)\n",
        "    else:\n",
        "        # ⚠️ Si no se pasa base_local, usar el directorio del notebook\n",
        "        if base_local is None:\n",
        "            base_path = Path.cwd()\n",
        "        else:\n",
        "            base_path = Path(base_local).expanduser().resolve()\n",
        "\n",
        "    datasets_path = base_path / \"datasets\"\n",
        "    models_path = base_path / \"models\"\n",
        "    datasets_path.mkdir(parents=True, exist_ok=True)\n",
        "    models_path.mkdir(parents=True, exist_ok=True)\n",
        "\n",
        "    if verbose:\n",
        "        print(\"✅ Entorno detectado:\", \"Colab\" if IN_COLAB else \"Local\")\n",
        "        print(\"📁 Ruta base:\", base_path)\n",
        "        print(\"📁 Ruta datasets:\", datasets_path)\n",
        "        print(\"📁 Ruta modelos:\", models_path)\n",
        "\n",
        "    return IN_COLAB, base_path, datasets_path, models_path\n",
        "\n",
        "# 🟢 Llamada principal\n",
        "IN_COLAB, BASE_PATH, DATASETS_PATH, MODELS_PATH = configurar_rutas()\n"
      ]
    },
    {
      "cell_type": "markdown",
      "id": "8829ed36",
      "metadata": {
        "id": "8829ed36"
      },
      "source": [
        "\n",
        "Esta celda clona el repositorio del proyecto en Colab, instala las dependencias desde `requirements.txt` y reinicia el entorno para aplicar los cambios.\n",
        "\n",
        "🔧 *Sugerencia*: podrías separar la clonación del repositorio y la instalación en funciones para mayor claridad y reutilización.\n"
      ]
    },
    {
      "cell_type": "code",
      "execution_count": 2,
      "id": "3659cd44",
      "metadata": {
        "id": "3659cd44",
        "outputId": "6c350529-bfb7-4210-f83e-890473058e43",
        "colab": {
          "base_uri": "https://localhost:8080/",
          "height": 69
        }
      },
      "outputs": [
        {
          "output_type": "stream",
          "name": "stdout",
          "text": [
            "📂 Repositorio ya clonado en: /content/drive/MyDrive/ia_thermal_colab/ia_thermal\n",
            "📦 Instalando dependencias desde requirements.txt...\n",
            "🔄 Reiniciando entorno para aplicar los cambios...\n"
          ]
        },
        {
          "output_type": "display_data",
          "data": {
            "text/plain": [
              "<IPython.core.display.Javascript object>"
            ],
            "application/javascript": [
              "google.colab.restartRuntime()"
            ]
          },
          "metadata": {}
        }
      ],
      "source": [
        "# 🔄 Parámetros del repositorio\n",
        "GIT_REPO_URL = \"https://github.com/ismaelgallolopez/ia_thermal.git\"  # 👈 Cambia si usas otro repo\n",
        "REPO_NAME = GIT_REPO_URL.split(\"/\")[-1].replace(\".git\", \"\")\n",
        "CLONE_PATH = BASE_PATH / REPO_NAME  # Usamos Path (de pathlib)\n",
        "\n",
        "def clonar_repo_si_no_existe(repo_url: str, clone_path: Path):\n",
        "    if not clone_path.exists():\n",
        "        print(f\"📥 Clonando repositorio en {clone_path}...\")\n",
        "        os.system(f\"git clone {repo_url} {clone_path}\")\n",
        "    else:\n",
        "        print(f\"📂 Repositorio ya clonado en: {clone_path}\")\n",
        "\n",
        "def instalar_requirements(clone_path: Path):\n",
        "    req_path = clone_path / \"requirements.txt\"\n",
        "    if req_path.exists():\n",
        "        print(\"📦 Instalando dependencias desde requirements.txt...\")\n",
        "        os.system(f\"pip install -r {req_path}\")\n",
        "    else:\n",
        "        print(\"⚠️ No se encontró requirements.txt en el repositorio.\")\n",
        "\n",
        "def reiniciar_entorno_colab():\n",
        "    print(\"🔄 Reiniciando entorno para aplicar los cambios...\")\n",
        "    display(IPython.display.Javascript('''google.colab.restartRuntime()'''))\n",
        "\n",
        "# 🧪 Ejecutar solo en Colab\n",
        "if IN_COLAB:\n",
        "    clonar_repo_si_no_existe(GIT_REPO_URL, CLONE_PATH)\n",
        "    instalar_requirements(CLONE_PATH)\n",
        "    reiniciar_entorno_colab()"
      ]
    },
    {
      "cell_type": "markdown",
      "id": "bfc9afcf",
      "metadata": {
        "id": "bfc9afcf"
      },
      "source": [
        "\n",
        "Se importan todas las librerías necesarias, tanto estándar como personalizadas. También se configura el path para poder importar módulos específicos según el entorno."
      ]
    },
    {
      "cell_type": "code",
      "execution_count": 3,
      "id": "59193a4a",
      "metadata": {
        "id": "59193a4a"
      },
      "outputs": [],
      "source": [
        "# Librerías estándar\n",
        "import os, sys, time, json, platform\n",
        "from datetime import datetime\n",
        "from typing import Sequence, Union, Optional\n",
        "\n",
        "# Visualización\n",
        "import matplotlib.pyplot as plt\n",
        "import seaborn as sns\n",
        "from tqdm import tqdm\n",
        "from IPython.display import display, Markdown\n",
        "\n",
        "# NumPy y ciencia de datos\n",
        "import numpy as np\n",
        "\n",
        "# PyTorch y entrenamiento\n",
        "import torch\n",
        "from torch import nn\n",
        "from torch.utils.data import Dataset, DataLoader, TensorDataset\n",
        "import torch.optim as optim\n",
        "from torch.optim.lr_scheduler import ReduceLROnPlateau\n",
        "\n",
        "# Optimización\n",
        "import optuna\n",
        "\n",
        "# Añadir rutas del proyecto (de forma portable)\n",
        "sys.path.append(str(BASE_PATH))\n",
        "sys.path.append(str(BASE_PATH / \"ia_thermal\"))\n",
        "sys.path.append(str(BASE_PATH / \"ia_thermal\" / \"ismaelgallo\"))\n",
        "sys.path.append(str(BASE_PATH.parent))\n",
        "\n",
        "# Módulos propios del proyecto\n",
        "from architectures.convlstm import *\n",
        "from Dataset_Class_convlstm import *\n",
        "from plot_functions import *\n",
        "from Physics_Loss import *\n",
        "from utils import *\n",
        "from scripts.PCB_solver_tr import *"
      ]
    },
    {
      "cell_type": "markdown",
      "id": "1f15d522",
      "metadata": {
        "id": "1f15d522"
      },
      "source": [
        "\n",
        "Esta celda detecta si hay una GPU disponible y selecciona `cuda` si es posible; de lo contrario, usa `cpu`. Muestra por pantalla qué dispositivo se está utilizando."
      ]
    },
    {
      "cell_type": "code",
      "execution_count": 4,
      "id": "52262b2f",
      "metadata": {
        "id": "52262b2f",
        "outputId": "90b71516-ae92-428e-91ab-bfd152decce1",
        "colab": {
          "base_uri": "https://localhost:8080/"
        }
      },
      "outputs": [
        {
          "output_type": "stream",
          "name": "stdout",
          "text": [
            "📟 Dispositivo seleccionado: cuda\n"
          ]
        }
      ],
      "source": [
        "def seleccionar_dispositivo(use_cuda: bool = True, verbose: bool = True) -> torch.device:\n",
        "    device = torch.device(\"cuda\" if torch.cuda.is_available() and use_cuda else \"cpu\")\n",
        "    if verbose:\n",
        "        print(\"📟 Dispositivo seleccionado:\", device)\n",
        "    return device\n",
        "\n",
        "# Ejecución\n",
        "device = seleccionar_dispositivo(use_cuda=True)"
      ]
    },
    {
      "cell_type": "markdown",
      "id": "8224edb2",
      "metadata": {
        "id": "8224edb2"
      },
      "source": [
        "\n",
        "Recopila información del sistema operativo, arquitectura, procesador, versión de Python, dispositivo de cómputo y, si hay GPU disponible, también su nombre, memoria y versión de CUDA.\n",
        "\n"
      ]
    },
    {
      "cell_type": "code",
      "execution_count": 5,
      "id": "202cd239",
      "metadata": {
        "id": "202cd239"
      },
      "outputs": [],
      "source": [
        "def get_system_specs(device: torch.device) -> dict:\n",
        "    specs = {\n",
        "        \"os\": platform.system(),\n",
        "        \"os_version\": platform.version(),\n",
        "        \"machine\": platform.machine(),\n",
        "        \"processor\": platform.processor(),\n",
        "        \"python_version\": platform.python_version(),\n",
        "        \"device\": str(device)\n",
        "    }\n",
        "    if torch.cuda.is_available():\n",
        "        specs[\"gpu_name\"] = torch.cuda.get_device_name(0)\n",
        "        specs[\"gpu_memory_total_GB\"] = round(torch.cuda.get_device_properties(0).total_memory / (1024**3), 2)\n",
        "        specs[\"cuda_version\"] = torch.version.cuda\n",
        "    return specs\n",
        "\n",
        "# Obtener especificaciones del sistema\n",
        "system_specs = get_system_specs(device)"
      ]
    },
    {
      "cell_type": "markdown",
      "id": "26d60975",
      "metadata": {
        "id": "26d60975"
      },
      "source": [
        "\n",
        "Ajusta parámetros visuales para gráficos con matplotlib y seaborn, activando cuadrícula, tamaños de fuente adecuados y un estilo profesional para las figuras."
      ]
    },
    {
      "cell_type": "code",
      "execution_count": 6,
      "id": "89f0cd3a",
      "metadata": {
        "id": "89f0cd3a",
        "outputId": "ac1308ed-5f30-49f7-d5d7-7353c9600d1a",
        "colab": {
          "base_uri": "https://localhost:8080/"
        }
      },
      "outputs": [
        {
          "output_type": "stream",
          "name": "stdout",
          "text": [
            "🎨 Estilo gráfico configurado con fondo blanco y paleta 'colorblind'.\n"
          ]
        }
      ],
      "source": [
        "def configurar_graficos(verbose=False):\n",
        "    plt.rcParams.update({\n",
        "        'text.usetex': False,\n",
        "        'font.family': 'serif',\n",
        "        'axes.labelsize': 12,\n",
        "        'axes.titlesize': 14,\n",
        "        'legend.fontsize': 12,\n",
        "        'xtick.labelsize': 10,\n",
        "        'ytick.labelsize': 10,\n",
        "        'axes.grid': True,\n",
        "        'grid.alpha': 0.75,\n",
        "        'grid.linestyle': '--',\n",
        "        'lines.linewidth': 2,\n",
        "    })\n",
        "    sns.set_context('paper')\n",
        "    sns.set_style('whitegrid')\n",
        "    sns.set_palette('colorblind')  # Paleta con buen contraste y amigable\n",
        "    if verbose:\n",
        "        print(\"🎨 Estilo gráfico configurado con fondo blanco y paleta 'colorblind'.\")\n",
        "\n",
        "configurar_graficos(True)\n"
      ]
    },
    {
      "cell_type": "markdown",
      "id": "e5b93124",
      "metadata": {
        "id": "e5b93124"
      },
      "source": [
        "## Dataset import"
      ]
    },
    {
      "cell_type": "markdown",
      "id": "0b3667e7",
      "metadata": {
        "id": "0b3667e7"
      },
      "source": [
        "Define los hiperparámetros principales del experimento:\n",
        "\n",
        "- Número de muestras para entrenamiento, validación y test.\n",
        "- Duración de la simulación en segundos (`time_sim`) y su resolución temporal (`dt`).\n",
        "- Tamaño del batch (`batch_size`), temperatura inicial (no cambiar el valor por defecto) y número de nodos por lado del PCB.\n",
        "- La longitud de la secuencia temporal de salida se define como `time_sim + 1`.\n",
        "\n",
        "Este bloque establece los parámetros que controlan cómo se estructuran los datos y la simulación."
      ]
    },
    {
      "cell_type": "code",
      "execution_count": 7,
      "id": "a73e590a",
      "metadata": {
        "id": "a73e590a"
      },
      "outputs": [],
      "source": [
        "# ⚙️ Parámetros del conjunto de datos\n",
        "n_train = 1500    # Número de muestras para entrenamiento\n",
        "n_val = 200       # Número de muestras para validación\n",
        "n_test = 20       # Número de muestras para test\n",
        "\n",
        "# ⏱️ Parámetros temporales\n",
        "time_sim = 500    # Duración total de la simulación (s)\n",
        "dt = 1            # Paso de tiempo (s)\n",
        "sequence_length = time_sim + 1  # Longitud de la secuencia temporal (incluye t=0)\n",
        "\n",
        "# 🔥 Condiciones físicas\n",
        "T_init = 298.0    # Temperatura inicial (K)\n",
        "nodes_side = 13   # Número de nodos por lado en la malla del PCB (13x13)\n",
        "\n",
        "# 📦 Batch\n",
        "batch_size = 512  # Tamaño del batch\n"
      ]
    },
    {
      "cell_type": "markdown",
      "id": "72fffc41",
      "metadata": {
        "id": "72fffc41"
      },
      "source": [
        "Carga los datasets de entrenamiento, validación y test desde disco usando funciones personalizadas (`load_dataset_convlstm` y `load_trimmed_dataset_convlstm`), que también preparan los datos para ser usados por PyTorch.\n",
        "\n",
        "Después, crea los `DataLoader` para cada conjunto de datos:\n",
        "\n",
        "- `train_loader`: con `shuffle=True` para entrenamiento.\n",
        "- `val_loader` y `test_loader`: sin barajar, para validación y prueba.\n",
        "\n",
        "Estos objetos permiten iterar sobre los datos por batches durante el entrenamiento y evaluación.\n"
      ]
    },
    {
      "cell_type": "code",
      "execution_count": 8,
      "id": "c3b5858c",
      "metadata": {
        "id": "c3b5858c",
        "outputId": "50b77fbb-eaa7-4002-943c-a287d2fd3376",
        "colab": {
          "base_uri": "https://localhost:8080/"
        }
      },
      "outputs": [
        {
          "output_type": "stream",
          "name": "stdout",
          "text": [
            "✅ Cargando ConvLSTM transient dataset base desde: /content/drive/MyDrive/ia_thermal_colab/datasets/PCB_convlstm_6ch_transient_dataset.pth\n"
          ]
        },
        {
          "output_type": "stream",
          "name": "stderr",
          "text": [
            "/content/drive/MyDrive/ia_thermal_colab/ia_thermal/ismaelgallo/Dataset_Class_convlstm.py:31: FutureWarning: You are using `torch.load` with `weights_only=False` (the current default value), which uses the default pickle module implicitly. It is possible to construct malicious pickle data which will execute arbitrary code during unpickling (See https://github.com/pytorch/pytorch/blob/main/SECURITY.md#untrusted-models for more details). In a future release, the default value for `weights_only` will be flipped to `True`. This limits the functions that could be executed during unpickling. Arbitrary objects will no longer be allowed to be loaded via this mode unless they are explicitly allowlisted by the user via `torch.serialization.add_safe_globals`. We recommend you start setting `weights_only=True` for any use case where you don't have full control of the loaded file. Please open an issue on GitHub for any issues related to this experimental feature.\n",
            "  return torch.load(full_path)\n"
          ]
        },
        {
          "output_type": "stream",
          "name": "stdout",
          "text": [
            "✅ Cargando dataset train desde: /content/drive/MyDrive/ia_thermal_colab/datasets/PCB_convlstm_6ch_transient_dataset_train.pth\n"
          ]
        },
        {
          "output_type": "stream",
          "name": "stderr",
          "text": [
            "/content/drive/MyDrive/ia_thermal_colab/ia_thermal/ismaelgallo/Dataset_Class_convlstm.py:370: FutureWarning: You are using `torch.load` with `weights_only=False` (the current default value), which uses the default pickle module implicitly. It is possible to construct malicious pickle data which will execute arbitrary code during unpickling (See https://github.com/pytorch/pytorch/blob/main/SECURITY.md#untrusted-models for more details). In a future release, the default value for `weights_only` will be flipped to `True`. This limits the functions that could be executed during unpickling. Arbitrary objects will no longer be allowed to be loaded via this mode unless they are explicitly allowlisted by the user via `torch.serialization.add_safe_globals`. We recommend you start setting `weights_only=True` for any use case where you don't have full control of the loaded file. Please open an issue on GitHub for any issues related to this experimental feature.\n",
            "  base_dataset = torch.load(full_path)\n"
          ]
        },
        {
          "output_type": "stream",
          "name": "stdout",
          "text": [
            "📦 Dataset movido a: CUDA\n",
            "✅ Cargando dataset val desde: /content/drive/MyDrive/ia_thermal_colab/datasets/PCB_convlstm_6ch_transient_dataset_val.pth\n",
            "📦 Dataset movido a: CUDA\n",
            "✅ Cargando dataset test desde: /content/drive/MyDrive/ia_thermal_colab/datasets/PCB_convlstm_6ch_transient_dataset_test.pth\n",
            "📦 Dataset movido a: CUDA\n"
          ]
        }
      ],
      "source": [
        "# if IN_COLAB:\n",
        "#   dir_path = BASE_PATH\n",
        "\n",
        "dataset = load_dataset_convlstm(base_path=BASE_PATH)\n",
        "\n",
        "dataset_train = load_trimmed_dataset_convlstm(base_path=BASE_PATH, dataset_type='train', max_samples=n_train, time_steps_output=sequence_length, to_device=True)\n",
        "dataset_val = load_trimmed_dataset_convlstm(base_path=BASE_PATH, dataset_type='val', max_samples=n_val, time_steps_output=sequence_length, to_device=True)\n",
        "dataset_test = load_trimmed_dataset_convlstm(base_path=BASE_PATH, dataset_type='test', max_samples=n_test, time_steps_output=sequence_length, to_device=True)\n",
        "\n",
        "train_loader = DataLoader(dataset_train, batch_size=batch_size, shuffle=True)\n",
        "val_loader = DataLoader(dataset_val, batch_size=batch_size, shuffle=False)\n",
        "test_loader = DataLoader(dataset_test, batch_size=batch_size, shuffle=False)"
      ]
    },
    {
      "cell_type": "markdown",
      "id": "0031bb20",
      "metadata": {
        "id": "0031bb20"
      },
      "source": [
        "Muestra las dimensiones del primer batch de entrada (`x_batch`) y de salida (`y_batch`) provenientes del `train_loader`.\n",
        "\n",
        "Esto es útil para verificar que los datos han sido cargados correctamente y tienen las dimensiones esperadas.\n",
        "\n",
        "Se detiene tras el primer batch usando `break`.\n"
      ]
    },
    {
      "cell_type": "code",
      "execution_count": 9,
      "id": "193c6f7d",
      "metadata": {
        "id": "193c6f7d",
        "outputId": "f219dd9a-d390-4dfc-c262-d71538a45990",
        "colab": {
          "base_uri": "https://localhost:8080/"
        }
      },
      "outputs": [
        {
          "output_type": "stream",
          "name": "stdout",
          "text": [
            "x_batch shape: torch.Size([512, 11, 6, 13, 13])\n",
            "y_batch shape: torch.Size([512, 11, 1, 13, 13])\n"
          ]
        }
      ],
      "source": [
        "for x_batch, y_batch in train_loader:\n",
        "    print(\"x_batch shape:\", x_batch.shape)\n",
        "    print(\"y_batch shape:\", y_batch.shape)\n",
        "    break  # Solo muestra el primer batch"
      ]
    },
    {
      "cell_type": "markdown",
      "id": "ba69afe5",
      "metadata": {
        "id": "ba69afe5"
      },
      "source": [
        "Extrae un batch del `train_loader`, selecciona la última imagen temporal del primer ejemplo y la muestra usando un mapa de calor (`imshow` con `cmap='hot'`).\n",
        "\n",
        "Esto permite visualizar la distribución de temperatura final en el tiempo para ese ejemplo específico."
      ]
    },
    {
      "cell_type": "code",
      "execution_count": 10,
      "id": "d8a29642",
      "metadata": {
        "id": "d8a29642",
        "outputId": "5aa060e0-5530-4081-9220-0836117a7333",
        "colab": {
          "base_uri": "https://localhost:8080/",
          "height": 449
        }
      },
      "outputs": [
        {
          "output_type": "display_data",
          "data": {
            "text/plain": [
              "<Figure size 640x480 with 2 Axes>"
            ],
            "image/png": "[encoded data removed]"
          },
          "metadata": {}
        }
      ],
      "source": [
        "# Obtener primer batch\n",
        "x_batch, _ = next(iter(train_loader))\n",
        "\n",
        "# Seleccionar el último mapa de temperatura del primer ejemplo\n",
        "x_tfinal = x_batch[0, -1, -1]  # Shape: (C, H, W) -> (-1) para último paso temporal\n",
        "\n",
        "# Mostrar el mapa térmico\n",
        "plt.imshow(x_tfinal.cpu().numpy(), cmap='hot', interpolation='nearest')\n",
        "plt.title(\"Temperatura final (último paso temporal)\")\n",
        "plt.colorbar(label=\"Temperatura (K)\")\n",
        "plt.grid(False)\n",
        "plt.show()\n"
      ]
    },
    {
      "cell_type": "markdown",
      "id": "147eb34c",
      "metadata": {
        "id": "147eb34c"
      },
      "source": [
        "## Non-physics ConvLSTM"
      ]
    },
    {
      "cell_type": "markdown",
      "id": "99ddb95c",
      "metadata": {
        "id": "99ddb95c"
      },
      "source": [
        "### Hyperparameters"
      ]
    },
    {
      "cell_type": "markdown",
      "id": "886d959b",
      "metadata": {
        "id": "886d959b"
      },
      "source": [
        "Define los hiperparámetros del entrenamiento:\n",
        "\n",
        "- Número de épocas (`epochs`)\n",
        "- Tasa de aprendizaje inicial (`lr`) y su factor de decaimiento (`lrdecay`)\n",
        "- Paciencia para reducir el `lr` (`lrdecay_patience`) y para aplicar `early stopping` (`early_stop_patience`)\n",
        "- Arquitectura del modelo: número de filtros por capa en `hidden_dims` y tamaño del kernel\n",
        "\n",
        "Estos valores controlan el comportamiento del optimizador y la estructura de la red ConvLSTM.\n"
      ]
    },
    {
      "cell_type": "code",
      "execution_count": 11,
      "id": "314af641",
      "metadata": {
        "id": "314af641"
      },
      "outputs": [],
      "source": [
        "# ⚙️ Hiperparámetros de entrenamiento\n",
        "epochs = 500\n",
        "lr = 1e-2\n",
        "lrdecay = 0.1\n",
        "lrdecay_patience = 10\n",
        "early_stop_patience = 50\n",
        "\n",
        "# 🧠 Arquitectura ConvLSTM\n",
        "hidden_dims = [64, 64]                     # Número de filtros por capa\n",
        "num_layers = len(hidden_dims)\n",
        "kernel_size = [(5, 5)] * num_layers        # Kernel de cada capa (igual para todas)"
      ]
    },
    {
      "cell_type": "markdown",
      "id": "f2e990ae",
      "metadata": {
        "id": "f2e990ae"
      },
      "source": [
        "### Model definition"
      ]
    },
    {
      "cell_type": "markdown",
      "id": "b9aa29d9",
      "metadata": {
        "id": "b9aa29d9"
      },
      "source": [
        "Define la clase `PCB_ConvLSTM`, una red neuronal basada en ConvLSTM para predecir la evolución térmica en un PCB.\n",
        "\n",
        "- Usa `ConvLSTM` como núcleo para modelar la secuencia temporal.\n",
        "- Incluye una capa `Conv2d` de 1x1 al final para proyectar la salida oculta a un canal de temperatura.\n",
        "- El método `forward` procesa secuencias completas (`seq_len > 1`), mientras que `forward_step` permite avanzar un paso en modo autoregresivo.\n",
        "\n",
        "Esta arquitectura es adecuada para secuencias espacio-temporales de mapas térmicos.\n"
      ]
    },
    {
      "cell_type": "code",
      "execution_count": 12,
      "id": "c431cd69",
      "metadata": {
        "id": "c431cd69"
      },
      "outputs": [],
      "source": [
        "class PCB_ConvLSTM(nn.Module):\n",
        "    def __init__(self, input_channels=6, hidden_dims=hidden_dims, kernel_size=kernel_size, height=13, width=13):\n",
        "        super().__init__()\n",
        "        self.height = height\n",
        "        self.width = width\n",
        "        self.num_layers = len(hidden_dims)\n",
        "\n",
        "        self.convlstm = ConvLSTM(\n",
        "            input_dim=input_channels,\n",
        "            hidden_dim=hidden_dims,\n",
        "            kernel_size=kernel_size,\n",
        "            num_layers=self.num_layers,\n",
        "            batch_first=True,\n",
        "            bias=True,\n",
        "            return_all_layers=False\n",
        "        )\n",
        "        self.decoder = nn.Conv2d(hidden_dims[-1], 1, kernel_size=1)\n",
        "\n",
        "    def forward(self, x, hidden=None):\n",
        "        \"\"\"\n",
        "        x      : (B, T, 6, H, W)\n",
        "        hidden : lista de (h,c) por capa, o None\n",
        "        returns: preds (B, T, 1, H, W), hidden\n",
        "        \"\"\"\n",
        "        layer_output_list, hidden = self.convlstm(x, hidden)\n",
        "        h_seq = layer_output_list[0]                # (B, T, hidden_dim, H, W)\n",
        "        B, T, C_h, H, W = h_seq.shape\n",
        "\n",
        "        h_flat = h_seq.contiguous().view(B*T, C_h, H, W)\n",
        "        dec_flat = self.decoder(h_flat)\n",
        "        preds = dec_flat.view(B, T, 1, H, W)\n",
        "        return preds, hidden\n",
        "\n",
        "    def forward_step(self, x_t, hidden=None):\n",
        "        \"\"\"\n",
        "        Un paso de secuencia (seq_len=1).\n",
        "        x_t    : (B, 1, 6, H, W)\n",
        "        hidden : estado previo\n",
        "        returns: pred (B, 1, 1, H, W), hidden\n",
        "        \"\"\"\n",
        "        pred, hidden = self.forward(x_t, hidden)\n",
        "        return pred, hidden"
      ]
    },
    {
      "cell_type": "markdown",
      "id": "b9537991",
      "metadata": {
        "id": "b9537991"
      },
      "source": [
        "Instancia el modelo `PCB_ConvLSTM` y lo envía al dispositivo adecuado (`cpu` o `cuda`).\n",
        "\n",
        "Se define:\n",
        "\n",
        "- `criterion`: función de pérdida MSE.\n",
        "- `optimizer`: Adam con la tasa de aprendizaje definida previamente.\n",
        "- `scheduler`: ReduceLROnPlateau para ajustar el `lr` si la pérdida se estanca."
      ]
    },
    {
      "cell_type": "code",
      "execution_count": 13,
      "id": "5de463c4",
      "metadata": {
        "id": "5de463c4",
        "outputId": "61feeb5a-f7ad-40a4-f839-ae2ba41aec5e",
        "colab": {
          "base_uri": "https://localhost:8080/"
        }
      },
      "outputs": [
        {
          "output_type": "stream",
          "name": "stdout",
          "text": [
            "Modelo en dispositivo: cuda\n",
            "Parámetros totales: 1,267,777\n"
          ]
        }
      ],
      "source": [
        "# Inicializar el modelo\n",
        "model = PCB_ConvLSTM(\n",
        "    input_channels=6,\n",
        "    hidden_dims=hidden_dims,\n",
        "    kernel_size=kernel_size\n",
        ").to(device)\n",
        "\n",
        "# Pérdida y optimizador\n",
        "criterion = nn.MSELoss()\n",
        "optimizer = torch.optim.Adam(model.parameters(), lr=lr)\n",
        "scheduler = ReduceLROnPlateau(optimizer, mode='min', factor=lrdecay, patience=lrdecay_patience)\n",
        "\n",
        "# Mostrar información básica del modelo\n",
        "print(f\"Modelo en dispositivo: {device}\")\n",
        "print(f\"Parámetros totales: {sum(p.numel() for p in model.parameters() if p.requires_grad):,}\")"
      ]
    },
    {
      "cell_type": "markdown",
      "id": "2ea582d8",
      "metadata": {
        "id": "2ea582d8"
      },
      "source": [
        "### 🧪 Entrenamiento del modelo\n"
      ]
    },
    {
      "cell_type": "markdown",
      "id": "174c2b2f",
      "metadata": {
        "id": "174c2b2f"
      },
      "source": [
        "Define los hiperparámetros para el *scheduled sampling*, una técnica para entrenamiento autoregresivo:\n",
        "\n",
        "- `p0`: probabilidad inicial de usar el valor real (ground truth).\n",
        "- `p_min`: probabilidad mínima de usar GT al final del entrenamiento.\n",
        "- `decay_epochs`: número de épocas en las que se reducirá `p0` hasta `p_min`.\n",
        "\n",
        "Esta técnica ayuda a la red a adaptarse gradualmente a predecir sin necesidad del ground truth.\n"
      ]
    },
    {
      "cell_type": "code",
      "execution_count": 14,
      "id": "d1b10ed6",
      "metadata": {
        "id": "d1b10ed6"
      },
      "outputs": [],
      "source": [
        "# Hiper-parámetros de scheduled sampling\n",
        "p0              = 1.0            # probabilidad inicial de usar GT\n",
        "p_min           = 0.0            # probabilidad final de usar GT\n",
        "decay_epochs    = epochs // 5    # en cuántas épocas bajar de p0 a p_min"
      ]
    },
    {
      "cell_type": "markdown",
      "id": "3b089971",
      "metadata": {
        "id": "3b089971"
      },
      "source": [
        "Inicializa las variables de entrenamiento y prepara el sistema para **reanudar una sesión previa** si existe:\n",
        "\n",
        "- Crea la carpeta de salida.\n",
        "- Construye el nombre del fichero de modelo según los hiperparámetros.\n",
        "- Si encuentra un modelo `.pth` guardado, lo carga junto con su configuración `.json`.\n",
        "- Si no hay modelo previo, inicia un nuevo entrenamiento desde cero.\n",
        "\n",
        "Esta lógica permite continuar el entrenamiento sin perder el progreso.\n"
      ]
    },
    {
      "cell_type": "code",
      "execution_count": 15,
      "id": "1aed16b6",
      "metadata": {
        "id": "1aed16b6",
        "outputId": "d97280ef-52b0-45d8-bc0b-6640b11f6bf3",
        "colab": {
          "base_uri": "https://localhost:8080/",
          "height": 84
        }
      },
      "outputs": [
        {
          "output_type": "display_data",
          "data": {
            "text/plain": [
              "<IPython.core.display.Markdown object>"
            ],
            "text/markdown": "✨ Nuevo entrenamiento: `PCB_ConvLSTM_6ch_nt1500_500s_bs512_h64-64_k5x5.pth`"
          },
          "metadata": {}
        },
        {
          "output_type": "stream",
          "name": "stdout",
          "text": [
            "📁 Los resultados se guardarán en: /content/drive/MyDrive/ia_thermal_colab/models/ConvLSTM_6ch/stateful_O2O/PCB_ConvLSTM_6ch_nt1500_500s_bs512_h64-64_k5x5.json\n"
          ]
        }
      ],
      "source": [
        "# Puedes cambiar esta ruta a mano si quieres usar una carpeta concreta\n",
        "# Si dejas None, guardará en MODELS_PATH/ConvLSTM_6ch/stateful_O2O\n",
        "custom_model_dir = None  # por ejemplo: Path(\"~/experimentos/cheops_v3\").expanduser()\n",
        "\n",
        "# ----------- Configurar ruta de guardado -----------\n",
        "kernel_string = f\"{kernel_size[0][0]}x{kernel_size[0][1]}\"\n",
        "layer_string = \"-\".join(str(d) for d in hidden_dims)\n",
        "\n",
        "if custom_model_dir is None:\n",
        "    model_dir = MODELS_PATH / \"ConvLSTM_6ch\" / \"stateful_O2O\"\n",
        "else:\n",
        "    model_dir = Path(custom_model_dir).resolve()\n",
        "\n",
        "model_dir.mkdir(parents=True, exist_ok=True)\n",
        "\n",
        "filename = f\"PCB_ConvLSTM_6ch_nt{n_train}_{time_sim}s_bs{batch_size}_h{layer_string}_k{kernel_string}.pth\"\n",
        "model_path = model_dir / filename\n",
        "json_path = model_path.with_suffix(\".json\")\n",
        "\n",
        "# ----------- Inicialización de estado -----------\n",
        "train_loss = []\n",
        "val_loss = []\n",
        "best_val_loss = np.inf\n",
        "elapsed_previous = 0.0\n",
        "start_epoch = 0\n",
        "start_datetime = datetime.now().strftime(\"%Y-%m-%d %H:%M:%S\")\n",
        "epochs_without_improvement = 0\n",
        "\n",
        "# ----------- Lógica de reanudación -----------\n",
        "if model_path.exists():\n",
        "    display(Markdown(f\"🔁 Cargando modelo existente `{filename}` y reanudando entrenamiento.\"))\n",
        "    model.load_state_dict(torch.load(model_path, map_location=device))\n",
        "\n",
        "    if json_path.exists():\n",
        "        with open(json_path, 'r') as f:\n",
        "            prev = json.load(f)\n",
        "        best_val_loss = prev.get('best_val_loss', best_val_loss)\n",
        "        train_loss = prev.get('train_loss', [])\n",
        "        val_loss = prev.get('val_loss', [])\n",
        "        elapsed_previous = prev.get('training_duration_minutes', 0.0)\n",
        "        start_datetime = prev.get('start_datetime', start_datetime)\n",
        "        start_epoch = prev.get('epochs_trained', 0)\n",
        "        epochs_without_improvement = 0\n",
        "    else:\n",
        "        display(Markdown(\"⚠️ No se encontró JSON de hiperparámetros; se reinicia contadores.\"))\n",
        "else:\n",
        "    display(Markdown(f\"✨ Nuevo entrenamiento: `{filename}`\"))\n",
        "\n",
        "print(\"📁 Los resultados se guardarán en:\", json_path)\n"
      ]
    },
    {
      "cell_type": "markdown",
      "id": "d3bc3aa5",
      "metadata": {
        "id": "d3bc3aa5"
      },
      "source": [
        "Define el **bucle de entrenamiento completo** para la red `PCB_ConvLSTM`, incluyendo:\n",
        "\n",
        "- Entrenamiento paso a paso con *scheduled sampling* autoregresivo.\n",
        "- Validación del modelo tras cada época.\n",
        "- Ajuste automático de la tasa de aprendizaje con `ReduceLROnPlateau`.\n",
        "- Early stopping si no hay mejora tras cierto número de épocas.\n",
        "- Guardado del mejor modelo y de los resultados en un archivo `.json`.\n",
        "\n",
        "El entrenamiento es completamente reproducible y robusto frente a interrupciones.\n"
      ]
    },
    {
      "cell_type": "code",
      "execution_count": 16,
      "id": "db47a35d",
      "metadata": {
        "id": "db47a35d"
      },
      "outputs": [],
      "source": [
        "# def entrenar_modelo(model, train_loader, val_loader, criterion, optimizer, scheduler,\n",
        "#                     model_path, json_path, epochs, early_stop_patience,\n",
        "#                     p0=1.0, p_min=0.0, decay_epochs=50,\n",
        "#                     device='cpu', start_epoch=0, train_loss=None, val_loss=None,\n",
        "#                     best_val_loss=float('inf'), elapsed_previous=0.0,\n",
        "#                     start_datetime=None, system_specs=None):\n",
        "#     \"\"\"\n",
        "#     Entrena el modelo ConvLSTM con scheduled sampling, validación, scheduler y early stopping.\n",
        "#     Guarda el mejor modelo y los parámetros en disco.\n",
        "#     \"\"\"\n",
        "\n",
        "#     if train_loss is None:\n",
        "#         train_loss = []\n",
        "#     if val_loss is None:\n",
        "#         val_loss = []\n",
        "#     if start_datetime is None:\n",
        "#         start_datetime = time.strftime(\"%Y-%m-%d %H:%M:%S\")\n",
        "\n",
        "#     elapsed_minutes = elapsed_previous\n",
        "#     start_time_training = time.time() - (elapsed_previous * 60)\n",
        "#     epochs_without_improvement = 0\n",
        "\n",
        "#     for epoch in range(start_epoch, epochs):\n",
        "#         model.train()\n",
        "#         total_loss = 0.0\n",
        "#         p_gt = max(p_min, p0 - (epoch * (p0 - p_min) / decay_epochs))\n",
        "\n",
        "#         for x_batch, y_batch in tqdm(train_loader,\n",
        "#                                      desc=f\"Epoch {epoch+1}/{epochs} - Training\",\n",
        "#                                      leave=False):\n",
        "#             x_batch, y_batch = x_batch.to(device), y_batch.to(device)\n",
        "#             B, T, _, H, W = x_batch.shape\n",
        "\n",
        "#             bc_seq = x_batch[:, :, :5]        # (B, T, 5, H, W)\n",
        "#             t_prev = x_batch[:, 0, 5:6]       # (B, 1, H, W)\n",
        "#             hidden = None\n",
        "#             loss_accum = 0.0\n",
        "\n",
        "#             for t in range(T):\n",
        "#                 if t == 0:\n",
        "#                     t_in = t_prev\n",
        "#                 else:\n",
        "#                     mask = (torch.rand(B,1,1,1,device=device) < p_gt).float()\n",
        "#                     t_in  = mask * y_batch[:, t-1] + (1-mask) * t_prev.detach()\n",
        "\n",
        "#                 x_t = torch.cat([bc_seq[:, t], t_in], dim=1).unsqueeze(1)  # (B,1,6,H,W)\n",
        "#                 pred_seq, hidden = model(x_t, hidden)\n",
        "#                 t_prev = pred_seq[:, 0]\n",
        "#                 loss_accum += criterion(t_prev, y_batch[:, t])\n",
        "\n",
        "#             loss_batch = loss_accum / T\n",
        "#             optimizer.zero_grad()\n",
        "#             loss_batch.backward()\n",
        "#             optimizer.step()\n",
        "#             total_loss += loss_batch.item()\n",
        "\n",
        "#         epoch_train_loss = total_loss / len(train_loader)\n",
        "#         train_loss.append(epoch_train_loss)\n",
        "\n",
        "#         # Validación\n",
        "#         model.eval()\n",
        "#         total_val_loss = 0.0\n",
        "#         with torch.no_grad():\n",
        "#             for x_val, y_val in val_loader:\n",
        "#                 x_val, y_val = x_val.to(device), y_val.to(device)\n",
        "#                 Bv, Tv, _, Hv, Wv = x_val.shape\n",
        "\n",
        "#                 bc_v     = x_val[:, :, :5]\n",
        "#                 t_prev_v = x_val[:, 0, 5:6]\n",
        "#                 hidden_v = None\n",
        "#                 val_acc  = 0.0\n",
        "\n",
        "#                 for t in range(Tv):\n",
        "#                     x_tv = torch.cat([bc_v[:, t], t_prev_v], dim=1).unsqueeze(1)\n",
        "#                     pred_v, hidden_v = model(x_tv, hidden_v)\n",
        "#                     t_prev_v = pred_v[:, 0]\n",
        "#                     val_acc += criterion(t_prev_v, y_val[:, t])\n",
        "\n",
        "#                 val_loss_batch = val_acc / Tv\n",
        "#                 total_val_loss += val_loss_batch.item()\n",
        "\n",
        "#         epoch_val_loss = total_val_loss / len(val_loader)\n",
        "#         val_loss.append(epoch_val_loss)\n",
        "\n",
        "#         # Scheduler\n",
        "#         scheduler.step(epoch_val_loss)\n",
        "\n",
        "#         # Early stopping & Guardado\n",
        "#         elapsed_training = time.time() - start_time_training\n",
        "#         elapsed_minutes = elapsed_training / 60\n",
        "#         current_lr = optimizer.param_groups[0]['lr']\n",
        "\n",
        "#         if epoch_val_loss < best_val_loss:\n",
        "#             best_val_loss = epoch_val_loss\n",
        "#             torch.save(model.state_dict(), model_path)\n",
        "#             epochs_without_improvement = 0\n",
        "#         else:\n",
        "#             epochs_without_improvement += 1\n",
        "#             if epochs_without_improvement >= early_stop_patience:\n",
        "#                 print(f\"⚠️ Early stopping en epoch {epoch+1}\")\n",
        "#                 break\n",
        "\n",
        "#         # Guardado JSON\n",
        "#         params = {\n",
        "#             'start_datetime': start_datetime,\n",
        "#             'training_duration_minutes': elapsed_minutes,\n",
        "#             'system_specs': system_specs,\n",
        "#             'hidden_dims': list(model.convlstm.hidden_dim),\n",
        "#             'kernel_size': model.convlstm.kernel_size[0],\n",
        "#             'batch_size': train_loader.batch_size,\n",
        "#             'lr': optimizer.param_groups[0]['lr'],\n",
        "#             'scheduler': {\n",
        "#                 'type': 'ReduceLROnPlateau',\n",
        "#                 'factor': scheduler.factor,\n",
        "#                 'patience': scheduler.patience,\n",
        "#                 'final_lr': current_lr\n",
        "#             },\n",
        "#             'early_stop_patience': early_stop_patience,\n",
        "#             'epochs_trained': epoch + 1,\n",
        "#             'best_val_loss': best_val_loss,\n",
        "#             'train_loss': train_loss,\n",
        "#             'val_loss': val_loss,\n",
        "#         }\n",
        "#         with open(json_path, 'w') as f:\n",
        "#             json.dump(params, f, indent=4)\n",
        "\n",
        "#     print(f\"Entrenamiento finalizado en {elapsed_minutes:.2f} minutos.\")\n",
        "#     return train_loss, val_loss, best_val_loss\n"
      ]
    },
    {
      "cell_type": "code",
      "execution_count": 21,
      "id": "36c72c78",
      "metadata": {
        "id": "36c72c78"
      },
      "outputs": [],
      "source": [
        "# 1) Desactivar CUDAGraphs globalmente (antes de importar torch._inductor)\n",
        "import os\n",
        "os.environ[\"TORCHINDUCTOR_DISABLE_CUDAGRAPHS\"] = \"1\"\n",
        "\n",
        "# 2) Imports y configuración\n",
        "import json\n",
        "import time\n",
        "import torch\n",
        "import torch._dynamo\n",
        "from torch import amp\n",
        "from tqdm import tqdm\n",
        "from contextlib import nullcontext\n",
        "\n",
        "# Si torch.compile lanza errores, cae a modo eager\n",
        "torch._dynamo.config.suppress_errors = True\n",
        "\n",
        "def entrenar_modelo_cuda(\n",
        "        model, train_loader, val_loader,\n",
        "        criterion, optimizer, scheduler,\n",
        "        model_path, json_path,\n",
        "        epochs, early_stop_patience,\n",
        "        p0=1.0, p_min=0.0, decay_epochs=50,\n",
        "        device=None, start_epoch=0,\n",
        "        train_loss=None, val_loss=None,\n",
        "        best_val_loss=float('inf'),\n",
        "        elapsed_previous=0.0,\n",
        "        start_datetime=None,\n",
        "        system_specs=None,\n",
        "        amp_enabled=True,   # mixtura de precisión\n",
        "        clip_grad=None,\n",
        "        use_compile=True):  # activar torch.compile\n",
        "\n",
        "    # Preparación\n",
        "    device = device or torch.device('cuda' if torch.cuda.is_available() else 'cpu')\n",
        "    model  = model.to(device)\n",
        "\n",
        "    # torch.compile con mode reduce-overhead (CUDAGraphs ya desactivado via env var)\n",
        "    if use_compile and torch.__version__ >= '2' and device.type == 'cuda':\n",
        "        props = torch.cuda.get_device_properties(device)\n",
        "        if props.major >= 7:\n",
        "            model = torch.compile(model, mode=\"reduce-overhead\")\n",
        "            print(\"Modelo compilado (CUDAGraphs desactivado).\")\n",
        "        else:\n",
        "            print(f\"torch.compile desactivado: CC {props.major}.{props.minor} < 7.0\")\n",
        "\n",
        "    torch.backends.cudnn.benchmark = True\n",
        "\n",
        "    # AMP: GradScaler y autocast (API torch.amp)\n",
        "    scaler = amp.GradScaler(enabled=amp_enabled)\n",
        "    autocast_ctx = (lambda: amp.autocast(device_type='cuda',\n",
        "                                         dtype=torch.float16,\n",
        "                                         enabled=True)) if amp_enabled else nullcontext\n",
        "\n",
        "    # Inicializar listas y tiempos\n",
        "    train_loss = [] if train_loss is None else train_loss\n",
        "    val_loss   = [] if val_loss   is None else val_loss\n",
        "    start_datetime = start_datetime or time.strftime(\"%Y-%m-%d %H:%M:%S\")\n",
        "    start_time_training = time.time() - elapsed_previous*60\n",
        "    epochs_without_improvement = 0\n",
        "\n",
        "    # Bucle de epochs\n",
        "    for epoch in range(start_epoch, epochs):\n",
        "        model.train()\n",
        "        total_loss = 0.0\n",
        "        p_gt = max(p_min, p0 - epoch*(p0-p_min)/decay_epochs)\n",
        "\n",
        "        for x_batch, y_batch in tqdm(train_loader,\n",
        "                                     desc=f\"Epoch {epoch+1}/{epochs}\",\n",
        "                                     leave=False):\n",
        "            x_batch = x_batch.to(device, non_blocking=True)\n",
        "            y_batch = y_batch.to(device, non_blocking=True)\n",
        "            _, T, _, _, _ = x_batch.shape\n",
        "\n",
        "            bc_seq, t_prev = x_batch[:, :, :5], x_batch[:, 0, 5:6]\n",
        "            hidden, loss_accum = None, 0.0\n",
        "\n",
        "            optimizer.zero_grad(set_to_none=True)\n",
        "            with autocast_ctx():\n",
        "                for t in range(T):\n",
        "                    if t == 0:\n",
        "                        t_in = t_prev\n",
        "                    else:\n",
        "                        mask = (torch.rand_like(t_prev) < p_gt).float()\n",
        "                        t_in = mask * y_batch[:, t-1] + (1-mask) * t_prev.detach()\n",
        "\n",
        "                    x_t = torch.cat([bc_seq[:, t], t_in], dim=1).unsqueeze(1)\n",
        "                    pred_seq, hidden = model(x_t, hidden)\n",
        "                    t_prev = pred_seq[:, 0]\n",
        "                    loss_accum += criterion(t_prev, y_batch[:, t])\n",
        "\n",
        "                loss_batch = loss_accum / T\n",
        "\n",
        "            scaler.scale(loss_batch).backward()\n",
        "            if clip_grad:\n",
        "                scaler.unscale_(optimizer)\n",
        "                torch.nn.utils.clip_grad_norm_(model.parameters(), clip_grad)\n",
        "            scaler.step(optimizer)\n",
        "            scaler.update()\n",
        "            total_loss += loss_batch.item()\n",
        "\n",
        "        train_loss.append(total_loss/len(train_loader))\n",
        "\n",
        "        # Validación\n",
        "        epoch_val_loss = _validacion(model, val_loader, criterion, device)\n",
        "        val_loss.append(epoch_val_loss)\n",
        "\n",
        "        # Scheduler & Early stopping\n",
        "        scheduler.step(epoch_val_loss)\n",
        "        lr = optimizer.param_groups[0]['lr']\n",
        "        if epoch_val_loss < best_val_loss:\n",
        "            best_val_loss = epoch_val_loss\n",
        "            torch.save(model.state_dict(), model_path)\n",
        "            epochs_without_improvement = 0\n",
        "        else:\n",
        "            epochs_without_improvement += 1\n",
        "            if epochs_without_improvement >= early_stop_patience:\n",
        "                print(f\"⚠️ Early stopping en epoch {epoch+1}\")\n",
        "                break\n",
        "\n",
        "        # Guardar parametros en JSON\n",
        "        _guardar_json(json_path, {\n",
        "            'start_datetime': start_datetime,\n",
        "            'training_duration_minutes': (time.time()-start_time_training)/60,\n",
        "            'system_specs': system_specs,\n",
        "            'hidden_dims': list(model.convlstm.hidden_dim),\n",
        "            'kernel_size': model.convlstm.kernel_size[0],\n",
        "            'batch_size': train_loader.batch_size,\n",
        "            'lr': lr,\n",
        "            'scheduler': {\n",
        "                'type':'ReduceLROnPlateau',\n",
        "                'factor':scheduler.factor,\n",
        "                'patience':scheduler.patience,\n",
        "                'final_lr':lr\n",
        "            },\n",
        "            'early_stop_patience':early_stop_patience,\n",
        "            'epochs_trained':epoch+1,\n",
        "            'best_val_loss':best_val_loss,\n",
        "            'train_loss':train_loss,\n",
        "            'val_loss':val_loss\n",
        "        })\n",
        "\n",
        "    print(f\"Entrenamiento finalizado en {(time.time()-start_time_training)/60:.2f} min\")\n",
        "    return train_loss, val_loss, best_val_loss\n",
        "\n",
        "# Funciones auxiliares\n",
        "def _validacion(model, val_loader, criterion, device):\n",
        "    model.eval()\n",
        "    total = 0.0\n",
        "    with torch.no_grad():\n",
        "        for x_val, y_val in val_loader:\n",
        "            x_val = x_val.to(device, non_blocking=True)\n",
        "            y_val = y_val.to(device, non_blocking=True)\n",
        "            _, T, _, _, _ = x_val.shape\n",
        "            bc_seq, t_prev = x_val[:, :, :5], x_val[:, 0, 5:6]\n",
        "            hidden, loss_accum = None, 0.0\n",
        "            for t in range(T):\n",
        "                x_t = torch.cat([bc_seq[:, t], t_prev], dim=1).unsqueeze(1)\n",
        "                pred_seq, hidden = model(x_t, hidden)\n",
        "                t_prev = pred_seq[:, 0]\n",
        "                loss_accum += criterion(t_prev, y_val[:, t])\n",
        "            total += (loss_accum/T).item()\n",
        "    return total/len(val_loader)\n",
        "\n",
        "def _guardar_json(ruta, params):\n",
        "    with open(ruta, 'w') as f:\n",
        "        json.dump(params, f, indent=4)\n",
        "\n",
        "\n",
        "\n",
        "# Auxiliares\n",
        "\n",
        "def _validacion(model, val_loader, criterion, device):\n",
        "    model.eval()\n",
        "    total = 0.0\n",
        "    with torch.no_grad():\n",
        "        for x_val, y_val in val_loader:\n",
        "            x_val = x_val.to(device, non_blocking=True)\n",
        "            y_val = y_val.to(device, non_blocking=True)\n",
        "            _, T, _, _, _ = x_val.shape\n",
        "\n",
        "            bc_seq, t_prev = x_val[:, :, :5], x_val[:, 0, 5:6]\n",
        "            hidden, loss_accum = None, 0.0\n",
        "\n",
        "            for t in range(T):\n",
        "                x_t = torch.cat([bc_seq[:, t], t_prev], dim=1).unsqueeze(1)\n",
        "                pred_seq, hidden = model(x_t, hidden)\n",
        "                t_prev = pred_seq[:, 0]\n",
        "                loss_accum += criterion(t_prev, y_val[:, t])\n",
        "\n",
        "            total += (loss_accum / T).item()\n",
        "    return total / len(val_loader)\n",
        "\n",
        "def _guardar_json(ruta, params):\n",
        "    with open(ruta, 'w') as f:\n",
        "        json.dump(params, f, indent=4)\n"
      ]
    },
    {
      "cell_type": "code",
      "execution_count": 23,
      "id": "7bf4d008",
      "metadata": {
        "id": "7bf4d008",
        "outputId": "9d81f077-c305-43c4-f9a2-08157325e1d3",
        "colab": {
          "base_uri": "https://localhost:8080/",
          "height": 356
        }
      },
      "outputs": [
        {
          "output_type": "stream",
          "name": "stderr",
          "text": []
        },
        {
          "output_type": "error",
          "ename": "KeyboardInterrupt",
          "evalue": "",
          "traceback": [
            "\u001b[0;31m---------------------------------------------------------------------------\u001b[0m",
            "\u001b[0;31mKeyboardInterrupt\u001b[0m                         Traceback (most recent call last)",
            "\u001b[0;32m<ipython-input-23-260d56fd3070>\u001b[0m in \u001b[0;36m<cell line: 0>\u001b[0;34m()\u001b[0m\n\u001b[0;32m----> 1\u001b[0;31m train_loss, val_loss, best_val = entrenar_modelo_cuda(\n\u001b[0m\u001b[1;32m      2\u001b[0m     \u001b[0mmodel\u001b[0m\u001b[0;34m,\u001b[0m                 \u001b[0;31m# tu modelo ConvLSTM\u001b[0m\u001b[0;34m\u001b[0m\u001b[0;34m\u001b[0m\u001b[0m\n\u001b[1;32m      3\u001b[0m     \u001b[0mtrain_loader\u001b[0m\u001b[0;34m,\u001b[0m          \u001b[0;31m# DataLoader con pin_memory=True, num_workers>0\u001b[0m\u001b[0;34m\u001b[0m\u001b[0;34m\u001b[0m\u001b[0m\n\u001b[1;32m      4\u001b[0m     \u001b[0mval_loader\u001b[0m\u001b[0;34m,\u001b[0m\u001b[0;34m\u001b[0m\u001b[0;34m\u001b[0m\u001b[0m\n\u001b[1;32m      5\u001b[0m     \u001b[0mcriterion\u001b[0m\u001b[0;34m,\u001b[0m\u001b[0;34m\u001b[0m\u001b[0;34m\u001b[0m\u001b[0m\n",
            "\u001b[0;32m<ipython-input-21-898efa088646>\u001b[0m in \u001b[0;36mentrenar_modelo_cuda\u001b[0;34m(model, train_loader, val_loader, criterion, optimizer, scheduler, model_path, json_path, epochs, early_stop_patience, p0, p_min, decay_epochs, device, start_epoch, train_loss, val_loss, best_val_loss, elapsed_previous, start_datetime, system_specs, amp_enabled, clip_grad, use_compile)\u001b[0m\n\u001b[1;32m     95\u001b[0m                 \u001b[0mscaler\u001b[0m\u001b[0;34m.\u001b[0m\u001b[0munscale_\u001b[0m\u001b[0;34m(\u001b[0m\u001b[0moptimizer\u001b[0m\u001b[0;34m)\u001b[0m\u001b[0;34m\u001b[0m\u001b[0;34m\u001b[0m\u001b[0m\n\u001b[1;32m     96\u001b[0m                 \u001b[0mtorch\u001b[0m\u001b[0;34m.\u001b[0m\u001b[0mnn\u001b[0m\u001b[0;34m.\u001b[0m\u001b[0mutils\u001b[0m\u001b[0;34m.\u001b[0m\u001b[0mclip_grad_norm_\u001b[0m\u001b[0;34m(\u001b[0m\u001b[0mmodel\u001b[0m\u001b[0;34m.\u001b[0m\u001b[0mparameters\u001b[0m\u001b[0;34m(\u001b[0m\u001b[0;34m)\u001b[0m\u001b[0;34m,\u001b[0m \u001b[0mclip_grad\u001b[0m\u001b[0;34m)\u001b[0m\u001b[0;34m\u001b[0m\u001b[0;34m\u001b[0m\u001b[0m\n\u001b[0;32m---> 97\u001b[0;31m             \u001b[0mscaler\u001b[0m\u001b[0;34m.\u001b[0m\u001b[0mstep\u001b[0m\u001b[0;34m(\u001b[0m\u001b[0moptimizer\u001b[0m\u001b[0;34m)\u001b[0m\u001b[0;34m\u001b[0m\u001b[0;34m\u001b[0m\u001b[0m\n\u001b[0m\u001b[1;32m     98\u001b[0m             \u001b[0mscaler\u001b[0m\u001b[0;34m.\u001b[0m\u001b[0mupdate\u001b[0m\u001b[0;34m(\u001b[0m\u001b[0;34m)\u001b[0m\u001b[0;34m\u001b[0m\u001b[0;34m\u001b[0m\u001b[0m\n\u001b[1;32m     99\u001b[0m             \u001b[0mtotal_loss\u001b[0m \u001b[0;34m+=\u001b[0m \u001b[0mloss_batch\u001b[0m\u001b[0;34m.\u001b[0m\u001b[0mitem\u001b[0m\u001b[0;34m(\u001b[0m\u001b[0;34m)\u001b[0m\u001b[0;34m\u001b[0m\u001b[0;34m\u001b[0m\u001b[0m\n",
            "\u001b[0;32m/usr/local/lib/python3.11/dist-packages/torch/amp/grad_scaler.py\u001b[0m in \u001b[0;36mstep\u001b[0;34m(self, optimizer, *args, **kwargs)\u001b[0m\n\u001b[1;32m    455\u001b[0m         ), \"No inf checks were recorded for this optimizer.\"\n\u001b[1;32m    456\u001b[0m \u001b[0;34m\u001b[0m\u001b[0m\n\u001b[0;32m--> 457\u001b[0;31m         \u001b[0mretval\u001b[0m \u001b[0;34m=\u001b[0m \u001b[0mself\u001b[0m\u001b[0;34m.\u001b[0m\u001b[0m_maybe_opt_step\u001b[0m\u001b[0;34m(\u001b[0m\u001b[0moptimizer\u001b[0m\u001b[0;34m,\u001b[0m \u001b[0moptimizer_state\u001b[0m\u001b[0;34m,\u001b[0m \u001b[0;34m*\u001b[0m\u001b[0margs\u001b[0m\u001b[0;34m,\u001b[0m \u001b[0;34m**\u001b[0m\u001b[0mkwargs\u001b[0m\u001b[0;34m)\u001b[0m\u001b[0;34m\u001b[0m\u001b[0;34m\u001b[0m\u001b[0m\n\u001b[0m\u001b[1;32m    458\u001b[0m \u001b[0;34m\u001b[0m\u001b[0m\n\u001b[1;32m    459\u001b[0m         \u001b[0moptimizer_state\u001b[0m\u001b[0;34m[\u001b[0m\u001b[0;34m\"stage\"\u001b[0m\u001b[0;34m]\u001b[0m \u001b[0;34m=\u001b[0m \u001b[0mOptState\u001b[0m\u001b[0;34m.\u001b[0m\u001b[0mSTEPPED\u001b[0m\u001b[0;34m\u001b[0m\u001b[0;34m\u001b[0m\u001b[0m\n",
            "\u001b[0;32m/usr/local/lib/python3.11/dist-packages/torch/amp/grad_scaler.py\u001b[0m in \u001b[0;36m_maybe_opt_step\u001b[0;34m(self, optimizer, optimizer_state, *args, **kwargs)\u001b[0m\n\u001b[1;32m    349\u001b[0m     ) -> Optional[float]:\n\u001b[1;32m    350\u001b[0m         \u001b[0mretval\u001b[0m\u001b[0;34m:\u001b[0m \u001b[0mOptional\u001b[0m\u001b[0;34m[\u001b[0m\u001b[0mfloat\u001b[0m\u001b[0;34m]\u001b[0m \u001b[0;34m=\u001b[0m \u001b[0;32mNone\u001b[0m\u001b[0;34m\u001b[0m\u001b[0;34m\u001b[0m\u001b[0m\n\u001b[0;32m--> 351\u001b[0;31m         \u001b[0;32mif\u001b[0m \u001b[0;32mnot\u001b[0m \u001b[0msum\u001b[0m\u001b[0;34m(\u001b[0m\u001b[0mv\u001b[0m\u001b[0;34m.\u001b[0m\u001b[0mitem\u001b[0m\u001b[0;34m(\u001b[0m\u001b[0;34m)\u001b[0m \u001b[0;32mfor\u001b[0m \u001b[0mv\u001b[0m \u001b[0;32min\u001b[0m \u001b[0moptimizer_state\u001b[0m\u001b[0;34m[\u001b[0m\u001b[0;34m\"found_inf_per_device\"\u001b[0m\u001b[0;34m]\u001b[0m\u001b[0;34m.\u001b[0m\u001b[0mvalues\u001b[0m\u001b[0;34m(\u001b[0m\u001b[0;34m)\u001b[0m\u001b[0;34m)\u001b[0m\u001b[0;34m:\u001b[0m\u001b[0;34m\u001b[0m\u001b[0;34m\u001b[0m\u001b[0m\n\u001b[0m\u001b[1;32m    352\u001b[0m             \u001b[0mretval\u001b[0m \u001b[0;34m=\u001b[0m \u001b[0moptimizer\u001b[0m\u001b[0;34m.\u001b[0m\u001b[0mstep\u001b[0m\u001b[0;34m(\u001b[0m\u001b[0;34m*\u001b[0m\u001b[0margs\u001b[0m\u001b[0;34m,\u001b[0m \u001b[0;34m**\u001b[0m\u001b[0mkwargs\u001b[0m\u001b[0;34m)\u001b[0m\u001b[0;34m\u001b[0m\u001b[0;34m\u001b[0m\u001b[0m\n\u001b[1;32m    353\u001b[0m         \u001b[0;32mreturn\u001b[0m \u001b[0mretval\u001b[0m\u001b[0;34m\u001b[0m\u001b[0;34m\u001b[0m\u001b[0m\n",
            "\u001b[0;32m/usr/local/lib/python3.11/dist-packages/torch/amp/grad_scaler.py\u001b[0m in \u001b[0;36m<genexpr>\u001b[0;34m(.0)\u001b[0m\n\u001b[1;32m    349\u001b[0m     ) -> Optional[float]:\n\u001b[1;32m    350\u001b[0m         \u001b[0mretval\u001b[0m\u001b[0;34m:\u001b[0m \u001b[0mOptional\u001b[0m\u001b[0;34m[\u001b[0m\u001b[0mfloat\u001b[0m\u001b[0;34m]\u001b[0m \u001b[0;34m=\u001b[0m \u001b[0;32mNone\u001b[0m\u001b[0;34m\u001b[0m\u001b[0;34m\u001b[0m\u001b[0m\n\u001b[0;32m--> 351\u001b[0;31m         \u001b[0;32mif\u001b[0m \u001b[0;32mnot\u001b[0m \u001b[0msum\u001b[0m\u001b[0;34m(\u001b[0m\u001b[0mv\u001b[0m\u001b[0;34m.\u001b[0m\u001b[0mitem\u001b[0m\u001b[0;34m(\u001b[0m\u001b[0;34m)\u001b[0m \u001b[0;32mfor\u001b[0m \u001b[0mv\u001b[0m \u001b[0;32min\u001b[0m \u001b[0moptimizer_state\u001b[0m\u001b[0;34m[\u001b[0m\u001b[0;34m\"found_inf_per_device\"\u001b[0m\u001b[0;34m]\u001b[0m\u001b[0;34m.\u001b[0m\u001b[0mvalues\u001b[0m\u001b[0;34m(\u001b[0m\u001b[0;34m)\u001b[0m\u001b[0;34m)\u001b[0m\u001b[0;34m:\u001b[0m\u001b[0;34m\u001b[0m\u001b[0;34m\u001b[0m\u001b[0m\n\u001b[0m\u001b[1;32m    352\u001b[0m             \u001b[0mretval\u001b[0m \u001b[0;34m=\u001b[0m \u001b[0moptimizer\u001b[0m\u001b[0;34m.\u001b[0m\u001b[0mstep\u001b[0m\u001b[0;34m(\u001b[0m\u001b[0;34m*\u001b[0m\u001b[0margs\u001b[0m\u001b[0;34m,\u001b[0m \u001b[0;34m**\u001b[0m\u001b[0mkwargs\u001b[0m\u001b[0;34m)\u001b[0m\u001b[0;34m\u001b[0m\u001b[0;34m\u001b[0m\u001b[0m\n\u001b[1;32m    353\u001b[0m         \u001b[0;32mreturn\u001b[0m \u001b[0mretval\u001b[0m\u001b[0;34m\u001b[0m\u001b[0;34m\u001b[0m\u001b[0m\n",
            "\u001b[0;31mKeyboardInterrupt\u001b[0m: "
          ]
        }
      ],
      "source": [
        "train_loss, val_loss, best_val = entrenar_modelo_cuda(\n",
        "    model,                 # tu modelo ConvLSTM\n",
        "    train_loader,          # DataLoader con pin_memory=True, num_workers>0\n",
        "    val_loader,\n",
        "    criterion,\n",
        "    optimizer,\n",
        "    scheduler,\n",
        "    model_path,\n",
        "    json_path,\n",
        "    epochs,\n",
        "    early_stop_patience,\n",
        "    # Parámetros de scheduled sampling (igual que antes)\n",
        "    p0=1.0,\n",
        "    p_min=0.0,\n",
        "    decay_epochs=50,\n",
        "    # Omite \"device\" si quieres auto-detección de GPU\n",
        "    # Omite start_epoch, train_loss, etc. si usas valores por defecto\n",
        "    # Parámetros nuevos:\n",
        "    amp_enabled=True,      # FP16 con la API torch.amp\n",
        "    clip_grad=None,        # clipping opcional\n",
        "    use_compile=False       # Desactiva torch.compile para probar\n",
        ")"
      ]
    },
    {
      "cell_type": "markdown",
      "id": "719ca60d",
      "metadata": {
        "id": "719ca60d"
      },
      "source": [
        "Grafica la evolución de las pérdidas (`train_loss` y `val_loss`) a lo largo del entrenamiento.\n",
        "\n",
        "Esto permite analizar visualmente el comportamiento del modelo, detectar sobreajuste o problemas de convergencia.\n"
      ]
    },
    {
      "cell_type": "code",
      "execution_count": null,
      "id": "2ebce970",
      "metadata": {
        "id": "2ebce970"
      },
      "outputs": [],
      "source": [
        "def plot_loss_curves(train_loss, val_loss):\n",
        "    plt.figure(figsize=(10, 6))\n",
        "    plt.plot(train_loss, label='Pérdida Entrenamiento', color='tab:blue')\n",
        "    plt.plot(val_loss, label='Pérdida Validación', color='tab:orange')\n",
        "    plt.xlabel('Épocas')\n",
        "    plt.ylabel('Loss (MSE)')\n",
        "    plt.yscale('log')\n",
        "    plt.title('Curvas de pérdida durante el entrenamiento')\n",
        "    plt.legend()\n",
        "    plt.grid(True)\n",
        "    plt.show()\n",
        "\n",
        "# Uso\n",
        "plot_loss_curves(train_loss, val_loss)"
      ]
    },
    {
      "cell_type": "markdown",
      "id": "8017cb82",
      "metadata": {
        "id": "8017cb82"
      },
      "source": [
        "### Testing"
      ]
    },
    {
      "cell_type": "markdown",
      "id": "e4f55a05",
      "metadata": {
        "id": "e4f55a05"
      },
      "source": [
        "Carga el mejor modelo entrenado y evalúa su rendimiento en el conjunto de test mediante una función `rollout` autoregresiva.\n",
        "\n",
        "- La función `rollout` genera toda la secuencia de salida autoregresiva usando como entrada las condiciones de contorno (`bc_seq`) y la temperatura inicial (`T0`).\n",
        "- Se evalúa la pérdida total del modelo sobre todas las muestras y también se calcula la pérdida por paso de tiempo.\n",
        "\n",
        "Incluye impresión opcional de errores en pasos específicos para analizar cómo evoluciona el error en el tiempo.\n"
      ]
    },
    {
      "cell_type": "code",
      "execution_count": null,
      "id": "0fa23a12",
      "metadata": {
        "id": "0fa23a12"
      },
      "outputs": [],
      "source": [
        "# --- 1. Carga del mejor modelo ---\n",
        "model = PCB_ConvLSTM(input_channels=6,\n",
        "                     hidden_dims=hidden_dims,\n",
        "                     kernel_size=kernel_size,\n",
        "                     height=13,\n",
        "                     width=13).to(device)\n",
        "model.load_state_dict(torch.load(model_path, map_location=device))\n",
        "model.eval()\n",
        "\n",
        "# --- 2. Función de rollout autoregresivo puro ---\n",
        "@torch.no_grad()\n",
        "def rollout(model, bc_seq, T0):\n",
        "    \"\"\"\n",
        "    Predicción autoregresiva completa.\n",
        "\n",
        "    Args:\n",
        "        model   : modelo PyTorch\n",
        "        bc_seq  : tensor (B, T, 5, H, W) con canales de contorno ya en device\n",
        "        T0      : tensor (B, 1, H, W) condición inicial ya en device\n",
        "\n",
        "    Returns:\n",
        "        preds   : tensor (B, T, 1, H, W) con predicciones autoregresivas\n",
        "    \"\"\"\n",
        "    B, T, _, H, W = bc_seq.shape\n",
        "    preds = []\n",
        "    t_prev = T0\n",
        "    hidden = None\n",
        "\n",
        "    for t in range(T):\n",
        "        x_t = torch.cat([bc_seq[:, t], t_prev], dim=1).unsqueeze(1)  # (B,1,6,H,W)\n",
        "        pred_seq, hidden = model(x_t, hidden)\n",
        "        t_prev = pred_seq[:, 0]\n",
        "        preds.append(t_prev)\n",
        "\n",
        "    return torch.stack(preds, dim=1)\n",
        "\n",
        "# --- Test completo ---\n",
        "test_losses = []\n",
        "step_losses = torch.zeros(sequence_length, device=device)\n",
        "\n",
        "model.eval()\n",
        "with torch.no_grad():\n",
        "    for x_batch, y_batch in tqdm(test_loader, desc=\"Testing\"):\n",
        "        x_batch, y_batch = x_batch.to(device), y_batch.to(device)\n",
        "\n",
        "        bc_seq = x_batch[:, :, :5]\n",
        "        T0 = x_batch[:, 0, 5:6]\n",
        "\n",
        "        y_pred = rollout(model, bc_seq, T0)\n",
        "\n",
        "        loss = criterion(y_pred, y_batch)\n",
        "        test_losses.append(loss.item())\n",
        "\n",
        "        for t in range(y_pred.shape[1]):\n",
        "            step_losses[t] += criterion(y_pred[:, t], y_batch[:, t]).item() * y_pred.size(0)\n",
        "\n",
        "mean_test_loss = sum(test_losses) / len(test_losses)\n",
        "step_losses = (step_losses / len(test_loader.dataset)).cpu().numpy()\n",
        "\n",
        "print(f\"▶︎ Test Loss (secuencia completa): {mean_test_loss:.6f}\")\n",
        "\n",
        "for t_idx in [0, 4, y_pred.shape[1]-1]:\n",
        "    print(f\"  Paso {t_idx+1:2d} Loss: {step_losses[t_idx]:.6f}\")"
      ]
    },
    {
      "cell_type": "markdown",
      "id": "de8be719",
      "metadata": {
        "id": "de8be719"
      },
      "source": [
        "### Analyzing results"
      ]
    },
    {
      "cell_type": "markdown",
      "id": "c0a4943e",
      "metadata": {
        "id": "c0a4943e"
      },
      "source": [
        "Define una función `predict_from_conditions(...)` que genera una predicción completa de temperatura dada una condición inicial y parámetros físicos del sistema (como temperaturas de interfaces y potencia de calentadores).\n",
        "\n",
        "- Usa el método `create_input_from_values` del dataset para construir la entrada a partir de arrays.\n",
        "- Realiza el `rollout` paso a paso utilizando el método `forward_step` del modelo.\n",
        "- Devuelve una secuencia completa desnormalizada en formato `np.ndarray`.\n",
        "\n",
        "Esta función es clave para usar el modelo en modo inferencia realista, fuera del flujo de entrenamiento.\n"
      ]
    },
    {
      "cell_type": "code",
      "execution_count": null,
      "id": "1df60ca3",
      "metadata": {
        "id": "1df60ca3"
      },
      "outputs": [],
      "source": [
        "def predict_from_conditions(Q_heaters: np.ndarray,\n",
        "                            T_interfaces: np.ndarray,\n",
        "                            T_env: float,\n",
        "                            T_seq_initial: np.ndarray,\n",
        "                            sequence_length: int,\n",
        "                            model: PCB_ConvLSTM,\n",
        "                            dataset: PCBDataset_convlstm,\n",
        "                            device: torch.device = None) -> np.ndarray:\n",
        "    \"\"\"\n",
        "    Genera una predicción completa de long. sequence_length a partir de:\n",
        "      - Q_heaters:        (4,)             np.ndarray\n",
        "      - T_interfaces:     (4,)             np.ndarray\n",
        "      - T_env:            scalar           float\n",
        "      - T_seq_initial:    (13,13)          np.ndarray (el mapa inicial)\n",
        "      - sequence_length:  número de pasos a predecir\n",
        "      - model:            tu PCB_ConvLSTM cargado y en .eval()\n",
        "      - dataset:          instancia de PCBDataset_convlstm con create_input_from_values\n",
        "      - device:           opcional, torch.device\n",
        "\n",
        "    Devuelve:\n",
        "      np.ndarray de forma (sequence_length, 13, 13) con la serie desnormalizada.\n",
        "    \"\"\"\n",
        "\n",
        "    model.eval()\n",
        "    if device is None:\n",
        "        device = next(model.parameters()).device\n",
        "\n",
        "    # 1) Primer input (1,1,6,13,13)\n",
        "    input0 = dataset.create_input_from_values(\n",
        "        Q_heaters, T_interfaces, T_env,\n",
        "        T_seq=np.expand_dims(T_seq_initial, 0),\n",
        "        sequence_length=sequence_length,\n",
        "        autorregress=True\n",
        "    ).to(device)\n",
        "\n",
        "    # 2) Prepara contornos y t_prev\n",
        "    # bc_static: (1, seq_len, 5, 13,13)\n",
        "    bc_static = input0[:, :1, :5, :, :].repeat(1, sequence_length, 1, 1, 1)\n",
        "    # t_prev: (1,1,1,13,13)\n",
        "    t_prev = input0[:, :1, 5:6, :, :]\n",
        "\n",
        "    # 3) Roll-out autoregresivo\n",
        "    preds_norm = []\n",
        "    hidden = None\n",
        "    with torch.no_grad():\n",
        "        for t in range(sequence_length):\n",
        "            # concatenar por canal (dim=2)\n",
        "            x_t = torch.cat([bc_static[:, t:t+1], t_prev], dim=2)  # → (1,1,6,13,13)\n",
        "            pred_t, hidden = model.forward_step(x_t, hidden)       # → (1,1,1,13,13)\n",
        "            t_prev = pred_t                                        # mantener shape\n",
        "            preds_norm.append(t_prev)\n",
        "\n",
        "    preds_norm = torch.cat(preds_norm, dim=1)  # (1, T, 1, 13,13)\n",
        "\n",
        "    # 4) Desnormalizar y to numpy\n",
        "    mean = dataset.T_outputs_mean.to(device)\n",
        "    std  = dataset.T_outputs_std.to(device)\n",
        "    preds_denorm = preds_norm * std + mean      # (1, T, 1, H, W)\n",
        "    preds_denorm = preds_denorm.squeeze(0).squeeze(1)  # (T, 13,13)\n",
        "    return preds_denorm.cpu().numpy()"
      ]
    },
    {
      "cell_type": "markdown",
      "id": "62fc08d3",
      "metadata": {
        "id": "62fc08d3"
      },
      "source": [
        "Carga de nuevo el modelo desde el disco y lo pone en modo evaluación (`eval()`), para realizar predicciones sin modificar sus parámetros.\n",
        "\n",
        "Esto es útil para preparar el modelo antes de realizar inferencias como las de la función anterior.\n"
      ]
    },
    {
      "cell_type": "code",
      "execution_count": null,
      "id": "14f4f818",
      "metadata": {
        "id": "14f4f818"
      },
      "outputs": [],
      "source": [
        "model = PCB_ConvLSTM(input_channels=6,\n",
        "                     hidden_dims=hidden_dims,\n",
        "                     kernel_size=kernel_size,\n",
        "                     height=13,\n",
        "                     width=13).to(device)\n",
        "model.load_state_dict(torch.load(model_path, map_location=device))\n",
        "model.eval()"
      ]
    },
    {
      "cell_type": "markdown",
      "id": "63c0c125",
      "metadata": {
        "id": "63c0c125"
      },
      "source": [
        "Define las posiciones de los nodos que se quieran estudiar, en el caso por defecto los heaters (`id_heaters`), como tuplas de coordenadas dentro de la malla 13x13."
      ]
    },
    {
      "cell_type": "code",
      "execution_count": null,
      "id": "f151a8d5",
      "metadata": {
        "id": "f151a8d5"
      },
      "outputs": [],
      "source": [
        "id_heaters = [(6,3), (3,6), (9,3), (9,9)]"
      ]
    },
    {
      "cell_type": "markdown",
      "id": "7c3b1ca2",
      "metadata": {
        "id": "7c3b1ca2"
      },
      "source": [
        "Define las condiciones físicas para el caso de prueba:\n",
        "\n",
        "- `Q_heaters`: potencia aplicada por cada calentador.\n",
        "- `T_interfaces`: temperaturas fijas en las interfaces térmicas.\n",
        "- `T_env`: temperatura ambiente.\n",
        "- `T_initial_map`: mapa de temperatura inicial uniforme, basado en `T_init`.\n",
        "\n",
        "Estas variables se usarán como entrada en la simulación o para el modelo entrenado.\n"
      ]
    },
    {
      "cell_type": "code",
      "execution_count": null,
      "id": "cf1e18ab",
      "metadata": {
        "id": "cf1e18ab"
      },
      "outputs": [],
      "source": [
        "Q_heaters = np.array([1.0, 1.0, 1.0, 1.0])\n",
        "T_interfaces = np.array([290, 290, 290, 290])\n",
        "T_env = 250\n",
        "T_initial_map = np.full((13, 13), T_init)"
      ]
    },
    {
      "cell_type": "markdown",
      "id": "0e45ebb8",
      "metadata": {
        "id": "0e45ebb8"
      },
      "source": [
        "Ejecuta el caso de simulación real `PCB_case_2` con los parámetros definidos (en modo transitorio) para obtener la solución de referencia.\n",
        "\n",
        "- `T`: contiene toda la evolución temporal.\n",
        "- Se reestructura la salida en forma de malla `(T, 13, 13)`.\n",
        "- Se convierte a `tensor` y se sube al dispositivo (`cpu` o `cuda`) para usarla en comparación o inferencia.\n",
        "\n",
        "Esto proporciona la verdad de terreno contra la cual se comparará la predicción del modelo.\n"
      ]
    },
    {
      "cell_type": "code",
      "execution_count": null,
      "id": "ca6e322e",
      "metadata": {
        "id": "ca6e322e"
      },
      "outputs": [],
      "source": [
        "T, _, _, _ = PCB_case_2(solver = 'transient', display=False, time = time_sim, dt = dt, T_init = T_init, Q_heaters = Q_heaters, T_interfaces = T_interfaces, Tenv = T_env) # heaters in default position\n",
        "T_true = T.reshape(T.shape[0], nodes_side, nodes_side) # reshaping the data grid-shape\n",
        "T_true_tensor = torch.tensor(T_true, dtype=torch.float32).to(device)  # (T, H, W)"
      ]
    },
    {
      "cell_type": "markdown",
      "id": "31ad14d8",
      "metadata": {
        "id": "31ad14d8"
      },
      "source": [
        "Llama a la función `predict_from_conditions(...)` usando las condiciones definidas (`Q_heaters`, `T_interfaces`, `T_env`, `T_initial_map`) y genera la predicción de temperatura a lo largo del tiempo.\n",
        "\n",
        "- Devuelve un array `(T, 13, 13)` con la evolución térmica.\n",
        "- Se convierte a tensor y se envía al dispositivo para facilitar cálculos posteriores.\n",
        "\n",
        "Este bloque representa el uso final del modelo entrenado para hacer una predicción completa.\n"
      ]
    },
    {
      "cell_type": "code",
      "execution_count": null,
      "id": "fab8f886",
      "metadata": {
        "id": "fab8f886"
      },
      "outputs": [],
      "source": [
        "T_pred = predict_from_conditions(\n",
        "    Q_heaters, T_interfaces, T_env,\n",
        "    T_initial_map, sequence_length,\n",
        "    model, dataset, device\n",
        ")\n",
        "T_pred_tensor = torch.tensor(T_pred, dtype=torch.float32).to(device)  # (T, H, W)\n",
        "\n",
        "print(T_pred.shape)  # (T, 13, 13)"
      ]
    },
    {
      "cell_type": "markdown",
      "id": "31e04388",
      "metadata": {
        "id": "31e04388"
      },
      "source": [
        "Dibuja la evolución térmica en nodos seleccionados a lo largo del tiempo, comparando la **predicción del modelo (`T_pred`)** con la **solución de referencia (`T_true`)**.\n",
        "\n",
        "El parámetro `together=True` indica que ambas curvas se mostrarán en la misma figura para facilitar la comparación.\n",
        "\n",
        "Este paso permite evaluar visualmente la precisión del modelo.\n"
      ]
    },
    {
      "cell_type": "code",
      "execution_count": null,
      "id": "c6b65f91",
      "metadata": {
        "id": "c6b65f91"
      },
      "outputs": [],
      "source": [
        "plot_nodes_evolution(T_pred, T_true, id_heaters, together=True)"
      ]
    },
    {
      "cell_type": "markdown",
      "id": "634695f4",
      "metadata": {
        "id": "634695f4"
      },
      "source": [
        "Evalúa la precisión del modelo usando métricas basadas en un **umbral de error absoluto** (en Kelvin):\n",
        "\n",
        "- `porcentaje_error_bajo_umbral`: calcula el porcentaje de valores predichos cuyo error es menor que el umbral especificado.\n",
        "- `nodos_siempre_dentro_umbral`: determina el porcentaje de nodos que están por debajo del umbral en **todos los pasos de tiempo**.\n",
        "\n",
        "Estas métricas permiten cuantificar de forma robusta la calidad de la predicción.\n"
      ]
    },
    {
      "cell_type": "code",
      "execution_count": null,
      "id": "c8623101",
      "metadata": {
        "id": "c8623101"
      },
      "outputs": [],
      "source": [
        "umbral = 5\n",
        "\n",
        "acierto = porcentaje_error_bajo_umbral(T_true, T_pred, umbral=umbral)\n",
        "print(f\"Porcentaje de predicciones con error < {umbral:.1f} K: {acierto:.2f}%\")\n",
        "\n",
        "porcentaje, _, _ = nodos_siempre_dentro_umbral(T_true, T_pred, umbral=umbral)\n",
        "print(f\"Porcentaje de nodos buenos: {porcentaje:.2f}%\")"
      ]
    },
    {
      "cell_type": "markdown",
      "id": "7739f5b2",
      "metadata": {
        "id": "7739f5b2"
      },
      "source": [
        "Calcula y visualiza una **curva de precisión acumulada** en función del umbral de error:\n",
        "\n",
        "- Evalúa qué porcentaje de nodos cumplen con el criterio de error para cada valor de umbral entre 0 y 25 K.\n",
        "- Muestra una gráfica que permite analizar la sensibilidad del modelo al nivel de tolerancia de error.\n",
        "\n",
        "Esta representación es útil para comparar distintos modelos o configuraciones.\n"
      ]
    },
    {
      "cell_type": "code",
      "execution_count": null,
      "id": "ea92acbc",
      "metadata": {
        "id": "ea92acbc"
      },
      "outputs": [],
      "source": [
        "umbrales = np.linspace(0, 25, 26)\n",
        "porcentajes = porcentaje_nodos_siempre_dentro_por_umbral(T_true, T_pred, umbrales)\n",
        "\n",
        "# Plot\n",
        "plt.figure(figsize=(8, 5))\n",
        "plt.plot(umbrales, porcentajes, label=\"Porcentaje de nodos\", linewidth=2)\n",
        "plt.xlabel(\"Umbral de error (K)\")\n",
        "plt.ylabel(\"Porcentaje de nodos con error < umbral durante toda la secuencia\")\n",
        "plt.title(\"Curva de acierto acumulado por umbral de error\")\n",
        "plt.grid(True)\n",
        "plt.ylim(0, 100)\n",
        "plt.xlim(0, umbrales[-1])\n",
        "plt.legend()\n",
        "plt.tight_layout()\n",
        "plt.show()"
      ]
    },
    {
      "cell_type": "markdown",
      "id": "a64d538c",
      "metadata": {
        "id": "a64d538c"
      },
      "source": [
        "Grafica el **error absoluto medio (MAE)** por fotograma (paso temporal), comparando la predicción del modelo y la solución de referencia.\n",
        "\n",
        "Esto permite observar cómo evoluciona el error del modelo a lo largo de la secuencia y detectar posibles derivas o acumulaciones de error en el tiempo.\n"
      ]
    },
    {
      "cell_type": "code",
      "execution_count": null,
      "id": "53536617",
      "metadata": {
        "id": "53536617"
      },
      "outputs": [],
      "source": [
        "plot_mae_per_frame(T_pred_tensor.detach().cpu(), T_true_tensor.detach().cpu(), dataset)"
      ]
    },
    {
      "cell_type": "markdown",
      "id": "3b36a3a2",
      "metadata": {
        "id": "3b36a3a2"
      },
      "source": [
        "Genera una figura con el **MAE por píxel** (nodo de la malla), calculado sobre toda la secuencia temporal.\n",
        "\n",
        "Esto permite identificar qué zonas del PCB tienen mayor o menor error sistemático, y si existen patrones espaciales en el comportamiento del modelo.\n"
      ]
    },
    {
      "cell_type": "code",
      "execution_count": null,
      "id": "6f4edf90",
      "metadata": {
        "id": "6f4edf90"
      },
      "outputs": [],
      "source": [
        "plot_mae_per_pixel(T_pred_tensor.detach().cpu(), T_true_tensor.detach().cpu(), dataset)"
      ]
    },
    {
      "cell_type": "markdown",
      "id": "b7d01551",
      "metadata": {
        "id": "b7d01551"
      },
      "source": [
        "Crea una animación en forma de **GIF comparativo** entre la predicción (`T_pred`) y la solución real (`T_true`) a lo largo del tiempo.\n",
        "\n",
        "- Guarda el GIF en la carpeta `figures`.\n",
        "- Lo muestra directamente en el notebook usando HTML.\n",
        "\n",
        "Esta animación es muy útil para validar visualmente el desempeño dinámico del modelo.\n"
      ]
    },
    {
      "cell_type": "code",
      "execution_count": null,
      "id": "81dd8e55",
      "metadata": {
        "id": "81dd8e55"
      },
      "outputs": [],
      "source": [
        "ani = generar_gif_pcb_comparacion(T_pred, T_true, guardar_en_figures=False, nombre_archivo='prueba_6ch_comparacion')\n",
        "\n",
        "from IPython.display import HTML\n",
        "HTML(ani.to_jshtml()) # Mostrar el GIF en Jupyter Notebook"
      ]
    },
    {
      "cell_type": "markdown",
      "id": "00974efb",
      "metadata": {
        "id": "00974efb"
      },
      "source": [
        "Genera un **GIF que visualiza la evolución del error absoluto** entre la predicción y la realidad en cada paso temporal.\n",
        "\n",
        "- Muestra cómo cambia el error con el tiempo.\n",
        "- Útil para detectar acumulación de error, deriva o zonas problemáticas.\n",
        "\n",
        "La animación se guarda y se muestra directamente en el notebook.\n"
      ]
    },
    {
      "cell_type": "code",
      "execution_count": null,
      "id": "150e061a",
      "metadata": {
        "id": "150e061a"
      },
      "outputs": [],
      "source": [
        "ani = generar_gif_error_evolucion(T_pred, T_true, guardar_en_figures=False, nombre_archivo='prueba_6ch_error')\n",
        "\n",
        "from IPython.display import HTML\n",
        "HTML(ani.to_jshtml()) # Mostrar el GIF en Jupyter Notebook"
      ]
    }
  ],
  "metadata": {
    "kernelspec": {
      "display_name": "Python 3",
      "name": "python3"
    },
    "language_info": {
      "codemirror_mode": {
        "name": "ipython",
        "version": 3
      },
      "file_extension": ".py",
      "mimetype": "text/x-python",
      "name": "python",
      "nbconvert_exporter": "python",
      "pygments_lexer": "ipython3",
      "version": "3.9.21"
    },
    "colab": {
      "provenance": [],
      "machine_shape": "hm",
      "gpuType": "L4"
    },
    "accelerator": "GPU"
  },
  "nbformat": 4,
  "nbformat_minor": 5
}