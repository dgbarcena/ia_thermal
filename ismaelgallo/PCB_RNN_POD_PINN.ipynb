{
 "cells": [
  {
   "cell_type": "markdown",
   "metadata": {},
   "source": [
    "# PINN RNN POD reduction"
   ]
  },
  {
   "cell_type": "code",
   "execution_count": 1,
   "metadata": {},
   "outputs": [],
   "source": [
    "import numpy as np\n",
    "# import pandas as pd\n",
    "# from scipy import sparse\n",
    "# from scipy.sparse import csr_matrix\n",
    "import time\n",
    "import datetime\n",
    "import sys\n",
    "import os\n",
    "import platform\n",
    "from tqdm import tqdm\n",
    "import matplotlib.pyplot as plt\n",
    "# from matplotlib import colormaps\n",
    "# import random\n",
    "import json\n",
    "import seaborn as sns\n",
    "\n",
    "import sklearn\n",
    "# from sklearn.metrics import root_mean_squared_error\n",
    "# from sklearn.metrics import mean_squared_error\n",
    "# from sklearn.model_selection import train_test_split\n",
    "from sklearn.preprocessing import StandardScaler\n",
    "\n",
    "import torch\n",
    "from torch import nn\n",
    "# import torch.nn.functional as F\n",
    "# from torchvision import datasets, transforms\n",
    "# import torch.optim as optim\n",
    "from torch.optim.lr_scheduler import ReduceLROnPlateau\n",
    "from torch.utils.data import Dataset, DataLoader, TensorDataset\n",
    "\n",
    "np.set_printoptions(threshold=sys.maxsize)\n",
    "torch.set_default_dtype(torch.float32)\n",
    "\n",
    "# get the directory path of the file\n",
    "dir_path = os.getcwd()\n",
    "# print(dir_path)\n",
    "\n",
    "sys.path.append(os.path.abspath(os.path.join(os.getcwd(), '..')))\n",
    "\n",
    "from plot_functions import *"
   ]
  },
  {
   "cell_type": "markdown",
   "metadata": {},
   "source": [
    "Configuración global de Matplotlib"
   ]
  },
  {
   "cell_type": "code",
   "execution_count": 2,
   "metadata": {},
   "outputs": [],
   "source": [
    "plt.rcParams.update({\n",
    "    # 'text.usetex': True,  # Usar LaTeX para el texto (Local)\n",
    "    'text.usetex': False,  # NO Usar LaTeX para el texto (Colab)\n",
    "    'font.family': 'serif',  # Fuente serif\n",
    "    # 'figure.figsize': (10, 6),  # Tamaño de la figura\n",
    "    'axes.labelsize': 12,  # Tamaño de las etiquetas de los ejes\n",
    "    'axes.titlesize': 14,  # Tamaño del título\n",
    "    'legend.fontsize': 12,  # Tamaño de la leyenda\n",
    "    'xtick.labelsize': 10,  # Tamaño de las etiquetas del eje x\n",
    "    'ytick.labelsize': 10,  # Tamaño de las etiquetas del eje y\n",
    "    'axes.grid': True,  # Habilitar la cuadrícula\n",
    "    'grid.alpha': 0.75,  # Transparencia de la cuadrícula\n",
    "    'grid.linestyle': '--'  # Estilo de la línea de la cuadrícula\n",
    "})\n",
    "\n",
    "# Configuración de Seaborn\n",
    "sns.set_context('paper')\n",
    "sns.set_style('whitegrid')"
   ]
  },
  {
   "cell_type": "code",
   "execution_count": 3,
   "metadata": {},
   "outputs": [
    {
     "name": "stdout",
     "output_type": "stream",
     "text": [
      "Using device: cuda\n"
     ]
    }
   ],
   "source": [
    "device = torch.device('cuda' if torch.cuda.is_available() else 'cpu')\n",
    "# device = 'cpu'\n",
    "print('Using device:', device)"
   ]
  },
  {
   "cell_type": "code",
   "execution_count": 4,
   "metadata": {},
   "outputs": [],
   "source": [
    "system_specs = {\n",
    "    \"os\": platform.system(),  # e.g. \"Linux\", \"Windows\", \"Darwin\"\n",
    "    \"os_version\": platform.version(),\n",
    "    \"machine\": platform.machine(),  # e.g. \"x86_64\"\n",
    "    \"processor\": platform.processor(),  # e.g. \"Intel64 Family 6 Model 158\"\n",
    "    \"python_version\": platform.python_version(),\n",
    "    \"device\": str(device)\n",
    "}\n",
    "if torch.cuda.is_available():\n",
    "    system_specs[\"gpu_name\"] = torch.cuda.get_device_name(0)\n",
    "    system_specs[\"gpu_memory_total_GB\"] = round(torch.cuda.get_device_properties(0).total_memory / (1024**3), 2)\n",
    "    system_specs[\"cuda_version\"] = torch.version.cuda"
   ]
  },
  {
   "cell_type": "markdown",
   "metadata": {},
   "source": [
    "<a id='section_1'></a>\n",
    "# PCB solver trasient"
   ]
  },
  {
   "cell_type": "code",
   "execution_count": 5,
   "metadata": {},
   "outputs": [],
   "source": [
    "sys.path.append('../scripts') \n",
    "\n",
    "from PCB_solver_tr import PCB_solver_main, PCB_case_1, PCB_case_2"
   ]
  },
  {
   "cell_type": "markdown",
   "metadata": {},
   "source": [
    "<a id='section_1_1'></a>\n",
    "## 1.1. PCB case 1"
   ]
  },
  {
   "cell_type": "code",
   "execution_count": 6,
   "metadata": {},
   "outputs": [],
   "source": [
    "# def PCB_case_1(L:float=0.1,thickness:float=0.001,m:int=3,board_k:float=10,ir_emmisivity:float=0.8,\n",
    "#                     T_interfaces:list=[250,250,250,250],Q_heaters:list=[1.0,1.0,1.0,1.0],Tenv:float=250,display:bool = False):\n",
    "#     \"\"\"\n",
    "#     Caso 1. \n",
    "#     PCB cuadrada de lado L con 4 heaters simétricamente colocados en coordenadas [(L/4,L/2),(L/2,L/4),(3*L/4,L/2),(L/2,3*L/4)]\n",
    "#     y con 4 nodos de interfaz situados en coordenadas [(0,0),(L,0),(L,L),(0,L)].\n",
    "#     Variables de entrada (unidades entre [], si no hay nada es adimensional):\n",
    "#                         -- L (int) = dimensiones de la placa. [m]\n",
    "#                         -- thickness (float) = espesor de la placa. [m]\n",
    "#                         -- m (int) = valor de refinamiento de malla. --> el número de nodos en x e y es n = 4*m+1. En el caso predeterminado son 12x12 nodos.\n",
    "#                         -- board_k (float) = conductividad térmica del material de la placa. [W/(K*m)]\n",
    "#                         -- ir_emmisivity (float) = emisividad infrarroja del recubrimiento óptico de la PCB (la pintura). \n",
    "#                         -- T_interfaces (lista de 4 elementos) = temperatura de las 4 interfaces. [K]\n",
    "#                         -- Q_heaters (lista de 4 elementos) = potencia disipada por los heaters. [W]\n",
    "#                         -- Tenv (float) = temperatura del entorno. [K]\n",
    "#                         -- display (bool) = mostrar las temperaturas.\n",
    "#     Variables de salida:\n",
    "#                         -- T (numpy.array con dimension n = nx*ny) = vector con las temperaturas de los nodos (más información mirar en la descripción de **PCB_solver_main()**).\n",
    "#                         -- interfaces (diccionario {key = id del nodo, value = temperatura del nodo [K]}) = temperatura de las interfaces.\n",
    "#                         -- heaters (diccionario {key = id del nodo, value = disipación del nodo [W]}) = potencia disipada por los heaters.\n",
    "#     \"\"\"\n",
    "\n",
    "#     n = 4*m+1\n",
    "\n",
    "#     id_Qnodes = [int((n-1)/4+(n-1)/2*n),int((n-1)/2+(n-1)/4*n),int(3*(n-1)/4+(n-1)/2*n),int((n-1)/2+3*(n-1)/4*n)]\n",
    "#     heaters = {id_Qnodes[0]:Q_heaters[0],id_Qnodes[1]:Q_heaters[1],id_Qnodes[2]:Q_heaters[2],id_Qnodes[3]:Q_heaters[3]}\n",
    "\n",
    "#     id_inodes = [0,n-1,n*n-1,n*n-n]\n",
    "#     interfaces = {id_inodes[0]:T_interfaces[0],id_inodes[1]:T_interfaces[1],id_inodes[2]:T_interfaces[2],id_inodes[3]:T_interfaces[3]}\n",
    "\n",
    "#     T = PCB_solver_main(Lx=L, Ly=L, thickness=thickness,nx=n,ny=n,board_k=board_k,ir_emmisivity=ir_emmisivity,\n",
    "#                     Tenv=Tenv,interfaces=interfaces,heaters=heaters, display=display)\n",
    "    \n",
    "#     return T,interfaces,heaters"
   ]
  },
  {
   "cell_type": "markdown",
   "metadata": {},
   "source": [
    "<a id='section_1_2'></a>\n",
    "## 1.2. PCB case 2"
   ]
  },
  {
   "cell_type": "code",
   "execution_count": 7,
   "metadata": {},
   "outputs": [],
   "source": [
    "# def PCB_case_2(solver: str = 'steady', L:float=0.1,thickness:float=0.001,m:int=3,board_k:float=10, board_c:float=900, board_rho: float = 2700, ir_emmisivity:float=0.8,\n",
    "#                     T_interfaces:list=[250,250,250,250],Q_heaters:list=[1.0,1.0,1.0,1.0],Tenv:float=250,display:bool = False, time:float = 0.0, dt:float = 0.0, T_init:float = 298.0):\n",
    "#     \"\"\"\n",
    "#     Caso 1\n",
    "#     PCB cuadrada de lado L con 4 heaters colocados en coordenadas [(L/4,L/2),(L/2,L/4),(L/4,3*L/4),(3*L/4,3*L/4)]\n",
    "#     y con 4 nodos de interfaz situados en coordenadas [(0,0),(L,0),(L,L),(0,L)].\n",
    "#     Variables de entrada (unidades entre [], si no hay nada es adimensional):\n",
    "#                         -- L (int) = dimensiones de la placa. [m]\n",
    "#                         -- thickness (float) = espesor de la placa. [m]\n",
    "#                         -- m (int) = valor de refinamiento de malla. --> el número de nodos en x e y es n = 4*m+1. En el caso predeterminado son 12x12 nodos.\n",
    "#                         -- board_k (float) = conductividad térmica del material de la placa. [W/(K*m)]\n",
    "#                         -- ir_emmisivity (float) = emisividad infrarroja del recubrimiento óptico de la PCB (la pintura). \n",
    "#                         -- T_interfaces (lista de 4 elementos) = temperatura de las 4 interfaces (250 - 350 K). [K]\n",
    "#                         -- Q_heaters (lista de 4 elementos) = potencia disipada por los heaters (0.1 - 5.0 W). [W]\n",
    "#                         -- Tenv (float) = temperatura del entorno (250 - 350 K). [K]\n",
    "#                         -- display (bool) = mostrar las temperaturas.\n",
    "#     Variables de salida:\n",
    "#                         -- T (numpy.array con dimension n = nx*ny) = vector con las temperaturas de los nodos (más información mirar en la descripción de **PCB_solver_main()**).\n",
    "#                         -- interfaces (diccionario {key = id del nodo, value = temperatura del nodo [K]}) = temperatura de las interfaces.\n",
    "#                         -- heaters (diccionario {key = id del nodo, value = disipación del nodo [W]}) = potencia disipada por los heaters.\n",
    "#     \"\"\"\n",
    "\n",
    "#     n = 4*m+1\n",
    "\n",
    "#     id_Qnodes = [int((n-1)/4+(n-1)/2*n),int((n-1)/2+(n-1)/4*n),int((n-1)/4+3*(n-1)/4*n),int(3*(n-1)/4+3*(n-1)/4*n)]\n",
    "#     heaters = {id_Qnodes[0]:Q_heaters[0],id_Qnodes[1]:Q_heaters[1],id_Qnodes[2]:Q_heaters[2],id_Qnodes[3]:Q_heaters[3]}\n",
    "\n",
    "#     id_inodes = [0,n-1,n*n-1,n*n-n]\n",
    "#     interfaces = {id_inodes[0]:T_interfaces[0],id_inodes[1]:T_interfaces[1],id_inodes[2]:T_interfaces[2],id_inodes[3]:T_interfaces[3]}\n",
    "\n",
    "#     T, time_array = PCB_solver_main(solver = solver, Lx=L, Ly=L, thickness=thickness,nx=n,ny=n,board_k=board_k, board_c=board_c, board_rho=board_rho, ir_emmisivity=ir_emmisivity,\n",
    "#                     Tenv=Tenv,interfaces=interfaces,heaters=heaters, display=display, time=time, dt=dt, T_init = T_init)\n",
    "    \n",
    "#     return T, time_array, interfaces, heaters"
   ]
  },
  {
   "cell_type": "markdown",
   "metadata": {},
   "source": [
    "<a id='section_1_3'></a>\n",
    "## 1.3. PCB solver main"
   ]
  },
  {
   "cell_type": "code",
   "execution_count": 8,
   "metadata": {},
   "outputs": [],
   "source": [
    "# def PCB_solver_main(solver:str, Lx:float,Ly:float,thickness:float,nx:int,ny:int,board_k:float,  ir_emmisivity:float,\n",
    "#                     Tenv:float,interfaces:dict,heaters:dict, display:bool = False, maxiters:int = 1000, objtol:int = 0.01, board_c:float=900, board_rho: float = 2700, time:float = 0.0, dt:float = 0.0,T_init:float = 298.0):\n",
    "#     '''\n",
    "#     Función solver del problema de PCB rectangular en un entorno radiativo formado por un cuerpo negro a temperatura Tenv. \n",
    "#     Los nodos van numerados siguiendo el esquema de la figura, los nodos se ordenan de forma creciente filas.\n",
    "\n",
    "#     26---27---28---29---30    \n",
    "#     |    |    |    |    |  \n",
    "#     20---21---22---23---24    \n",
    "#     |    |    |    |    |   \n",
    "#     15---16---17---18---19    \n",
    "#     |    |    |    |    |\n",
    "#     10---11---12---13---14    \n",
    "#     |    |    |    |    |    y\n",
    "#     5----6----7----8----9    ^\n",
    "#     |    |    |    |    |    |\n",
    "#     0----1----2----3----4    ---> x\n",
    "\n",
    "#     Variables de entrada (unidades entre [], si no hay nada es adimensional):\n",
    "#                         -- Lx (int) = dimension x de la placa. [m]\n",
    "#                         -- Lx (int) = dimension y de la placa. [m]\n",
    "#                         -- thickness (float) = espesor de la placa. [m]\n",
    "#                         -- nx (int) = número de nodos en el eje x (en la figura de ejemplo son 5).\n",
    "#                         -- ny (int) = número de nodos en el eje y (en la figura de ejemplo son 6).\n",
    "#                         -- board_k (float) = conductividad térmica del material de la placa. [W/(K*m)]\n",
    "#                         -- ir_emmisivity (float) = emisividad infrarroja del recubrimiento óptico de la PCB (la pintura).\n",
    "#                         -- Tenv (float) = temperatura del entorno. [K]\n",
    "#                         -- interfaces (diccionario {key = id del nodo, value = temperatura del nodo [K]}) = temperatura de las interfaces.\n",
    "#                         -- heaters (diccionario {key = id del nodo, value = disipación del nodo [W]}) = potencia disipada por los heaters.\n",
    "#                         -- display (bool) = mostrar las temperaturas.\n",
    "#                         -- maxiters (int) = máximas iteraciones del solver. Mantener el valor predeterminado salvo si la convergencia es muy lenta (salta error en la linea 203). \n",
    "#                         -- objtol (int) = tolerancia objetivo del solver. Mantener el valor predeterminado salvo si no se llega a convergencia (salta error en la linea 203).\n",
    "#     Variables de salida:\n",
    "#                         -- T (numpy.array con dimension n = nx*ny) = vector con las temperaturas ordenadas como en la figura de ejemplo.\n",
    "#     '''\n",
    "    \n",
    "#     n_nodes = nx*ny # número total de nodos\n",
    "\n",
    "#     # cálculo de los GLs y GRs\n",
    "#     dx = Lx/(nx-1)\n",
    "#     dy = Ly/(ny-1)\n",
    "#     GLx = thickness*board_k*dy/dx\n",
    "#     GLy = thickness*board_k*dx/dy\n",
    "#     GR = 2*dx*dy*ir_emmisivity\n",
    "\n",
    "#     # Generación de la matriz de acoplamientos conductivos [K]. \n",
    "#     K_cols = []\n",
    "#     K_rows = []\n",
    "#     K_data = []\n",
    "#     for j in range(ny):\n",
    "#         for i in range(nx):\n",
    "#             id = i + nx*j\n",
    "#             if id in interfaces:\n",
    "#                 K_rows.append(id)\n",
    "#                 K_cols.append(id)\n",
    "#                 K_data.append(1)\n",
    "#             else:\n",
    "#                 GLii = 0\n",
    "#                 if i+1 < nx:\n",
    "#                     K_rows.append(id)\n",
    "#                     K_cols.append(id+1)\n",
    "#                     K_data.append(-GLx)\n",
    "#                     GLii += GLx\n",
    "#                 if i-1 >= 0:\n",
    "#                     K_rows.append(id)\n",
    "#                     K_cols.append(id-1)\n",
    "#                     K_data.append(-GLx)\n",
    "#                     GLii += GLx\n",
    "#                 if j+1 < ny:\n",
    "#                     K_rows.append(id)\n",
    "#                     K_cols.append(id+nx)\n",
    "#                     K_data.append(-GLx)\n",
    "#                     GLii += GLy\n",
    "#                 if j-1 >= 0:\n",
    "#                     K_rows.append(id)\n",
    "#                     K_cols.append(id-nx)\n",
    "#                     K_data.append(-GLx)\n",
    "#                     GLii += GLy\n",
    "#                 K_rows.append(id)\n",
    "#                 K_cols.append(id)\n",
    "#                 K_data.append(GLii)\n",
    "#     K = sparse.csr_matrix((K_data,(K_rows,K_cols)),shape=(n_nodes,n_nodes))\n",
    "\n",
    "#     # Creación de la matriz de acoplamientos radiativos [E]\n",
    "#     E_data = []\n",
    "#     E_id = []\n",
    "#     for id in range(n_nodes):\n",
    "#         if id not in interfaces:\n",
    "#             E_id.append(id)\n",
    "#             E_data.append(GR)\n",
    "#     E = sparse.csr_matrix((E_data,(E_id,E_id)),shape=(n_nodes,n_nodes))\n",
    "\n",
    "#     # Creación del vector {Q}.\n",
    "#     Q = np.zeros(n_nodes,dtype=np.double)\n",
    "#     for id in range(n_nodes):\n",
    "#         if id in interfaces:\n",
    "#             Q[id] = interfaces[id]\n",
    "#         elif id in heaters:\n",
    "#             Q[id] = heaters[id]\n",
    "    \n",
    "#     # Resolución de la ecuación no lineal [K]{T} + Boltzmann_cte*[E]({T^4} - Tenv^4) = {Q} \n",
    "#     # mediante la resolución iterativa de la ecuación [A]{dT_i} = {b}, donde:\n",
    "#     #           -- [A] = [K] + 4*Boltzmann_cte*[E].*{T_i^3} (.* = multiplicación elemento a elemento)\n",
    "#     #           -- {b} = {Q} - [K]*{T_i} - [E]*({T_i^4}-Tenv^4)\n",
    "#     #           -- {T_i+1} = {T_i} + {dT_i}\n",
    "            \n",
    "#     Boltzmann_cte = 5.67E-8\n",
    "#     tol = 100\n",
    "#     it = 0\n",
    "\n",
    "#     if solver == 'steady':\n",
    "#         T = np.full(n_nodes, T_init, dtype=np.double)\n",
    "#         while tol > objtol and it < maxiters:\n",
    "#             b = Q - K.__matmul__(T) - Boltzmann_cte * E.__matmul__(T**4-Tenv**4)\n",
    "#             A = K + 4 * Boltzmann_cte * E.multiply(T**3)\n",
    "#             dT = sparse.linalg.spsolve(A,b)\n",
    "#             T += dT\n",
    "#             tol = max(abs(dT))\n",
    "#             it = it+1\n",
    "\n",
    "#         if tol > objtol:\n",
    "#             print(\"ERROR in PCB SOLVER MAIN. Convergence was not reached.\")\n",
    "#             exit(1)\n",
    "\n",
    "#         if display == True:\n",
    "#             fig, ax = plt.subplots(1, 1, figsize=(6, 6), constrained_layout=True)\n",
    "#             psm = ax.pcolormesh(T.reshape(ny,nx), cmap=colormaps['jet'], rasterized=True, vmin=np.min(T), vmax=np.max(T))\n",
    "#             fig.colorbar(psm, ax=ax)\n",
    "#             plt.title('Temperature field')\n",
    "#             plt.show()\n",
    "#         return T, None\n",
    "    \n",
    "#     elif solver == 'transient':\n",
    "#         alpha = board_k/(board_rho*board_c) # thermal difusivity.\n",
    "#         if alpha*dt/(0.5*(dx+dy))**2 > 0.5: # stability criterion for Euler scheeme. --> the criterion can be found here (eq 11): https://en.wikipedia.org/wiki/Von_Neumann_stability_analysis\n",
    "#             print(\"Excesive timestep size. Euler method becomes unstable.\")\n",
    "#             exit(1)\n",
    "#         T = np.full(n_nodes, T_init, dtype=np.double) \n",
    "#         interface_nodes_id = np.array(list(interfaces.keys()))\n",
    "#         heater_nodes_id = np.array(list(heaters.keys()))\n",
    "#         for i_node in interfaces: # changing the temperature of the interface nodes from T_init to the proper temperature of the interface.\n",
    "#             T[i_node] = interfaces[i_node]\n",
    "#         T_array = np.expand_dims(T, axis=0)\n",
    "#         time_array = np.array([0.0])\n",
    "#         ti = 0.0\n",
    "#         while ti < time:\n",
    "#             dTdt = (Q - K.__matmul__(T) - Boltzmann_cte * E.__matmul__(T**4 - Tenv**4)) / (board_c * board_rho * thickness * dx * dy)\n",
    "#             dTdt[interface_nodes_id] = 0 # cancel de derivative term in the interface nodes. \n",
    "#             dT = dTdt * dt\n",
    "#             T += dT\n",
    "#             T_array = np.concatenate((T_array, np.expand_dims(T, axis=0)), axis=0)\n",
    "#             ti += dt\n",
    "#             time_array = np.append(time_array, ti)\n",
    "\n",
    "#         if display == True:\n",
    "#             fig1, ax1 = plt.subplots(1, 1, figsize=(6, 6), constrained_layout=True)\n",
    "#             psm = ax1.pcolormesh(T.reshape(ny,nx), cmap=colormaps['jet'], rasterized=True, vmin=np.min(T), vmax=np.max(T))\n",
    "#             fig1.colorbar(psm, ax=ax1)\n",
    "#             plt.title('Temperature field at time '+str(time)+' [s]')\n",
    "#             plt.show()\n",
    "\n",
    "#             fig2, ax2 = plt.subplots(1, 1, figsize=(6, 6), constrained_layout=True)\n",
    "#             ax2.plot(time_array,T_array[:,heater_nodes_id])\n",
    "#             plt.title(\"heaters temperature\")\n",
    "#             plt.xlabel(\"time [s]\")\n",
    "#             plt.ylabel(\"temperature [K]\")\n",
    "#             legend = list(heaters.keys())\n",
    "#             plt.legend(legend)\n",
    "#             plt.show()\n",
    "\n",
    "#         return T_array, time_array"
   ]
  },
  {
   "cell_type": "markdown",
   "metadata": {},
   "source": [
    "<a id='section_1_4'></a>\n",
    "## 1.4. Ejemplo de uso con los valores predeterminados"
   ]
  },
  {
   "cell_type": "code",
   "execution_count": 9,
   "metadata": {},
   "outputs": [
    {
     "data": {
      "image/png": "[encoded data removed]",
      "text/plain": [
       "<Figure size 600x600 with 2 Axes>"
      ]
     },
     "metadata": {},
     "output_type": "display_data"
    },
    {
     "data": {
      "image/png": "[encoded data removed]",
      "text/plain": [
       "<Figure size 600x600 with 1 Axes>"
      ]
     },
     "metadata": {},
     "output_type": "display_data"
    },
    {
     "data": {
      "text/plain": [
       "1001"
      ]
     },
     "execution_count": 9,
     "metadata": {},
     "output_type": "execute_result"
    }
   ],
   "source": [
    "# T1,time1,interfaces1,heaters1 = PCB_case_2(solver='steady',display=True)\n",
    "T2, time2, interfaces2, heaters2 = PCB_case_2(solver = 'transient', display=True, time = 1000, dt = 1, T_init = 298.0)\n",
    "T2.shape[0]"
   ]
  },
  {
   "cell_type": "markdown",
   "metadata": {},
   "source": [
    "# Dataset generation"
   ]
  },
  {
   "cell_type": "markdown",
   "metadata": {},
   "source": [
    "## Dataset class"
   ]
  },
  {
   "cell_type": "code",
   "execution_count": 10,
   "metadata": {},
   "outputs": [],
   "source": [
    "sys.path.append('../Convolutional_NN') \n",
    "\n",
    "from Dataset_Class import *"
   ]
  },
  {
   "cell_type": "markdown",
   "metadata": {},
   "source": [
    "## Dataset Generation"
   ]
  },
  {
   "cell_type": "markdown",
   "metadata": {},
   "source": [
    "Dataset parameters: variable max and min values, number of data, boundary conditions..."
   ]
  },
  {
   "cell_type": "code",
   "execution_count": 11,
   "metadata": {},
   "outputs": [],
   "source": [
    "n_train = 5\n",
    "n_test = 1\n",
    "n_validation = 20\n",
    "\n",
    "nodes_side = 13\n",
    "time_sim = 100\n",
    "dt = 1\n",
    "T_init = 298.0\n",
    "\n",
    "n_data = n_train+n_test+n_validation\n",
    "\n",
    "input = []\n",
    "output = []\n",
    "\n",
    "np.random.seed(0)\n",
    "\n",
    "Q_random = np.random.uniform(0.1, 1.25, (n_data, 4))\n",
    "T_interfaces_random = np.random.uniform(260, 310, (n_data, 4))\n",
    "T_env_random = np.random.uniform(260, 310, n_data)"
   ]
  },
  {
   "cell_type": "markdown",
   "metadata": {},
   "source": [
    "Iterating to get the full dataset"
   ]
  },
  {
   "cell_type": "code",
   "execution_count": 12,
   "metadata": {},
   "outputs": [
    {
     "name": "stdout",
     "output_type": "stream",
     "text": [
      "Generating element number:  0\n",
      "Time to generate the data:  0.1488969326019287\n"
     ]
    }
   ],
   "source": [
    "time_start = time.time()\n",
    "\n",
    "for i in range(n_data):\n",
    "    \n",
    "    # Print iteration number\n",
    "    if i%100 == 0:\n",
    "        print(\"Generating element number: \",i)\n",
    "        \n",
    "    # Generate the data\n",
    "    T, _, _, _ = PCB_case_2(solver = 'transient', display=False, time = time_sim, dt = dt, T_init = T_init, Q_heaters = Q_random[i], T_interfaces = T_interfaces_random[i], Tenv = T_env_random[i]) # heaters in default position\n",
    "    # T = T.reshape(T.shape[0], nodes_side,nodes_side) # reshaping the data grid-shape\n",
    "    \n",
    "    # Append the data to the list\n",
    "    output.append(T)\n",
    "    input1 = []\n",
    "    # print(T_interfaces_random[i],Q_random[i],T_env_random[i]) # DEBUGGING\n",
    "    input1 = np.concatenate((T_interfaces_random[i],Q_random[i],[T_env_random[i]]),axis=0)\n",
    "    # print(input1) # DEBUGGING\n",
    "    input.append(input1)\n",
    "    \n",
    "time_end = time.time()\n",
    "time_generation_data = time_end-time_start\n",
    "print(\"Time to generate the data: \",time_generation_data)\n",
    "\n",
    "# transform the lists into numpy arrays\n",
    "input = np.array(input)\n",
    "output = np.array(output)\n",
    "output = output.reshape(output.shape[0], output.shape[1], nodes_side,nodes_side) # reshaping the data grid-shape\n",
    "# print(output.shape) # DEBUGGING"
   ]
  },
  {
   "cell_type": "markdown",
   "metadata": {},
   "source": [
    "Transform dataset into torch tensors"
   ]
  },
  {
   "cell_type": "code",
   "execution_count": 13,
   "metadata": {},
   "outputs": [],
   "source": [
    "# print(input.shape) # DEBUGGING\n",
    "input = torch.tensor(input,dtype=torch.float32)#.to(device)\n",
    "# print(output.shape) # DEBUGGING\n",
    "output = torch.tensor(output,dtype=torch.float32)#.to(device)\n",
    "\n",
    "T_interfaces = np.zeros((n_data, nodes_side,nodes_side))\n",
    "Q_heaters = np.zeros((n_data, nodes_side,nodes_side))\n",
    "T_env = np.zeros((n_data, nodes_side,nodes_side))\n",
    "\n",
    "for i in range(n_data):\n",
    "    Q_heaters[i,6,3], Q_heaters[i,3,6],Q_heaters[i,9,3], Q_heaters[i,9,9] = Q_random[i]\n",
    "    T_interfaces[i,0,0], T_interfaces[i,0,nodes_side-1], T_interfaces[i,nodes_side-1,nodes_side-1], T_interfaces[i,nodes_side-1,0] = T_interfaces_random[i]\n",
    "    T_env[i,:,:] = T_env_random[i]\n",
    "    \n",
    "Q_heaters = torch.tensor(Q_heaters,dtype=torch.float32)#.to(device)\n",
    "T_env = torch.tensor(T_env,dtype=torch.float32)#.to(device)\n",
    "T_interfaces = torch.tensor(T_interfaces,dtype=torch.float32)#.to(device)"
   ]
  },
  {
   "cell_type": "markdown",
   "metadata": {},
   "source": [
    "Calculate averages and standard deviation"
   ]
  },
  {
   "cell_type": "code",
   "execution_count": 14,
   "metadata": {},
   "outputs": [
    {
     "name": "stdout",
     "output_type": "stream",
     "text": [
      "tensor(6.7564) tensor(43.4513) tensor(0.0154) tensor(0.1116) tensor(286.4860) tensor(14.9884) tensor(298.8213) tensor(6.6732)\n"
     ]
    }
   ],
   "source": [
    "# calculate averages and standard deviations\n",
    "T_interfaces_mean = T_interfaces.mean() # careful because calculated with lots of zeros\n",
    "T_interfaces_std = T_interfaces.std()\n",
    "Q_heaters_mean = Q_heaters.mean() # careful because calculated with lots of zeros\n",
    "Q_heaters_std = Q_heaters.std()\n",
    "T_env_mean = T_env.mean()\n",
    "T_env_std = T_env.std()\n",
    "output_mean = output.mean() \n",
    "output_std = output.std()\n",
    "\n",
    "mean_values = np.array([T_interfaces_mean, Q_heaters_mean, T_env_mean])\n",
    "std_values = np.array([T_interfaces_std, Q_heaters_std, T_env_std])\n",
    "\n",
    "print(T_interfaces_mean, T_interfaces_std, Q_heaters_mean, Q_heaters_std, T_env_mean, T_env_std, output_mean, output_std) # DEBUGGING\n",
    "# print(T_interfaces[1, : , :]) # DEBUGGING\n",
    "# print(torch.count_nonzero(Q_heaters[1, : , :])) # DEBUGGING"
   ]
  },
  {
   "cell_type": "markdown",
   "metadata": {},
   "source": [
    "Saving dataset"
   ]
  },
  {
   "cell_type": "code",
   "execution_count": 15,
   "metadata": {},
   "outputs": [],
   "source": [
    "dataset_test = PCBDataset(T_interfaces[:n_test,:,:],Q_heaters[:n_test,:,:],T_env[:n_test,:,:],output[:n_test,:,:],\n",
    "                 T_interfaces_mean,T_interfaces_std,Q_heaters_mean,\n",
    "                 Q_heaters_std,T_env_mean,T_env_std,output_mean,\n",
    "                 output_std)\n",
    "\n",
    "dataset_train = PCBDataset(T_interfaces[n_test:-n_validation,:,:],Q_heaters[n_test:-n_validation,:,:],T_env[n_test:-n_validation,:,:],output[n_test:-n_validation,:,:],\n",
    "                 T_interfaces_mean,T_interfaces_std,Q_heaters_mean,\n",
    "                 Q_heaters_std,T_env_mean,T_env_std,output_mean,\n",
    "                 output_std)\n",
    "\n",
    "dataset_validation = PCBDataset(T_interfaces[-n_validation:,:,:],Q_heaters[-n_validation:,:,:],T_env[-n_validation:,:,:],output[-n_validation:,:,:],\n",
    "                 T_interfaces_mean,T_interfaces_std,Q_heaters_mean,\n",
    "                 Q_heaters_std,T_env_mean,T_env_std,output_mean,\n",
    "                 output_std)\n",
    "\n",
    "dataset = PCBDataset(T_interfaces,Q_heaters,T_env,output,\n",
    "                 T_interfaces_mean,T_interfaces_std,Q_heaters_mean,\n",
    "                 Q_heaters_std,T_env_mean,T_env_std,output_mean,\n",
    "                 output_std)\n",
    "\n",
    "\n",
    "# path directorie for saving datasets\n",
    "path = os.path.join(dir_path,'Datasets')\n",
    "if not os.path.exists(path):\n",
    "    os.makedirs(path)\n",
    "    \n",
    "torch.save(dataset, os.path.join(dir_path,\"Datasets\",'PCB_transient_dataset.pth'))\n",
    "torch.save(dataset_test, os.path.join(dir_path,\"Datasets\",'PCB_transient_dataset_test.pth'))\n",
    "torch.save(dataset_train, os.path.join(dir_path,\"Datasets\",'PCB_transient_dataset_train.pth'))\n",
    "torch.save(dataset_validation, os.path.join(dir_path,\"Datasets\",'PCB_transient_dataset_validation.pth'))"
   ]
  },
  {
   "cell_type": "markdown",
   "metadata": {},
   "source": [
    "# Convolutional LSTM"
   ]
  },
  {
   "cell_type": "markdown",
   "metadata": {},
   "source": [
    "## No-physics Convolutional LSTM"
   ]
  },
  {
   "cell_type": "markdown",
   "metadata": {},
   "source": [
    "Hyperparameters of training"
   ]
  },
  {
   "cell_type": "code",
   "execution_count": 16,
   "metadata": {},
   "outputs": [],
   "source": [
    "epochs = 100\n",
    "lr = 1e-3\n",
    "lrdecay = 0.1\n",
    "lrdecay_patience = 20\n",
    "early_stop_patience = 50\n",
    "batch_size = 32\n",
    "\n",
    "hidden_layers = 32\n",
    "kernel_size = (3, 3)"
   ]
  },
  {
   "cell_type": "code",
   "execution_count": 17,
   "metadata": {},
   "outputs": [],
   "source": [
    "# from Dataset_Class import PCBDataset  # Ensure the PCBDataset class is imported\n",
    "\n",
    "dataset_path = os.path.join(dir_path,'Datasets')\n",
    "\n",
    "# Allowlist the PCBDataset class for safe loading\n",
    "torch.serialization.add_safe_globals([PCBDataset])\n",
    "\n",
    "dataset_test:PCBDataset = torch.load(os.path.join(dataset_path,'PCB_transient_dataset_test.pth'), weights_only=True)\n",
    "dataset_train:PCBDataset = torch.load(os.path.join(dataset_path,'PCB_transient_dataset_train.pth'), weights_only=True)\n",
    "dataset_validation:PCBDataset = torch.load(os.path.join(dataset_path,'PCB_transient_dataset_validation.pth'), weights_only=True)\n",
    "\n",
    "input_train, output_train = dataset_train[:]\n",
    "sequence_length = output_train.shape[1]\n",
    "input_train = input_train.unsqueeze(1).repeat(1, sequence_length, 1, 1, 1) # to mantain boundary conditions in all steps\n",
    "output_train = output_train.unsqueeze(2)  # \n",
    "input_train = input_train.to(device)\n",
    "output_train = output_train.to(device)\n",
    "\n",
    "input_test, output_test = dataset_test[:]\n",
    "input_test = input_test.unsqueeze(1).repeat(1, sequence_length, 1, 1, 1) # to mantain boundary conditions in all steps\n",
    "output_test = output_test.unsqueeze(2)  #\n",
    "input_test = input_test.to(device)\n",
    "output_test = output_test.to(device)\n",
    "\n",
    "input_validation, output_validation = dataset_validation[:]\n",
    "input_validation = input_validation.unsqueeze(1).repeat(1, sequence_length, 1, 1, 1) # to mantain boundary conditions in all steps\n",
    "output_validation = output_validation.unsqueeze(2)  #\n",
    "input_validation = input_validation.to(device)\n",
    "output_validation = output_validation.to(device)"
   ]
  },
  {
   "cell_type": "code",
   "execution_count": 18,
   "metadata": {},
   "outputs": [],
   "source": [
    "from convlstm import *\n",
    "\n",
    "class PCB_ConvLSTM(nn.Module):\n",
    "    def __init__(self, input_channels=3, hidden_dim=32, kernel_size=(3, 3), height=13, width=13):\n",
    "        super().__init__()\n",
    "        self.convlstm = ConvLSTM(input_dim=input_channels,\n",
    "                                 hidden_dim=[hidden_dim],\n",
    "                                 kernel_size=kernel_size,\n",
    "                                 num_layers=1,\n",
    "                                 batch_first=True,\n",
    "                                 bias=True,\n",
    "                                 return_all_layers=False)\n",
    "        \n",
    "        self.decoder = nn.Conv2d(hidden_dim, 1, kernel_size=1)\n",
    "\n",
    "    def forward(self, x):\n",
    "        # x: (B, T, C, H, W)\n",
    "        lstm_out, _ = self.convlstm(x)  # lstm_out[0]: (B, T, hidden_dim, H, W)\n",
    "\n",
    "        # Apply decoder to each time step\n",
    "        decoded = [self.decoder(lstm_out[0][:, t]) for t in range(x.size(1))]\n",
    "        output = torch.stack(decoded, dim=1)  # (B, T, 1, H, W)\n",
    "        return output"
   ]
  },
  {
   "cell_type": "markdown",
   "metadata": {},
   "source": [
    "Definición del modelo"
   ]
  },
  {
   "cell_type": "code",
   "execution_count": 19,
   "metadata": {},
   "outputs": [
    {
     "name": "stdout",
     "output_type": "stream",
     "text": [
      "x está en: cuda:0\n",
      "y está en: cuda:0\n",
      "model está en: cuda:0\n"
     ]
    },
    {
     "name": "stderr",
     "output_type": "stream",
     "text": [
      "c:\\Users\\ismael.gallo\\anaconda3\\envs\\ismael_minimal\\lib\\site-packages\\torch\\optim\\lr_scheduler.py:62: UserWarning: The verbose parameter is deprecated. Please use get_last_lr() to access the learning rate.\n",
      "  warnings.warn(\n"
     ]
    }
   ],
   "source": [
    "train_ds = TensorDataset(input_train, output_train)\n",
    "train_dl = DataLoader(train_ds, batch_size=batch_size, shuffle=True)\n",
    "\n",
    "test_ds = TensorDataset(input_test, output_test)\n",
    "test_dl = DataLoader(test_ds, batch_size=batch_size, shuffle=False)\n",
    "\n",
    "model = PCB_ConvLSTM(input_channels=3, hidden_dim=hidden_layers, kernel_size=kernel_size, height=13, width=13).to(device)\n",
    "\n",
    "criterion = nn.MSELoss()\n",
    "optimizer = torch.optim.Adam(model.parameters(), lr=lr)\n",
    "scheduler = ReduceLROnPlateau(optimizer, mode='min', factor=lrdecay, patience=lrdecay_patience, verbose=True)\n",
    "\n",
    "# DEBUGGING\n",
    "batch = next(iter(train_dl))\n",
    "x, y = batch\n",
    "\n",
    "print(f\"x está en: {x.device}\")\n",
    "print(f\"y está en: {y.device}\")\n",
    "print(f\"model está en: {next(model.parameters()).device}\")"
   ]
  },
  {
   "cell_type": "markdown",
   "metadata": {},
   "source": [
    "Training and saving best model with best parameters."
   ]
  },
  {
   "cell_type": "code",
   "execution_count": 20,
   "metadata": {},
   "outputs": [
    {
     "name": "stderr",
     "output_type": "stream",
     "text": [
      "                                                                     \r"
     ]
    },
    {
     "name": "stdout",
     "output_type": "stream",
     "text": [
      "✓ Saving model (epoch 1) | test_loss improved to 0.759764\n",
      "Epoch   1 | Train Loss: 1.178840 | Test Loss: 0.759764 | Time: 0.42s\n"
     ]
    },
    {
     "name": "stderr",
     "output_type": "stream",
     "text": [
      "                                                                     \r"
     ]
    },
    {
     "name": "stdout",
     "output_type": "stream",
     "text": [
      "✓ Saving model (epoch 2) | test_loss improved to 0.742514\n",
      "Epoch   2 | Train Loss: 1.130378 | Test Loss: 0.742514 | Time: 0.21s\n"
     ]
    },
    {
     "name": "stderr",
     "output_type": "stream",
     "text": [
      "                                                                     \r"
     ]
    },
    {
     "name": "stdout",
     "output_type": "stream",
     "text": [
      "✓ Saving model (epoch 3) | test_loss improved to 0.724542\n",
      "Epoch   3 | Train Loss: 1.083964 | Test Loss: 0.724542 | Time: 0.22s\n"
     ]
    },
    {
     "name": "stderr",
     "output_type": "stream",
     "text": [
      "                                                                     \r"
     ]
    },
    {
     "name": "stdout",
     "output_type": "stream",
     "text": [
      "✓ Saving model (epoch 4) | test_loss improved to 0.705106\n",
      "Epoch   4 | Train Loss: 1.036978 | Test Loss: 0.705106 | Time: 0.23s\n"
     ]
    },
    {
     "name": "stderr",
     "output_type": "stream",
     "text": [
      "                                                                     \r"
     ]
    },
    {
     "name": "stdout",
     "output_type": "stream",
     "text": [
      "✓ Saving model (epoch 5) | test_loss improved to 0.683143\n",
      "Epoch   5 | Train Loss: 0.986558 | Test Loss: 0.683143 | Time: 0.20s\n"
     ]
    },
    {
     "name": "stderr",
     "output_type": "stream",
     "text": [
      "                                                                     \r"
     ]
    },
    {
     "name": "stdout",
     "output_type": "stream",
     "text": [
      "✓ Saving model (epoch 6) | test_loss improved to 0.656882\n",
      "Epoch   6 | Train Loss: 0.929252 | Test Loss: 0.656882 | Time: 0.20s\n"
     ]
    },
    {
     "name": "stderr",
     "output_type": "stream",
     "text": [
      "                                                                     \r"
     ]
    },
    {
     "name": "stdout",
     "output_type": "stream",
     "text": [
      "✓ Saving model (epoch 7) | test_loss improved to 0.622750\n",
      "Epoch   7 | Train Loss: 0.861542 | Test Loss: 0.622750 | Time: 0.20s\n"
     ]
    },
    {
     "name": "stderr",
     "output_type": "stream",
     "text": [
      "                                                                     \r"
     ]
    },
    {
     "name": "stdout",
     "output_type": "stream",
     "text": [
      "✓ Saving model (epoch 8) | test_loss improved to 0.571313\n",
      "Epoch   8 | Train Loss: 0.786506 | Test Loss: 0.571313 | Time: 0.20s\n"
     ]
    },
    {
     "name": "stderr",
     "output_type": "stream",
     "text": [
      "                                                                     \r"
     ]
    },
    {
     "name": "stdout",
     "output_type": "stream",
     "text": [
      "✓ Saving model (epoch 9) | test_loss improved to 0.487499\n",
      "Epoch   9 | Train Loss: 0.739507 | Test Loss: 0.487499 | Time: 0.20s\n"
     ]
    },
    {
     "name": "stderr",
     "output_type": "stream",
     "text": [
      "                                                                      \r"
     ]
    },
    {
     "name": "stdout",
     "output_type": "stream",
     "text": [
      "✓ Saving model (epoch 10) | test_loss improved to 0.467090\n",
      "Epoch  10 | Train Loss: 0.783272 | Test Loss: 0.467090 | Time: 0.20s\n"
     ]
    },
    {
     "name": "stderr",
     "output_type": "stream",
     "text": [
      "                                                                      \r"
     ]
    },
    {
     "name": "stdout",
     "output_type": "stream",
     "text": [
      "No improvement for 1 epoch(s)\n",
      "Epoch  11 | Train Loss: 0.773109 | Test Loss: 0.475831 | Time: 0.19s\n"
     ]
    },
    {
     "name": "stderr",
     "output_type": "stream",
     "text": [
      "                                                                      \r"
     ]
    },
    {
     "name": "stdout",
     "output_type": "stream",
     "text": [
      "No improvement for 2 epoch(s)\n",
      "Epoch  12 | Train Loss: 0.726377 | Test Loss: 0.488291 | Time: 0.19s\n"
     ]
    },
    {
     "name": "stderr",
     "output_type": "stream",
     "text": [
      "                                                                      \r"
     ]
    },
    {
     "name": "stdout",
     "output_type": "stream",
     "text": [
      "No improvement for 3 epoch(s)\n",
      "Epoch  13 | Train Loss: 0.692444 | Test Loss: 0.494155 | Time: 0.20s\n"
     ]
    },
    {
     "name": "stderr",
     "output_type": "stream",
     "text": [
      "                                                                      \r"
     ]
    },
    {
     "name": "stdout",
     "output_type": "stream",
     "text": [
      "No improvement for 4 epoch(s)\n",
      "Epoch  14 | Train Loss: 0.677582 | Test Loss: 0.492559 | Time: 0.19s\n"
     ]
    },
    {
     "name": "stderr",
     "output_type": "stream",
     "text": [
      "                                                                      "
     ]
    },
    {
     "name": "stdout",
     "output_type": "stream",
     "text": [
      "No improvement for 5 epoch(s)\n",
      "Epoch  15 | Train Loss: 0.670321 | Test Loss: 0.484451 | Time: 0.20s\n"
     ]
    },
    {
     "name": "stderr",
     "output_type": "stream",
     "text": [
      "                                                                      \r"
     ]
    },
    {
     "name": "stdout",
     "output_type": "stream",
     "text": [
      "No improvement for 6 epoch(s)\n",
      "Epoch  16 | Train Loss: 0.662249 | Test Loss: 0.470590 | Time: 0.19s\n"
     ]
    },
    {
     "name": "stderr",
     "output_type": "stream",
     "text": [
      "                                                                      \r"
     ]
    },
    {
     "name": "stdout",
     "output_type": "stream",
     "text": [
      "✓ Saving model (epoch 17) | test_loss improved to 0.451384\n",
      "Epoch  17 | Train Loss: 0.649406 | Test Loss: 0.451384 | Time: 0.19s\n"
     ]
    },
    {
     "name": "stderr",
     "output_type": "stream",
     "text": [
      "                                                                      \r"
     ]
    },
    {
     "name": "stdout",
     "output_type": "stream",
     "text": [
      "✓ Saving model (epoch 18) | test_loss improved to 0.427212\n",
      "Epoch  18 | Train Loss: 0.630380 | Test Loss: 0.427212 | Time: 0.21s\n"
     ]
    },
    {
     "name": "stderr",
     "output_type": "stream",
     "text": [
      "                                                                      \r"
     ]
    },
    {
     "name": "stdout",
     "output_type": "stream",
     "text": [
      "✓ Saving model (epoch 19) | test_loss improved to 0.399376\n",
      "Epoch  19 | Train Loss: 0.605205 | Test Loss: 0.399376 | Time: 0.23s\n"
     ]
    },
    {
     "name": "stderr",
     "output_type": "stream",
     "text": [
      "                                                                      \r"
     ]
    },
    {
     "name": "stdout",
     "output_type": "stream",
     "text": [
      "✓ Saving model (epoch 20) | test_loss improved to 0.372912\n",
      "Epoch  20 | Train Loss: 0.575614 | Test Loss: 0.372912 | Time: 0.23s\n"
     ]
    },
    {
     "name": "stderr",
     "output_type": "stream",
     "text": [
      "                                                                      \r"
     ]
    },
    {
     "name": "stdout",
     "output_type": "stream",
     "text": [
      "✓ Saving model (epoch 21) | test_loss improved to 0.364129\n",
      "Epoch  21 | Train Loss: 0.547035 | Test Loss: 0.364129 | Time: 0.20s\n"
     ]
    },
    {
     "name": "stderr",
     "output_type": "stream",
     "text": [
      "                                                                      \r"
     ]
    },
    {
     "name": "stdout",
     "output_type": "stream",
     "text": [
      "No improvement for 1 epoch(s)\n",
      "Epoch  22 | Train Loss: 0.531976 | Test Loss: 0.389442 | Time: 0.20s\n"
     ]
    },
    {
     "name": "stderr",
     "output_type": "stream",
     "text": [
      "                                                                      \r"
     ]
    },
    {
     "name": "stdout",
     "output_type": "stream",
     "text": [
      "No improvement for 2 epoch(s)\n",
      "Epoch  23 | Train Loss: 0.534975 | Test Loss: 0.376773 | Time: 0.22s\n"
     ]
    },
    {
     "name": "stderr",
     "output_type": "stream",
     "text": [
      "                                                                      \r"
     ]
    },
    {
     "name": "stdout",
     "output_type": "stream",
     "text": [
      "✓ Saving model (epoch 24) | test_loss improved to 0.338091\n",
      "Epoch  24 | Train Loss: 0.515171 | Test Loss: 0.338091 | Time: 0.20s\n"
     ]
    },
    {
     "name": "stderr",
     "output_type": "stream",
     "text": [
      "                                                                      \r"
     ]
    },
    {
     "name": "stdout",
     "output_type": "stream",
     "text": [
      "✓ Saving model (epoch 25) | test_loss improved to 0.320770\n",
      "Epoch  25 | Train Loss: 0.485344 | Test Loss: 0.320770 | Time: 0.19s\n"
     ]
    },
    {
     "name": "stderr",
     "output_type": "stream",
     "text": [
      "                                                                      \r"
     ]
    },
    {
     "name": "stdout",
     "output_type": "stream",
     "text": [
      "✓ Saving model (epoch 26) | test_loss improved to 0.311722\n",
      "Epoch  26 | Train Loss: 0.480519 | Test Loss: 0.311722 | Time: 0.20s\n"
     ]
    },
    {
     "name": "stderr",
     "output_type": "stream",
     "text": [
      "                                                                      \r"
     ]
    },
    {
     "name": "stdout",
     "output_type": "stream",
     "text": [
      "✓ Saving model (epoch 27) | test_loss improved to 0.303603\n",
      "Epoch  27 | Train Loss: 0.480116 | Test Loss: 0.303603 | Time: 0.20s\n"
     ]
    },
    {
     "name": "stderr",
     "output_type": "stream",
     "text": [
      "                                                                      \r"
     ]
    },
    {
     "name": "stdout",
     "output_type": "stream",
     "text": [
      "✓ Saving model (epoch 28) | test_loss improved to 0.297427\n",
      "Epoch  28 | Train Loss: 0.470932 | Test Loss: 0.297427 | Time: 0.20s\n"
     ]
    },
    {
     "name": "stderr",
     "output_type": "stream",
     "text": [
      "                                                                      \r"
     ]
    },
    {
     "name": "stdout",
     "output_type": "stream",
     "text": [
      "No improvement for 1 epoch(s)\n",
      "Epoch  29 | Train Loss: 0.453122 | Test Loss: 0.299153 | Time: 0.19s\n"
     ]
    },
    {
     "name": "stderr",
     "output_type": "stream",
     "text": [
      "                                                                      \r"
     ]
    },
    {
     "name": "stdout",
     "output_type": "stream",
     "text": [
      "No improvement for 2 epoch(s)\n",
      "Epoch  30 | Train Loss: 0.433114 | Test Loss: 0.317351 | Time: 0.20s\n"
     ]
    },
    {
     "name": "stderr",
     "output_type": "stream",
     "text": [
      "                                                                      \r"
     ]
    },
    {
     "name": "stdout",
     "output_type": "stream",
     "text": [
      "No improvement for 3 epoch(s)\n",
      "Epoch  31 | Train Loss: 0.425456 | Test Loss: 0.331262 | Time: 0.20s\n"
     ]
    },
    {
     "name": "stderr",
     "output_type": "stream",
     "text": [
      "                                                                      \r"
     ]
    },
    {
     "name": "stdout",
     "output_type": "stream",
     "text": [
      "No improvement for 4 epoch(s)\n",
      "Epoch  32 | Train Loss: 0.430892 | Test Loss: 0.301303 | Time: 0.19s\n"
     ]
    },
    {
     "name": "stderr",
     "output_type": "stream",
     "text": [
      "                                                                      \r"
     ]
    },
    {
     "name": "stdout",
     "output_type": "stream",
     "text": [
      "✓ Saving model (epoch 33) | test_loss improved to 0.280687\n",
      "Epoch  33 | Train Loss: 0.409559 | Test Loss: 0.280687 | Time: 0.20s\n"
     ]
    },
    {
     "name": "stderr",
     "output_type": "stream",
     "text": [
      "                                                                      \r"
     ]
    },
    {
     "name": "stdout",
     "output_type": "stream",
     "text": [
      "✓ Saving model (epoch 34) | test_loss improved to 0.270409\n",
      "Epoch  34 | Train Loss: 0.405404 | Test Loss: 0.270409 | Time: 0.19s\n"
     ]
    },
    {
     "name": "stderr",
     "output_type": "stream",
     "text": [
      "                                                                      \r"
     ]
    },
    {
     "name": "stdout",
     "output_type": "stream",
     "text": [
      "✓ Saving model (epoch 35) | test_loss improved to 0.264621\n",
      "Epoch  35 | Train Loss: 0.405693 | Test Loss: 0.264621 | Time: 0.20s\n"
     ]
    },
    {
     "name": "stderr",
     "output_type": "stream",
     "text": [
      "                                                                      \r"
     ]
    },
    {
     "name": "stdout",
     "output_type": "stream",
     "text": [
      "✓ Saving model (epoch 36) | test_loss improved to 0.261383\n",
      "Epoch  36 | Train Loss: 0.402366 | Test Loss: 0.261383 | Time: 0.20s\n"
     ]
    },
    {
     "name": "stderr",
     "output_type": "stream",
     "text": [
      "                                                                      \r"
     ]
    },
    {
     "name": "stdout",
     "output_type": "stream",
     "text": [
      "No improvement for 1 epoch(s)\n",
      "Epoch  37 | Train Loss: 0.394227 | Test Loss: 0.261585 | Time: 0.21s\n"
     ]
    },
    {
     "name": "stderr",
     "output_type": "stream",
     "text": [
      "                                                                      \r"
     ]
    },
    {
     "name": "stdout",
     "output_type": "stream",
     "text": [
      "No improvement for 2 epoch(s)\n",
      "Epoch  38 | Train Loss: 0.384165 | Test Loss: 0.266884 | Time: 0.19s\n"
     ]
    },
    {
     "name": "stderr",
     "output_type": "stream",
     "text": [
      "                                                                      \r"
     ]
    },
    {
     "name": "stdout",
     "output_type": "stream",
     "text": [
      "No improvement for 3 epoch(s)\n",
      "Epoch  39 | Train Loss: 0.380521 | Test Loss: 0.266084 | Time: 0.19s\n"
     ]
    },
    {
     "name": "stderr",
     "output_type": "stream",
     "text": [
      "                                                                      \r"
     ]
    },
    {
     "name": "stdout",
     "output_type": "stream",
     "text": [
      "✓ Saving model (epoch 40) | test_loss improved to 0.248612\n",
      "Epoch  40 | Train Loss: 0.378312 | Test Loss: 0.248612 | Time: 0.19s\n"
     ]
    },
    {
     "name": "stderr",
     "output_type": "stream",
     "text": [
      "                                                                      \r"
     ]
    },
    {
     "name": "stdout",
     "output_type": "stream",
     "text": [
      "✓ Saving model (epoch 41) | test_loss improved to 0.235258\n",
      "Epoch  41 | Train Loss: 0.364940 | Test Loss: 0.235258 | Time: 0.20s\n"
     ]
    },
    {
     "name": "stderr",
     "output_type": "stream",
     "text": [
      "                                                                      \r"
     ]
    },
    {
     "name": "stdout",
     "output_type": "stream",
     "text": [
      "✓ Saving model (epoch 42) | test_loss improved to 0.228130\n",
      "Epoch  42 | Train Loss: 0.360989 | Test Loss: 0.228130 | Time: 0.21s\n"
     ]
    },
    {
     "name": "stderr",
     "output_type": "stream",
     "text": [
      "                                                                      \r"
     ]
    },
    {
     "name": "stdout",
     "output_type": "stream",
     "text": [
      "No improvement for 1 epoch(s)\n",
      "Epoch  43 | Train Loss: 0.356184 | Test Loss: 0.228465 | Time: 0.20s\n"
     ]
    },
    {
     "name": "stderr",
     "output_type": "stream",
     "text": [
      "                                                                      \r"
     ]
    },
    {
     "name": "stdout",
     "output_type": "stream",
     "text": [
      "No improvement for 2 epoch(s)\n",
      "Epoch  44 | Train Loss: 0.344773 | Test Loss: 0.252015 | Time: 0.19s\n"
     ]
    },
    {
     "name": "stderr",
     "output_type": "stream",
     "text": [
      "                                                                      \r"
     ]
    },
    {
     "name": "stdout",
     "output_type": "stream",
     "text": [
      "No improvement for 3 epoch(s)\n",
      "Epoch  45 | Train Loss: 0.339411 | Test Loss: 0.251121 | Time: 0.20s\n"
     ]
    },
    {
     "name": "stderr",
     "output_type": "stream",
     "text": [
      "                                                                      \r"
     ]
    },
    {
     "name": "stdout",
     "output_type": "stream",
     "text": [
      "✓ Saving model (epoch 46) | test_loss improved to 0.216922\n",
      "Epoch  46 | Train Loss: 0.332113 | Test Loss: 0.216922 | Time: 0.20s\n"
     ]
    },
    {
     "name": "stderr",
     "output_type": "stream",
     "text": [
      "                                                                      \r"
     ]
    },
    {
     "name": "stdout",
     "output_type": "stream",
     "text": [
      "✓ Saving model (epoch 47) | test_loss improved to 0.215592\n",
      "Epoch  47 | Train Loss: 0.328041 | Test Loss: 0.215592 | Time: 0.19s\n"
     ]
    },
    {
     "name": "stderr",
     "output_type": "stream",
     "text": [
      "                                                                      \r"
     ]
    },
    {
     "name": "stdout",
     "output_type": "stream",
     "text": [
      "No improvement for 1 epoch(s)\n",
      "Epoch  48 | Train Loss: 0.321890 | Test Loss: 0.277820 | Time: 0.19s\n"
     ]
    },
    {
     "name": "stderr",
     "output_type": "stream",
     "text": [
      "                                                                      \r"
     ]
    },
    {
     "name": "stdout",
     "output_type": "stream",
     "text": [
      "No improvement for 2 epoch(s)\n",
      "Epoch  49 | Train Loss: 0.319191 | Test Loss: 0.241494 | Time: 0.19s\n"
     ]
    },
    {
     "name": "stderr",
     "output_type": "stream",
     "text": [
      "                                                                      \r"
     ]
    },
    {
     "name": "stdout",
     "output_type": "stream",
     "text": [
      "✓ Saving model (epoch 50) | test_loss improved to 0.193664\n",
      "Epoch  50 | Train Loss: 0.308045 | Test Loss: 0.193664 | Time: 0.19s\n"
     ]
    },
    {
     "name": "stderr",
     "output_type": "stream",
     "text": [
      "                                                                      \r"
     ]
    },
    {
     "name": "stdout",
     "output_type": "stream",
     "text": [
      "No improvement for 1 epoch(s)\n",
      "Epoch  51 | Train Loss: 0.309633 | Test Loss: 0.242882 | Time: 0.20s\n"
     ]
    },
    {
     "name": "stderr",
     "output_type": "stream",
     "text": [
      "                                                                      \r"
     ]
    },
    {
     "name": "stdout",
     "output_type": "stream",
     "text": [
      "No improvement for 2 epoch(s)\n",
      "Epoch  52 | Train Loss: 0.297639 | Test Loss: 0.256104 | Time: 0.20s\n"
     ]
    },
    {
     "name": "stderr",
     "output_type": "stream",
     "text": [
      "                                                                      \r"
     ]
    },
    {
     "name": "stdout",
     "output_type": "stream",
     "text": [
      "✓ Saving model (epoch 53) | test_loss improved to 0.186116\n",
      "Epoch  53 | Train Loss: 0.295083 | Test Loss: 0.186116 | Time: 0.20s\n"
     ]
    },
    {
     "name": "stderr",
     "output_type": "stream",
     "text": [
      "                                                                      \r"
     ]
    },
    {
     "name": "stdout",
     "output_type": "stream",
     "text": [
      "No improvement for 1 epoch(s)\n",
      "Epoch  54 | Train Loss: 0.290922 | Test Loss: 0.208396 | Time: 0.20s\n"
     ]
    },
    {
     "name": "stderr",
     "output_type": "stream",
     "text": [
      "                                                                      \r"
     ]
    },
    {
     "name": "stdout",
     "output_type": "stream",
     "text": [
      "No improvement for 2 epoch(s)\n",
      "Epoch  55 | Train Loss: 0.282518 | Test Loss: 0.264687 | Time: 0.20s\n"
     ]
    },
    {
     "name": "stderr",
     "output_type": "stream",
     "text": [
      "                                                                      \r"
     ]
    },
    {
     "name": "stdout",
     "output_type": "stream",
     "text": [
      "No improvement for 3 epoch(s)\n",
      "Epoch  56 | Train Loss: 0.283342 | Test Loss: 0.187652 | Time: 0.21s\n"
     ]
    },
    {
     "name": "stderr",
     "output_type": "stream",
     "text": [
      "                                                                      \r"
     ]
    },
    {
     "name": "stdout",
     "output_type": "stream",
     "text": [
      "No improvement for 4 epoch(s)\n",
      "Epoch  57 | Train Loss: 0.278866 | Test Loss: 0.246298 | Time: 0.19s\n"
     ]
    },
    {
     "name": "stderr",
     "output_type": "stream",
     "text": [
      "                                                                      \r"
     ]
    },
    {
     "name": "stdout",
     "output_type": "stream",
     "text": [
      "No improvement for 5 epoch(s)\n",
      "Epoch  58 | Train Loss: 0.270013 | Test Loss: 0.251990 | Time: 0.19s\n"
     ]
    },
    {
     "name": "stderr",
     "output_type": "stream",
     "text": [
      "                                                                      \r"
     ]
    },
    {
     "name": "stdout",
     "output_type": "stream",
     "text": [
      "No improvement for 6 epoch(s)\n",
      "Epoch  59 | Train Loss: 0.266127 | Test Loss: 0.191180 | Time: 0.19s\n"
     ]
    },
    {
     "name": "stderr",
     "output_type": "stream",
     "text": [
      "                                                                      \r"
     ]
    },
    {
     "name": "stdout",
     "output_type": "stream",
     "text": [
      "No improvement for 7 epoch(s)\n",
      "Epoch  60 | Train Loss: 0.267431 | Test Loss: 0.303179 | Time: 0.21s\n"
     ]
    },
    {
     "name": "stderr",
     "output_type": "stream",
     "text": [
      "                                                                      \r"
     ]
    },
    {
     "name": "stdout",
     "output_type": "stream",
     "text": [
      "✓ Saving model (epoch 61) | test_loss improved to 0.168115\n",
      "Epoch  61 | Train Loss: 0.270110 | Test Loss: 0.168115 | Time: 0.20s\n"
     ]
    },
    {
     "name": "stderr",
     "output_type": "stream",
     "text": [
      "                                                                      \r"
     ]
    },
    {
     "name": "stdout",
     "output_type": "stream",
     "text": [
      "No improvement for 1 epoch(s)\n",
      "Epoch  62 | Train Loss: 0.264628 | Test Loss: 0.222607 | Time: 0.19s\n"
     ]
    },
    {
     "name": "stderr",
     "output_type": "stream",
     "text": [
      "                                                                      \r"
     ]
    },
    {
     "name": "stdout",
     "output_type": "stream",
     "text": [
      "No improvement for 2 epoch(s)\n",
      "Epoch  63 | Train Loss: 0.254911 | Test Loss: 0.213893 | Time: 0.20s\n"
     ]
    },
    {
     "name": "stderr",
     "output_type": "stream",
     "text": [
      "                                                                      \r"
     ]
    },
    {
     "name": "stdout",
     "output_type": "stream",
     "text": [
      "✓ Saving model (epoch 64) | test_loss improved to 0.161366\n",
      "Epoch  64 | Train Loss: 0.252068 | Test Loss: 0.161366 | Time: 0.20s\n"
     ]
    },
    {
     "name": "stderr",
     "output_type": "stream",
     "text": [
      "                                                                      \r"
     ]
    },
    {
     "name": "stdout",
     "output_type": "stream",
     "text": [
      "No improvement for 1 epoch(s)\n",
      "Epoch  65 | Train Loss: 0.253813 | Test Loss: 0.226357 | Time: 0.19s\n"
     ]
    },
    {
     "name": "stderr",
     "output_type": "stream",
     "text": [
      "                                                                      \r"
     ]
    },
    {
     "name": "stdout",
     "output_type": "stream",
     "text": [
      "No improvement for 2 epoch(s)\n",
      "Epoch  66 | Train Loss: 0.247948 | Test Loss: 0.207786 | Time: 0.20s\n"
     ]
    },
    {
     "name": "stderr",
     "output_type": "stream",
     "text": [
      "                                                                      \r"
     ]
    },
    {
     "name": "stdout",
     "output_type": "stream",
     "text": [
      "No improvement for 3 epoch(s)\n",
      "Epoch  67 | Train Loss: 0.243225 | Test Loss: 0.163430 | Time: 0.20s\n"
     ]
    },
    {
     "name": "stderr",
     "output_type": "stream",
     "text": [
      "                                                                      \r"
     ]
    },
    {
     "name": "stdout",
     "output_type": "stream",
     "text": [
      "No improvement for 4 epoch(s)\n",
      "Epoch  68 | Train Loss: 0.245797 | Test Loss: 0.221666 | Time: 0.20s\n"
     ]
    },
    {
     "name": "stderr",
     "output_type": "stream",
     "text": [
      "                                                                      \r"
     ]
    },
    {
     "name": "stdout",
     "output_type": "stream",
     "text": [
      "No improvement for 5 epoch(s)\n",
      "Epoch  69 | Train Loss: 0.241692 | Test Loss: 0.187587 | Time: 0.20s\n"
     ]
    },
    {
     "name": "stderr",
     "output_type": "stream",
     "text": [
      "                                                                      \r"
     ]
    },
    {
     "name": "stdout",
     "output_type": "stream",
     "text": [
      "✓ Saving model (epoch 70) | test_loss improved to 0.147548\n",
      "Epoch  70 | Train Loss: 0.236657 | Test Loss: 0.147548 | Time: 0.20s\n"
     ]
    },
    {
     "name": "stderr",
     "output_type": "stream",
     "text": [
      "                                                                      \r"
     ]
    },
    {
     "name": "stdout",
     "output_type": "stream",
     "text": [
      "No improvement for 1 epoch(s)\n",
      "Epoch  71 | Train Loss: 0.238679 | Test Loss: 0.186760 | Time: 0.23s\n"
     ]
    },
    {
     "name": "stderr",
     "output_type": "stream",
     "text": [
      "                                                                      \r"
     ]
    },
    {
     "name": "stdout",
     "output_type": "stream",
     "text": [
      "No improvement for 2 epoch(s)\n",
      "Epoch  72 | Train Loss: 0.234434 | Test Loss: 0.178446 | Time: 0.20s\n"
     ]
    },
    {
     "name": "stderr",
     "output_type": "stream",
     "text": [
      "                                                                      \r"
     ]
    },
    {
     "name": "stdout",
     "output_type": "stream",
     "text": [
      "✓ Saving model (epoch 73) | test_loss improved to 0.142616\n",
      "Epoch  73 | Train Loss: 0.231488 | Test Loss: 0.142616 | Time: 0.19s\n"
     ]
    },
    {
     "name": "stderr",
     "output_type": "stream",
     "text": [
      "                                                                      "
     ]
    },
    {
     "name": "stdout",
     "output_type": "stream",
     "text": [
      "No improvement for 1 epoch(s)\n",
      "Epoch  74 | Train Loss: 0.232365 | Test Loss: 0.179354 | Time: 0.20s\n"
     ]
    },
    {
     "name": "stderr",
     "output_type": "stream",
     "text": [
      "                                                                      \r"
     ]
    },
    {
     "name": "stdout",
     "output_type": "stream",
     "text": [
      "No improvement for 2 epoch(s)\n",
      "Epoch  75 | Train Loss: 0.227732 | Test Loss: 0.179006 | Time: 0.20s\n"
     ]
    },
    {
     "name": "stderr",
     "output_type": "stream",
     "text": [
      "                                                                      \r"
     ]
    },
    {
     "name": "stdout",
     "output_type": "stream",
     "text": [
      "✓ Saving model (epoch 76) | test_loss improved to 0.139745\n",
      "Epoch  76 | Train Loss: 0.226319 | Test Loss: 0.139745 | Time: 0.20s\n"
     ]
    },
    {
     "name": "stderr",
     "output_type": "stream",
     "text": [
      "                                                                      \r"
     ]
    },
    {
     "name": "stdout",
     "output_type": "stream",
     "text": [
      "No improvement for 1 epoch(s)\n",
      "Epoch  77 | Train Loss: 0.226734 | Test Loss: 0.168585 | Time: 0.20s\n"
     ]
    },
    {
     "name": "stderr",
     "output_type": "stream",
     "text": [
      "                                                                      \r"
     ]
    },
    {
     "name": "stdout",
     "output_type": "stream",
     "text": [
      "No improvement for 2 epoch(s)\n",
      "Epoch  78 | Train Loss: 0.223021 | Test Loss: 0.162113 | Time: 0.20s\n"
     ]
    },
    {
     "name": "stderr",
     "output_type": "stream",
     "text": [
      "                                                                      \r"
     ]
    },
    {
     "name": "stdout",
     "output_type": "stream",
     "text": [
      "✓ Saving model (epoch 79) | test_loss improved to 0.134621\n",
      "Epoch  79 | Train Loss: 0.221221 | Test Loss: 0.134621 | Time: 0.20s\n"
     ]
    },
    {
     "name": "stderr",
     "output_type": "stream",
     "text": [
      "                                                                      "
     ]
    },
    {
     "name": "stdout",
     "output_type": "stream",
     "text": [
      "No improvement for 1 epoch(s)\n",
      "Epoch  80 | Train Loss: 0.221786 | Test Loss: 0.169853 | Time: 0.19s\n"
     ]
    },
    {
     "name": "stderr",
     "output_type": "stream",
     "text": [
      "                                                                      \r"
     ]
    },
    {
     "name": "stdout",
     "output_type": "stream",
     "text": [
      "No improvement for 2 epoch(s)\n",
      "Epoch  81 | Train Loss: 0.219289 | Test Loss: 0.154633 | Time: 0.20s\n"
     ]
    },
    {
     "name": "stderr",
     "output_type": "stream",
     "text": [
      "                                                                      \r"
     ]
    },
    {
     "name": "stdout",
     "output_type": "stream",
     "text": [
      "No improvement for 3 epoch(s)\n",
      "Epoch  82 | Train Loss: 0.216379 | Test Loss: 0.134970 | Time: 0.20s\n"
     ]
    },
    {
     "name": "stderr",
     "output_type": "stream",
     "text": [
      "                                                                      \r"
     ]
    },
    {
     "name": "stdout",
     "output_type": "stream",
     "text": [
      "No improvement for 4 epoch(s)\n",
      "Epoch  83 | Train Loss: 0.217353 | Test Loss: 0.169642 | Time: 0.19s\n"
     ]
    },
    {
     "name": "stderr",
     "output_type": "stream",
     "text": [
      "                                                                      "
     ]
    },
    {
     "name": "stdout",
     "output_type": "stream",
     "text": [
      "✓ Saving model (epoch 84) | test_loss improved to 0.132438\n",
      "Epoch  84 | Train Loss: 0.217296 | Test Loss: 0.132438 | Time: 0.20s\n"
     ]
    },
    {
     "name": "stderr",
     "output_type": "stream",
     "text": [
      "                                                                      \r"
     ]
    },
    {
     "name": "stdout",
     "output_type": "stream",
     "text": [
      "✓ Saving model (epoch 85) | test_loss improved to 0.127410\n",
      "Epoch  85 | Train Loss: 0.213150 | Test Loss: 0.127410 | Time: 0.20s\n"
     ]
    },
    {
     "name": "stderr",
     "output_type": "stream",
     "text": [
      "                                                                      \r"
     ]
    },
    {
     "name": "stdout",
     "output_type": "stream",
     "text": [
      "No improvement for 1 epoch(s)\n",
      "Epoch  86 | Train Loss: 0.212263 | Test Loss: 0.150369 | Time: 0.20s\n"
     ]
    },
    {
     "name": "stderr",
     "output_type": "stream",
     "text": [
      "                                                                      \r"
     ]
    },
    {
     "name": "stdout",
     "output_type": "stream",
     "text": [
      "✓ Saving model (epoch 87) | test_loss improved to 0.124674\n",
      "Epoch  87 | Train Loss: 0.213171 | Test Loss: 0.124674 | Time: 0.21s\n"
     ]
    },
    {
     "name": "stderr",
     "output_type": "stream",
     "text": [
      "                                                                      \r"
     ]
    },
    {
     "name": "stdout",
     "output_type": "stream",
     "text": [
      "No improvement for 1 epoch(s)\n",
      "Epoch  88 | Train Loss: 0.210355 | Test Loss: 0.130511 | Time: 0.20s\n"
     ]
    },
    {
     "name": "stderr",
     "output_type": "stream",
     "text": [
      "                                                                      \r"
     ]
    },
    {
     "name": "stdout",
     "output_type": "stream",
     "text": [
      "No improvement for 2 epoch(s)\n",
      "Epoch  89 | Train Loss: 0.208203 | Test Loss: 0.138664 | Time: 0.20s\n"
     ]
    },
    {
     "name": "stderr",
     "output_type": "stream",
     "text": [
      "                                                                      \r"
     ]
    },
    {
     "name": "stdout",
     "output_type": "stream",
     "text": [
      "✓ Saving model (epoch 90) | test_loss improved to 0.118756\n",
      "Epoch  90 | Train Loss: 0.208042 | Test Loss: 0.118756 | Time: 0.20s\n"
     ]
    },
    {
     "name": "stderr",
     "output_type": "stream",
     "text": [
      "                                                                      \r"
     ]
    },
    {
     "name": "stdout",
     "output_type": "stream",
     "text": [
      "No improvement for 1 epoch(s)\n",
      "Epoch  91 | Train Loss: 0.208126 | Test Loss: 0.141534 | Time: 0.20s\n"
     ]
    },
    {
     "name": "stderr",
     "output_type": "stream",
     "text": [
      "                                                                      \r"
     ]
    },
    {
     "name": "stdout",
     "output_type": "stream",
     "text": [
      "✓ Saving model (epoch 92) | test_loss improved to 0.116566\n",
      "Epoch  92 | Train Loss: 0.208298 | Test Loss: 0.116566 | Time: 0.20s\n"
     ]
    },
    {
     "name": "stderr",
     "output_type": "stream",
     "text": [
      "                                                                      \r"
     ]
    },
    {
     "name": "stdout",
     "output_type": "stream",
     "text": [
      "No improvement for 1 epoch(s)\n",
      "Epoch  93 | Train Loss: 0.205964 | Test Loss: 0.130518 | Time: 0.20s\n"
     ]
    },
    {
     "name": "stderr",
     "output_type": "stream",
     "text": [
      "                                                                      \r"
     ]
    },
    {
     "name": "stdout",
     "output_type": "stream",
     "text": [
      "No improvement for 2 epoch(s)\n",
      "Epoch  94 | Train Loss: 0.204071 | Test Loss: 0.119535 | Time: 0.20s\n"
     ]
    },
    {
     "name": "stderr",
     "output_type": "stream",
     "text": [
      "                                                                      \r"
     ]
    },
    {
     "name": "stdout",
     "output_type": "stream",
     "text": [
      "No improvement for 3 epoch(s)\n",
      "Epoch  95 | Train Loss: 0.202412 | Test Loss: 0.116678 | Time: 0.19s\n"
     ]
    },
    {
     "name": "stderr",
     "output_type": "stream",
     "text": [
      "                                                                      \r"
     ]
    },
    {
     "name": "stdout",
     "output_type": "stream",
     "text": [
      "No improvement for 4 epoch(s)\n",
      "Epoch  96 | Train Loss: 0.201625 | Test Loss: 0.123546 | Time: 0.20s\n"
     ]
    },
    {
     "name": "stderr",
     "output_type": "stream",
     "text": [
      "                                                                      \r"
     ]
    },
    {
     "name": "stdout",
     "output_type": "stream",
     "text": [
      "✓ Saving model (epoch 97) | test_loss improved to 0.111326\n",
      "Epoch  97 | Train Loss: 0.201457 | Test Loss: 0.111326 | Time: 0.20s\n"
     ]
    },
    {
     "name": "stderr",
     "output_type": "stream",
     "text": [
      "                                                                      \r"
     ]
    },
    {
     "name": "stdout",
     "output_type": "stream",
     "text": [
      "No improvement for 1 epoch(s)\n",
      "Epoch  98 | Train Loss: 0.201007 | Test Loss: 0.126165 | Time: 0.20s\n"
     ]
    },
    {
     "name": "stderr",
     "output_type": "stream",
     "text": [
      "                                                                      \r"
     ]
    },
    {
     "name": "stdout",
     "output_type": "stream",
     "text": [
      "✓ Saving model (epoch 99) | test_loss improved to 0.109754\n",
      "Epoch  99 | Train Loss: 0.200869 | Test Loss: 0.109754 | Time: 0.20s\n"
     ]
    },
    {
     "name": "stderr",
     "output_type": "stream",
     "text": [
      "                                                                       "
     ]
    },
    {
     "name": "stdout",
     "output_type": "stream",
     "text": [
      "No improvement for 1 epoch(s)\n",
      "Epoch 100 | Train Loss: 0.200985 | Test Loss: 0.134954 | Time: 0.20s\n"
     ]
    },
    {
     "name": "stderr",
     "output_type": "stream",
     "text": [
      "\r"
     ]
    }
   ],
   "source": [
    "train_loss = []\n",
    "test_loss = []\n",
    "best_test_loss = np.inf\n",
    "epochs_without_improvement = 0\n",
    "\n",
    "kernel_string = f\"{kernel_size[0]}x{kernel_size[1]}\"\n",
    "model_dir = os.path.join(dir_path, 'models', 'ConvLSTM')\n",
    "os.makedirs(model_dir, exist_ok=True)\n",
    "\n",
    "# Nombre del archivo con hiperparámetros\n",
    "filename = f\"PCB_ConvLSTM_nt{n_train}_bs{batch_size}_h{hidden_layers}_k{kernel_string}.pth\"\n",
    "\n",
    "# Ruta completa del modelo\n",
    "model_path = os.path.join(model_dir, filename)\n",
    "\n",
    "# ruta para el JSON\n",
    "json_path = model_path.replace('.pth', '.json')\n",
    "\n",
    "start_time_training = time.time()\n",
    "start_datetime = datetime.datetime.now().strftime(\"%Y-%m-%d %H:%M:%S\")\n",
    "\n",
    "for epoch in range(epochs):\n",
    "    model.train()\n",
    "    total_loss = 0.0\n",
    "    start_time_epoch = time.time()\n",
    "\n",
    "    # Entrenamiento\n",
    "    for x, y in tqdm(train_dl, desc=f\"Epoch {epoch+1}/{epochs} - Training\", leave=False):\n",
    "        optimizer.zero_grad()\n",
    "        y_hat = model(x)\n",
    "        loss = criterion(y_hat, y)\n",
    "        loss.backward()\n",
    "        optimizer.step()\n",
    "        total_loss += loss.detach().item()\n",
    "\n",
    "    epoch_train_loss = total_loss / len(train_dl)\n",
    "    train_loss.append(epoch_train_loss)\n",
    "\n",
    "    # Validación\n",
    "    model.eval()\n",
    "    total_test_loss = 0.0\n",
    "    with torch.no_grad():\n",
    "        for x_test, y_test in test_dl:\n",
    "            y_pred = model(x_test)\n",
    "            test = criterion(y_pred, y_test)\n",
    "            total_test_loss += test.item()\n",
    "\n",
    "    epoch_test_loss = total_test_loss / len(test_dl)\n",
    "    test_loss.append(epoch_test_loss)\n",
    "    \n",
    "    # Scheduler update\n",
    "    scheduler.step(epoch_test_loss)\n",
    "    \n",
    "    # Early stopping check\n",
    "    if epoch_test_loss < best_test_loss:\n",
    "        best_test_loss = epoch_test_loss\n",
    "        \n",
    "        # Guardar el modelo\n",
    "        torch.save(model.state_dict(), model_path)\n",
    "        \n",
    "        elapsed_training = time.time() - start_time_training\n",
    "        elapsed_minutes = elapsed_training / 60\n",
    "    \n",
    "        # Guardar hiperparámetros en JSON  \n",
    "        params = {\n",
    "            'start_datetime': start_datetime,\n",
    "            'training_duration_minutes': elapsed_minutes,\n",
    "            \"system_specs\": system_specs,\n",
    "            'hidden_layers': hidden_layers,\n",
    "            'kernel_size': kernel_string,\n",
    "            'batch_size': batch_size,\n",
    "            'lr': lr,\n",
    "            \"scheduler\":{\n",
    "                \"type\": \"ReduceLROnPlateau\",\n",
    "                \"factor\": lrdecay,\n",
    "                \"patience\": lrdecay_patience\n",
    "            },\n",
    "            'early_stop_patience': early_stop_patience,\n",
    "            'epochs_trained': epoch + 1,\n",
    "            'best_test_loss': best_test_loss,\n",
    "            \"train_loss\": list(map(float, train_loss)),\n",
    "            \"test_loss\": list(map(float, test_loss)),\n",
    "        }\n",
    "        \n",
    "        with open(json_path, 'w') as f:\n",
    "            json.dump(params, f, indent=4)\n",
    "    \n",
    "        print(f\"✓ Saving model (epoch {epoch+1}) | test_loss improved to {best_test_loss:.6f}\")\n",
    "        epochs_without_improvement = 0\n",
    "    else:\n",
    "        epochs_without_improvement += 1\n",
    "        print(f\"No improvement for {epochs_without_improvement} epoch(s)\")\n",
    "        \n",
    "    if epochs_without_improvement >= early_stop_patience:\n",
    "        print(f\"⚠️ Early stopping at epoch {epoch+1} — no improvement for {early_stop_patience} epochs.\")\n",
    "        break\n",
    "\n",
    "    # Estadísticas finales de la época\n",
    "    elapsed_epoch = time.time() - start_time_epoch\n",
    "    print(f\"Epoch {epoch+1:3d} | Train Loss: {epoch_train_loss:.6f} | Test Loss: {epoch_test_loss:.6f} | Time: {elapsed_epoch:.2f}s\")"
   ]
  },
  {
   "cell_type": "markdown",
   "metadata": {},
   "source": [
    "Plotting validation loss and train loss"
   ]
  },
  {
   "cell_type": "code",
   "execution_count": 21,
   "metadata": {},
   "outputs": [
    {
     "data": {
      "image/png": "[encoded data removed]",
      "text/plain": [
       "<Figure size 640x480 with 1 Axes>"
      ]
     },
     "metadata": {},
     "output_type": "display_data"
    }
   ],
   "source": [
    "plot_loss_evolution(train_loss, test_loss)"
   ]
  },
  {
   "cell_type": "markdown",
   "metadata": {},
   "source": [
    "### Evaluation"
   ]
  },
  {
   "cell_type": "code",
   "execution_count": 22,
   "metadata": {},
   "outputs": [
    {
     "name": "stdout",
     "output_type": "stream",
     "text": [
      "Test Loss: 0.109754\n"
     ]
    },
    {
     "name": "stderr",
     "output_type": "stream",
     "text": [
      "C:\\Users\\ismael.gallo\\AppData\\Local\\Temp\\ipykernel_4260\\3683357988.py:3: FutureWarning: You are using `torch.load` with `weights_only=False` (the current default value), which uses the default pickle module implicitly. It is possible to construct malicious pickle data which will execute arbitrary code during unpickling (See https://github.com/pytorch/pytorch/blob/main/SECURITY.md#untrusted-models for more details). In a future release, the default value for `weights_only` will be flipped to `True`. This limits the functions that could be executed during unpickling. Arbitrary objects will no longer be allowed to be loaded via this mode unless they are explicitly allowlisted by the user via `torch.serialization.add_safe_globals`. We recommend you start setting `weights_only=True` for any use case where you don't have full control of the loaded file. Please open an issue on GitHub for any issues related to this experimental feature.\n",
      "  model.load_state_dict(torch.load(model_path))\n"
     ]
    }
   ],
   "source": [
    "# load the best model \n",
    "model = PCB_ConvLSTM(input_channels=3, hidden_dim=32, kernel_size=(3, 3), height=13, width=13).to(device)\n",
    "model.load_state_dict(torch.load(model_path))\n",
    "model.eval()\n",
    "\n",
    "with torch.no_grad():\n",
    "    y_pred = model(input_test)  # (B, T, 1, H, W)\n",
    "    test_loss = criterion(y_pred, output_test)\n",
    "    print(f\"Test Loss: {test_loss.item():.6f}\")"
   ]
  },
  {
   "cell_type": "markdown",
   "metadata": {},
   "source": [
    "### Plotting results"
   ]
  },
  {
   "cell_type": "markdown",
   "metadata": {},
   "source": [
    "We are going to plot the temperature evolution in the four nodes corresponding with the heaters"
   ]
  },
  {
   "cell_type": "code",
   "execution_count": 23,
   "metadata": {},
   "outputs": [],
   "source": [
    "id_heaters = [(6,3), (3,6), (9,3), (9,9)]"
   ]
  },
  {
   "cell_type": "markdown",
   "metadata": {},
   "source": [
    "Boundary conditions"
   ]
  },
  {
   "cell_type": "code",
   "execution_count": 24,
   "metadata": {},
   "outputs": [],
   "source": [
    "Q_heaters = np.array([1.0, 1.0, 1.0, 1.0])\n",
    "T_interfaces = np.array([250, 250, 250, 250])\n",
    "T_env = 250"
   ]
  },
  {
   "cell_type": "markdown",
   "metadata": {},
   "source": [
    "Actual values"
   ]
  },
  {
   "cell_type": "code",
   "execution_count": 25,
   "metadata": {},
   "outputs": [],
   "source": [
    "T, _, _, _ = PCB_case_2(solver = 'transient', display=False, time = time_sim, dt = dt, T_init = T_init, Q_heaters = Q_heaters, T_interfaces = T_interfaces, Tenv = T_env) # heaters in default position\n",
    "T = T.reshape(T.shape[0], nodes_side, nodes_side) # reshaping the data grid-shape"
   ]
  },
  {
   "cell_type": "markdown",
   "metadata": {},
   "source": [
    "Predicted values"
   ]
  },
  {
   "cell_type": "code",
   "execution_count": 26,
   "metadata": {},
   "outputs": [],
   "source": [
    "def get_input(Q_heaters_in, T_interfaces_in, T_env_in, nodes_side=13, sequence_length=sequence_length, mean_values=mean_values, std_values=std_values):\n",
    "    \n",
    "    T_interfaces_in = (T_interfaces_in-mean_values[0])/std_values[0]\n",
    "    Q_heaters_in = (Q_heaters_in-mean_values[1])/std_values[1]\n",
    "    T_env_in = (T_env_in-mean_values[2])/std_values[2]\n",
    "    \n",
    "    \n",
    "    T_interfaces1 = np.zeros((nodes_side,nodes_side))\n",
    "    Q_heaters1 = np.zeros((nodes_side,nodes_side))\n",
    "    T_env1 = np.zeros((nodes_side,nodes_side))\n",
    "    \n",
    "    T_interfaces1[0,0], T_interfaces1[0,nodes_side-1], T_interfaces1[nodes_side-1,nodes_side-1], T_interfaces1[nodes_side-1,0] = T_interfaces_in\n",
    "    Q_heaters1[6,3], Q_heaters1[3,6], Q_heaters1[9,3], Q_heaters1[9,9] = Q_heaters_in\n",
    "    T_env1[:,:] = T_env_in\n",
    "    \n",
    "    Q_heaters1 = torch.tensor(Q_heaters1,dtype=torch.float32)#.to(device)\n",
    "    T_env1 = torch.tensor(T_env1,dtype=torch.float32)#.to(device)\n",
    "    T_interfaces1 = torch.tensor(T_interfaces1,dtype=torch.float32)#.to(device)\n",
    "    \n",
    "    input1 = torch.empty(3, nodes_side, nodes_side)\n",
    "    input1[0,:,:] = T_interfaces1\n",
    "    input1[1,:,:] = Q_heaters1\n",
    "    input1[2,:,:] = T_env1\n",
    "    \n",
    "    input1 = input1.unsqueeze(0).unsqueeze(1).repeat(1, sequence_length, 1, 1, 1).to(device) # to mantain boundary conditions in all steps\n",
    "    \n",
    "    return input1"
   ]
  },
  {
   "cell_type": "code",
   "execution_count": 27,
   "metadata": {},
   "outputs": [],
   "source": [
    "input = get_input(Q_heaters, T_interfaces, T_env)\n",
    "\n",
    "output = model(input)\n",
    "output_denorm = output*output_std + output_mean\n",
    "T_pred = output_denorm[0,:,0,:,:].cpu().detach().numpy()"
   ]
  },
  {
   "cell_type": "code",
   "execution_count": 28,
   "metadata": {},
   "outputs": [
    {
     "data": {
      "image/png": "[encoded data removed]",
      "text/plain": [
       "<Figure size 1200x600 with 1 Axes>"
      ]
     },
     "metadata": {},
     "output_type": "display_data"
    }
   ],
   "source": [
    "plot_nodes_evolution(T_pred, T, id_heaters, together=True)"
   ]
  },
  {
   "cell_type": "markdown",
   "metadata": {},
   "source": [
    "## Physics informed Convolutional LSTM"
   ]
  },
  {
   "cell_type": "code",
   "execution_count": 10,
   "metadata": {},
   "outputs": [],
   "source": [
    "from Physics_Loss import *"
   ]
  },
  {
   "cell_type": "markdown",
   "metadata": {},
   "source": [
    "Physics loss function"
   ]
  },
  {
   "cell_type": "code",
   "execution_count": 11,
   "metadata": {},
   "outputs": [
    {
     "name": "stdout",
     "output_type": "stream",
     "text": [
      "Residuo físico del solver: 8.774779e-02\n"
     ]
    }
   ],
   "source": [
    "# DEBUGGING (caso de prueba 1)\n",
    "nx, ny = 13, 13\n",
    "T_array, time_array = PCB_solver_main(\n",
    "    solver=\"transient\",\n",
    "    Lx=0.1, Ly=0.1, thickness=0.001, nx=nx, ny=ny,\n",
    "    board_k=15, ir_emmisivity=0.8, Tenv=295.0,\n",
    "    interfaces={0: 300, nx-1: 300, nx*ny-1: 300, nx*ny-nx: 300},\n",
    "    heaters={int((nx*ny)/2): 2.0},  # heater central\n",
    "    time=0.2, dt=0.1, T_init=298.0\n",
    ")\n",
    "\n",
    "# 2. Convertir datos a tensores\n",
    "T_prev = torch.tensor(T_array[0].reshape(1, nx, ny), dtype=torch.float32)\n",
    "T_pred = torch.tensor(T_array[1].reshape(1, nx, ny), dtype=torch.float32)\n",
    "Tenv = torch.full((1, nx, ny), 295.0)\n",
    "dt = time_array[1] - time_array[0]\n",
    "\n",
    "# 3. Preparar heaters e interfaces como mapas\n",
    "heaters_map = torch.zeros((1, nx, ny))\n",
    "heaters_map[0, (nx*ny)//2 // nx, (nx*ny)//2 % nx] = 2.0\n",
    "\n",
    "interfaces_map = torch.zeros((1, nx, ny))\n",
    "for idx in [0, nx-1, nx*ny-1, nx*ny-nx]:\n",
    "    j = idx // nx\n",
    "    i = idx % nx\n",
    "    interfaces_map[0, j, i] = 300.0\n",
    "\n",
    "# 4. Crear instancia y calcular residuo\n",
    "loss_fn = PhysicsLossTransient(L=0.1, thickness=0.001, board_k=15, ir_emmisivity=0.8,\n",
    "                               rho=2700, cp=900, nx=nx, ny=ny)\n",
    "\n",
    "residuo = loss_fn(T_pred, heaters_map, interfaces_map, Tenv, T_prev, dt)\n",
    "print(f\"Residuo físico del solver: {residuo.item():.6e}\")"
   ]
  },
  {
   "cell_type": "markdown",
   "metadata": {},
   "source": [
    "Hyperparameters of training"
   ]
  },
  {
   "cell_type": "code",
   "execution_count": 12,
   "metadata": {},
   "outputs": [
    {
     "ename": "NameError",
     "evalue": "name 'PCBDataset' is not defined",
     "output_type": "error",
     "traceback": [
      "\u001b[1;31m---------------------------------------------------------------------------\u001b[0m",
      "\u001b[1;31mNameError\u001b[0m                                 Traceback (most recent call last)",
      "Cell \u001b[1;32mIn[12], line 6\u001b[0m\n\u001b[0;32m      3\u001b[0m dataset_path \u001b[38;5;241m=\u001b[39m os\u001b[38;5;241m.\u001b[39mpath\u001b[38;5;241m.\u001b[39mjoin(dir_path,\u001b[38;5;124m'\u001b[39m\u001b[38;5;124mDatasets\u001b[39m\u001b[38;5;124m'\u001b[39m)\n\u001b[0;32m      5\u001b[0m \u001b[38;5;66;03m# Allowlist the PCBDataset class for safe loading\u001b[39;00m\n\u001b[1;32m----> 6\u001b[0m torch\u001b[38;5;241m.\u001b[39mserialization\u001b[38;5;241m.\u001b[39madd_safe_globals([\u001b[43mPCBDataset\u001b[49m])\n\u001b[0;32m      8\u001b[0m dataset_test:PCBDataset \u001b[38;5;241m=\u001b[39m torch\u001b[38;5;241m.\u001b[39mload(os\u001b[38;5;241m.\u001b[39mpath\u001b[38;5;241m.\u001b[39mjoin(dataset_path,\u001b[38;5;124m'\u001b[39m\u001b[38;5;124mPCB_transient_dataset_test.pth\u001b[39m\u001b[38;5;124m'\u001b[39m), weights_only\u001b[38;5;241m=\u001b[39m\u001b[38;5;28;01mTrue\u001b[39;00m)\n\u001b[0;32m      9\u001b[0m dataset_train:PCBDataset \u001b[38;5;241m=\u001b[39m torch\u001b[38;5;241m.\u001b[39mload(os\u001b[38;5;241m.\u001b[39mpath\u001b[38;5;241m.\u001b[39mjoin(dataset_path,\u001b[38;5;124m'\u001b[39m\u001b[38;5;124mPCB_transient_dataset_train.pth\u001b[39m\u001b[38;5;124m'\u001b[39m), weights_only\u001b[38;5;241m=\u001b[39m\u001b[38;5;28;01mTrue\u001b[39;00m)\n",
      "\u001b[1;31mNameError\u001b[0m: name 'PCBDataset' is not defined"
     ]
    }
   ],
   "source": [
    "# from Dataset_Class import PCBDataset  # Ensure the PCBDataset class is imported\n",
    "\n",
    "dataset_path = os.path.join(dir_path,'Datasets')\n",
    "\n",
    "# Allowlist the PCBDataset class for safe loading\n",
    "torch.serialization.add_safe_globals([PCBDataset])\n",
    "\n",
    "dataset_test:PCBDataset = torch.load(os.path.join(dataset_path,'PCB_transient_dataset_test.pth'), weights_only=True)\n",
    "dataset_train:PCBDataset = torch.load(os.path.join(dataset_path,'PCB_transient_dataset_train.pth'), weights_only=True)\n",
    "dataset_validation:PCBDataset = torch.load(os.path.join(dataset_path,'PCB_transient_dataset_validation.pth'), weights_only=True)\n",
    "\n",
    "input_train, output_train = dataset_train[:]\n",
    "sequence_length = output_train.shape[1]\n",
    "input_train = input_train.unsqueeze(1).repeat(1, sequence_length, 1, 1, 1) # to mantain boundary conditions in all steps\n",
    "output_train = output_train.unsqueeze(2)  # \n",
    "input_train = input_train.to(device)\n",
    "output_train = output_train.to(device)\n",
    "\n",
    "input_test, output_test = dataset_test[:]\n",
    "input_test = input_test.unsqueeze(1).repeat(1, sequence_length, 1, 1, 1) # to mantain boundary conditions in all steps\n",
    "output_test = output_test.unsqueeze(2)  #\n",
    "input_test = input_test.to(device)\n",
    "output_test = output_test.to(device)\n",
    "\n",
    "input_validation, output_validation = dataset_validation[:]\n",
    "input_validation = input_validation.unsqueeze(1).repeat(1, sequence_length, 1, 1, 1) # to mantain boundary conditions in all steps\n",
    "output_validation = output_validation.unsqueeze(2)  #\n",
    "input_validation = input_validation.to(device)\n",
    "output_validation = output_validation.to(device)"
   ]
  },
  {
   "cell_type": "code",
   "execution_count": null,
   "metadata": {},
   "outputs": [],
   "source": [
    "from convlstm import *\n",
    "\n",
    "class PCB_ConvLSTM_physics(nn.Module):\n",
    "    def __init__(self, input_channels=3, hidden_dim=32, kernel_size=(3, 3), height=13, width=13):\n",
    "        super().__init__()\n",
    "        self.convlstm = ConvLSTM(input_dim=input_channels,\n",
    "                                 hidden_dim=[hidden_dim],\n",
    "                                 kernel_size=kernel_size,\n",
    "                                 num_layers=1,\n",
    "                                 batch_first=True,\n",
    "                                 bias=True,\n",
    "                                 return_all_layers=False)\n",
    "        \n",
    "        self.decoder = nn.Conv2d(hidden_dim, 1, kernel_size=1)\n",
    "\n",
    "    def forward(self, x):\n",
    "        # x: (B, T, C, H, W)\n",
    "        lstm_out, _ = self.convlstm(x)  # lstm_out[0]: (B, T, hidden_dim, H, W)\n",
    "\n",
    "        # Apply decoder to each time step\n",
    "        decoded = [self.decoder(lstm_out[0][:, t]) for t in range(x.size(1))]\n",
    "        output = torch.stack(decoded, dim=1)  # (B, T, 1, H, W)\n",
    "        return output"
   ]
  },
  {
   "cell_type": "markdown",
   "metadata": {},
   "source": [
    "Definición del modelo"
   ]
  },
  {
   "cell_type": "code",
   "execution_count": null,
   "metadata": {},
   "outputs": [
    {
     "ename": "NameError",
     "evalue": "name 'batch_size' is not defined",
     "output_type": "error",
     "traceback": [
      "\u001b[1;31m---------------------------------------------------------------------------\u001b[0m",
      "\u001b[1;31mNameError\u001b[0m                                 Traceback (most recent call last)",
      "Cell \u001b[1;32mIn[20], line 2\u001b[0m\n\u001b[0;32m      1\u001b[0m train_ds \u001b[38;5;241m=\u001b[39m TensorDataset(input_train, output_train)\n\u001b[1;32m----> 2\u001b[0m train_dl \u001b[38;5;241m=\u001b[39m DataLoader(train_ds, batch_size\u001b[38;5;241m=\u001b[39m\u001b[43mbatch_size\u001b[49m, shuffle\u001b[38;5;241m=\u001b[39m\u001b[38;5;28;01mTrue\u001b[39;00m)\n\u001b[0;32m      4\u001b[0m test_ds \u001b[38;5;241m=\u001b[39m TensorDataset(input_test, output_test)\n\u001b[0;32m      5\u001b[0m test_dl \u001b[38;5;241m=\u001b[39m DataLoader(test_ds, batch_size\u001b[38;5;241m=\u001b[39mbatch_size, shuffle\u001b[38;5;241m=\u001b[39m\u001b[38;5;28;01mFalse\u001b[39;00m)\n",
      "\u001b[1;31mNameError\u001b[0m: name 'batch_size' is not defined"
     ]
    }
   ],
   "source": [
    "train_ds = TensorDataset(input_train, output_train)\n",
    "train_dl = DataLoader(train_ds, batch_size=batch_size, shuffle=True)\n",
    "\n",
    "test_ds = TensorDataset(input_test, output_test)\n",
    "test_dl = DataLoader(test_ds, batch_size=batch_size, shuffle=False)\n",
    "\n",
    "model = PCB_ConvLSTM_physics(input_channels=3, hidden_dim=hidden_layers, kernel_size=kernel_size, height=13, width=13).to(device)\n",
    "\n",
    "criterion_reconstruction = nn.MSELoss()\n",
    "# criterion_physics = nn.MSELoss()\n",
    "optimizer = torch.optim.Adam(model.parameters(), lr=lr)\n",
    "scheduler = ReduceLROnPlateau(optimizer, mode='min', factor=lrdecay, patience=lrdecay_patience, verbose=True)\n",
    "\n",
    "# # DEBUGGING\n",
    "# batch = next(iter(train_dl))\n",
    "# x, y = batch\n",
    "\n",
    "# print(f\"x está en: {x.device}\")\n",
    "# print(f\"y está en: {y.device}\")\n",
    "# print(f\"model está en: {next(model.parameters()).device}\")"
   ]
  },
  {
   "cell_type": "markdown",
   "metadata": {},
   "source": [
    "Training and saving best model with best parameters."
   ]
  },
  {
   "cell_type": "code",
   "execution_count": null,
   "metadata": {},
   "outputs": [
    {
     "name": "stderr",
     "output_type": "stream",
     "text": [
      "                                                                     \r"
     ]
    },
    {
     "name": "stdout",
     "output_type": "stream",
     "text": [
      "✓ Saving model (epoch 1) | test_loss improved to 0.852711\n",
      "Epoch   1 | Train Loss: 1.212639 | Test Loss: 0.852711 | Time: 0.28s\n"
     ]
    },
    {
     "name": "stderr",
     "output_type": "stream",
     "text": [
      "                                                                     \r"
     ]
    },
    {
     "name": "stdout",
     "output_type": "stream",
     "text": [
      "✓ Saving model (epoch 2) | test_loss improved to 0.836058\n",
      "Epoch   2 | Train Loss: 1.173088 | Test Loss: 0.836058 | Time: 0.21s\n"
     ]
    },
    {
     "name": "stderr",
     "output_type": "stream",
     "text": [
      "                                                                     \r"
     ]
    },
    {
     "name": "stdout",
     "output_type": "stream",
     "text": [
      "✓ Saving model (epoch 3) | test_loss improved to 0.819228\n",
      "Epoch   3 | Train Loss: 1.134566 | Test Loss: 0.819228 | Time: 0.23s\n"
     ]
    },
    {
     "name": "stderr",
     "output_type": "stream",
     "text": [
      "                                                                     \r"
     ]
    },
    {
     "name": "stdout",
     "output_type": "stream",
     "text": [
      "✓ Saving model (epoch 4) | test_loss improved to 0.801517\n",
      "Epoch   4 | Train Loss: 1.095405 | Test Loss: 0.801517 | Time: 0.19s\n"
     ]
    },
    {
     "name": "stderr",
     "output_type": "stream",
     "text": [
      "                                                                     \r"
     ]
    },
    {
     "name": "stdout",
     "output_type": "stream",
     "text": [
      "✓ Saving model (epoch 5) | test_loss improved to 0.782020\n",
      "Epoch   5 | Train Loss: 1.053822 | Test Loss: 0.782020 | Time: 0.20s\n"
     ]
    },
    {
     "name": "stderr",
     "output_type": "stream",
     "text": [
      "                                                                     \r"
     ]
    },
    {
     "name": "stdout",
     "output_type": "stream",
     "text": [
      "✓ Saving model (epoch 6) | test_loss improved to 0.759354\n",
      "Epoch   6 | Train Loss: 1.007996 | Test Loss: 0.759354 | Time: 0.22s\n"
     ]
    },
    {
     "name": "stderr",
     "output_type": "stream",
     "text": [
      "                                                                     \r"
     ]
    },
    {
     "name": "stdout",
     "output_type": "stream",
     "text": [
      "✓ Saving model (epoch 7) | test_loss improved to 0.731001\n",
      "Epoch   7 | Train Loss: 0.956734 | Test Loss: 0.731001 | Time: 0.20s\n"
     ]
    },
    {
     "name": "stderr",
     "output_type": "stream",
     "text": [
      "                                                                     \r"
     ]
    },
    {
     "name": "stdout",
     "output_type": "stream",
     "text": [
      "✓ Saving model (epoch 8) | test_loss improved to 0.691483\n",
      "Epoch   8 | Train Loss: 0.902798 | Test Loss: 0.691483 | Time: 0.20s\n"
     ]
    },
    {
     "name": "stderr",
     "output_type": "stream",
     "text": [
      "                                                                     \r"
     ]
    },
    {
     "name": "stdout",
     "output_type": "stream",
     "text": [
      "✓ Saving model (epoch 9) | test_loss improved to 0.631621\n",
      "Epoch   9 | Train Loss: 0.862288 | Test Loss: 0.631621 | Time: 0.19s\n"
     ]
    },
    {
     "name": "stderr",
     "output_type": "stream",
     "text": [
      "                                                                      \r"
     ]
    },
    {
     "name": "stdout",
     "output_type": "stream",
     "text": [
      "✓ Saving model (epoch 10) | test_loss improved to 0.597500\n",
      "Epoch  10 | Train Loss: 0.870829 | Test Loss: 0.597500 | Time: 0.19s\n"
     ]
    },
    {
     "name": "stderr",
     "output_type": "stream",
     "text": [
      "                                                                      \r"
     ]
    },
    {
     "name": "stdout",
     "output_type": "stream",
     "text": [
      "✓ Saving model (epoch 11) | test_loss improved to 0.590916\n",
      "Epoch  11 | Train Loss: 0.870793 | Test Loss: 0.590916 | Time: 0.20s\n"
     ]
    },
    {
     "name": "stderr",
     "output_type": "stream",
     "text": [
      "                                                                      \r"
     ]
    },
    {
     "name": "stdout",
     "output_type": "stream",
     "text": [
      "✓ Saving model (epoch 12) | test_loss improved to 0.590726\n",
      "Epoch  12 | Train Loss: 0.834936 | Test Loss: 0.590726 | Time: 0.20s\n"
     ]
    },
    {
     "name": "stderr",
     "output_type": "stream",
     "text": [
      "                                                                      \r"
     ]
    },
    {
     "name": "stdout",
     "output_type": "stream",
     "text": [
      "✓ Saving model (epoch 13) | test_loss improved to 0.587652\n",
      "Epoch  13 | Train Loss: 0.797857 | Test Loss: 0.587652 | Time: 0.20s\n"
     ]
    },
    {
     "name": "stderr",
     "output_type": "stream",
     "text": [
      "                                                                      \r"
     ]
    },
    {
     "name": "stdout",
     "output_type": "stream",
     "text": [
      "✓ Saving model (epoch 14) | test_loss improved to 0.578838\n",
      "Epoch  14 | Train Loss: 0.772962 | Test Loss: 0.578838 | Time: 0.25s\n"
     ]
    },
    {
     "name": "stderr",
     "output_type": "stream",
     "text": [
      "                                                                      \r"
     ]
    },
    {
     "name": "stdout",
     "output_type": "stream",
     "text": [
      "✓ Saving model (epoch 15) | test_loss improved to 0.563665\n",
      "Epoch  15 | Train Loss: 0.755097 | Test Loss: 0.563665 | Time: 0.20s\n"
     ]
    },
    {
     "name": "stderr",
     "output_type": "stream",
     "text": [
      "                                                                      \r"
     ]
    },
    {
     "name": "stdout",
     "output_type": "stream",
     "text": [
      "✓ Saving model (epoch 16) | test_loss improved to 0.542013\n",
      "Epoch  16 | Train Loss: 0.736990 | Test Loss: 0.542013 | Time: 0.20s\n"
     ]
    },
    {
     "name": "stderr",
     "output_type": "stream",
     "text": [
      "                                                                      \r"
     ]
    },
    {
     "name": "stdout",
     "output_type": "stream",
     "text": [
      "✓ Saving model (epoch 17) | test_loss improved to 0.513796\n",
      "Epoch  17 | Train Loss: 0.714092 | Test Loss: 0.513796 | Time: 0.20s\n"
     ]
    },
    {
     "name": "stderr",
     "output_type": "stream",
     "text": [
      "                                                                      \r"
     ]
    },
    {
     "name": "stdout",
     "output_type": "stream",
     "text": [
      "✓ Saving model (epoch 18) | test_loss improved to 0.479573\n",
      "Epoch  18 | Train Loss: 0.684256 | Test Loss: 0.479573 | Time: 0.20s\n"
     ]
    },
    {
     "name": "stderr",
     "output_type": "stream",
     "text": [
      "                                                                      \r"
     ]
    },
    {
     "name": "stdout",
     "output_type": "stream",
     "text": [
      "✓ Saving model (epoch 19) | test_loss improved to 0.443187\n",
      "Epoch  19 | Train Loss: 0.647528 | Test Loss: 0.443187 | Time: 0.19s\n"
     ]
    },
    {
     "name": "stderr",
     "output_type": "stream",
     "text": [
      "                                                                      \r"
     ]
    },
    {
     "name": "stdout",
     "output_type": "stream",
     "text": [
      "✓ Saving model (epoch 20) | test_loss improved to 0.418970\n",
      "Epoch  20 | Train Loss: 0.609378 | Test Loss: 0.418970 | Time: 0.21s\n"
     ]
    },
    {
     "name": "stderr",
     "output_type": "stream",
     "text": [
      "                                                                      \r"
     ]
    },
    {
     "name": "stdout",
     "output_type": "stream",
     "text": [
      "✓ Saving model (epoch 21) | test_loss improved to 0.410389\n",
      "Epoch  21 | Train Loss: 0.594098 | Test Loss: 0.410389 | Time: 0.20s\n"
     ]
    },
    {
     "name": "stderr",
     "output_type": "stream",
     "text": [
      "                                                                      \r"
     ]
    },
    {
     "name": "stdout",
     "output_type": "stream",
     "text": [
      "✓ Saving model (epoch 22) | test_loss improved to 0.397765\n",
      "Epoch  22 | Train Loss: 0.559362 | Test Loss: 0.397765 | Time: 0.20s\n"
     ]
    },
    {
     "name": "stderr",
     "output_type": "stream",
     "text": [
      "                                                                      \r"
     ]
    },
    {
     "name": "stdout",
     "output_type": "stream",
     "text": [
      "✓ Saving model (epoch 23) | test_loss improved to 0.387236\n",
      "Epoch  23 | Train Loss: 0.533272 | Test Loss: 0.387236 | Time: 0.22s\n"
     ]
    },
    {
     "name": "stderr",
     "output_type": "stream",
     "text": [
      "                                                                      \r"
     ]
    },
    {
     "name": "stdout",
     "output_type": "stream",
     "text": [
      "✓ Saving model (epoch 24) | test_loss improved to 0.381636\n",
      "Epoch  24 | Train Loss: 0.524014 | Test Loss: 0.381636 | Time: 0.22s\n"
     ]
    },
    {
     "name": "stderr",
     "output_type": "stream",
     "text": [
      "                                                                      \r"
     ]
    },
    {
     "name": "stdout",
     "output_type": "stream",
     "text": [
      "No improvement for 1 epoch(s)\n",
      "Epoch  25 | Train Loss: 0.512003 | Test Loss: 0.387593 | Time: 0.19s\n"
     ]
    },
    {
     "name": "stderr",
     "output_type": "stream",
     "text": [
      "                                                                      \r"
     ]
    },
    {
     "name": "stdout",
     "output_type": "stream",
     "text": [
      "No improvement for 2 epoch(s)\n",
      "Epoch  26 | Train Loss: 0.497909 | Test Loss: 0.411232 | Time: 0.20s\n"
     ]
    },
    {
     "name": "stderr",
     "output_type": "stream",
     "text": [
      "                                                                      \r"
     ]
    },
    {
     "name": "stdout",
     "output_type": "stream",
     "text": [
      "No improvement for 3 epoch(s)\n",
      "Epoch  27 | Train Loss: 0.484796 | Test Loss: 0.422794 | Time: 0.20s\n"
     ]
    },
    {
     "name": "stderr",
     "output_type": "stream",
     "text": [
      "                                                                      \r"
     ]
    },
    {
     "name": "stdout",
     "output_type": "stream",
     "text": [
      "No improvement for 4 epoch(s)\n",
      "Epoch  28 | Train Loss: 0.469850 | Test Loss: 0.407120 | Time: 0.20s\n"
     ]
    },
    {
     "name": "stderr",
     "output_type": "stream",
     "text": [
      "                                                                      "
     ]
    },
    {
     "name": "stdout",
     "output_type": "stream",
     "text": [
      "No improvement for 5 epoch(s)\n",
      "⚠️ Early stopping at epoch 29 — no improvement for 5 epochs.\n"
     ]
    },
    {
     "name": "stderr",
     "output_type": "stream",
     "text": [
      "\r"
     ]
    }
   ],
   "source": [
    "train_loss = []\n",
    "test_loss = []\n",
    "best_test_loss = np.inf\n",
    "epochs_without_improvement = 0\n",
    "\n",
    "kernel_string = f\"{kernel_size[0]}x{kernel_size[1]}\"\n",
    "model_dir = os.path.join(dir_path, 'models', 'ConvLSTM')\n",
    "os.makedirs(model_dir, exist_ok=True)\n",
    "\n",
    "# Nombre del archivo con hiperparámetros\n",
    "filename = f\"PCB_ConvLSTM_nt{n_train}_bs{batch_size}_h{hidden_layers}_k{kernel_string}.pth\"\n",
    "\n",
    "# Ruta completa del modelo\n",
    "model_path = os.path.join(model_dir, filename)\n",
    "\n",
    "# ruta para el JSON\n",
    "json_path = model_path.replace('.pth', '.json')\n",
    "\n",
    "start_time_training = time.time()\n",
    "start_datetime = datetime.datetime.now().strftime(\"%Y-%m-%d %H:%M:%S\")\n",
    "\n",
    "for epoch in range(epochs):\n",
    "    model.train()\n",
    "    total_loss = 0.0\n",
    "    start_time_epoch = time.time()\n",
    "\n",
    "    # Entrenamiento\n",
    "    for x, y in tqdm(train_dl, desc=f\"Epoch {epoch+1}/{epochs} - Training\", leave=False):\n",
    "        optimizer.zero_grad()\n",
    "        y_hat = model(x)\n",
    "        loss = criterion(y_hat, y)\n",
    "        loss.backward()\n",
    "        optimizer.step()\n",
    "        total_loss += loss.detach().item()\n",
    "\n",
    "    epoch_train_loss = total_loss / len(train_dl)\n",
    "    train_loss.append(epoch_train_loss)\n",
    "\n",
    "    # Validación\n",
    "    model.eval()\n",
    "    total_test_loss = 0.0\n",
    "    with torch.no_grad():\n",
    "        for x_test, y_test in test_dl:\n",
    "            y_pred = model(x_test)\n",
    "            test = criterion(y_pred, y_test)\n",
    "            total_test_loss += test.item()\n",
    "\n",
    "    epoch_test_loss = total_test_loss / len(test_dl)\n",
    "    test_loss.append(epoch_test_loss)\n",
    "    \n",
    "    # Scheduler update\n",
    "    scheduler.step(epoch_test_loss)\n",
    "    \n",
    "    # Early stopping check\n",
    "    if epoch_test_loss < best_test_loss:\n",
    "        best_test_loss = epoch_test_loss\n",
    "        \n",
    "        # Guardar el modelo\n",
    "        torch.save(model.state_dict(), model_path)\n",
    "        \n",
    "        elapsed_training = time.time() - start_time_training\n",
    "        elapsed_minutes = elapsed_training / 60\n",
    "    \n",
    "        # Guardar hiperparámetros en JSON  \n",
    "        params = {\n",
    "            'start_datetime': start_datetime,\n",
    "            'training_duration_minutes': elapsed_minutes,\n",
    "            \"system_specs\": system_specs,\n",
    "            'hidden_layers': hidden_layers,\n",
    "            'kernel_size': kernel_string,\n",
    "            'batch_size': batch_size,\n",
    "            'lr': lr,\n",
    "            \"scheduler\":{\n",
    "                \"type\": \"ReduceLROnPlateau\",\n",
    "                \"factor\": lrdecay,\n",
    "                \"patience\": lrdecay_patience\n",
    "            },\n",
    "            'early_stop_patience': early_stop_patience,\n",
    "            'epochs_trained': epoch + 1,\n",
    "            'best_test_loss': best_test_loss,\n",
    "            \"train_loss\": list(map(float, train_loss)),\n",
    "            \"test_loss\": list(map(float, test_loss)),\n",
    "        }\n",
    "        \n",
    "        with open(json_path, 'w') as f:\n",
    "            json.dump(params, f, indent=4)\n",
    "    \n",
    "        print(f\"✓ Saving model (epoch {epoch+1}) | test_loss improved to {best_test_loss:.6f}\")\n",
    "        epochs_without_improvement = 0\n",
    "    else:\n",
    "        epochs_without_improvement += 1\n",
    "        print(f\"No improvement for {epochs_without_improvement} epoch(s)\")\n",
    "        \n",
    "    if epochs_without_improvement >= early_stop_patience:\n",
    "        print(f\"⚠️ Early stopping at epoch {epoch+1} — no improvement for {early_stop_patience} epochs.\")\n",
    "        break\n",
    "\n",
    "    # Estadísticas finales de la época\n",
    "    elapsed_epoch = time.time() - start_time_epoch\n",
    "    print(f\"Epoch {epoch+1:3d} | Train Loss: {epoch_train_loss:.6f} | Test Loss: {epoch_test_loss:.6f} | Time: {elapsed_epoch:.2f}s\")"
   ]
  },
  {
   "cell_type": "markdown",
   "metadata": {},
   "source": [
    "Plotting validation loss and train loss"
   ]
  },
  {
   "cell_type": "code",
   "execution_count": null,
   "metadata": {},
   "outputs": [
    {
     "data": {
      "image/png": "[encoded data removed]",
      "text/plain": [
       "<Figure size 640x480 with 1 Axes>"
      ]
     },
     "metadata": {},
     "output_type": "display_data"
    }
   ],
   "source": [
    "plot_loss_evolution(train_loss, test_loss)"
   ]
  },
  {
   "cell_type": "markdown",
   "metadata": {},
   "source": [
    "### Evaluation"
   ]
  },
  {
   "cell_type": "code",
   "execution_count": null,
   "metadata": {},
   "outputs": [
    {
     "name": "stdout",
     "output_type": "stream",
     "text": [
      "Test Loss: 0.381636\n"
     ]
    },
    {
     "name": "stderr",
     "output_type": "stream",
     "text": [
      "C:\\Users\\ismael.gallo\\AppData\\Local\\Temp\\ipykernel_12576\\3683357988.py:3: FutureWarning: You are using `torch.load` with `weights_only=False` (the current default value), which uses the default pickle module implicitly. It is possible to construct malicious pickle data which will execute arbitrary code during unpickling (See https://github.com/pytorch/pytorch/blob/main/SECURITY.md#untrusted-models for more details). In a future release, the default value for `weights_only` will be flipped to `True`. This limits the functions that could be executed during unpickling. Arbitrary objects will no longer be allowed to be loaded via this mode unless they are explicitly allowlisted by the user via `torch.serialization.add_safe_globals`. We recommend you start setting `weights_only=True` for any use case where you don't have full control of the loaded file. Please open an issue on GitHub for any issues related to this experimental feature.\n",
      "  model.load_state_dict(torch.load(model_path))\n"
     ]
    }
   ],
   "source": [
    "# load the best model \n",
    "model = PCB_ConvLSTM(input_channels=3, hidden_dim=32, kernel_size=(3, 3), height=13, width=13).to(device)\n",
    "model.load_state_dict(torch.load(model_path))\n",
    "model.eval()\n",
    "\n",
    "with torch.no_grad():\n",
    "    y_pred = model(input_test)  # (B, T, 1, H, W)\n",
    "    test_loss = criterion(y_pred, output_test)\n",
    "    print(f\"Test Loss: {test_loss.item():.6f}\")"
   ]
  },
  {
   "cell_type": "markdown",
   "metadata": {},
   "source": [
    "### Plotting results"
   ]
  },
  {
   "cell_type": "markdown",
   "metadata": {},
   "source": [
    "We are going to plot the temperature evolution in the four nodes corresponding with the heaters"
   ]
  },
  {
   "cell_type": "code",
   "execution_count": null,
   "metadata": {},
   "outputs": [],
   "source": [
    "id_heaters = [(6,3), (3,6), (9,3), (9,9)]"
   ]
  },
  {
   "cell_type": "markdown",
   "metadata": {},
   "source": [
    "Boundary conditions"
   ]
  },
  {
   "cell_type": "code",
   "execution_count": null,
   "metadata": {},
   "outputs": [],
   "source": [
    "Q_heaters = np.array([1.0, 1.0, 1.0, 1.0])\n",
    "T_interfaces = np.array([250, 250, 250, 250])\n",
    "T_env = 250"
   ]
  },
  {
   "cell_type": "markdown",
   "metadata": {},
   "source": [
    "Actual values"
   ]
  },
  {
   "cell_type": "code",
   "execution_count": null,
   "metadata": {},
   "outputs": [],
   "source": [
    "T, _, _, _ = PCB_case_2(solver = 'transient', display=False, time = time_sim, dt = dt, T_init = T_init, Q_heaters = Q_heaters, T_interfaces = T_interfaces, Tenv = T_env) # heaters in default position\n",
    "T = T.reshape(T.shape[0], nodes_side, nodes_side) # reshaping the data grid-shape"
   ]
  },
  {
   "cell_type": "markdown",
   "metadata": {},
   "source": [
    "Predicted values"
   ]
  },
  {
   "cell_type": "code",
   "execution_count": null,
   "metadata": {},
   "outputs": [],
   "source": [
    "def get_input(Q_heaters_in, T_interfaces_in, T_env_in, nodes_side=13, sequence_length=sequence_length, mean_values=mean_values, std_values=std_values):\n",
    "    \n",
    "    T_interfaces_in = (T_interfaces_in-mean_values[0])/std_values[0]\n",
    "    Q_heaters_in = (Q_heaters_in-mean_values[1])/std_values[1]\n",
    "    T_env_in = (T_env_in-mean_values[2])/std_values[2]\n",
    "    \n",
    "    \n",
    "    T_interfaces1 = np.zeros((nodes_side,nodes_side))\n",
    "    Q_heaters1 = np.zeros((nodes_side,nodes_side))\n",
    "    T_env1 = np.zeros((nodes_side,nodes_side))\n",
    "    \n",
    "    T_interfaces1[0,0], T_interfaces1[0,nodes_side-1], T_interfaces1[nodes_side-1,nodes_side-1], T_interfaces1[nodes_side-1,0] = T_interfaces_in\n",
    "    Q_heaters1[6,3], Q_heaters1[3,6], Q_heaters1[9,3], Q_heaters1[9,9] = Q_heaters_in\n",
    "    T_env1[:,:] = T_env_in\n",
    "    \n",
    "    Q_heaters1 = torch.tensor(Q_heaters1,dtype=torch.float32)#.to(device)\n",
    "    T_env1 = torch.tensor(T_env1,dtype=torch.float32)#.to(device)\n",
    "    T_interfaces1 = torch.tensor(T_interfaces1,dtype=torch.float32)#.to(device)\n",
    "    \n",
    "    input1 = torch.empty(3, nodes_side, nodes_side)\n",
    "    input1[0,:,:] = T_interfaces1\n",
    "    input1[1,:,:] = Q_heaters1\n",
    "    input1[2,:,:] = T_env1\n",
    "    \n",
    "    input1 = input1.unsqueeze(0).unsqueeze(1).repeat(1, sequence_length, 1, 1, 1).to(device) # to mantain boundary conditions in all steps\n",
    "    \n",
    "    return input1"
   ]
  },
  {
   "cell_type": "code",
   "execution_count": null,
   "metadata": {},
   "outputs": [],
   "source": [
    "input = get_input(Q_heaters, T_interfaces, T_env)\n",
    "\n",
    "output = model(input)\n",
    "output_denorm = output*output_std + output_mean\n",
    "T_pred = output_denorm[0,:,0,:,:].cpu().detach().numpy()"
   ]
  },
  {
   "cell_type": "code",
   "execution_count": null,
   "metadata": {},
   "outputs": [
    {
     "data": {
      "image/png": "[encoded data removed]",
      "text/plain": [
       "<Figure size 1200x1200 with 4 Axes>"
      ]
     },
     "metadata": {},
     "output_type": "display_data"
    }
   ],
   "source": [
    "plot_nodes_evolution(T_pred, T, id_heaters, together=True)"
   ]
  },
  {
   "cell_type": "markdown",
   "metadata": {},
   "source": [
    "Error en la predicción"
   ]
  },
  {
   "cell_type": "code",
   "execution_count": null,
   "metadata": {},
   "outputs": [
    {
     "data": {
      "image/png": "[encoded data removed]",
      "text/plain": [
       "<Figure size 1400x400 with 6 Axes>"
      ]
     },
     "metadata": {},
     "output_type": "display_data"
    },
    {
     "name": "stdout",
     "output_type": "stream",
     "text": [
      "MSE: 177.52291730 K^2\n"
     ]
    }
   ],
   "source": [
    "plot_se_map(T_pred, T, time=100, show_pred=True)"
   ]
  },
  {
   "cell_type": "markdown",
   "metadata": {},
   "source": [
    "Error en la predicción"
   ]
  },
  {
   "cell_type": "code",
   "execution_count": null,
   "metadata": {},
   "outputs": [
    {
     "data": {
      "image/png": "[encoded data removed]",
      "text/plain": [
       "<Figure size 1400x400 with 6 Axes>"
      ]
     },
     "metadata": {},
     "output_type": "display_data"
    },
    {
     "name": "stdout",
     "output_type": "stream",
     "text": [
      "MSE: 177.52291730 K^2\n"
     ]
    }
   ],
   "source": [
    "plot_se_map(T_pred, T, time=100, show_pred=True)"
   ]
  }
 ],
 "metadata": {
  "kernelspec": {
   "display_name": "ismael_minimal",
   "language": "python",
   "name": "python3"
  },
  "language_info": {
   "codemirror_mode": {
    "name": "ipython",
    "version": 3
   },
   "file_extension": ".py",
   "mimetype": "text/x-python",
   "name": "python",
   "nbconvert_exporter": "python",
   "pygments_lexer": "ipython3",
   "version": "3.9.21"
  }
 },
 "nbformat": 4,
 "nbformat_minor": 2
}
