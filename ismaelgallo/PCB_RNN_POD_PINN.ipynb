{
 "cells": [
  {
   "cell_type": "markdown",
   "metadata": {},
   "source": [
    "# PINN RNN POD reduction"
   ]
  },
  {
   "cell_type": "code",
   "execution_count": 1,
   "metadata": {},
   "outputs": [],
   "source": [
    "import numpy as np\n",
    "# import pandas as pd\n",
    "from scipy import sparse\n",
    "# from scipy.sparse import csr_matrix\n",
    "import time\n",
    "import os\n",
    "import matplotlib.pyplot as plt\n",
    "from matplotlib import colormaps\n",
    "import sys\n",
    "# import random\n",
    "import seaborn as sns\n",
    "\n",
    "import sklearn\n",
    "# from sklearn.metrics import root_mean_squared_error\n",
    "from sklearn.metrics import mean_squared_error\n",
    "from sklearn.model_selection import train_test_split\n",
    "from sklearn.preprocessing import StandardScaler\n",
    "\n",
    "import torch\n",
    "from torch import nn\n",
    "import torch.nn.functional as F\n",
    "from torchvision import datasets, transforms\n",
    "import torch.optim as optim\n",
    "from torch.utils.data import Dataset, DataLoader, TensorDataset\n",
    "\n",
    "np.set_printoptions(threshold=sys.maxsize)\n",
    "torch.set_default_dtype(torch.float32)\n",
    "\n",
    "# get the directory path of the file\n",
    "dir_path = os.getcwd()\n",
    "# print(dir_path)"
   ]
  },
  {
   "cell_type": "markdown",
   "metadata": {},
   "source": [
    "Configuración global de Matplotlib"
   ]
  },
  {
   "cell_type": "code",
   "execution_count": 2,
   "metadata": {},
   "outputs": [],
   "source": [
    "plt.rcParams.update({\n",
    "    # 'text.usetex': True,  # Usar LaTeX para el texto (Local)\n",
    "    'text.usetex': False,  # NO Usar LaTeX para el texto (Colab)\n",
    "    'font.family': 'serif',  # Fuente serif\n",
    "    # 'figure.figsize': (10, 6),  # Tamaño de la figura\n",
    "    'axes.labelsize': 12,  # Tamaño de las etiquetas de los ejes\n",
    "    'axes.titlesize': 14,  # Tamaño del título\n",
    "    'legend.fontsize': 12,  # Tamaño de la leyenda\n",
    "    'xtick.labelsize': 10,  # Tamaño de las etiquetas del eje x\n",
    "    'ytick.labelsize': 10,  # Tamaño de las etiquetas del eje y\n",
    "    'axes.grid': True,  # Habilitar la cuadrícula\n",
    "    'grid.alpha': 0.75,  # Transparencia de la cuadrícula\n",
    "    'grid.linestyle': '--'  # Estilo de la línea de la cuadrícula\n",
    "})\n",
    "\n",
    "# Configuración de Seaborn\n",
    "sns.set_context('paper')\n",
    "sns.set_style('whitegrid')"
   ]
  },
  {
   "cell_type": "code",
   "execution_count": 3,
   "metadata": {},
   "outputs": [
    {
     "name": "stdout",
     "output_type": "stream",
     "text": [
      "Using device: cpu\n"
     ]
    }
   ],
   "source": [
    "device = torch.device('cuda' if torch.cuda.is_available() else 'cpu')\n",
    "device = 'cpu'\n",
    "print('Using device:', device)"
   ]
  },
  {
   "cell_type": "markdown",
   "metadata": {},
   "source": [
    "<a id='section_1'></a>\n",
    "# PCB solver trasient"
   ]
  },
  {
   "cell_type": "markdown",
   "metadata": {},
   "source": [
    "<a id='section_1_1'></a>\n",
    "## 1.1. PCB case 1"
   ]
  },
  {
   "cell_type": "code",
   "execution_count": 4,
   "metadata": {},
   "outputs": [],
   "source": [
    "def PCB_case_1(L:float=0.1,thickness:float=0.001,m:int=3,board_k:float=10,ir_emmisivity:float=0.8,\n",
    "                    T_interfaces:list=[250,250,250,250],Q_heaters:list=[1.0,1.0,1.0,1.0],Tenv:float=250,display:bool = False):\n",
    "    \"\"\"\n",
    "    Caso 1. \n",
    "    PCB cuadrada de lado L con 4 heaters simétricamente colocados en coordenadas [(L/4,L/2),(L/2,L/4),(3*L/4,L/2),(L/2,3*L/4)]\n",
    "    y con 4 nodos de interfaz situados en coordenadas [(0,0),(L,0),(L,L),(0,L)].\n",
    "    Variables de entrada (unidades entre [], si no hay nada es adimensional):\n",
    "                        -- L (int) = dimensiones de la placa. [m]\n",
    "                        -- thickness (float) = espesor de la placa. [m]\n",
    "                        -- m (int) = valor de refinamiento de malla. --> el número de nodos en x e y es n = 4*m+1. En el caso predeterminado son 12x12 nodos.\n",
    "                        -- board_k (float) = conductividad térmica del material de la placa. [W/(K*m)]\n",
    "                        -- ir_emmisivity (float) = emisividad infrarroja del recubrimiento óptico de la PCB (la pintura). \n",
    "                        -- T_interfaces (lista de 4 elementos) = temperatura de las 4 interfaces. [K]\n",
    "                        -- Q_heaters (lista de 4 elementos) = potencia disipada por los heaters. [W]\n",
    "                        -- Tenv (float) = temperatura del entorno. [K]\n",
    "                        -- display (bool) = mostrar las temperaturas.\n",
    "    Variables de salida:\n",
    "                        -- T (numpy.array con dimension n = nx*ny) = vector con las temperaturas de los nodos (más información mirar en la descripción de **PCB_solver_main()**).\n",
    "                        -- interfaces (diccionario {key = id del nodo, value = temperatura del nodo [K]}) = temperatura de las interfaces.\n",
    "                        -- heaters (diccionario {key = id del nodo, value = disipación del nodo [W]}) = potencia disipada por los heaters.\n",
    "    \"\"\"\n",
    "\n",
    "    n = 4*m+1\n",
    "\n",
    "    id_Qnodes = [int((n-1)/4+(n-1)/2*n),int((n-1)/2+(n-1)/4*n),int(3*(n-1)/4+(n-1)/2*n),int((n-1)/2+3*(n-1)/4*n)]\n",
    "    heaters = {id_Qnodes[0]:Q_heaters[0],id_Qnodes[1]:Q_heaters[1],id_Qnodes[2]:Q_heaters[2],id_Qnodes[3]:Q_heaters[3]}\n",
    "\n",
    "    id_inodes = [0,n-1,n*n-1,n*n-n]\n",
    "    interfaces = {id_inodes[0]:T_interfaces[0],id_inodes[1]:T_interfaces[1],id_inodes[2]:T_interfaces[2],id_inodes[3]:T_interfaces[3]}\n",
    "\n",
    "    T = PCB_solver_main(Lx=L, Ly=L, thickness=thickness,nx=n,ny=n,board_k=board_k,ir_emmisivity=ir_emmisivity,\n",
    "                    Tenv=Tenv,interfaces=interfaces,heaters=heaters, display=display)\n",
    "    \n",
    "    return T,interfaces,heaters"
   ]
  },
  {
   "cell_type": "markdown",
   "metadata": {},
   "source": [
    "<a id='section_1_2'></a>\n",
    "## 1.2. PCB case 2"
   ]
  },
  {
   "cell_type": "code",
   "execution_count": 5,
   "metadata": {},
   "outputs": [],
   "source": [
    "def PCB_case_2(solver: str = 'steady', L:float=0.1,thickness:float=0.001,m:int=3,board_k:float=10, board_c:float=900, board_rho: float = 2700, ir_emmisivity:float=0.8,\n",
    "                    T_interfaces:list=[250,250,250,250],Q_heaters:list=[1.0,1.0,1.0,1.0],Tenv:float=250,display:bool = False, time:float = 0.0, dt:float = 0.0, T_init:float = 298.0):\n",
    "    \"\"\"\n",
    "    Caso 1\n",
    "    PCB cuadrada de lado L con 4 heaters colocados en coordenadas [(L/4,L/2),(L/2,L/4),(L/4,3*L/4),(3*L/4,3*L/4)]\n",
    "    y con 4 nodos de interfaz situados en coordenadas [(0,0),(L,0),(L,L),(0,L)].\n",
    "    Variables de entrada (unidades entre [], si no hay nada es adimensional):\n",
    "                        -- L (int) = dimensiones de la placa. [m]\n",
    "                        -- thickness (float) = espesor de la placa. [m]\n",
    "                        -- m (int) = valor de refinamiento de malla. --> el número de nodos en x e y es n = 4*m+1. En el caso predeterminado son 12x12 nodos.\n",
    "                        -- board_k (float) = conductividad térmica del material de la placa. [W/(K*m)]\n",
    "                        -- ir_emmisivity (float) = emisividad infrarroja del recubrimiento óptico de la PCB (la pintura). \n",
    "                        -- T_interfaces (lista de 4 elementos) = temperatura de las 4 interfaces (250 - 350 K). [K]\n",
    "                        -- Q_heaters (lista de 4 elementos) = potencia disipada por los heaters (0.1 - 5.0 W). [W]\n",
    "                        -- Tenv (float) = temperatura del entorno (250 - 350 K). [K]\n",
    "                        -- display (bool) = mostrar las temperaturas.\n",
    "    Variables de salida:\n",
    "                        -- T (numpy.array con dimension n = nx*ny) = vector con las temperaturas de los nodos (más información mirar en la descripción de **PCB_solver_main()**).\n",
    "                        -- interfaces (diccionario {key = id del nodo, value = temperatura del nodo [K]}) = temperatura de las interfaces.\n",
    "                        -- heaters (diccionario {key = id del nodo, value = disipación del nodo [W]}) = potencia disipada por los heaters.\n",
    "    \"\"\"\n",
    "\n",
    "    n = 4*m+1\n",
    "\n",
    "    id_Qnodes = [int((n-1)/4+(n-1)/2*n),int((n-1)/2+(n-1)/4*n),int((n-1)/4+3*(n-1)/4*n),int(3*(n-1)/4+3*(n-1)/4*n)]\n",
    "    heaters = {id_Qnodes[0]:Q_heaters[0],id_Qnodes[1]:Q_heaters[1],id_Qnodes[2]:Q_heaters[2],id_Qnodes[3]:Q_heaters[3]}\n",
    "\n",
    "    id_inodes = [0,n-1,n*n-1,n*n-n]\n",
    "    interfaces = {id_inodes[0]:T_interfaces[0],id_inodes[1]:T_interfaces[1],id_inodes[2]:T_interfaces[2],id_inodes[3]:T_interfaces[3]}\n",
    "\n",
    "    T, time_array = PCB_solver_main(solver = solver, Lx=L, Ly=L, thickness=thickness,nx=n,ny=n,board_k=board_k, board_c=board_c, board_rho=board_rho, ir_emmisivity=ir_emmisivity,\n",
    "                    Tenv=Tenv,interfaces=interfaces,heaters=heaters, display=display, time=time, dt=dt, T_init = T_init)\n",
    "    \n",
    "    return T, time_array, interfaces, heaters"
   ]
  },
  {
   "cell_type": "markdown",
   "metadata": {},
   "source": [
    "<a id='section_1_3'></a>\n",
    "## 1.3. PCB solver main"
   ]
  },
  {
   "cell_type": "code",
   "execution_count": 6,
   "metadata": {},
   "outputs": [],
   "source": [
    "def PCB_solver_main(solver:str, Lx:float,Ly:float,thickness:float,nx:int,ny:int,board_k:float,  ir_emmisivity:float,\n",
    "                    Tenv:float,interfaces:dict,heaters:dict, display:bool = False, maxiters:int = 1000, objtol:int = 0.01, board_c:float=900, board_rho: float = 2700, time:float = 0.0, dt:float = 0.0,T_init:float = 298.0):\n",
    "    '''\n",
    "    Función solver del problema de PCB rectangular en un entorno radiativo formado por un cuerpo negro a temperatura Tenv. \n",
    "    Los nodos van numerados siguiendo el esquema de la figura, los nodos se ordenan de forma creciente filas.\n",
    "\n",
    "    26---27---28---29---30    \n",
    "    |    |    |    |    |  \n",
    "    20---21---22---23---24    \n",
    "    |    |    |    |    |   \n",
    "    15---16---17---18---19    \n",
    "    |    |    |    |    |\n",
    "    10---11---12---13---14    \n",
    "    |    |    |    |    |    y\n",
    "    5----6----7----8----9    ^\n",
    "    |    |    |    |    |    |\n",
    "    0----1----2----3----4    ---> x\n",
    "\n",
    "    Variables de entrada (unidades entre [], si no hay nada es adimensional):\n",
    "                        -- Lx (int) = dimension x de la placa. [m]\n",
    "                        -- Lx (int) = dimension y de la placa. [m]\n",
    "                        -- thickness (float) = espesor de la placa. [m]\n",
    "                        -- nx (int) = número de nodos en el eje x (en la figura de ejemplo son 5).\n",
    "                        -- ny (int) = número de nodos en el eje y (en la figura de ejemplo son 6).\n",
    "                        -- board_k (float) = conductividad térmica del material de la placa. [W/(K*m)]\n",
    "                        -- ir_emmisivity (float) = emisividad infrarroja del recubrimiento óptico de la PCB (la pintura).\n",
    "                        -- Tenv (float) = temperatura del entorno. [K]\n",
    "                        -- interfaces (diccionario {key = id del nodo, value = temperatura del nodo [K]}) = temperatura de las interfaces.\n",
    "                        -- heaters (diccionario {key = id del nodo, value = disipación del nodo [W]}) = potencia disipada por los heaters.\n",
    "                        -- display (bool) = mostrar las temperaturas.\n",
    "                        -- maxiters (int) = máximas iteraciones del solver. Mantener el valor predeterminado salvo si la convergencia es muy lenta (salta error en la linea 203). \n",
    "                        -- objtol (int) = tolerancia objetivo del solver. Mantener el valor predeterminado salvo si no se llega a convergencia (salta error en la linea 203).\n",
    "    Variables de salida:\n",
    "                        -- T (numpy.array con dimension n = nx*ny) = vector con las temperaturas ordenadas como en la figura de ejemplo.\n",
    "    '''\n",
    "    \n",
    "    n_nodes = nx*ny # número total de nodos\n",
    "\n",
    "    # cálculo de los GLs y GRs\n",
    "    dx = Lx/(nx-1)\n",
    "    dy = Ly/(ny-1)\n",
    "    GLx = thickness*board_k*dy/dx\n",
    "    GLy = thickness*board_k*dx/dy\n",
    "    GR = 2*dx*dy*ir_emmisivity\n",
    "\n",
    "    # Generación de la matriz de acoplamientos conductivos [K]. \n",
    "    K_cols = []\n",
    "    K_rows = []\n",
    "    K_data = []\n",
    "    for j in range(ny):\n",
    "        for i in range(nx):\n",
    "            id = i + nx*j\n",
    "            if id in interfaces:\n",
    "                K_rows.append(id)\n",
    "                K_cols.append(id)\n",
    "                K_data.append(1)\n",
    "            else:\n",
    "                GLii = 0\n",
    "                if i+1 < nx:\n",
    "                    K_rows.append(id)\n",
    "                    K_cols.append(id+1)\n",
    "                    K_data.append(-GLx)\n",
    "                    GLii += GLx\n",
    "                if i-1 >= 0:\n",
    "                    K_rows.append(id)\n",
    "                    K_cols.append(id-1)\n",
    "                    K_data.append(-GLx)\n",
    "                    GLii += GLx\n",
    "                if j+1 < ny:\n",
    "                    K_rows.append(id)\n",
    "                    K_cols.append(id+nx)\n",
    "                    K_data.append(-GLx)\n",
    "                    GLii += GLy\n",
    "                if j-1 >= 0:\n",
    "                    K_rows.append(id)\n",
    "                    K_cols.append(id-nx)\n",
    "                    K_data.append(-GLx)\n",
    "                    GLii += GLy\n",
    "                K_rows.append(id)\n",
    "                K_cols.append(id)\n",
    "                K_data.append(GLii)\n",
    "    K = sparse.csr_matrix((K_data,(K_rows,K_cols)),shape=(n_nodes,n_nodes))\n",
    "\n",
    "    # Creación de la matriz de acoplamientos radiativos [E]\n",
    "    E_data = []\n",
    "    E_id = []\n",
    "    for id in range(n_nodes):\n",
    "        if id not in interfaces:\n",
    "            E_id.append(id)\n",
    "            E_data.append(GR)\n",
    "    E = sparse.csr_matrix((E_data,(E_id,E_id)),shape=(n_nodes,n_nodes))\n",
    "\n",
    "    # Creación del vector {Q}.\n",
    "    Q = np.zeros(n_nodes,dtype=np.double)\n",
    "    for id in range(n_nodes):\n",
    "        if id in interfaces:\n",
    "            Q[id] = interfaces[id]\n",
    "        elif id in heaters:\n",
    "            Q[id] = heaters[id]\n",
    "    \n",
    "    # Resolución de la ecuación no lineal [K]{T} + Boltzmann_cte*[E]({T^4} - Tenv^4) = {Q} \n",
    "    # mediante la resolución iterativa de la ecuación [A]{dT_i} = {b}, donde:\n",
    "    #           -- [A] = [K] + 4*Boltzmann_cte*[E].*{T_i^3} (.* = multiplicación elemento a elemento)\n",
    "    #           -- {b} = {Q} - [K]*{T_i} - [E]*({T_i^4}-Tenv^4)\n",
    "    #           -- {T_i+1} = {T_i} + {dT_i}\n",
    "            \n",
    "    Boltzmann_cte = 5.67E-8\n",
    "    tol = 100\n",
    "    it = 0\n",
    "\n",
    "    if solver == 'steady':\n",
    "        T = np.full(n_nodes, T_init, dtype=np.double)\n",
    "        while tol > objtol and it < maxiters:\n",
    "            b = Q - K.__matmul__(T) - Boltzmann_cte * E.__matmul__(T**4-Tenv**4)\n",
    "            A = K + 4 * Boltzmann_cte * E.multiply(T**3)\n",
    "            dT = sparse.linalg.spsolve(A,b)\n",
    "            T += dT\n",
    "            tol = max(abs(dT))\n",
    "            it = it+1\n",
    "\n",
    "        if tol > objtol:\n",
    "            print(\"ERROR in PCB SOLVER MAIN. Convergence was not reached.\")\n",
    "            exit(1)\n",
    "\n",
    "        if display == True:\n",
    "            fig, ax = plt.subplots(1, 1, figsize=(6, 6), constrained_layout=True)\n",
    "            psm = ax.pcolormesh(T.reshape(ny,nx), cmap=colormaps['jet'], rasterized=True, vmin=np.min(T), vmax=np.max(T))\n",
    "            fig.colorbar(psm, ax=ax)\n",
    "            plt.title('Temperature field')\n",
    "            plt.show()\n",
    "        return T, None\n",
    "    \n",
    "    elif solver == 'transient':\n",
    "        alpha = board_k/(board_rho*board_c) # thermal difusivity.\n",
    "        if alpha*dt/(0.5*(dx+dy))**2 > 0.5: # stability criterion for Euler scheeme. --> the criterion can be found here (eq 11): https://en.wikipedia.org/wiki/Von_Neumann_stability_analysis\n",
    "            print(\"Excesive timestep size. Euler method becomes unstable.\")\n",
    "            exit(1)\n",
    "        T = np.full(n_nodes, T_init, dtype=np.double) \n",
    "        interface_nodes_id = np.array(list(interfaces.keys()))\n",
    "        heater_nodes_id = np.array(list(heaters.keys()))\n",
    "        for i_node in interfaces: # changing the temperature of the interface nodes from T_init to the proper temperature of the interface.\n",
    "            T[i_node] = interfaces[i_node]\n",
    "        T_array = np.expand_dims(T, axis=0)\n",
    "        time_array = np.array([0.0])\n",
    "        ti = 0.0\n",
    "        while ti < time:\n",
    "            dTdt = (Q - K.__matmul__(T) - Boltzmann_cte * E.__matmul__(T**4 - Tenv**4)) / (board_c * board_rho * thickness * dx * dy)\n",
    "            dTdt[interface_nodes_id] = 0 # cancel de derivative term in the interface nodes. \n",
    "            dT = dTdt * dt\n",
    "            T += dT\n",
    "            T_array = np.concatenate((T_array, np.expand_dims(T, axis=0)), axis=0)\n",
    "            ti += dt\n",
    "            time_array = np.append(time_array, ti)\n",
    "\n",
    "        if display == True:\n",
    "            fig1, ax1 = plt.subplots(1, 1, figsize=(6, 6), constrained_layout=True)\n",
    "            psm = ax1.pcolormesh(T.reshape(ny,nx), cmap=colormaps['jet'], rasterized=True, vmin=np.min(T), vmax=np.max(T))\n",
    "            fig1.colorbar(psm, ax=ax1)\n",
    "            plt.title('Temperature field at time '+str(time)+' [s]')\n",
    "            plt.show()\n",
    "\n",
    "            fig2, ax2 = plt.subplots(1, 1, figsize=(6, 6), constrained_layout=True)\n",
    "            ax2.plot(time_array,T_array[:,heater_nodes_id])\n",
    "            plt.title(\"heaters temperature\")\n",
    "            plt.xlabel(\"time [s]\")\n",
    "            plt.ylabel(\"temperature [K]\")\n",
    "            legend = list(heaters.keys())\n",
    "            plt.legend(legend)\n",
    "            plt.show()\n",
    "\n",
    "        return T_array, time_array"
   ]
  },
  {
   "cell_type": "markdown",
   "metadata": {},
   "source": [
    "<a id='section_1_4'></a>\n",
    "## 1.4. Ejemplo de uso con los valores predeterminados"
   ]
  },
  {
   "cell_type": "code",
   "execution_count": 7,
   "metadata": {},
   "outputs": [
    {
     "data": {
      "image/png": "[encoded data removed]",
      "text/plain": [
       "<Figure size 600x600 with 2 Axes>"
      ]
     },
     "metadata": {},
     "output_type": "display_data"
    },
    {
     "data": {
      "image/png": "[encoded data removed]",
      "text/plain": [
       "<Figure size 600x600 with 1 Axes>"
      ]
     },
     "metadata": {},
     "output_type": "display_data"
    },
    {
     "data": {
      "text/plain": [
       "1001"
      ]
     },
     "execution_count": 7,
     "metadata": {},
     "output_type": "execute_result"
    }
   ],
   "source": [
    "# T1,time1,interfaces1,heaters1 = PCB_case_2(solver='steady',display=True)\n",
    "T2, time2, interfaces2, heaters2 = PCB_case_2(solver = 'transient', display=True, time = 1000, dt = 1, T_init = 298.0)\n",
    "T2.shape[0]"
   ]
  },
  {
   "cell_type": "markdown",
   "metadata": {},
   "source": [
    "# Dataset generation"
   ]
  },
  {
   "cell_type": "markdown",
   "metadata": {},
   "source": [
    "## Dataset class"
   ]
  },
  {
   "cell_type": "code",
   "execution_count": 8,
   "metadata": {},
   "outputs": [],
   "source": [
    "class PCBDataset(Dataset):\n",
    "    def __init__(self,T_interfaces:torch.tensor,Q_heaters:torch.tensor,T_env:torch.tensor,T_outputs:torch.tensor,\n",
    "                 T_interfaces_mean:torch.tensor,T_interfaces_std:torch.tensor,Q_heaters_mean:torch.tensor,\n",
    "                 Q_heaters_std:torch.tensor,T_env_mean:torch.tensor,T_env_std:torch.tensor,T_outputs_mean:torch.tensor,\n",
    "                 T_outputs_std:torch.tensor):\n",
    "        \n",
    "        self.T_interfaces_mean = T_interfaces_mean\n",
    "        self.T_interfaces_std = T_interfaces_std\n",
    "        self.Q_heaters_mean = Q_heaters_mean\n",
    "        self.Q_heaters_std = Q_heaters_std\n",
    "        self.T_outputs_mean = T_outputs_mean\n",
    "        self.T_outputs_std = T_outputs_std\n",
    "        self.T_env_mean = T_env_mean\n",
    "        self.T_env_std = T_env_std\n",
    "\n",
    "        self.inputs = torch.empty([T_interfaces.shape[0],3,13,13])\n",
    "        self.T_interfaces = (T_interfaces-T_interfaces_mean)/T_interfaces_std\n",
    "        self.Q_heaters = (Q_heaters-Q_heaters_mean)/Q_heaters_std\n",
    "        self.T_env= (T_env-T_env_mean)/T_env_std\n",
    "        self.outputs = (T_outputs-T_outputs_mean)/T_outputs_std\n",
    "        self.inputs[:,0,:] = self.T_interfaces\n",
    "        self.inputs[:,1,:] = self.Q_heaters\n",
    "        self.inputs[:,2,:] = self.T_env\n",
    "\n",
    "    def denormalize_T_interfaces(self,x):\n",
    "        tensor_device = x.get_device()\n",
    "        mean = self.T_interfaces_mean.to(tensor_device)\n",
    "        std = self.T_interfaces_std.to(tensor_device)\n",
    "        return x*std+mean\n",
    "    \n",
    "    def denormalize_T_env(self,x):\n",
    "        tensor_device = x.get_device()\n",
    "        mean = self.T_env_mean.to(tensor_device)\n",
    "        std = self.T_env_std.to(tensor_device)\n",
    "        return x*std+mean\n",
    "    \n",
    "    def denormalize_Q_heaters(self,x):\n",
    "        tensor_device = x.get_device()\n",
    "        mean = self.Q_heaters_mean.to(tensor_device)\n",
    "        std = self.Q_heaters_std.to(tensor_device)\n",
    "        return x*std+mean\n",
    "\n",
    "    def denormalize_output(self,x):\n",
    "        tensor_device = x.get_device()\n",
    "        mean = self.T_outputs_mean.to(tensor_device)\n",
    "        std = self.T_outputs_std.to(tensor_device)\n",
    "        return x*std+mean\n",
    "\n",
    "    def __len__(self):\n",
    "        return len(self.inputs)\n",
    "\n",
    "    def __getitem__(self, idx):\n",
    "        input_data = self.inputs[idx]\n",
    "        output_data = self.outputs[idx]\n",
    "        return input_data, output_data\n",
    "    \n",
    "    def to_device(self):\n",
    "        device = torch.device('cuda' if torch.cuda.is_available() else 'cpu')\n",
    "        self.inputs = self.inputs.to(device)\n",
    "        self.outputs = self.outputs.to(device)"
   ]
  },
  {
   "cell_type": "markdown",
   "metadata": {},
   "source": [
    "## Dataset Generation"
   ]
  },
  {
   "cell_type": "markdown",
   "metadata": {},
   "source": [
    "Dataset parameters: variable max and min values, number of data, boundary conditions..."
   ]
  },
  {
   "cell_type": "code",
   "execution_count": 9,
   "metadata": {},
   "outputs": [],
   "source": [
    "n_train = 5\n",
    "n_test = 1\n",
    "nodes_side = 13\n",
    "time_sim = 1000\n",
    "dt = 1\n",
    "T_init = 298.0\n",
    "\n",
    "n_data = n_train+n_test\n",
    "\n",
    "input = []\n",
    "output = []\n",
    "\n",
    "np.random.seed(0)\n",
    "\n",
    "Q_random = np.random.uniform(0.1, 1.25, (n_data, 4))\n",
    "T_interfaces_random = np.random.uniform(260, 310, (n_data, 4))\n",
    "T_env_random = np.random.uniform(260, 310, n_data)"
   ]
  },
  {
   "cell_type": "markdown",
   "metadata": {},
   "source": [
    "Iterating to get the full dataset"
   ]
  },
  {
   "cell_type": "code",
   "execution_count": 10,
   "metadata": {},
   "outputs": [
    {
     "name": "stdout",
     "output_type": "stream",
     "text": [
      "Generating element number:  0\n",
      "Time to generate the data:  0.8279156684875488\n"
     ]
    }
   ],
   "source": [
    "time_start = time.time()\n",
    "\n",
    "for i in range(n_data):\n",
    "    \n",
    "    # Print iteration number\n",
    "    if i%100 == 0:\n",
    "        print(\"Generating element number: \",i)\n",
    "        \n",
    "    # Generate the data\n",
    "    T, _, _, _ = PCB_case_2(solver = 'transient', display=False, time = time_sim, dt = dt, T_init = T_init, Q_heaters = Q_random[i], T_interfaces = T_interfaces_random[i], Tenv = T_env_random[i]) # heaters in default position\n",
    "    # T = T.reshape(T.shape[0], nodes_side,nodes_side) # reshaping the data grid-shape\n",
    "    \n",
    "    # Append the data to the list\n",
    "    output.append(T)\n",
    "    input1 = []\n",
    "    # print(T_interfaces_random[i],Q_random[i],T_env_random[i]) # DEBUGGING\n",
    "    input1 = np.concatenate((T_interfaces_random[i],Q_random[i],[T_env_random[i]]),axis=0)\n",
    "    # print(input1) # DEBUGGING\n",
    "    input.append(input1)\n",
    "    \n",
    "time_end = time.time()\n",
    "time_generation_data = time_end-time_start\n",
    "print(\"Time to generate the data: \",time_generation_data)\n",
    "\n",
    "# transform the lists into numpy arrays\n",
    "input = np.array(input)\n",
    "output = np.array(output)\n",
    "output = output.reshape(output.shape[0], output.shape[1], nodes_side,nodes_side) # reshaping the data grid-shape\n",
    "# print(output.shape) # DEBUGGING"
   ]
  },
  {
   "cell_type": "markdown",
   "metadata": {},
   "source": [
    "Transform dataset into torch tensors"
   ]
  },
  {
   "cell_type": "code",
   "execution_count": 11,
   "metadata": {},
   "outputs": [],
   "source": [
    "# print(input.shape) # DEBUGGING\n",
    "input = torch.tensor(input,dtype=torch.float32).to(device)\n",
    "# print(output.shape) # DEBUGGING\n",
    "output = torch.tensor(output,dtype=torch.float32).to(device)\n",
    "\n",
    "T_interfaces = np.zeros((n_data, nodes_side,nodes_side))\n",
    "Q_heaters = np.zeros((n_data, nodes_side,nodes_side))\n",
    "T_env = np.zeros((n_data, nodes_side,nodes_side))\n",
    "\n",
    "for i in range(n_data):\n",
    "    Q_heaters[i,6,3], Q_heaters[i,3,6],Q_heaters[i,9,3], Q_heaters[i,9,9] = Q_random[i]\n",
    "    T_interfaces[i,0,0], T_interfaces[i,0,nodes_side-1], T_interfaces[i,nodes_side-1,nodes_side-1], T_interfaces[i,nodes_side-1,0] = T_interfaces_random[i]\n",
    "    T_env[i,:,:] = T_env_random[i]\n",
    "    \n",
    "Q_heaters = torch.tensor(Q_heaters,dtype=torch.float32).to(device)\n",
    "T_env = torch.tensor(T_env,dtype=torch.float32).to(device)\n",
    "T_interfaces = torch.tensor(T_interfaces,dtype=torch.float32).to(device)"
   ]
  },
  {
   "cell_type": "markdown",
   "metadata": {},
   "source": [
    "Calculate averages and standard deviation"
   ]
  },
  {
   "cell_type": "code",
   "execution_count": 12,
   "metadata": {},
   "outputs": [
    {
     "name": "stdout",
     "output_type": "stream",
     "text": [
      "tensor(6.7243) tensor(43.2562) tensor(0.0190) tensor(0.1311) tensor(283.1530) tensor(13.7003) tensor(304.8755) tensor(12.3440)\n"
     ]
    }
   ],
   "source": [
    "# calculate averages and standard deviations\n",
    "T_interfaces_mean = T_interfaces.mean() # careful because calculated with lots of zeros\n",
    "T_interfaces_std = T_interfaces.std()\n",
    "Q_heaters_mean = Q_heaters.mean() # careful because calculated with lots of zeros\n",
    "Q_heaters_std = Q_heaters.std()\n",
    "T_env_mean = T_env.mean()\n",
    "T_env_std = T_env.std()\n",
    "output_mean = output.mean() \n",
    "output_std = output.std()\n",
    "\n",
    "print(T_interfaces_mean, T_interfaces_std, Q_heaters_mean, Q_heaters_std, T_env_mean, T_env_std, output_mean, output_std) # DEBUGGING\n",
    "# print(T_interfaces[1, : , :]) # DEBUGGING\n",
    "# print(torch.count_nonzero(Q_heaters[1, : , :])) # DEBUGGING"
   ]
  },
  {
   "cell_type": "markdown",
   "metadata": {},
   "source": [
    "Saving dataset"
   ]
  },
  {
   "cell_type": "code",
   "execution_count": 13,
   "metadata": {},
   "outputs": [
    {
     "name": "stdout",
     "output_type": "stream",
     "text": [
      "torch.Size([6, 13, 13])\n",
      "torch.Size([6, 13, 13])\n",
      "torch.Size([6, 13, 13])\n",
      "torch.Size([6, 1001, 13, 13])\n"
     ]
    }
   ],
   "source": [
    "# DEBUGGING\n",
    "\n",
    "print(T_interfaces.shape)\n",
    "print(Q_heaters.shape)\n",
    "print(T_env.shape)\n",
    "print(output.shape)"
   ]
  },
  {
   "cell_type": "code",
   "execution_count": 14,
   "metadata": {},
   "outputs": [],
   "source": [
    "dataset_test = PCBDataset(T_interfaces[:n_test,:,:],Q_heaters[:n_test,:,:],T_env[:n_test,:,:],output[:n_test,:,:],\n",
    "                 T_interfaces_mean,T_interfaces_std,Q_heaters_mean,\n",
    "                 Q_heaters_std,T_env_mean,T_env_std,output_mean,\n",
    "                 output_std)\n",
    "\n",
    "dataset_train = PCBDataset(T_interfaces[n_test:,:,:],Q_heaters[n_test:,:,:],T_env[n_test:,:,:],output[n_test:,:,:],\n",
    "                 T_interfaces_mean,T_interfaces_std,Q_heaters_mean,\n",
    "                 Q_heaters_std,T_env_mean,T_env_std,output_mean,\n",
    "                 output_std)\n",
    "\n",
    "dataset = PCBDataset(T_interfaces,Q_heaters,T_env,output,\n",
    "                 T_interfaces_mean,T_interfaces_std,Q_heaters_mean,\n",
    "                 Q_heaters_std,T_env_mean,T_env_std,output_mean,\n",
    "                 output_std)\n",
    "\n",
    "\n",
    "# path directorie for saving datasets\n",
    "path = os.path.join(dir_path,'Datasets')\n",
    "if not os.path.exists(path):\n",
    "    os.makedirs(path)\n",
    "    \n",
    "torch.save(dataset, os.path.join(dir_path,\"Datasets\",'PCB_transient_dataset.pth'))\n",
    "torch.save(dataset_test, os.path.join(dir_path,\"Datasets\",'PCB_transient_dataset_test.pth'))\n",
    "torch.save(dataset_train, os.path.join(dir_path,\"Datasets\",'PCB_transient_dataset_train.pth'))"
   ]
  },
  {
   "cell_type": "markdown",
   "metadata": {},
   "source": [
    "# RNN Model"
   ]
  },
  {
   "cell_type": "code",
   "execution_count": 15,
   "metadata": {},
   "outputs": [
    {
     "name": "stdout",
     "output_type": "stream",
     "text": [
      "torch.Size([6, 9])\n"
     ]
    }
   ],
   "source": [
    "n = 4 # arbitrary\n",
    "num_layers = 1 # arbitrary\n",
    "print(input.shape)\n",
    "\n",
    "input_size = input.shape[1]\n",
    "output_size = output.shape[2] #*output.shape[3]\n",
    "hidden_size = input_size*n \n",
    "sequence_length = output.shape[1]\n",
    "input = input.unsqueeze(1).repeat(1, sequence_length, 1) # to use as input for the model\n",
    "batch_size = input.shape[0]"
   ]
  },
  {
   "cell_type": "code",
   "execution_count": 16,
   "metadata": {},
   "outputs": [],
   "source": [
    "class PCB_RNN_relu(nn.Module):\n",
    "    def __init__(self, input_size, hidden_size, num_layers, output_size):\n",
    "        super(PCB_RNN_relu, self).__init__()\n",
    "        \n",
    "        # Recurrent layer\n",
    "        self.rnn = nn.RNN(input_size, hidden_size, num_layers, batch_first=True, nonlinearity='relu')\n",
    "        \n",
    "        # Output layer (Fully Connected Layer)\n",
    "        self.fc = nn.Linear(hidden_size, output_size)\n",
    "        \n",
    "    def forward(self, x, h_0):\n",
    "        # Recurrent layer forward propagation\n",
    "        out, h_n = self.rnn(x, h_0)\n",
    "        \n",
    "        # Last time step output\n",
    "        out = self.fc(out)\n",
    "        \n",
    "        return out, h_n"
   ]
  },
  {
   "cell_type": "code",
   "execution_count": 17,
   "metadata": {},
   "outputs": [],
   "source": [
    "class PCB_RNN_tanh(nn.Module):\n",
    "    def __init__(self, input_size, hidden_size, num_layers, output_size):\n",
    "        super(PCB_RNN_tanh, self).__init__()\n",
    "        \n",
    "        # Recurrent layer\n",
    "        self.rnn = nn.RNN(input_size, hidden_size, num_layers, batch_first=True, nonlinearity='tanh')\n",
    "        \n",
    "        # Output layer (Fully Connected Layer)\n",
    "        self.fc = nn.Linear(hidden_size, output_size)\n",
    "        \n",
    "    def forward(self, x, h_0):\n",
    "        # Recurrent layer forward propagation\n",
    "        out, h_n = self.rnn(x, h_0)\n",
    "        \n",
    "        # whole sequence output\n",
    "        out = self.fc(out)\n",
    "        \n",
    "        return out, h_n"
   ]
  },
  {
   "cell_type": "markdown",
   "metadata": {},
   "source": [
    "Input data"
   ]
  },
  {
   "cell_type": "code",
   "execution_count": 18,
   "metadata": {},
   "outputs": [],
   "source": [
    "model_rnn_relu = PCB_RNN_relu(input_size, hidden_size, num_layers, output_size).to(device)"
   ]
  },
  {
   "cell_type": "markdown",
   "metadata": {},
   "source": [
    "Physics transient loss"
   ]
  },
  {
   "cell_type": "code",
   "execution_count": 19,
   "metadata": {},
   "outputs": [],
   "source": [
    "class loss_transient_physics(nn.Module):\n",
    "    def __init__(self, L:float=0.1,thickness:float=0.001,board_k:float=15,ir_emmisivity:float=0.8):\n",
    "        super(loss_transient_physics, self).__init__()\n",
    "        \n",
    "        self.device = torch.device('cuda' if torch.cuda.is_available() else 'cpu')\n",
    "        \n",
    "        nx = ny = nodes_side # square grid\n",
    "        self.n_nodes = nx*ny\n",
    "        \n",
    "        interfaces = [0, nx-1, nx*ny-1, nx*ny-nx]\n",
    "        \n",
    "        self.boltzmann_cte = 5.67E-8\n",
    "        \n",
    "        # GLs and GRs calculation\n",
    "        dx = L/(nx-1)\n",
    "        dy = L/(ny-1)\n",
    "        GLx = thickness*board_k*dy/dx\n",
    "        GLy = thickness*board_k*dx/dy\n",
    "        GR = 2*dx*dy*ir_emmisivity\n",
    "        \n",
    "        # Generation of the conductive coupling matrix [K]\n",
    "        K_cols = []\n",
    "        K_rows = []\n",
    "        K_data = []\n",
    "        for j in range(ny):\n",
    "            for i in range(nx):\n",
    "                id = i + nx*j\n",
    "                if id in interfaces:\n",
    "                    K_rows.append(id)\n",
    "                    K_cols.append(id)\n",
    "                    K_data.append(1)\n",
    "                else:\n",
    "                    GLii = 0\n",
    "                    if i+1 < nx:\n",
    "                        K_rows.append(id)\n",
    "                        K_cols.append(id+1)\n",
    "                        K_data.append(-GLx)\n",
    "                        GLii += GLx\n",
    "                    if i-1 >= 0:\n",
    "                        K_rows.append(id)\n",
    "                        K_cols.append(id-1)\n",
    "                        K_data.append(-GLx)\n",
    "                        GLii += GLx\n",
    "                    if j+1 < ny:\n",
    "                        K_rows.append(id)\n",
    "                        K_cols.append(id+nx)\n",
    "                        K_data.append(-GLx)\n",
    "                        GLii += GLy\n",
    "                    if j-1 >= 0:\n",
    "                        K_rows.append(id)\n",
    "                        K_cols.append(id-nx)\n",
    "                        K_data.append(-GLx)\n",
    "                        GLii += GLy\n",
    "                    K_rows.append(id)\n",
    "                    K_cols.append(id)\n",
    "                    K_data.append(GLii)\n",
    "                    \n",
    "        indices = torch.LongTensor([K_rows, K_cols])\n",
    "        values = torch.FloatTensor(K_data)\n",
    "        size = torch.Size([self.n_nodes, self.n_nodes])\n",
    "        self.K = torch.sparse_coo_tensor(indices, values, size, dtype=torch.float)\n",
    "        self.K = self.K.to(self.device)\n",
    "        \n",
    "        # Generation of the radiative coupling matrix [E]\n",
    "        E_data = []\n",
    "        E_id = []\n",
    "        for id in range(self.n_nodes):\n",
    "            if id not in interfaces:\n",
    "                E_id.append(id)\n",
    "                E_data.append(GR)\n",
    "                \n",
    "        indices = torch.LongTensor([E_id, E_id])\n",
    "        values = torch.FloatTensor(E_data)\n",
    "        self.E = torch.sparse_coo_tensor(indices, values, size, dtype=torch.float).to(self.device)\n",
    "        \n",
    "        \n",
    "    def forward(self, output, heaters, interfaces, Tenv):\n",
    "        \n",
    "        # Q calculation\n",
    "        heaters = torch.flatten(heaters, start_dim=1)\n",
    "        interfaces = torch.flatten(interfaces, start_dim=1)\n",
    "        \n",
    "        Q = heaters + interfaces\n",
    "        \n",
    "        # T generation\n",
    "        T = torch.flatten(output, start_dim=1)\n",
    "        \n",
    "        # Residual calculation\n",
    "        residual = torch.zeros_like(T)\n",
    "        \n",
    "        T, Q, Tenv = T.to(self.device), Q.to(self.device), Tenv.to(self.device)\n",
    "        \n",
    "        T = T.transpose(0, 1)\n",
    "        Q = Q.transpose(0, 1)\n",
    "        Tenv = Tenv.transpose(0, 1)\n",
    "        \n",
    "        residual = torch.sparse.mm(self.K,T) + self.boltzmann_cte*torch.sparse.mm(self.E,(T**4-Tenv**4))-Q # caso estacionario, adaptar a transitorio\n",
    "        \n",
    "        return torch.abs(residual)"
   ]
  },
  {
   "cell_type": "code",
   "execution_count": 20,
   "metadata": {},
   "outputs": [],
   "source": [
    "# x = torch.randn(batch_size, sequence_length, input_size).to(device)\n",
    "# h_0 = torch.zeros(num_layers, batch_size, hidden_size).to(device)\n",
    "\n",
    "# # DEBUGGING\n",
    "# out, h_n = model_rnn_relu(x, h_0)\n",
    "\n",
    "# print(\"Dimensión de out:\", out.shape)\n",
    "# print(\"Dimensión de h_n:\", h_n.shape)"
   ]
  },
  {
   "cell_type": "markdown",
   "metadata": {},
   "source": [
    "## Training"
   ]
  },
  {
   "cell_type": "code",
   "execution_count": 21,
   "metadata": {},
   "outputs": [
    {
     "name": "stdout",
     "output_type": "stream",
     "text": [
      "torch.Size([3, 13, 13])\n",
      "torch.Size([1001, 13, 13])\n"
     ]
    },
    {
     "name": "stderr",
     "output_type": "stream",
     "text": [
      "C:\\Users\\ismael.gallo\\AppData\\Local\\Temp\\ipykernel_14532\\2716172004.py:3: FutureWarning: You are using `torch.load` with `weights_only=False` (the current default value), which uses the default pickle module implicitly. It is possible to construct malicious pickle data which will execute arbitrary code during unpickling (See https://github.com/pytorch/pytorch/blob/main/SECURITY.md#untrusted-models for more details). In a future release, the default value for `weights_only` will be flipped to `True`. This limits the functions that could be executed during unpickling. Arbitrary objects will no longer be allowed to be loaded via this mode unless they are explicitly allowlisted by the user via `torch.serialization.add_safe_globals`. We recommend you start setting `weights_only=True` for any use case where you don't have full control of the loaded file. Please open an issue on GitHub for any issues related to this experimental feature.\n",
      "  dataset_test:PCBDataset = torch.load(os.path.join(dataset_path,'PCB_transient_dataset_test.pth'))\n",
      "C:\\Users\\ismael.gallo\\AppData\\Local\\Temp\\ipykernel_14532\\2716172004.py:4: FutureWarning: You are using `torch.load` with `weights_only=False` (the current default value), which uses the default pickle module implicitly. It is possible to construct malicious pickle data which will execute arbitrary code during unpickling (See https://github.com/pytorch/pytorch/blob/main/SECURITY.md#untrusted-models for more details). In a future release, the default value for `weights_only` will be flipped to `True`. This limits the functions that could be executed during unpickling. Arbitrary objects will no longer be allowed to be loaded via this mode unless they are explicitly allowlisted by the user via `torch.serialization.add_safe_globals`. We recommend you start setting `weights_only=True` for any use case where you don't have full control of the loaded file. Please open an issue on GitHub for any issues related to this experimental feature.\n",
      "  dataset_train:PCBDataset = torch.load(os.path.join(dataset_path,'PCB_transient_dataset_train.pth'))\n"
     ]
    }
   ],
   "source": [
    "dataset_path = os.path.join(dir_path,'Datasets')\n",
    "\n",
    "dataset_test:PCBDataset = torch.load(os.path.join(dataset_path,'PCB_transient_dataset_test.pth'))\n",
    "dataset_train:PCBDataset = torch.load(os.path.join(dataset_path,'PCB_transient_dataset_train.pth'))\n",
    "dataset_train.to_device\n",
    "dataset_test.to_device\n",
    "\n",
    "n_test = len(dataset_test)\n",
    "x, y = dataset_train[0]\n",
    "print(x.shape)  # ¿[F]?\n",
    "print(y.shape)  # ¿[T, D]?\n",
    "\n",
    "# # DEBUGGING\n",
    "# print(x[0]) # T_interfaces (normalizado)\n",
    "# print(x[1]) # Q_heaters (normalizado)\n",
    "# print(x[2]) # T_env (normalizado)"
   ]
  },
  {
   "cell_type": "code",
   "execution_count": 22,
   "metadata": {},
   "outputs": [],
   "source": [
    "scaler = StandardScaler()\n",
    "\n",
    "# Convert PyTorch tensor to NumPy array for StandardScaler\n",
    "input_numpy = input.cpu().numpy()  # Ensure the tensor is on the CPU before converting\n",
    "\n",
    "data = scaler.fit_transform(input_numpy[:,0,:])"
   ]
  },
  {
   "cell_type": "code",
   "execution_count": 23,
   "metadata": {},
   "outputs": [
    {
     "name": "stdout",
     "output_type": "stream",
     "text": [
      "Mean: [282.78870138 287.89684041 278.98717244 286.72924805   0.7714107\n",
      "   0.92453084   0.70235998   0.80978416 283.15296936]\n",
      "Standard deviation: [ 9.04833175  4.92271794 16.42245921 16.37772949  0.37702938  0.1991588\n",
      "  0.28131081  0.31841475 13.69349964]\n"
     ]
    },
    {
     "data": {
      "text/plain": [
       "(2.2075795e-09, 1.0)"
      ]
     },
     "execution_count": 23,
     "metadata": {},
     "output_type": "execute_result"
    }
   ],
   "source": [
    "mean = scaler.mean_\n",
    "deviation = scaler.scale_\n",
    "\n",
    "print(\"Mean:\", mean) # DEBUGGING\n",
    "print(\"Standard deviation:\", deviation) # DEBUGGING\n",
    "data.mean(axis=0), data.std(axis=0) # DEBUGGING\n",
    "output.shape, input.shape # DEBUGGING\n",
    "data.mean(), data.std() # DEBUGGING "
   ]
  },
  {
   "cell_type": "markdown",
   "metadata": {},
   "source": [
    "# Convolutional LSTM"
   ]
  },
  {
   "cell_type": "code",
   "execution_count": 24,
   "metadata": {},
   "outputs": [
    {
     "name": "stderr",
     "output_type": "stream",
     "text": [
      "C:\\Users\\ismael.gallo\\AppData\\Local\\Temp\\ipykernel_14532\\2747574449.py:3: FutureWarning: You are using `torch.load` with `weights_only=False` (the current default value), which uses the default pickle module implicitly. It is possible to construct malicious pickle data which will execute arbitrary code during unpickling (See https://github.com/pytorch/pytorch/blob/main/SECURITY.md#untrusted-models for more details). In a future release, the default value for `weights_only` will be flipped to `True`. This limits the functions that could be executed during unpickling. Arbitrary objects will no longer be allowed to be loaded via this mode unless they are explicitly allowlisted by the user via `torch.serialization.add_safe_globals`. We recommend you start setting `weights_only=True` for any use case where you don't have full control of the loaded file. Please open an issue on GitHub for any issues related to this experimental feature.\n",
      "  dataset_test:PCBDataset = torch.load(os.path.join(dataset_path,'PCB_transient_dataset_test.pth'))\n",
      "C:\\Users\\ismael.gallo\\AppData\\Local\\Temp\\ipykernel_14532\\2747574449.py:4: FutureWarning: You are using `torch.load` with `weights_only=False` (the current default value), which uses the default pickle module implicitly. It is possible to construct malicious pickle data which will execute arbitrary code during unpickling (See https://github.com/pytorch/pytorch/blob/main/SECURITY.md#untrusted-models for more details). In a future release, the default value for `weights_only` will be flipped to `True`. This limits the functions that could be executed during unpickling. Arbitrary objects will no longer be allowed to be loaded via this mode unless they are explicitly allowlisted by the user via `torch.serialization.add_safe_globals`. We recommend you start setting `weights_only=True` for any use case where you don't have full control of the loaded file. Please open an issue on GitHub for any issues related to this experimental feature.\n",
      "  dataset_train:PCBDataset = torch.load(os.path.join(dataset_path,'PCB_transient_dataset_train.pth'))\n"
     ]
    },
    {
     "data": {
      "text/plain": [
       "(torch.Size([5, 1001, 3, 13, 13]), torch.Size([5, 1001, 1, 13, 13]))"
      ]
     },
     "execution_count": 24,
     "metadata": {},
     "output_type": "execute_result"
    }
   ],
   "source": [
    "dataset_path = os.path.join(dir_path,'Datasets')\n",
    "\n",
    "dataset_test:PCBDataset = torch.load(os.path.join(dataset_path,'PCB_transient_dataset_test.pth'))\n",
    "dataset_train:PCBDataset = torch.load(os.path.join(dataset_path,'PCB_transient_dataset_train.pth'))\n",
    "dataset_train.to_device\n",
    "dataset_test.to_device\n",
    "\n",
    "n_test = len(dataset_test)\n",
    "input_train, output_train = dataset_train[:]\n",
    "sequence_length = output_train.shape[1]\n",
    "input_train = input_train.unsqueeze(1).repeat(1, sequence_length, 1, 1, 1) # to mantain boundary conditions in all steps\n",
    "output_train = output_train.unsqueeze(2)  # \n",
    "\n",
    "input_train = input_train.to(device)\n",
    "output_train = output_train.to(device)\n",
    "\n",
    "# dataset_train[0][0].shape, dataset_train[0][1].shape # DEBUGGING\n",
    "input_train.shape, output_train.shape # DEBUGGING"
   ]
  },
  {
   "cell_type": "code",
   "execution_count": 25,
   "metadata": {},
   "outputs": [],
   "source": [
    "from convlstm import *\n",
    "\n",
    "class PCB_ConvLSTM(nn.Module):\n",
    "    def __init__(self, input_channels=3, hidden_dim=32, kernel_size=(3, 3), height=13, width=13):\n",
    "        super().__init__()\n",
    "        self.convlstm = ConvLSTM(input_dim=input_channels,\n",
    "                                 hidden_dim=[hidden_dim],\n",
    "                                 kernel_size=kernel_size,\n",
    "                                 num_layers=1,\n",
    "                                 batch_first=True,\n",
    "                                 bias=True,\n",
    "                                 return_all_layers=False)\n",
    "        \n",
    "        self.decoder = nn.Conv2d(hidden_dim, 1, kernel_size=1)\n",
    "\n",
    "    def forward(self, x):\n",
    "        # x: (B, T, C, H, W)\n",
    "        lstm_out, _ = self.convlstm(x)  # lstm_out[0]: (B, T, hidden_dim, H, W)\n",
    "\n",
    "        # Apply decoder to each time step\n",
    "        decoded = [self.decoder(lstm_out[0][:, t]) for t in range(x.size(1))]\n",
    "        output = torch.stack(decoded, dim=1)  # (B, T, 1, H, W)\n",
    "        return output"
   ]
  },
  {
   "cell_type": "markdown",
   "metadata": {},
   "source": [
    "Definición del modelo"
   ]
  },
  {
   "cell_type": "code",
   "execution_count": 26,
   "metadata": {},
   "outputs": [],
   "source": [
    "train_ds = TensorDataset(input_train, output_train)\n",
    "train_dl = DataLoader(train_ds, batch_size=1, shuffle=True)\n",
    "\n",
    "model = PCB_ConvLSTM(input_channels=3, hidden_dim=32, kernel_size=(3, 3), height=13, width=13).to(device)\n",
    "\n",
    "criterion = nn.MSELoss()\n",
    "optimizer = torch.optim.Adam(model.parameters(), lr=1e-3)\n",
    "\n",
    "# # DEBUGGING\n",
    "# batch = next(iter(train_dl))\n",
    "# x, y = batch\n",
    "\n",
    "# print(f\"x está en: {x.device}\")\n",
    "# print(f\"y está en: {y.device}\")"
   ]
  },
  {
   "cell_type": "markdown",
   "metadata": {},
   "source": [
    "Training"
   ]
  },
  {
   "cell_type": "code",
   "execution_count": 27,
   "metadata": {},
   "outputs": [
    {
     "name": "stdout",
     "output_type": "stream",
     "text": [
      "Predicción: torch.Size([1, 1001, 1, 13, 13]), Real: torch.Size([1, 1001, 1, 13, 13])\n",
      "Predicción: torch.Size([1, 1001, 1, 13, 13]), Real: torch.Size([1, 1001, 1, 13, 13])\n",
      "Predicción: torch.Size([1, 1001, 1, 13, 13]), Real: torch.Size([1, 1001, 1, 13, 13])\n",
      "Predicción: torch.Size([1, 1001, 1, 13, 13]), Real: torch.Size([1, 1001, 1, 13, 13])\n",
      "Predicción: torch.Size([1, 1001, 1, 13, 13]), Real: torch.Size([1, 1001, 1, 13, 13])\n",
      "Epoch 1, Loss: 0.993707\n",
      "Predicción: torch.Size([1, 1001, 1, 13, 13]), Real: torch.Size([1, 1001, 1, 13, 13])\n",
      "Predicción: torch.Size([1, 1001, 1, 13, 13]), Real: torch.Size([1, 1001, 1, 13, 13])\n",
      "Predicción: torch.Size([1, 1001, 1, 13, 13]), Real: torch.Size([1, 1001, 1, 13, 13])\n",
      "Predicción: torch.Size([1, 1001, 1, 13, 13]), Real: torch.Size([1, 1001, 1, 13, 13])\n",
      "Predicción: torch.Size([1, 1001, 1, 13, 13]), Real: torch.Size([1, 1001, 1, 13, 13])\n",
      "Epoch 2, Loss: 0.840567\n"
     ]
    }
   ],
   "source": [
    "epochs = 2\n",
    "\n",
    "for epoch in range(epochs):\n",
    "    model.train()\n",
    "    total_loss = 0.0\n",
    "    \n",
    "    for x, y in train_dl:\n",
    "        \n",
    "        optimizer.zero_grad()\n",
    "        y_hat = model(x)\n",
    "        # print(f\"Predicción: {y_hat.shape}, Real: {y.shape}\")\n",
    "\n",
    "        loss = criterion(y_hat, y)\n",
    "        loss.backward()\n",
    "        optimizer.step()\n",
    "        \n",
    "        total_loss += loss.item()\n",
    "        \n",
    "    # model.eval()\n",
    "    # with torch.no_grad():\n",
    "    #     y_pred = model(input_test)\n",
    "    #     val_loss = criterion(y_pred, output_test)\n",
    "    #     print(f\"Epoch {epoch+1}, Train Loss: {train_loss:.6f}, Val Loss: {val_loss:.6f}\")\n",
    "    \n",
    "    print(f\"Epoch {epoch+1}, Loss: {total_loss/len(train_dl):.6f}\")"
   ]
  }
 ],
 "metadata": {
  "kernelspec": {
   "display_name": "ismael_minimal",
   "language": "python",
   "name": "python3"
  },
  "language_info": {
   "codemirror_mode": {
    "name": "ipython",
    "version": 3
   },
   "file_extension": ".py",
   "mimetype": "text/x-python",
   "name": "python",
   "nbconvert_exporter": "python",
   "pygments_lexer": "ipython3",
   "version": "3.9.21"
  }
 },
 "nbformat": 4,
 "nbformat_minor": 2
}
