{
  "cells": [
    {
      "cell_type": "markdown",
      "metadata": {
        "id": "phV4LvGoyQP7"
      },
      "source": [
        "# PINN RNN POD reduction"
      ]
    },
    {
      "cell_type": "markdown",
      "metadata": {
        "id": "pXmvXNYXyQP-"
      },
      "source": [
        "Celda para que funcione en Colab"
      ]
    },
    {
      "cell_type": "code",
      "execution_count": 1,
      "metadata": {
        "colab": {
          "base_uri": "https://localhost:8080/"
        },
        "id": "3SyPL8tRyQP_",
        "outputId": "76e48e76-1440-446a-cdbe-3d5c5b8ad060"
      },
      "outputs": [
        {
          "name": "stdout",
          "output_type": "stream",
          "text": [
            "Modo: Local\n",
            "Ruta datasets: C:\\Users\\ismael.gallo/ia_thermal_colab\\datasets\n",
            "Ruta modelos: C:\\Users\\ismael.gallo/ia_thermal_colab\\models\n"
          ]
        }
      ],
      "source": [
        "import os\n",
        "import sys\n",
        "import IPython\n",
        "\n",
        "# Detectar si estamos en Colab\n",
        "try:\n",
        "    import google.colab\n",
        "    IN_COLAB = True\n",
        "except ImportError:\n",
        "    IN_COLAB = False\n",
        "\n",
        "# Ruta base\n",
        "if IN_COLAB:\n",
        "    from google.colab import drive\n",
        "    drive.mount('/content/drive')\n",
        "    BASE_PATH = \"/content/drive/MyDrive/ia_thermal_colab\"\n",
        "else:\n",
        "    BASE_PATH = os.path.expanduser(\"~/ia_thermal_colab\")\n",
        "\n",
        "DATASETS_PATH = os.path.join(BASE_PATH, \"datasets\")\n",
        "MODELS_PATH = os.path.join(BASE_PATH, \"models\")\n",
        "\n",
        "os.makedirs(DATASETS_PATH, exist_ok=True)\n",
        "os.makedirs(MODELS_PATH, exist_ok=True)\n",
        "\n",
        "print(\"Modo:\", \"Colab\" if IN_COLAB else \"Local\")\n",
        "print(\"Ruta datasets:\", DATASETS_PATH)\n",
        "print(\"Ruta modelos:\", MODELS_PATH)\n"
      ]
    },
    {
      "cell_type": "code",
      "execution_count": 2,
      "metadata": {
        "colab": {
          "base_uri": "https://localhost:8080/",
          "height": 1000
        },
        "id": "Oy7TgJKN0afm",
        "outputId": "9f004a1f-41d8-420f-d948-dab3cc4b2b21"
      },
      "outputs": [],
      "source": [
        "# 🔄 Parámetros del repo\n",
        "GIT_REPO_URL = \"https://github.com/ismaelgallolopez/ia_thermal.git\"  # 👈 Cambia esto\n",
        "REPO_NAME = GIT_REPO_URL.split(\"/\")[-1].replace(\".git\", \"\")\n",
        "CLONE_PATH = os.path.join(BASE_PATH, REPO_NAME)\n",
        "\n",
        "if IN_COLAB:\n",
        "    # 🧬 Clonar el repositorio si no existe ya\n",
        "    if not os.path.exists(CLONE_PATH):\n",
        "        !git clone {GIT_REPO_URL} {CLONE_PATH}\n",
        "    else:\n",
        "        print(f\"Repositorio ya clonado en: {CLONE_PATH}\")\n",
        "\n",
        "    # 📦 Instalar requirements.txt\n",
        "    req_path = os.path.join(CLONE_PATH, \"requirements.txt\")\n",
        "    if os.path.exists(req_path):\n",
        "        !pip install -r {req_path}\n",
        "    else:\n",
        "        print(\"No se encontró requirements.txt en el repositorio.\")\n",
        "\n",
        "    print(\"🔄 Reinicia el entorno para aplicar los cambios...\")\n",
        "    IPython.display.display(IPython.display.Javascript('''google.colab.restartRuntime()'''))"
      ]
    },
    {
      "cell_type": "code",
      "execution_count": 3,
      "metadata": {
        "id": "-tBD9O_0yQQB"
      },
      "outputs": [],
      "source": [
        "import numpy as np\n",
        "import time\n",
        "import datetime\n",
        "from IPython.display import display, Markdown\n",
        "import platform\n",
        "from tqdm import tqdm\n",
        "import matplotlib.pyplot as plt\n",
        "import json\n",
        "import seaborn as sns\n",
        "\n",
        "# import sklearn\n",
        "# from sklearn.preprocessing import StandardScaler\n",
        "\n",
        "import torch\n",
        "# from torch import nn\n",
        "from torch.optim.lr_scheduler import ReduceLROnPlateau\n",
        "from torch.utils.data import Dataset, DataLoader, TensorDataset\n",
        "\n",
        "np.set_printoptions(threshold=sys.maxsize)\n",
        "torch.set_default_dtype(torch.float32)\n",
        "\n",
        "# get the directory path of the file\n",
        "dir_path = os.getcwd()\n",
        "\n",
        "sys.path.append(os.path.abspath(os.path.join(os.getcwd(), '..')))\n",
        "\n",
        "if IN_COLAB:\n",
        "  sys.path.append(\"/content/drive/MyDrive/ia_thermal_colab/ia_thermal\")\n",
        "\n",
        "from plot_functions import *\n",
        "from Physics_Loss import *\n",
        "\n",
        "if IN_COLAB:\n",
        "  sys.path.append(\"/content/drive/MyDrive/ia_thermal_colab/ia_thermal/ismaelgallo\")\n",
        "\n",
        "from convlstm import *\n",
        "\n",
        "sys.path.append('../Convolutional_NN')\n",
        "\n",
        "if IN_COLAB:\n",
        "  sys.path.append(\"/content/drive/MyDrive/ia_thermal_colab/ia_thermal/Convolutional_NN\")\n",
        "\n",
        "from Dataset_Class import *\n",
        "\n",
        "# torch.cuda.empty_cache()\n",
        "# torch.cuda.ipc_collect()"
      ]
    },
    {
      "cell_type": "markdown",
      "metadata": {
        "id": "r5zrx7mpyQQB"
      },
      "source": [
        "Configuración global de Matplotlib"
      ]
    },
    {
      "cell_type": "code",
      "execution_count": 4,
      "metadata": {
        "id": "jFYTB9YayQQC"
      },
      "outputs": [],
      "source": [
        "plt.rcParams.update({\n",
        "    # 'text.usetex': True,  # Usar LaTeX para el texto (Local)\n",
        "    'text.usetex': False,  # NO Usar LaTeX para el texto (Colab)\n",
        "    'font.family': 'serif',  # Fuente serif\n",
        "    # 'figure.figsize': (10, 6),  # Tamaño de la figura\n",
        "    'axes.labelsize': 12,  # Tamaño de las etiquetas de los ejes\n",
        "    'axes.titlesize': 14,  # Tamaño del título\n",
        "    'legend.fontsize': 12,  # Tamaño de la leyenda\n",
        "    'xtick.labelsize': 10,  # Tamaño de las etiquetas del eje x\n",
        "    'ytick.labelsize': 10,  # Tamaño de las etiquetas del eje y\n",
        "    'axes.grid': True,  # Habilitar la cuadrícula\n",
        "    'grid.alpha': 0.75,  # Transparencia de la cuadrícula\n",
        "    'grid.linestyle': '--'  # Estilo de la línea de la cuadrícula\n",
        "})\n",
        "\n",
        "# Configuración de Seaborn\n",
        "sns.set_context('paper')\n",
        "sns.set_style('whitegrid')"
      ]
    },
    {
      "cell_type": "code",
      "execution_count": 5,
      "metadata": {
        "colab": {
          "base_uri": "https://localhost:8080/"
        },
        "id": "UYPDpkHpyQQC",
        "outputId": "24b50511-0dda-4a60-ebf4-fb2f857d0a2e"
      },
      "outputs": [
        {
          "name": "stdout",
          "output_type": "stream",
          "text": [
            "Using device: cuda\n"
          ]
        }
      ],
      "source": [
        "device = torch.device('cuda' if torch.cuda.is_available() else 'cpu')\n",
        "# device = 'cpu'\n",
        "print('Using device:', device)"
      ]
    },
    {
      "cell_type": "code",
      "execution_count": 6,
      "metadata": {
        "id": "G70jUJ0oyQQD"
      },
      "outputs": [],
      "source": [
        "system_specs = {\n",
        "    \"os\": platform.system(),  # e.g. \"Linux\", \"Windows\", \"Darwin\"\n",
        "    \"os_version\": platform.version(),\n",
        "    \"machine\": platform.machine(),  # e.g. \"x86_64\"\n",
        "    \"processor\": platform.processor(),  # e.g. \"Intel64 Family 6 Model 158\"\n",
        "    \"python_version\": platform.python_version(),\n",
        "    \"device\": str(device)\n",
        "}\n",
        "if torch.cuda.is_available():\n",
        "    system_specs[\"gpu_name\"] = torch.cuda.get_device_name(0)\n",
        "    system_specs[\"gpu_memory_total_GB\"] = round(torch.cuda.get_device_properties(0).total_memory / (1024**3), 2)\n",
        "    system_specs[\"cuda_version\"] = torch.version.cuda"
      ]
    },
    {
      "cell_type": "markdown",
      "metadata": {
        "id": "_1sqDH_7yQQD"
      },
      "source": [
        "<a id='section_1'></a>\n",
        "# PCB solver trasient"
      ]
    },
    {
      "cell_type": "code",
      "execution_count": 7,
      "metadata": {
        "id": "xcquCb43yQQD"
      },
      "outputs": [],
      "source": [
        "sys.path.append('../scripts')\n",
        "\n",
        "if IN_COLAB:\n",
        "  sys.path.append(\"/content/drive/MyDrive/ia_thermal_colab/ia_thermal/scripts\")\n",
        "\n",
        "from PCB_solver_tr import PCB_solver_main, PCB_case_1, PCB_case_2"
      ]
    },
    {
      "cell_type": "markdown",
      "metadata": {
        "id": "wOl_GmFJyQQE"
      },
      "source": [
        "# Dataset import"
      ]
    },
    {
      "cell_type": "markdown",
      "metadata": {
        "id": "NhPbX2IOyQQE"
      },
      "source": [
        "Dataset hyperparameters"
      ]
    },
    {
      "cell_type": "code",
      "execution_count": 8,
      "metadata": {
        "id": "d7BzeJVIyQQE"
      },
      "outputs": [],
      "source": [
        "n_train = 1000\n",
        "n_test = 200\n",
        "n_val = 50\n",
        "time_sim = 100 # seconds\n",
        "\n",
        "batch_size = 30\n",
        "\n",
        "sequence_length = time_sim+1 # seconds\n",
        "dt = 1 # seconds\n",
        "T_init = 298.0 # Kelvin\n",
        "nodes_side = 13 # number of nodes in one side of the PCB"
      ]
    },
    {
      "cell_type": "markdown",
      "metadata": {
        "id": "c4HJovEdyQQE"
      },
      "source": [
        "Dataset extraction"
      ]
    },
    {
      "cell_type": "code",
      "execution_count": 9,
      "metadata": {
        "colab": {
          "base_uri": "https://localhost:8080/"
        },
        "id": "TwSrSBkryQQE",
        "outputId": "0b79f85a-0376-40ba-92a7-e85683742303"
      },
      "outputs": [
        {
          "name": "stdout",
          "output_type": "stream",
          "text": [
            "✅ Cargando dataset base desde: c:\\Users\\ismael.gallo\\Desktop\\ia_thermal\\ismaelgallo\\datasets\\PCB_transient_dataset.pth\n"
          ]
        },
        {
          "name": "stderr",
          "output_type": "stream",
          "text": [
            "c:\\Users\\ismael.gallo\\Desktop\\ia_thermal\\ismaelgallo\\../Convolutional_NN\\Dataset_Class.py:30: FutureWarning: You are using `torch.load` with `weights_only=False` (the current default value), which uses the default pickle module implicitly. It is possible to construct malicious pickle data which will execute arbitrary code during unpickling (See https://github.com/pytorch/pytorch/blob/main/SECURITY.md#untrusted-models for more details). In a future release, the default value for `weights_only` will be flipped to `True`. This limits the functions that could be executed during unpickling. Arbitrary objects will no longer be allowed to be loaded via this mode unless they are explicitly allowlisted by the user via `torch.serialization.add_safe_globals`. We recommend you start setting `weights_only=True` for any use case where you don't have full control of the loaded file. Please open an issue on GitHub for any issues related to this experimental feature.\n",
            "  return torch.load(full_path)\n"
          ]
        },
        {
          "name": "stdout",
          "output_type": "stream",
          "text": [
            "✅ Cargando dataset train desde: c:\\Users\\ismael.gallo\\Desktop\\ia_thermal\\ismaelgallo\\datasets\\PCB_transient_dataset_train.pth\n"
          ]
        },
        {
          "name": "stderr",
          "output_type": "stream",
          "text": [
            "c:\\Users\\ismael.gallo\\Desktop\\ia_thermal\\ismaelgallo\\../Convolutional_NN\\Dataset_Class.py:266: FutureWarning: You are using `torch.load` with `weights_only=False` (the current default value), which uses the default pickle module implicitly. It is possible to construct malicious pickle data which will execute arbitrary code during unpickling (See https://github.com/pytorch/pytorch/blob/main/SECURITY.md#untrusted-models for more details). In a future release, the default value for `weights_only` will be flipped to `True`. This limits the functions that could be executed during unpickling. Arbitrary objects will no longer be allowed to be loaded via this mode unless they are explicitly allowlisted by the user via `torch.serialization.add_safe_globals`. We recommend you start setting `weights_only=True` for any use case where you don't have full control of the loaded file. Please open an issue on GitHub for any issues related to this experimental feature.\n",
            "  base_dataset = torch.load(full_path)\n"
          ]
        },
        {
          "name": "stdout",
          "output_type": "stream",
          "text": [
            "✅ Cargando dataset test desde: c:\\Users\\ismael.gallo\\Desktop\\ia_thermal\\ismaelgallo\\datasets\\PCB_transient_dataset_test.pth\n",
            "✅ Cargando dataset val desde: c:\\Users\\ismael.gallo\\Desktop\\ia_thermal\\ismaelgallo\\datasets\\PCB_transient_dataset_val.pth\n"
          ]
        }
      ],
      "source": [
        "if IN_COLAB:\n",
        "  dir_path = BASE_PATH\n",
        "\n",
        "dataset = load_dataset(base_path=dir_path)  # ← carga el dataset base completo (PCB_transient_dataset.pth)\n",
        "dataset_train = load_trimmed_dataset(base_path=dir_path, dataset_type='train', max_samples=n_train, time_steps_output=sequence_length)\n",
        "dataset_test = load_trimmed_dataset(base_path=dir_path, dataset_type='test', max_samples=n_test, time_steps_output=sequence_length)\n",
        "dataset_val = load_trimmed_dataset(base_path=dir_path, dataset_type='val', max_samples=n_val, time_steps_output=sequence_length)\n",
        "\n",
        "input_train, output_train = prepare_data_for_convlstm(dataset_train, device=device)\n",
        "input_test, output_test = prepare_data_for_convlstm(dataset_test, device=device)\n",
        "input_val, output_val = prepare_data_for_convlstm(dataset_val, device=device)\n",
        "\n",
        "train_loader = DataLoader(TensorDataset(input_train, output_train), batch_size=batch_size, shuffle=True)\n",
        "test_loader = DataLoader(TensorDataset(input_test, output_test), batch_size=batch_size, shuffle=False)\n",
        "val_loader = DataLoader(TensorDataset(input_val, output_val), batch_size=batch_size, shuffle=False)"
      ]
    },
    {
      "cell_type": "markdown",
      "metadata": {
        "id": "x_uUAaVOyQQE"
      },
      "source": [
        "# Convolutional LSTM"
      ]
    },
    {
      "cell_type": "markdown",
      "metadata": {
        "id": "8jC-5B0oyQQF"
      },
      "source": [
        "## Common to all"
      ]
    },
    {
      "cell_type": "markdown",
      "metadata": {
        "id": "5D-PcVmzyQQF"
      },
      "source": [
        "### Hyperparameters of training"
      ]
    },
    {
      "cell_type": "code",
      "execution_count": 19,
      "metadata": {
        "id": "fdqiRli_yQQF"
      },
      "outputs": [],
      "source": [
        "epochs = 500\n",
        "lr = 1e-2\n",
        "lrdecay = 0.1\n",
        "lrdecay_patience = 10\n",
        "early_stop_patience = 50\n",
        "\n",
        "hidden_dims = [32] # [64, 32, 16, 8, 16, 32, 64]\n",
        "num_layers = len(hidden_dims)\n",
        "kernel_size = [(3,3)] * num_layers"
      ]
    },
    {
      "cell_type": "markdown",
      "metadata": {
        "id": "RDn7Tc1LyQQF"
      },
      "source": [
        "## No-physics Convolutional LSTM"
      ]
    },
    {
      "cell_type": "markdown",
      "metadata": {
        "id": "I6gae-iQyQQF"
      },
      "source": [
        "### Model definition"
      ]
    },
    {
      "cell_type": "code",
      "execution_count": 20,
      "metadata": {
        "id": "fTZqbVe7yQQF"
      },
      "outputs": [],
      "source": [
        "# from convlstm import *\n",
        "\n",
        "class PCB_ConvLSTM(nn.Module):\n",
        "    def __init__(self, input_channels=3, hidden_dims=hidden_dims, kernel_size=kernel_size, height=13, width=13):\n",
        "        super().__init__()\n",
        "        self.convlstm = ConvLSTM(input_dim=input_channels,\n",
        "                                 hidden_dim=hidden_dims,\n",
        "                                 kernel_size=kernel_size,\n",
        "                                 num_layers=len(hidden_dims),\n",
        "                                 batch_first=True,\n",
        "                                 bias=True,\n",
        "                                 return_all_layers=False)\n",
        "\n",
        "        self.decoder = nn.Conv2d(hidden_dims[-1], 1, kernel_size=1)\n",
        "\n",
        "    def forward(self, x):\n",
        "        # x: (B, T, C, H, W)\n",
        "        lstm_out, _ = self.convlstm(x)  # lstm_out[0]: (B, T, hidden_dim, H, W)\n",
        "\n",
        "        # Apply decoder to each time step\n",
        "        decoded = [self.decoder(lstm_out[0][:, t]) for t in range(x.size(1))]\n",
        "        output = torch.stack(decoded, dim=1)  # (B, T, 1, H, W)\n",
        "        return output"
      ]
    },
    {
      "cell_type": "markdown",
      "metadata": {
        "id": "cGVYirqQyQQF"
      },
      "source": [
        "Definición del modelo"
      ]
    },
    {
      "cell_type": "code",
      "execution_count": 21,
      "metadata": {
        "colab": {
          "base_uri": "https://localhost:8080/"
        },
        "id": "eja9iPLeyQQF",
        "outputId": "92b1574c-b9b9-4441-f149-166a311f7165"
      },
      "outputs": [
        {
          "name": "stdout",
          "output_type": "stream",
          "text": [
            "x está en: cuda:0\n",
            "y está en: cuda:0\n",
            "model está en: cuda:0\n"
          ]
        }
      ],
      "source": [
        "model = PCB_ConvLSTM(input_channels=3, hidden_dims=hidden_dims, kernel_size=kernel_size, height=13, width=13).to(device)\n",
        "\n",
        "criterion = nn.MSELoss()\n",
        "optimizer = torch.optim.Adam(model.parameters(), lr=lr)\n",
        "scheduler = ReduceLROnPlateau(optimizer, mode='min', factor=lrdecay, patience=lrdecay_patience, verbose=True)\n",
        "\n",
        "# DEBUGGING\n",
        "# Ensure data is moved to the appropriate device\n",
        "batch = next(iter(train_loader))\n",
        "x, y = batch\n",
        "\n",
        "print(f\"x está en: {x.device}\")\n",
        "print(f\"y está en: {y.device}\")\n",
        "print(f\"model está en: {next(model.parameters()).device}\")"
      ]
    },
    {
      "cell_type": "markdown",
      "metadata": {
        "id": "bPkmf7ZbyQQG"
      },
      "source": [
        "### Training"
      ]
    },
    {
      "cell_type": "markdown",
      "metadata": {
        "id": "IVAiXob-yQQG"
      },
      "source": [
        "Training and saving best model with best parameters."
      ]
    },
    {
      "cell_type": "code",
      "execution_count": null,
      "metadata": {
        "colab": {
          "base_uri": "https://localhost:8080/",
          "height": 64
        },
        "id": "Dgbix8pwyQQG",
        "outputId": "47289b82-bd06-4cf6-d161-e46d46d7ff38"
      },
      "outputs": [
        {
          "data": {
            "text/markdown": [
              "**❌ El modelo `PCB_ConvLSTM_nt1000_100s_lr0.01_bs30_h1_k3x3.pth` ya existe. Se omite esta celda para evitar sobreescritura.**"
            ],
            "text/plain": [
              "<IPython.core.display.Markdown object>"
            ]
          },
          "metadata": {},
          "output_type": "display_data"
        },
        {
          "name": "stderr",
          "output_type": "stream",
          "text": [
            "Epoch 3/500 - Training:  26%|██▋       | 9/34 [00:06<00:17,  1.44it/s] "
          ]
        }
      ],
      "source": [
        "train_loss = []\n",
        "test_loss = []\n",
        "best_test_loss = np.inf\n",
        "epochs_without_improvement = 0\n",
        "\n",
        "kernel_string = f\"{kernel_size[0][0]}x{kernel_size[0][1]}\"\n",
        "model_dir = os.path.join(dir_path, 'models', 'ConvLSTM')\n",
        "\n",
        "if IN_COLAB:\n",
        "  model_dir = os.path.join(MODELS_PATH, 'ConvLSTM')\n",
        "\n",
        "os.makedirs(model_dir, exist_ok=True)\n",
        "\n",
        "# Nombre del archivo con hiperparámetros\n",
        "filename = f\"PCB_ConvLSTM_nt{n_train}_{time_sim}s_lr{lr}_bs{batch_size}_h{num_layers}_k{kernel_string}.pth\"\n",
        "\n",
        "# Ruta completa del modelo\n",
        "model_path = os.path.join(model_dir, filename)\n",
        "\n",
        "# Comprobar si el modelo ya existe\n",
        "\n",
        "if os.path.exists(model_path):\n",
        "    display(Markdown(f\"**❌ El modelo `{filename}` ya existe. Se omite esta celda para evitar sobreescritura.**\"))\n",
        "    # Detiene la ejecución de esta celda sin interrumpir el notebook\n",
        "    # raise SystemExit\n",
        "\n",
        "# ruta para el JSON\n",
        "json_path = model_path.replace('.pth', '.json')\n",
        "\n",
        "start_time_training = time.time()\n",
        "start_datetime = datetime.datetime.now().strftime(\"%Y-%m-%d %H:%M:%S\")\n",
        "\n",
        "for epoch in range(epochs):\n",
        "    model.train()\n",
        "    total_loss = 0.0\n",
        "    start_time_epoch = time.time()\n",
        "\n",
        "    # Entrenamiento\n",
        "    for x, y in tqdm(train_loader, desc=f\"Epoch {epoch+1}/{epochs} - Training\", leave=False):\n",
        "\n",
        "        optimizer.zero_grad()\n",
        "        y_hat = model(x)\n",
        "\n",
        "        loss = criterion(y_hat, y)\n",
        "        loss.backward()\n",
        "        optimizer.step()\n",
        "        total_loss += loss.detach().item()\n",
        "\n",
        "    epoch_train_loss = total_loss / len(train_loader)\n",
        "\n",
        "    # Validación\n",
        "    model.eval()\n",
        "    total_test_loss = 0.0\n",
        "    with torch.no_grad():\n",
        "        for x_test, y_test in test_loader:\n",
        "            y_pred = model(x_test)\n",
        "            test = criterion(y_pred, y_test)\n",
        "            total_test_loss += test.item()\n",
        "\n",
        "    epoch_test_loss = total_test_loss / len(test_loader)\n",
        "    test_loss.append(epoch_test_loss)\n",
        "\n",
        "    # Scheduler update\n",
        "    scheduler.step(epoch_test_loss)\n",
        "\n",
        "    # Early stopping check\n",
        "    if epoch_test_loss < best_test_loss:\n",
        "        best_test_loss = epoch_test_loss\n",
        "\n",
        "        # Guardar el modelo\n",
        "        torch.save(model.state_dict(), model_path)\n",
        "\n",
        "        elapsed_training = time.time() - start_time_training\n",
        "        elapsed_minutes = elapsed_training / 60\n",
        "        current_lr = optimizer.param_groups[0]['lr']\n",
        "\n",
        "\n",
        "        # Guardar hiperparámetros en JSON\n",
        "        params = {\n",
        "            'start_datetime': start_datetime,\n",
        "            'training_duration_minutes': elapsed_minutes,\n",
        "            \"system_specs\": system_specs,\n",
        "            'hidden_dims': hidden_dims,\n",
        "            'kernel_size': kernel_string,\n",
        "            'batch_size': batch_size,\n",
        "            'lr': lr,\n",
        "            \"scheduler\":{\n",
        "                \"type\": \"ReduceLROnPlateau\",\n",
        "                \"factor\": lrdecay,\n",
        "                \"patience\": lrdecay_patience,\n",
        "                \"final_lr\": current_lr\n",
        "            },\n",
        "            'early_stop_patience': early_stop_patience,\n",
        "            'epochs_trained': epoch + 1,\n",
        "            'best_test_loss': best_test_loss,\n",
        "            \"train_loss\": list(map(float, train_loss)),\n",
        "            \"test_loss\": list(map(float, test_loss)),\n",
        "        }\n",
        "\n",
        "        with open(json_path, 'w') as f:\n",
        "            json.dump(params, f, indent=4)\n",
        "\n",
        "        # print(f\"✓ Saving model (epoch {epoch+1}) | test_loss improved to {best_test_loss:.6f}\")\n",
        "        epochs_without_improvement = 0\n",
        "    else:\n",
        "        epochs_without_improvement += 1\n",
        "        # print(f\"No improvement for {epochs_without_improvement} epoch(s)\")\n",
        "\n",
        "    if epochs_without_improvement >= early_stop_patience:\n",
        "        print(f\"⚠️ Early stopping at epoch {epoch+1} — no improvement for {early_stop_patience} epochs.\")\n",
        "        break\n",
        "\n",
        "    # Estadísticas finales de la época\n",
        "    elapsed_epoch = time.time() - start_time_epoch\n",
        "    # print(f\"Epoch {epoch+1:3d} | Train Loss: {epoch_train_loss:.6f} | Test Loss: {epoch_test_loss:.6f} | Time: {elapsed_epoch:.2f}s\")\n",
        "\n",
        "print(f\"Entrenamiento finalizado en {elapsed_minutes:.2f} minutos.\")"
      ]
    },
    {
      "cell_type": "code",
      "execution_count": null,
      "metadata": {
        "id": "U-UCxIIl9jxa"
      },
      "outputs": [
        {
          "name": "stdout",
          "output_type": "stream",
          "text": [
            "📁 El modelo se está guardando en: c:\\Users\\ismael.gallo\\Desktop\\ia_thermal\\ismaelgallo\\models\\ConvLSTM\\PCB_ConvLSTM_nt1000_100s_lr0.01_bs30_h1_k3x3.pth\n"
          ]
        }
      ],
      "source": [
        "print(\"📁 El modelo se está guardando en:\", model_path)"
      ]
    },
    {
      "cell_type": "markdown",
      "metadata": {
        "id": "QMAi2gEhyQQG"
      },
      "source": [
        "Plotting validation loss and train loss"
      ]
    },
    {
      "cell_type": "code",
      "execution_count": null,
      "metadata": {
        "id": "ATV1kOdQyQQG"
      },
      "outputs": [
        {
          "name": "stdout",
          "output_type": "stream",
          "text": [
            "Unexpected exception formatting exception. Falling back to standard exception\n"
          ]
        },
        {
          "name": "stderr",
          "output_type": "stream",
          "text": [
            "Traceback (most recent call last):\n",
            "  File \"c:\\Users\\ismael.gallo\\anaconda3\\envs\\ismael_minimal\\lib\\site-packages\\IPython\\core\\interactiveshell.py\", line 3526, in run_code\n",
            "    exec(code_obj, self.user_global_ns, self.user_ns)\n",
            "  File \"C:\\Users\\ismael.gallo\\AppData\\Local\\Temp\\ipykernel_20240\\4017293790.py\", line 1, in <module>\n",
            "    plot_loss_evolution(train_loss, test_loss)\n",
            "  File \"c:\\Users\\ismael.gallo\\Desktop\\ia_thermal\\plot_functions.py\", line 137, in plot_loss_evolution\n",
            "  File \"c:\\Users\\ismael.gallo\\anaconda3\\envs\\ismael_minimal\\lib\\site-packages\\matplotlib\\pyplot.py\", line 3794, in plot\n",
            "    return gca().plot(\n",
            "  File \"c:\\Users\\ismael.gallo\\anaconda3\\envs\\ismael_minimal\\lib\\site-packages\\matplotlib\\axes\\_axes.py\", line 1779, in plot\n",
            "    lines = [*self._get_lines(self, *args, data=data, **kwargs)]\n",
            "  File \"c:\\Users\\ismael.gallo\\anaconda3\\envs\\ismael_minimal\\lib\\site-packages\\matplotlib\\axes\\_base.py\", line 296, in __call__\n",
            "    yield from self._plot_args(\n",
            "  File \"c:\\Users\\ismael.gallo\\anaconda3\\envs\\ismael_minimal\\lib\\site-packages\\matplotlib\\axes\\_base.py\", line 486, in _plot_args\n",
            "    raise ValueError(f\"x and y must have same first dimension, but \"\n",
            "ValueError: x and y must have same first dimension, but have shapes (0,) and (500,)\n",
            "\n",
            "During handling of the above exception, another exception occurred:\n",
            "\n",
            "Traceback (most recent call last):\n",
            "  File \"c:\\Users\\ismael.gallo\\anaconda3\\envs\\ismael_minimal\\lib\\site-packages\\IPython\\core\\interactiveshell.py\", line 2120, in showtraceback\n",
            "    stb = self.InteractiveTB.structured_traceback(\n",
            "  File \"c:\\Users\\ismael.gallo\\anaconda3\\envs\\ismael_minimal\\lib\\site-packages\\IPython\\core\\ultratb.py\", line 1435, in structured_traceback\n",
            "    return FormattedTB.structured_traceback(\n",
            "  File \"c:\\Users\\ismael.gallo\\anaconda3\\envs\\ismael_minimal\\lib\\site-packages\\IPython\\core\\ultratb.py\", line 1326, in structured_traceback\n",
            "    return VerboseTB.structured_traceback(\n",
            "  File \"c:\\Users\\ismael.gallo\\anaconda3\\envs\\ismael_minimal\\lib\\site-packages\\IPython\\core\\ultratb.py\", line 1173, in structured_traceback\n",
            "    formatted_exception = self.format_exception_as_a_whole(etype, evalue, etb, number_of_lines_of_context,\n",
            "  File \"c:\\Users\\ismael.gallo\\anaconda3\\envs\\ismael_minimal\\lib\\site-packages\\IPython\\core\\ultratb.py\", line 1088, in format_exception_as_a_whole\n",
            "    frames.append(self.format_record(record))\n",
            "  File \"c:\\Users\\ismael.gallo\\anaconda3\\envs\\ismael_minimal\\lib\\site-packages\\IPython\\core\\ultratb.py\", line 970, in format_record\n",
            "    frame_info.lines, Colors, self.has_colors, lvals\n",
            "  File \"c:\\Users\\ismael.gallo\\anaconda3\\envs\\ismael_minimal\\lib\\site-packages\\IPython\\core\\ultratb.py\", line 792, in lines\n",
            "    return self._sd.lines\n",
            "  File \"c:\\Users\\ismael.gallo\\anaconda3\\envs\\ismael_minimal\\lib\\site-packages\\stack_data\\utils.py\", line 145, in cached_property_wrapper\n",
            "    value = obj.__dict__[self.func.__name__] = self.func(obj)\n",
            "  File \"c:\\Users\\ismael.gallo\\anaconda3\\envs\\ismael_minimal\\lib\\site-packages\\stack_data\\core.py\", line 698, in lines\n",
            "    pieces = self.included_pieces\n",
            "  File \"c:\\Users\\ismael.gallo\\anaconda3\\envs\\ismael_minimal\\lib\\site-packages\\stack_data\\utils.py\", line 145, in cached_property_wrapper\n",
            "    value = obj.__dict__[self.func.__name__] = self.func(obj)\n",
            "  File \"c:\\Users\\ismael.gallo\\anaconda3\\envs\\ismael_minimal\\lib\\site-packages\\stack_data\\core.py\", line 649, in included_pieces\n",
            "    pos = scope_pieces.index(self.executing_piece)\n",
            "  File \"c:\\Users\\ismael.gallo\\anaconda3\\envs\\ismael_minimal\\lib\\site-packages\\stack_data\\utils.py\", line 145, in cached_property_wrapper\n",
            "    value = obj.__dict__[self.func.__name__] = self.func(obj)\n",
            "  File \"c:\\Users\\ismael.gallo\\anaconda3\\envs\\ismael_minimal\\lib\\site-packages\\stack_data\\core.py\", line 628, in executing_piece\n",
            "    return only(\n",
            "  File \"c:\\Users\\ismael.gallo\\anaconda3\\envs\\ismael_minimal\\lib\\site-packages\\executing\\executing.py\", line 164, in only\n",
            "    raise NotOneValueFound('Expected one value, found 0')\n",
            "executing.executing.NotOneValueFound: Expected one value, found 0\n"
          ]
        },
        {
          "data": {
            "image/png": "[encoded data removed]",
            "text/plain": [
              "<Figure size 640x480 with 1 Axes>"
            ]
          },
          "metadata": {},
          "output_type": "display_data"
        }
      ],
      "source": [
        "plot_loss_evolution(train_loss, test_loss)"
      ]
    },
    {
      "cell_type": "markdown",
      "metadata": {
        "id": "9VOTdM70yQQG"
      },
      "source": [
        "### Evaluation"
      ]
    },
    {
      "cell_type": "code",
      "execution_count": null,
      "metadata": {
        "id": "lU_dLGBeyQQG"
      },
      "outputs": [
        {
          "name": "stderr",
          "output_type": "stream",
          "text": [
            "C:\\Users\\ismael.gallo\\AppData\\Local\\Temp\\ipykernel_20240\\703209444.py:3: FutureWarning: You are using `torch.load` with `weights_only=False` (the current default value), which uses the default pickle module implicitly. It is possible to construct malicious pickle data which will execute arbitrary code during unpickling (See https://github.com/pytorch/pytorch/blob/main/SECURITY.md#untrusted-models for more details). In a future release, the default value for `weights_only` will be flipped to `True`. This limits the functions that could be executed during unpickling. Arbitrary objects will no longer be allowed to be loaded via this mode unless they are explicitly allowlisted by the user via `torch.serialization.add_safe_globals`. We recommend you start setting `weights_only=True` for any use case where you don't have full control of the loaded file. Please open an issue on GitHub for any issues related to this experimental feature.\n",
            "  model.load_state_dict(torch.load(model_path))\n"
          ]
        },
        {
          "name": "stdout",
          "output_type": "stream",
          "text": [
            "Test Loss: 0.000256\n"
          ]
        }
      ],
      "source": [
        "# load the best model\n",
        "model = PCB_ConvLSTM(input_channels=3, hidden_dims=hidden_dims, kernel_size=kernel_size, height=13, width=13).to(device)\n",
        "model.load_state_dict(torch.load(model_path))\n",
        "model.eval()\n",
        "\n",
        "with torch.no_grad():\n",
        "    y_pred = model(input_val)  # (B, T, 1, H, W)\n",
        "    val_loss = criterion(y_pred, output_val)\n",
        "    print(f\"Test Loss: {val_loss.item():.6f}\")"
      ]
    },
    {
      "cell_type": "markdown",
      "metadata": {
        "id": "uzhssyS3yQQH"
      },
      "source": [
        "### Plotting results"
      ]
    },
    {
      "cell_type": "markdown",
      "metadata": {
        "id": "IYatBJLqyQQH"
      },
      "source": [
        "We are going to plot the temperature evolution in the four nodes corresponding with the heaters"
      ]
    },
    {
      "cell_type": "code",
      "execution_count": null,
      "metadata": {
        "id": "SpXz9WrByQQH"
      },
      "outputs": [],
      "source": [
        "id_heaters = [(6,3), (3,6), (9,3), (9,9)]"
      ]
    },
    {
      "cell_type": "markdown",
      "metadata": {
        "id": "c25-r2gGyQQH"
      },
      "source": [
        "Boundary conditions"
      ]
    },
    {
      "cell_type": "code",
      "execution_count": null,
      "metadata": {
        "id": "l6IyIWymyQQH"
      },
      "outputs": [],
      "source": [
        "Q_heaters = np.array([1.0, 1.0, 1.0, 1.0])\n",
        "T_interfaces = np.array([250, 250, 250, 250])\n",
        "T_env = 250"
      ]
    },
    {
      "cell_type": "markdown",
      "metadata": {
        "id": "MFBbajaGyQQH"
      },
      "source": [
        "Actual values"
      ]
    },
    {
      "cell_type": "code",
      "execution_count": null,
      "metadata": {
        "id": "kNuPsS5CyQQH"
      },
      "outputs": [],
      "source": [
        "T, _, _, _ = PCB_case_2(solver = 'transient', display=False, time = time_sim, dt = dt, T_init = T_init, Q_heaters = Q_heaters, T_interfaces = T_interfaces, Tenv = T_env) # heaters in default position\n",
        "T = T.reshape(T.shape[0], nodes_side, nodes_side) # reshaping the data grid-shape"
      ]
    },
    {
      "cell_type": "markdown",
      "metadata": {
        "id": "4f4D7SIpyQQL"
      },
      "source": [
        "Predicted values"
      ]
    },
    {
      "cell_type": "code",
      "execution_count": null,
      "metadata": {
        "id": "jmd1fwE6yQQL"
      },
      "outputs": [],
      "source": [
        "input_tensor = dataset.create_input_from_values(Q_heaters, T_interfaces, T_env, sequence_length=101)\n",
        "\n",
        "output = model(input_tensor)\n",
        "output_denorm = dataset.denormalize_output(output)\n",
        "T_pred = output_denorm[0,:,0,:,:].cpu().detach().numpy()"
      ]
    },
    {
      "cell_type": "code",
      "execution_count": null,
      "metadata": {
        "id": "5lM62xcmyQQL"
      },
      "outputs": [
        {
          "data": {
            "image/png": "[encoded data removed]",
            "text/plain": [
              "<Figure size 1200x600 with 1 Axes>"
            ]
          },
          "metadata": {},
          "output_type": "display_data"
        }
      ],
      "source": [
        "plot_nodes_evolution(T_pred, T, id_heaters, together=True)"
      ]
    },
    {
      "cell_type": "markdown",
      "metadata": {
        "id": "NK2MYrOWyQQM"
      },
      "source": [
        "## Physics informed Convolutional LSTM"
      ]
    },
    {
      "cell_type": "code",
      "execution_count": null,
      "metadata": {
        "id": "TnfGBcmPyQQM"
      },
      "outputs": [],
      "source": [
        "# from Physics_Loss import *"
      ]
    },
    {
      "cell_type": "markdown",
      "metadata": {
        "id": "PdmId4gCyQQM",
        "tags": [
          "parameters"
        ]
      },
      "source": [
        "### New loss function validation"
      ]
    },
    {
      "cell_type": "markdown",
      "metadata": {
        "id": "y0WDNmjsyQQM"
      },
      "source": [
        "Validation of the Physics loss function"
      ]
    },
    {
      "cell_type": "code",
      "execution_count": null,
      "metadata": {
        "id": "SV2klzyIyQQM"
      },
      "outputs": [
        {
          "name": "stdout",
          "output_type": "stream",
          "text": [
            "Physics loss (esperada ≈ 0): 2.517081e-12\n"
          ]
        }
      ],
      "source": [
        "# Crear instancia de la clase de pérdida\n",
        "physics_loss = PhysicsLossTransient().to(device)\n",
        "\n",
        "# Parámetros\n",
        "B = 1        # batch size\n",
        "H = W = 13    # dimensiones espaciales\n",
        "\n",
        "# Obtener datos reales del solver\n",
        "T2, _, interfaces2, heaters2 = PCB_case_2(solver='transient', display=False, time=100, dt=1, T_init=298.0)\n",
        "T = T2.shape[0]      # número de pasos temporales\n",
        "\n",
        "# Temperatura: [B, T, 1, 13, 13]\n",
        "T_tensor = torch.tensor(T2, dtype=torch.float32).view(T, 1, H, W).unsqueeze(0).repeat(B, 1, 1, 1, 1).to(device)\n",
        "\n",
        "interfaces_input = torch.tensor([list(interfaces2.values())], dtype=torch.float32).repeat(B, 1).to(device) # [B, 4]\n",
        "heaters_input = torch.tensor([list(heaters2.values())], dtype=torch.float32).repeat(B, 1).to(device) # [B, 4]\n",
        "Tenv = torch.full((B, 1), 250.0).to(device) # [B, 1]\n",
        "\n",
        "# Calcular la pérdida\n",
        "loss = physics_loss(\n",
        "    T_pred=T_tensor,\n",
        "    T_true=T_tensor,\n",
        "    heaters_input=heaters_input,\n",
        "    interfaces_input=interfaces_input,\n",
        "    Tenv=Tenv\n",
        ")\n",
        "\n",
        "# # Mostrar resultado\n",
        "print(f\"Physics loss (esperada ≈ 0): {loss.item():.6e}\")"
      ]
    },
    {
      "cell_type": "markdown",
      "metadata": {
        "id": "degRji3syQQM"
      },
      "source": [
        "Validation of the boundary loss function"
      ]
    },
    {
      "cell_type": "code",
      "execution_count": null,
      "metadata": {
        "id": "KCYgsLlayQQM"
      },
      "outputs": [
        {
          "name": "stdout",
          "output_type": "stream",
          "text": [
            "Pérdida en las interfaces: 0.0\n"
          ]
        }
      ],
      "source": [
        "# Crear una instancia de BoundaryLoss con valores predeterminados\n",
        "boundary_loss = BoundaryLoss()\n",
        "\n",
        "# Ejemplo de tensores\n",
        "interfaces_example = torch.tensor(list(interfaces2.values()), dtype=torch.float32).unsqueeze(0)\n",
        "T2_reshaped = torch.tensor(T2).view(1, 101, 1, 13, 13).to(device)  # [B, T, 1, H, W]\n",
        "\n",
        "# Calcular la pérdida\n",
        "loss = boundary_loss(T2_reshaped, interfaces_example)\n",
        "print(\"Pérdida en las interfaces:\", loss.item())"
      ]
    },
    {
      "cell_type": "markdown",
      "metadata": {
        "id": "lEYSB6VhyQQN"
      },
      "source": [
        "Función para extraer las condiciones de contorno de los tensores de los 3 canales"
      ]
    },
    {
      "cell_type": "code",
      "execution_count": null,
      "metadata": {
        "id": "GuGXDosyyQQN"
      },
      "outputs": [],
      "source": [
        "def extract_boundary_conditions_from_dataset(input_tensor, dataset: PCBDataset, nodes_side=13):\n",
        "    \"\"\"\n",
        "    Extrae las condiciones de contorno originales (desnormalizadas) a partir de un input_tensor y el dataset asociado.\n",
        "    input_tensor: tensor de forma [batch, sequence_length, 3, nodes_side, nodes_side]\n",
        "    \"\"\"\n",
        "    input_0 = input_tensor[0, 0]  # [3, 13, 13]\n",
        "\n",
        "    T_interfaces1 = input_0[0]\n",
        "    Q_heaters1 = input_0[1]\n",
        "    T_env1 = input_0[2]\n",
        "\n",
        "    # Extraer los valores originales usando los métodos de desnormalización del dataset\n",
        "    T_interfaces_raw = torch.tensor([\n",
        "        T_interfaces1[0, 0],\n",
        "        T_interfaces1[0, nodes_side - 1],\n",
        "        T_interfaces1[nodes_side - 1, nodes_side - 1],\n",
        "        T_interfaces1[nodes_side - 1, 0]\n",
        "    ], device=input_tensor.device)\n",
        "    T_interfaces_in = dataset.denormalize_T_interfaces(T_interfaces_raw)\n",
        "\n",
        "    Q_heaters_raw = torch.tensor([\n",
        "        Q_heaters1[6, 3],\n",
        "        Q_heaters1[3, 6],\n",
        "        Q_heaters1[9, 3],\n",
        "        Q_heaters1[9, 9]\n",
        "    ], device=input_tensor.device)\n",
        "    Q_heaters_in = dataset.denormalize_Q_heaters(Q_heaters_raw)\n",
        "\n",
        "    T_env_in = dataset.denormalize_T_env(T_env1[0, 0])\n",
        "\n",
        "    return Q_heaters_in, T_interfaces_in, T_env_in\n",
        "\n",
        "\n",
        "def extract_all_boundary_conditions(input_tensor, dataset: PCBDataset, nodes_side=13):\n",
        "    \"\"\"\n",
        "    Extrae las condiciones de contorno desnormalizadas de todos los ejemplos del batch.\n",
        "    Retorna tres listas: Q_heaters_all, T_interfaces_all, T_env_all.\n",
        "    \"\"\"\n",
        "    batch_size = input_tensor.shape[0]\n",
        "    Q_heaters_all = []\n",
        "    T_interfaces_all = []\n",
        "    T_env_all = []\n",
        "\n",
        "    for i in range(batch_size):\n",
        "        q, t_int, t_env = extract_boundary_conditions_from_dataset(input_tensor[i:i+1], dataset, nodes_side)\n",
        "        Q_heaters_all.append(q)\n",
        "        T_interfaces_all.append(t_int)\n",
        "        T_env_all.append(t_env)\n",
        "\n",
        "    Q_heaters_all = torch.stack(Q_heaters_all)       # [batch_size, 4]\n",
        "    T_interfaces_all = torch.stack(T_interfaces_all) # [batch_size, 4]\n",
        "    T_env_all = torch.stack(T_env_all)               # [batch_size]\n",
        "\n",
        "    return Q_heaters_all, T_interfaces_all, T_env_all\n"
      ]
    },
    {
      "cell_type": "markdown",
      "metadata": {
        "id": "lds-HzipyQQN"
      },
      "source": [
        "### Model definition"
      ]
    },
    {
      "cell_type": "markdown",
      "metadata": {
        "id": "d-3S-KhryQQN"
      },
      "source": [
        "Hyperparameters of training"
      ]
    },
    {
      "cell_type": "code",
      "execution_count": null,
      "metadata": {
        "id": "r7ua50RmyQQN"
      },
      "outputs": [],
      "source": [
        "mse_weight = 1.0\n",
        "phy_weight = 0.0000\n",
        "bnd_weight = 0.0000"
      ]
    },
    {
      "cell_type": "code",
      "execution_count": null,
      "metadata": {
        "id": "6QnyMk8qyQQN"
      },
      "outputs": [],
      "source": [
        "# from convlstm import *\n",
        "\n",
        "class PCB_ConvLSTM_physics(nn.Module):\n",
        "    def __init__(self, input_channels=3, hidden_dims=hidden_dims, kernel_size=kernel_size, height=13, width=13):\n",
        "        super().__init__()\n",
        "        self.convlstm = ConvLSTM(input_dim=input_channels,\n",
        "                                 hidden_dim=hidden_dims,\n",
        "                                 kernel_size=kernel_size,\n",
        "                                 num_layers=len(hidden_dims),\n",
        "                                 batch_first=True,\n",
        "                                 bias=True,\n",
        "                                 return_all_layers=False)\n",
        "\n",
        "        self.decoder = nn.Conv2d(hidden_dims[-1], 1, kernel_size=1)\n",
        "\n",
        "    def forward(self, x):\n",
        "        # x: (B, T, C, H, W)\n",
        "        lstm_out, _ = self.convlstm(x)  # lstm_out[0]: (B, T, hidden_dim, H, W)\n",
        "\n",
        "        # Apply decoder to each time step\n",
        "        decoded = [self.decoder(lstm_out[0][:, t]) for t in range(x.size(1))]\n",
        "        output = torch.stack(decoded, dim=1)  # (B, T, 1, H, W)\n",
        "        return output"
      ]
    },
    {
      "cell_type": "markdown",
      "metadata": {
        "id": "zzsWT8hAyQQN"
      },
      "source": [
        "Definición del modelo"
      ]
    },
    {
      "cell_type": "code",
      "execution_count": null,
      "metadata": {
        "id": "pAv25zlxyQQO"
      },
      "outputs": [
        {
          "name": "stderr",
          "output_type": "stream",
          "text": [
            "c:\\Users\\ismael.gallo\\anaconda3\\envs\\ismael_minimal\\lib\\site-packages\\torch\\optim\\lr_scheduler.py:62: UserWarning: The verbose parameter is deprecated. Please use get_last_lr() to access the learning rate.\n",
            "  warnings.warn(\n"
          ]
        }
      ],
      "source": [
        "dataset_train.base_dataset.return_bc = True\n",
        "dataset_test.base_dataset.return_bc = True\n",
        "\n",
        "train_ds = prepare_data_with_bc(dataset_train, device=device)\n",
        "train_loader_phy = DataLoader(train_ds, batch_size=batch_size, shuffle=True)\n",
        "\n",
        "test_ds = prepare_data_with_bc(dataset_test, device=device)\n",
        "test_loader_phy = DataLoader(test_ds, batch_size=batch_size, shuffle=False)\n",
        "\n",
        "model = PCB_ConvLSTM_physics(input_channels=3, hidden_dims=hidden_dims, kernel_size=kernel_size, height=13, width=13).to(device)\n",
        "\n",
        "total_loss_fn = TotalLoss(\n",
        "    mse_weight=mse_weight,\n",
        "    physics_weight=phy_weight,\n",
        "    boundary_weight=bnd_weight,\n",
        "    denormalize_output_fn=dataset.denormalize_output\n",
        ")\n",
        "\n",
        "optimizer = torch.optim.Adam(model.parameters(), lr=lr)\n",
        "scheduler = ReduceLROnPlateau(optimizer, mode='min', factor=lrdecay, patience=lrdecay_patience, verbose=True)"
      ]
    },
    {
      "cell_type": "markdown",
      "metadata": {
        "id": "1RACNs8zyQQO"
      },
      "source": [
        "### Training"
      ]
    },
    {
      "cell_type": "markdown",
      "metadata": {
        "id": "wNrse8iNyQQO"
      },
      "source": [
        "Training and saving best model with best parameters."
      ]
    },
    {
      "cell_type": "code",
      "execution_count": null,
      "metadata": {
        "id": "3S79n__WyQQO"
      },
      "outputs": [
        {
          "name": "stderr",
          "output_type": "stream",
          "text": [
            "                                                                        \r"
          ]
        },
        {
          "ename": "KeyboardInterrupt",
          "evalue": "",
          "output_type": "error",
          "traceback": [
            "\u001b[1;31m---------------------------------------------------------------------------\u001b[0m",
            "\u001b[1;31mKeyboardInterrupt\u001b[0m                         Traceback (most recent call last)",
            "Cell \u001b[1;32mIn[33], line 64\u001b[0m\n\u001b[0;32m     62\u001b[0m loss\u001b[38;5;241m.\u001b[39mbackward()\n\u001b[0;32m     63\u001b[0m optimizer\u001b[38;5;241m.\u001b[39mstep()\n\u001b[1;32m---> 64\u001b[0m total_loss \u001b[38;5;241m+\u001b[39m\u001b[38;5;241m=\u001b[39m \u001b[43mloss\u001b[49m\u001b[38;5;241;43m.\u001b[39;49m\u001b[43mdetach\u001b[49m\u001b[43m(\u001b[49m\u001b[43m)\u001b[49m\u001b[38;5;241;43m.\u001b[39;49m\u001b[43mitem\u001b[49m\u001b[43m(\u001b[49m\u001b[43m)\u001b[49m\n\u001b[0;32m     65\u001b[0m total_loss_mse \u001b[38;5;241m+\u001b[39m\u001b[38;5;241m=\u001b[39m loss_mse_batch\u001b[38;5;241m.\u001b[39mitem()\n\u001b[0;32m     66\u001b[0m total_loss_phy \u001b[38;5;241m+\u001b[39m\u001b[38;5;241m=\u001b[39m loss_phys_batch\u001b[38;5;241m.\u001b[39mitem()\n",
            "\u001b[1;31mKeyboardInterrupt\u001b[0m: "
          ]
        }
      ],
      "source": [
        "train_loss = []\n",
        "test_loss = []\n",
        "loss_mse = []\n",
        "loss_phy = []\n",
        "loss_bndry = []\n",
        "\n",
        "best_test_loss = np.inf\n",
        "epochs_without_improvement = 0\n",
        "\n",
        "kernel_string = f\"{kernel_size[0][0]}x{kernel_size[0][1]}\"\n",
        "model_dir = os.path.join(dir_path, 'models', 'ConvLSTM')\n",
        "if IN_COLAB:\n",
        "  model_dir = os.path.join(MODELS_PATH, 'ConvLSTM')\n",
        "\n",
        "os.makedirs(model_dir, exist_ok=True)\n",
        "\n",
        "# Nombre del archivo con hiperparámetros\n",
        "filename_phy = f\"PCB_ConvLSTM_nt{n_train}_{time_sim}s_lr{lr}_bs{batch_size}_h{len(hidden_dims)}_k{kernel_string}_phy_{phy_weight}_bnd{bnd_weight}.pth\"\n",
        "\n",
        "# Ruta completa del modelo\n",
        "model_path_phy = os.path.join(model_dir, filename_phy)\n",
        "\n",
        "# Comprobar si el modelo ya existe\n",
        "if os.path.exists(model_path_phy):\n",
        "    display(Markdown(f\"**❌ El modelo `{filename_phy}` ya existe. Se omite esta celda para evitar sobreescritura.**\"))\n",
        "    # Detiene la ejecución de esta celda sin interrumpir el notebook\n",
        "    # raise SystemExit\n",
        "\n",
        "# ruta para el JSON\n",
        "json_path_phy = model_path_phy.replace('.pth', '.json')\n",
        "\n",
        "start_time_training = time.time()\n",
        "start_datetime = datetime.datetime.now().strftime(\"%Y-%m-%d %H:%M:%S\")\n",
        "\n",
        "for epoch in range(epochs):\n",
        "    model.train()\n",
        "\n",
        "    total_loss = 0.0\n",
        "    total_loss_mse = 0.0\n",
        "    total_loss_phy = 0.0\n",
        "    total_loss_bndry = 0.0\n",
        "    start_time_epoch = time.time()\n",
        "\n",
        "    # Entrenamiento\n",
        "    for x, y, bc_all in tqdm(train_loader_phy, desc=f\"Epoch {epoch+1}/{epochs} - Training\", leave=False):\n",
        "        optimizer.zero_grad()\n",
        "\n",
        "        q = bc_all[:, 0:4] # sin normalizar\n",
        "        t_int = bc_all[:, 4:8] # sin normalizar\n",
        "        t_env = bc_all[:, 8].unsqueeze(1) # sin normalizar\n",
        "\n",
        "        q_denorm     = dataset.denormalize_Q_heaters(q)\n",
        "        t_int_denorm = dataset.denormalize_T_interfaces(t_int)\n",
        "        t_env_denorm = dataset.denormalize_T_env(t_env)\n",
        "        y_denorm     = dataset.denormalize_output(y)\n",
        "\n",
        "        y_hat = model(x) # model prediction\n",
        "        y_hat_denorm = dataset.denormalize_output(y_hat)\n",
        "\n",
        "        loss, loss_mse_batch, loss_phys_batch, loss_bdry_batch = total_loss_fn(y_hat, y, q_denorm, t_int_denorm, t_env_denorm)\n",
        "\n",
        "        loss.backward()\n",
        "        optimizer.step()\n",
        "        total_loss += loss.detach().item()\n",
        "        total_loss_mse += loss_mse_batch.item()\n",
        "        total_loss_phy += loss_phys_batch.item()\n",
        "        total_loss_bndry += loss_bdry_batch.item()\n",
        "\n",
        "    epoch_train_loss = total_loss / len(train_loader_phy)\n",
        "    epoch_loss_mse = total_loss_mse / len(train_loader_phy)\n",
        "    epoch_loss_phy = total_loss_phy / len(train_loader_phy)\n",
        "    epoch_loss_bndry = total_loss_bndry / len(train_loader_phy)\n",
        "\n",
        "    train_loss.append(epoch_train_loss)\n",
        "    loss_mse.append(epoch_loss_mse)\n",
        "    loss_phy.append(epoch_loss_phy)\n",
        "    loss_bndry.append(epoch_loss_bndry)\n",
        "\n",
        "    # Validación\n",
        "    model.eval()\n",
        "    total_test_loss = 0.0\n",
        "    with torch.no_grad():\n",
        "        for x_test, y_test, bc_test in test_loader_phy:\n",
        "\n",
        "            q = bc_test[:, 0:4]\n",
        "            t_int = bc_test[:, 4:8]\n",
        "            t_env = bc_test[:, 8].unsqueeze(1)\n",
        "\n",
        "            q_denorm     = dataset.denormalize_Q_heaters(q)\n",
        "            t_int_denorm = dataset.denormalize_T_interfaces(t_int)\n",
        "            t_env_denorm = dataset.denormalize_T_env(t_env)\n",
        "            y_denorm     = dataset.denormalize_output(y)\n",
        "            y_hat_denorm = dataset.denormalize_output(y_hat)\n",
        "\n",
        "            y_pred = model(x_test)\n",
        "\n",
        "            test_loss_comb, _, _, _ = total_loss_fn(y_pred, y_test, q_denorm, t_int_denorm, t_env_denorm)\n",
        "            total_test_loss += test_loss_comb.item()\n",
        "\n",
        "    epoch_test_loss = total_test_loss / len(test_loader_phy)\n",
        "    test_loss.append(epoch_test_loss)\n",
        "\n",
        "    # Scheduler update\n",
        "    scheduler.step(epoch_test_loss)\n",
        "\n",
        "    elapsed_minutes = (time.time() - start_time_training) / 60\n",
        "\n",
        "    # Early stopping check\n",
        "    if epoch_test_loss < best_test_loss:\n",
        "        best_test_loss = epoch_test_loss\n",
        "\n",
        "        # Guardar el modelo\n",
        "        torch.save(model.state_dict(), model_path_phy)\n",
        "\n",
        "        current_lr = optimizer.param_groups[0]['lr']\n",
        "\n",
        "        # Guardar hiperparámetros en JSON\n",
        "        params = {\n",
        "            'start_datetime': start_datetime,\n",
        "            'training_duration_minutes': elapsed_minutes,\n",
        "            \"system_specs\": system_specs,\n",
        "            'hidden_dims': hidden_dims,\n",
        "            'kernel_size': kernel_string,\n",
        "            'batch_size': batch_size,\n",
        "            'lr': lr,\n",
        "            \"scheduler\":{\n",
        "                \"type\": \"ReduceLROnPlateau\",\n",
        "                \"factor\": lrdecay,\n",
        "                \"patience\": lrdecay_patience,\n",
        "                \"final_lr\": current_lr\n",
        "            },\n",
        "            'early_stop_patience': early_stop_patience,\n",
        "            'epochs_trained': epoch + 1,\n",
        "            'best_test_loss': best_test_loss,\n",
        "            \"train_loss\": list(map(float, train_loss)),\n",
        "            \"test_loss\": list(map(float, test_loss)),\n",
        "            \"physics\": {\n",
        "                \"phy_param\": phy_weight,\n",
        "                \"bnd_param\": bnd_weight,\n",
        "            }\n",
        "        }\n",
        "\n",
        "        with open(json_path_phy, 'w') as f:\n",
        "            json.dump(params, f, indent=4)\n",
        "\n",
        "        # print(f\"✓ Saving model (epoch {epoch+1}) | test_loss improved to {best_test_loss:.6f}\")\n",
        "        epochs_without_improvement = 0\n",
        "    else:\n",
        "        epochs_without_improvement += 1\n",
        "        # print(f\"No improvement for {epochs_without_improvement} epoch(s)\")\n",
        "\n",
        "    if epochs_without_improvement >= early_stop_patience:\n",
        "        print(f\"⚠️ Early stopping at epoch {epoch+1} — no improvement for {early_stop_patience} epochs.\")\n",
        "        break\n",
        "\n",
        "    # Estadísticas finales de la época\n",
        "    elapsed_epoch = time.time() - start_time_epoch\n",
        "    # print(f\"Epoch {epoch+1:3d} | Train Loss: {epoch_train_loss:.6f} | Test Loss: {epoch_test_loss:.6f} | Time: {elapsed_epoch:.2f}s\")\n",
        "\n",
        "print(f\"Entrenamiento finalizado en {elapsed_minutes:.2f} minutos.\")"
      ]
    },
    {
      "cell_type": "markdown",
      "metadata": {
        "id": "x3uS8GdgyQQO"
      },
      "source": [
        "Plotting validation loss and train loss"
      ]
    },
    {
      "cell_type": "code",
      "execution_count": null,
      "metadata": {
        "id": "e6QT9Mm5yQQO"
      },
      "outputs": [],
      "source": [
        "plot_loss_evolution(train_loss, test_loss)"
      ]
    },
    {
      "cell_type": "code",
      "execution_count": null,
      "metadata": {
        "id": "LWTZ9mpXyQQP"
      },
      "outputs": [],
      "source": [
        "# Ensure loss_phy and loss_bndry are converted to NumPy arrays for element-wise multiplication\n",
        "loss_mse = np.array(loss_mse)\n",
        "loss_phy = np.array(loss_phy)\n",
        "loss_bndry = np.array(loss_bndry)\n",
        "\n",
        "plt.plot(loss_mse * mse_weight, label=f'MSE Loss*{mse_weight}', color='blue')\n",
        "plt.plot(loss_phy * phy_weight, label=f'Physics Loss*{phy_weight}', color='orange')\n",
        "plt.plot(loss_bndry * bnd_weight, label=f'Boundary Loss*{bnd_weight}', color='green')\n",
        "plt.plot(test_loss, label='Total Loss', color='red')\n",
        "plt.xlabel('Epochs')\n",
        "plt.ylabel('Loss')\n",
        "plt.xlim(0, len(train_loss)-1)\n",
        "plt.yscale('log')\n",
        "plt.legend()\n",
        "plt.title('Loss Components')\n",
        "plt.show()\n"
      ]
    },
    {
      "cell_type": "markdown",
      "metadata": {
        "id": "6-MEUfJsyQQP"
      },
      "source": [
        "### Evaluation"
      ]
    },
    {
      "cell_type": "code",
      "execution_count": null,
      "metadata": {
        "id": "oV-Oe_6IyQQP"
      },
      "outputs": [],
      "source": [
        "# load the best model\n",
        "model = PCB_ConvLSTM_physics(input_channels=3, hidden_dims=hidden_dims, kernel_size=kernel_size, height=13, width=13).to(device)\n",
        "model.load_state_dict(torch.load(model_path_phy))\n",
        "model.eval()\n",
        "\n",
        "criterion = nn.MSELoss() # para comparar colo con la recostrucción\n",
        "\n",
        "with torch.no_grad():\n",
        "    y_pred = model(input_val)  # (B, T, 1, H, W)\n",
        "    val_loss = criterion(y_pred, output_val)\n",
        "    print(f\"Test Loss: {val_loss.item():.6f}\")"
      ]
    },
    {
      "cell_type": "markdown",
      "metadata": {
        "id": "hJRcdvB2yQQP"
      },
      "source": [
        "### Plotting results"
      ]
    },
    {
      "cell_type": "markdown",
      "metadata": {
        "id": "sdgAjDvdyQQP"
      },
      "source": [
        "We are going to plot the temperature evolution in the four nodes corresponding with the heaters"
      ]
    },
    {
      "cell_type": "code",
      "execution_count": null,
      "metadata": {
        "id": "MvaEkYzxyQQP"
      },
      "outputs": [],
      "source": [
        "id_heaters = [(6,3), (3,6), (9,3), (9,9)]"
      ]
    },
    {
      "cell_type": "markdown",
      "metadata": {
        "id": "bv4Wemc7yQQP"
      },
      "source": [
        "Boundary conditions"
      ]
    },
    {
      "cell_type": "code",
      "execution_count": null,
      "metadata": {
        "id": "BIFx-VNiyQQQ"
      },
      "outputs": [],
      "source": [
        "Q_heaters = np.array([1.0, 1.0, 1.0, 1.0])\n",
        "T_interfaces = np.array([250, 250, 250, 250])\n",
        "T_env = 250"
      ]
    },
    {
      "cell_type": "markdown",
      "metadata": {
        "id": "BwOghOyuyQQQ"
      },
      "source": [
        "Actual values"
      ]
    },
    {
      "cell_type": "code",
      "execution_count": null,
      "metadata": {
        "id": "Y0CMhpnHyQQQ"
      },
      "outputs": [],
      "source": [
        "T, _, _, _ = PCB_case_2(solver = 'transient', display=False, time = time_sim, dt = dt, T_init = T_init, Q_heaters = Q_heaters, T_interfaces = T_interfaces, Tenv = T_env) # heaters in default position\n",
        "T = T.reshape(T.shape[0], nodes_side, nodes_side) # reshaping the data grid-shape"
      ]
    },
    {
      "cell_type": "markdown",
      "metadata": {
        "id": "tYnOw-mzyQQQ"
      },
      "source": [
        "Predicted values"
      ]
    },
    {
      "cell_type": "code",
      "execution_count": null,
      "metadata": {
        "id": "V1TakCLZyQQQ"
      },
      "outputs": [],
      "source": [
        "input_tensor = dataset.create_input_from_values(Q_heaters, T_interfaces, T_env, sequence_length=sequence_length)\n",
        "\n",
        "output = model(input_tensor)\n",
        "output_denorm = dataset.denormalize_output(output)\n",
        "T_pred = output_denorm[0,:,0,:,:].cpu().detach().numpy()"
      ]
    },
    {
      "cell_type": "code",
      "execution_count": null,
      "metadata": {
        "id": "GPN6Cl-CyQQQ"
      },
      "outputs": [],
      "source": [
        "plot_nodes_evolution(T_pred, T, id_heaters, together=True)"
      ]
    },
    {
      "cell_type": "markdown",
      "metadata": {
        "id": "fB3xpTKFyQQQ"
      },
      "source": [
        "Error en la predicción"
      ]
    },
    {
      "cell_type": "code",
      "execution_count": null,
      "metadata": {
        "id": "Mwckh7pDyQQQ"
      },
      "outputs": [],
      "source": [
        "plot_se_map(T_pred, T, time=100, show_pred=True)"
      ]
    },
    {
      "cell_type": "markdown",
      "metadata": {
        "id": "1CXst2CayQQR"
      },
      "source": [
        "Error en la predicción"
      ]
    },
    {
      "cell_type": "code",
      "execution_count": null,
      "metadata": {
        "id": "zHBLrRGByQQR"
      },
      "outputs": [],
      "source": [
        "plot_se_map(T_pred, T, time=100, show_pred=True)"
      ]
    },
    {
      "cell_type": "markdown",
      "metadata": {
        "id": "wLiq4JsiyQQR"
      },
      "source": [
        "## Comparison of models"
      ]
    },
    {
      "cell_type": "markdown",
      "metadata": {
        "id": "vyVx2fz9yQQR"
      },
      "source": [
        "Loading models"
      ]
    },
    {
      "cell_type": "code",
      "execution_count": null,
      "metadata": {
        "id": "yolswH_myQQR"
      },
      "outputs": [],
      "source": [
        "model = PCB_ConvLSTM(input_channels=3, hidden_dims=hidden_dims, kernel_size=kernel_size, height=13, width=13).to(device)\n",
        "model_phy = PCB_ConvLSTM_physics(input_channels=3, hidden_dims=hidden_dims, kernel_size=kernel_size, height=13, width=13).to(device)\n",
        "\n",
        "model.load_state_dict(torch.load(model_path))\n",
        "model.to(device).eval()\n",
        "model_phy.load_state_dict(torch.load(model_path_phy))\n",
        "model_phy.to(device).eval()\n",
        "print(f\"Modelos cargados en dispositivo {device} y listos para evaluar.\")"
      ]
    },
    {
      "cell_type": "markdown",
      "metadata": {
        "id": "OPRL1uMhyQQR"
      },
      "source": [
        "Generating random data to evaluate the models"
      ]
    },
    {
      "cell_type": "code",
      "execution_count": null,
      "metadata": {
        "id": "_gpg28KWyQQR"
      },
      "outputs": [],
      "source": [
        "np.random.seed(0)\n",
        "\n",
        "Q_random = np.random.uniform(0.1, 1.25, 4)\n",
        "T_interfaces_random = np.random.uniform(260, 310, 4)\n",
        "T_env_random = np.random.uniform(260, 310)\n",
        "\n",
        "input_tensor = dataset.create_input_from_values(Q_random, T_interfaces_random, T_env_random, sequence_length=sequence_length)\n",
        "\n",
        "T_true = PCB_case_2(solver='transient', display=False, time=100, dt=1, T_init=298.0, Q_heaters=Q_random, T_interfaces=T_interfaces_random, Tenv=T_env_random)[0]\n",
        "T_true = T_true.reshape(T_true.shape[0], nodes_side, nodes_side) # reshaping the data grid-shape\n",
        "\n",
        "pred = model(input_tensor).cpu().detach()[0,:,0,:,:]\n",
        "T_pred = dataset.denormalize_output(torch.tensor(pred)).numpy()\n",
        "\n",
        "pred_phy = model_phy(input_tensor).cpu().detach()[0,:,0,:,:]\n",
        "T_pred_phy = dataset.denormalize_output(torch.tensor(pred_phy)).numpy()"
      ]
    },
    {
      "cell_type": "markdown",
      "metadata": {
        "id": "Ib4prZeCyQQR"
      },
      "source": [
        "Error calculation"
      ]
    },
    {
      "cell_type": "code",
      "execution_count": null,
      "metadata": {
        "id": "B5B6YfRpyQQS"
      },
      "outputs": [],
      "source": [
        "error = T_true - T_pred\n",
        "error_phy = T_true - T_pred_phy\n",
        "\n",
        "error_last = error[-1]\n",
        "error_phy_last = error_phy[-1]"
      ]
    },
    {
      "cell_type": "markdown",
      "metadata": {
        "id": "hvyIWXFbyQQS"
      },
      "source": [
        "Non-PINN"
      ]
    },
    {
      "cell_type": "code",
      "execution_count": null,
      "metadata": {
        "id": "Nemetkm3yQQS"
      },
      "outputs": [],
      "source": [
        "plot_prediction_and_error(T_pred, T_true, t=100, cmap='hot', save_as_pdf=False, filename='prediction_and_error')"
      ]
    },
    {
      "cell_type": "markdown",
      "metadata": {
        "id": "ugyOzveRyQQS"
      },
      "source": [
        "PINN"
      ]
    },
    {
      "cell_type": "code",
      "execution_count": null,
      "metadata": {
        "id": "RQXElnZUyQQS"
      },
      "outputs": [],
      "source": [
        "plot_prediction_and_error(T_pred_phy, T_true, t=-1, cmap='hot', save_as_pdf=False, filename='prediction_and_error')"
      ]
    },
    {
      "cell_type": "markdown",
      "metadata": {
        "id": "GfI8YVRGyQQS"
      },
      "source": [
        "Error plot comparison"
      ]
    },
    {
      "cell_type": "code",
      "execution_count": null,
      "metadata": {
        "id": "Q70j6wHPyQQS"
      },
      "outputs": [],
      "source": [
        "compare_error_maps_2d(error_last, error_phy_last, (\"Error sin física\", \"Error con física\"), save_as_pdf=True)"
      ]
    }
  ],
  "metadata": {
    "accelerator": "GPU",
    "colab": {
      "gpuType": "T4",
      "provenance": [],
      "toc_visible": true
    },
    "kernelspec": {
      "display_name": "ismael_minimal",
      "language": "python",
      "name": "python3"
    },
    "language_info": {
      "codemirror_mode": {
        "name": "ipython",
        "version": 3
      },
      "file_extension": ".py",
      "mimetype": "text/x-python",
      "name": "python",
      "nbconvert_exporter": "python",
      "pygments_lexer": "ipython3",
      "version": "3.9.21"
    }
  },
  "nbformat": 4,
  "nbformat_minor": 0
}
