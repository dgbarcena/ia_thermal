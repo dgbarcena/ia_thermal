{
 "cells": [
  {
   "cell_type": "markdown",
   "id": "2d95600b",
   "metadata": {},
   "source": [
    "# Convolutional LSTM One To One Neural Network"
   ]
  },
  {
   "cell_type": "markdown",
   "id": "868ff05f",
   "metadata": {},
   "source": [
    "## Previous"
   ]
  },
  {
   "cell_type": "code",
   "execution_count": 1,
   "id": "5fd7e198",
   "metadata": {},
   "outputs": [
    {
     "name": "stdout",
     "output_type": "stream",
     "text": [
      "Modo: Local\n",
      "Ruta datasets: C:\\Users\\ismael.gallo/ia_thermal_colab\\datasets\n",
      "Ruta modelos: C:\\Users\\ismael.gallo/ia_thermal_colab\\models\n"
     ]
    }
   ],
   "source": [
    "import os\n",
    "import sys\n",
    "import IPython\n",
    "\n",
    "# Detectar si estamos en Colab\n",
    "try:\n",
    "    import google.colab\n",
    "    IN_COLAB = True\n",
    "except ImportError:\n",
    "    IN_COLAB = False\n",
    "\n",
    "# Ruta base\n",
    "if IN_COLAB:\n",
    "    from google.colab import drive\n",
    "    drive.mount('/content/drive')\n",
    "    BASE_PATH = \"/content/drive/MyDrive/ia_thermal_colab\"\n",
    "else:\n",
    "    BASE_PATH = os.path.expanduser(\"~/ia_thermal_colab\")\n",
    "\n",
    "DATASETS_PATH = os.path.join(BASE_PATH, \"datasets\")\n",
    "MODELS_PATH = os.path.join(BASE_PATH, \"models\")\n",
    "\n",
    "os.makedirs(DATASETS_PATH, exist_ok=True)\n",
    "os.makedirs(MODELS_PATH, exist_ok=True)\n",
    "\n",
    "print(\"Modo:\", \"Colab\" if IN_COLAB else \"Local\")\n",
    "print(\"Ruta datasets:\", DATASETS_PATH)\n",
    "print(\"Ruta modelos:\", MODELS_PATH)"
   ]
  },
  {
   "cell_type": "code",
   "execution_count": 2,
   "id": "3659cd44",
   "metadata": {},
   "outputs": [],
   "source": [
    "# 🔄 Parámetros del repo\n",
    "GIT_REPO_URL = \"https://github.com/ismaelgallolopez/ia_thermal.git\"  # 👈 Cambia esto\n",
    "REPO_NAME = GIT_REPO_URL.split(\"/\")[-1].replace(\".git\", \"\")\n",
    "CLONE_PATH = os.path.join(BASE_PATH, REPO_NAME)\n",
    "\n",
    "if IN_COLAB:\n",
    "    # 🧬 Clonar el repositorio si no existe ya\n",
    "    if not os.path.exists(CLONE_PATH):\n",
    "        !git clone {GIT_REPO_URL} {CLONE_PATH}\n",
    "    else:\n",
    "        print(f\"Repositorio ya clonado en: {CLONE_PATH}\")\n",
    "\n",
    "    # 📦 Instalar requirements.txt\n",
    "    req_path = os.path.join(CLONE_PATH, \"requirements.txt\")\n",
    "    if os.path.exists(req_path):\n",
    "        !pip install -r {req_path}\n",
    "    else:\n",
    "        print(\"No se encontró requirements.txt en el repositorio.\")\n",
    "\n",
    "    print(\"🔄 Reinicia el entorno para aplicar los cambios...\")\n",
    "    IPython.display.display(IPython.display.Javascript('''google.colab.restartRuntime()'''))"
   ]
  },
  {
   "cell_type": "markdown",
   "id": "f08c2b07",
   "metadata": {},
   "source": [
    "Importación de librerías necesarias\n"
   ]
  },
  {
   "cell_type": "code",
   "execution_count": null,
   "id": "59193a4a",
   "metadata": {},
   "outputs": [],
   "source": [
    "import numpy as np\n",
    "import time\n",
    "from datetime import datetime\n",
    "from IPython.display import display, Markdown\n",
    "import platform\n",
    "from tqdm import tqdm\n",
    "import matplotlib.pyplot as plt\n",
    "import json\n",
    "import optuna\n",
    "from typing import Sequence, Union, Optional\n",
    "import seaborn as sns\n",
    "\n",
    "\n",
    "import torch\n",
    "from torch import nn\n",
    "from torch.optim.lr_scheduler import ReduceLROnPlateau\n",
    "from torch.utils.data import Dataset, DataLoader, TensorDataset\n",
    "import torch.optim as optim\n",
    "\n",
    "np.set_printoptions(threshold=sys.maxsize)\n",
    "torch.set_default_dtype(torch.float32)\n",
    "\n",
    "# get the directory path of the file\n",
    "dir_path = os.getcwd()\n",
    "\n",
    "sys.path.append(os.path.abspath(os.path.join(os.getcwd(), '..')))\n",
    "\n",
    "if IN_COLAB:\n",
    "  sys.path.append(\"/content/drive/MyDrive/ia_thermal_colab/ia_thermal\")\n",
    "\n",
    "from plot_functions import *\n",
    "from Physics_Loss import *\n",
    "from utils import *\n",
    "from scripts.PCB_solver_tr import *\n",
    "\n",
    "if IN_COLAB:\n",
    "  sys.path.append(\"/content/drive/MyDrive/ia_thermal_colab/ia_thermal/ismaelgallo\")\n",
    "\n",
    "from architectures.convlstm import *\n",
    "from Dataset_Class_convlstm import *"
   ]
  },
  {
   "cell_type": "code",
   "execution_count": null,
   "id": "52262b2f",
   "metadata": {},
   "outputs": [
    {
     "name": "stdout",
     "output_type": "stream",
     "text": [
      "Using device: cuda\n"
     ]
    }
   ],
   "source": [
    "device = torch.device('cuda' if torch.cuda.is_available() else 'cpu')\n",
    "# device = 'cpu'\n",
    "print('Using device:', device)"
   ]
  },
  {
   "cell_type": "code",
   "execution_count": null,
   "id": "202cd239",
   "metadata": {},
   "outputs": [],
   "source": [
    "system_specs = {\n",
    "    \"os\": platform.system(),  # e.g. \"Linux\", \"Windows\", \"Darwin\"\n",
    "    \"os_version\": platform.version(),\n",
    "    \"machine\": platform.machine(),  # e.g. \"x86_64\"\n",
    "    \"processor\": platform.processor(),  # e.g. \"Intel64 Family 6 Model 158\"\n",
    "    \"python_version\": platform.python_version(),\n",
    "    \"device\": str(device)\n",
    "}\n",
    "if torch.cuda.is_available():\n",
    "    system_specs[\"gpu_name\"] = torch.cuda.get_device_name(0)\n",
    "    system_specs[\"gpu_memory_total_GB\"] = round(torch.cuda.get_device_properties(0).total_memory / (1024**3), 2)\n",
    "    system_specs[\"cuda_version\"] = torch.version.cuda"
   ]
  },
  {
   "cell_type": "code",
   "execution_count": null,
   "id": "89f0cd3a",
   "metadata": {},
   "outputs": [],
   "source": [
    "plt.rcParams.update({\n",
    "    # 'text.usetex': True,  # Usar LaTeX para el texto (Local)\n",
    "    'text.usetex': False,  # NO Usar LaTeX para el texto (Colab)\n",
    "    'font.family': 'serif',  # Fuente serif\n",
    "    # 'figure.figsize': (10, 6),  # Tamaño de la figura\n",
    "    'axes.labelsize': 12,  # Tamaño de las etiquetas de los ejes\n",
    "    'axes.titlesize': 14,  # Tamaño del título\n",
    "    'legend.fontsize': 12,  # Tamaño de la leyenda\n",
    "    'xtick.labelsize': 10,  # Tamaño de las etiquetas del eje x\n",
    "    'ytick.labelsize': 10,  # Tamaño de las etiquetas del eje y\n",
    "    'axes.grid': True,  # Habilitar la cuadrícula\n",
    "    'grid.alpha': 0.75,  # Transparencia de la cuadrícula\n",
    "    'grid.linestyle': '--'  # Estilo de la línea de la cuadrícula\n",
    "})\n",
    "\n",
    "# Configuración de Seaborn\n",
    "sns.set_context('paper')\n",
    "sns.set_style('whitegrid')"
   ]
  },
  {
   "cell_type": "markdown",
   "id": "e5b93124",
   "metadata": {},
   "source": [
    "## Dataset import"
   ]
  },
  {
   "cell_type": "code",
   "execution_count": null,
   "id": "a73e590a",
   "metadata": {},
   "outputs": [],
   "source": [
    "n_train = 800\n",
    "n_val = 100 \n",
    "n_test = 20\n",
    "time_sim = 50 # seconds\n",
    "\n",
    "batch_size = 25\n",
    "\n",
    "sequence_length = time_sim+1 # seconds\n",
    "dt = 1 # seconds\n",
    "T_init = 298.0 # Kelvin\n",
    "nodes_side = 13 # number of nodes in one side of the PCB"
   ]
  },
  {
   "cell_type": "code",
   "execution_count": null,
   "id": "c3b5858c",
   "metadata": {},
   "outputs": [
    {
     "name": "stdout",
     "output_type": "stream",
     "text": [
      "✅ Cargando ConvLSTM transient dataset base desde: c:\\Users\\ismael.gallo\\Desktop\\ia_thermal\\ismaelgallo\\datasets\\PCB_convlstm_transient_dataset.pth\n"
     ]
    },
    {
     "name": "stderr",
     "output_type": "stream",
     "text": [
      "c:\\Users\\ismael.gallo\\Desktop\\ia_thermal\\ismaelgallo\\Dataset_Class_convlstm.py:31: FutureWarning: You are using `torch.load` with `weights_only=False` (the current default value), which uses the default pickle module implicitly. It is possible to construct malicious pickle data which will execute arbitrary code during unpickling (See https://github.com/pytorch/pytorch/blob/main/SECURITY.md#untrusted-models for more details). In a future release, the default value for `weights_only` will be flipped to `True`. This limits the functions that could be executed during unpickling. Arbitrary objects will no longer be allowed to be loaded via this mode unless they are explicitly allowlisted by the user via `torch.serialization.add_safe_globals`. We recommend you start setting `weights_only=True` for any use case where you don't have full control of the loaded file. Please open an issue on GitHub for any issues related to this experimental feature.\n",
      "  return torch.load(full_path)\n"
     ]
    },
    {
     "name": "stdout",
     "output_type": "stream",
     "text": [
      "✅ Cargando dataset train desde: c:\\Users\\ismael.gallo\\Desktop\\ia_thermal\\ismaelgallo\\datasets\\PCB_convlstm_transient_dataset_train.pth\n"
     ]
    },
    {
     "name": "stderr",
     "output_type": "stream",
     "text": [
      "c:\\Users\\ismael.gallo\\Desktop\\ia_thermal\\ismaelgallo\\Dataset_Class_convlstm.py:348: FutureWarning: You are using `torch.load` with `weights_only=False` (the current default value), which uses the default pickle module implicitly. It is possible to construct malicious pickle data which will execute arbitrary code during unpickling (See https://github.com/pytorch/pytorch/blob/main/SECURITY.md#untrusted-models for more details). In a future release, the default value for `weights_only` will be flipped to `True`. This limits the functions that could be executed during unpickling. Arbitrary objects will no longer be allowed to be loaded via this mode unless they are explicitly allowlisted by the user via `torch.serialization.add_safe_globals`. We recommend you start setting `weights_only=True` for any use case where you don't have full control of the loaded file. Please open an issue on GitHub for any issues related to this experimental feature.\n",
      "  base_dataset = torch.load(full_path)\n"
     ]
    },
    {
     "name": "stdout",
     "output_type": "stream",
     "text": [
      "📦 Dataset movido a: CUDA\n",
      "✅ Cargando dataset val desde: c:\\Users\\ismael.gallo\\Desktop\\ia_thermal\\ismaelgallo\\datasets\\PCB_convlstm_transient_dataset_val.pth\n",
      "📦 Dataset movido a: CUDA\n",
      "✅ Cargando dataset test desde: c:\\Users\\ismael.gallo\\Desktop\\ia_thermal\\ismaelgallo\\datasets\\PCB_convlstm_transient_dataset_test.pth\n",
      "📦 Dataset movido a: CUDA\n"
     ]
    }
   ],
   "source": [
    "if IN_COLAB:\n",
    "  dir_path = BASE_PATH\n",
    "\n",
    "dataset = load_dataset_convlstm(base_path=dir_path)  \n",
    "\n",
    "# print(\"T_interfaces:\",    dataset.T_interfaces.shape)\n",
    "# print(\"Q_heaters:\",       dataset.Q_heaters.shape)\n",
    "# print(\"T_env:\",           dataset.T_env.shape)\n",
    "# print(\"T_inputs:\",        dataset.inputs.shape)  \n",
    "# print(\"T_outputs:\",       dataset.outputs.shape)  \n",
    "\n",
    "dataset_train = load_trimmed_dataset_convlstm(base_path=dir_path, dataset_type='train', max_samples=n_train, time_steps_output=sequence_length, to_device=True)\n",
    "dataset_val = load_trimmed_dataset_convlstm(base_path=dir_path, dataset_type='val', max_samples=n_val, time_steps_output=sequence_length, to_device=True)\n",
    "dataset_test = load_trimmed_dataset_convlstm(base_path=dir_path, dataset_type='test', max_samples=n_test, time_steps_output=sequence_length, to_device=True)\n",
    "\n",
    "# input_train, output_train = prepare_data_for_convlstm(dataset_train, device=device)\n",
    "# input_test, output_test = prepare_data_for_convlstm(dataset_test, device=device)\n",
    "# input_val, output_val = prepare_data_for_convlstm(dataset_val, device=device)\n",
    "\n",
    "train_loader = DataLoader(dataset_train, batch_size=batch_size, shuffle=True)\n",
    "val_loader = DataLoader(dataset_test, batch_size=batch_size, shuffle=False)\n",
    "test_loader = DataLoader(dataset_test, batch_size=batch_size, shuffle=False)"
   ]
  },
  {
   "cell_type": "markdown",
   "id": "0031bb20",
   "metadata": {},
   "source": [
    "##### Comprobaciones de que no nos estamos cargando nada por el camino"
   ]
  },
  {
   "cell_type": "code",
   "execution_count": null,
   "id": "193c6f7d",
   "metadata": {},
   "outputs": [
    {
     "name": "stdout",
     "output_type": "stream",
     "text": [
      "x_batch shape: torch.Size([25, 51, 4, 13, 13])\n",
      "y_batch shape: torch.Size([25, 51, 1, 13, 13])\n"
     ]
    }
   ],
   "source": [
    "for x_batch, y_batch in train_loader:\n",
    "    print(\"x_batch shape:\", x_batch.shape)\n",
    "    print(\"y_batch shape:\", y_batch.shape)\n",
    "    break  # Solo muestra el primer batch"
   ]
  },
  {
   "cell_type": "code",
   "execution_count": null,
   "id": "d8a29642",
   "metadata": {},
   "outputs": [
    {
     "data": {
      "text/plain": [
       "<matplotlib.image.AxesImage at 0x284b69d1a60>"
      ]
     },
     "execution_count": 10,
     "metadata": {},
     "output_type": "execute_result"
    },
    {
     "data": {
      "image/png": "[encoded data removed]",
      "text/plain": [
       "<Figure size 640x480 with 1 Axes>"
      ]
     },
     "metadata": {},
     "output_type": "display_data"
    }
   ],
   "source": [
    "x, _ = next(iter(train_loader))\n",
    "x = x[0, :, -1, :, :]\n",
    "x.shape\n",
    "\n",
    "# plt.imshow(x[0].cpu().numpy(), cmap='hot', interpolation='nearest')\n",
    "plt.imshow(x[-1].cpu().numpy(), cmap='hot', interpolation='nearest')"
   ]
  },
  {
   "cell_type": "markdown",
   "id": "147eb34c",
   "metadata": {},
   "source": [
    "## Non-phyisics ConvLSTM"
   ]
  },
  {
   "cell_type": "markdown",
   "id": "99ddb95c",
   "metadata": {},
   "source": [
    "### Hyperparameters"
   ]
  },
  {
   "cell_type": "code",
   "execution_count": null,
   "id": "314af641",
   "metadata": {},
   "outputs": [],
   "source": [
    "epochs = 500\n",
    "lr = 1e-2\n",
    "lrdecay = 0.1\n",
    "lrdecay_patience = 10\n",
    "early_stop_patience = 100\n",
    "\n",
    "hidden_dims = [256, 128, 64, 128, 256]  # Número de filtros en cada capa LSTM\n",
    "num_layers = len(hidden_dims)\n",
    "kernel_size = [(3,3)] * num_layers"
   ]
  },
  {
   "cell_type": "markdown",
   "id": "f2e990ae",
   "metadata": {},
   "source": [
    "### Model definition"
   ]
  },
  {
   "cell_type": "markdown",
   "id": "b9aa29d9",
   "metadata": {},
   "source": [
    "ConvLSTM arquitecture"
   ]
  },
  {
   "cell_type": "code",
   "execution_count": null,
   "id": "c431cd69",
   "metadata": {},
   "outputs": [],
   "source": [
    "class PCB_ConvLSTM(nn.Module):\n",
    "    def __init__(self, input_channels=4, hidden_dims=hidden_dims, kernel_size=kernel_size, height=13, width=13):\n",
    "        super().__init__()\n",
    "        self.convlstm = ConvLSTM(input_dim=input_channels,\n",
    "                                 hidden_dim=hidden_dims,\n",
    "                                 kernel_size=kernel_size,\n",
    "                                 num_layers=len(hidden_dims),\n",
    "                                 batch_first=True,\n",
    "                                 bias=True,\n",
    "                                 return_all_layers=False)\n",
    "\n",
    "        self.decoder = nn.Conv2d(hidden_dims[-1], 1, kernel_size=1)\n",
    "\n",
    "    def forward(self, x):\n",
    "        # x: (B, T, C, H, W)\n",
    "        lstm_out, _ = self.convlstm(x)  # lstm_out[0]: (B, T, hidden_dim, H, W)\n",
    "\n",
    "        # Apply decoder to each time step\n",
    "        decoded = [self.decoder(lstm_out[0][:, t]) for t in range(x.size(1))]\n",
    "        output = torch.stack(decoded, dim=1)  # (B, T, 1, H, W)\n",
    "        return output"
   ]
  },
  {
   "cell_type": "markdown",
   "id": "b9537991",
   "metadata": {},
   "source": [
    "Model itself"
   ]
  },
  {
   "cell_type": "code",
   "execution_count": null,
   "id": "5de463c4",
   "metadata": {},
   "outputs": [],
   "source": [
    "model = PCB_ConvLSTM(input_channels=4, hidden_dims=hidden_dims, kernel_size=kernel_size, height=13, width=13).to(device)\n",
    "\n",
    "criterion = nn.MSELoss()\n",
    "optimizer = torch.optim.Adam(model.parameters(), lr=lr)\n",
    "scheduler = ReduceLROnPlateau(optimizer, mode='min', factor=lrdecay, patience=lrdecay_patience)\n",
    "\n",
    "# # DEBUGGING\n",
    "# # Ensure data is moved to the appropriate device\n",
    "# batch = next(iter(train_loader))\n",
    "# x, y = batch\n",
    "\n",
    "# print(f\"x está en: {x.device}\")\n",
    "# print(f\"y está en: {y.device}\")\n",
    "# print(f\"model está en: {next(model.parameters()).device}\")"
   ]
  },
  {
   "cell_type": "markdown",
   "id": "2ea582d8",
   "metadata": {},
   "source": [
    "### Training"
   ]
  },
  {
   "cell_type": "markdown",
   "id": "cfe68927",
   "metadata": {},
   "source": [
    "Training and saving best model with best parameters."
   ]
  },
  {
   "cell_type": "code",
   "execution_count": null,
   "id": "1aed16b6",
   "metadata": {},
   "outputs": [
    {
     "data": {
      "text/markdown": [
       "✨ Nuevo entrenamiento: `PCB_ConvLSTM_4ch_nt800_e500_50s_lr0.01_bs25_h256-128-64-128-256_k3x3.pth`"
      ],
      "text/plain": [
       "<IPython.core.display.Markdown object>"
      ]
     },
     "metadata": {},
     "output_type": "display_data"
    },
    {
     "name": "stdout",
     "output_type": "stream",
     "text": [
      "📁 Los resultados se guardarán en: c:\\Users\\ismael.gallo\\Desktop\\ia_thermal\\ismaelgallo\\models\\ConvLSTM_4ch\\PCB_ConvLSTM_4ch_nt800_e500_50s_lr0.01_bs25_h256-128-64-128-256_k3x3.json\n"
     ]
    }
   ],
   "source": [
    "train_loss = []\n",
    "val_loss = []\n",
    "best_val_loss = np.inf\n",
    "epochs_without_improvement = 0\n",
    "elapsed_previous = 0.0  # minutos ya entrenados en sesiones anteriores\n",
    "\n",
    "kernel_string = f\"{kernel_size[0][0]}x{kernel_size[0][1]}\"\n",
    "layer_string = f\"{hidden_dims[0]}\"\n",
    "for d in hidden_dims[1:]:\n",
    "    layer_string += f\"-{d}\"\n",
    "\n",
    "model_dir = os.path.join(dir_path, 'models', 'ConvLSTM_4ch')\n",
    "if IN_COLAB:\n",
    "    model_dir = os.path.join(MODELS_PATH, 'ConvLSTM_4ch')\n",
    "os.makedirs(model_dir, exist_ok=True)\n",
    "\n",
    "filename = f\"PCB_ConvLSTM_4ch_nt{n_train}_e{epochs}_{time_sim}s_lr{lr}_bs{batch_size}_h{layer_string}_k{kernel_string}.pth\"\n",
    "model_path = os.path.join(model_dir, filename)\n",
    "json_path  = model_path.replace('.pth', '.json')\n",
    "\n",
    "start_epoch = 0\n",
    "start_datetime = datetime.now().strftime(\"%Y-%m-%d %H:%M:%S\")\n",
    "\n",
    "# --- Lógica de reanudación ---\n",
    "if os.path.exists(model_path):\n",
    "    display(Markdown(f\"🔁 Cargando modelo existente `{filename}` y reanudando entrenamiento.\"))\n",
    "    model.load_state_dict(torch.load(model_path, map_location=device))\n",
    "    \n",
    "    if os.path.exists(json_path):\n",
    "        with open(json_path, 'r') as f:\n",
    "            prev = json.load(f)\n",
    "        best_val_loss         = prev.get('best_val_loss', best_val_loss)\n",
    "        train_loss            = prev.get('train_loss', [])\n",
    "        val_loss              = prev.get('val_loss', [])\n",
    "        elapsed_previous      = prev.get('training_duration_minutes', 0.0)\n",
    "        start_datetime        = prev.get('start_datetime', start_datetime)\n",
    "        start_epoch           = prev.get('epochs_trained', 0)\n",
    "        # Reiniciamos el contador de paciencia tras mejora\n",
    "        epochs_without_improvement = 0\n",
    "    else:\n",
    "        display(Markdown(\"⚠️ No se encontró JSON de hiperparámetros; se reinicia contadores.\"))\n",
    "else:\n",
    "    display(Markdown(f\"✨ Nuevo entrenamiento: `{filename}`\"))\n",
    "\n",
    "print(\"📁 Los resultados se guardarán en:\", json_path)"
   ]
  },
  {
   "cell_type": "code",
   "execution_count": null,
   "id": "db47a35d",
   "metadata": {},
   "outputs": [
    {
     "name": "stderr",
     "output_type": "stream",
     "text": [
      "Epoch 1/500 - Training:   0%|          | 0/32 [00:00<?, ?it/s]"
     ]
    },
    {
     "name": "stderr",
     "output_type": "stream",
     "text": [
      "                                                              \r"
     ]
    },
    {
     "ename": "OutOfMemoryError",
     "evalue": "CUDA out of memory. Tried to allocate 20.00 MiB. GPU 0 has a total capacity of 2.00 GiB of which 0 bytes is free. Of the allocated memory 8.84 GiB is allocated by PyTorch, and 330.56 MiB is reserved by PyTorch but unallocated. If reserved but unallocated memory is large try setting PYTORCH_CUDA_ALLOC_CONF=expandable_segments:True to avoid fragmentation.  See documentation for Memory Management  (https://pytorch.org/docs/stable/notes/cuda.html#environment-variables)",
     "output_type": "error",
     "traceback": [
      "\u001b[1;31m---------------------------------------------------------------------------\u001b[0m",
      "\u001b[1;31mOutOfMemoryError\u001b[0m                          Traceback (most recent call last)",
      "Cell \u001b[1;32mIn[15], line 14\u001b[0m\n\u001b[0;32m     11\u001b[0m \u001b[38;5;28;01mfor\u001b[39;00m x, y \u001b[38;5;129;01min\u001b[39;00m tqdm(train_loader, desc\u001b[38;5;241m=\u001b[39m\u001b[38;5;124mf\u001b[39m\u001b[38;5;124m\"\u001b[39m\u001b[38;5;124mEpoch \u001b[39m\u001b[38;5;132;01m{\u001b[39;00mepoch\u001b[38;5;241m+\u001b[39m\u001b[38;5;241m1\u001b[39m\u001b[38;5;132;01m}\u001b[39;00m\u001b[38;5;124m/\u001b[39m\u001b[38;5;132;01m{\u001b[39;00mepochs\u001b[38;5;132;01m}\u001b[39;00m\u001b[38;5;124m - Training\u001b[39m\u001b[38;5;124m\"\u001b[39m, leave\u001b[38;5;241m=\u001b[39m\u001b[38;5;28;01mFalse\u001b[39;00m):\n\u001b[0;32m     13\u001b[0m     optimizer\u001b[38;5;241m.\u001b[39mzero_grad()\n\u001b[1;32m---> 14\u001b[0m     y_hat \u001b[38;5;241m=\u001b[39m \u001b[43mmodel\u001b[49m\u001b[43m(\u001b[49m\u001b[43mx\u001b[49m\u001b[43m)\u001b[49m\n\u001b[0;32m     16\u001b[0m     loss \u001b[38;5;241m=\u001b[39m criterion(y_hat, y)\n\u001b[0;32m     17\u001b[0m     loss\u001b[38;5;241m.\u001b[39mbackward()\n",
      "File \u001b[1;32mc:\\Users\\ismael.gallo\\anaconda3\\envs\\ismael_minimal\\lib\\site-packages\\torch\\nn\\modules\\module.py:1736\u001b[0m, in \u001b[0;36mModule._wrapped_call_impl\u001b[1;34m(self, *args, **kwargs)\u001b[0m\n\u001b[0;32m   1734\u001b[0m     \u001b[38;5;28;01mreturn\u001b[39;00m \u001b[38;5;28mself\u001b[39m\u001b[38;5;241m.\u001b[39m_compiled_call_impl(\u001b[38;5;241m*\u001b[39margs, \u001b[38;5;241m*\u001b[39m\u001b[38;5;241m*\u001b[39mkwargs)  \u001b[38;5;66;03m# type: ignore[misc]\u001b[39;00m\n\u001b[0;32m   1735\u001b[0m \u001b[38;5;28;01melse\u001b[39;00m:\n\u001b[1;32m-> 1736\u001b[0m     \u001b[38;5;28;01mreturn\u001b[39;00m \u001b[38;5;28mself\u001b[39m\u001b[38;5;241m.\u001b[39m_call_impl(\u001b[38;5;241m*\u001b[39margs, \u001b[38;5;241m*\u001b[39m\u001b[38;5;241m*\u001b[39mkwargs)\n",
      "File \u001b[1;32mc:\\Users\\ismael.gallo\\anaconda3\\envs\\ismael_minimal\\lib\\site-packages\\torch\\nn\\modules\\module.py:1747\u001b[0m, in \u001b[0;36mModule._call_impl\u001b[1;34m(self, *args, **kwargs)\u001b[0m\n\u001b[0;32m   1742\u001b[0m \u001b[38;5;66;03m# If we don't have any hooks, we want to skip the rest of the logic in\u001b[39;00m\n\u001b[0;32m   1743\u001b[0m \u001b[38;5;66;03m# this function, and just call forward.\u001b[39;00m\n\u001b[0;32m   1744\u001b[0m \u001b[38;5;28;01mif\u001b[39;00m \u001b[38;5;129;01mnot\u001b[39;00m (\u001b[38;5;28mself\u001b[39m\u001b[38;5;241m.\u001b[39m_backward_hooks \u001b[38;5;129;01mor\u001b[39;00m \u001b[38;5;28mself\u001b[39m\u001b[38;5;241m.\u001b[39m_backward_pre_hooks \u001b[38;5;129;01mor\u001b[39;00m \u001b[38;5;28mself\u001b[39m\u001b[38;5;241m.\u001b[39m_forward_hooks \u001b[38;5;129;01mor\u001b[39;00m \u001b[38;5;28mself\u001b[39m\u001b[38;5;241m.\u001b[39m_forward_pre_hooks\n\u001b[0;32m   1745\u001b[0m         \u001b[38;5;129;01mor\u001b[39;00m _global_backward_pre_hooks \u001b[38;5;129;01mor\u001b[39;00m _global_backward_hooks\n\u001b[0;32m   1746\u001b[0m         \u001b[38;5;129;01mor\u001b[39;00m _global_forward_hooks \u001b[38;5;129;01mor\u001b[39;00m _global_forward_pre_hooks):\n\u001b[1;32m-> 1747\u001b[0m     \u001b[38;5;28;01mreturn\u001b[39;00m forward_call(\u001b[38;5;241m*\u001b[39margs, \u001b[38;5;241m*\u001b[39m\u001b[38;5;241m*\u001b[39mkwargs)\n\u001b[0;32m   1749\u001b[0m result \u001b[38;5;241m=\u001b[39m \u001b[38;5;28;01mNone\u001b[39;00m\n\u001b[0;32m   1750\u001b[0m called_always_called_hooks \u001b[38;5;241m=\u001b[39m \u001b[38;5;28mset\u001b[39m()\n",
      "Cell \u001b[1;32mIn[12], line 16\u001b[0m, in \u001b[0;36mPCB_ConvLSTM.forward\u001b[1;34m(self, x)\u001b[0m\n\u001b[0;32m     14\u001b[0m \u001b[38;5;28;01mdef\u001b[39;00m \u001b[38;5;21mforward\u001b[39m(\u001b[38;5;28mself\u001b[39m, x):\n\u001b[0;32m     15\u001b[0m     \u001b[38;5;66;03m# x: (B, T, C, H, W)\u001b[39;00m\n\u001b[1;32m---> 16\u001b[0m     lstm_out, _ \u001b[38;5;241m=\u001b[39m \u001b[38;5;28;43mself\u001b[39;49m\u001b[38;5;241;43m.\u001b[39;49m\u001b[43mconvlstm\u001b[49m\u001b[43m(\u001b[49m\u001b[43mx\u001b[49m\u001b[43m)\u001b[49m  \u001b[38;5;66;03m# lstm_out[0]: (B, T, hidden_dim, H, W)\u001b[39;00m\n\u001b[0;32m     18\u001b[0m     \u001b[38;5;66;03m# Apply decoder to each time step\u001b[39;00m\n\u001b[0;32m     19\u001b[0m     decoded \u001b[38;5;241m=\u001b[39m [\u001b[38;5;28mself\u001b[39m\u001b[38;5;241m.\u001b[39mdecoder(lstm_out[\u001b[38;5;241m0\u001b[39m][:, t]) \u001b[38;5;28;01mfor\u001b[39;00m t \u001b[38;5;129;01min\u001b[39;00m \u001b[38;5;28mrange\u001b[39m(x\u001b[38;5;241m.\u001b[39msize(\u001b[38;5;241m1\u001b[39m))]\n",
      "File \u001b[1;32mc:\\Users\\ismael.gallo\\anaconda3\\envs\\ismael_minimal\\lib\\site-packages\\torch\\nn\\modules\\module.py:1736\u001b[0m, in \u001b[0;36mModule._wrapped_call_impl\u001b[1;34m(self, *args, **kwargs)\u001b[0m\n\u001b[0;32m   1734\u001b[0m     \u001b[38;5;28;01mreturn\u001b[39;00m \u001b[38;5;28mself\u001b[39m\u001b[38;5;241m.\u001b[39m_compiled_call_impl(\u001b[38;5;241m*\u001b[39margs, \u001b[38;5;241m*\u001b[39m\u001b[38;5;241m*\u001b[39mkwargs)  \u001b[38;5;66;03m# type: ignore[misc]\u001b[39;00m\n\u001b[0;32m   1735\u001b[0m \u001b[38;5;28;01melse\u001b[39;00m:\n\u001b[1;32m-> 1736\u001b[0m     \u001b[38;5;28;01mreturn\u001b[39;00m \u001b[38;5;28mself\u001b[39m\u001b[38;5;241m.\u001b[39m_call_impl(\u001b[38;5;241m*\u001b[39margs, \u001b[38;5;241m*\u001b[39m\u001b[38;5;241m*\u001b[39mkwargs)\n",
      "File \u001b[1;32mc:\\Users\\ismael.gallo\\anaconda3\\envs\\ismael_minimal\\lib\\site-packages\\torch\\nn\\modules\\module.py:1747\u001b[0m, in \u001b[0;36mModule._call_impl\u001b[1;34m(self, *args, **kwargs)\u001b[0m\n\u001b[0;32m   1742\u001b[0m \u001b[38;5;66;03m# If we don't have any hooks, we want to skip the rest of the logic in\u001b[39;00m\n\u001b[0;32m   1743\u001b[0m \u001b[38;5;66;03m# this function, and just call forward.\u001b[39;00m\n\u001b[0;32m   1744\u001b[0m \u001b[38;5;28;01mif\u001b[39;00m \u001b[38;5;129;01mnot\u001b[39;00m (\u001b[38;5;28mself\u001b[39m\u001b[38;5;241m.\u001b[39m_backward_hooks \u001b[38;5;129;01mor\u001b[39;00m \u001b[38;5;28mself\u001b[39m\u001b[38;5;241m.\u001b[39m_backward_pre_hooks \u001b[38;5;129;01mor\u001b[39;00m \u001b[38;5;28mself\u001b[39m\u001b[38;5;241m.\u001b[39m_forward_hooks \u001b[38;5;129;01mor\u001b[39;00m \u001b[38;5;28mself\u001b[39m\u001b[38;5;241m.\u001b[39m_forward_pre_hooks\n\u001b[0;32m   1745\u001b[0m         \u001b[38;5;129;01mor\u001b[39;00m _global_backward_pre_hooks \u001b[38;5;129;01mor\u001b[39;00m _global_backward_hooks\n\u001b[0;32m   1746\u001b[0m         \u001b[38;5;129;01mor\u001b[39;00m _global_forward_hooks \u001b[38;5;129;01mor\u001b[39;00m _global_forward_pre_hooks):\n\u001b[1;32m-> 1747\u001b[0m     \u001b[38;5;28;01mreturn\u001b[39;00m forward_call(\u001b[38;5;241m*\u001b[39margs, \u001b[38;5;241m*\u001b[39m\u001b[38;5;241m*\u001b[39mkwargs)\n\u001b[0;32m   1749\u001b[0m result \u001b[38;5;241m=\u001b[39m \u001b[38;5;28;01mNone\u001b[39;00m\n\u001b[0;32m   1750\u001b[0m called_always_called_hooks \u001b[38;5;241m=\u001b[39m \u001b[38;5;28mset\u001b[39m()\n",
      "File \u001b[1;32mc:\\Users\\ismael.gallo\\Desktop\\ia_thermal\\ismaelgallo\\architectures\\convlstm.py:170\u001b[0m, in \u001b[0;36mConvLSTM.forward\u001b[1;34m(self, input_tensor, hidden_state)\u001b[0m\n\u001b[0;32m    168\u001b[0m output_inner \u001b[38;5;241m=\u001b[39m []\n\u001b[0;32m    169\u001b[0m \u001b[38;5;28;01mfor\u001b[39;00m t \u001b[38;5;129;01min\u001b[39;00m \u001b[38;5;28mrange\u001b[39m(seq_len):\n\u001b[1;32m--> 170\u001b[0m     h, c \u001b[38;5;241m=\u001b[39m \u001b[38;5;28;43mself\u001b[39;49m\u001b[38;5;241;43m.\u001b[39;49m\u001b[43mcell_list\u001b[49m\u001b[43m[\u001b[49m\u001b[43mlayer_idx\u001b[49m\u001b[43m]\u001b[49m\u001b[43m(\u001b[49m\u001b[43minput_tensor\u001b[49m\u001b[38;5;241;43m=\u001b[39;49m\u001b[43mcur_layer_input\u001b[49m\u001b[43m[\u001b[49m\u001b[43m:\u001b[49m\u001b[43m,\u001b[49m\u001b[43m \u001b[49m\u001b[43mt\u001b[49m\u001b[43m,\u001b[49m\u001b[43m \u001b[49m\u001b[43m:\u001b[49m\u001b[43m,\u001b[49m\u001b[43m \u001b[49m\u001b[43m:\u001b[49m\u001b[43m,\u001b[49m\u001b[43m \u001b[49m\u001b[43m:\u001b[49m\u001b[43m]\u001b[49m\u001b[43m,\u001b[49m\n\u001b[0;32m    171\u001b[0m \u001b[43m                                     \u001b[49m\u001b[43mcur_state\u001b[49m\u001b[38;5;241;43m=\u001b[39;49m\u001b[43m[\u001b[49m\u001b[43mh\u001b[49m\u001b[43m,\u001b[49m\u001b[43m \u001b[49m\u001b[43mc\u001b[49m\u001b[43m]\u001b[49m\u001b[43m)\u001b[49m\n\u001b[0;32m    172\u001b[0m     output_inner\u001b[38;5;241m.\u001b[39mappend(h)\n\u001b[0;32m    174\u001b[0m layer_output \u001b[38;5;241m=\u001b[39m torch\u001b[38;5;241m.\u001b[39mstack(output_inner, dim\u001b[38;5;241m=\u001b[39m\u001b[38;5;241m1\u001b[39m)\n",
      "File \u001b[1;32mc:\\Users\\ismael.gallo\\anaconda3\\envs\\ismael_minimal\\lib\\site-packages\\torch\\nn\\modules\\module.py:1736\u001b[0m, in \u001b[0;36mModule._wrapped_call_impl\u001b[1;34m(self, *args, **kwargs)\u001b[0m\n\u001b[0;32m   1734\u001b[0m     \u001b[38;5;28;01mreturn\u001b[39;00m \u001b[38;5;28mself\u001b[39m\u001b[38;5;241m.\u001b[39m_compiled_call_impl(\u001b[38;5;241m*\u001b[39margs, \u001b[38;5;241m*\u001b[39m\u001b[38;5;241m*\u001b[39mkwargs)  \u001b[38;5;66;03m# type: ignore[misc]\u001b[39;00m\n\u001b[0;32m   1735\u001b[0m \u001b[38;5;28;01melse\u001b[39;00m:\n\u001b[1;32m-> 1736\u001b[0m     \u001b[38;5;28;01mreturn\u001b[39;00m \u001b[38;5;28mself\u001b[39m\u001b[38;5;241m.\u001b[39m_call_impl(\u001b[38;5;241m*\u001b[39margs, \u001b[38;5;241m*\u001b[39m\u001b[38;5;241m*\u001b[39mkwargs)\n",
      "File \u001b[1;32mc:\\Users\\ismael.gallo\\anaconda3\\envs\\ismael_minimal\\lib\\site-packages\\torch\\nn\\modules\\module.py:1747\u001b[0m, in \u001b[0;36mModule._call_impl\u001b[1;34m(self, *args, **kwargs)\u001b[0m\n\u001b[0;32m   1742\u001b[0m \u001b[38;5;66;03m# If we don't have any hooks, we want to skip the rest of the logic in\u001b[39;00m\n\u001b[0;32m   1743\u001b[0m \u001b[38;5;66;03m# this function, and just call forward.\u001b[39;00m\n\u001b[0;32m   1744\u001b[0m \u001b[38;5;28;01mif\u001b[39;00m \u001b[38;5;129;01mnot\u001b[39;00m (\u001b[38;5;28mself\u001b[39m\u001b[38;5;241m.\u001b[39m_backward_hooks \u001b[38;5;129;01mor\u001b[39;00m \u001b[38;5;28mself\u001b[39m\u001b[38;5;241m.\u001b[39m_backward_pre_hooks \u001b[38;5;129;01mor\u001b[39;00m \u001b[38;5;28mself\u001b[39m\u001b[38;5;241m.\u001b[39m_forward_hooks \u001b[38;5;129;01mor\u001b[39;00m \u001b[38;5;28mself\u001b[39m\u001b[38;5;241m.\u001b[39m_forward_pre_hooks\n\u001b[0;32m   1745\u001b[0m         \u001b[38;5;129;01mor\u001b[39;00m _global_backward_pre_hooks \u001b[38;5;129;01mor\u001b[39;00m _global_backward_hooks\n\u001b[0;32m   1746\u001b[0m         \u001b[38;5;129;01mor\u001b[39;00m _global_forward_hooks \u001b[38;5;129;01mor\u001b[39;00m _global_forward_pre_hooks):\n\u001b[1;32m-> 1747\u001b[0m     \u001b[38;5;28;01mreturn\u001b[39;00m forward_call(\u001b[38;5;241m*\u001b[39margs, \u001b[38;5;241m*\u001b[39m\u001b[38;5;241m*\u001b[39mkwargs)\n\u001b[0;32m   1749\u001b[0m result \u001b[38;5;241m=\u001b[39m \u001b[38;5;28;01mNone\u001b[39;00m\n\u001b[0;32m   1750\u001b[0m called_always_called_hooks \u001b[38;5;241m=\u001b[39m \u001b[38;5;28mset\u001b[39m()\n",
      "File \u001b[1;32mc:\\Users\\ismael.gallo\\Desktop\\ia_thermal\\ismaelgallo\\architectures\\convlstm.py:61\u001b[0m, in \u001b[0;36mConvLSTMCell.forward\u001b[1;34m(self, input_tensor, cur_state)\u001b[0m\n\u001b[0;32m     58\u001b[0m o \u001b[38;5;241m=\u001b[39m torch\u001b[38;5;241m.\u001b[39msigmoid(cc_o)\n\u001b[0;32m     59\u001b[0m g \u001b[38;5;241m=\u001b[39m torch\u001b[38;5;241m.\u001b[39mtanh(cc_g)\n\u001b[1;32m---> 61\u001b[0m c_next \u001b[38;5;241m=\u001b[39m f \u001b[38;5;241m*\u001b[39m c_cur \u001b[38;5;241m+\u001b[39m \u001b[43mi\u001b[49m\u001b[43m \u001b[49m\u001b[38;5;241;43m*\u001b[39;49m\u001b[43m \u001b[49m\u001b[43mg\u001b[49m\n\u001b[0;32m     62\u001b[0m h_next \u001b[38;5;241m=\u001b[39m o \u001b[38;5;241m*\u001b[39m torch\u001b[38;5;241m.\u001b[39mtanh(c_next)\n\u001b[0;32m     64\u001b[0m \u001b[38;5;28;01mreturn\u001b[39;00m h_next, c_next\n",
      "\u001b[1;31mOutOfMemoryError\u001b[0m: CUDA out of memory. Tried to allocate 20.00 MiB. GPU 0 has a total capacity of 2.00 GiB of which 0 bytes is free. Of the allocated memory 8.84 GiB is allocated by PyTorch, and 330.56 MiB is reserved by PyTorch but unallocated. If reserved but unallocated memory is large try setting PYTORCH_CUDA_ALLOC_CONF=expandable_segments:True to avoid fragmentation.  See documentation for Memory Management  (https://pytorch.org/docs/stable/notes/cuda.html#environment-variables)"
     ]
    }
   ],
   "source": [
    "# --- Bucle de entrenamiento desde start_epoch ---\n",
    "elapsed_minutes = elapsed_previous \n",
    "start_time_training = time.time() - (elapsed_previous * 60)\n",
    "\n",
    "for epoch in range(start_epoch, epochs):\n",
    "    model.train()\n",
    "    total_loss = 0.0\n",
    "    start_time_epoch = time.time()\n",
    "\n",
    "    # Entrenamiento\n",
    "    for x, y in tqdm(train_loader, desc=f\"Epoch {epoch+1}/{epochs} - Training\", leave=False):\n",
    "\n",
    "        optimizer.zero_grad()\n",
    "        y_hat = model(x)\n",
    "\n",
    "        loss = criterion(y_hat, y)\n",
    "        loss.backward()\n",
    "        optimizer.step()\n",
    "        total_loss += loss.detach().item()\n",
    "\n",
    "    epoch_train_loss = total_loss / len(train_loader)\n",
    "    train_loss.append(epoch_train_loss)\n",
    "\n",
    "    # Validación\n",
    "    model.eval()\n",
    "    total_val_loss = 0.0\n",
    "    with torch.no_grad():\n",
    "        for x_val, y_val in val_loader:\n",
    "            y_pred = model(x_val)\n",
    "            val = criterion(y_pred, y_val)\n",
    "            total_val_loss += val.item()\n",
    "\n",
    "    epoch_val_loss = total_val_loss / len(val_loader)\n",
    "    val_loss.append(epoch_val_loss)\n",
    "\n",
    "    # Scheduler update\n",
    "    scheduler.step(epoch_val_loss)\n",
    "\n",
    "    # Early stopping check\n",
    "    elapsed_training = time.time() - start_time_training\n",
    "    elapsed_minutes = elapsed_training / 60\n",
    "    current_lr = optimizer.param_groups[0]['lr']\n",
    "    if epoch_val_loss < best_val_loss:\n",
    "        best_val_loss = epoch_val_loss\n",
    "\n",
    "        # Guardar el modelo\n",
    "        torch.save(model.state_dict(), model_path)\n",
    "\n",
    "\n",
    "\n",
    "        # Guardar hiperparámetros en JSON\n",
    "        params = {\n",
    "            'start_datetime': start_datetime,\n",
    "            'training_duration_minutes': elapsed_minutes,\n",
    "            \"system_specs\": system_specs,\n",
    "            'hidden_dims': hidden_dims,\n",
    "            'kernel_size': kernel_string,\n",
    "            'batch_size': batch_size,\n",
    "            'lr': lr,\n",
    "            \"scheduler\":{\n",
    "                \"type\": \"ReduceLROnPlateau\",\n",
    "                \"factor\": lrdecay,\n",
    "                \"patience\": lrdecay_patience,\n",
    "                \"final_lr\": current_lr\n",
    "            },\n",
    "            'early_stop_patience': early_stop_patience,\n",
    "            'epochs_trained': epoch + 1,\n",
    "            'best_val_loss': best_val_loss,\n",
    "            \"train_loss\": list(map(float, train_loss)),\n",
    "            \"val_loss\": list(map(float, val_loss)),\n",
    "        }\n",
    "\n",
    "        with open(json_path, 'w') as f:\n",
    "            json.dump(params, f, indent=4)\n",
    "\n",
    "        # print(f\"✓ Saving model (epoch {epoch+1}) | val_loss improved to {best_val_loss:.6f}\")\n",
    "        epochs_without_improvement = 0\n",
    "    else:\n",
    "        epochs_without_improvement += 1\n",
    "        # print(f\"No improvement for {epochs_without_improvement} epoch(s)\")\n",
    "\n",
    "    if epochs_without_improvement >= early_stop_patience:\n",
    "        print(f\"⚠️ Early stopping at epoch {epoch+1} — no improvement for {early_stop_patience} epochs.\")\n",
    "        break\n",
    "\n",
    "    # Estadísticas finales de la época\n",
    "    elapsed_epoch = time.time() - start_time_epoch\n",
    "    # print(f\"Epoch {epoch+1:3d} | Train Loss: {epoch_train_loss:.6f} | Val Loss: {epoch_val_loss:.6f} | Time: {elapsed_epoch:.2f}s\")\n",
    "\n",
    "print(f\"Entrenamiento finalizado en {elapsed_minutes:.2f} minutos.\")"
   ]
  },
  {
   "cell_type": "code",
   "execution_count": null,
   "id": "2ebce970",
   "metadata": {},
   "outputs": [
    {
     "data": {
      "image/png": "[encoded data removed]",
      "text/plain": [
       "<Figure size 640x480 with 1 Axes>"
      ]
     },
     "metadata": {},
     "output_type": "display_data"
    }
   ],
   "source": [
    "plot_loss_evolution(train_loss, val_loss)"
   ]
  },
  {
   "cell_type": "markdown",
   "id": "8017cb82",
   "metadata": {},
   "source": [
    "### Testing"
   ]
  },
  {
   "cell_type": "code",
   "execution_count": null,
   "id": "0fa23a12",
   "metadata": {},
   "outputs": [
    {
     "name": "stdout",
     "output_type": "stream",
     "text": [
      "Val Loss: 0.001536\n"
     ]
    },
    {
     "name": "stderr",
     "output_type": "stream",
     "text": [
      "C:\\Users\\ismael.gallo\\AppData\\Local\\Temp\\ipykernel_16836\\549347826.py:3: FutureWarning: You are using `torch.load` with `weights_only=False` (the current default value), which uses the default pickle module implicitly. It is possible to construct malicious pickle data which will execute arbitrary code during unpickling (See https://github.com/pytorch/pytorch/blob/main/SECURITY.md#untrusted-models for more details). In a future release, the default value for `weights_only` will be flipped to `True`. This limits the functions that could be executed during unpickling. Arbitrary objects will no longer be allowed to be loaded via this mode unless they are explicitly allowlisted by the user via `torch.serialization.add_safe_globals`. We recommend you start setting `weights_only=True` for any use case where you don't have full control of the loaded file. Please open an issue on GitHub for any issues related to this experimental feature.\n",
      "  model.load_state_dict(torch.load(model_path))\n"
     ]
    }
   ],
   "source": [
    "# load the best model\n",
    "model = PCB_ConvLSTM(input_channels=4, hidden_dims=hidden_dims, kernel_size=kernel_size, height=13, width=13).to(device)\n",
    "model.load_state_dict(torch.load(model_path))\n",
    "model.eval()\n",
    "\n",
    "# Use a batch from val_loader for evaluation\n",
    "x_val, y_val = next(iter(val_loader))\n",
    "\n",
    "with torch.no_grad():\n",
    "    y_pred = model(x_val)  # (B, T, 1, H, W)\n",
    "    val_loss = criterion(y_pred, y_val)\n",
    "    print(f\"Val Loss: {val_loss.item():.6f}\")"
   ]
  },
  {
   "cell_type": "markdown",
   "id": "de8be719",
   "metadata": {},
   "source": [
    "### Analyzing results"
   ]
  },
  {
   "cell_type": "code",
   "execution_count": null,
   "id": "14f4f818",
   "metadata": {},
   "outputs": [
    {
     "name": "stderr",
     "output_type": "stream",
     "text": [
      "C:\\Users\\ismael.gallo\\AppData\\Local\\Temp\\ipykernel_16836\\2543941541.py:2: FutureWarning: You are using `torch.load` with `weights_only=False` (the current default value), which uses the default pickle module implicitly. It is possible to construct malicious pickle data which will execute arbitrary code during unpickling (See https://github.com/pytorch/pytorch/blob/main/SECURITY.md#untrusted-models for more details). In a future release, the default value for `weights_only` will be flipped to `True`. This limits the functions that could be executed during unpickling. Arbitrary objects will no longer be allowed to be loaded via this mode unless they are explicitly allowlisted by the user via `torch.serialization.add_safe_globals`. We recommend you start setting `weights_only=True` for any use case where you don't have full control of the loaded file. Please open an issue on GitHub for any issues related to this experimental feature.\n",
      "  model.load_state_dict(torch.load(model_path))\n"
     ]
    },
    {
     "data": {
      "text/plain": [
       "PCB_ConvLSTM(\n",
       "  (convlstm): ConvLSTM(\n",
       "    (cell_list): ModuleList(\n",
       "      (0): ConvLSTMCell(\n",
       "        (conv): Conv2d(104, 400, kernel_size=(3, 3), stride=(1, 1), padding=(1, 1))\n",
       "      )\n",
       "    )\n",
       "  )\n",
       "  (decoder): Conv2d(100, 1, kernel_size=(1, 1), stride=(1, 1))\n",
       ")"
      ]
     },
     "execution_count": 18,
     "metadata": {},
     "output_type": "execute_result"
    }
   ],
   "source": [
    "model = PCB_ConvLSTM(input_channels=4, hidden_dims=hidden_dims, kernel_size=kernel_size, height=13, width=13).to(device)\n",
    "model.load_state_dict(torch.load(model_path))\n",
    "model.eval()"
   ]
  },
  {
   "cell_type": "markdown",
   "id": "63c0c125",
   "metadata": {},
   "source": [
    "We are going to plot the temperature evolution in the four nodes corresponding with the heaters"
   ]
  },
  {
   "cell_type": "code",
   "execution_count": null,
   "id": "f151a8d5",
   "metadata": {},
   "outputs": [],
   "source": [
    "id_heaters = [(6,3), (3,6), (9,3), (9,9)]\n",
    "id_random = [(2,2), (4,4), (8,8), (10,10)]"
   ]
  },
  {
   "cell_type": "markdown",
   "id": "7c3b1ca2",
   "metadata": {},
   "source": [
    "Boundary conditions"
   ]
  },
  {
   "cell_type": "code",
   "execution_count": null,
   "id": "cf1e18ab",
   "metadata": {},
   "outputs": [],
   "source": [
    "Q_heaters = np.array([1.0, 1.0, 1.0, 1.0])\n",
    "T_interfaces = np.array([290, 290, 290, 290])\n",
    "T_env = 250"
   ]
  },
  {
   "cell_type": "markdown",
   "id": "0e45ebb8",
   "metadata": {},
   "source": [
    "Actual values"
   ]
  },
  {
   "cell_type": "code",
   "execution_count": null,
   "id": "ca6e322e",
   "metadata": {},
   "outputs": [],
   "source": [
    "T, _, _, _ = PCB_case_2(solver = 'transient', display=False, time = time_sim, dt = dt, T_init = T_init, Q_heaters = Q_heaters, T_interfaces = T_interfaces, Tenv = T_env) # heaters in default position\n",
    "T = T.reshape(T.shape[0], nodes_side, nodes_side) # reshaping the data grid-shape"
   ]
  },
  {
   "cell_type": "markdown",
   "id": "31ad14d8",
   "metadata": {},
   "source": [
    "Predicted values"
   ]
  },
  {
   "cell_type": "code",
   "execution_count": null,
   "id": "63c63a2f",
   "metadata": {},
   "outputs": [
    {
     "name": "stdout",
     "output_type": "stream",
     "text": [
      "Input tensor shape: torch.Size([1, 11, 4, 13, 13])\n"
     ]
    },
    {
     "name": "stderr",
     "output_type": "stream",
     "text": [
      "c:\\Users\\ismael.gallo\\Desktop\\ia_thermal\\ismaelgallo\\Dataset_Class_convlstm.py:149: UserWarning: To copy construct from a tensor, it is recommended to use sourceTensor.clone().detach() or sourceTensor.clone().detach().requires_grad_(True), rather than torch.tensor(sourceTensor).\n",
      "  T_seq = torch.tensor(T_seq, dtype=torch.float32)\n"
     ]
    }
   ],
   "source": [
    "T_tensor = torch.tensor(T, dtype=torch.float32).to(device)  # (T, H, W)\n",
    "\n",
    "input_tensor = dataset.create_input_from_values(Q_heaters, T_interfaces, T_env, T_tensor, sequence_length=sequence_length)\n",
    "\n",
    "output = model(input_tensor)\n",
    "output_denorm = dataset.denormalize_output(output)\n",
    "T_pred = output_denorm[0,:,0,:,:].cpu().detach().numpy()"
   ]
  },
  {
   "cell_type": "code",
   "execution_count": null,
   "id": "c6b65f91",
   "metadata": {},
   "outputs": [
    {
     "data": {
      "image/png": "[encoded data removed]",
      "text/plain": [
       "<Figure size 1200x600 with 1 Axes>"
      ]
     },
     "metadata": {},
     "output_type": "display_data"
    }
   ],
   "source": [
    "plot_nodes_evolution(T_pred, T, id_heaters, together=True)"
   ]
  }
 ],
 "metadata": {
  "kernelspec": {
   "display_name": "ismael_minimal",
   "language": "python",
   "name": "python3"
  },
  "language_info": {
   "codemirror_mode": {
    "name": "ipython",
    "version": 3
   },
   "file_extension": ".py",
   "mimetype": "text/x-python",
   "name": "python",
   "nbconvert_exporter": "python",
   "pygments_lexer": "ipython3",
   "version": "3.9.21"
  }
 },
 "nbformat": 4,
 "nbformat_minor": 5
}
