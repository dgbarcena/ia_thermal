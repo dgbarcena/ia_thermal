{
  "cells": [
    {
      "cell_type": "markdown",
      "id": "d47121a7",
      "metadata": {
        "id": "d47121a7"
      },
      "source": [
        "# Pruebas con Optuna"
      ]
    },
    {
      "cell_type": "markdown",
      "id": "27ae1c4f",
      "metadata": {
        "id": "27ae1c4f"
      },
      "source": [
        "### Colab"
      ]
    },
    {
      "cell_type": "code",
      "execution_count": 1,
      "id": "7569b95a",
      "metadata": {
        "colab": {
          "base_uri": "https://localhost:8080/"
        },
        "id": "7569b95a",
        "outputId": "1a8b397c-3d98-456b-fa91-698833755edb"
      },
      "outputs": [
        {
          "output_type": "stream",
          "name": "stdout",
          "text": [
            "Drive already mounted at /content/drive; to attempt to forcibly remount, call drive.mount(\"/content/drive\", force_remount=True).\n",
            "Modo: Colab\n",
            "Ruta datasets: /content/drive/MyDrive/ia_thermal_colab/datasets\n",
            "Ruta modelos: /content/drive/MyDrive/ia_thermal_colab/models\n"
          ]
        }
      ],
      "source": [
        "import os\n",
        "import sys\n",
        "import IPython\n",
        "\n",
        "# Detectar si estamos en Colab\n",
        "try:\n",
        "    import google.colab\n",
        "    IN_COLAB = True\n",
        "except ImportError:\n",
        "    IN_COLAB = False\n",
        "\n",
        "# Ruta base\n",
        "if IN_COLAB:\n",
        "    from google.colab import drive\n",
        "    drive.mount('/content/drive')\n",
        "    BASE_PATH = \"/content/drive/MyDrive/ia_thermal_colab\"\n",
        "else:\n",
        "    BASE_PATH = os.path.expanduser(\"~/ia_thermal_colab\")\n",
        "\n",
        "DATASETS_PATH = os.path.join(BASE_PATH, \"datasets\")\n",
        "MODELS_PATH = os.path.join(BASE_PATH, \"models\")\n",
        "\n",
        "os.makedirs(DATASETS_PATH, exist_ok=True)\n",
        "os.makedirs(MODELS_PATH, exist_ok=True)\n",
        "\n",
        "print(\"Modo:\", \"Colab\" if IN_COLAB else \"Local\")\n",
        "print(\"Ruta datasets:\", DATASETS_PATH)\n",
        "print(\"Ruta modelos:\", MODELS_PATH)"
      ]
    },
    {
      "cell_type": "code",
      "execution_count": 2,
      "id": "de808483",
      "metadata": {
        "colab": {
          "base_uri": "https://localhost:8080/",
          "height": 1000
        },
        "id": "de808483",
        "outputId": "c2582acf-227b-4b27-f20a-7f0b33a22541"
      },
      "outputs": [
        {
          "output_type": "stream",
          "name": "stdout",
          "text": [
            "Repositorio ya clonado en: /content/drive/MyDrive/ia_thermal_colab/ia_thermal\n",
            "Requirement already satisfied: torch==2.5.1 in /usr/local/lib/python3.11/dist-packages (from -r /content/drive/MyDrive/ia_thermal_colab/ia_thermal/requirements.txt (line 2)) (2.5.1+cu124)\n",
            "Requirement already satisfied: torchvision==0.20.1 in /usr/local/lib/python3.11/dist-packages (from -r /content/drive/MyDrive/ia_thermal_colab/ia_thermal/requirements.txt (line 3)) (0.20.1+cu124)\n",
            "Requirement already satisfied: torchaudio==2.5.1 in /usr/local/lib/python3.11/dist-packages (from -r /content/drive/MyDrive/ia_thermal_colab/ia_thermal/requirements.txt (line 4)) (2.5.1+cu124)\n",
            "Requirement already satisfied: numpy in /usr/local/lib/python3.11/dist-packages (from -r /content/drive/MyDrive/ia_thermal_colab/ia_thermal/requirements.txt (line 7)) (1.26.4)\n",
            "Requirement already satisfied: pandas in /usr/local/lib/python3.11/dist-packages (from -r /content/drive/MyDrive/ia_thermal_colab/ia_thermal/requirements.txt (line 8)) (2.2.2)\n",
            "Requirement already satisfied: scikit-learn in /usr/local/lib/python3.11/dist-packages (from -r /content/drive/MyDrive/ia_thermal_colab/ia_thermal/requirements.txt (line 9)) (1.6.1)\n",
            "Requirement already satisfied: matplotlib in /usr/local/lib/python3.11/dist-packages (from -r /content/drive/MyDrive/ia_thermal_colab/ia_thermal/requirements.txt (line 10)) (3.10.0)\n",
            "Requirement already satisfied: seaborn in /usr/local/lib/python3.11/dist-packages (from -r /content/drive/MyDrive/ia_thermal_colab/ia_thermal/requirements.txt (line 11)) (0.13.2)\n",
            "Requirement already satisfied: tqdm in /usr/local/lib/python3.11/dist-packages (from -r /content/drive/MyDrive/ia_thermal_colab/ia_thermal/requirements.txt (line 14)) (4.67.1)\n",
            "Requirement already satisfied: joblib in /usr/local/lib/python3.11/dist-packages (from -r /content/drive/MyDrive/ia_thermal_colab/ia_thermal/requirements.txt (line 15)) (1.4.2)\n",
            "Requirement already satisfied: ipykernel in /usr/local/lib/python3.11/dist-packages (from -r /content/drive/MyDrive/ia_thermal_colab/ia_thermal/requirements.txt (line 18)) (6.17.1)\n",
            "Requirement already satisfied: ipywidgets in /usr/local/lib/python3.11/dist-packages (from -r /content/drive/MyDrive/ia_thermal_colab/ia_thermal/requirements.txt (line 19)) (7.7.1)\n",
            "Requirement already satisfied: jupyterlab in /usr/local/lib/python3.11/dist-packages (from -r /content/drive/MyDrive/ia_thermal_colab/ia_thermal/requirements.txt (line 20)) (4.4.1)\n",
            "Requirement already satisfied: notebook in /usr/local/lib/python3.11/dist-packages (from -r /content/drive/MyDrive/ia_thermal_colab/ia_thermal/requirements.txt (line 21)) (6.5.5)\n",
            "Requirement already satisfied: nbconvert in /usr/local/lib/python3.11/dist-packages (from -r /content/drive/MyDrive/ia_thermal_colab/ia_thermal/requirements.txt (line 22)) (7.16.6)\n",
            "Requirement already satisfied: sympy in /usr/local/lib/python3.11/dist-packages (from -r /content/drive/MyDrive/ia_thermal_colab/ia_thermal/requirements.txt (line 25)) (1.13.1)\n",
            "Requirement already satisfied: pyyaml in /usr/local/lib/python3.11/dist-packages (from -r /content/drive/MyDrive/ia_thermal_colab/ia_thermal/requirements.txt (line 26)) (6.0.2)\n",
            "Requirement already satisfied: optuna in /usr/local/lib/python3.11/dist-packages (from -r /content/drive/MyDrive/ia_thermal_colab/ia_thermal/requirements.txt (line 27)) (4.3.0)\n",
            "Requirement already satisfied: filelock in /usr/local/lib/python3.11/dist-packages (from torch==2.5.1->-r /content/drive/MyDrive/ia_thermal_colab/ia_thermal/requirements.txt (line 2)) (3.17.0)\n",
            "Requirement already satisfied: typing-extensions>=4.8.0 in /usr/local/lib/python3.11/dist-packages (from torch==2.5.1->-r /content/drive/MyDrive/ia_thermal_colab/ia_thermal/requirements.txt (line 2)) (4.12.2)\n",
            "Requirement already satisfied: networkx in /usr/local/lib/python3.11/dist-packages (from torch==2.5.1->-r /content/drive/MyDrive/ia_thermal_colab/ia_thermal/requirements.txt (line 2)) (3.4.2)\n",
            "Requirement already satisfied: jinja2 in /usr/local/lib/python3.11/dist-packages (from torch==2.5.1->-r /content/drive/MyDrive/ia_thermal_colab/ia_thermal/requirements.txt (line 2)) (3.1.5)\n",
            "Requirement already satisfied: fsspec in /usr/local/lib/python3.11/dist-packages (from torch==2.5.1->-r /content/drive/MyDrive/ia_thermal_colab/ia_thermal/requirements.txt (line 2)) (2024.10.0)\n",
            "Requirement already satisfied: nvidia-cuda-nvrtc-cu12==12.4.127 in /usr/local/lib/python3.11/dist-packages (from torch==2.5.1->-r /content/drive/MyDrive/ia_thermal_colab/ia_thermal/requirements.txt (line 2)) (12.4.127)\n",
            "Requirement already satisfied: nvidia-cuda-runtime-cu12==12.4.127 in /usr/local/lib/python3.11/dist-packages (from torch==2.5.1->-r /content/drive/MyDrive/ia_thermal_colab/ia_thermal/requirements.txt (line 2)) (12.4.127)\n",
            "Requirement already satisfied: nvidia-cuda-cupti-cu12==12.4.127 in /usr/local/lib/python3.11/dist-packages (from torch==2.5.1->-r /content/drive/MyDrive/ia_thermal_colab/ia_thermal/requirements.txt (line 2)) (12.4.127)\n",
            "Requirement already satisfied: nvidia-cudnn-cu12==9.1.0.70 in /usr/local/lib/python3.11/dist-packages (from torch==2.5.1->-r /content/drive/MyDrive/ia_thermal_colab/ia_thermal/requirements.txt (line 2)) (9.1.0.70)\n",
            "Requirement already satisfied: nvidia-cublas-cu12==12.4.5.8 in /usr/local/lib/python3.11/dist-packages (from torch==2.5.1->-r /content/drive/MyDrive/ia_thermal_colab/ia_thermal/requirements.txt (line 2)) (12.4.5.8)\n",
            "Requirement already satisfied: nvidia-cufft-cu12==11.2.1.3 in /usr/local/lib/python3.11/dist-packages (from torch==2.5.1->-r /content/drive/MyDrive/ia_thermal_colab/ia_thermal/requirements.txt (line 2)) (11.2.1.3)\n",
            "Requirement already satisfied: nvidia-curand-cu12==10.3.5.147 in /usr/local/lib/python3.11/dist-packages (from torch==2.5.1->-r /content/drive/MyDrive/ia_thermal_colab/ia_thermal/requirements.txt (line 2)) (10.3.5.147)\n",
            "Requirement already satisfied: nvidia-cusolver-cu12==11.6.1.9 in /usr/local/lib/python3.11/dist-packages (from torch==2.5.1->-r /content/drive/MyDrive/ia_thermal_colab/ia_thermal/requirements.txt (line 2)) (11.6.1.9)\n",
            "Requirement already satisfied: nvidia-cusparse-cu12==12.3.1.170 in /usr/local/lib/python3.11/dist-packages (from torch==2.5.1->-r /content/drive/MyDrive/ia_thermal_colab/ia_thermal/requirements.txt (line 2)) (12.3.1.170)\n",
            "Requirement already satisfied: nvidia-nccl-cu12==2.21.5 in /usr/local/lib/python3.11/dist-packages (from torch==2.5.1->-r /content/drive/MyDrive/ia_thermal_colab/ia_thermal/requirements.txt (line 2)) (2.21.5)\n",
            "Requirement already satisfied: nvidia-nvtx-cu12==12.4.127 in /usr/local/lib/python3.11/dist-packages (from torch==2.5.1->-r /content/drive/MyDrive/ia_thermal_colab/ia_thermal/requirements.txt (line 2)) (12.4.127)\n",
            "Requirement already satisfied: nvidia-nvjitlink-cu12==12.4.127 in /usr/local/lib/python3.11/dist-packages (from torch==2.5.1->-r /content/drive/MyDrive/ia_thermal_colab/ia_thermal/requirements.txt (line 2)) (12.4.127)\n",
            "Requirement already satisfied: triton==3.1.0 in /usr/local/lib/python3.11/dist-packages (from torch==2.5.1->-r /content/drive/MyDrive/ia_thermal_colab/ia_thermal/requirements.txt (line 2)) (3.1.0)\n",
            "Requirement already satisfied: pillow!=8.3.*,>=5.3.0 in /usr/local/lib/python3.11/dist-packages (from torchvision==0.20.1->-r /content/drive/MyDrive/ia_thermal_colab/ia_thermal/requirements.txt (line 3)) (11.1.0)\n",
            "Requirement already satisfied: mpmath<1.4,>=1.1.0 in /usr/local/lib/python3.11/dist-packages (from sympy->-r /content/drive/MyDrive/ia_thermal_colab/ia_thermal/requirements.txt (line 25)) (1.3.0)\n",
            "Requirement already satisfied: python-dateutil>=2.8.2 in /usr/local/lib/python3.11/dist-packages (from pandas->-r /content/drive/MyDrive/ia_thermal_colab/ia_thermal/requirements.txt (line 8)) (2.8.2)\n",
            "Requirement already satisfied: pytz>=2020.1 in /usr/local/lib/python3.11/dist-packages (from pandas->-r /content/drive/MyDrive/ia_thermal_colab/ia_thermal/requirements.txt (line 8)) (2025.1)\n",
            "Requirement already satisfied: tzdata>=2022.7 in /usr/local/lib/python3.11/dist-packages (from pandas->-r /content/drive/MyDrive/ia_thermal_colab/ia_thermal/requirements.txt (line 8)) (2025.1)\n",
            "Requirement already satisfied: scipy>=1.6.0 in /usr/local/lib/python3.11/dist-packages (from scikit-learn->-r /content/drive/MyDrive/ia_thermal_colab/ia_thermal/requirements.txt (line 9)) (1.13.1)\n",
            "Requirement already satisfied: threadpoolctl>=3.1.0 in /usr/local/lib/python3.11/dist-packages (from scikit-learn->-r /content/drive/MyDrive/ia_thermal_colab/ia_thermal/requirements.txt (line 9)) (3.5.0)\n",
            "Requirement already satisfied: contourpy>=1.0.1 in /usr/local/lib/python3.11/dist-packages (from matplotlib->-r /content/drive/MyDrive/ia_thermal_colab/ia_thermal/requirements.txt (line 10)) (1.3.1)\n",
            "Requirement already satisfied: cycler>=0.10 in /usr/local/lib/python3.11/dist-packages (from matplotlib->-r /content/drive/MyDrive/ia_thermal_colab/ia_thermal/requirements.txt (line 10)) (0.12.1)\n",
            "Requirement already satisfied: fonttools>=4.22.0 in /usr/local/lib/python3.11/dist-packages (from matplotlib->-r /content/drive/MyDrive/ia_thermal_colab/ia_thermal/requirements.txt (line 10)) (4.56.0)\n",
            "Requirement already satisfied: kiwisolver>=1.3.1 in /usr/local/lib/python3.11/dist-packages (from matplotlib->-r /content/drive/MyDrive/ia_thermal_colab/ia_thermal/requirements.txt (line 10)) (1.4.8)\n",
            "Requirement already satisfied: packaging>=20.0 in /usr/local/lib/python3.11/dist-packages (from matplotlib->-r /content/drive/MyDrive/ia_thermal_colab/ia_thermal/requirements.txt (line 10)) (24.2)\n",
            "Requirement already satisfied: pyparsing>=2.3.1 in /usr/local/lib/python3.11/dist-packages (from matplotlib->-r /content/drive/MyDrive/ia_thermal_colab/ia_thermal/requirements.txt (line 10)) (3.2.1)\n",
            "Requirement already satisfied: debugpy>=1.0 in /usr/local/lib/python3.11/dist-packages (from ipykernel->-r /content/drive/MyDrive/ia_thermal_colab/ia_thermal/requirements.txt (line 18)) (1.8.0)\n",
            "Requirement already satisfied: ipython>=7.23.1 in /usr/local/lib/python3.11/dist-packages (from ipykernel->-r /content/drive/MyDrive/ia_thermal_colab/ia_thermal/requirements.txt (line 18)) (7.34.0)\n",
            "Requirement already satisfied: jupyter-client>=6.1.12 in /usr/local/lib/python3.11/dist-packages (from ipykernel->-r /content/drive/MyDrive/ia_thermal_colab/ia_thermal/requirements.txt (line 18)) (7.4.9)\n",
            "Requirement already satisfied: matplotlib-inline>=0.1 in /usr/local/lib/python3.11/dist-packages (from ipykernel->-r /content/drive/MyDrive/ia_thermal_colab/ia_thermal/requirements.txt (line 18)) (0.1.7)\n",
            "Requirement already satisfied: nest-asyncio in /usr/local/lib/python3.11/dist-packages (from ipykernel->-r /content/drive/MyDrive/ia_thermal_colab/ia_thermal/requirements.txt (line 18)) (1.6.0)\n",
            "Requirement already satisfied: psutil in /usr/local/lib/python3.11/dist-packages (from ipykernel->-r /content/drive/MyDrive/ia_thermal_colab/ia_thermal/requirements.txt (line 18)) (5.9.5)\n",
            "Requirement already satisfied: pyzmq>=17 in /usr/local/lib/python3.11/dist-packages (from ipykernel->-r /content/drive/MyDrive/ia_thermal_colab/ia_thermal/requirements.txt (line 18)) (24.0.1)\n",
            "Requirement already satisfied: tornado>=6.1 in /usr/local/lib/python3.11/dist-packages (from ipykernel->-r /content/drive/MyDrive/ia_thermal_colab/ia_thermal/requirements.txt (line 18)) (6.4.2)\n",
            "Requirement already satisfied: traitlets>=5.1.0 in /usr/local/lib/python3.11/dist-packages (from ipykernel->-r /content/drive/MyDrive/ia_thermal_colab/ia_thermal/requirements.txt (line 18)) (5.7.1)\n",
            "Requirement already satisfied: ipython-genutils~=0.2.0 in /usr/local/lib/python3.11/dist-packages (from ipywidgets->-r /content/drive/MyDrive/ia_thermal_colab/ia_thermal/requirements.txt (line 19)) (0.2.0)\n",
            "Requirement already satisfied: widgetsnbextension~=3.6.0 in /usr/local/lib/python3.11/dist-packages (from ipywidgets->-r /content/drive/MyDrive/ia_thermal_colab/ia_thermal/requirements.txt (line 19)) (3.6.10)\n",
            "Requirement already satisfied: jupyterlab-widgets>=1.0.0 in /usr/local/lib/python3.11/dist-packages (from ipywidgets->-r /content/drive/MyDrive/ia_thermal_colab/ia_thermal/requirements.txt (line 19)) (3.0.13)\n",
            "Requirement already satisfied: async-lru>=1.0.0 in /usr/local/lib/python3.11/dist-packages (from jupyterlab->-r /content/drive/MyDrive/ia_thermal_colab/ia_thermal/requirements.txt (line 20)) (2.0.5)\n",
            "Requirement already satisfied: httpx>=0.25.0 in /usr/local/lib/python3.11/dist-packages (from jupyterlab->-r /content/drive/MyDrive/ia_thermal_colab/ia_thermal/requirements.txt (line 20)) (0.28.1)\n",
            "Requirement already satisfied: jupyter-core in /usr/local/lib/python3.11/dist-packages (from jupyterlab->-r /content/drive/MyDrive/ia_thermal_colab/ia_thermal/requirements.txt (line 20)) (5.7.2)\n",
            "Requirement already satisfied: jupyter-lsp>=2.0.0 in /usr/local/lib/python3.11/dist-packages (from jupyterlab->-r /content/drive/MyDrive/ia_thermal_colab/ia_thermal/requirements.txt (line 20)) (2.2.5)\n",
            "Requirement already satisfied: jupyter-server<3,>=2.4.0 in /usr/local/lib/python3.11/dist-packages (from jupyterlab->-r /content/drive/MyDrive/ia_thermal_colab/ia_thermal/requirements.txt (line 20)) (2.15.0)\n",
            "Requirement already satisfied: jupyterlab-server<3,>=2.27.1 in /usr/local/lib/python3.11/dist-packages (from jupyterlab->-r /content/drive/MyDrive/ia_thermal_colab/ia_thermal/requirements.txt (line 20)) (2.27.3)\n",
            "Requirement already satisfied: notebook-shim>=0.2 in /usr/local/lib/python3.11/dist-packages (from jupyterlab->-r /content/drive/MyDrive/ia_thermal_colab/ia_thermal/requirements.txt (line 20)) (0.2.4)\n",
            "Requirement already satisfied: setuptools>=41.1.0 in /usr/local/lib/python3.11/dist-packages (from jupyterlab->-r /content/drive/MyDrive/ia_thermal_colab/ia_thermal/requirements.txt (line 20)) (75.1.0)\n",
            "Requirement already satisfied: argon2-cffi in /usr/local/lib/python3.11/dist-packages (from notebook->-r /content/drive/MyDrive/ia_thermal_colab/ia_thermal/requirements.txt (line 21)) (23.1.0)\n",
            "Requirement already satisfied: nbformat in /usr/local/lib/python3.11/dist-packages (from notebook->-r /content/drive/MyDrive/ia_thermal_colab/ia_thermal/requirements.txt (line 21)) (5.10.4)\n",
            "Requirement already satisfied: Send2Trash>=1.8.0 in /usr/local/lib/python3.11/dist-packages (from notebook->-r /content/drive/MyDrive/ia_thermal_colab/ia_thermal/requirements.txt (line 21)) (1.8.3)\n",
            "Requirement already satisfied: terminado>=0.8.3 in /usr/local/lib/python3.11/dist-packages (from notebook->-r /content/drive/MyDrive/ia_thermal_colab/ia_thermal/requirements.txt (line 21)) (0.18.1)\n",
            "Requirement already satisfied: prometheus-client in /usr/local/lib/python3.11/dist-packages (from notebook->-r /content/drive/MyDrive/ia_thermal_colab/ia_thermal/requirements.txt (line 21)) (0.21.1)\n",
            "Requirement already satisfied: nbclassic>=0.4.7 in /usr/local/lib/python3.11/dist-packages (from notebook->-r /content/drive/MyDrive/ia_thermal_colab/ia_thermal/requirements.txt (line 21)) (1.2.0)\n",
            "Requirement already satisfied: beautifulsoup4 in /usr/local/lib/python3.11/dist-packages (from nbconvert->-r /content/drive/MyDrive/ia_thermal_colab/ia_thermal/requirements.txt (line 22)) (4.13.3)\n",
            "Requirement already satisfied: bleach!=5.0.0 in /usr/local/lib/python3.11/dist-packages (from bleach[css]!=5.0.0->nbconvert->-r /content/drive/MyDrive/ia_thermal_colab/ia_thermal/requirements.txt (line 22)) (6.2.0)\n",
            "Requirement already satisfied: defusedxml in /usr/local/lib/python3.11/dist-packages (from nbconvert->-r /content/drive/MyDrive/ia_thermal_colab/ia_thermal/requirements.txt (line 22)) (0.7.1)\n",
            "Requirement already satisfied: jupyterlab-pygments in /usr/local/lib/python3.11/dist-packages (from nbconvert->-r /content/drive/MyDrive/ia_thermal_colab/ia_thermal/requirements.txt (line 22)) (0.3.0)\n",
            "Requirement already satisfied: markupsafe>=2.0 in /usr/local/lib/python3.11/dist-packages (from nbconvert->-r /content/drive/MyDrive/ia_thermal_colab/ia_thermal/requirements.txt (line 22)) (3.0.2)\n",
            "Requirement already satisfied: mistune<4,>=2.0.3 in /usr/local/lib/python3.11/dist-packages (from nbconvert->-r /content/drive/MyDrive/ia_thermal_colab/ia_thermal/requirements.txt (line 22)) (3.1.2)\n",
            "Requirement already satisfied: nbclient>=0.5.0 in /usr/local/lib/python3.11/dist-packages (from nbconvert->-r /content/drive/MyDrive/ia_thermal_colab/ia_thermal/requirements.txt (line 22)) (0.10.2)\n",
            "Requirement already satisfied: pandocfilters>=1.4.1 in /usr/local/lib/python3.11/dist-packages (from nbconvert->-r /content/drive/MyDrive/ia_thermal_colab/ia_thermal/requirements.txt (line 22)) (1.5.1)\n",
            "Requirement already satisfied: pygments>=2.4.1 in /usr/local/lib/python3.11/dist-packages (from nbconvert->-r /content/drive/MyDrive/ia_thermal_colab/ia_thermal/requirements.txt (line 22)) (2.18.0)\n",
            "Requirement already satisfied: alembic>=1.5.0 in /usr/local/lib/python3.11/dist-packages (from optuna->-r /content/drive/MyDrive/ia_thermal_colab/ia_thermal/requirements.txt (line 27)) (1.15.2)\n",
            "Requirement already satisfied: colorlog in /usr/local/lib/python3.11/dist-packages (from optuna->-r /content/drive/MyDrive/ia_thermal_colab/ia_thermal/requirements.txt (line 27)) (6.9.0)\n",
            "Requirement already satisfied: sqlalchemy>=1.4.2 in /usr/local/lib/python3.11/dist-packages (from optuna->-r /content/drive/MyDrive/ia_thermal_colab/ia_thermal/requirements.txt (line 27)) (2.0.38)\n",
            "Requirement already satisfied: Mako in /usr/local/lib/python3.11/dist-packages (from alembic>=1.5.0->optuna->-r /content/drive/MyDrive/ia_thermal_colab/ia_thermal/requirements.txt (line 27)) (1.3.10)\n",
            "Requirement already satisfied: webencodings in /usr/local/lib/python3.11/dist-packages (from bleach!=5.0.0->bleach[css]!=5.0.0->nbconvert->-r /content/drive/MyDrive/ia_thermal_colab/ia_thermal/requirements.txt (line 22)) (0.5.1)\n",
            "Requirement already satisfied: tinycss2<1.5,>=1.1.0 in /usr/local/lib/python3.11/dist-packages (from bleach[css]!=5.0.0->nbconvert->-r /content/drive/MyDrive/ia_thermal_colab/ia_thermal/requirements.txt (line 22)) (1.4.0)\n",
            "Requirement already satisfied: anyio in /usr/local/lib/python3.11/dist-packages (from httpx>=0.25.0->jupyterlab->-r /content/drive/MyDrive/ia_thermal_colab/ia_thermal/requirements.txt (line 20)) (3.7.1)\n",
            "Requirement already satisfied: certifi in /usr/local/lib/python3.11/dist-packages (from httpx>=0.25.0->jupyterlab->-r /content/drive/MyDrive/ia_thermal_colab/ia_thermal/requirements.txt (line 20)) (2025.1.31)\n",
            "Requirement already satisfied: httpcore==1.* in /usr/local/lib/python3.11/dist-packages (from httpx>=0.25.0->jupyterlab->-r /content/drive/MyDrive/ia_thermal_colab/ia_thermal/requirements.txt (line 20)) (1.0.7)\n",
            "Requirement already satisfied: idna in /usr/local/lib/python3.11/dist-packages (from httpx>=0.25.0->jupyterlab->-r /content/drive/MyDrive/ia_thermal_colab/ia_thermal/requirements.txt (line 20)) (3.10)\n",
            "Requirement already satisfied: h11<0.15,>=0.13 in /usr/local/lib/python3.11/dist-packages (from httpcore==1.*->httpx>=0.25.0->jupyterlab->-r /content/drive/MyDrive/ia_thermal_colab/ia_thermal/requirements.txt (line 20)) (0.14.0)\n",
            "Requirement already satisfied: jedi>=0.16 in /usr/local/lib/python3.11/dist-packages (from ipython>=7.23.1->ipykernel->-r /content/drive/MyDrive/ia_thermal_colab/ia_thermal/requirements.txt (line 18)) (0.19.2)\n",
            "Requirement already satisfied: decorator in /usr/local/lib/python3.11/dist-packages (from ipython>=7.23.1->ipykernel->-r /content/drive/MyDrive/ia_thermal_colab/ia_thermal/requirements.txt (line 18)) (4.4.2)\n",
            "Requirement already satisfied: pickleshare in /usr/local/lib/python3.11/dist-packages (from ipython>=7.23.1->ipykernel->-r /content/drive/MyDrive/ia_thermal_colab/ia_thermal/requirements.txt (line 18)) (0.7.5)\n",
            "Requirement already satisfied: prompt-toolkit!=3.0.0,!=3.0.1,<3.1.0,>=2.0.0 in /usr/local/lib/python3.11/dist-packages (from ipython>=7.23.1->ipykernel->-r /content/drive/MyDrive/ia_thermal_colab/ia_thermal/requirements.txt (line 18)) (3.0.50)\n",
            "Requirement already satisfied: backcall in /usr/local/lib/python3.11/dist-packages (from ipython>=7.23.1->ipykernel->-r /content/drive/MyDrive/ia_thermal_colab/ia_thermal/requirements.txt (line 18)) (0.2.0)\n",
            "Requirement already satisfied: pexpect>4.3 in /usr/local/lib/python3.11/dist-packages (from ipython>=7.23.1->ipykernel->-r /content/drive/MyDrive/ia_thermal_colab/ia_thermal/requirements.txt (line 18)) (4.9.0)\n",
            "Requirement already satisfied: entrypoints in /usr/local/lib/python3.11/dist-packages (from jupyter-client>=6.1.12->ipykernel->-r /content/drive/MyDrive/ia_thermal_colab/ia_thermal/requirements.txt (line 18)) (0.4)\n",
            "Requirement already satisfied: platformdirs>=2.5 in /usr/local/lib/python3.11/dist-packages (from jupyter-core->jupyterlab->-r /content/drive/MyDrive/ia_thermal_colab/ia_thermal/requirements.txt (line 20)) (4.3.6)\n",
            "Requirement already satisfied: jupyter-events>=0.11.0 in /usr/local/lib/python3.11/dist-packages (from jupyter-server<3,>=2.4.0->jupyterlab->-r /content/drive/MyDrive/ia_thermal_colab/ia_thermal/requirements.txt (line 20)) (0.12.0)\n",
            "Requirement already satisfied: jupyter-server-terminals>=0.4.4 in /usr/local/lib/python3.11/dist-packages (from jupyter-server<3,>=2.4.0->jupyterlab->-r /content/drive/MyDrive/ia_thermal_colab/ia_thermal/requirements.txt (line 20)) (0.5.3)\n",
            "Requirement already satisfied: overrides>=5.0 in /usr/local/lib/python3.11/dist-packages (from jupyter-server<3,>=2.4.0->jupyterlab->-r /content/drive/MyDrive/ia_thermal_colab/ia_thermal/requirements.txt (line 20)) (7.7.0)\n",
            "Requirement already satisfied: websocket-client>=1.7 in /usr/local/lib/python3.11/dist-packages (from jupyter-server<3,>=2.4.0->jupyterlab->-r /content/drive/MyDrive/ia_thermal_colab/ia_thermal/requirements.txt (line 20)) (1.8.0)\n",
            "Requirement already satisfied: argon2-cffi-bindings in /usr/local/lib/python3.11/dist-packages (from argon2-cffi->notebook->-r /content/drive/MyDrive/ia_thermal_colab/ia_thermal/requirements.txt (line 21)) (21.2.0)\n",
            "Requirement already satisfied: babel>=2.10 in /usr/local/lib/python3.11/dist-packages (from jupyterlab-server<3,>=2.27.1->jupyterlab->-r /content/drive/MyDrive/ia_thermal_colab/ia_thermal/requirements.txt (line 20)) (2.17.0)\n",
            "Requirement already satisfied: json5>=0.9.0 in /usr/local/lib/python3.11/dist-packages (from jupyterlab-server<3,>=2.27.1->jupyterlab->-r /content/drive/MyDrive/ia_thermal_colab/ia_thermal/requirements.txt (line 20)) (0.12.0)\n",
            "Requirement already satisfied: jsonschema>=4.18.0 in /usr/local/lib/python3.11/dist-packages (from jupyterlab-server<3,>=2.27.1->jupyterlab->-r /content/drive/MyDrive/ia_thermal_colab/ia_thermal/requirements.txt (line 20)) (4.23.0)\n",
            "Requirement already satisfied: requests>=2.31 in /usr/local/lib/python3.11/dist-packages (from jupyterlab-server<3,>=2.27.1->jupyterlab->-r /content/drive/MyDrive/ia_thermal_colab/ia_thermal/requirements.txt (line 20)) (2.32.3)\n",
            "Requirement already satisfied: fastjsonschema>=2.15 in /usr/local/lib/python3.11/dist-packages (from nbformat->notebook->-r /content/drive/MyDrive/ia_thermal_colab/ia_thermal/requirements.txt (line 21)) (2.21.1)\n",
            "Requirement already satisfied: six>=1.5 in /usr/local/lib/python3.11/dist-packages (from python-dateutil>=2.8.2->pandas->-r /content/drive/MyDrive/ia_thermal_colab/ia_thermal/requirements.txt (line 8)) (1.17.0)\n",
            "Requirement already satisfied: greenlet!=0.4.17 in /usr/local/lib/python3.11/dist-packages (from sqlalchemy>=1.4.2->optuna->-r /content/drive/MyDrive/ia_thermal_colab/ia_thermal/requirements.txt (line 27)) (3.1.1)\n",
            "Requirement already satisfied: ptyprocess in /usr/local/lib/python3.11/dist-packages (from terminado>=0.8.3->notebook->-r /content/drive/MyDrive/ia_thermal_colab/ia_thermal/requirements.txt (line 21)) (0.7.0)\n",
            "Requirement already satisfied: soupsieve>1.2 in /usr/local/lib/python3.11/dist-packages (from beautifulsoup4->nbconvert->-r /content/drive/MyDrive/ia_thermal_colab/ia_thermal/requirements.txt (line 22)) (2.6)\n",
            "Requirement already satisfied: sniffio>=1.1 in /usr/local/lib/python3.11/dist-packages (from anyio->httpx>=0.25.0->jupyterlab->-r /content/drive/MyDrive/ia_thermal_colab/ia_thermal/requirements.txt (line 20)) (1.3.1)\n",
            "Requirement already satisfied: parso<0.9.0,>=0.8.4 in /usr/local/lib/python3.11/dist-packages (from jedi>=0.16->ipython>=7.23.1->ipykernel->-r /content/drive/MyDrive/ia_thermal_colab/ia_thermal/requirements.txt (line 18)) (0.8.4)\n",
            "Requirement already satisfied: attrs>=22.2.0 in /usr/local/lib/python3.11/dist-packages (from jsonschema>=4.18.0->jupyterlab-server<3,>=2.27.1->jupyterlab->-r /content/drive/MyDrive/ia_thermal_colab/ia_thermal/requirements.txt (line 20)) (25.1.0)\n",
            "Requirement already satisfied: jsonschema-specifications>=2023.03.6 in /usr/local/lib/python3.11/dist-packages (from jsonschema>=4.18.0->jupyterlab-server<3,>=2.27.1->jupyterlab->-r /content/drive/MyDrive/ia_thermal_colab/ia_thermal/requirements.txt (line 20)) (2024.10.1)\n",
            "Requirement already satisfied: referencing>=0.28.4 in /usr/local/lib/python3.11/dist-packages (from jsonschema>=4.18.0->jupyterlab-server<3,>=2.27.1->jupyterlab->-r /content/drive/MyDrive/ia_thermal_colab/ia_thermal/requirements.txt (line 20)) (0.36.2)\n",
            "Requirement already satisfied: rpds-py>=0.7.1 in /usr/local/lib/python3.11/dist-packages (from jsonschema>=4.18.0->jupyterlab-server<3,>=2.27.1->jupyterlab->-r /content/drive/MyDrive/ia_thermal_colab/ia_thermal/requirements.txt (line 20)) (0.23.1)\n",
            "Requirement already satisfied: python-json-logger>=2.0.4 in /usr/local/lib/python3.11/dist-packages (from jupyter-events>=0.11.0->jupyter-server<3,>=2.4.0->jupyterlab->-r /content/drive/MyDrive/ia_thermal_colab/ia_thermal/requirements.txt (line 20)) (3.3.0)\n",
            "Requirement already satisfied: rfc3339-validator in /usr/local/lib/python3.11/dist-packages (from jupyter-events>=0.11.0->jupyter-server<3,>=2.4.0->jupyterlab->-r /content/drive/MyDrive/ia_thermal_colab/ia_thermal/requirements.txt (line 20)) (0.1.4)\n",
            "Requirement already satisfied: rfc3986-validator>=0.1.1 in /usr/local/lib/python3.11/dist-packages (from jupyter-events>=0.11.0->jupyter-server<3,>=2.4.0->jupyterlab->-r /content/drive/MyDrive/ia_thermal_colab/ia_thermal/requirements.txt (line 20)) (0.1.1)\n",
            "Requirement already satisfied: wcwidth in /usr/local/lib/python3.11/dist-packages (from prompt-toolkit!=3.0.0,!=3.0.1,<3.1.0,>=2.0.0->ipython>=7.23.1->ipykernel->-r /content/drive/MyDrive/ia_thermal_colab/ia_thermal/requirements.txt (line 18)) (0.2.13)\n",
            "Requirement already satisfied: charset-normalizer<4,>=2 in /usr/local/lib/python3.11/dist-packages (from requests>=2.31->jupyterlab-server<3,>=2.27.1->jupyterlab->-r /content/drive/MyDrive/ia_thermal_colab/ia_thermal/requirements.txt (line 20)) (3.4.1)\n",
            "Requirement already satisfied: urllib3<3,>=1.21.1 in /usr/local/lib/python3.11/dist-packages (from requests>=2.31->jupyterlab-server<3,>=2.27.1->jupyterlab->-r /content/drive/MyDrive/ia_thermal_colab/ia_thermal/requirements.txt (line 20)) (2.3.0)\n",
            "Requirement already satisfied: cffi>=1.0.1 in /usr/local/lib/python3.11/dist-packages (from argon2-cffi-bindings->argon2-cffi->notebook->-r /content/drive/MyDrive/ia_thermal_colab/ia_thermal/requirements.txt (line 21)) (1.17.1)\n",
            "Requirement already satisfied: pycparser in /usr/local/lib/python3.11/dist-packages (from cffi>=1.0.1->argon2-cffi-bindings->argon2-cffi->notebook->-r /content/drive/MyDrive/ia_thermal_colab/ia_thermal/requirements.txt (line 21)) (2.22)\n",
            "Requirement already satisfied: fqdn in /usr/local/lib/python3.11/dist-packages (from jsonschema[format-nongpl]>=4.18.0->jupyter-events>=0.11.0->jupyter-server<3,>=2.4.0->jupyterlab->-r /content/drive/MyDrive/ia_thermal_colab/ia_thermal/requirements.txt (line 20)) (1.5.1)\n",
            "Requirement already satisfied: isoduration in /usr/local/lib/python3.11/dist-packages (from jsonschema[format-nongpl]>=4.18.0->jupyter-events>=0.11.0->jupyter-server<3,>=2.4.0->jupyterlab->-r /content/drive/MyDrive/ia_thermal_colab/ia_thermal/requirements.txt (line 20)) (20.11.0)\n",
            "Requirement already satisfied: jsonpointer>1.13 in /usr/local/lib/python3.11/dist-packages (from jsonschema[format-nongpl]>=4.18.0->jupyter-events>=0.11.0->jupyter-server<3,>=2.4.0->jupyterlab->-r /content/drive/MyDrive/ia_thermal_colab/ia_thermal/requirements.txt (line 20)) (3.0.0)\n",
            "Requirement already satisfied: uri-template in /usr/local/lib/python3.11/dist-packages (from jsonschema[format-nongpl]>=4.18.0->jupyter-events>=0.11.0->jupyter-server<3,>=2.4.0->jupyterlab->-r /content/drive/MyDrive/ia_thermal_colab/ia_thermal/requirements.txt (line 20)) (1.3.0)\n",
            "Requirement already satisfied: webcolors>=24.6.0 in /usr/local/lib/python3.11/dist-packages (from jsonschema[format-nongpl]>=4.18.0->jupyter-events>=0.11.0->jupyter-server<3,>=2.4.0->jupyterlab->-r /content/drive/MyDrive/ia_thermal_colab/ia_thermal/requirements.txt (line 20)) (24.11.1)\n",
            "Requirement already satisfied: arrow>=0.15.0 in /usr/local/lib/python3.11/dist-packages (from isoduration->jsonschema[format-nongpl]>=4.18.0->jupyter-events>=0.11.0->jupyter-server<3,>=2.4.0->jupyterlab->-r /content/drive/MyDrive/ia_thermal_colab/ia_thermal/requirements.txt (line 20)) (1.3.0)\n",
            "Requirement already satisfied: types-python-dateutil>=2.8.10 in /usr/local/lib/python3.11/dist-packages (from arrow>=0.15.0->isoduration->jsonschema[format-nongpl]>=4.18.0->jupyter-events>=0.11.0->jupyter-server<3,>=2.4.0->jupyterlab->-r /content/drive/MyDrive/ia_thermal_colab/ia_thermal/requirements.txt (line 20)) (2.9.0.20241206)\n",
            "🔄 Reinicia el entorno para aplicar los cambios...\n"
          ]
        },
        {
          "output_type": "display_data",
          "data": {
            "text/plain": [
              "<IPython.core.display.Javascript object>"
            ],
            "application/javascript": [
              "google.colab.restartRuntime()"
            ]
          },
          "metadata": {}
        }
      ],
      "source": [
        "# 🔄 Parámetros del repo\n",
        "GIT_REPO_URL = \"https://github.com/ismaelgallolopez/ia_thermal.git\"  # 👈 Cambia esto\n",
        "REPO_NAME = GIT_REPO_URL.split(\"/\")[-1].replace(\".git\", \"\")\n",
        "CLONE_PATH = os.path.join(BASE_PATH, REPO_NAME)\n",
        "\n",
        "if IN_COLAB:\n",
        "    # 🧬 Clonar el repositorio si no existe ya\n",
        "    if not os.path.exists(CLONE_PATH):\n",
        "        !git clone {GIT_REPO_URL} {CLONE_PATH}\n",
        "    else:\n",
        "        print(f\"Repositorio ya clonado en: {CLONE_PATH}\")\n",
        "\n",
        "    # 📦 Instalar requirements.txt\n",
        "    req_path = os.path.join(CLONE_PATH, \"requirements.txt\")\n",
        "    if os.path.exists(req_path):\n",
        "        !pip install -r {req_path}\n",
        "    else:\n",
        "        print(\"No se encontró requirements.txt en el repositorio.\")\n",
        "\n",
        "    print(\"🔄 Reinicia el entorno para aplicar los cambios...\")\n",
        "    IPython.display.display(IPython.display.Javascript('''google.colab.restartRuntime()'''))"
      ]
    },
    {
      "cell_type": "markdown",
      "id": "7da63d97",
      "metadata": {
        "id": "7da63d97"
      },
      "source": [
        "## Inicializar"
      ]
    },
    {
      "cell_type": "code",
      "execution_count": 3,
      "id": "4160dabe",
      "metadata": {
        "id": "4160dabe",
        "outputId": "e7d1f6f7-cabd-48b5-d020-ecc4ea38b561",
        "colab": {
          "base_uri": "https://localhost:8080/"
        }
      },
      "outputs": [
        {
          "output_type": "stream",
          "name": "stdout",
          "text": [
            "Ruta que usará SQLite: sqlite:////content/drive/MyDrive/ia_thermal_colab/optuna_studies/test_study.db\n"
          ]
        }
      ],
      "source": [
        "import optuna\n",
        "import torch\n",
        "import torch.nn as nn\n",
        "import torch.optim as optim\n",
        "from torch.optim.lr_scheduler import ReduceLROnPlateau\n",
        "from torch.utils.data import DataLoader, TensorDataset\n",
        "\n",
        "device = torch.device(\"cuda\" if torch.cuda.is_available() else \"cpu\")\n",
        "\n",
        "# get the directory path of the file\n",
        "dir_path = os.getcwd()\n",
        "\n",
        "sys.path.append(os.path.abspath(os.path.join(os.getcwd(), '..')))\n",
        "\n",
        "if IN_COLAB:\n",
        "  sys.path.append(\"/content/drive/MyDrive/ia_thermal_colab/ia_thermal\")\n",
        "\n",
        "from plot_functions import *\n",
        "from Physics_Loss import *\n",
        "from utils import *\n",
        "sys.path.append('../Convolutional_NN')\n",
        "\n",
        "if IN_COLAB:\n",
        "  sys.path.append(\"/content/drive/MyDrive/ia_thermal_colab/ia_thermal/Convolutional_NN\")\n",
        "\n",
        "from Dataset_Class import *\n",
        "\n",
        "\n",
        "if IN_COLAB:\n",
        "  sys.path.append(\"/content/drive/MyDrive/ia_thermal_colab/ia_thermal/ismaelgallo\")\n",
        "\n",
        "from architectures.convlstm import *\n",
        "from architectures.generic_spatiotemporal_decoder import *\n",
        "from architectures.generic_spatiotemporal_regressor import *\n",
        "\n",
        "from pathlib import Path\n",
        "\n",
        "# Ruta absoluta y segura dentro de Drive\n",
        "study_path = Path(\"/content/drive/MyDrive/ia_thermal_colab/optuna_studies\")\n",
        "study_path.mkdir(parents=True, exist_ok=True)\n",
        "\n",
        "db_path = study_path / \"test_study.db\"\n",
        "storage_url = f\"sqlite:///{db_path}\"\n",
        "\n",
        "print(\"Ruta que usará SQLite:\", storage_url)"
      ]
    },
    {
      "cell_type": "code",
      "source": [
        "# def objective(trial):\n",
        "#     x = trial.suggest_float(\"x\", -10, 10)\n",
        "#     return x ** 2\n",
        "\n",
        "# study = optuna.create_study(\n",
        "#     direction=\"minimize\",\n",
        "#     storage=storage_url,\n",
        "#     study_name=\"test_study\",\n",
        "#     load_if_exists=True\n",
        "# )\n",
        "\n",
        "# study.optimize(objective, n_trials=1)\n"
      ],
      "metadata": {
        "id": "HIICVI3PGJV5",
        "outputId": "ba16dc3b-88ed-4bb4-ec52-d5a65055ab7b",
        "colab": {
          "base_uri": "https://localhost:8080/"
        }
      },
      "id": "HIICVI3PGJV5",
      "execution_count": 4,
      "outputs": [
        {
          "output_type": "stream",
          "name": "stderr",
          "text": [
            "[I 2025-05-06 10:31:21,153] Using an existing study with name 'test_study' instead of creating a new one.\n",
            "[I 2025-05-06 10:31:21,278] Trial 1 finished with value: 98.62342595122406 and parameters: {'x': -9.930932783541738}. Best is trial 0 with value: 1.1495727484701421.\n"
          ]
        }
      ]
    },
    {
      "cell_type": "code",
      "source": [
        "# print(\"✅ ¿Existe el archivo?\", db_path.exists())\n"
      ],
      "metadata": {
        "id": "kbsWVc7LGMU5",
        "outputId": "bb560d97-f48a-4fc6-bee8-fdd3f766e4f3",
        "colab": {
          "base_uri": "https://localhost:8080/"
        }
      },
      "id": "kbsWVc7LGMU5",
      "execution_count": 5,
      "outputs": [
        {
          "output_type": "stream",
          "name": "stdout",
          "text": [
            "✅ ¿Existe el archivo? True\n"
          ]
        }
      ]
    },
    {
      "cell_type": "code",
      "execution_count": 6,
      "id": "a69e9ffd",
      "metadata": {
        "id": "a69e9ffd"
      },
      "outputs": [],
      "source": [
        "epochs = 10\n",
        "n_train = 1000\n",
        "n_val = 200\n",
        "\n",
        "sequence_length = 20"
      ]
    },
    {
      "cell_type": "code",
      "execution_count": 7,
      "id": "e679264a",
      "metadata": {
        "colab": {
          "base_uri": "https://localhost:8080/"
        },
        "id": "e679264a",
        "outputId": "5a2dc75f-7978-44fa-a803-caf3e63500b1"
      },
      "outputs": [
        {
          "output_type": "stream",
          "name": "stdout",
          "text": [
            "✅ Cargando dataset train desde: /content/drive/MyDrive/ia_thermal_colab/datasets/PCB_transient_dataset_train.pth\n"
          ]
        },
        {
          "output_type": "stream",
          "name": "stderr",
          "text": [
            "/content/drive/MyDrive/ia_thermal_colab/ia_thermal/Convolutional_NN/Dataset_Class.py:299: FutureWarning: You are using `torch.load` with `weights_only=False` (the current default value), which uses the default pickle module implicitly. It is possible to construct malicious pickle data which will execute arbitrary code during unpickling (See https://github.com/pytorch/pytorch/blob/main/SECURITY.md#untrusted-models for more details). In a future release, the default value for `weights_only` will be flipped to `True`. This limits the functions that could be executed during unpickling. Arbitrary objects will no longer be allowed to be loaded via this mode unless they are explicitly allowlisted by the user via `torch.serialization.add_safe_globals`. We recommend you start setting `weights_only=True` for any use case where you don't have full control of the loaded file. Please open an issue on GitHub for any issues related to this experimental feature.\n",
            "  base_dataset = torch.load(full_path)\n"
          ]
        },
        {
          "output_type": "stream",
          "name": "stdout",
          "text": [
            "✅ Cargando dataset val desde: /content/drive/MyDrive/ia_thermal_colab/datasets/PCB_transient_dataset_val.pth\n"
          ]
        }
      ],
      "source": [
        "if IN_COLAB:\n",
        "  dir_path = BASE_PATH\n",
        "\n",
        "# ⬅️ Esto se ejecuta una vez\n",
        "dataset_train = load_trimmed_dataset(\n",
        "    base_path=dir_path,\n",
        "    dataset_type='train',\n",
        "    max_samples=n_train,\n",
        "    time_steps_output=sequence_length\n",
        ")\n",
        "dataset_val = load_trimmed_dataset(\n",
        "    base_path=dir_path,\n",
        "    dataset_type='val',\n",
        "    max_samples=n_val,\n",
        "    time_steps_output=sequence_length\n",
        ")\n",
        "\n",
        "# Convertir a tensores de entrada y salida\n",
        "input_train, output_train = prepare_data_for_convlstm(dataset_train, device='cpu')\n",
        "input_val, output_val = prepare_data_for_convlstm(dataset_val, device='cpu')\n",
        "\n",
        "\n",
        "def get_data_loaders_from_tensors(batch_size):\n",
        "    train_loader = DataLoader(TensorDataset(input_train, output_train), batch_size=batch_size, shuffle=True)\n",
        "    val_loader = DataLoader(TensorDataset(input_val, output_val), batch_size=batch_size, shuffle=False)\n",
        "    return train_loader, val_loader"
      ]
    },
    {
      "cell_type": "markdown",
      "id": "dd475b6c",
      "metadata": {
        "id": "dd475b6c"
      },
      "source": [
        "## ConvLSTM"
      ]
    },
    {
      "cell_type": "code",
      "source": [
        "# print(\"Ruta completa del .db:\", storage_url.replace(\"sqlite:///\", \"\"))\n"
      ],
      "metadata": {
        "id": "cE5MyqliEwkB",
        "outputId": "a94b76c7-eee9-459a-cc2a-d33b1f2de039",
        "colab": {
          "base_uri": "https://localhost:8080/"
        }
      },
      "id": "cE5MyqliEwkB",
      "execution_count": 8,
      "outputs": [
        {
          "output_type": "stream",
          "name": "stdout",
          "text": [
            "Ruta completa del .db: /content/drive/MyDrive/ia_thermal_colab/optuna_studies/test_study.db\n"
          ]
        }
      ]
    },
    {
      "cell_type": "code",
      "source": [
        "# import os\n",
        "# print(\"¿Existe el archivo?:\", os.path.exists(storage_url.replace(\"sqlite:///\", \"\")))\n"
      ],
      "metadata": {
        "id": "bz1cW5TfE1p5",
        "outputId": "dddfb21b-e2b3-4c33-8da1-bab43ffa8529",
        "colab": {
          "base_uri": "https://localhost:8080/"
        }
      },
      "id": "bz1cW5TfE1p5",
      "execution_count": 9,
      "outputs": [
        {
          "output_type": "stream",
          "name": "stdout",
          "text": [
            "¿Existe el archivo?: True\n"
          ]
        }
      ]
    },
    {
      "cell_type": "code",
      "source": [
        "def objective(trial):\n",
        "    return trial.suggest_float(\"x\", -10, 10) ** 2\n",
        "\n",
        "study = optuna.create_study(\n",
        "    direction=\"minimize\",\n",
        "    storage=\"sqlite:////content/drive/MyDrive/ia_thermal_colab/optuna_studies/test_dummy.db\",\n",
        "    study_name=\"test_study\",\n",
        "    load_if_exists=True\n",
        ")\n",
        "study.optimize(objective, n_trials=1)\n",
        "\n",
        "import os\n",
        "print(os.path.exists(\"/content/drive/MyDrive/ia_thermal_colab/optuna_studies/test_dummy.db\"))\n"
      ],
      "metadata": {
        "id": "RSn6cDyuFJ75",
        "outputId": "3dec4060-472a-4fd0-f8ae-7e6a34ef31d3",
        "colab": {
          "base_uri": "https://localhost:8080/"
        }
      },
      "id": "RSn6cDyuFJ75",
      "execution_count": 10,
      "outputs": [
        {
          "output_type": "stream",
          "name": "stderr",
          "text": [
            "[I 2025-05-06 10:33:12,712] A new study created in RDB with name: test_study\n",
            "[I 2025-05-06 10:33:12,798] Trial 0 finished with value: 13.419880579613334 and parameters: {'x': 3.6633155173439995}. Best is trial 0 with value: 13.419880579613334.\n"
          ]
        },
        {
          "output_type": "stream",
          "name": "stdout",
          "text": [
            "True\n"
          ]
        }
      ]
    },
    {
      "cell_type": "code",
      "execution_count": 11,
      "id": "5c25d49d",
      "metadata": {
        "id": "5c25d49d"
      },
      "outputs": [],
      "source": [
        "class ConvLSTMWrapper(nn.Module):\n",
        "    def __init__(self, input_dim, hidden_dim, kernel_size, num_layers):\n",
        "        super().__init__()\n",
        "        self.model = ConvLSTM(\n",
        "            input_dim=input_dim,\n",
        "            hidden_dim=hidden_dim,\n",
        "            kernel_size=kernel_size,\n",
        "            num_layers=num_layers,\n",
        "            batch_first=True\n",
        "        )\n",
        "\n",
        "    def forward(self, x):  # x: [B, T, C, H, W]\n",
        "        output, _ = self.model(x)  # output is list of length T: each [B, C, H, W]\n",
        "        y_pred = torch.stack(output, dim=1)  # [B, T, C, H, W]\n",
        "        return y_pred\n"
      ]
    },
    {
      "cell_type": "code",
      "execution_count": 12,
      "id": "6764169f",
      "metadata": {
        "id": "6764169f"
      },
      "outputs": [],
      "source": [
        "def objective(trial):\n",
        "    # Hiperparámetros\n",
        "    lr = trial.suggest_float(\"lr\", 1e-4, 1e-2, log=True)\n",
        "    batch_size = trial.suggest_categorical(\"batch_size\", [8, 16, 32, 64])\n",
        "    hidden_dim_val = trial.suggest_categorical(\"hidden_dim\", [16, 32, 64, 128])\n",
        "    kernel_size_val = trial.suggest_categorical(\"kernel_size\", [1, 3, 5, 7])\n",
        "    num_layers = trial.suggest_int(\"num_layers\", 1, 4)\n",
        "\n",
        "    # Adaptar al formato requerido por ConvLSTM\n",
        "    hidden_dim = [hidden_dim_val] * num_layers\n",
        "    kernel_size = [(kernel_size_val, kernel_size_val)] * num_layers\n",
        "\n",
        "    # Crear modelo ConvLSTM\n",
        "    model = ConvLSTMWrapper(\n",
        "        input_dim=3,  # o el número de canales reales\n",
        "        hidden_dim=hidden_dim,\n",
        "        kernel_size=kernel_size,\n",
        "        num_layers=num_layers\n",
        "    ).to(device)\n",
        "\n",
        "    optimizer = torch.optim.Adam(model.parameters(), lr=lr)\n",
        "    scheduler = ReduceLROnPlateau(optimizer, mode='min', factor=0.5, patience=5)\n",
        "    criterion = torch.nn.MSELoss()\n",
        "\n",
        "    # Obtener dataloaders (train y val)\n",
        "    train_loader, val_loader = get_data_loaders_from_tensors(batch_size=batch_size)\n",
        "\n",
        "    best_val_loss = float('inf')\n",
        "    for epoch in range(epochs):\n",
        "        train_loss = train_one_epoch(model, train_loader, criterion, optimizer, device, epoch, epochs)\n",
        "        val_loss = evaluate(model, val_loader, criterion, device)\n",
        "        scheduler.step(val_loss)\n",
        "\n",
        "        if val_loss < best_val_loss:\n",
        "            best_val_loss = val_loss\n",
        "\n",
        "        trial.report(val_loss, epoch)\n",
        "        if trial.should_prune():\n",
        "            raise optuna.exceptions.TrialPruned()\n",
        "\n",
        "    return best_val_loss\n"
      ]
    },
    {
      "cell_type": "code",
      "execution_count": null,
      "id": "5a861fab",
      "metadata": {
        "colab": {
          "base_uri": "https://localhost:8080/"
        },
        "id": "5a861fab",
        "outputId": "582ac60b-47e1-4eba-abd3-63b1749faa14"
      },
      "outputs": [
        {
          "output_type": "stream",
          "name": "stderr",
          "text": [
            "[I 2025-05-06 10:33:13,022] A new study created in RDB with name: convlstm\n",
            "Epoch 1/10 - Training:   0%|          | 0/63 [00:00<?, ?it/s]/usr/local/lib/python3.11/dist-packages/torch/nn/modules/loss.py:608: UserWarning: Using a target size (torch.Size([16, 20, 1, 13, 13])) that is different to the input size (torch.Size([16, 1, 20, 32, 13, 13])). This will likely lead to incorrect results due to broadcasting. Please ensure they have the same size.\n",
            "  return F.mse_loss(input, target, reduction=self.reduction)\n",
            "Epoch 1/10 - Training:  98%|█████████▊| 62/63 [00:09<00:00,  6.92it/s, loss=0.119]/usr/local/lib/python3.11/dist-packages/torch/nn/modules/loss.py:608: UserWarning: Using a target size (torch.Size([8, 20, 1, 13, 13])) that is different to the input size (torch.Size([8, 1, 20, 32, 13, 13])). This will likely lead to incorrect results due to broadcasting. Please ensure they have the same size.\n",
            "  return F.mse_loss(input, target, reduction=self.reduction)\n",
            "[I 2025-05-06 10:34:59,428] Trial 0 finished with value: 0.08587641097032107 and parameters: {'lr': 0.0006550428184814576, 'batch_size': 16, 'hidden_dim': 32, 'kernel_size': 7, 'num_layers': 3}. Best is trial 0 with value: 0.08587641097032107.\n",
            "Epoch 1/10 - Training:   0%|          | 0/16 [00:00<?, ?it/s]/usr/local/lib/python3.11/dist-packages/torch/nn/modules/loss.py:608: UserWarning: Using a target size (torch.Size([64, 20, 1, 13, 13])) that is different to the input size (torch.Size([64, 1, 20, 16, 13, 13])). This will likely lead to incorrect results due to broadcasting. Please ensure they have the same size.\n",
            "  return F.mse_loss(input, target, reduction=self.reduction)\n",
            "Epoch 1/10 - Training:  94%|█████████▍| 15/16 [00:02<00:00,  6.30it/s, loss=0.243]/usr/local/lib/python3.11/dist-packages/torch/nn/modules/loss.py:608: UserWarning: Using a target size (torch.Size([40, 20, 1, 13, 13])) that is different to the input size (torch.Size([40, 1, 20, 16, 13, 13])). This will likely lead to incorrect results due to broadcasting. Please ensure they have the same size.\n",
            "  return F.mse_loss(input, target, reduction=self.reduction)\n",
            "/usr/local/lib/python3.11/dist-packages/torch/nn/modules/loss.py:608: UserWarning: Using a target size (torch.Size([8, 20, 1, 13, 13])) that is different to the input size (torch.Size([8, 1, 20, 16, 13, 13])). This will likely lead to incorrect results due to broadcasting. Please ensure they have the same size.\n",
            "  return F.mse_loss(input, target, reduction=self.reduction)\n",
            "[I 2025-05-06 10:35:26,036] Trial 1 finished with value: 0.1238414142280817 and parameters: {'lr': 0.00012035913981075988, 'batch_size': 64, 'hidden_dim': 16, 'kernel_size': 5, 'num_layers': 4}. Best is trial 0 with value: 0.08587641097032107.\n",
            "Epoch 1/10 - Training:   0%|          | 0/125 [00:00<?, ?it/s]/usr/local/lib/python3.11/dist-packages/torch/nn/modules/loss.py:608: UserWarning: Using a target size (torch.Size([8, 20, 1, 13, 13])) that is different to the input size (torch.Size([8, 1, 20, 128, 13, 13])). This will likely lead to incorrect results due to broadcasting. Please ensure they have the same size.\n",
            "  return F.mse_loss(input, target, reduction=self.reduction)\n",
            "Epoch 4/10 - Training:  19%|█▉        | 24/125 [00:02<00:08, 11.70it/s, loss=0.0864]"
          ]
        }
      ],
      "source": [
        "study = optuna.create_study(\n",
        "    direction=\"minimize\",\n",
        "    study_name=\"convlstm\",  # puedes elegirlo tú\n",
        "    storage=\"sqlite:///\" + os.path.join(study_path, \"study_convlstm.db\"),  # 🧠 crea archivo .db en tu carpeta\n",
        "    load_if_exists=True  # por si ya existe, continúa donde lo dejaste\n",
        ")\n",
        "\n",
        "study.optimize(objective, n_trials=10)"
      ]
    },
    {
      "cell_type": "code",
      "execution_count": null,
      "id": "358d1f45",
      "metadata": {
        "id": "358d1f45"
      },
      "outputs": [],
      "source": [
        "print(\"Best trial:\")\n",
        "for key, val in study.best_trial.params.items():\n",
        "    print(f\"{key}: {val}\")"
      ]
    },
    {
      "cell_type": "code",
      "execution_count": null,
      "id": "0e950fcd",
      "metadata": {
        "id": "0e950fcd"
      },
      "outputs": [],
      "source": [
        "optuna.visualization.plot_optimization_history(study).show()\n",
        "optuna.visualization.plot_param_importances(study).show()\n"
      ]
    },
    {
      "cell_type": "markdown",
      "id": "79656890",
      "metadata": {
        "id": "79656890"
      },
      "source": [
        "## Decoder"
      ]
    },
    {
      "cell_type": "code",
      "execution_count": null,
      "id": "5ac41ec4",
      "metadata": {
        "id": "5ac41ec4"
      },
      "outputs": [],
      "source": [
        "def objective(trial):\n",
        "    # Hiperparámetros estructurales\n",
        "    embedding_dim = trial.suggest_categorical(\"embedding_dim\", [64, 128, 256, 512])\n",
        "    num_layers = trial.suggest_int(\"num_layers\", 1, 6)\n",
        "    nhead = trial.suggest_categorical(\"nhead\", [1, 2, 4, 8])\n",
        "    dim_feedforward_factor = trial.suggest_int(\"dim_ff_factor\", 2, 6)\n",
        "    use_temporal_channel = trial.suggest_categorical(\"use_temporal_channel\", [False, True])\n",
        "\n",
        "    # Hiperparámetros de entrenamiento\n",
        "    batch_size = trial.suggest_categorical(\"batch_size\", [8, 16, 32])\n",
        "    lr = trial.suggest_float(\"lr\", 1e-4, 1e-2, log=True)\n",
        "    weight_decay = trial.suggest_float(\"weight_decay\", 1e-6, 1e-2, log=True)\n",
        "    dropout = trial.suggest_float(\"dropout\", 0.0, 0.3)\n",
        "\n",
        "    # Elegir optimizador\n",
        "    optimizer_name = trial.suggest_categorical(\"optimizer\", [\"Adam\", \"AdamW\", \"RMSprop\"])\n",
        "\n",
        "    # Dataloaders\n",
        "    train_loader, val_loader = get_data_loaders_from_tensors(batch_size)\n",
        "\n",
        "    # Modelo\n",
        "    class CustomTransformerDecoder(TransformerDecoder):\n",
        "        def __init__(self, embedding_dim, num_layers, nhead, dim_ff, dropout):\n",
        "            super().__init__(embedding_dim, num_layers, nhead)\n",
        "            encoder_layer = nn.TransformerEncoderLayer(\n",
        "                d_model=embedding_dim,\n",
        "                nhead=nhead,\n",
        "                dim_feedforward=dim_ff,\n",
        "                dropout=dropout,\n",
        "                batch_first=True\n",
        "            )\n",
        "            self.transformer = nn.TransformerEncoder(encoder_layer, num_layers=num_layers)\n",
        "\n",
        "    model = GenericSpatioTemporalDecoder(\n",
        "        embedding_dim=embedding_dim,\n",
        "        num_layers=num_layers,\n",
        "        nhead=nhead,\n",
        "        in_channels=3,\n",
        "        use_temporal_channel=use_temporal_channel\n",
        "    ).to(device)\n",
        "\n",
        "    # Reemplazar el decoder por uno con dropout y tamaño FF ajustado\n",
        "    model.temporal_decoder = CustomTransformerDecoder(\n",
        "        embedding_dim=embedding_dim,\n",
        "        num_layers=num_layers,\n",
        "        nhead=nhead,\n",
        "        dim_ff=embedding_dim * dim_feedforward_factor,\n",
        "        dropout=dropout\n",
        "    ).to(device)\n",
        "\n",
        "    # Optimizador\n",
        "    optimizer_cls = {\"Adam\": torch.optim.Adam, \"AdamW\": torch.optim.AdamW, \"RMSprop\": torch.optim.RMSprop}[optimizer_name]\n",
        "    optimizer = optimizer_cls(model.parameters(), lr=lr, weight_decay=weight_decay)\n",
        "\n",
        "    scheduler = torch.optim.lr_scheduler.ReduceLROnPlateau(optimizer, mode=\"min\", factor=0.5, patience=5)\n",
        "    criterion = torch.nn.MSELoss()\n",
        "\n",
        "    # Entrenamiento\n",
        "    best_val_loss = float(\"inf\")\n",
        "    for epoch in range(epochs):\n",
        "        train_loss = train_one_epoch(model, train_loader, criterion, optimizer, device, epoch, epochs)\n",
        "        val_loss = evaluate(model, val_loader, criterion, device)\n",
        "        scheduler.step(val_loss)\n",
        "\n",
        "        if val_loss < best_val_loss:\n",
        "            best_val_loss = val_loss\n",
        "\n",
        "        trial.report(val_loss, epoch)\n",
        "        if trial.should_prune():\n",
        "            raise optuna.exceptions.TrialPruned()\n",
        "\n",
        "    return best_val_loss\n"
      ]
    },
    {
      "cell_type": "code",
      "execution_count": null,
      "id": "e93468e3",
      "metadata": {
        "id": "e93468e3"
      },
      "outputs": [],
      "source": [
        "study = optuna.create_study(\n",
        "    direction=\"minimize\",\n",
        "    study_name=\"decoder1\",  # puedes elegirlo tú\n",
        "    storage=storage_url,  # 🧠 crea archivo .db en tu carpeta\n",
        "    load_if_exists=True  # por si ya existe, continúa donde lo dejaste\n",
        ")\n",
        "\n",
        "study.optimize(objective, n_trials=100)\n",
        "\n",
        "# Mostrar el mejor resultado\n",
        "print(\"🔍 Best trial:\")\n",
        "for k, v in study.best_trial.params.items():\n",
        "    print(f\"{k}: {v}\")\n"
      ]
    },
    {
      "cell_type": "code",
      "execution_count": null,
      "id": "3d69a161",
      "metadata": {
        "id": "3d69a161"
      },
      "outputs": [],
      "source": [
        "import optuna.visualization as vis\n",
        "\n",
        "vis.plot_optimization_history(study).show()\n",
        "vis.plot_param_importances(study).show()\n"
      ]
    },
    {
      "cell_type": "markdown",
      "id": "71120961",
      "metadata": {
        "id": "71120961"
      },
      "source": [
        "## Regressor"
      ]
    },
    {
      "cell_type": "code",
      "execution_count": null,
      "id": "fc94e0b3",
      "metadata": {
        "id": "fc94e0b3"
      },
      "outputs": [],
      "source": [
        "# Cargar los datos una sola vez\n",
        "dataset_train = load_trimmed_dataset(\n",
        "    base_path=dir_path, dataset_type='train',\n",
        "    max_samples=n_train, time_steps_output=sequence_length\n",
        ")\n",
        "dataset_val = load_trimmed_dataset(\n",
        "    base_path=dir_path, dataset_type='val',\n",
        "    max_samples=n_val, time_steps_output=sequence_length\n",
        ")\n",
        "\n",
        "x_train, y_train = prepare_data_for_convlstm(dataset_train, device='cpu')\n",
        "x_val, y_val = prepare_data_for_convlstm(dataset_val, device='cpu')\n",
        "\n",
        "train_dataset = TemporalRegressionDataset(x_train, y_train)\n",
        "val_dataset = TemporalRegressionDataset(x_val, y_val)\n"
      ]
    },
    {
      "cell_type": "code",
      "execution_count": null,
      "id": "66140c54",
      "metadata": {
        "id": "66140c54"
      },
      "outputs": [],
      "source": [
        "def objective(trial):\n",
        "    # Hiperparámetros\n",
        "    embedding_dim = trial.suggest_categorical(\"embedding_dim\", [64, 128, 256])\n",
        "    num_layers = trial.suggest_int(\"num_layers\", 1, 4)\n",
        "    nhead = trial.suggest_categorical(\"nhead\", [1, 2, 4])\n",
        "    dim_ff_factor = trial.suggest_int(\"dim_ff_factor\", 2, 6)\n",
        "    dropout = trial.suggest_float(\"dropout\", 0.0, 0.3)\n",
        "    batch_size = trial.suggest_categorical(\"batch_size\", [8, 16, 32])\n",
        "    lr = trial.suggest_float(\"lr\", 1e-4, 1e-2, log=True)\n",
        "    weight_decay = trial.suggest_float(\"weight_decay\", 1e-6, 1e-2, log=True)\n",
        "    optimizer_name = trial.suggest_categorical(\"optimizer\", [\"Adam\", \"AdamW\", \"RMSprop\"])\n",
        "\n",
        "    # DataLoaders desde datasets pre-cargados\n",
        "    train_loader = DataLoader(train_dataset, batch_size=batch_size, shuffle=True)\n",
        "    val_loader = DataLoader(val_dataset, batch_size=batch_size, shuffle=False)\n",
        "\n",
        "    # Modelo\n",
        "    model = GenericSpatioTemporalRegressor(\n",
        "        embedding_dim=embedding_dim,\n",
        "        num_layers=num_layers,\n",
        "        nhead=nhead,\n",
        "        in_channels=3\n",
        "    ).to(device)\n",
        "\n",
        "    # Reemplazo del decoder por uno personalizado con dropout y FF dimensionado\n",
        "    class CustomTransformerDecoder(TransformerDecoder):\n",
        "        def __init__(self, embedding_dim, num_layers, nhead, dim_ff, dropout):\n",
        "            super().__init__(embedding_dim, num_layers, nhead)\n",
        "            encoder_layer = nn.TransformerEncoderLayer(\n",
        "                d_model=embedding_dim,\n",
        "                nhead=nhead,\n",
        "                dim_feedforward=dim_ff,\n",
        "                dropout=dropout,\n",
        "                batch_first=True\n",
        "            )\n",
        "            self.transformer = nn.TransformerEncoder(encoder_layer, num_layers=num_layers)\n",
        "\n",
        "    model.temporal_decoder = CustomTransformerDecoder(\n",
        "        embedding_dim=embedding_dim * 2,\n",
        "        num_layers=num_layers,\n",
        "        nhead=nhead,\n",
        "        dim_ff=embedding_dim * dim_ff_factor,\n",
        "        dropout=dropout\n",
        "    ).to(device)\n",
        "\n",
        "    # Optimizador\n",
        "    optimizer_cls = {\"Adam\": torch.optim.Adam, \"AdamW\": torch.optim.AdamW, \"RMSprop\": torch.optim.RMSprop}[optimizer_name]\n",
        "    optimizer = optimizer_cls(model.parameters(), lr=lr, weight_decay=weight_decay)\n",
        "    scheduler = torch.optim.lr_scheduler.ReduceLROnPlateau(optimizer, mode=\"min\", factor=0.5, patience=5)\n",
        "    criterion = torch.nn.MSELoss()\n",
        "\n",
        "    best_val_loss = float(\"inf\")\n",
        "    for epoch in range(epochs):\n",
        "        train_loss = train_one_epoch(model, train_loader, criterion, optimizer, device, epoch, epochs)\n",
        "        val_loss = evaluate(model, val_loader, criterion, device)\n",
        "        scheduler.step(val_loss)\n",
        "        if val_loss < best_val_loss:\n",
        "            best_val_loss = val_loss\n",
        "        trial.report(val_loss, epoch)\n",
        "        if trial.should_prune():\n",
        "            raise optuna.exceptions.TrialPruned()\n",
        "\n",
        "    return best_val_loss\n"
      ]
    },
    {
      "cell_type": "code",
      "execution_count": null,
      "id": "caabb460",
      "metadata": {
        "id": "caabb460"
      },
      "outputs": [],
      "source": [
        "study = optuna.create_study(\n",
        "    direction=\"minimize\",\n",
        "    study_name=\"nombre_del_estudio\",  # puedes elegirlo tú\n",
        "    storage=\"sqlite:///optuna_studies/study_regressor.db\",  # 🧠 crea archivo .db en tu carpeta\n",
        "    load_if_exists=True  # por si ya existe, continúa donde lo dejaste\n",
        ")\n",
        "\n",
        "study.optimize(objective, n_trials=100)\n",
        "\n",
        "# Mostrar el mejor resultado\n",
        "print(\"🔍 Best trial:\")\n",
        "for k, v in study.best_trial.params.items():\n",
        "    print(f\"{k}: {v}\")\n"
      ]
    }
  ],
  "metadata": {
    "accelerator": "GPU",
    "colab": {
      "gpuType": "T4",
      "machine_shape": "hm",
      "provenance": [],
      "toc_visible": true
    },
    "kernelspec": {
      "display_name": "Python 3",
      "name": "python3"
    },
    "language_info": {
      "codemirror_mode": {
        "name": "ipython",
        "version": 3
      },
      "file_extension": ".py",
      "mimetype": "text/x-python",
      "name": "python",
      "nbconvert_exporter": "python",
      "pygments_lexer": "ipython3",
      "version": "3.9.21"
    }
  },
  "nbformat": 4,
  "nbformat_minor": 5
}