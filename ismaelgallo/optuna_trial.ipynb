{
 "cells": [
  {
   "cell_type": "markdown",
   "id": "d47121a7",
   "metadata": {},
   "source": [
    "# Pruebas con Optuna"
   ]
  },
  {
   "cell_type": "markdown",
   "id": "7da63d97",
   "metadata": {},
   "source": [
    "## Inicializar"
   ]
  },
  {
   "cell_type": "code",
   "execution_count": 10,
   "id": "4160dabe",
   "metadata": {},
   "outputs": [],
   "source": [
    "import optuna\n",
    "import torch\n",
    "import torch.nn as nn\n",
    "import torch.optim as optim\n",
    "from torch.optim.lr_scheduler import ReduceLROnPlateau\n",
    "from torch.utils.data import DataLoader, TensorDataset\n",
    "\n",
    "device = torch.device(\"cuda\" if torch.cuda.is_available() else \"cpu\")\n",
    "\n",
    "import os\n",
    "import sys\n",
    "\n",
    "# get the directory path of the file\n",
    "dir_path = os.getcwd()\n",
    "\n",
    "sys.path.append(os.path.abspath(os.path.join(os.getcwd(), '..')))\n",
    "from plot_functions import *\n",
    "from Physics_Loss import *\n",
    "from utils import *\n",
    "sys.path.append('../Convolutional_NN')\n",
    "\n",
    "from Dataset_Class import *\n",
    "\n",
    "from architectures.convlstm import *\n",
    "from architectures.generic_spatiotemporal_decoder import *\n",
    "from architectures.generic_spatiotemporal_regressor import *"
   ]
  },
  {
   "cell_type": "code",
   "execution_count": null,
   "id": "a69e9ffd",
   "metadata": {},
   "outputs": [],
   "source": [
    "epochs = 500\n",
    "n_train = 1000\n",
    "n_val = 200\n",
    "sequence_length = 20"
   ]
  },
  {
   "cell_type": "code",
   "execution_count": null,
   "id": "e679264a",
   "metadata": {},
   "outputs": [
    {
     "name": "stdout",
     "output_type": "stream",
     "text": [
      "✅ Cargando dataset train desde: c:\\Users\\ismael.gallo\\Desktop\\ia_thermal\\ismaelgallo\\datasets\\PCB_transient_dataset_train.pth\n",
      "✅ Cargando dataset val desde: c:\\Users\\ismael.gallo\\Desktop\\ia_thermal\\ismaelgallo\\datasets\\PCB_transient_dataset_val.pth\n"
     ]
    }
   ],
   "source": [
    "# ⬅️ Esto se ejecuta una vez\n",
    "dataset_train = load_trimmed_dataset(base_path=dir_path, dataset_type='train', max_samples=n_train, time_steps_output=sequence_length)\n",
    "dataset_val = load_trimmed_dataset(base_path=dir_path, dataset_type='val', max_samples=n_val, time_steps_output=sequence_length)\n",
    "\n",
    "\n",
    "def get_data_loaders_from_tensors(batch_size):\n",
    "    train_loader = DataLoader(TensorDataset(input_train, output_train), batch_size=batch_size, shuffle=True)\n",
    "    val_loader = DataLoader(TensorDataset(input_val, output_val), batch_size=batch_size, shuffle=False)\n",
    "    return train_loader, val_loader"
   ]
  },
  {
   "cell_type": "markdown",
   "id": "dd475b6c",
   "metadata": {},
   "source": [
    "## ConvLSTM"
   ]
  },
  {
   "cell_type": "code",
   "execution_count": 23,
   "id": "5c25d49d",
   "metadata": {},
   "outputs": [],
   "source": [
    "class ConvLSTMWrapper(nn.Module):\n",
    "    def __init__(self, input_dim, hidden_dim, kernel_size, num_layers):\n",
    "        super().__init__()\n",
    "        self.convlstm = ConvLSTM(\n",
    "            input_dim=input_dim,\n",
    "            hidden_dim=hidden_dim,\n",
    "            kernel_size=kernel_size,\n",
    "            num_layers=num_layers,\n",
    "            batch_first=True,\n",
    "            bias=True,\n",
    "            return_all_layers=False\n",
    "        )\n",
    "\n",
    "    def forward(self, x):\n",
    "        output, _ = self.convlstm(x)  # output es lista [layer_output]\n",
    "        return output[0]              # devolvemos directamente el tensor (B, T, C, H, W)\n"
   ]
  },
  {
   "cell_type": "code",
   "execution_count": 24,
   "id": "6764169f",
   "metadata": {},
   "outputs": [],
   "source": [
    "def objective(trial):\n",
    "    # Hiperparámetros\n",
    "    lr = trial.suggest_float(\"lr\", 1e-4, 1e-2, log=True)\n",
    "    batch_size = trial.suggest_categorical(\"batch_size\", [8, 16, 32, 64])\n",
    "    hidden_dim_val = trial.suggest_categorical(\"hidden_dim\", [16, 32, 64, 128])\n",
    "    kernel_size_val = trial.suggest_categorical(\"kernel_size\", [1, 3, 5, 7])\n",
    "    num_layers = trial.suggest_int(\"num_layers\", 1, 4)\n",
    "\n",
    "    # Adaptar al formato requerido por ConvLSTM\n",
    "    hidden_dim = [hidden_dim_val] * num_layers\n",
    "    kernel_size = [(kernel_size_val, kernel_size_val)] * num_layers\n",
    "\n",
    "    # Crear modelo ConvLSTM\n",
    "    model = ConvLSTMWrapper(\n",
    "        input_dim=3,  # o el número de canales reales\n",
    "        hidden_dim=hidden_dim,\n",
    "        kernel_size=kernel_size,\n",
    "        num_layers=num_layers\n",
    "    ).to(device)\n",
    "\n",
    "    optimizer = torch.optim.Adam(model.parameters(), lr=lr)\n",
    "    scheduler = ReduceLROnPlateau(optimizer, mode='min', factor=0.5, patience=5)\n",
    "    criterion = torch.nn.MSELoss()\n",
    "\n",
    "    # Obtener dataloaders (train y val)\n",
    "    train_loader, val_loader = get_data_loaders_from_tensors(batch_size=batch_size)\n",
    "\n",
    "    best_val_loss = float('inf')\n",
    "    for epoch in range(epochs):\n",
    "        train_loss = train_one_epoch(model, train_loader, criterion, optimizer, device, epoch, epochs)\n",
    "        val_loss = evaluate(model, val_loader, criterion, device)\n",
    "        scheduler.step(val_loss)\n",
    "\n",
    "        if val_loss < best_val_loss:\n",
    "            best_val_loss = val_loss\n",
    "\n",
    "        trial.report(val_loss, epoch)\n",
    "        if trial.should_prune():\n",
    "            raise optuna.exceptions.TrialPruned()\n",
    "\n",
    "    return best_val_loss\n"
   ]
  },
  {
   "cell_type": "code",
   "execution_count": 25,
   "id": "5a861fab",
   "metadata": {},
   "outputs": [
    {
     "name": "stderr",
     "output_type": "stream",
     "text": [
      "[I 2025-05-06 07:43:40,265] A new study created in memory with name: no-name-af8927e8-35b2-4c67-bc98-1bcda208eb99\n",
      "[I 2025-05-06 07:43:40,480] Trial 0 finished with value: 1.8483535051345825 and parameters: {'lr': 0.0007012729240529598, 'batch_size': 8, 'hidden_dim': 32, 'kernel_size': 5, 'num_layers': 4}. Best is trial 0 with value: 1.8483535051345825.\n",
      "[I 2025-05-06 07:43:40,513] Trial 1 finished with value: 1.851120114326477 and parameters: {'lr': 0.0034799899579761096, 'batch_size': 64, 'hidden_dim': 128, 'kernel_size': 1, 'num_layers': 1}. Best is trial 0 with value: 1.8483535051345825.\n",
      "[I 2025-05-06 07:43:41,078] Trial 2 finished with value: 1.8512543439865112 and parameters: {'lr': 0.00015652190786062914, 'batch_size': 64, 'hidden_dim': 128, 'kernel_size': 5, 'num_layers': 3}. Best is trial 0 with value: 1.8483535051345825.\n",
      "[I 2025-05-06 07:43:41,191] Trial 3 finished with value: 1.8415145874023438 and parameters: {'lr': 0.0008459811026152246, 'batch_size': 64, 'hidden_dim': 16, 'kernel_size': 7, 'num_layers': 4}. Best is trial 3 with value: 1.8415145874023438.\n",
      "[I 2025-05-06 07:43:41,272] Trial 4 finished with value: 1.8122566938400269 and parameters: {'lr': 0.0005156940117200745, 'batch_size': 16, 'hidden_dim': 16, 'kernel_size': 1, 'num_layers': 3}. Best is trial 4 with value: 1.8122566938400269.\n",
      "[I 2025-05-06 07:43:41,360] Trial 5 finished with value: 1.7107243537902832 and parameters: {'lr': 0.005982218641281658, 'batch_size': 8, 'hidden_dim': 32, 'kernel_size': 5, 'num_layers': 3}. Best is trial 5 with value: 1.7107243537902832.\n",
      "[I 2025-05-06 07:43:41,425] Trial 6 pruned.                           \n",
      "[I 2025-05-06 07:43:41,594] Trial 7 finished with value: 1.8386383056640625 and parameters: {'lr': 0.0010945927651896956, 'batch_size': 16, 'hidden_dim': 64, 'kernel_size': 5, 'num_layers': 3}. Best is trial 5 with value: 1.7107243537902832.\n",
      "[I 2025-05-06 07:43:41,640] Trial 8 finished with value: 1.5105812549591064 and parameters: {'lr': 0.009397565622633185, 'batch_size': 32, 'hidden_dim': 16, 'kernel_size': 7, 'num_layers': 2}. Best is trial 8 with value: 1.5105812549591064.\n",
      "[I 2025-05-06 07:43:41,759] Trial 9 pruned.                           \n",
      "[I 2025-05-06 07:43:41,830] Trial 10 finished with value: 1.6245790719985962 and parameters: {'lr': 0.007984578848473445, 'batch_size': 32, 'hidden_dim': 16, 'kernel_size': 7, 'num_layers': 2}. Best is trial 8 with value: 1.5105812549591064.\n",
      "[I 2025-05-06 07:43:41,892] Trial 11 finished with value: 1.6097725629806519 and parameters: {'lr': 0.00817889506894669, 'batch_size': 32, 'hidden_dim': 16, 'kernel_size': 7, 'num_layers': 2}. Best is trial 8 with value: 1.5105812549591064.\n",
      "[I 2025-05-06 07:43:41,958] Trial 12 pruned.                          \n",
      "[I 2025-05-06 07:43:42,026] Trial 13 pruned.                          \n",
      "[I 2025-05-06 07:43:42,059] Trial 14 pruned.                          \n",
      "[I 2025-05-06 07:43:42,131] Trial 15 pruned.                          \n",
      "[I 2025-05-06 07:43:42,192] Trial 16 pruned.                         \n",
      "[I 2025-05-06 07:43:42,264] Trial 17 pruned.                          \n",
      "[I 2025-05-06 07:43:42,345] Trial 18 pruned.                          \n",
      "[I 2025-05-06 07:43:42,432] Trial 19 finished with value: 1.821083903312683 and parameters: {'lr': 0.005205011782441542, 'batch_size': 16, 'hidden_dim': 16, 'kernel_size': 7, 'num_layers': 3}. Best is trial 8 with value: 1.5105812549591064.\n",
      "[I 2025-05-06 07:43:42,463] Trial 20 pruned.                          \n",
      "[I 2025-05-06 07:43:42,541] Trial 21 pruned.                          \n",
      "[I 2025-05-06 07:43:42,592] Trial 22 pruned.                          \n",
      "[I 2025-05-06 07:43:42,691] Trial 23 pruned.                          \n",
      "[I 2025-05-06 07:43:42,758] Trial 24 pruned.                          \n",
      "[I 2025-05-06 07:43:42,842] Trial 25 pruned.                          \n",
      "[I 2025-05-06 07:43:43,425] Trial 26 finished with value: 1.1700794696807861 and parameters: {'lr': 0.009334938925758884, 'batch_size': 32, 'hidden_dim': 128, 'kernel_size': 7, 'num_layers': 2}. Best is trial 26 with value: 1.1700794696807861.\n",
      "[I 2025-05-06 07:43:43,646] Trial 27 pruned.                                  \n",
      "[I 2025-05-06 07:43:43,760] Trial 28 pruned.                          \n",
      "[I 2025-05-06 07:43:43,842] Trial 29 pruned.                          \n",
      "[I 2025-05-06 07:43:44,063] Trial 30 finished with value: 1.7053154706954956 and parameters: {'lr': 0.004997745645351952, 'batch_size': 32, 'hidden_dim': 128, 'kernel_size': 7, 'num_layers': 1}. Best is trial 26 with value: 1.1700794696807861.\n",
      "[I 2025-05-06 07:43:44,659] Trial 31 finished with value: 1.0455806255340576 and parameters: {'lr': 0.00799790048548539, 'batch_size': 32, 'hidden_dim': 128, 'kernel_size': 7, 'num_layers': 2}. Best is trial 31 with value: 1.0455806255340576.\n",
      "[I 2025-05-06 07:43:45,233] Trial 32 finished with value: 1.1210607290267944 and parameters: {'lr': 0.009704957664405243, 'batch_size': 32, 'hidden_dim': 128, 'kernel_size': 7, 'num_layers': 2}. Best is trial 31 with value: 1.0455806255340576.\n",
      "[I 2025-05-06 07:43:45,796] Trial 33 finished with value: 1.0959303379058838 and parameters: {'lr': 0.009985583305016199, 'batch_size': 32, 'hidden_dim': 128, 'kernel_size': 7, 'num_layers': 2}. Best is trial 31 with value: 1.0455806255340576.\n",
      "[I 2025-05-06 07:43:46,363] Trial 34 finished with value: 1.101246953010559 and parameters: {'lr': 0.006894691472032817, 'batch_size': 64, 'hidden_dim': 128, 'kernel_size': 7, 'num_layers': 2}. Best is trial 31 with value: 1.0455806255340576.\n",
      "[I 2025-05-06 07:43:46,458] Trial 35 pruned.                          \n",
      "[I 2025-05-06 07:43:46,860] Trial 36 pruned.                                  \n",
      "[I 2025-05-06 07:43:47,094] Trial 37 finished with value: 1.6705377101898193 and parameters: {'lr': 0.00625801002957719, 'batch_size': 64, 'hidden_dim': 128, 'kernel_size': 7, 'num_layers': 1}. Best is trial 31 with value: 1.0455806255340576.\n",
      "[I 2025-05-06 07:43:48,062] Trial 38 finished with value: 1.2571347951889038 and parameters: {'lr': 0.0033678348638552583, 'batch_size': 64, 'hidden_dim': 128, 'kernel_size': 7, 'num_layers': 3}. Best is trial 31 with value: 1.0455806255340576.\n",
      "[I 2025-05-06 07:43:48,780] Trial 39 finished with value: 1.218954086303711 and parameters: {'lr': 0.006459222101224663, 'batch_size': 64, 'hidden_dim': 128, 'kernel_size': 5, 'num_layers': 4}. Best is trial 31 with value: 1.0455806255340576.\n",
      "[I 2025-05-06 07:43:48,842] Trial 40 pruned.                          \n",
      "[I 2025-05-06 07:43:49,425] Trial 41 finished with value: 1.0421030521392822 and parameters: {'lr': 0.00987742559624874, 'batch_size': 8, 'hidden_dim': 128, 'kernel_size': 7, 'num_layers': 2}. Best is trial 41 with value: 1.0421030521392822.\n",
      "[I 2025-05-06 07:43:49,997] Trial 42 pruned.                                  \n",
      "[I 2025-05-06 07:43:50,559] Trial 43 finished with value: 1.0924650430679321 and parameters: {'lr': 0.007578717873725855, 'batch_size': 8, 'hidden_dim': 128, 'kernel_size': 7, 'num_layers': 2}. Best is trial 41 with value: 1.0421030521392822.\n",
      "[I 2025-05-06 07:43:51,142] Trial 44 finished with value: 1.1895637512207031 and parameters: {'lr': 0.0076859066824613385, 'batch_size': 8, 'hidden_dim': 128, 'kernel_size': 7, 'num_layers': 2}. Best is trial 41 with value: 1.0421030521392822.\n",
      "[I 2025-05-06 07:43:51,709] Trial 45 finished with value: 1.1722772121429443 and parameters: {'lr': 0.005533066801872488, 'batch_size': 8, 'hidden_dim': 128, 'kernel_size': 7, 'num_layers': 2}. Best is trial 41 with value: 1.0421030521392822.\n",
      "[I 2025-05-06 07:43:51,912] Trial 46 pruned.                                  \n",
      "[I 2025-05-06 07:43:52,495] Trial 47 finished with value: 1.0767159461975098 and parameters: {'lr': 0.00768478334298277, 'batch_size': 8, 'hidden_dim': 128, 'kernel_size': 7, 'num_layers': 2}. Best is trial 41 with value: 1.0421030521392822.\n",
      "[I 2025-05-06 07:43:52,711] Trial 48 pruned.                                  \n",
      "[I 2025-05-06 07:43:52,776] Trial 49 pruned.                          \n",
      "[I 2025-05-06 07:43:53,345] Trial 50 pruned.                                  \n",
      "[I 2025-05-06 07:43:53,912] Trial 51 finished with value: 1.1616144180297852 and parameters: {'lr': 0.0077441566000651905, 'batch_size': 8, 'hidden_dim': 128, 'kernel_size': 7, 'num_layers': 2}. Best is trial 41 with value: 1.0421030521392822.\n",
      "[I 2025-05-06 07:43:54,493] Trial 52 finished with value: 1.297001838684082 and parameters: {'lr': 0.005004696677154799, 'batch_size': 8, 'hidden_dim': 128, 'kernel_size': 7, 'num_layers': 2}. Best is trial 41 with value: 1.0421030521392822.\n",
      "[I 2025-05-06 07:43:55,062] Trial 53 pruned.                                  \n",
      "[I 2025-05-06 07:43:55,275] Trial 54 finished with value: 1.0022203922271729 and parameters: {'lr': 0.009899034011483827, 'batch_size': 64, 'hidden_dim': 64, 'kernel_size': 7, 'num_layers': 2}. Best is trial 54 with value: 1.0022203922271729.\n",
      "[I 2025-05-06 07:43:55,445] Trial 55 pruned.                          \n",
      "[I 2025-05-06 07:43:55,510] Trial 56 pruned.                          \n",
      "[I 2025-05-06 07:43:55,694] Trial 57 pruned.                          \n",
      "[I 2025-05-06 07:43:55,779] Trial 58 pruned.                          \n",
      "[I 2025-05-06 07:43:55,846] Trial 59 pruned.                          \n",
      "[I 2025-05-06 07:43:55,943] Trial 60 pruned.                          \n",
      "[I 2025-05-06 07:43:56,532] Trial 61 finished with value: 1.1334254741668701 and parameters: {'lr': 0.00746540524258683, 'batch_size': 64, 'hidden_dim': 128, 'kernel_size': 7, 'num_layers': 2}. Best is trial 54 with value: 1.0022203922271729.\n",
      "[I 2025-05-06 07:43:57,095] Trial 62 finished with value: 1.0920466184616089 and parameters: {'lr': 0.007022423463498235, 'batch_size': 64, 'hidden_dim': 128, 'kernel_size': 7, 'num_layers': 2}. Best is trial 54 with value: 1.0022203922271729.\n",
      "[I 2025-05-06 07:43:57,681] Trial 63 finished with value: 1.0330730676651 and parameters: {'lr': 0.008243338350802794, 'batch_size': 64, 'hidden_dim': 128, 'kernel_size': 7, 'num_layers': 2}. Best is trial 54 with value: 1.0022203922271729.\n",
      "[I 2025-05-06 07:43:58,261] Trial 64 finished with value: 1.1740350723266602 and parameters: {'lr': 0.008450752127966229, 'batch_size': 64, 'hidden_dim': 128, 'kernel_size': 7, 'num_layers': 2}. Best is trial 54 with value: 1.0022203922271729.\n",
      "[I 2025-05-06 07:43:58,860] Trial 65 finished with value: 1.1086450815200806 and parameters: {'lr': 0.006919107133246232, 'batch_size': 64, 'hidden_dim': 128, 'kernel_size': 7, 'num_layers': 2}. Best is trial 54 with value: 1.0022203922271729.\n",
      "[I 2025-05-06 07:43:59,427] Trial 66 pruned.                                  \n",
      "[I 2025-05-06 07:43:59,613] Trial 67 pruned.                          \n",
      "[I 2025-05-06 07:44:00,180] Trial 68 pruned.                                  \n",
      "[I 2025-05-06 07:44:00,278] Trial 69 pruned.                          \n",
      "[I 2025-05-06 07:44:01,195] Trial 70 finished with value: 1.0293878316879272 and parameters: {'lr': 0.008597151654843841, 'batch_size': 16, 'hidden_dim': 128, 'kernel_size': 7, 'num_layers': 3}. Best is trial 54 with value: 1.0022203922271729.\n",
      "[I 2025-05-06 07:44:02,129] Trial 71 finished with value: 1.016696810722351 and parameters: {'lr': 0.008651739777458622, 'batch_size': 16, 'hidden_dim': 128, 'kernel_size': 7, 'num_layers': 3}. Best is trial 54 with value: 1.0022203922271729.\n",
      "[I 2025-05-06 07:44:03,074] Trial 72 finished with value: 0.9745837450027466 and parameters: {'lr': 0.008759924284220597, 'batch_size': 16, 'hidden_dim': 128, 'kernel_size': 7, 'num_layers': 3}. Best is trial 72 with value: 0.9745837450027466.\n",
      "[I 2025-05-06 07:44:04,014] Trial 73 finished with value: 0.9927157163619995 and parameters: {'lr': 0.008731072676754829, 'batch_size': 16, 'hidden_dim': 128, 'kernel_size': 7, 'num_layers': 3}. Best is trial 72 with value: 0.9745837450027466.\n",
      "[I 2025-05-06 07:44:04,942] Trial 74 finished with value: 1.1351062059402466 and parameters: {'lr': 0.009075700327841702, 'batch_size': 16, 'hidden_dim': 128, 'kernel_size': 7, 'num_layers': 3}. Best is trial 72 with value: 0.9745837450027466.\n",
      "[I 2025-05-06 07:44:05,875] Trial 75 finished with value: 1.0301730632781982 and parameters: {'lr': 0.00869688412664414, 'batch_size': 16, 'hidden_dim': 128, 'kernel_size': 7, 'num_layers': 3}. Best is trial 72 with value: 0.9745837450027466.\n",
      "[I 2025-05-06 07:44:05,975] Trial 76 pruned.                          \n",
      "[I 2025-05-06 07:44:06,260] Trial 77 pruned.                                  \n",
      "[I 2025-05-06 07:44:07,192] Trial 78 pruned.                                  \n",
      "[I 2025-05-06 07:44:08,113] Trial 79 finished with value: 1.1698625087738037 and parameters: {'lr': 0.008979840522368976, 'batch_size': 16, 'hidden_dim': 128, 'kernel_size': 7, 'num_layers': 3}. Best is trial 72 with value: 0.9745837450027466.\n",
      "[I 2025-05-06 07:44:08,410] Trial 80 pruned.                                  \n",
      "[I 2025-05-06 07:44:09,358] Trial 81 finished with value: 0.9453172087669373 and parameters: {'lr': 0.008431731419609484, 'batch_size': 16, 'hidden_dim': 128, 'kernel_size': 7, 'num_layers': 3}. Best is trial 81 with value: 0.9453172087669373.\n",
      "[I 2025-05-06 07:44:10,292] Trial 82 finished with value: 0.8663631677627563 and parameters: {'lr': 0.008797049665540861, 'batch_size': 16, 'hidden_dim': 128, 'kernel_size': 7, 'num_layers': 3}. Best is trial 82 with value: 0.8663631677627563.\n",
      "[I 2025-05-06 07:44:11,214] Trial 83 finished with value: 1.0577338933944702 and parameters: {'lr': 0.00686549137459356, 'batch_size': 16, 'hidden_dim': 128, 'kernel_size': 7, 'num_layers': 3}. Best is trial 82 with value: 0.8663631677627563.\n",
      "[I 2025-05-06 07:44:12,161] Trial 84 finished with value: 1.0047694444656372 and parameters: {'lr': 0.00875595090047131, 'batch_size': 16, 'hidden_dim': 128, 'kernel_size': 7, 'num_layers': 3}. Best is trial 82 with value: 0.8663631677627563.\n",
      "[I 2025-05-06 07:44:13,080] Trial 85 finished with value: 1.027233362197876 and parameters: {'lr': 0.005343178277826988, 'batch_size': 16, 'hidden_dim': 128, 'kernel_size': 7, 'num_layers': 3}. Best is trial 82 with value: 0.8663631677627563.\n",
      "[I 2025-05-06 07:44:13,630] Trial 86 pruned.                                  \n",
      "[I 2025-05-06 07:44:14,564] Trial 87 finished with value: 1.017045021057129 and parameters: {'lr': 0.007158696778849699, 'batch_size': 16, 'hidden_dim': 128, 'kernel_size': 7, 'num_layers': 3}. Best is trial 82 with value: 0.8663631677627563.\n",
      "[I 2025-05-06 07:44:15,497] Trial 88 pruned.                                  \n",
      "[I 2025-05-06 07:44:15,609] Trial 89 pruned.                          \n",
      "[I 2025-05-06 07:44:16,542] Trial 90 finished with value: 1.0696638822555542 and parameters: {'lr': 0.007258641865494307, 'batch_size': 16, 'hidden_dim': 128, 'kernel_size': 7, 'num_layers': 3}. Best is trial 82 with value: 0.8663631677627563.\n",
      "[I 2025-05-06 07:44:17,486] Trial 91 finished with value: 0.993384063243866 and parameters: {'lr': 0.008947120282618288, 'batch_size': 16, 'hidden_dim': 128, 'kernel_size': 7, 'num_layers': 3}. Best is trial 82 with value: 0.8663631677627563.\n",
      "[I 2025-05-06 07:44:18,414] Trial 92 pruned.                                  \n",
      "[I 2025-05-06 07:44:19,342] Trial 93 finished with value: 1.1150391101837158 and parameters: {'lr': 0.006398849856108771, 'batch_size': 16, 'hidden_dim': 128, 'kernel_size': 7, 'num_layers': 3}. Best is trial 82 with value: 0.8663631677627563.\n",
      "[I 2025-05-06 07:44:20,298] Trial 94 finished with value: 0.9765325784683228 and parameters: {'lr': 0.00934101640786243, 'batch_size': 16, 'hidden_dim': 128, 'kernel_size': 7, 'num_layers': 3}. Best is trial 82 with value: 0.8663631677627563.\n",
      "[I 2025-05-06 07:44:21,231] Trial 95 finished with value: 1.0233409404754639 and parameters: {'lr': 0.009307251962330041, 'batch_size': 16, 'hidden_dim': 128, 'kernel_size': 7, 'num_layers': 3}. Best is trial 82 with value: 0.8663631677627563.\n",
      "[I 2025-05-06 07:44:21,309] Trial 96 pruned.                          \n",
      "[I 2025-05-06 07:44:21,708] Trial 97 finished with value: 1.1039631366729736 and parameters: {'lr': 0.009948697666627029, 'batch_size': 16, 'hidden_dim': 64, 'kernel_size': 7, 'num_layers': 4}. Best is trial 82 with value: 0.8663631677627563.\n",
      "[I 2025-05-06 07:44:21,891] Trial 98 pruned.                          \n",
      "[I 2025-05-06 07:44:22,831] Trial 99 pruned.                                  \n"
     ]
    }
   ],
   "source": [
    "study = optuna.create_study(direction=\"minimize\")\n",
    "study.optimize(objective, n_trials=100)"
   ]
  },
  {
   "cell_type": "code",
   "execution_count": 26,
   "id": "358d1f45",
   "metadata": {},
   "outputs": [
    {
     "name": "stdout",
     "output_type": "stream",
     "text": [
      "Best trial:\n",
      "lr: 0.008797049665540861\n",
      "batch_size: 16\n",
      "hidden_dim: 128\n",
      "kernel_size: 7\n",
      "num_layers: 3\n"
     ]
    }
   ],
   "source": [
    "print(\"Best trial:\")\n",
    "for key, val in study.best_trial.params.items():\n",
    "    print(f\"{key}: {val}\")"
   ]
  },
  {
   "cell_type": "code",
   "execution_count": 27,
   "id": "0e950fcd",
   "metadata": {},
   "outputs": [
    {
     "data": {
      "application/vnd.plotly.v1+json": {
       "config": {
        "plotlyServerURL": "https://plot.ly"
       },
       "data": [
        {
         "mode": "markers",
         "name": "Objective Value",
         "type": "scatter",
         "x": [
          0,
          1,
          2,
          3,
          4,
          5,
          7,
          8,
          10,
          11,
          19,
          26,
          30,
          31,
          32,
          33,
          34,
          37,
          38,
          39,
          41,
          43,
          44,
          45,
          47,
          51,
          52,
          54,
          61,
          62,
          63,
          64,
          65,
          70,
          71,
          72,
          73,
          74,
          75,
          79,
          81,
          82,
          83,
          84,
          85,
          87,
          90,
          91,
          93,
          94,
          95,
          97
         ],
         "y": [
          1.8483535051345825,
          1.851120114326477,
          1.8512543439865112,
          1.8415145874023438,
          1.8122566938400269,
          1.7107243537902832,
          1.8386383056640625,
          1.5105812549591064,
          1.6245790719985962,
          1.6097725629806519,
          1.821083903312683,
          1.1700794696807861,
          1.7053154706954956,
          1.0455806255340576,
          1.1210607290267944,
          1.0959303379058838,
          1.101246953010559,
          1.6705377101898193,
          1.2571347951889038,
          1.218954086303711,
          1.0421030521392822,
          1.0924650430679321,
          1.1895637512207031,
          1.1722772121429443,
          1.0767159461975098,
          1.1616144180297852,
          1.297001838684082,
          1.0022203922271729,
          1.1334254741668701,
          1.0920466184616089,
          1.0330730676651,
          1.1740350723266602,
          1.1086450815200806,
          1.0293878316879272,
          1.016696810722351,
          0.9745837450027466,
          0.9927157163619995,
          1.1351062059402466,
          1.0301730632781982,
          1.1698625087738037,
          0.9453172087669373,
          0.8663631677627563,
          1.0577338933944702,
          1.0047694444656372,
          1.027233362197876,
          1.017045021057129,
          1.0696638822555542,
          0.993384063243866,
          1.1150391101837158,
          0.9765325784683228,
          1.0233409404754639,
          1.1039631366729736
         ]
        },
        {
         "mode": "lines",
         "name": "Best Value",
         "type": "scatter",
         "x": [
          0,
          1,
          2,
          3,
          4,
          5,
          6,
          7,
          8,
          9,
          10,
          11,
          12,
          13,
          14,
          15,
          16,
          17,
          18,
          19,
          20,
          21,
          22,
          23,
          24,
          25,
          26,
          27,
          28,
          29,
          30,
          31,
          32,
          33,
          34,
          35,
          36,
          37,
          38,
          39,
          40,
          41,
          42,
          43,
          44,
          45,
          46,
          47,
          48,
          49,
          50,
          51,
          52,
          53,
          54,
          55,
          56,
          57,
          58,
          59,
          60,
          61,
          62,
          63,
          64,
          65,
          66,
          67,
          68,
          69,
          70,
          71,
          72,
          73,
          74,
          75,
          76,
          77,
          78,
          79,
          80,
          81,
          82,
          83,
          84,
          85,
          86,
          87,
          88,
          89,
          90,
          91,
          92,
          93,
          94,
          95,
          96,
          97,
          98,
          99
         ],
         "y": [
          1.8483535051345825,
          1.8483535051345825,
          1.8483535051345825,
          1.8415145874023438,
          1.8122566938400269,
          1.7107243537902832,
          1.7107243537902832,
          1.7107243537902832,
          1.5105812549591064,
          1.5105812549591064,
          1.5105812549591064,
          1.5105812549591064,
          1.5105812549591064,
          1.5105812549591064,
          1.5105812549591064,
          1.5105812549591064,
          1.5105812549591064,
          1.5105812549591064,
          1.5105812549591064,
          1.5105812549591064,
          1.5105812549591064,
          1.5105812549591064,
          1.5105812549591064,
          1.5105812549591064,
          1.5105812549591064,
          1.5105812549591064,
          1.1700794696807861,
          1.1700794696807861,
          1.1700794696807861,
          1.1700794696807861,
          1.1700794696807861,
          1.0455806255340576,
          1.0455806255340576,
          1.0455806255340576,
          1.0455806255340576,
          1.0455806255340576,
          1.0455806255340576,
          1.0455806255340576,
          1.0455806255340576,
          1.0455806255340576,
          1.0455806255340576,
          1.0421030521392822,
          1.0421030521392822,
          1.0421030521392822,
          1.0421030521392822,
          1.0421030521392822,
          1.0421030521392822,
          1.0421030521392822,
          1.0421030521392822,
          1.0421030521392822,
          1.0421030521392822,
          1.0421030521392822,
          1.0421030521392822,
          1.0421030521392822,
          1.0022203922271729,
          1.0022203922271729,
          1.0022203922271729,
          1.0022203922271729,
          1.0022203922271729,
          1.0022203922271729,
          1.0022203922271729,
          1.0022203922271729,
          1.0022203922271729,
          1.0022203922271729,
          1.0022203922271729,
          1.0022203922271729,
          1.0022203922271729,
          1.0022203922271729,
          1.0022203922271729,
          1.0022203922271729,
          1.0022203922271729,
          1.0022203922271729,
          0.9745837450027466,
          0.9745837450027466,
          0.9745837450027466,
          0.9745837450027466,
          0.9745837450027466,
          0.9745837450027466,
          0.9745837450027466,
          0.9745837450027466,
          0.9745837450027466,
          0.9453172087669373,
          0.8663631677627563,
          0.8663631677627563,
          0.8663631677627563,
          0.8663631677627563,
          0.8663631677627563,
          0.8663631677627563,
          0.8663631677627563,
          0.8663631677627563,
          0.8663631677627563,
          0.8663631677627563,
          0.8663631677627563,
          0.8663631677627563,
          0.8663631677627563,
          0.8663631677627563,
          0.8663631677627563,
          0.8663631677627563,
          0.8663631677627563,
          0.8663631677627563
         ]
        },
        {
         "marker": {
          "color": "#cccccc"
         },
         "mode": "markers",
         "name": "Infeasible Trial",
         "showlegend": false,
         "type": "scatter",
         "x": [],
         "y": []
        }
       ],
       "layout": {
        "template": {
         "data": {
          "bar": [
           {
            "error_x": {
             "color": "#2a3f5f"
            },
            "error_y": {
             "color": "#2a3f5f"
            },
            "marker": {
             "line": {
              "color": "#E5ECF6",
              "width": 0.5
             },
             "pattern": {
              "fillmode": "overlay",
              "size": 10,
              "solidity": 0.2
             }
            },
            "type": "bar"
           }
          ],
          "barpolar": [
           {
            "marker": {
             "line": {
              "color": "#E5ECF6",
              "width": 0.5
             },
             "pattern": {
              "fillmode": "overlay",
              "size": 10,
              "solidity": 0.2
             }
            },
            "type": "barpolar"
           }
          ],
          "carpet": [
           {
            "aaxis": {
             "endlinecolor": "#2a3f5f",
             "gridcolor": "white",
             "linecolor": "white",
             "minorgridcolor": "white",
             "startlinecolor": "#2a3f5f"
            },
            "baxis": {
             "endlinecolor": "#2a3f5f",
             "gridcolor": "white",
             "linecolor": "white",
             "minorgridcolor": "white",
             "startlinecolor": "#2a3f5f"
            },
            "type": "carpet"
           }
          ],
          "choropleth": [
           {
            "colorbar": {
             "outlinewidth": 0,
             "ticks": ""
            },
            "type": "choropleth"
           }
          ],
          "contour": [
           {
            "colorbar": {
             "outlinewidth": 0,
             "ticks": ""
            },
            "colorscale": [
             [
              0,
              "#0d0887"
             ],
             [
              0.1111111111111111,
              "#46039f"
             ],
             [
              0.2222222222222222,
              "#7201a8"
             ],
             [
              0.3333333333333333,
              "#9c179e"
             ],
             [
              0.4444444444444444,
              "#bd3786"
             ],
             [
              0.5555555555555556,
              "#d8576b"
             ],
             [
              0.6666666666666666,
              "#ed7953"
             ],
             [
              0.7777777777777778,
              "#fb9f3a"
             ],
             [
              0.8888888888888888,
              "#fdca26"
             ],
             [
              1,
              "#f0f921"
             ]
            ],
            "type": "contour"
           }
          ],
          "contourcarpet": [
           {
            "colorbar": {
             "outlinewidth": 0,
             "ticks": ""
            },
            "type": "contourcarpet"
           }
          ],
          "heatmap": [
           {
            "colorbar": {
             "outlinewidth": 0,
             "ticks": ""
            },
            "colorscale": [
             [
              0,
              "#0d0887"
             ],
             [
              0.1111111111111111,
              "#46039f"
             ],
             [
              0.2222222222222222,
              "#7201a8"
             ],
             [
              0.3333333333333333,
              "#9c179e"
             ],
             [
              0.4444444444444444,
              "#bd3786"
             ],
             [
              0.5555555555555556,
              "#d8576b"
             ],
             [
              0.6666666666666666,
              "#ed7953"
             ],
             [
              0.7777777777777778,
              "#fb9f3a"
             ],
             [
              0.8888888888888888,
              "#fdca26"
             ],
             [
              1,
              "#f0f921"
             ]
            ],
            "type": "heatmap"
           }
          ],
          "histogram": [
           {
            "marker": {
             "pattern": {
              "fillmode": "overlay",
              "size": 10,
              "solidity": 0.2
             }
            },
            "type": "histogram"
           }
          ],
          "histogram2d": [
           {
            "colorbar": {
             "outlinewidth": 0,
             "ticks": ""
            },
            "colorscale": [
             [
              0,
              "#0d0887"
             ],
             [
              0.1111111111111111,
              "#46039f"
             ],
             [
              0.2222222222222222,
              "#7201a8"
             ],
             [
              0.3333333333333333,
              "#9c179e"
             ],
             [
              0.4444444444444444,
              "#bd3786"
             ],
             [
              0.5555555555555556,
              "#d8576b"
             ],
             [
              0.6666666666666666,
              "#ed7953"
             ],
             [
              0.7777777777777778,
              "#fb9f3a"
             ],
             [
              0.8888888888888888,
              "#fdca26"
             ],
             [
              1,
              "#f0f921"
             ]
            ],
            "type": "histogram2d"
           }
          ],
          "histogram2dcontour": [
           {
            "colorbar": {
             "outlinewidth": 0,
             "ticks": ""
            },
            "colorscale": [
             [
              0,
              "#0d0887"
             ],
             [
              0.1111111111111111,
              "#46039f"
             ],
             [
              0.2222222222222222,
              "#7201a8"
             ],
             [
              0.3333333333333333,
              "#9c179e"
             ],
             [
              0.4444444444444444,
              "#bd3786"
             ],
             [
              0.5555555555555556,
              "#d8576b"
             ],
             [
              0.6666666666666666,
              "#ed7953"
             ],
             [
              0.7777777777777778,
              "#fb9f3a"
             ],
             [
              0.8888888888888888,
              "#fdca26"
             ],
             [
              1,
              "#f0f921"
             ]
            ],
            "type": "histogram2dcontour"
           }
          ],
          "mesh3d": [
           {
            "colorbar": {
             "outlinewidth": 0,
             "ticks": ""
            },
            "type": "mesh3d"
           }
          ],
          "parcoords": [
           {
            "line": {
             "colorbar": {
              "outlinewidth": 0,
              "ticks": ""
             }
            },
            "type": "parcoords"
           }
          ],
          "pie": [
           {
            "automargin": true,
            "type": "pie"
           }
          ],
          "scatter": [
           {
            "fillpattern": {
             "fillmode": "overlay",
             "size": 10,
             "solidity": 0.2
            },
            "type": "scatter"
           }
          ],
          "scatter3d": [
           {
            "line": {
             "colorbar": {
              "outlinewidth": 0,
              "ticks": ""
             }
            },
            "marker": {
             "colorbar": {
              "outlinewidth": 0,
              "ticks": ""
             }
            },
            "type": "scatter3d"
           }
          ],
          "scattercarpet": [
           {
            "marker": {
             "colorbar": {
              "outlinewidth": 0,
              "ticks": ""
             }
            },
            "type": "scattercarpet"
           }
          ],
          "scattergeo": [
           {
            "marker": {
             "colorbar": {
              "outlinewidth": 0,
              "ticks": ""
             }
            },
            "type": "scattergeo"
           }
          ],
          "scattergl": [
           {
            "marker": {
             "colorbar": {
              "outlinewidth": 0,
              "ticks": ""
             }
            },
            "type": "scattergl"
           }
          ],
          "scattermap": [
           {
            "marker": {
             "colorbar": {
              "outlinewidth": 0,
              "ticks": ""
             }
            },
            "type": "scattermap"
           }
          ],
          "scattermapbox": [
           {
            "marker": {
             "colorbar": {
              "outlinewidth": 0,
              "ticks": ""
             }
            },
            "type": "scattermapbox"
           }
          ],
          "scatterpolar": [
           {
            "marker": {
             "colorbar": {
              "outlinewidth": 0,
              "ticks": ""
             }
            },
            "type": "scatterpolar"
           }
          ],
          "scatterpolargl": [
           {
            "marker": {
             "colorbar": {
              "outlinewidth": 0,
              "ticks": ""
             }
            },
            "type": "scatterpolargl"
           }
          ],
          "scatterternary": [
           {
            "marker": {
             "colorbar": {
              "outlinewidth": 0,
              "ticks": ""
             }
            },
            "type": "scatterternary"
           }
          ],
          "surface": [
           {
            "colorbar": {
             "outlinewidth": 0,
             "ticks": ""
            },
            "colorscale": [
             [
              0,
              "#0d0887"
             ],
             [
              0.1111111111111111,
              "#46039f"
             ],
             [
              0.2222222222222222,
              "#7201a8"
             ],
             [
              0.3333333333333333,
              "#9c179e"
             ],
             [
              0.4444444444444444,
              "#bd3786"
             ],
             [
              0.5555555555555556,
              "#d8576b"
             ],
             [
              0.6666666666666666,
              "#ed7953"
             ],
             [
              0.7777777777777778,
              "#fb9f3a"
             ],
             [
              0.8888888888888888,
              "#fdca26"
             ],
             [
              1,
              "#f0f921"
             ]
            ],
            "type": "surface"
           }
          ],
          "table": [
           {
            "cells": {
             "fill": {
              "color": "#EBF0F8"
             },
             "line": {
              "color": "white"
             }
            },
            "header": {
             "fill": {
              "color": "#C8D4E3"
             },
             "line": {
              "color": "white"
             }
            },
            "type": "table"
           }
          ]
         },
         "layout": {
          "annotationdefaults": {
           "arrowcolor": "#2a3f5f",
           "arrowhead": 0,
           "arrowwidth": 1
          },
          "autotypenumbers": "strict",
          "coloraxis": {
           "colorbar": {
            "outlinewidth": 0,
            "ticks": ""
           }
          },
          "colorscale": {
           "diverging": [
            [
             0,
             "#8e0152"
            ],
            [
             0.1,
             "#c51b7d"
            ],
            [
             0.2,
             "#de77ae"
            ],
            [
             0.3,
             "#f1b6da"
            ],
            [
             0.4,
             "#fde0ef"
            ],
            [
             0.5,
             "#f7f7f7"
            ],
            [
             0.6,
             "#e6f5d0"
            ],
            [
             0.7,
             "#b8e186"
            ],
            [
             0.8,
             "#7fbc41"
            ],
            [
             0.9,
             "#4d9221"
            ],
            [
             1,
             "#276419"
            ]
           ],
           "sequential": [
            [
             0,
             "#0d0887"
            ],
            [
             0.1111111111111111,
             "#46039f"
            ],
            [
             0.2222222222222222,
             "#7201a8"
            ],
            [
             0.3333333333333333,
             "#9c179e"
            ],
            [
             0.4444444444444444,
             "#bd3786"
            ],
            [
             0.5555555555555556,
             "#d8576b"
            ],
            [
             0.6666666666666666,
             "#ed7953"
            ],
            [
             0.7777777777777778,
             "#fb9f3a"
            ],
            [
             0.8888888888888888,
             "#fdca26"
            ],
            [
             1,
             "#f0f921"
            ]
           ],
           "sequentialminus": [
            [
             0,
             "#0d0887"
            ],
            [
             0.1111111111111111,
             "#46039f"
            ],
            [
             0.2222222222222222,
             "#7201a8"
            ],
            [
             0.3333333333333333,
             "#9c179e"
            ],
            [
             0.4444444444444444,
             "#bd3786"
            ],
            [
             0.5555555555555556,
             "#d8576b"
            ],
            [
             0.6666666666666666,
             "#ed7953"
            ],
            [
             0.7777777777777778,
             "#fb9f3a"
            ],
            [
             0.8888888888888888,
             "#fdca26"
            ],
            [
             1,
             "#f0f921"
            ]
           ]
          },
          "colorway": [
           "#636efa",
           "#EF553B",
           "#00cc96",
           "#ab63fa",
           "#FFA15A",
           "#19d3f3",
           "#FF6692",
           "#B6E880",
           "#FF97FF",
           "#FECB52"
          ],
          "font": {
           "color": "#2a3f5f"
          },
          "geo": {
           "bgcolor": "white",
           "lakecolor": "white",
           "landcolor": "#E5ECF6",
           "showlakes": true,
           "showland": true,
           "subunitcolor": "white"
          },
          "hoverlabel": {
           "align": "left"
          },
          "hovermode": "closest",
          "mapbox": {
           "style": "light"
          },
          "paper_bgcolor": "white",
          "plot_bgcolor": "#E5ECF6",
          "polar": {
           "angularaxis": {
            "gridcolor": "white",
            "linecolor": "white",
            "ticks": ""
           },
           "bgcolor": "#E5ECF6",
           "radialaxis": {
            "gridcolor": "white",
            "linecolor": "white",
            "ticks": ""
           }
          },
          "scene": {
           "xaxis": {
            "backgroundcolor": "#E5ECF6",
            "gridcolor": "white",
            "gridwidth": 2,
            "linecolor": "white",
            "showbackground": true,
            "ticks": "",
            "zerolinecolor": "white"
           },
           "yaxis": {
            "backgroundcolor": "#E5ECF6",
            "gridcolor": "white",
            "gridwidth": 2,
            "linecolor": "white",
            "showbackground": true,
            "ticks": "",
            "zerolinecolor": "white"
           },
           "zaxis": {
            "backgroundcolor": "#E5ECF6",
            "gridcolor": "white",
            "gridwidth": 2,
            "linecolor": "white",
            "showbackground": true,
            "ticks": "",
            "zerolinecolor": "white"
           }
          },
          "shapedefaults": {
           "line": {
            "color": "#2a3f5f"
           }
          },
          "ternary": {
           "aaxis": {
            "gridcolor": "white",
            "linecolor": "white",
            "ticks": ""
           },
           "baxis": {
            "gridcolor": "white",
            "linecolor": "white",
            "ticks": ""
           },
           "bgcolor": "#E5ECF6",
           "caxis": {
            "gridcolor": "white",
            "linecolor": "white",
            "ticks": ""
           }
          },
          "title": {
           "x": 0.05
          },
          "xaxis": {
           "automargin": true,
           "gridcolor": "white",
           "linecolor": "white",
           "ticks": "",
           "title": {
            "standoff": 15
           },
           "zerolinecolor": "white",
           "zerolinewidth": 2
          },
          "yaxis": {
           "automargin": true,
           "gridcolor": "white",
           "linecolor": "white",
           "ticks": "",
           "title": {
            "standoff": 15
           },
           "zerolinecolor": "white",
           "zerolinewidth": 2
          }
         }
        },
        "title": {
         "text": "Optimization History Plot"
        },
        "xaxis": {
         "title": {
          "text": "Trial"
         }
        },
        "yaxis": {
         "title": {
          "text": "Objective Value"
         }
        }
       }
      }
     },
     "metadata": {},
     "output_type": "display_data"
    },
    {
     "data": {
      "application/vnd.plotly.v1+json": {
       "config": {
        "plotlyServerURL": "https://plot.ly"
       },
       "data": [
        {
         "cliponaxis": false,
         "hovertemplate": [
          "batch_size (CategoricalDistribution): 0.029019208212337087<extra></extra>",
          "num_layers (IntDistribution): 0.047015504076799296<extra></extra>",
          "kernel_size (CategoricalDistribution): 0.07529059873017611<extra></extra>",
          "hidden_dim (CategoricalDistribution): 0.32231587300967335<extra></extra>",
          "lr (FloatDistribution): 0.5263588159710142<extra></extra>"
         ],
         "name": "Objective Value",
         "orientation": "h",
         "text": [
          "0.03",
          "0.05",
          "0.08",
          "0.32",
          "0.53"
         ],
         "textposition": "outside",
         "type": "bar",
         "x": [
          0.029019208212337087,
          0.047015504076799296,
          0.07529059873017611,
          0.32231587300967335,
          0.5263588159710142
         ],
         "y": [
          "batch_size",
          "num_layers",
          "kernel_size",
          "hidden_dim",
          "lr"
         ]
        }
       ],
       "layout": {
        "template": {
         "data": {
          "bar": [
           {
            "error_x": {
             "color": "#2a3f5f"
            },
            "error_y": {
             "color": "#2a3f5f"
            },
            "marker": {
             "line": {
              "color": "#E5ECF6",
              "width": 0.5
             },
             "pattern": {
              "fillmode": "overlay",
              "size": 10,
              "solidity": 0.2
             }
            },
            "type": "bar"
           }
          ],
          "barpolar": [
           {
            "marker": {
             "line": {
              "color": "#E5ECF6",
              "width": 0.5
             },
             "pattern": {
              "fillmode": "overlay",
              "size": 10,
              "solidity": 0.2
             }
            },
            "type": "barpolar"
           }
          ],
          "carpet": [
           {
            "aaxis": {
             "endlinecolor": "#2a3f5f",
             "gridcolor": "white",
             "linecolor": "white",
             "minorgridcolor": "white",
             "startlinecolor": "#2a3f5f"
            },
            "baxis": {
             "endlinecolor": "#2a3f5f",
             "gridcolor": "white",
             "linecolor": "white",
             "minorgridcolor": "white",
             "startlinecolor": "#2a3f5f"
            },
            "type": "carpet"
           }
          ],
          "choropleth": [
           {
            "colorbar": {
             "outlinewidth": 0,
             "ticks": ""
            },
            "type": "choropleth"
           }
          ],
          "contour": [
           {
            "colorbar": {
             "outlinewidth": 0,
             "ticks": ""
            },
            "colorscale": [
             [
              0,
              "#0d0887"
             ],
             [
              0.1111111111111111,
              "#46039f"
             ],
             [
              0.2222222222222222,
              "#7201a8"
             ],
             [
              0.3333333333333333,
              "#9c179e"
             ],
             [
              0.4444444444444444,
              "#bd3786"
             ],
             [
              0.5555555555555556,
              "#d8576b"
             ],
             [
              0.6666666666666666,
              "#ed7953"
             ],
             [
              0.7777777777777778,
              "#fb9f3a"
             ],
             [
              0.8888888888888888,
              "#fdca26"
             ],
             [
              1,
              "#f0f921"
             ]
            ],
            "type": "contour"
           }
          ],
          "contourcarpet": [
           {
            "colorbar": {
             "outlinewidth": 0,
             "ticks": ""
            },
            "type": "contourcarpet"
           }
          ],
          "heatmap": [
           {
            "colorbar": {
             "outlinewidth": 0,
             "ticks": ""
            },
            "colorscale": [
             [
              0,
              "#0d0887"
             ],
             [
              0.1111111111111111,
              "#46039f"
             ],
             [
              0.2222222222222222,
              "#7201a8"
             ],
             [
              0.3333333333333333,
              "#9c179e"
             ],
             [
              0.4444444444444444,
              "#bd3786"
             ],
             [
              0.5555555555555556,
              "#d8576b"
             ],
             [
              0.6666666666666666,
              "#ed7953"
             ],
             [
              0.7777777777777778,
              "#fb9f3a"
             ],
             [
              0.8888888888888888,
              "#fdca26"
             ],
             [
              1,
              "#f0f921"
             ]
            ],
            "type": "heatmap"
           }
          ],
          "histogram": [
           {
            "marker": {
             "pattern": {
              "fillmode": "overlay",
              "size": 10,
              "solidity": 0.2
             }
            },
            "type": "histogram"
           }
          ],
          "histogram2d": [
           {
            "colorbar": {
             "outlinewidth": 0,
             "ticks": ""
            },
            "colorscale": [
             [
              0,
              "#0d0887"
             ],
             [
              0.1111111111111111,
              "#46039f"
             ],
             [
              0.2222222222222222,
              "#7201a8"
             ],
             [
              0.3333333333333333,
              "#9c179e"
             ],
             [
              0.4444444444444444,
              "#bd3786"
             ],
             [
              0.5555555555555556,
              "#d8576b"
             ],
             [
              0.6666666666666666,
              "#ed7953"
             ],
             [
              0.7777777777777778,
              "#fb9f3a"
             ],
             [
              0.8888888888888888,
              "#fdca26"
             ],
             [
              1,
              "#f0f921"
             ]
            ],
            "type": "histogram2d"
           }
          ],
          "histogram2dcontour": [
           {
            "colorbar": {
             "outlinewidth": 0,
             "ticks": ""
            },
            "colorscale": [
             [
              0,
              "#0d0887"
             ],
             [
              0.1111111111111111,
              "#46039f"
             ],
             [
              0.2222222222222222,
              "#7201a8"
             ],
             [
              0.3333333333333333,
              "#9c179e"
             ],
             [
              0.4444444444444444,
              "#bd3786"
             ],
             [
              0.5555555555555556,
              "#d8576b"
             ],
             [
              0.6666666666666666,
              "#ed7953"
             ],
             [
              0.7777777777777778,
              "#fb9f3a"
             ],
             [
              0.8888888888888888,
              "#fdca26"
             ],
             [
              1,
              "#f0f921"
             ]
            ],
            "type": "histogram2dcontour"
           }
          ],
          "mesh3d": [
           {
            "colorbar": {
             "outlinewidth": 0,
             "ticks": ""
            },
            "type": "mesh3d"
           }
          ],
          "parcoords": [
           {
            "line": {
             "colorbar": {
              "outlinewidth": 0,
              "ticks": ""
             }
            },
            "type": "parcoords"
           }
          ],
          "pie": [
           {
            "automargin": true,
            "type": "pie"
           }
          ],
          "scatter": [
           {
            "fillpattern": {
             "fillmode": "overlay",
             "size": 10,
             "solidity": 0.2
            },
            "type": "scatter"
           }
          ],
          "scatter3d": [
           {
            "line": {
             "colorbar": {
              "outlinewidth": 0,
              "ticks": ""
             }
            },
            "marker": {
             "colorbar": {
              "outlinewidth": 0,
              "ticks": ""
             }
            },
            "type": "scatter3d"
           }
          ],
          "scattercarpet": [
           {
            "marker": {
             "colorbar": {
              "outlinewidth": 0,
              "ticks": ""
             }
            },
            "type": "scattercarpet"
           }
          ],
          "scattergeo": [
           {
            "marker": {
             "colorbar": {
              "outlinewidth": 0,
              "ticks": ""
             }
            },
            "type": "scattergeo"
           }
          ],
          "scattergl": [
           {
            "marker": {
             "colorbar": {
              "outlinewidth": 0,
              "ticks": ""
             }
            },
            "type": "scattergl"
           }
          ],
          "scattermap": [
           {
            "marker": {
             "colorbar": {
              "outlinewidth": 0,
              "ticks": ""
             }
            },
            "type": "scattermap"
           }
          ],
          "scattermapbox": [
           {
            "marker": {
             "colorbar": {
              "outlinewidth": 0,
              "ticks": ""
             }
            },
            "type": "scattermapbox"
           }
          ],
          "scatterpolar": [
           {
            "marker": {
             "colorbar": {
              "outlinewidth": 0,
              "ticks": ""
             }
            },
            "type": "scatterpolar"
           }
          ],
          "scatterpolargl": [
           {
            "marker": {
             "colorbar": {
              "outlinewidth": 0,
              "ticks": ""
             }
            },
            "type": "scatterpolargl"
           }
          ],
          "scatterternary": [
           {
            "marker": {
             "colorbar": {
              "outlinewidth": 0,
              "ticks": ""
             }
            },
            "type": "scatterternary"
           }
          ],
          "surface": [
           {
            "colorbar": {
             "outlinewidth": 0,
             "ticks": ""
            },
            "colorscale": [
             [
              0,
              "#0d0887"
             ],
             [
              0.1111111111111111,
              "#46039f"
             ],
             [
              0.2222222222222222,
              "#7201a8"
             ],
             [
              0.3333333333333333,
              "#9c179e"
             ],
             [
              0.4444444444444444,
              "#bd3786"
             ],
             [
              0.5555555555555556,
              "#d8576b"
             ],
             [
              0.6666666666666666,
              "#ed7953"
             ],
             [
              0.7777777777777778,
              "#fb9f3a"
             ],
             [
              0.8888888888888888,
              "#fdca26"
             ],
             [
              1,
              "#f0f921"
             ]
            ],
            "type": "surface"
           }
          ],
          "table": [
           {
            "cells": {
             "fill": {
              "color": "#EBF0F8"
             },
             "line": {
              "color": "white"
             }
            },
            "header": {
             "fill": {
              "color": "#C8D4E3"
             },
             "line": {
              "color": "white"
             }
            },
            "type": "table"
           }
          ]
         },
         "layout": {
          "annotationdefaults": {
           "arrowcolor": "#2a3f5f",
           "arrowhead": 0,
           "arrowwidth": 1
          },
          "autotypenumbers": "strict",
          "coloraxis": {
           "colorbar": {
            "outlinewidth": 0,
            "ticks": ""
           }
          },
          "colorscale": {
           "diverging": [
            [
             0,
             "#8e0152"
            ],
            [
             0.1,
             "#c51b7d"
            ],
            [
             0.2,
             "#de77ae"
            ],
            [
             0.3,
             "#f1b6da"
            ],
            [
             0.4,
             "#fde0ef"
            ],
            [
             0.5,
             "#f7f7f7"
            ],
            [
             0.6,
             "#e6f5d0"
            ],
            [
             0.7,
             "#b8e186"
            ],
            [
             0.8,
             "#7fbc41"
            ],
            [
             0.9,
             "#4d9221"
            ],
            [
             1,
             "#276419"
            ]
           ],
           "sequential": [
            [
             0,
             "#0d0887"
            ],
            [
             0.1111111111111111,
             "#46039f"
            ],
            [
             0.2222222222222222,
             "#7201a8"
            ],
            [
             0.3333333333333333,
             "#9c179e"
            ],
            [
             0.4444444444444444,
             "#bd3786"
            ],
            [
             0.5555555555555556,
             "#d8576b"
            ],
            [
             0.6666666666666666,
             "#ed7953"
            ],
            [
             0.7777777777777778,
             "#fb9f3a"
            ],
            [
             0.8888888888888888,
             "#fdca26"
            ],
            [
             1,
             "#f0f921"
            ]
           ],
           "sequentialminus": [
            [
             0,
             "#0d0887"
            ],
            [
             0.1111111111111111,
             "#46039f"
            ],
            [
             0.2222222222222222,
             "#7201a8"
            ],
            [
             0.3333333333333333,
             "#9c179e"
            ],
            [
             0.4444444444444444,
             "#bd3786"
            ],
            [
             0.5555555555555556,
             "#d8576b"
            ],
            [
             0.6666666666666666,
             "#ed7953"
            ],
            [
             0.7777777777777778,
             "#fb9f3a"
            ],
            [
             0.8888888888888888,
             "#fdca26"
            ],
            [
             1,
             "#f0f921"
            ]
           ]
          },
          "colorway": [
           "#636efa",
           "#EF553B",
           "#00cc96",
           "#ab63fa",
           "#FFA15A",
           "#19d3f3",
           "#FF6692",
           "#B6E880",
           "#FF97FF",
           "#FECB52"
          ],
          "font": {
           "color": "#2a3f5f"
          },
          "geo": {
           "bgcolor": "white",
           "lakecolor": "white",
           "landcolor": "#E5ECF6",
           "showlakes": true,
           "showland": true,
           "subunitcolor": "white"
          },
          "hoverlabel": {
           "align": "left"
          },
          "hovermode": "closest",
          "mapbox": {
           "style": "light"
          },
          "paper_bgcolor": "white",
          "plot_bgcolor": "#E5ECF6",
          "polar": {
           "angularaxis": {
            "gridcolor": "white",
            "linecolor": "white",
            "ticks": ""
           },
           "bgcolor": "#E5ECF6",
           "radialaxis": {
            "gridcolor": "white",
            "linecolor": "white",
            "ticks": ""
           }
          },
          "scene": {
           "xaxis": {
            "backgroundcolor": "#E5ECF6",
            "gridcolor": "white",
            "gridwidth": 2,
            "linecolor": "white",
            "showbackground": true,
            "ticks": "",
            "zerolinecolor": "white"
           },
           "yaxis": {
            "backgroundcolor": "#E5ECF6",
            "gridcolor": "white",
            "gridwidth": 2,
            "linecolor": "white",
            "showbackground": true,
            "ticks": "",
            "zerolinecolor": "white"
           },
           "zaxis": {
            "backgroundcolor": "#E5ECF6",
            "gridcolor": "white",
            "gridwidth": 2,
            "linecolor": "white",
            "showbackground": true,
            "ticks": "",
            "zerolinecolor": "white"
           }
          },
          "shapedefaults": {
           "line": {
            "color": "#2a3f5f"
           }
          },
          "ternary": {
           "aaxis": {
            "gridcolor": "white",
            "linecolor": "white",
            "ticks": ""
           },
           "baxis": {
            "gridcolor": "white",
            "linecolor": "white",
            "ticks": ""
           },
           "bgcolor": "#E5ECF6",
           "caxis": {
            "gridcolor": "white",
            "linecolor": "white",
            "ticks": ""
           }
          },
          "title": {
           "x": 0.05
          },
          "xaxis": {
           "automargin": true,
           "gridcolor": "white",
           "linecolor": "white",
           "ticks": "",
           "title": {
            "standoff": 15
           },
           "zerolinecolor": "white",
           "zerolinewidth": 2
          },
          "yaxis": {
           "automargin": true,
           "gridcolor": "white",
           "linecolor": "white",
           "ticks": "",
           "title": {
            "standoff": 15
           },
           "zerolinecolor": "white",
           "zerolinewidth": 2
          }
         }
        },
        "title": {
         "text": "Hyperparameter Importances"
        },
        "xaxis": {
         "title": {
          "text": "Hyperparameter Importance"
         }
        },
        "yaxis": {
         "title": {
          "text": "Hyperparameter"
         }
        }
       }
      }
     },
     "metadata": {},
     "output_type": "display_data"
    }
   ],
   "source": [
    "optuna.visualization.plot_optimization_history(study).show()\n",
    "optuna.visualization.plot_param_importances(study).show()\n"
   ]
  },
  {
   "cell_type": "markdown",
   "id": "79656890",
   "metadata": {},
   "source": [
    "## Decoder"
   ]
  },
  {
   "cell_type": "code",
   "execution_count": null,
   "id": "ea0d1f5f",
   "metadata": {},
   "outputs": [],
   "source": []
  },
  {
   "cell_type": "code",
   "execution_count": 61,
   "id": "5ac41ec4",
   "metadata": {},
   "outputs": [],
   "source": [
    "def objective(trial):\n",
    "    # Hiperparámetros estructurales\n",
    "    embedding_dim = trial.suggest_categorical(\"embedding_dim\", [64, 128, 256, 512])\n",
    "    num_layers = trial.suggest_int(\"num_layers\", 1, 6)\n",
    "    nhead = trial.suggest_categorical(\"nhead\", [1, 2, 4, 8])\n",
    "    dim_feedforward_factor = trial.suggest_int(\"dim_ff_factor\", 2, 6)\n",
    "    use_temporal_channel = trial.suggest_categorical(\"use_temporal_channel\", [False, True])\n",
    "\n",
    "    # Hiperparámetros de entrenamiento\n",
    "    batch_size = trial.suggest_categorical(\"batch_size\", [8, 16, 32])\n",
    "    lr = trial.suggest_float(\"lr\", 1e-4, 1e-2, log=True)\n",
    "    weight_decay = trial.suggest_float(\"weight_decay\", 1e-6, 1e-2, log=True)\n",
    "    dropout = trial.suggest_float(\"dropout\", 0.0, 0.3)\n",
    "\n",
    "    # Elegir optimizador\n",
    "    optimizer_name = trial.suggest_categorical(\"optimizer\", [\"Adam\", \"AdamW\", \"RMSprop\"])\n",
    "\n",
    "    # Dataloaders\n",
    "    train_loader, val_loader = get_data_loaders_from_tensors(batch_size)\n",
    "\n",
    "    # Modelo\n",
    "    class CustomTransformerDecoder(TransformerDecoder):\n",
    "        def __init__(self, embedding_dim, num_layers, nhead, dim_ff, dropout):\n",
    "            super().__init__(embedding_dim, num_layers, nhead)\n",
    "            encoder_layer = nn.TransformerEncoderLayer(\n",
    "                d_model=embedding_dim,\n",
    "                nhead=nhead,\n",
    "                dim_feedforward=dim_ff,\n",
    "                dropout=dropout,\n",
    "                batch_first=True\n",
    "            )\n",
    "            self.transformer = nn.TransformerEncoder(encoder_layer, num_layers=num_layers)\n",
    "\n",
    "    model = GenericSpatioTemporalDecoder(\n",
    "        embedding_dim=embedding_dim,\n",
    "        num_layers=num_layers,\n",
    "        nhead=nhead,\n",
    "        in_channels=3,\n",
    "        use_temporal_channel=use_temporal_channel\n",
    "    ).to(device)\n",
    "\n",
    "    # Reemplazar el decoder por uno con dropout y tamaño FF ajustado\n",
    "    model.temporal_decoder = CustomTransformerDecoder(\n",
    "        embedding_dim=embedding_dim,\n",
    "        num_layers=num_layers,\n",
    "        nhead=nhead,\n",
    "        dim_ff=embedding_dim * dim_feedforward_factor,\n",
    "        dropout=dropout\n",
    "    ).to(device)\n",
    "\n",
    "    # Optimizador\n",
    "    optimizer_cls = {\"Adam\": torch.optim.Adam, \"AdamW\": torch.optim.AdamW, \"RMSprop\": torch.optim.RMSprop}[optimizer_name]\n",
    "    optimizer = optimizer_cls(model.parameters(), lr=lr, weight_decay=weight_decay)\n",
    "\n",
    "    scheduler = torch.optim.lr_scheduler.ReduceLROnPlateau(optimizer, mode=\"min\", factor=0.5, patience=5)\n",
    "    criterion = torch.nn.MSELoss()\n",
    "\n",
    "    # Entrenamiento\n",
    "    best_val_loss = float(\"inf\")\n",
    "    for epoch in range(epochs):\n",
    "        train_loss = train_one_epoch(model, train_loader, criterion, optimizer, device, epoch, epochs)\n",
    "        val_loss = evaluate(model, val_loader, criterion, device)\n",
    "        scheduler.step(val_loss)\n",
    "\n",
    "        if val_loss < best_val_loss:\n",
    "            best_val_loss = val_loss\n",
    "\n",
    "        trial.report(val_loss, epoch)\n",
    "        if trial.should_prune():\n",
    "            raise optuna.exceptions.TrialPruned()\n",
    "\n",
    "    return best_val_loss\n"
   ]
  },
  {
   "cell_type": "code",
   "execution_count": 62,
   "id": "e93468e3",
   "metadata": {},
   "outputs": [
    {
     "name": "stderr",
     "output_type": "stream",
     "text": [
      "[I 2025-05-06 08:01:05,662] A new study created in memory with name: generic_spatiotemporal_regressor\n",
      "[I 2025-05-06 08:01:05,818] Trial 0 finished with value: 1.4693652391433716 and parameters: {'embedding_dim': 128, 'num_layers': 1, 'nhead': 8, 'dim_ff_factor': 2, 'use_temporal_channel': True, 'batch_size': 32, 'lr': 0.00222884028328163, 'weight_decay': 8.62875912832344e-05, 'dropout': 0.22836201120322436, 'optimizer': 'Adam'}. Best is trial 0 with value: 1.4693652391433716.\n",
      "[I 2025-05-06 08:01:05,890] Trial 1 finished with value: 1.630523920059204 and parameters: {'embedding_dim': 128, 'num_layers': 4, 'nhead': 8, 'dim_ff_factor': 3, 'use_temporal_channel': True, 'batch_size': 8, 'lr': 0.0020997222473648023, 'weight_decay': 5.885668181198808e-05, 'dropout': 0.22862700679317605, 'optimizer': 'Adam'}. Best is trial 0 with value: 1.4693652391433716.\n",
      "[I 2025-05-06 08:01:06,135] Trial 2 finished with value: 0.1923268735408783 and parameters: {'embedding_dim': 512, 'num_layers': 5, 'nhead': 4, 'dim_ff_factor': 5, 'use_temporal_channel': True, 'batch_size': 8, 'lr': 0.0010191251855337492, 'weight_decay': 0.00028912973178984915, 'dropout': 0.21171169872780654, 'optimizer': 'RMSprop'}. Best is trial 2 with value: 0.1923268735408783.\n",
      "[I 2025-05-06 08:01:06,205] Trial 3 finished with value: 1.806439757347107 and parameters: {'embedding_dim': 128, 'num_layers': 6, 'nhead': 2, 'dim_ff_factor': 2, 'use_temporal_channel': False, 'batch_size': 8, 'lr': 0.00013846453346175454, 'weight_decay': 0.004850553432174064, 'dropout': 0.09994491014636304, 'optimizer': 'Adam'}. Best is trial 2 with value: 0.1923268735408783.\n",
      "[I 2025-05-06 08:01:06,305] Trial 4 finished with value: 1.7152462005615234 and parameters: {'embedding_dim': 256, 'num_layers': 5, 'nhead': 4, 'dim_ff_factor': 5, 'use_temporal_channel': False, 'batch_size': 32, 'lr': 0.00012819227910434107, 'weight_decay': 5.1718508155495264e-05, 'dropout': 0.08615419824429614, 'optimizer': 'AdamW'}. Best is trial 2 with value: 0.1923268735408783.\n",
      "[I 2025-05-06 08:01:06,373] Trial 5 finished with value: 1.3993048667907715 and parameters: {'embedding_dim': 256, 'num_layers': 2, 'nhead': 8, 'dim_ff_factor': 3, 'use_temporal_channel': False, 'batch_size': 8, 'lr': 0.00012834193734686248, 'weight_decay': 0.0033133434531361643, 'dropout': 0.17847873694861854, 'optimizer': 'RMSprop'}. Best is trial 2 with value: 0.1923268735408783.\n",
      "[I 2025-05-06 08:01:06,536] Trial 6 finished with value: 0.22996768355369568 and parameters: {'embedding_dim': 512, 'num_layers': 1, 'nhead': 1, 'dim_ff_factor': 3, 'use_temporal_channel': True, 'batch_size': 16, 'lr': 0.0007089161349241313, 'weight_decay': 1.2138820754292065e-05, 'dropout': 0.0060760372079236786, 'optimizer': 'RMSprop'}. Best is trial 2 with value: 0.1923268735408783.\n",
      "[I 2025-05-06 08:01:06,592] Trial 7 finished with value: 0.9198921322822571 and parameters: {'embedding_dim': 128, 'num_layers': 3, 'nhead': 8, 'dim_ff_factor': 2, 'use_temporal_channel': False, 'batch_size': 8, 'lr': 0.0011148663917659035, 'weight_decay': 5.745799320721275e-06, 'dropout': 0.2312181372062709, 'optimizer': 'RMSprop'}. Best is trial 2 with value: 0.1923268735408783.\n",
      "[I 2025-05-06 08:01:06,757] Trial 8 finished with value: 0.24469001591205597 and parameters: {'embedding_dim': 512, 'num_layers': 4, 'nhead': 8, 'dim_ff_factor': 2, 'use_temporal_channel': True, 'batch_size': 8, 'lr': 0.006767513737486293, 'weight_decay': 0.00019270076706817105, 'dropout': 0.012250175733009393, 'optimizer': 'Adam'}. Best is trial 2 with value: 0.1923268735408783.\n",
      "[I 2025-05-06 08:01:06,835] Trial 9 pruned.                           \n",
      "[I 2025-05-06 08:01:07,056] Trial 10 finished with value: 0.6050902605056763 and parameters: {'embedding_dim': 512, 'num_layers': 5, 'nhead': 4, 'dim_ff_factor': 6, 'use_temporal_channel': True, 'batch_size': 16, 'lr': 0.0003942228983421864, 'weight_decay': 0.0005820522833880625, 'dropout': 0.281244843859513, 'optimizer': 'RMSprop'}. Best is trial 2 with value: 0.1923268735408783.\n",
      "[I 2025-05-06 08:01:07,190] Trial 11 finished with value: 0.5789771676063538 and parameters: {'embedding_dim': 512, 'num_layers': 1, 'nhead': 1, 'dim_ff_factor': 4, 'use_temporal_channel': True, 'batch_size': 16, 'lr': 0.00046582212127055454, 'weight_decay': 3.804892439658325e-06, 'dropout': 0.008633090023702142, 'optimizer': 'RMSprop'}. Best is trial 2 with value: 0.1923268735408783.\n",
      "[I 2025-05-06 08:01:07,357] Trial 12 finished with value: 0.3701494634151459 and parameters: {'embedding_dim': 512, 'num_layers': 3, 'nhead': 1, 'dim_ff_factor': 4, 'use_temporal_channel': True, 'batch_size': 16, 'lr': 0.000532368795560046, 'weight_decay': 9.665452652738442e-06, 'dropout': 0.15934063191349915, 'optimizer': 'RMSprop'}. Best is trial 2 with value: 0.1923268735408783.\n",
      "[I 2025-05-06 08:01:07,507] Trial 13 finished with value: 0.4160434305667877 and parameters: {'embedding_dim': 512, 'num_layers': 2, 'nhead': 1, 'dim_ff_factor': 5, 'use_temporal_channel': True, 'batch_size': 16, 'lr': 0.001206020197817784, 'weight_decay': 0.0007142065976730584, 'dropout': 0.08151187323195758, 'optimizer': 'RMSprop'}. Best is trial 2 with value: 0.1923268735408783.\n",
      "[I 2025-05-06 08:01:07,586] Trial 14 pruned.                          \n",
      "[I 2025-05-06 08:01:07,739] Trial 15 pruned.                          \n",
      "[I 2025-05-06 08:01:07,970] Trial 16 pruned.                          \n",
      "[I 2025-05-06 08:01:08,231] Trial 17 pruned.                          \n",
      "[I 2025-05-06 08:01:08,336] Trial 18 pruned.                          \n",
      "[I 2025-05-06 08:01:08,451] Trial 19 pruned.                          \n",
      "[I 2025-05-06 08:01:08,725] Trial 20 pruned.                          \n",
      "[I 2025-05-06 08:01:08,905] Trial 21 finished with value: 0.28378763794898987 and parameters: {'embedding_dim': 512, 'num_layers': 4, 'nhead': 8, 'dim_ff_factor': 2, 'use_temporal_channel': True, 'batch_size': 8, 'lr': 0.005820570724984677, 'weight_decay': 0.00020408800992459698, 'dropout': 0.011140703511328332, 'optimizer': 'Adam'}. Best is trial 2 with value: 0.1923268735408783.\n",
      "[I 2025-05-06 08:01:09,085] Trial 22 finished with value: 0.18186771869659424 and parameters: {'embedding_dim': 512, 'num_layers': 4, 'nhead': 8, 'dim_ff_factor': 3, 'use_temporal_channel': True, 'batch_size': 8, 'lr': 0.009860096609203731, 'weight_decay': 0.0015255746353292137, 'dropout': 0.03946002202331383, 'optimizer': 'Adam'}. Best is trial 22 with value: 0.18186771869659424.\n",
      "[I 2025-05-06 08:01:09,291] Trial 23 pruned.                          \n",
      "[I 2025-05-06 08:01:09,457] Trial 24 pruned.                          \n",
      "[I 2025-05-06 08:01:09,694] Trial 25 finished with value: 0.14868606626987457 and parameters: {'embedding_dim': 512, 'num_layers': 4, 'nhead': 4, 'dim_ff_factor': 4, 'use_temporal_channel': True, 'batch_size': 8, 'lr': 0.009621089712657297, 'weight_decay': 0.0020484734625875168, 'dropout': 0.1952609801696341, 'optimizer': 'Adam'}. Best is trial 25 with value: 0.14868606626987457.\n",
      "[I 2025-05-06 08:01:09,977] Trial 26 pruned.                          \n",
      "[I 2025-05-06 08:01:10,075] Trial 27 pruned.                          \n",
      "[I 2025-05-06 08:01:10,189] Trial 28 finished with value: 0.3445281684398651 and parameters: {'embedding_dim': 256, 'num_layers': 4, 'nhead': 4, 'dim_ff_factor': 4, 'use_temporal_channel': True, 'batch_size': 8, 'lr': 0.009080656353256654, 'weight_decay': 0.0005596844978944562, 'dropout': 0.1643132641409656, 'optimizer': 'Adam'}. Best is trial 25 with value: 0.14868606626987457.\n",
      "[I 2025-05-06 08:01:10,290] Trial 29 pruned.                          \n",
      "[I 2025-05-06 08:01:10,526] Trial 30 pruned.                          \n",
      "[I 2025-05-06 08:01:10,704] Trial 31 pruned.                          \n",
      "[I 2025-05-06 08:01:10,889] Trial 32 finished with value: 0.38000407814979553 and parameters: {'embedding_dim': 512, 'num_layers': 4, 'nhead': 2, 'dim_ff_factor': 3, 'use_temporal_channel': True, 'batch_size': 8, 'lr': 0.00986206257712847, 'weight_decay': 3.0100481912747402e-05, 'dropout': 0.135086274628925, 'optimizer': 'Adam'}. Best is trial 25 with value: 0.14868606626987457.\n",
      "[I 2025-05-06 08:01:11,056] Trial 33 pruned.                          \n",
      "[I 2025-05-06 08:01:11,135] Trial 34 pruned.                          \n",
      "[I 2025-05-06 08:01:11,291] Trial 35 pruned.                          \n",
      "[I 2025-05-06 08:01:11,375] Trial 36 pruned.                          \n",
      "[I 2025-05-06 08:01:11,461] Trial 37 pruned.                          \n",
      "[I 2025-05-06 08:01:11,658] Trial 38 pruned.                          \n",
      "[I 2025-05-06 08:01:11,853] Trial 39 pruned.                          \n",
      "[I 2025-05-06 08:01:11,951] Trial 40 pruned.                          \n",
      "[I 2025-05-06 08:01:12,123] Trial 41 finished with value: 0.1714072823524475 and parameters: {'embedding_dim': 512, 'num_layers': 4, 'nhead': 8, 'dim_ff_factor': 2, 'use_temporal_channel': True, 'batch_size': 8, 'lr': 0.006728284471570611, 'weight_decay': 4.5624522916221245e-05, 'dropout': 0.021051518736967034, 'optimizer': 'Adam'}. Best is trial 25 with value: 0.14868606626987457.\n",
      "[I 2025-05-06 08:01:12,325] Trial 42 finished with value: 0.33834725618362427 and parameters: {'embedding_dim': 512, 'num_layers': 5, 'nhead': 8, 'dim_ff_factor': 2, 'use_temporal_channel': True, 'batch_size': 8, 'lr': 0.007308648067813732, 'weight_decay': 3.7089258569678435e-05, 'dropout': 0.02397411235548575, 'optimizer': 'Adam'}. Best is trial 25 with value: 0.14868606626987457.\n",
      "[I 2025-05-06 08:01:12,485] Trial 43 finished with value: 0.15540821850299835 and parameters: {'embedding_dim': 512, 'num_layers': 3, 'nhead': 8, 'dim_ff_factor': 2, 'use_temporal_channel': True, 'batch_size': 8, 'lr': 0.009918015045798948, 'weight_decay': 8.835472263999623e-06, 'dropout': 0.09854859468121066, 'optimizer': 'Adam'}. Best is trial 25 with value: 0.14868606626987457.\n",
      "[I 2025-05-06 08:01:12,654] Trial 44 finished with value: 0.17219707369804382 and parameters: {'embedding_dim': 512, 'num_layers': 3, 'nhead': 8, 'dim_ff_factor': 2, 'use_temporal_channel': True, 'batch_size': 8, 'lr': 0.007803029609493193, 'weight_decay': 3.5048134699520696e-06, 'dropout': 0.0934767410407303, 'optimizer': 'Adam'}. Best is trial 25 with value: 0.14868606626987457.\n",
      "[I 2025-05-06 08:01:12,811] Trial 45 finished with value: 0.32646888494491577 and parameters: {'embedding_dim': 512, 'num_layers': 3, 'nhead': 8, 'dim_ff_factor': 2, 'use_temporal_channel': True, 'batch_size': 8, 'lr': 0.007945551413965983, 'weight_decay': 3.2422205444603646e-06, 'dropout': 0.09650641704022057, 'optimizer': 'Adam'}. Best is trial 25 with value: 0.14868606626987457.\n",
      "[I 2025-05-06 08:01:12,973] Trial 46 finished with value: 0.21806363761425018 and parameters: {'embedding_dim': 512, 'num_layers': 3, 'nhead': 8, 'dim_ff_factor': 2, 'use_temporal_channel': True, 'batch_size': 8, 'lr': 0.00596409455353293, 'weight_decay': 7.22571806621825e-06, 'dropout': 0.08916573729092617, 'optimizer': 'Adam'}. Best is trial 25 with value: 0.14868606626987457.\n",
      "[I 2025-05-06 08:01:13,109] Trial 47 pruned.                          \n",
      "[I 2025-05-06 08:01:13,210] Trial 48 pruned.                          \n",
      "[I 2025-05-06 08:01:13,373] Trial 49 finished with value: 0.19429205358028412 and parameters: {'embedding_dim': 512, 'num_layers': 3, 'nhead': 8, 'dim_ff_factor': 2, 'use_temporal_channel': True, 'batch_size': 8, 'lr': 0.006638927420018567, 'weight_decay': 4.2850840238112475e-06, 'dropout': 0.1050577837797685, 'optimizer': 'Adam'}. Best is trial 25 with value: 0.14868606626987457.\n"
     ]
    },
    {
     "name": "stdout",
     "output_type": "stream",
     "text": [
      "🔍 Best trial:\n",
      "embedding_dim: 512\n",
      "num_layers: 4\n",
      "nhead: 4\n",
      "dim_ff_factor: 4\n",
      "use_temporal_channel: True\n",
      "batch_size: 8\n",
      "lr: 0.009621089712657297\n",
      "weight_decay: 0.0020484734625875168\n",
      "dropout: 0.1952609801696341\n",
      "optimizer: Adam\n"
     ]
    }
   ],
   "source": [
    "study = optuna.create_study(direction=\"minimize\", study_name=\"generic_spatiotemporal_regressor\")\n",
    "study.optimize(objective, n_trials=50)\n",
    "\n",
    "# Mostrar el mejor resultado\n",
    "print(\"🔍 Best trial:\")\n",
    "for k, v in study.best_trial.params.items():\n",
    "    print(f\"{k}: {v}\")\n"
   ]
  },
  {
   "cell_type": "code",
   "execution_count": 63,
   "id": "3ec5e5c8",
   "metadata": {},
   "outputs": [
    {
     "name": "stdout",
     "output_type": "stream",
     "text": [
      "🎯 Best trial:\n",
      "  embedding_dim: 512\n",
      "  num_layers: 4\n",
      "  nhead: 4\n",
      "  dim_ff_factor: 4\n",
      "  use_temporal_channel: True\n",
      "  batch_size: 8\n",
      "  lr: 0.009621089712657297\n",
      "  weight_decay: 0.0020484734625875168\n",
      "  dropout: 0.1952609801696341\n",
      "  optimizer: Adam\n"
     ]
    }
   ],
   "source": [
    "\n",
    "# Mostrar el mejor resultado\n",
    "print(\"🎯 Best trial:\")\n",
    "for key, val in study.best_trial.params.items():\n",
    "    print(f\"  {key}: {val}\")"
   ]
  },
  {
   "cell_type": "code",
   "execution_count": 64,
   "id": "3d69a161",
   "metadata": {},
   "outputs": [
    {
     "data": {
      "application/vnd.plotly.v1+json": {
       "config": {
        "plotlyServerURL": "https://plot.ly"
       },
       "data": [
        {
         "mode": "markers",
         "name": "Objective Value",
         "type": "scatter",
         "x": [
          0,
          1,
          2,
          3,
          4,
          5,
          6,
          7,
          8,
          10,
          11,
          12,
          13,
          21,
          22,
          25,
          28,
          32,
          41,
          42,
          43,
          44,
          45,
          46,
          49
         ],
         "y": [
          1.4693652391433716,
          1.630523920059204,
          0.1923268735408783,
          1.806439757347107,
          1.7152462005615234,
          1.3993048667907715,
          0.22996768355369568,
          0.9198921322822571,
          0.24469001591205597,
          0.6050902605056763,
          0.5789771676063538,
          0.3701494634151459,
          0.4160434305667877,
          0.28378763794898987,
          0.18186771869659424,
          0.14868606626987457,
          0.3445281684398651,
          0.38000407814979553,
          0.1714072823524475,
          0.33834725618362427,
          0.15540821850299835,
          0.17219707369804382,
          0.32646888494491577,
          0.21806363761425018,
          0.19429205358028412
         ]
        },
        {
         "mode": "lines",
         "name": "Best Value",
         "type": "scatter",
         "x": [
          0,
          1,
          2,
          3,
          4,
          5,
          6,
          7,
          8,
          9,
          10,
          11,
          12,
          13,
          14,
          15,
          16,
          17,
          18,
          19,
          20,
          21,
          22,
          23,
          24,
          25,
          26,
          27,
          28,
          29,
          30,
          31,
          32,
          33,
          34,
          35,
          36,
          37,
          38,
          39,
          40,
          41,
          42,
          43,
          44,
          45,
          46,
          47,
          48,
          49
         ],
         "y": [
          1.4693652391433716,
          1.4693652391433716,
          0.1923268735408783,
          0.1923268735408783,
          0.1923268735408783,
          0.1923268735408783,
          0.1923268735408783,
          0.1923268735408783,
          0.1923268735408783,
          0.1923268735408783,
          0.1923268735408783,
          0.1923268735408783,
          0.1923268735408783,
          0.1923268735408783,
          0.1923268735408783,
          0.1923268735408783,
          0.1923268735408783,
          0.1923268735408783,
          0.1923268735408783,
          0.1923268735408783,
          0.1923268735408783,
          0.1923268735408783,
          0.18186771869659424,
          0.18186771869659424,
          0.18186771869659424,
          0.14868606626987457,
          0.14868606626987457,
          0.14868606626987457,
          0.14868606626987457,
          0.14868606626987457,
          0.14868606626987457,
          0.14868606626987457,
          0.14868606626987457,
          0.14868606626987457,
          0.14868606626987457,
          0.14868606626987457,
          0.14868606626987457,
          0.14868606626987457,
          0.14868606626987457,
          0.14868606626987457,
          0.14868606626987457,
          0.14868606626987457,
          0.14868606626987457,
          0.14868606626987457,
          0.14868606626987457,
          0.14868606626987457,
          0.14868606626987457,
          0.14868606626987457,
          0.14868606626987457,
          0.14868606626987457
         ]
        },
        {
         "marker": {
          "color": "#cccccc"
         },
         "mode": "markers",
         "name": "Infeasible Trial",
         "showlegend": false,
         "type": "scatter",
         "x": [],
         "y": []
        }
       ],
       "layout": {
        "template": {
         "data": {
          "bar": [
           {
            "error_x": {
             "color": "#2a3f5f"
            },
            "error_y": {
             "color": "#2a3f5f"
            },
            "marker": {
             "line": {
              "color": "#E5ECF6",
              "width": 0.5
             },
             "pattern": {
              "fillmode": "overlay",
              "size": 10,
              "solidity": 0.2
             }
            },
            "type": "bar"
           }
          ],
          "barpolar": [
           {
            "marker": {
             "line": {
              "color": "#E5ECF6",
              "width": 0.5
             },
             "pattern": {
              "fillmode": "overlay",
              "size": 10,
              "solidity": 0.2
             }
            },
            "type": "barpolar"
           }
          ],
          "carpet": [
           {
            "aaxis": {
             "endlinecolor": "#2a3f5f",
             "gridcolor": "white",
             "linecolor": "white",
             "minorgridcolor": "white",
             "startlinecolor": "#2a3f5f"
            },
            "baxis": {
             "endlinecolor": "#2a3f5f",
             "gridcolor": "white",
             "linecolor": "white",
             "minorgridcolor": "white",
             "startlinecolor": "#2a3f5f"
            },
            "type": "carpet"
           }
          ],
          "choropleth": [
           {
            "colorbar": {
             "outlinewidth": 0,
             "ticks": ""
            },
            "type": "choropleth"
           }
          ],
          "contour": [
           {
            "colorbar": {
             "outlinewidth": 0,
             "ticks": ""
            },
            "colorscale": [
             [
              0,
              "#0d0887"
             ],
             [
              0.1111111111111111,
              "#46039f"
             ],
             [
              0.2222222222222222,
              "#7201a8"
             ],
             [
              0.3333333333333333,
              "#9c179e"
             ],
             [
              0.4444444444444444,
              "#bd3786"
             ],
             [
              0.5555555555555556,
              "#d8576b"
             ],
             [
              0.6666666666666666,
              "#ed7953"
             ],
             [
              0.7777777777777778,
              "#fb9f3a"
             ],
             [
              0.8888888888888888,
              "#fdca26"
             ],
             [
              1,
              "#f0f921"
             ]
            ],
            "type": "contour"
           }
          ],
          "contourcarpet": [
           {
            "colorbar": {
             "outlinewidth": 0,
             "ticks": ""
            },
            "type": "contourcarpet"
           }
          ],
          "heatmap": [
           {
            "colorbar": {
             "outlinewidth": 0,
             "ticks": ""
            },
            "colorscale": [
             [
              0,
              "#0d0887"
             ],
             [
              0.1111111111111111,
              "#46039f"
             ],
             [
              0.2222222222222222,
              "#7201a8"
             ],
             [
              0.3333333333333333,
              "#9c179e"
             ],
             [
              0.4444444444444444,
              "#bd3786"
             ],
             [
              0.5555555555555556,
              "#d8576b"
             ],
             [
              0.6666666666666666,
              "#ed7953"
             ],
             [
              0.7777777777777778,
              "#fb9f3a"
             ],
             [
              0.8888888888888888,
              "#fdca26"
             ],
             [
              1,
              "#f0f921"
             ]
            ],
            "type": "heatmap"
           }
          ],
          "histogram": [
           {
            "marker": {
             "pattern": {
              "fillmode": "overlay",
              "size": 10,
              "solidity": 0.2
             }
            },
            "type": "histogram"
           }
          ],
          "histogram2d": [
           {
            "colorbar": {
             "outlinewidth": 0,
             "ticks": ""
            },
            "colorscale": [
             [
              0,
              "#0d0887"
             ],
             [
              0.1111111111111111,
              "#46039f"
             ],
             [
              0.2222222222222222,
              "#7201a8"
             ],
             [
              0.3333333333333333,
              "#9c179e"
             ],
             [
              0.4444444444444444,
              "#bd3786"
             ],
             [
              0.5555555555555556,
              "#d8576b"
             ],
             [
              0.6666666666666666,
              "#ed7953"
             ],
             [
              0.7777777777777778,
              "#fb9f3a"
             ],
             [
              0.8888888888888888,
              "#fdca26"
             ],
             [
              1,
              "#f0f921"
             ]
            ],
            "type": "histogram2d"
           }
          ],
          "histogram2dcontour": [
           {
            "colorbar": {
             "outlinewidth": 0,
             "ticks": ""
            },
            "colorscale": [
             [
              0,
              "#0d0887"
             ],
             [
              0.1111111111111111,
              "#46039f"
             ],
             [
              0.2222222222222222,
              "#7201a8"
             ],
             [
              0.3333333333333333,
              "#9c179e"
             ],
             [
              0.4444444444444444,
              "#bd3786"
             ],
             [
              0.5555555555555556,
              "#d8576b"
             ],
             [
              0.6666666666666666,
              "#ed7953"
             ],
             [
              0.7777777777777778,
              "#fb9f3a"
             ],
             [
              0.8888888888888888,
              "#fdca26"
             ],
             [
              1,
              "#f0f921"
             ]
            ],
            "type": "histogram2dcontour"
           }
          ],
          "mesh3d": [
           {
            "colorbar": {
             "outlinewidth": 0,
             "ticks": ""
            },
            "type": "mesh3d"
           }
          ],
          "parcoords": [
           {
            "line": {
             "colorbar": {
              "outlinewidth": 0,
              "ticks": ""
             }
            },
            "type": "parcoords"
           }
          ],
          "pie": [
           {
            "automargin": true,
            "type": "pie"
           }
          ],
          "scatter": [
           {
            "fillpattern": {
             "fillmode": "overlay",
             "size": 10,
             "solidity": 0.2
            },
            "type": "scatter"
           }
          ],
          "scatter3d": [
           {
            "line": {
             "colorbar": {
              "outlinewidth": 0,
              "ticks": ""
             }
            },
            "marker": {
             "colorbar": {
              "outlinewidth": 0,
              "ticks": ""
             }
            },
            "type": "scatter3d"
           }
          ],
          "scattercarpet": [
           {
            "marker": {
             "colorbar": {
              "outlinewidth": 0,
              "ticks": ""
             }
            },
            "type": "scattercarpet"
           }
          ],
          "scattergeo": [
           {
            "marker": {
             "colorbar": {
              "outlinewidth": 0,
              "ticks": ""
             }
            },
            "type": "scattergeo"
           }
          ],
          "scattergl": [
           {
            "marker": {
             "colorbar": {
              "outlinewidth": 0,
              "ticks": ""
             }
            },
            "type": "scattergl"
           }
          ],
          "scattermap": [
           {
            "marker": {
             "colorbar": {
              "outlinewidth": 0,
              "ticks": ""
             }
            },
            "type": "scattermap"
           }
          ],
          "scattermapbox": [
           {
            "marker": {
             "colorbar": {
              "outlinewidth": 0,
              "ticks": ""
             }
            },
            "type": "scattermapbox"
           }
          ],
          "scatterpolar": [
           {
            "marker": {
             "colorbar": {
              "outlinewidth": 0,
              "ticks": ""
             }
            },
            "type": "scatterpolar"
           }
          ],
          "scatterpolargl": [
           {
            "marker": {
             "colorbar": {
              "outlinewidth": 0,
              "ticks": ""
             }
            },
            "type": "scatterpolargl"
           }
          ],
          "scatterternary": [
           {
            "marker": {
             "colorbar": {
              "outlinewidth": 0,
              "ticks": ""
             }
            },
            "type": "scatterternary"
           }
          ],
          "surface": [
           {
            "colorbar": {
             "outlinewidth": 0,
             "ticks": ""
            },
            "colorscale": [
             [
              0,
              "#0d0887"
             ],
             [
              0.1111111111111111,
              "#46039f"
             ],
             [
              0.2222222222222222,
              "#7201a8"
             ],
             [
              0.3333333333333333,
              "#9c179e"
             ],
             [
              0.4444444444444444,
              "#bd3786"
             ],
             [
              0.5555555555555556,
              "#d8576b"
             ],
             [
              0.6666666666666666,
              "#ed7953"
             ],
             [
              0.7777777777777778,
              "#fb9f3a"
             ],
             [
              0.8888888888888888,
              "#fdca26"
             ],
             [
              1,
              "#f0f921"
             ]
            ],
            "type": "surface"
           }
          ],
          "table": [
           {
            "cells": {
             "fill": {
              "color": "#EBF0F8"
             },
             "line": {
              "color": "white"
             }
            },
            "header": {
             "fill": {
              "color": "#C8D4E3"
             },
             "line": {
              "color": "white"
             }
            },
            "type": "table"
           }
          ]
         },
         "layout": {
          "annotationdefaults": {
           "arrowcolor": "#2a3f5f",
           "arrowhead": 0,
           "arrowwidth": 1
          },
          "autotypenumbers": "strict",
          "coloraxis": {
           "colorbar": {
            "outlinewidth": 0,
            "ticks": ""
           }
          },
          "colorscale": {
           "diverging": [
            [
             0,
             "#8e0152"
            ],
            [
             0.1,
             "#c51b7d"
            ],
            [
             0.2,
             "#de77ae"
            ],
            [
             0.3,
             "#f1b6da"
            ],
            [
             0.4,
             "#fde0ef"
            ],
            [
             0.5,
             "#f7f7f7"
            ],
            [
             0.6,
             "#e6f5d0"
            ],
            [
             0.7,
             "#b8e186"
            ],
            [
             0.8,
             "#7fbc41"
            ],
            [
             0.9,
             "#4d9221"
            ],
            [
             1,
             "#276419"
            ]
           ],
           "sequential": [
            [
             0,
             "#0d0887"
            ],
            [
             0.1111111111111111,
             "#46039f"
            ],
            [
             0.2222222222222222,
             "#7201a8"
            ],
            [
             0.3333333333333333,
             "#9c179e"
            ],
            [
             0.4444444444444444,
             "#bd3786"
            ],
            [
             0.5555555555555556,
             "#d8576b"
            ],
            [
             0.6666666666666666,
             "#ed7953"
            ],
            [
             0.7777777777777778,
             "#fb9f3a"
            ],
            [
             0.8888888888888888,
             "#fdca26"
            ],
            [
             1,
             "#f0f921"
            ]
           ],
           "sequentialminus": [
            [
             0,
             "#0d0887"
            ],
            [
             0.1111111111111111,
             "#46039f"
            ],
            [
             0.2222222222222222,
             "#7201a8"
            ],
            [
             0.3333333333333333,
             "#9c179e"
            ],
            [
             0.4444444444444444,
             "#bd3786"
            ],
            [
             0.5555555555555556,
             "#d8576b"
            ],
            [
             0.6666666666666666,
             "#ed7953"
            ],
            [
             0.7777777777777778,
             "#fb9f3a"
            ],
            [
             0.8888888888888888,
             "#fdca26"
            ],
            [
             1,
             "#f0f921"
            ]
           ]
          },
          "colorway": [
           "#636efa",
           "#EF553B",
           "#00cc96",
           "#ab63fa",
           "#FFA15A",
           "#19d3f3",
           "#FF6692",
           "#B6E880",
           "#FF97FF",
           "#FECB52"
          ],
          "font": {
           "color": "#2a3f5f"
          },
          "geo": {
           "bgcolor": "white",
           "lakecolor": "white",
           "landcolor": "#E5ECF6",
           "showlakes": true,
           "showland": true,
           "subunitcolor": "white"
          },
          "hoverlabel": {
           "align": "left"
          },
          "hovermode": "closest",
          "mapbox": {
           "style": "light"
          },
          "paper_bgcolor": "white",
          "plot_bgcolor": "#E5ECF6",
          "polar": {
           "angularaxis": {
            "gridcolor": "white",
            "linecolor": "white",
            "ticks": ""
           },
           "bgcolor": "#E5ECF6",
           "radialaxis": {
            "gridcolor": "white",
            "linecolor": "white",
            "ticks": ""
           }
          },
          "scene": {
           "xaxis": {
            "backgroundcolor": "#E5ECF6",
            "gridcolor": "white",
            "gridwidth": 2,
            "linecolor": "white",
            "showbackground": true,
            "ticks": "",
            "zerolinecolor": "white"
           },
           "yaxis": {
            "backgroundcolor": "#E5ECF6",
            "gridcolor": "white",
            "gridwidth": 2,
            "linecolor": "white",
            "showbackground": true,
            "ticks": "",
            "zerolinecolor": "white"
           },
           "zaxis": {
            "backgroundcolor": "#E5ECF6",
            "gridcolor": "white",
            "gridwidth": 2,
            "linecolor": "white",
            "showbackground": true,
            "ticks": "",
            "zerolinecolor": "white"
           }
          },
          "shapedefaults": {
           "line": {
            "color": "#2a3f5f"
           }
          },
          "ternary": {
           "aaxis": {
            "gridcolor": "white",
            "linecolor": "white",
            "ticks": ""
           },
           "baxis": {
            "gridcolor": "white",
            "linecolor": "white",
            "ticks": ""
           },
           "bgcolor": "#E5ECF6",
           "caxis": {
            "gridcolor": "white",
            "linecolor": "white",
            "ticks": ""
           }
          },
          "title": {
           "x": 0.05
          },
          "xaxis": {
           "automargin": true,
           "gridcolor": "white",
           "linecolor": "white",
           "ticks": "",
           "title": {
            "standoff": 15
           },
           "zerolinecolor": "white",
           "zerolinewidth": 2
          },
          "yaxis": {
           "automargin": true,
           "gridcolor": "white",
           "linecolor": "white",
           "ticks": "",
           "title": {
            "standoff": 15
           },
           "zerolinecolor": "white",
           "zerolinewidth": 2
          }
         }
        },
        "title": {
         "text": "Optimization History Plot"
        },
        "xaxis": {
         "title": {
          "text": "Trial"
         }
        },
        "yaxis": {
         "title": {
          "text": "Objective Value"
         }
        }
       }
      }
     },
     "metadata": {},
     "output_type": "display_data"
    },
    {
     "data": {
      "application/vnd.plotly.v1+json": {
       "config": {
        "plotlyServerURL": "https://plot.ly"
       },
       "data": [
        {
         "cliponaxis": false,
         "hovertemplate": [
          "dim_ff_factor (IntDistribution): 0.0038581796908893763<extra></extra>",
          "num_layers (IntDistribution): 0.005062766614782272<extra></extra>",
          "optimizer (CategoricalDistribution): 0.010634107696893822<extra></extra>",
          "nhead (CategoricalDistribution): 0.020744355289136426<extra></extra>",
          "dropout (FloatDistribution): 0.02735470858498052<extra></extra>",
          "weight_decay (FloatDistribution): 0.03722329002827227<extra></extra>",
          "batch_size (CategoricalDistribution): 0.04407206243875695<extra></extra>",
          "use_temporal_channel (CategoricalDistribution): 0.05164166437839137<extra></extra>",
          "lr (FloatDistribution): 0.10211911308512589<extra></extra>",
          "embedding_dim (CategoricalDistribution): 0.6972897521927711<extra></extra>"
         ],
         "name": "Objective Value",
         "orientation": "h",
         "text": [
          "<0.01",
          "<0.01",
          "0.01",
          "0.02",
          "0.03",
          "0.04",
          "0.04",
          "0.05",
          "0.10",
          "0.70"
         ],
         "textposition": "outside",
         "type": "bar",
         "x": [
          0.0038581796908893763,
          0.005062766614782272,
          0.010634107696893822,
          0.020744355289136426,
          0.02735470858498052,
          0.03722329002827227,
          0.04407206243875695,
          0.05164166437839137,
          0.10211911308512589,
          0.6972897521927711
         ],
         "y": [
          "dim_ff_factor",
          "num_layers",
          "optimizer",
          "nhead",
          "dropout",
          "weight_decay",
          "batch_size",
          "use_temporal_channel",
          "lr",
          "embedding_dim"
         ]
        }
       ],
       "layout": {
        "template": {
         "data": {
          "bar": [
           {
            "error_x": {
             "color": "#2a3f5f"
            },
            "error_y": {
             "color": "#2a3f5f"
            },
            "marker": {
             "line": {
              "color": "#E5ECF6",
              "width": 0.5
             },
             "pattern": {
              "fillmode": "overlay",
              "size": 10,
              "solidity": 0.2
             }
            },
            "type": "bar"
           }
          ],
          "barpolar": [
           {
            "marker": {
             "line": {
              "color": "#E5ECF6",
              "width": 0.5
             },
             "pattern": {
              "fillmode": "overlay",
              "size": 10,
              "solidity": 0.2
             }
            },
            "type": "barpolar"
           }
          ],
          "carpet": [
           {
            "aaxis": {
             "endlinecolor": "#2a3f5f",
             "gridcolor": "white",
             "linecolor": "white",
             "minorgridcolor": "white",
             "startlinecolor": "#2a3f5f"
            },
            "baxis": {
             "endlinecolor": "#2a3f5f",
             "gridcolor": "white",
             "linecolor": "white",
             "minorgridcolor": "white",
             "startlinecolor": "#2a3f5f"
            },
            "type": "carpet"
           }
          ],
          "choropleth": [
           {
            "colorbar": {
             "outlinewidth": 0,
             "ticks": ""
            },
            "type": "choropleth"
           }
          ],
          "contour": [
           {
            "colorbar": {
             "outlinewidth": 0,
             "ticks": ""
            },
            "colorscale": [
             [
              0,
              "#0d0887"
             ],
             [
              0.1111111111111111,
              "#46039f"
             ],
             [
              0.2222222222222222,
              "#7201a8"
             ],
             [
              0.3333333333333333,
              "#9c179e"
             ],
             [
              0.4444444444444444,
              "#bd3786"
             ],
             [
              0.5555555555555556,
              "#d8576b"
             ],
             [
              0.6666666666666666,
              "#ed7953"
             ],
             [
              0.7777777777777778,
              "#fb9f3a"
             ],
             [
              0.8888888888888888,
              "#fdca26"
             ],
             [
              1,
              "#f0f921"
             ]
            ],
            "type": "contour"
           }
          ],
          "contourcarpet": [
           {
            "colorbar": {
             "outlinewidth": 0,
             "ticks": ""
            },
            "type": "contourcarpet"
           }
          ],
          "heatmap": [
           {
            "colorbar": {
             "outlinewidth": 0,
             "ticks": ""
            },
            "colorscale": [
             [
              0,
              "#0d0887"
             ],
             [
              0.1111111111111111,
              "#46039f"
             ],
             [
              0.2222222222222222,
              "#7201a8"
             ],
             [
              0.3333333333333333,
              "#9c179e"
             ],
             [
              0.4444444444444444,
              "#bd3786"
             ],
             [
              0.5555555555555556,
              "#d8576b"
             ],
             [
              0.6666666666666666,
              "#ed7953"
             ],
             [
              0.7777777777777778,
              "#fb9f3a"
             ],
             [
              0.8888888888888888,
              "#fdca26"
             ],
             [
              1,
              "#f0f921"
             ]
            ],
            "type": "heatmap"
           }
          ],
          "histogram": [
           {
            "marker": {
             "pattern": {
              "fillmode": "overlay",
              "size": 10,
              "solidity": 0.2
             }
            },
            "type": "histogram"
           }
          ],
          "histogram2d": [
           {
            "colorbar": {
             "outlinewidth": 0,
             "ticks": ""
            },
            "colorscale": [
             [
              0,
              "#0d0887"
             ],
             [
              0.1111111111111111,
              "#46039f"
             ],
             [
              0.2222222222222222,
              "#7201a8"
             ],
             [
              0.3333333333333333,
              "#9c179e"
             ],
             [
              0.4444444444444444,
              "#bd3786"
             ],
             [
              0.5555555555555556,
              "#d8576b"
             ],
             [
              0.6666666666666666,
              "#ed7953"
             ],
             [
              0.7777777777777778,
              "#fb9f3a"
             ],
             [
              0.8888888888888888,
              "#fdca26"
             ],
             [
              1,
              "#f0f921"
             ]
            ],
            "type": "histogram2d"
           }
          ],
          "histogram2dcontour": [
           {
            "colorbar": {
             "outlinewidth": 0,
             "ticks": ""
            },
            "colorscale": [
             [
              0,
              "#0d0887"
             ],
             [
              0.1111111111111111,
              "#46039f"
             ],
             [
              0.2222222222222222,
              "#7201a8"
             ],
             [
              0.3333333333333333,
              "#9c179e"
             ],
             [
              0.4444444444444444,
              "#bd3786"
             ],
             [
              0.5555555555555556,
              "#d8576b"
             ],
             [
              0.6666666666666666,
              "#ed7953"
             ],
             [
              0.7777777777777778,
              "#fb9f3a"
             ],
             [
              0.8888888888888888,
              "#fdca26"
             ],
             [
              1,
              "#f0f921"
             ]
            ],
            "type": "histogram2dcontour"
           }
          ],
          "mesh3d": [
           {
            "colorbar": {
             "outlinewidth": 0,
             "ticks": ""
            },
            "type": "mesh3d"
           }
          ],
          "parcoords": [
           {
            "line": {
             "colorbar": {
              "outlinewidth": 0,
              "ticks": ""
             }
            },
            "type": "parcoords"
           }
          ],
          "pie": [
           {
            "automargin": true,
            "type": "pie"
           }
          ],
          "scatter": [
           {
            "fillpattern": {
             "fillmode": "overlay",
             "size": 10,
             "solidity": 0.2
            },
            "type": "scatter"
           }
          ],
          "scatter3d": [
           {
            "line": {
             "colorbar": {
              "outlinewidth": 0,
              "ticks": ""
             }
            },
            "marker": {
             "colorbar": {
              "outlinewidth": 0,
              "ticks": ""
             }
            },
            "type": "scatter3d"
           }
          ],
          "scattercarpet": [
           {
            "marker": {
             "colorbar": {
              "outlinewidth": 0,
              "ticks": ""
             }
            },
            "type": "scattercarpet"
           }
          ],
          "scattergeo": [
           {
            "marker": {
             "colorbar": {
              "outlinewidth": 0,
              "ticks": ""
             }
            },
            "type": "scattergeo"
           }
          ],
          "scattergl": [
           {
            "marker": {
             "colorbar": {
              "outlinewidth": 0,
              "ticks": ""
             }
            },
            "type": "scattergl"
           }
          ],
          "scattermap": [
           {
            "marker": {
             "colorbar": {
              "outlinewidth": 0,
              "ticks": ""
             }
            },
            "type": "scattermap"
           }
          ],
          "scattermapbox": [
           {
            "marker": {
             "colorbar": {
              "outlinewidth": 0,
              "ticks": ""
             }
            },
            "type": "scattermapbox"
           }
          ],
          "scatterpolar": [
           {
            "marker": {
             "colorbar": {
              "outlinewidth": 0,
              "ticks": ""
             }
            },
            "type": "scatterpolar"
           }
          ],
          "scatterpolargl": [
           {
            "marker": {
             "colorbar": {
              "outlinewidth": 0,
              "ticks": ""
             }
            },
            "type": "scatterpolargl"
           }
          ],
          "scatterternary": [
           {
            "marker": {
             "colorbar": {
              "outlinewidth": 0,
              "ticks": ""
             }
            },
            "type": "scatterternary"
           }
          ],
          "surface": [
           {
            "colorbar": {
             "outlinewidth": 0,
             "ticks": ""
            },
            "colorscale": [
             [
              0,
              "#0d0887"
             ],
             [
              0.1111111111111111,
              "#46039f"
             ],
             [
              0.2222222222222222,
              "#7201a8"
             ],
             [
              0.3333333333333333,
              "#9c179e"
             ],
             [
              0.4444444444444444,
              "#bd3786"
             ],
             [
              0.5555555555555556,
              "#d8576b"
             ],
             [
              0.6666666666666666,
              "#ed7953"
             ],
             [
              0.7777777777777778,
              "#fb9f3a"
             ],
             [
              0.8888888888888888,
              "#fdca26"
             ],
             [
              1,
              "#f0f921"
             ]
            ],
            "type": "surface"
           }
          ],
          "table": [
           {
            "cells": {
             "fill": {
              "color": "#EBF0F8"
             },
             "line": {
              "color": "white"
             }
            },
            "header": {
             "fill": {
              "color": "#C8D4E3"
             },
             "line": {
              "color": "white"
             }
            },
            "type": "table"
           }
          ]
         },
         "layout": {
          "annotationdefaults": {
           "arrowcolor": "#2a3f5f",
           "arrowhead": 0,
           "arrowwidth": 1
          },
          "autotypenumbers": "strict",
          "coloraxis": {
           "colorbar": {
            "outlinewidth": 0,
            "ticks": ""
           }
          },
          "colorscale": {
           "diverging": [
            [
             0,
             "#8e0152"
            ],
            [
             0.1,
             "#c51b7d"
            ],
            [
             0.2,
             "#de77ae"
            ],
            [
             0.3,
             "#f1b6da"
            ],
            [
             0.4,
             "#fde0ef"
            ],
            [
             0.5,
             "#f7f7f7"
            ],
            [
             0.6,
             "#e6f5d0"
            ],
            [
             0.7,
             "#b8e186"
            ],
            [
             0.8,
             "#7fbc41"
            ],
            [
             0.9,
             "#4d9221"
            ],
            [
             1,
             "#276419"
            ]
           ],
           "sequential": [
            [
             0,
             "#0d0887"
            ],
            [
             0.1111111111111111,
             "#46039f"
            ],
            [
             0.2222222222222222,
             "#7201a8"
            ],
            [
             0.3333333333333333,
             "#9c179e"
            ],
            [
             0.4444444444444444,
             "#bd3786"
            ],
            [
             0.5555555555555556,
             "#d8576b"
            ],
            [
             0.6666666666666666,
             "#ed7953"
            ],
            [
             0.7777777777777778,
             "#fb9f3a"
            ],
            [
             0.8888888888888888,
             "#fdca26"
            ],
            [
             1,
             "#f0f921"
            ]
           ],
           "sequentialminus": [
            [
             0,
             "#0d0887"
            ],
            [
             0.1111111111111111,
             "#46039f"
            ],
            [
             0.2222222222222222,
             "#7201a8"
            ],
            [
             0.3333333333333333,
             "#9c179e"
            ],
            [
             0.4444444444444444,
             "#bd3786"
            ],
            [
             0.5555555555555556,
             "#d8576b"
            ],
            [
             0.6666666666666666,
             "#ed7953"
            ],
            [
             0.7777777777777778,
             "#fb9f3a"
            ],
            [
             0.8888888888888888,
             "#fdca26"
            ],
            [
             1,
             "#f0f921"
            ]
           ]
          },
          "colorway": [
           "#636efa",
           "#EF553B",
           "#00cc96",
           "#ab63fa",
           "#FFA15A",
           "#19d3f3",
           "#FF6692",
           "#B6E880",
           "#FF97FF",
           "#FECB52"
          ],
          "font": {
           "color": "#2a3f5f"
          },
          "geo": {
           "bgcolor": "white",
           "lakecolor": "white",
           "landcolor": "#E5ECF6",
           "showlakes": true,
           "showland": true,
           "subunitcolor": "white"
          },
          "hoverlabel": {
           "align": "left"
          },
          "hovermode": "closest",
          "mapbox": {
           "style": "light"
          },
          "paper_bgcolor": "white",
          "plot_bgcolor": "#E5ECF6",
          "polar": {
           "angularaxis": {
            "gridcolor": "white",
            "linecolor": "white",
            "ticks": ""
           },
           "bgcolor": "#E5ECF6",
           "radialaxis": {
            "gridcolor": "white",
            "linecolor": "white",
            "ticks": ""
           }
          },
          "scene": {
           "xaxis": {
            "backgroundcolor": "#E5ECF6",
            "gridcolor": "white",
            "gridwidth": 2,
            "linecolor": "white",
            "showbackground": true,
            "ticks": "",
            "zerolinecolor": "white"
           },
           "yaxis": {
            "backgroundcolor": "#E5ECF6",
            "gridcolor": "white",
            "gridwidth": 2,
            "linecolor": "white",
            "showbackground": true,
            "ticks": "",
            "zerolinecolor": "white"
           },
           "zaxis": {
            "backgroundcolor": "#E5ECF6",
            "gridcolor": "white",
            "gridwidth": 2,
            "linecolor": "white",
            "showbackground": true,
            "ticks": "",
            "zerolinecolor": "white"
           }
          },
          "shapedefaults": {
           "line": {
            "color": "#2a3f5f"
           }
          },
          "ternary": {
           "aaxis": {
            "gridcolor": "white",
            "linecolor": "white",
            "ticks": ""
           },
           "baxis": {
            "gridcolor": "white",
            "linecolor": "white",
            "ticks": ""
           },
           "bgcolor": "#E5ECF6",
           "caxis": {
            "gridcolor": "white",
            "linecolor": "white",
            "ticks": ""
           }
          },
          "title": {
           "x": 0.05
          },
          "xaxis": {
           "automargin": true,
           "gridcolor": "white",
           "linecolor": "white",
           "ticks": "",
           "title": {
            "standoff": 15
           },
           "zerolinecolor": "white",
           "zerolinewidth": 2
          },
          "yaxis": {
           "automargin": true,
           "gridcolor": "white",
           "linecolor": "white",
           "ticks": "",
           "title": {
            "standoff": 15
           },
           "zerolinecolor": "white",
           "zerolinewidth": 2
          }
         }
        },
        "title": {
         "text": "Hyperparameter Importances"
        },
        "xaxis": {
         "title": {
          "text": "Hyperparameter Importance"
         }
        },
        "yaxis": {
         "title": {
          "text": "Hyperparameter"
         }
        }
       }
      }
     },
     "metadata": {},
     "output_type": "display_data"
    }
   ],
   "source": [
    "import optuna.visualization as vis\n",
    "\n",
    "vis.plot_optimization_history(study).show()\n",
    "vis.plot_param_importances(study).show()\n"
   ]
  },
  {
   "cell_type": "markdown",
   "id": "71120961",
   "metadata": {},
   "source": [
    "## Regressor"
   ]
  },
  {
   "cell_type": "code",
   "execution_count": 58,
   "id": "fc94e0b3",
   "metadata": {},
   "outputs": [
    {
     "name": "stdout",
     "output_type": "stream",
     "text": [
      "✅ Cargando dataset train desde: c:\\Users\\ismael.gallo\\Desktop\\ia_thermal\\ismaelgallo\\datasets\\PCB_transient_dataset_train.pth\n"
     ]
    },
    {
     "name": "stderr",
     "output_type": "stream",
     "text": [
      "c:\\Users\\ismael.gallo\\Desktop\\ia_thermal\\ismaelgallo\\../Convolutional_NN\\Dataset_Class.py:299: FutureWarning:\n",
      "\n",
      "You are using `torch.load` with `weights_only=False` (the current default value), which uses the default pickle module implicitly. It is possible to construct malicious pickle data which will execute arbitrary code during unpickling (See https://github.com/pytorch/pytorch/blob/main/SECURITY.md#untrusted-models for more details). In a future release, the default value for `weights_only` will be flipped to `True`. This limits the functions that could be executed during unpickling. Arbitrary objects will no longer be allowed to be loaded via this mode unless they are explicitly allowlisted by the user via `torch.serialization.add_safe_globals`. We recommend you start setting `weights_only=True` for any use case where you don't have full control of the loaded file. Please open an issue on GitHub for any issues related to this experimental feature.\n",
      "\n"
     ]
    },
    {
     "name": "stdout",
     "output_type": "stream",
     "text": [
      "✅ Cargando dataset val desde: c:\\Users\\ismael.gallo\\Desktop\\ia_thermal\\ismaelgallo\\datasets\\PCB_transient_dataset_val.pth\n"
     ]
    }
   ],
   "source": [
    "# Cargar los datos una sola vez\n",
    "dataset_train = load_trimmed_dataset(\n",
    "    base_path=dir_path, dataset_type='train',\n",
    "    max_samples=n_train, time_steps_output=sequence_length\n",
    ")\n",
    "dataset_val = load_trimmed_dataset(\n",
    "    base_path=dir_path, dataset_type='val',\n",
    "    max_samples=n_val, time_steps_output=sequence_length\n",
    ")\n",
    "\n",
    "x_train, y_train = prepare_data_for_convlstm(dataset_train, device='cpu')\n",
    "x_val, y_val = prepare_data_for_convlstm(dataset_val, device='cpu')\n",
    "\n",
    "train_dataset = TemporalRegressionDataset(x_train, y_train)\n",
    "val_dataset = TemporalRegressionDataset(x_val, y_val)\n"
   ]
  },
  {
   "cell_type": "code",
   "execution_count": 59,
   "id": "66140c54",
   "metadata": {},
   "outputs": [],
   "source": [
    "def objective(trial):\n",
    "    # Hiperparámetros\n",
    "    embedding_dim = trial.suggest_categorical(\"embedding_dim\", [64, 128, 256])\n",
    "    num_layers = trial.suggest_int(\"num_layers\", 1, 4)\n",
    "    nhead = trial.suggest_categorical(\"nhead\", [1, 2, 4])\n",
    "    dim_ff_factor = trial.suggest_int(\"dim_ff_factor\", 2, 6)\n",
    "    dropout = trial.suggest_float(\"dropout\", 0.0, 0.3)\n",
    "    batch_size = trial.suggest_categorical(\"batch_size\", [8, 16, 32])\n",
    "    lr = trial.suggest_float(\"lr\", 1e-4, 1e-2, log=True)\n",
    "    weight_decay = trial.suggest_float(\"weight_decay\", 1e-6, 1e-2, log=True)\n",
    "    optimizer_name = trial.suggest_categorical(\"optimizer\", [\"Adam\", \"AdamW\", \"RMSprop\"])\n",
    "\n",
    "    # DataLoaders desde datasets pre-cargados\n",
    "    train_loader = DataLoader(train_dataset, batch_size=batch_size, shuffle=True)\n",
    "    val_loader = DataLoader(val_dataset, batch_size=batch_size, shuffle=False)\n",
    "\n",
    "    # Modelo\n",
    "    model = GenericSpatioTemporalRegressor(\n",
    "        embedding_dim=embedding_dim,\n",
    "        num_layers=num_layers,\n",
    "        nhead=nhead,\n",
    "        in_channels=3\n",
    "    ).to(device)\n",
    "\n",
    "    # Reemplazo del decoder por uno personalizado con dropout y FF dimensionado\n",
    "    class CustomTransformerDecoder(TransformerDecoder):\n",
    "        def __init__(self, embedding_dim, num_layers, nhead, dim_ff, dropout):\n",
    "            super().__init__(embedding_dim, num_layers, nhead)\n",
    "            encoder_layer = nn.TransformerEncoderLayer(\n",
    "                d_model=embedding_dim,\n",
    "                nhead=nhead,\n",
    "                dim_feedforward=dim_ff,\n",
    "                dropout=dropout,\n",
    "                batch_first=True\n",
    "            )\n",
    "            self.transformer = nn.TransformerEncoder(encoder_layer, num_layers=num_layers)\n",
    "\n",
    "    model.temporal_decoder = CustomTransformerDecoder(\n",
    "        embedding_dim=embedding_dim * 2,\n",
    "        num_layers=num_layers,\n",
    "        nhead=nhead,\n",
    "        dim_ff=embedding_dim * dim_ff_factor,\n",
    "        dropout=dropout\n",
    "    ).to(device)\n",
    "\n",
    "    # Optimizador\n",
    "    optimizer_cls = {\"Adam\": torch.optim.Adam, \"AdamW\": torch.optim.AdamW, \"RMSprop\": torch.optim.RMSprop}[optimizer_name]\n",
    "    optimizer = optimizer_cls(model.parameters(), lr=lr, weight_decay=weight_decay)\n",
    "    scheduler = torch.optim.lr_scheduler.ReduceLROnPlateau(optimizer, mode=\"min\", factor=0.5, patience=5)\n",
    "    criterion = torch.nn.MSELoss()\n",
    "\n",
    "    best_val_loss = float(\"inf\")\n",
    "    for epoch in range(epochs):\n",
    "        train_loss = train_one_epoch(model, train_loader, criterion, optimizer, device, epoch, epochs)\n",
    "        val_loss = evaluate(model, val_loader, criterion, device)\n",
    "        scheduler.step(val_loss)\n",
    "        if val_loss < best_val_loss:\n",
    "            best_val_loss = val_loss\n",
    "        trial.report(val_loss, epoch)\n",
    "        if trial.should_prune():\n",
    "            raise optuna.exceptions.TrialPruned()\n",
    "\n",
    "    return best_val_loss\n"
   ]
  },
  {
   "cell_type": "code",
   "execution_count": 60,
   "id": "caabb460",
   "metadata": {},
   "outputs": [
    {
     "name": "stderr",
     "output_type": "stream",
     "text": [
      "[I 2025-05-06 08:00:38,873] A new study created in memory with name: generic_spatiotemporal_regressor\n",
      "[I 2025-05-06 08:00:39,116] Trial 0 finished with value: 0.6665566563606262 and parameters: {'embedding_dim': 128, 'num_layers': 4, 'nhead': 4, 'dim_ff_factor': 3, 'dropout': 0.1615458538372023, 'batch_size': 32, 'lr': 0.008281828251217632, 'weight_decay': 1.4218836516651927e-05, 'optimizer': 'Adam'}. Best is trial 0 with value: 0.6665566563606262.\n",
      "[I 2025-05-06 08:00:39,174] Trial 1 finished with value: 1.7096110582351685 and parameters: {'embedding_dim': 64, 'num_layers': 1, 'nhead': 2, 'dim_ff_factor': 6, 'dropout': 0.2047691127999072, 'batch_size': 8, 'lr': 0.00042873380548295154, 'weight_decay': 0.0015415547820774465, 'optimizer': 'Adam'}. Best is trial 0 with value: 0.6665566563606262.\n",
      "[I 2025-05-06 08:00:39,240] Trial 2 finished with value: 1.372464656829834 and parameters: {'embedding_dim': 64, 'num_layers': 4, 'nhead': 2, 'dim_ff_factor': 2, 'dropout': 0.008368397434795038, 'batch_size': 32, 'lr': 0.0006591990035895447, 'weight_decay': 5.471717699091854e-05, 'optimizer': 'RMSprop'}. Best is trial 0 with value: 0.6665566563606262.\n",
      "[I 2025-05-06 08:00:39,274] Trial 3 finished with value: 1.7138909101486206 and parameters: {'embedding_dim': 64, 'num_layers': 1, 'nhead': 4, 'dim_ff_factor': 3, 'dropout': 0.02994668451170086, 'batch_size': 8, 'lr': 0.00019863018650524215, 'weight_decay': 5.397058938527837e-05, 'optimizer': 'AdamW'}. Best is trial 0 with value: 0.6665566563606262.\n",
      "[I 2025-05-06 08:00:39,322] Trial 4 finished with value: 1.3701717853546143 and parameters: {'embedding_dim': 128, 'num_layers': 1, 'nhead': 4, 'dim_ff_factor': 2, 'dropout': 0.07398738008064332, 'batch_size': 8, 'lr': 0.00014068906317018127, 'weight_decay': 4.542622815004187e-06, 'optimizer': 'RMSprop'}. Best is trial 0 with value: 0.6665566563606262.\n",
      "c:\\Users\\ismael.gallo\\anaconda3\\envs\\ismael_minimal\\lib\\site-packages\\torch\\nn\\modules\\transformer.py:379: UserWarning:\n",
      "\n",
      "enable_nested_tensor is True, but self.use_nested_tensor is False because encoder_layer.self_attn.num_heads is odd\n",
      "\n",
      "[I 2025-05-06 08:00:39,418] Trial 5 pruned.                           \n",
      "[I 2025-05-06 08:00:39,456] Trial 6 pruned.                           \n",
      "[I 2025-05-06 08:00:39,590] Trial 7 finished with value: 1.261053442955017 and parameters: {'embedding_dim': 256, 'num_layers': 2, 'nhead': 4, 'dim_ff_factor': 3, 'dropout': 0.09568938771968884, 'batch_size': 8, 'lr': 0.00046505901893642343, 'weight_decay': 0.002841402034972163, 'optimizer': 'Adam'}. Best is trial 0 with value: 0.6665566563606262.\n",
      "[I 2025-05-06 08:00:39,640] Trial 8 pruned.                           \n",
      "[I 2025-05-06 08:00:39,707] Trial 9 finished with value: 0.22283796966075897 and parameters: {'embedding_dim': 128, 'num_layers': 4, 'nhead': 4, 'dim_ff_factor': 3, 'dropout': 0.1464737043932011, 'batch_size': 32, 'lr': 0.0018718697332188751, 'weight_decay': 1.6932745411332007e-05, 'optimizer': 'RMSprop'}. Best is trial 9 with value: 0.22283796966075897.\n",
      "[I 2025-05-06 08:00:39,872] Trial 10 pruned.                          \n",
      "[I 2025-05-06 08:00:39,971] Trial 11 finished with value: 0.354513555765152 and parameters: {'embedding_dim': 128, 'num_layers': 4, 'nhead': 4, 'dim_ff_factor': 4, 'dropout': 0.1433690538059689, 'batch_size': 32, 'lr': 0.009826799721231226, 'weight_decay': 1.048527650102036e-05, 'optimizer': 'Adam'}. Best is trial 9 with value: 0.22283796966075897.\n",
      "[I 2025-05-06 08:00:40,052] Trial 12 pruned.                          \n",
      "[I 2025-05-06 08:00:40,145] Trial 13 finished with value: 0.8338146805763245 and parameters: {'embedding_dim': 128, 'num_layers': 4, 'nhead': 4, 'dim_ff_factor': 4, 'dropout': 0.13388693524582096, 'batch_size': 32, 'lr': 0.002329776760506255, 'weight_decay': 0.00025434607228570316, 'optimizer': 'RMSprop'}. Best is trial 9 with value: 0.22283796966075897.\n",
      "[I 2025-05-06 08:00:40,236] Trial 14 finished with value: 1.211976170539856 and parameters: {'embedding_dim': 128, 'num_layers': 3, 'nhead': 4, 'dim_ff_factor': 5, 'dropout': 0.2206232574884635, 'batch_size': 16, 'lr': 0.003294443380693226, 'weight_decay': 2.8285298901239695e-06, 'optimizer': 'Adam'}. Best is trial 9 with value: 0.22283796966075897.\n",
      "[I 2025-05-06 08:00:40,323] Trial 15 pruned.                          \n",
      "[I 2025-05-06 08:00:40,486] Trial 16 pruned.                         \n",
      "[I 2025-05-06 08:00:40,574] Trial 17 pruned.                          \n",
      "[I 2025-05-06 08:00:40,656] Trial 18 pruned.                          \n",
      "[I 2025-05-06 08:00:40,840] Trial 19 finished with value: 1.1594129800796509 and parameters: {'embedding_dim': 256, 'num_layers': 4, 'nhead': 2, 'dim_ff_factor': 5, 'dropout': 0.18323861106443007, 'batch_size': 32, 'lr': 0.0009143452698597263, 'weight_decay': 1.044016765982707e-06, 'optimizer': 'AdamW'}. Best is trial 9 with value: 0.22283796966075897.\n",
      "[I 2025-05-06 08:00:40,924] Trial 20 finished with value: 0.19644513726234436 and parameters: {'embedding_dim': 128, 'num_layers': 3, 'nhead': 4, 'dim_ff_factor': 4, 'dropout': 0.1078179484309815, 'batch_size': 32, 'lr': 0.0017971459945328478, 'weight_decay': 6.023925929061328e-06, 'optimizer': 'RMSprop'}. Best is trial 20 with value: 0.19644513726234436.\n",
      "[I 2025-05-06 08:00:41,007] Trial 21 finished with value: 0.18935687839984894 and parameters: {'embedding_dim': 128, 'num_layers': 3, 'nhead': 4, 'dim_ff_factor': 4, 'dropout': 0.12546730240486834, 'batch_size': 32, 'lr': 0.0018736269712320856, 'weight_decay': 6.258447435362244e-06, 'optimizer': 'RMSprop'}. Best is trial 21 with value: 0.18935687839984894.\n",
      "[I 2025-05-06 08:00:41,100] Trial 22 finished with value: 0.19655053317546844 and parameters: {'embedding_dim': 128, 'num_layers': 3, 'nhead': 4, 'dim_ff_factor': 4, 'dropout': 0.11341584026831297, 'batch_size': 32, 'lr': 0.0018263133893338212, 'weight_decay': 4.4506374772086264e-06, 'optimizer': 'RMSprop'}. Best is trial 21 with value: 0.18935687839984894.\n",
      "[I 2025-05-06 08:00:41,183] Trial 23 finished with value: 0.7651537656784058 and parameters: {'embedding_dim': 128, 'num_layers': 3, 'nhead': 4, 'dim_ff_factor': 4, 'dropout': 0.10496713073326105, 'batch_size': 32, 'lr': 0.0008735221780047556, 'weight_decay': 2.3835038859114686e-06, 'optimizer': 'RMSprop'}. Best is trial 21 with value: 0.18935687839984894.\n",
      "[I 2025-05-06 08:00:41,251] Trial 24 finished with value: 0.15754759311676025 and parameters: {'embedding_dim': 128, 'num_layers': 2, 'nhead': 4, 'dim_ff_factor': 5, 'dropout': 0.06567252138764729, 'batch_size': 32, 'lr': 0.00347765073853022, 'weight_decay': 5.19766245340528e-06, 'optimizer': 'RMSprop'}. Best is trial 24 with value: 0.15754759311676025.\n",
      "[I 2025-05-06 08:00:41,334] Trial 25 pruned.                          \n",
      "[I 2025-05-06 08:00:41,401] Trial 26 pruned.                          \n",
      "[I 2025-05-06 08:00:41,484] Trial 27 pruned.                          \n",
      "[I 2025-05-06 08:00:41,553] Trial 28 pruned.                          \n",
      "[I 2025-05-06 08:00:41,690] Trial 29 pruned.                         \n",
      "[I 2025-05-06 08:00:41,768] Trial 30 pruned.                          \n",
      "[I 2025-05-06 08:00:41,878] Trial 31 finished with value: 0.5766096711158752 and parameters: {'embedding_dim': 128, 'num_layers': 3, 'nhead': 4, 'dim_ff_factor': 4, 'dropout': 0.11197849054702173, 'batch_size': 32, 'lr': 0.001881727069321597, 'weight_decay': 4.2408970374929915e-06, 'optimizer': 'RMSprop'}. Best is trial 24 with value: 0.15754759311676025.\n",
      "[I 2025-05-06 08:00:41,973] Trial 32 finished with value: 0.18990732729434967 and parameters: {'embedding_dim': 128, 'num_layers': 3, 'nhead': 4, 'dim_ff_factor': 4, 'dropout': 0.16405013367951654, 'batch_size': 32, 'lr': 0.0015364181416214241, 'weight_decay': 5.778005111381966e-06, 'optimizer': 'RMSprop'}. Best is trial 24 with value: 0.15754759311676025.\n",
      "[I 2025-05-06 08:00:42,070] Trial 33 pruned.                          \n",
      "[I 2025-05-06 08:00:42,130] Trial 34 pruned.                          \n",
      "[I 2025-05-06 08:00:42,220] Trial 35 pruned.                          \n",
      "[I 2025-05-06 08:00:42,320] Trial 36 pruned.                          \n",
      "[I 2025-05-06 08:00:42,384] Trial 37 pruned.                          \n",
      "[I 2025-05-06 08:00:42,486] Trial 38 pruned.                          \n",
      "[I 2025-05-06 08:00:42,579] Trial 39 pruned.                          \n",
      "[I 2025-05-06 08:00:42,648] Trial 40 finished with value: 0.39406734704971313 and parameters: {'embedding_dim': 64, 'num_layers': 2, 'nhead': 4, 'dim_ff_factor': 3, 'dropout': 0.2038163252207079, 'batch_size': 32, 'lr': 0.002515871780544017, 'weight_decay': 6.481859240460142e-05, 'optimizer': 'RMSprop'}. Best is trial 24 with value: 0.15754759311676025.\n",
      "[I 2025-05-06 08:00:42,750] Trial 41 finished with value: 0.17916007339954376 and parameters: {'embedding_dim': 128, 'num_layers': 3, 'nhead': 4, 'dim_ff_factor': 4, 'dropout': 0.12077588857804296, 'batch_size': 32, 'lr': 0.001769305962430253, 'weight_decay': 5.019724651860928e-06, 'optimizer': 'RMSprop'}. Best is trial 24 with value: 0.15754759311676025.\n",
      "[I 2025-05-06 08:00:42,852] Trial 42 finished with value: 0.2731279134750366 and parameters: {'embedding_dim': 128, 'num_layers': 3, 'nhead': 4, 'dim_ff_factor': 4, 'dropout': 0.09294785863181201, 'batch_size': 32, 'lr': 0.001673434945708675, 'weight_decay': 3.1321335399526824e-06, 'optimizer': 'RMSprop'}. Best is trial 24 with value: 0.15754759311676025.\n",
      "[I 2025-05-06 08:00:42,947] Trial 43 finished with value: 0.13602712750434875 and parameters: {'embedding_dim': 128, 'num_layers': 3, 'nhead': 4, 'dim_ff_factor': 4, 'dropout': 0.14970233804347982, 'batch_size': 32, 'lr': 0.002579550505334217, 'weight_decay': 5.687430773390812e-06, 'optimizer': 'RMSprop'}. Best is trial 43 with value: 0.13602712750434875.\n",
      "[I 2025-05-06 08:00:43,047] Trial 44 pruned.                          \n",
      "[I 2025-05-06 08:00:43,143] Trial 45 pruned.                          \n",
      "[I 2025-05-06 08:00:43,338] Trial 46 pruned.                         \n",
      "[I 2025-05-06 08:00:43,435] Trial 47 finished with value: 0.18106187880039215 and parameters: {'embedding_dim': 128, 'num_layers': 2, 'nhead': 4, 'dim_ff_factor': 4, 'dropout': 0.1553929198629209, 'batch_size': 32, 'lr': 0.0014849336366803123, 'weight_decay': 1.4609410693640298e-06, 'optimizer': 'RMSprop'}. Best is trial 43 with value: 0.13602712750434875.\n",
      "[I 2025-05-06 08:00:43,517] Trial 48 pruned.                          \n",
      "[I 2025-05-06 08:00:43,601] Trial 49 pruned.                          \n"
     ]
    },
    {
     "name": "stdout",
     "output_type": "stream",
     "text": [
      "🔍 Best trial:\n",
      "embedding_dim: 128\n",
      "num_layers: 3\n",
      "nhead: 4\n",
      "dim_ff_factor: 4\n",
      "dropout: 0.14970233804347982\n",
      "batch_size: 32\n",
      "lr: 0.002579550505334217\n",
      "weight_decay: 5.687430773390812e-06\n",
      "optimizer: RMSprop\n"
     ]
    }
   ],
   "source": [
    "study = optuna.create_study(direction=\"minimize\", study_name=\"generic_spatiotemporal_regressor\")\n",
    "study.optimize(objective, n_trials=50)\n",
    "\n",
    "# Mostrar el mejor resultado\n",
    "print(\"🔍 Best trial:\")\n",
    "for k, v in study.best_trial.params.items():\n",
    "    print(f\"{k}: {v}\")\n"
   ]
  }
 ],
 "metadata": {
  "kernelspec": {
   "display_name": "ismael_minimal",
   "language": "python",
   "name": "python3"
  },
  "language_info": {
   "codemirror_mode": {
    "name": "ipython",
    "version": 3
   },
   "file_extension": ".py",
   "mimetype": "text/x-python",
   "name": "python",
   "nbconvert_exporter": "python",
   "pygments_lexer": "ipython3",
   "version": "3.9.21"
  }
 },
 "nbformat": 4,
 "nbformat_minor": 5
}
