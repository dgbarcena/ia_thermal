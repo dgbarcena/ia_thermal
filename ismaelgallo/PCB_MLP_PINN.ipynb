{
 "cells": [
  {
   "cell_type": "markdown",
   "id": "127321bf",
   "metadata": {},
   "source": [
    "# MLP transient"
   ]
  },
  {
   "cell_type": "markdown",
   "id": "89305a8e",
   "metadata": {},
   "source": [
    "## Previous"
   ]
  },
  {
   "cell_type": "markdown",
   "id": "3bfa7860",
   "metadata": {},
   "source": [
    "Para que funcione en Colab"
   ]
  },
  {
   "cell_type": "code",
   "execution_count": null,
   "id": "802a673f",
   "metadata": {},
   "outputs": [
    {
     "name": "stdout",
     "output_type": "stream",
     "text": [
      "Modo: Local\n",
      "Ruta datasets: C:\\Users\\ismael.gallo/ia_thermal_colab\\datasets\n",
      "Ruta modelos: C:\\Users\\ismael.gallo/ia_thermal_colab\\models\n"
     ]
    }
   ],
   "source": [
    "import os\n",
    "import sys\n",
    "import IPython\n",
    "\n",
    "# Detectar si estamos en Colab\n",
    "try:\n",
    "    import google.colab\n",
    "    IN_COLAB = True\n",
    "except ImportError:\n",
    "    IN_COLAB = False\n",
    "\n",
    "# Ruta base\n",
    "if IN_COLAB:\n",
    "    from google.colab import drive\n",
    "    drive.mount('/content/drive')\n",
    "    BASE_PATH = \"/content/drive/MyDrive/ia_thermal_colab\"\n",
    "else:\n",
    "    BASE_PATH = os.path.expanduser(\"~/ia_thermal_colab\")\n",
    "\n",
    "DATASETS_PATH = os.path.join(BASE_PATH, \"datasets\")\n",
    "MODELS_PATH = os.path.join(BASE_PATH, \"models\")\n",
    "\n",
    "os.makedirs(DATASETS_PATH, exist_ok=True)\n",
    "os.makedirs(MODELS_PATH, exist_ok=True)\n",
    "\n",
    "print(\"Modo:\", \"Colab\" if IN_COLAB else \"Local\")\n",
    "print(\"Ruta datasets:\", DATASETS_PATH)\n",
    "print(\"Ruta modelos:\", MODELS_PATH)"
   ]
  },
  {
   "cell_type": "code",
   "execution_count": null,
   "id": "ce43b4eb",
   "metadata": {},
   "outputs": [],
   "source": [
    "# 🔄 Parámetros del repo\n",
    "GIT_REPO_URL = \"https://github.com/ismaelgallolopez/ia_thermal.git\"  # 👈 Cambia esto\n",
    "REPO_NAME = GIT_REPO_URL.split(\"/\")[-1].replace(\".git\", \"\")\n",
    "CLONE_PATH = os.path.join(BASE_PATH, REPO_NAME)\n",
    "\n",
    "if IN_COLAB:\n",
    "    # 🧬 Clonar el repositorio si no existe ya\n",
    "    if not os.path.exists(CLONE_PATH):\n",
    "        !git clone {GIT_REPO_URL} {CLONE_PATH}\n",
    "    else:\n",
    "        print(f\"Repositorio ya clonado en: {CLONE_PATH}\")\n",
    "\n",
    "    # 📦 Instalar requirements.txt\n",
    "    req_path = os.path.join(CLONE_PATH, \"requirements.txt\")\n",
    "    if os.path.exists(req_path):\n",
    "        !pip install -r {req_path}\n",
    "    else:\n",
    "        print(\"No se encontró requirements.txt en el repositorio.\")\n",
    "\n",
    "    print(\"🔄 Reinicia el entorno para aplicar los cambios...\")\n",
    "    IPython.display.display(IPython.display.Javascript('''google.colab.restartRuntime()'''))"
   ]
  },
  {
   "cell_type": "markdown",
   "id": "2cf7dd21",
   "metadata": {},
   "source": [
    "Importación de librerías necesarias\n"
   ]
  },
  {
   "cell_type": "code",
   "execution_count": null,
   "id": "18a1b52c",
   "metadata": {},
   "outputs": [],
   "source": [
    "import numpy as np\n",
    "import time\n",
    "from datetime import datetime\n",
    "from IPython.display import display, Markdown\n",
    "import platform\n",
    "from tqdm import tqdm\n",
    "import matplotlib.pyplot as plt\n",
    "import json\n",
    "import optuna\n",
    "from typing import Sequence, Union, Optional\n",
    "# import seaborn as sns\n",
    "\n",
    "\n",
    "import torch\n",
    "from torch import nn\n",
    "from torch.optim.lr_scheduler import ReduceLROnPlateau\n",
    "from torch.utils.data import Dataset, DataLoader, TensorDataset\n",
    "import torch.optim as optim\n",
    "\n",
    "np.set_printoptions(threshold=sys.maxsize)\n",
    "torch.set_default_dtype(torch.float32)\n",
    "\n",
    "# get the directory path of the file\n",
    "dir_path = os.getcwd()\n",
    "\n",
    "sys.path.append(os.path.abspath(os.path.join(os.getcwd(), '..')))\n",
    "\n",
    "if IN_COLAB:\n",
    "  sys.path.append(\"/content/drive/MyDrive/ia_thermal_colab/ia_thermal\")\n",
    "\n",
    "from plot_functions import *\n",
    "from Physics_Loss import *\n",
    "from utils import *\n",
    "from scripts.PCB_solver_tr import *\n",
    "\n",
    "if IN_COLAB:\n",
    "  sys.path.append(\"/content/drive/MyDrive/ia_thermal_colab/ia_thermal/ismaelgallo\")\n",
    "\n",
    "# from architectures.mlp_pcb import *\n",
    "\n",
    "from Dataset_Class_mlp import *"
   ]
  },
  {
   "cell_type": "code",
   "execution_count": 38,
   "id": "a85f2af5",
   "metadata": {},
   "outputs": [
    {
     "name": "stdout",
     "output_type": "stream",
     "text": [
      "Using device: cuda\n"
     ]
    }
   ],
   "source": [
    "device = torch.device('cuda' if torch.cuda.is_available() else 'cpu')\n",
    "# device = 'cpu'\n",
    "print('Using device:', device)"
   ]
  },
  {
   "cell_type": "code",
   "execution_count": 39,
   "id": "be876f54",
   "metadata": {},
   "outputs": [],
   "source": [
    "system_specs = {\n",
    "    \"os\": platform.system(),  # e.g. \"Linux\", \"Windows\", \"Darwin\"\n",
    "    \"os_version\": platform.version(),\n",
    "    \"machine\": platform.machine(),  # e.g. \"x86_64\"\n",
    "    \"processor\": platform.processor(),  # e.g. \"Intel64 Family 6 Model 158\"\n",
    "    \"python_version\": platform.python_version(),\n",
    "    \"device\": str(device)\n",
    "}\n",
    "if torch.cuda.is_available():\n",
    "    system_specs[\"gpu_name\"] = torch.cuda.get_device_name(0)\n",
    "    system_specs[\"gpu_memory_total_GB\"] = round(torch.cuda.get_device_properties(0).total_memory / (1024**3), 2)\n",
    "    system_specs[\"cuda_version\"] = torch.version.cuda"
   ]
  },
  {
   "cell_type": "markdown",
   "id": "aefa2a2e",
   "metadata": {},
   "source": [
    "## Dataset import"
   ]
  },
  {
   "cell_type": "code",
   "execution_count": 40,
   "id": "37fed6d9",
   "metadata": {},
   "outputs": [],
   "source": [
    "n_train = 1000\n",
    "n_test = 200\n",
    "n_val = 20\n",
    "time_sim = 1000 # seconds\n",
    "\n",
    "batch_size = 1000\n",
    "\n",
    "sequence_length = time_sim+1 # seconds\n",
    "dt = 1 # seconds\n",
    "T_init = 298.0 # Kelvin\n",
    "nodes_side = 13 # number of nodes in one side of the PCB"
   ]
  },
  {
   "cell_type": "markdown",
   "id": "ea1e01f5",
   "metadata": {},
   "source": [
    "Dataset extraction"
   ]
  },
  {
   "cell_type": "code",
   "execution_count": 41,
   "id": "0c033746",
   "metadata": {},
   "outputs": [
    {
     "name": "stdout",
     "output_type": "stream",
     "text": [
      "✅ Cargando mlp transient dataset base desde: c:\\Users\\ismael.gallo\\Desktop\\ia_thermal\\ismaelgallo\\datasets\\PCB_mlp_transient_dataset.pth\n",
      "Cargando dataset base desde: c:\\Users\\ismael.gallo\\Desktop\\ia_thermal\\ismaelgallo\\datasets\\PCB_mlp_transient_dataset_train.pth\n",
      "Cargando dataset base desde: c:\\Users\\ismael.gallo\\Desktop\\ia_thermal\\ismaelgallo\\datasets\\PCB_mlp_transient_dataset_val.pth\n",
      "Cargando dataset base desde: c:\\Users\\ismael.gallo\\Desktop\\ia_thermal\\ismaelgallo\\datasets\\PCB_mlp_transient_dataset_test.pth\n"
     ]
    }
   ],
   "source": [
    "if IN_COLAB:\n",
    "  dir_path = BASE_PATH\n",
    "\n",
    "base_dataset = load_dataset_mlp(base_path=dir_path)  # ← carga el dataset base completo (PCB_mlp_transient_dataset.pth)\n",
    "dataset_train = load_trimmed_dataset_mlp(base_path=dir_path, dataset_type='train', max_cases=n_train, to_device=True)\n",
    "dataset_val = load_trimmed_dataset_mlp(base_path=dir_path, dataset_type='val', max_cases=n_val, to_device=True)\n",
    "dataset_test = load_trimmed_dataset_mlp(base_path=dir_path, dataset_type='test', max_cases=n_test, to_device=True)\n",
    "\n",
    "loader = DataLoader(base_dataset, batch_size=batch_size, shuffle=False)  # DEBUGGING\n",
    "train_loader = DataLoader(dataset_train, batch_size=batch_size, shuffle=True)\n",
    "val_loader = DataLoader(dataset_val, batch_size=batch_size, shuffle=False)\n",
    "test_loader = DataLoader(dataset_test, batch_size=batch_size, shuffle=False)"
   ]
  },
  {
   "cell_type": "markdown",
   "id": "62770947",
   "metadata": {},
   "source": [
    "Debugging para comprobar que cumpla tamaños que nos interesan."
   ]
  },
  {
   "cell_type": "code",
   "execution_count": 42,
   "id": "3084bc75",
   "metadata": {},
   "outputs": [
    {
     "data": {
      "text/plain": [
       "(torch.Size([1000, 10]), torch.Size([1000, 169]))"
      ]
     },
     "execution_count": 42,
     "metadata": {},
     "output_type": "execute_result"
    }
   ],
   "source": [
    "x, y = next(iter(train_loader))\n",
    "x.shape, y.shape"
   ]
  },
  {
   "cell_type": "markdown",
   "id": "4ade0c21",
   "metadata": {},
   "source": [
    "## Hyperparameters of training"
   ]
  },
  {
   "cell_type": "code",
   "execution_count": 49,
   "id": "c63d188a",
   "metadata": {},
   "outputs": [],
   "source": [
    "epochs = 500\n",
    "lr = 1e-2\n",
    "lrdecay = 0.01\n",
    "lrdecay_patience = 25\n",
    "early_stop_patience = 100\n",
    "\n",
    "hidden_layers = [64, 64, 64, 64, 64]\n",
    "activation = nn.ReLU"
   ]
  },
  {
   "cell_type": "markdown",
   "id": "abc7f1ac",
   "metadata": {},
   "source": [
    "# Non-physics MLP "
   ]
  },
  {
   "cell_type": "markdown",
   "id": "2663aab6",
   "metadata": {},
   "source": [
    "## Model definition"
   ]
  },
  {
   "cell_type": "code",
   "execution_count": 101,
   "id": "87c0b0ed",
   "metadata": {},
   "outputs": [],
   "source": [
    "class MLP_PCB(nn.Module):\n",
    "    def __init__(self, input_dim:int=10, output_dim:int=169, hidden_layers=[128, 128], activation=nn.SiLU):\n",
    "        \"\"\"\n",
    "        Modelo MLP configurable para regresión.\n",
    "\n",
    "        Args:\n",
    "            input_dim (int): Número de características de entrada.\n",
    "            output_dim (int): Número de salidas (por ejemplo, nodos de temperatura).\n",
    "            hidden_layers (list): Lista con el número de neuronas por capa oculta.\n",
    "            activation (callable): Clase de función de activación (por defecto nn.ReLU).\n",
    "        \"\"\"\n",
    "        super().__init__()\n",
    "        layers = []\n",
    "        prev_dim = input_dim\n",
    "        for h in hidden_layers:\n",
    "            layers.append(nn.Linear(prev_dim, h))\n",
    "            layers.append(activation())\n",
    "            prev_dim = h\n",
    "        layers.append(nn.Linear(prev_dim, output_dim))\n",
    "        self.net = nn.Sequential(*layers)\n",
    "\n",
    "    def forward(self, x):\n",
    "        return self.net(x)"
   ]
  },
  {
   "cell_type": "code",
   "execution_count": 102,
   "id": "4ff8073f",
   "metadata": {},
   "outputs": [
    {
     "name": "stdout",
     "output_type": "stream",
     "text": [
      "MLP_PCB(\n",
      "  (net): Sequential(\n",
      "    (0): Linear(in_features=10, out_features=64, bias=True)\n",
      "    (1): SiLU()\n",
      "    (2): Linear(in_features=64, out_features=64, bias=True)\n",
      "    (3): SiLU()\n",
      "    (4): Linear(in_features=64, out_features=64, bias=True)\n",
      "    (5): SiLU()\n",
      "    (6): Linear(in_features=64, out_features=64, bias=True)\n",
      "    (7): SiLU()\n",
      "    (8): Linear(in_features=64, out_features=64, bias=True)\n",
      "    (9): SiLU()\n",
      "    (10): Linear(in_features=64, out_features=169, bias=True)\n",
      "  )\n",
      ")\n"
     ]
    }
   ],
   "source": [
    "model = MLP_PCB(hidden_layers=hidden_layers, activation=activation).to(device)\n",
    "\n",
    "criterion = nn.MSELoss()\n",
    "optimizer = torch.optim.Adam(model.parameters(), lr=lr)\n",
    "scheduler = ReduceLROnPlateau(optimizer, mode='min', factor=lrdecay, patience=lrdecay_patience, verbose=True)\n",
    "\n",
    "print(model)"
   ]
  },
  {
   "cell_type": "markdown",
   "id": "965f4459",
   "metadata": {},
   "source": [
    "Ensure data is moved to the appropriate device\n"
   ]
  },
  {
   "cell_type": "code",
   "execution_count": 103,
   "id": "ba349ade",
   "metadata": {},
   "outputs": [
    {
     "name": "stdout",
     "output_type": "stream",
     "text": [
      "x está en: cuda:0\n",
      "y está en: cuda:0\n",
      "model está en: cuda:0\n"
     ]
    }
   ],
   "source": [
    "batch = next(iter(train_loader))\n",
    "x, y = batch\n",
    "\n",
    "print(f\"x está en: {x.device}\")\n",
    "print(f\"y está en: {y.device}\")\n",
    "print(f\"model está en: {next(model.parameters()).device}\")"
   ]
  },
  {
   "cell_type": "markdown",
   "id": "bc5c93ae",
   "metadata": {},
   "source": [
    "## Training"
   ]
  },
  {
   "cell_type": "markdown",
   "id": "5dae59c8",
   "metadata": {},
   "source": [
    "Training and saving best model with best parameters."
   ]
  },
  {
   "cell_type": "code",
   "execution_count": 114,
   "id": "1acd8424",
   "metadata": {},
   "outputs": [
    {
     "data": {
      "text/markdown": [
       "✨ Nuevo entrenamiento: `PCB_MLP_nt1000_e500_lr0.01_bs1000_h-64-64-64-64-64_SiLU.pth`"
      ],
      "text/plain": [
       "<IPython.core.display.Markdown object>"
      ]
     },
     "metadata": {},
     "output_type": "display_data"
    },
    {
     "name": "stdout",
     "output_type": "stream",
     "text": [
      "📁 Los resultados se guardarán en: c:\\Users\\ismael.gallo\\Desktop\\ia_thermal\\ismaelgallo\\models\\MLP_PCB\\PCB_MLP_nt1000_e500_lr0.01_bs1000_h-64-64-64-64-64_SiLU.json\n"
     ]
    }
   ],
   "source": [
    "train_loss = []\n",
    "val_loss_hist = []\n",
    "best_val_loss = np.inf\n",
    "epochs_without_improvement = 0\n",
    "elapsed_previous = 0.0  # minutos ya entrenados en sesiones anteriores\n",
    "\n",
    "layer_string = \"\"\n",
    "for d in hidden_layers:\n",
    "    layer_string += f\"-{d}\"\n",
    "    \n",
    "activation_string = activation.__name__\n",
    "\n",
    "model_dir = os.path.join(dir_path, 'models', 'MLP_PCB')\n",
    "if IN_COLAB:\n",
    "    model_dir = os.path.join(MODELS_PATH, 'MLP_PCB')\n",
    "os.makedirs(model_dir, exist_ok=True)\n",
    "\n",
    "filename = f\"PCB_MLP_nt{n_train}_e{epochs}_lr{lr}_bs{batch_size}_h{layer_string}_{activation_string}.pth\"\n",
    "model_path = os.path.join(model_dir, filename)\n",
    "json_path  = model_path.replace('.pth', '.json')\n",
    "\n",
    "start_epoch = 0\n",
    "start_datetime = datetime.now().strftime(\"%Y-%m-%d %H:%M:%S\")\n",
    "\n",
    "# --- Lógica de reanudación ---\n",
    "if os.path.exists(model_path):\n",
    "    display(Markdown(f\"🔁 Cargando modelo existente `{filename}` y reanudando entrenamiento.\"))\n",
    "    model.load_state_dict(torch.load(model_path, map_location=device))\n",
    "    \n",
    "    if os.path.exists(json_path):\n",
    "        with open(json_path, 'r') as f:\n",
    "            prev = json.load(f)\n",
    "        best_val_loss         = prev.get('best_val_loss', best_val_loss)\n",
    "        train_loss            = prev.get('train_loss', [])\n",
    "        val_loss_hist             = prev.get('val_loss', [])\n",
    "        elapsed_previous      = prev.get('training_duration_minutes', 0.0)\n",
    "        start_datetime        = prev.get('start_datetime', start_datetime)\n",
    "        start_epoch           = prev.get('epochs_trained', 0)\n",
    "        # Reiniciamos el contador de paciencia tras mejora\n",
    "        epochs_without_improvement = 0\n",
    "    else:\n",
    "        display(Markdown(\"⚠️ No se encontró JSON de hiperparámetros; se reinicia contadores.\"))\n",
    "else:\n",
    "    display(Markdown(f\"✨ Nuevo entrenamiento: `{filename}`\"))\n",
    "\n",
    "print(\"📁 Los resultados se guardarán en:\", json_path)"
   ]
  },
  {
   "cell_type": "code",
   "execution_count": 115,
   "id": "d3b8e4ff",
   "metadata": {},
   "outputs": [
    {
     "name": "stderr",
     "output_type": "stream",
     "text": [
      "                                                                                        "
     ]
    },
    {
     "name": "stdout",
     "output_type": "stream",
     "text": [
      "⏹️ Early stopping en la época 130 tras 100 épocas sin mejora.\n"
     ]
    },
    {
     "name": "stderr",
     "output_type": "stream",
     "text": [
      "\r"
     ]
    }
   ],
   "source": [
    "for epoch in range(start_epoch, epochs):\n",
    "    model.train()\n",
    "    running_loss = 0.0\n",
    "    train_bar = tqdm(train_loader, desc=f\"Epoch {epoch+1}/{epochs} [Train]\", leave=False)\n",
    "    for x, y in train_bar:\n",
    "        optimizer.zero_grad()\n",
    "        y_pred = model(x)\n",
    "        loss = criterion(y_pred, y)\n",
    "        loss.backward()\n",
    "        optimizer.step()\n",
    "        running_loss += loss.item() * x.size(0)\n",
    "        train_bar.set_postfix(loss=loss.item())\n",
    "    \n",
    "    epoch_loss = running_loss / len(train_loader.dataset)\n",
    "    train_loss.append(epoch_loss)\n",
    "    # print(f\"Epoch {epoch+1}/{epochs} - Train Loss: {epoch_loss:.6f}\")\n",
    "\n",
    "    # Validación\n",
    "    model.eval()\n",
    "    val_loss = 0.0\n",
    "    val_bar = tqdm(val_loader, desc=f\"Epoch {epoch+1}/{epochs} [Val]\", leave=False)\n",
    "    with torch.no_grad():\n",
    "        for x_val, y_val in val_bar:\n",
    "            y_pred_val = model(x_val)\n",
    "            loss_val = criterion(y_pred_val, y_val)\n",
    "            val_loss += loss_val.item() * x_val.size(0)\n",
    "            val_bar.set_postfix(val_loss=loss_val.item())\n",
    "    val_loss = val_loss / len(val_loader.dataset)\n",
    "    # print(f\"Epoch {epoch+1}/{epochs} - Val Loss: {val_loss:.6f}\")\n",
    "    # If you want to keep a history, use a list like val_loss_hist and append here:\n",
    "    val_loss_hist.append(val_loss)\n",
    "\n",
    "    # Scheduler\n",
    "    scheduler.step(val_loss)\n",
    "\n",
    "    # Guardar mejor modelo\n",
    "    if val_loss < best_val_loss:\n",
    "        best_val_loss = val_loss\n",
    "        epochs_without_improvement = 0\n",
    "        torch.save(model.state_dict(), model_path)\n",
    "        # Guardar JSON con info de entrenamiento\n",
    "        training_info = {\n",
    "            \"best_val_loss\": best_val_loss,\n",
    "            \"epochs_trained\": epoch + 1,\n",
    "            \"training_duration_minutes\": elapsed_previous + ((datetime.now() - datetime.strptime(start_datetime, \"%Y-%m-%d %H:%M:%S\")).total_seconds() / 60.0),\n",
    "            \"start_datetime\": start_datetime,\n",
    "            \"hyperparameters\": {\n",
    "                \"epochs\": epochs,\n",
    "                \"lr0\": lr,\n",
    "                \"batch_size\": batch_size,\n",
    "                \"hidden_layers\": layer_string,\n",
    "                \"activation\": activation_string,\n",
    "            },\n",
    "            \"final lr\": optimizer.param_groups[0]['lr'],\n",
    "            \"train_loss\": train_loss,\n",
    "            \"val_loss\": val_loss_hist,\n",
    "            # \"train_loss\": train_loss,\n",
    "            # \"val_loss\": val_loss_hist\n",
    "        }\n",
    "        with open(json_path, 'w') as f:\n",
    "            json.dump(training_info, f, indent=2)\n",
    "        # print(f\"✅ Modelo guardado: {model_path}\")\n",
    "    else:\n",
    "        epochs_without_improvement += 1\n",
    "\n",
    "    # Early stopping\n",
    "    if epochs_without_improvement >= early_stop_patience:\n",
    "        print(f\"⏹️ Early stopping en la época {epoch+1} tras {early_stop_patience} épocas sin mejora.\")\n",
    "        break"
   ]
  },
  {
   "cell_type": "markdown",
   "id": "b020559b",
   "metadata": {},
   "source": [
    "Plot training loss and validation loss"
   ]
  },
  {
   "cell_type": "code",
   "execution_count": 116,
   "id": "73f8efa8",
   "metadata": {},
   "outputs": [
    {
     "data": {
      "image/png": "[encoded data removed]",
      "text/plain": [
       "<Figure size 640x480 with 1 Axes>"
      ]
     },
     "metadata": {},
     "output_type": "display_data"
    }
   ],
   "source": [
    "plot_loss_evolution(train_loss, val_loss_hist)"
   ]
  },
  {
   "cell_type": "markdown",
   "id": "2aa79576",
   "metadata": {},
   "source": [
    "## Evaluation"
   ]
  },
  {
   "cell_type": "code",
   "execution_count": 58,
   "id": "dd83e49d",
   "metadata": {},
   "outputs": [
    {
     "name": "stderr",
     "output_type": "stream",
     "text": [
      "C:\\Users\\ismael.gallo\\AppData\\Local\\Temp\\ipykernel_19300\\3240133991.py:3: FutureWarning: You are using `torch.load` with `weights_only=False` (the current default value), which uses the default pickle module implicitly. It is possible to construct malicious pickle data which will execute arbitrary code during unpickling (See https://github.com/pytorch/pytorch/blob/main/SECURITY.md#untrusted-models for more details). In a future release, the default value for `weights_only` will be flipped to `True`. This limits the functions that could be executed during unpickling. Arbitrary objects will no longer be allowed to be loaded via this mode unless they are explicitly allowlisted by the user via `torch.serialization.add_safe_globals`. We recommend you start setting `weights_only=True` for any use case where you don't have full control of the loaded file. Please open an issue on GitHub for any issues related to this experimental feature.\n",
      "  model.load_state_dict(torch.load(model_path))\n",
      "                                                                         \r"
     ]
    }
   ],
   "source": [
    "# load the best model\n",
    "model = MLP_PCB(hidden_layers=hidden_layers, activation=activation).to(device)\n",
    "model.load_state_dict(torch.load(model_path))\n",
    "model.eval()\n",
    "\n",
    "# Test\n",
    "test_loss = 0.0\n",
    "test_bar = tqdm(test_loader, desc=f\"Test\", leave=False)\n",
    "with torch.no_grad():\n",
    "    for x_test, y_test in test_bar:\n",
    "        y_pred_test = model(x_test)\n",
    "        loss_test = criterion(y_pred_test, y_test)\n",
    "        test_loss += loss_test.item() * x_test.size(0)\n",
    "        test_bar.set_postfix(test_loss=loss_test.item())"
   ]
  },
  {
   "cell_type": "markdown",
   "id": "beeea70c",
   "metadata": {},
   "source": [
    "## Optuna study"
   ]
  },
  {
   "cell_type": "markdown",
   "id": "3e3ad1c1",
   "metadata": {},
   "source": [
    "Estudio para encontrar las mejores combinaciones de numero de capas con iteraciones en número de neuronas ocultas, learning rate, numero de capas, funcion de activacion, lr decay factor y patience"
   ]
  },
  {
   "cell_type": "code",
   "execution_count": 59,
   "id": "f1bf04f0",
   "metadata": {},
   "outputs": [],
   "source": [
    "def objective(trial):\n",
    "    # Sugerir hiperparámetros\n",
    "    lr = trial.suggest_loguniform('lr', 1e-4, 1e-2)\n",
    "    n_layers = trial.suggest_int('n_layers', 1, 5)\n",
    "    hidden_dim = trial.suggest_categorical('hidden_dim', [64, 128, 256, 512])\n",
    "    activation_name = trial.suggest_categorical('activation', ['ReLU', 'SiLU', 'Tanh'])\n",
    "    activation = getattr(nn, activation_name)\n",
    "    lrdecay = trial.suggest_loguniform('lrdecay', 0.1, 0.5)\n",
    "    lrdecay_patience = trial.suggest_int('lrdecay_patience', 5, 50)\n",
    "\n",
    "    # Definir arquitectura\n",
    "    hidden_layers = [hidden_dim] * n_layers\n",
    "    model = MLP_PCB(hidden_layers=hidden_layers, activation=activation).to(device)\n",
    "    optimizer = torch.optim.Adam(model.parameters(), lr=lr)\n",
    "    scheduler = ReduceLROnPlateau(optimizer, mode='min', factor=lrdecay, patience=lrdecay_patience, verbose=False)\n",
    "    criterion = nn.MSELoss()\n",
    "\n",
    "    epochs_optuna = epochs\n",
    "    train_loss = []\n",
    "    val_loss_hist = []\n",
    "    start_datetime = datetime.now().strftime(\"%Y-%m-%d %H:%M:%S\")\n",
    "    for epoch in range(epochs_optuna):\n",
    "        model.train()\n",
    "        running_loss = 0.0\n",
    "        for x, y in train_loader:\n",
    "            optimizer.zero_grad()\n",
    "            y_pred = model(x)\n",
    "            loss = criterion(y_pred, y)\n",
    "            loss.backward()\n",
    "            optimizer.step()\n",
    "            running_loss += loss.item() * x.size(0)\n",
    "        epoch_loss = running_loss / len(train_loader.dataset)\n",
    "        train_loss.append(epoch_loss)\n",
    "        # Validación\n",
    "        model.eval()\n",
    "        val_loss = 0.0\n",
    "        with torch.no_grad():\n",
    "            for x_val, y_val in val_loader:\n",
    "                y_pred_val = model(x_val)\n",
    "                loss_val = criterion(y_pred_val, y_val)\n",
    "                val_loss += loss_val.item() * x_val.size(0)\n",
    "        val_loss /= len(val_loader.dataset)\n",
    "        val_loss_hist.append(val_loss)\n",
    "        scheduler.step(val_loss)\n",
    "\n",
    "    # Guardar modelo y JSON en carpeta optuna_studies/models\n",
    "    os.makedirs(\"optuna_studies/mlp_models\", exist_ok=True)\n",
    "    model_path = f\"optuna_studies/mlp_models/model_trial_{trial.number}.pth\"\n",
    "    json_path = f\"optuna_studies/mlp_models/model_trial_{trial.number}.json\"\n",
    "    torch.save(model.state_dict(), model_path)\n",
    "    \n",
    "    # Guardar también con el mismo formato y ruta que el entrenamiento normal\n",
    "    layer_string = \"\"\n",
    "    for d in hidden_layers:\n",
    "        layer_string += f\"-{d}\"\n",
    "    activation_string = activation.__name__\n",
    "    # Abreviar el learning rate para el nombre del archivo\n",
    "    lr_str = f\"{lr:.0e}\" if lr < 1e-2 else f\"{lr:.2f}\"\n",
    "    model_dir = os.path.join(dir_path, 'models', 'MLP_PCB')\n",
    "    if IN_COLAB:\n",
    "        model_dir = os.path.join(MODELS_PATH, 'MLP_PCB')\n",
    "    os.makedirs(model_dir, exist_ok=True)\n",
    "    filename = f\"PCB_MLP_trial{trial.number}_nt{n_train}_e{epochs_optuna}_lr{lr_str}_bs{batch_size}_h{layer_string}_{activation_string}.pth\"\n",
    "    model_path_normal = os.path.join(model_dir, filename)\n",
    "    json_path_normal = model_path_normal.replace('.pth', '.json')\n",
    "    torch.save(model.state_dict(), model_path_normal)\n",
    "\n",
    "    training_info = {\n",
    "        \"trial_number\": trial.number,\n",
    "        \"final_val_loss\": val_loss_hist[-1] if val_loss_hist else None,\n",
    "        \"epochs_trained\": epochs_optuna,\n",
    "        \"training_duration_minutes\": None,  # Puedes calcularlo si quieres\n",
    "        \"start_datetime\": start_datetime,\n",
    "        \"hyperparameters\": {\n",
    "            \"lr\": lr,\n",
    "            \"n_layers\": n_layers,\n",
    "            \"hidden_dim\": hidden_dim,\n",
    "            \"activation\": activation_name,\n",
    "            \"lrdecay\": lrdecay,\n",
    "            \"lrdecay_patience\": lrdecay_patience,\n",
    "        },\n",
    "        \"final_lr\": optimizer.param_groups[0]['lr'],\n",
    "        \"train_loss\": train_loss,\n",
    "        \"val_loss\": val_loss_hist\n",
    "    }\n",
    "    with open(json_path, 'w') as f:\n",
    "        json.dump(training_info, f, indent=2)\n",
    "    with open(json_path_normal, 'w') as f:\n",
    "        json.dump(training_info, f, indent=2)\n",
    "\n",
    "    return val_loss_hist[-1] if val_loss_hist else None"
   ]
  },
  {
   "cell_type": "markdown",
   "id": "d7052c36",
   "metadata": {},
   "source": [
    "Crear y ejecutar el estudio"
   ]
  },
  {
   "cell_type": "code",
   "execution_count": 60,
   "id": "8a6a1f59",
   "metadata": {},
   "outputs": [
    {
     "name": "stderr",
     "output_type": "stream",
     "text": [
      "[I 2025-05-19 12:30:13,001] Using an existing study with name 'mlp_pcb_study' instead of creating a new one.\n"
     ]
    }
   ],
   "source": [
    "# Crea el estudio y lo guarda en un archivo SQLite\n",
    "os.makedirs(\"optuna_studies\", exist_ok=True)\n",
    "study = optuna.create_study(\n",
    "    direction='minimize',\n",
    "    study_name=\"mlp_pcb_study\",\n",
    "    storage=\"sqlite:///optuna_studies/mlp_pcb_optuna_study.db\",\n",
    "    load_if_exists=True\n",
    ")"
   ]
  },
  {
   "cell_type": "code",
   "execution_count": 61,
   "id": "0ef7781c",
   "metadata": {},
   "outputs": [
    {
     "name": "stderr",
     "output_type": "stream",
     "text": [
      "C:\\Users\\ismael.gallo\\AppData\\Local\\Temp\\ipykernel_19300\\2447052604.py:3: FutureWarning: suggest_loguniform has been deprecated in v3.0.0. This feature will be removed in v6.0.0. See https://github.com/optuna/optuna/releases/tag/v3.0.0. Use suggest_float(..., log=True) instead.\n",
      "  lr = trial.suggest_loguniform('lr', 1e-4, 1e-2)\n",
      "C:\\Users\\ismael.gallo\\AppData\\Local\\Temp\\ipykernel_19300\\2447052604.py:8: FutureWarning: suggest_loguniform has been deprecated in v3.0.0. This feature will be removed in v6.0.0. See https://github.com/optuna/optuna/releases/tag/v3.0.0. Use suggest_float(..., log=True) instead.\n",
      "  lrdecay = trial.suggest_loguniform('lrdecay', 0.1, 0.5)\n",
      "c:\\Users\\ismael.gallo\\anaconda3\\envs\\ismael_minimal\\lib\\site-packages\\torch\\optim\\lr_scheduler.py:62: UserWarning: The verbose parameter is deprecated. Please use get_last_lr() to access the learning rate.\n",
      "  warnings.warn(\n",
      "[W 2025-05-19 12:30:17,504] Trial 67 failed with parameters: {'lr': 0.005556181905674362, 'n_layers': 5, 'hidden_dim': 128, 'activation': 'SiLU', 'lrdecay': 0.3895254932972735, 'lrdecay_patience': 25} because of the following error: KeyboardInterrupt().\n",
      "Traceback (most recent call last):\n",
      "  File \"c:\\Users\\ismael.gallo\\anaconda3\\envs\\ismael_minimal\\lib\\site-packages\\optuna\\study\\_optimize.py\", line 197, in _run_trial\n",
      "    value_or_values = func(trial)\n",
      "  File \"C:\\Users\\ismael.gallo\\AppData\\Local\\Temp\\ipykernel_19300\\2447052604.py\", line 25, in objective\n",
      "    for x, y in train_loader:\n",
      "  File \"c:\\Users\\ismael.gallo\\anaconda3\\envs\\ismael_minimal\\lib\\site-packages\\torch\\utils\\data\\dataloader.py\", line 701, in __next__\n",
      "    data = self._next_data()\n",
      "  File \"c:\\Users\\ismael.gallo\\anaconda3\\envs\\ismael_minimal\\lib\\site-packages\\torch\\utils\\data\\dataloader.py\", line 757, in _next_data\n",
      "    data = self._dataset_fetcher.fetch(index)  # may raise StopIteration\n",
      "KeyboardInterrupt\n",
      "[W 2025-05-19 12:30:17,506] Trial 67 failed with value None.\n"
     ]
    },
    {
     "ename": "KeyboardInterrupt",
     "evalue": "",
     "output_type": "error",
     "traceback": [
      "\u001b[1;31m---------------------------------------------------------------------------\u001b[0m",
      "\u001b[1;31mKeyboardInterrupt\u001b[0m                         Traceback (most recent call last)",
      "Cell \u001b[1;32mIn[61], line 1\u001b[0m\n\u001b[1;32m----> 1\u001b[0m \u001b[43mstudy\u001b[49m\u001b[38;5;241;43m.\u001b[39;49m\u001b[43moptimize\u001b[49m\u001b[43m(\u001b[49m\u001b[43mobjective\u001b[49m\u001b[43m,\u001b[49m\u001b[43m \u001b[49m\u001b[43mtimeout\u001b[49m\u001b[38;5;241;43m=\u001b[39;49m\u001b[38;5;241;43m10\u001b[39;49m\u001b[43m)\u001b[49m\n",
      "File \u001b[1;32mc:\\Users\\ismael.gallo\\anaconda3\\envs\\ismael_minimal\\lib\\site-packages\\optuna\\study\\study.py:475\u001b[0m, in \u001b[0;36mStudy.optimize\u001b[1;34m(self, func, n_trials, timeout, n_jobs, catch, callbacks, gc_after_trial, show_progress_bar)\u001b[0m\n\u001b[0;32m    373\u001b[0m \u001b[38;5;28;01mdef\u001b[39;00m \u001b[38;5;21moptimize\u001b[39m(\n\u001b[0;32m    374\u001b[0m     \u001b[38;5;28mself\u001b[39m,\n\u001b[0;32m    375\u001b[0m     func: ObjectiveFuncType,\n\u001b[1;32m   (...)\u001b[0m\n\u001b[0;32m    382\u001b[0m     show_progress_bar: \u001b[38;5;28mbool\u001b[39m \u001b[38;5;241m=\u001b[39m \u001b[38;5;28;01mFalse\u001b[39;00m,\n\u001b[0;32m    383\u001b[0m ) \u001b[38;5;241m-\u001b[39m\u001b[38;5;241m>\u001b[39m \u001b[38;5;28;01mNone\u001b[39;00m:\n\u001b[0;32m    384\u001b[0m \u001b[38;5;250m    \u001b[39m\u001b[38;5;124;03m\"\"\"Optimize an objective function.\u001b[39;00m\n\u001b[0;32m    385\u001b[0m \n\u001b[0;32m    386\u001b[0m \u001b[38;5;124;03m    Optimization is done by choosing a suitable set of hyperparameter values from a given\u001b[39;00m\n\u001b[1;32m   (...)\u001b[0m\n\u001b[0;32m    473\u001b[0m \u001b[38;5;124;03m            If nested invocation of this method occurs.\u001b[39;00m\n\u001b[0;32m    474\u001b[0m \u001b[38;5;124;03m    \"\"\"\u001b[39;00m\n\u001b[1;32m--> 475\u001b[0m     \u001b[43m_optimize\u001b[49m\u001b[43m(\u001b[49m\n\u001b[0;32m    476\u001b[0m \u001b[43m        \u001b[49m\u001b[43mstudy\u001b[49m\u001b[38;5;241;43m=\u001b[39;49m\u001b[38;5;28;43mself\u001b[39;49m\u001b[43m,\u001b[49m\n\u001b[0;32m    477\u001b[0m \u001b[43m        \u001b[49m\u001b[43mfunc\u001b[49m\u001b[38;5;241;43m=\u001b[39;49m\u001b[43mfunc\u001b[49m\u001b[43m,\u001b[49m\n\u001b[0;32m    478\u001b[0m \u001b[43m        \u001b[49m\u001b[43mn_trials\u001b[49m\u001b[38;5;241;43m=\u001b[39;49m\u001b[43mn_trials\u001b[49m\u001b[43m,\u001b[49m\n\u001b[0;32m    479\u001b[0m \u001b[43m        \u001b[49m\u001b[43mtimeout\u001b[49m\u001b[38;5;241;43m=\u001b[39;49m\u001b[43mtimeout\u001b[49m\u001b[43m,\u001b[49m\n\u001b[0;32m    480\u001b[0m \u001b[43m        \u001b[49m\u001b[43mn_jobs\u001b[49m\u001b[38;5;241;43m=\u001b[39;49m\u001b[43mn_jobs\u001b[49m\u001b[43m,\u001b[49m\n\u001b[0;32m    481\u001b[0m \u001b[43m        \u001b[49m\u001b[43mcatch\u001b[49m\u001b[38;5;241;43m=\u001b[39;49m\u001b[38;5;28;43mtuple\u001b[39;49m\u001b[43m(\u001b[49m\u001b[43mcatch\u001b[49m\u001b[43m)\u001b[49m\u001b[43m \u001b[49m\u001b[38;5;28;43;01mif\u001b[39;49;00m\u001b[43m \u001b[49m\u001b[38;5;28;43misinstance\u001b[39;49m\u001b[43m(\u001b[49m\u001b[43mcatch\u001b[49m\u001b[43m,\u001b[49m\u001b[43m \u001b[49m\u001b[43mIterable\u001b[49m\u001b[43m)\u001b[49m\u001b[43m \u001b[49m\u001b[38;5;28;43;01melse\u001b[39;49;00m\u001b[43m \u001b[49m\u001b[43m(\u001b[49m\u001b[43mcatch\u001b[49m\u001b[43m,\u001b[49m\u001b[43m)\u001b[49m\u001b[43m,\u001b[49m\n\u001b[0;32m    482\u001b[0m \u001b[43m        \u001b[49m\u001b[43mcallbacks\u001b[49m\u001b[38;5;241;43m=\u001b[39;49m\u001b[43mcallbacks\u001b[49m\u001b[43m,\u001b[49m\n\u001b[0;32m    483\u001b[0m \u001b[43m        \u001b[49m\u001b[43mgc_after_trial\u001b[49m\u001b[38;5;241;43m=\u001b[39;49m\u001b[43mgc_after_trial\u001b[49m\u001b[43m,\u001b[49m\n\u001b[0;32m    484\u001b[0m \u001b[43m        \u001b[49m\u001b[43mshow_progress_bar\u001b[49m\u001b[38;5;241;43m=\u001b[39;49m\u001b[43mshow_progress_bar\u001b[49m\u001b[43m,\u001b[49m\n\u001b[0;32m    485\u001b[0m \u001b[43m    \u001b[49m\u001b[43m)\u001b[49m\n",
      "File \u001b[1;32mc:\\Users\\ismael.gallo\\anaconda3\\envs\\ismael_minimal\\lib\\site-packages\\optuna\\study\\_optimize.py:63\u001b[0m, in \u001b[0;36m_optimize\u001b[1;34m(study, func, n_trials, timeout, n_jobs, catch, callbacks, gc_after_trial, show_progress_bar)\u001b[0m\n\u001b[0;32m     61\u001b[0m \u001b[38;5;28;01mtry\u001b[39;00m:\n\u001b[0;32m     62\u001b[0m     \u001b[38;5;28;01mif\u001b[39;00m n_jobs \u001b[38;5;241m==\u001b[39m \u001b[38;5;241m1\u001b[39m:\n\u001b[1;32m---> 63\u001b[0m         \u001b[43m_optimize_sequential\u001b[49m\u001b[43m(\u001b[49m\n\u001b[0;32m     64\u001b[0m \u001b[43m            \u001b[49m\u001b[43mstudy\u001b[49m\u001b[43m,\u001b[49m\n\u001b[0;32m     65\u001b[0m \u001b[43m            \u001b[49m\u001b[43mfunc\u001b[49m\u001b[43m,\u001b[49m\n\u001b[0;32m     66\u001b[0m \u001b[43m            \u001b[49m\u001b[43mn_trials\u001b[49m\u001b[43m,\u001b[49m\n\u001b[0;32m     67\u001b[0m \u001b[43m            \u001b[49m\u001b[43mtimeout\u001b[49m\u001b[43m,\u001b[49m\n\u001b[0;32m     68\u001b[0m \u001b[43m            \u001b[49m\u001b[43mcatch\u001b[49m\u001b[43m,\u001b[49m\n\u001b[0;32m     69\u001b[0m \u001b[43m            \u001b[49m\u001b[43mcallbacks\u001b[49m\u001b[43m,\u001b[49m\n\u001b[0;32m     70\u001b[0m \u001b[43m            \u001b[49m\u001b[43mgc_after_trial\u001b[49m\u001b[43m,\u001b[49m\n\u001b[0;32m     71\u001b[0m \u001b[43m            \u001b[49m\u001b[43mreseed_sampler_rng\u001b[49m\u001b[38;5;241;43m=\u001b[39;49m\u001b[38;5;28;43;01mFalse\u001b[39;49;00m\u001b[43m,\u001b[49m\n\u001b[0;32m     72\u001b[0m \u001b[43m            \u001b[49m\u001b[43mtime_start\u001b[49m\u001b[38;5;241;43m=\u001b[39;49m\u001b[38;5;28;43;01mNone\u001b[39;49;00m\u001b[43m,\u001b[49m\n\u001b[0;32m     73\u001b[0m \u001b[43m            \u001b[49m\u001b[43mprogress_bar\u001b[49m\u001b[38;5;241;43m=\u001b[39;49m\u001b[43mprogress_bar\u001b[49m\u001b[43m,\u001b[49m\n\u001b[0;32m     74\u001b[0m \u001b[43m        \u001b[49m\u001b[43m)\u001b[49m\n\u001b[0;32m     75\u001b[0m     \u001b[38;5;28;01melse\u001b[39;00m:\n\u001b[0;32m     76\u001b[0m         \u001b[38;5;28;01mif\u001b[39;00m n_jobs \u001b[38;5;241m==\u001b[39m \u001b[38;5;241m-\u001b[39m\u001b[38;5;241m1\u001b[39m:\n",
      "File \u001b[1;32mc:\\Users\\ismael.gallo\\anaconda3\\envs\\ismael_minimal\\lib\\site-packages\\optuna\\study\\_optimize.py:160\u001b[0m, in \u001b[0;36m_optimize_sequential\u001b[1;34m(study, func, n_trials, timeout, catch, callbacks, gc_after_trial, reseed_sampler_rng, time_start, progress_bar)\u001b[0m\n\u001b[0;32m    157\u001b[0m         \u001b[38;5;28;01mbreak\u001b[39;00m\n\u001b[0;32m    159\u001b[0m \u001b[38;5;28;01mtry\u001b[39;00m:\n\u001b[1;32m--> 160\u001b[0m     frozen_trial \u001b[38;5;241m=\u001b[39m \u001b[43m_run_trial\u001b[49m\u001b[43m(\u001b[49m\u001b[43mstudy\u001b[49m\u001b[43m,\u001b[49m\u001b[43m \u001b[49m\u001b[43mfunc\u001b[49m\u001b[43m,\u001b[49m\u001b[43m \u001b[49m\u001b[43mcatch\u001b[49m\u001b[43m)\u001b[49m\n\u001b[0;32m    161\u001b[0m \u001b[38;5;28;01mfinally\u001b[39;00m:\n\u001b[0;32m    162\u001b[0m     \u001b[38;5;66;03m# The following line mitigates memory problems that can be occurred in some\u001b[39;00m\n\u001b[0;32m    163\u001b[0m     \u001b[38;5;66;03m# environments (e.g., services that use computing containers such as GitHub Actions).\u001b[39;00m\n\u001b[0;32m    164\u001b[0m     \u001b[38;5;66;03m# Please refer to the following PR for further details:\u001b[39;00m\n\u001b[0;32m    165\u001b[0m     \u001b[38;5;66;03m# https://github.com/optuna/optuna/pull/325.\u001b[39;00m\n\u001b[0;32m    166\u001b[0m     \u001b[38;5;28;01mif\u001b[39;00m gc_after_trial:\n",
      "File \u001b[1;32mc:\\Users\\ismael.gallo\\anaconda3\\envs\\ismael_minimal\\lib\\site-packages\\optuna\\study\\_optimize.py:248\u001b[0m, in \u001b[0;36m_run_trial\u001b[1;34m(study, func, catch)\u001b[0m\n\u001b[0;32m    241\u001b[0m         \u001b[38;5;28;01massert\u001b[39;00m \u001b[38;5;28;01mFalse\u001b[39;00m, \u001b[38;5;124m\"\u001b[39m\u001b[38;5;124mShould not reach.\u001b[39m\u001b[38;5;124m\"\u001b[39m\n\u001b[0;32m    243\u001b[0m \u001b[38;5;28;01mif\u001b[39;00m (\n\u001b[0;32m    244\u001b[0m     frozen_trial\u001b[38;5;241m.\u001b[39mstate \u001b[38;5;241m==\u001b[39m TrialState\u001b[38;5;241m.\u001b[39mFAIL\n\u001b[0;32m    245\u001b[0m     \u001b[38;5;129;01mand\u001b[39;00m func_err \u001b[38;5;129;01mis\u001b[39;00m \u001b[38;5;129;01mnot\u001b[39;00m \u001b[38;5;28;01mNone\u001b[39;00m\n\u001b[0;32m    246\u001b[0m     \u001b[38;5;129;01mand\u001b[39;00m \u001b[38;5;129;01mnot\u001b[39;00m \u001b[38;5;28misinstance\u001b[39m(func_err, catch)\n\u001b[0;32m    247\u001b[0m ):\n\u001b[1;32m--> 248\u001b[0m     \u001b[38;5;28;01mraise\u001b[39;00m func_err\n\u001b[0;32m    249\u001b[0m \u001b[38;5;28;01mreturn\u001b[39;00m frozen_trial\n",
      "File \u001b[1;32mc:\\Users\\ismael.gallo\\anaconda3\\envs\\ismael_minimal\\lib\\site-packages\\optuna\\study\\_optimize.py:197\u001b[0m, in \u001b[0;36m_run_trial\u001b[1;34m(study, func, catch)\u001b[0m\n\u001b[0;32m    195\u001b[0m \u001b[38;5;28;01mwith\u001b[39;00m get_heartbeat_thread(trial\u001b[38;5;241m.\u001b[39m_trial_id, study\u001b[38;5;241m.\u001b[39m_storage):\n\u001b[0;32m    196\u001b[0m     \u001b[38;5;28;01mtry\u001b[39;00m:\n\u001b[1;32m--> 197\u001b[0m         value_or_values \u001b[38;5;241m=\u001b[39m \u001b[43mfunc\u001b[49m\u001b[43m(\u001b[49m\u001b[43mtrial\u001b[49m\u001b[43m)\u001b[49m\n\u001b[0;32m    198\u001b[0m     \u001b[38;5;28;01mexcept\u001b[39;00m exceptions\u001b[38;5;241m.\u001b[39mTrialPruned \u001b[38;5;28;01mas\u001b[39;00m e:\n\u001b[0;32m    199\u001b[0m         \u001b[38;5;66;03m# TODO(mamu): Handle multi-objective cases.\u001b[39;00m\n\u001b[0;32m    200\u001b[0m         state \u001b[38;5;241m=\u001b[39m TrialState\u001b[38;5;241m.\u001b[39mPRUNED\n",
      "Cell \u001b[1;32mIn[59], line 25\u001b[0m, in \u001b[0;36mobjective\u001b[1;34m(trial)\u001b[0m\n\u001b[0;32m     23\u001b[0m model\u001b[38;5;241m.\u001b[39mtrain()\n\u001b[0;32m     24\u001b[0m running_loss \u001b[38;5;241m=\u001b[39m \u001b[38;5;241m0.0\u001b[39m\n\u001b[1;32m---> 25\u001b[0m \u001b[38;5;28;01mfor\u001b[39;00m x, y \u001b[38;5;129;01min\u001b[39;00m train_loader:\n\u001b[0;32m     26\u001b[0m     optimizer\u001b[38;5;241m.\u001b[39mzero_grad()\n\u001b[0;32m     27\u001b[0m     y_pred \u001b[38;5;241m=\u001b[39m model(x)\n",
      "File \u001b[1;32mc:\\Users\\ismael.gallo\\anaconda3\\envs\\ismael_minimal\\lib\\site-packages\\torch\\utils\\data\\dataloader.py:701\u001b[0m, in \u001b[0;36m_BaseDataLoaderIter.__next__\u001b[1;34m(self)\u001b[0m\n\u001b[0;32m    698\u001b[0m \u001b[38;5;28;01mif\u001b[39;00m \u001b[38;5;28mself\u001b[39m\u001b[38;5;241m.\u001b[39m_sampler_iter \u001b[38;5;129;01mis\u001b[39;00m \u001b[38;5;28;01mNone\u001b[39;00m:\n\u001b[0;32m    699\u001b[0m     \u001b[38;5;66;03m# TODO(https://github.com/pytorch/pytorch/issues/76750)\u001b[39;00m\n\u001b[0;32m    700\u001b[0m     \u001b[38;5;28mself\u001b[39m\u001b[38;5;241m.\u001b[39m_reset()  \u001b[38;5;66;03m# type: ignore[call-arg]\u001b[39;00m\n\u001b[1;32m--> 701\u001b[0m data \u001b[38;5;241m=\u001b[39m \u001b[38;5;28;43mself\u001b[39;49m\u001b[38;5;241;43m.\u001b[39;49m\u001b[43m_next_data\u001b[49m\u001b[43m(\u001b[49m\u001b[43m)\u001b[49m\n\u001b[0;32m    702\u001b[0m \u001b[38;5;28mself\u001b[39m\u001b[38;5;241m.\u001b[39m_num_yielded \u001b[38;5;241m+\u001b[39m\u001b[38;5;241m=\u001b[39m \u001b[38;5;241m1\u001b[39m\n\u001b[0;32m    703\u001b[0m \u001b[38;5;28;01mif\u001b[39;00m (\n\u001b[0;32m    704\u001b[0m     \u001b[38;5;28mself\u001b[39m\u001b[38;5;241m.\u001b[39m_dataset_kind \u001b[38;5;241m==\u001b[39m _DatasetKind\u001b[38;5;241m.\u001b[39mIterable\n\u001b[0;32m    705\u001b[0m     \u001b[38;5;129;01mand\u001b[39;00m \u001b[38;5;28mself\u001b[39m\u001b[38;5;241m.\u001b[39m_IterableDataset_len_called \u001b[38;5;129;01mis\u001b[39;00m \u001b[38;5;129;01mnot\u001b[39;00m \u001b[38;5;28;01mNone\u001b[39;00m\n\u001b[0;32m    706\u001b[0m     \u001b[38;5;129;01mand\u001b[39;00m \u001b[38;5;28mself\u001b[39m\u001b[38;5;241m.\u001b[39m_num_yielded \u001b[38;5;241m>\u001b[39m \u001b[38;5;28mself\u001b[39m\u001b[38;5;241m.\u001b[39m_IterableDataset_len_called\n\u001b[0;32m    707\u001b[0m ):\n",
      "File \u001b[1;32mc:\\Users\\ismael.gallo\\anaconda3\\envs\\ismael_minimal\\lib\\site-packages\\torch\\utils\\data\\dataloader.py:757\u001b[0m, in \u001b[0;36m_SingleProcessDataLoaderIter._next_data\u001b[1;34m(self)\u001b[0m\n\u001b[0;32m    755\u001b[0m \u001b[38;5;28;01mdef\u001b[39;00m \u001b[38;5;21m_next_data\u001b[39m(\u001b[38;5;28mself\u001b[39m):\n\u001b[0;32m    756\u001b[0m     index \u001b[38;5;241m=\u001b[39m \u001b[38;5;28mself\u001b[39m\u001b[38;5;241m.\u001b[39m_next_index()  \u001b[38;5;66;03m# may raise StopIteration\u001b[39;00m\n\u001b[1;32m--> 757\u001b[0m     data \u001b[38;5;241m=\u001b[39m \u001b[38;5;28;43mself\u001b[39;49m\u001b[38;5;241;43m.\u001b[39;49m\u001b[43m_dataset_fetcher\u001b[49m\u001b[38;5;241;43m.\u001b[39;49m\u001b[43mfetch\u001b[49m\u001b[43m(\u001b[49m\u001b[43mindex\u001b[49m\u001b[43m)\u001b[49m  \u001b[38;5;66;03m# may raise StopIteration\u001b[39;00m\n\u001b[0;32m    758\u001b[0m     \u001b[38;5;28;01mif\u001b[39;00m \u001b[38;5;28mself\u001b[39m\u001b[38;5;241m.\u001b[39m_pin_memory:\n\u001b[0;32m    759\u001b[0m         data \u001b[38;5;241m=\u001b[39m _utils\u001b[38;5;241m.\u001b[39mpin_memory\u001b[38;5;241m.\u001b[39mpin_memory(data, \u001b[38;5;28mself\u001b[39m\u001b[38;5;241m.\u001b[39m_pin_memory_device)\n",
      "\u001b[1;31mKeyboardInterrupt\u001b[0m: "
     ]
    }
   ],
   "source": [
    "study.optimize(objective, timeout=10)"
   ]
  },
  {
   "cell_type": "code",
   "execution_count": 62,
   "id": "ad3d8dd5",
   "metadata": {},
   "outputs": [
    {
     "name": "stdout",
     "output_type": "stream",
     "text": [
      "Número de ensayo ganador : 41\n",
      "Valor objetivo (pérdida) : 1.0661789418519619e-07\n",
      "Hiperparámetros óptimos  : {'lr': 0.007992966235711838, 'n_layers': 5, 'hidden_dim': 64, 'activation': 'SiLU', 'lrdecay': 0.3961551271796536, 'lrdecay_patience': 22}\n"
     ]
    }
   ],
   "source": [
    "best_trial   = study.best_trial\n",
    "best_params  = best_trial.params         # dict con los hiperparámetros ganadores\n",
    "print(\"Número de ensayo ganador :\", best_trial.number)\n",
    "print(\"Valor objetivo (pérdida) :\", best_trial.value)\n",
    "print(\"Hiperparámetros óptimos  :\", best_params)"
   ]
  },
  {
   "cell_type": "markdown",
   "id": "0b710783",
   "metadata": {},
   "source": [
    "### Loading best model"
   ]
  },
  {
   "cell_type": "markdown",
   "id": "46c838a2",
   "metadata": {},
   "source": [
    "Cargar el estudio que mejores resultados obtuvo"
   ]
  },
  {
   "cell_type": "code",
   "execution_count": 63,
   "id": "31c2f69d",
   "metadata": {},
   "outputs": [],
   "source": [
    "study = optuna.load_study(\n",
    "    study_name=\"mlp_pcb_study\",\n",
    "    storage=\"sqlite:///optuna_studies/mlp_pcb_optuna_study.db\"\n",
    ")\n",
    "best_trial = study.best_trial\n",
    "best_params = best_trial.params"
   ]
  },
  {
   "cell_type": "markdown",
   "id": "4c3d979c",
   "metadata": {},
   "source": [
    "Reconstrucción de la ruta "
   ]
  },
  {
   "cell_type": "code",
   "execution_count": 64,
   "id": "b0317ee0",
   "metadata": {},
   "outputs": [],
   "source": [
    "model_path = f\"optuna_studies/mlp_models/model_trial_{best_trial.number}.pth\"\n",
    "if not os.path.exists(model_path):\n",
    "    raise FileNotFoundError(f\"No existe el fichero {model_path}\")\n"
   ]
  },
  {
   "cell_type": "markdown",
   "id": "e3068637",
   "metadata": {},
   "source": [
    "Asignando valors de los parámetros del mejor modelo de la red"
   ]
  },
  {
   "cell_type": "code",
   "execution_count": 65,
   "id": "3d343742",
   "metadata": {},
   "outputs": [],
   "source": [
    "hidden_layers = [best_params[\"hidden_dim\"]] * best_params[\"n_layers\"]\n",
    "activation = getattr(torch.nn, best_params[\"activation\"])\n",
    "model = MLP_PCB(hidden_layers=hidden_layers, activation=activation).to(\"cpu\")\n",
    "\n",
    "optimizer = torch.optim.Adam(model.parameters(),\n",
    "                             lr=best_params[\"lr\"])\n",
    "\n",
    "# 4) Crea un nuevo scheduler idéntico al usado en el trial\n",
    "scheduler = ReduceLROnPlateau(optimizer,\n",
    "                              mode=\"min\",\n",
    "                              factor=best_params[\"lrdecay\"],\n",
    "                              patience=best_params[\"lrdecay_patience\"],\n",
    "                              verbose=False)"
   ]
  },
  {
   "cell_type": "markdown",
   "id": "e8a020d3",
   "metadata": {},
   "source": [
    "Cargar los pesos del modelo"
   ]
  },
  {
   "cell_type": "code",
   "execution_count": 66,
   "id": "4a30d04b",
   "metadata": {},
   "outputs": [
    {
     "name": "stderr",
     "output_type": "stream",
     "text": [
      "C:\\Users\\ismael.gallo\\AppData\\Local\\Temp\\ipykernel_19300\\2633090818.py:1: FutureWarning: You are using `torch.load` with `weights_only=False` (the current default value), which uses the default pickle module implicitly. It is possible to construct malicious pickle data which will execute arbitrary code during unpickling (See https://github.com/pytorch/pytorch/blob/main/SECURITY.md#untrusted-models for more details). In a future release, the default value for `weights_only` will be flipped to `True`. This limits the functions that could be executed during unpickling. Arbitrary objects will no longer be allowed to be loaded via this mode unless they are explicitly allowlisted by the user via `torch.serialization.add_safe_globals`. We recommend you start setting `weights_only=True` for any use case where you don't have full control of the loaded file. Please open an issue on GitHub for any issues related to this experimental feature.\n",
      "  state_dict = torch.load(model_path, map_location=device)\n"
     ]
    },
    {
     "data": {
      "text/plain": [
       "MLP_PCB(\n",
       "  (net): Sequential(\n",
       "    (0): Linear(in_features=10, out_features=64, bias=True)\n",
       "    (1): SiLU()\n",
       "    (2): Linear(in_features=64, out_features=64, bias=True)\n",
       "    (3): SiLU()\n",
       "    (4): Linear(in_features=64, out_features=64, bias=True)\n",
       "    (5): SiLU()\n",
       "    (6): Linear(in_features=64, out_features=64, bias=True)\n",
       "    (7): SiLU()\n",
       "    (8): Linear(in_features=64, out_features=64, bias=True)\n",
       "    (9): SiLU()\n",
       "    (10): Linear(in_features=64, out_features=169, bias=True)\n",
       "  )\n",
       ")"
      ]
     },
     "execution_count": 66,
     "metadata": {},
     "output_type": "execute_result"
    }
   ],
   "source": [
    "state_dict = torch.load(model_path, map_location=device)\n",
    "model.load_state_dict(state_dict)\n",
    "model.to(device)\n",
    "model.eval()"
   ]
  },
  {
   "cell_type": "markdown",
   "id": "a49023b2",
   "metadata": {},
   "source": [
    "## Inference"
   ]
  },
  {
   "cell_type": "code",
   "execution_count": null,
   "id": "7cac790f",
   "metadata": {},
   "outputs": [],
   "source": [
    "Q_heaters = np.ndarray([1 1 1 1])\n",
    "T_interfaces = np.ndarray([290 290 290 290])\n",
    "T_env = 300"
   ]
  },
  {
   "cell_type": "code",
   "execution_count": null,
   "id": "1b65f37c",
   "metadata": {},
   "outputs": [],
   "source": [
    "# def predict_temperature_mlp(\n",
    "#     model: torch.nn.Module,\n",
    "#     dataset: PCBDataset_mlp,\n",
    "#     Q_heaters: Sequence[float],\n",
    "#     T_interfaces: Sequence[float],\n",
    "#     T_env: float,\n",
    "#     time_raw_seq: Optional[Union[np.ndarray, torch.Tensor]] = None,\n",
    "#     n_steps: int = 1001,\n",
    "#     device: Optional[torch.device] = None\n",
    "# ) -> np.ndarray:\n",
    "#     \"\"\"\n",
    "#     Inferencia completa de la evolución térmica de la PCB.\n",
    "\n",
    "#     Si `time_raw_seq` es None, se crea automáticamente el vector\n",
    "#     de tiempo normalizado de longitud 1001 por defecto.\n",
    "\n",
    "#     Devuelve un array (n_steps, 169) con los mapas de temperatura\n",
    "#     desnormalizados.\n",
    "#     \"\"\"\n",
    "#     # 0) Device y modelo  \n",
    "#     if device is None:\n",
    "#         device = torch.device(\"cuda\" if torch.cuda.is_available() else \"cpu\")\n",
    "#     model.to(device).eval()\n",
    "\n",
    "#     # 1) Generar o convertir la secuencia de tiempo cruda\n",
    "#     if time_raw_seq is None:\n",
    "#         time_raw = torch.arange(0, n_steps, dtype=torch.float32)  # (n_steps,)\n",
    "#     else:\n",
    "#         if isinstance(time_raw_seq, np.ndarray):\n",
    "#             time_raw = torch.from_numpy(time_raw_seq.astype(np.float32))\n",
    "#         else:\n",
    "#             time_raw = time_raw_seq.clone().float()\n",
    "#     time_raw = time_raw.to(device)\n",
    "\n",
    "#     # 2) Crear todos los inputs normalizados\n",
    "#     inputs = []\n",
    "#     for t in time_raw.cpu().numpy():\n",
    "#         inp = dataset.create_input_from_values(\n",
    "#             Q_heaters=Q_heaters,\n",
    "#             T_interfaces=T_interfaces,\n",
    "#             T_env=T_env,\n",
    "#             time=t\n",
    "#         )\n",
    "#         inputs.append(inp.unsqueeze(0))\n",
    "#     X = torch.cat(inputs, dim=0).to(device)  # (n_steps, 10)\n",
    "\n",
    "#     # 3) Inferir en batch\n",
    "#     with torch.no_grad():\n",
    "#         preds_norm = model(X)  # (n_steps, 169)\n",
    "\n",
    "#     # 4) Desnormalizar la salida\n",
    "#     temps_denorm = dataset.denormalize_output(preds_norm)  # (n_steps,169)\n",
    "#     return temps_denorm\n"
   ]
  },
  {
   "cell_type": "markdown",
   "id": "650506a6",
   "metadata": {},
   "source": [
    "Prediction from the network"
   ]
  },
  {
   "cell_type": "code",
   "execution_count": null,
   "id": "0775ba6d",
   "metadata": {},
   "outputs": [],
   "source": [
    "T_pred = predict_temperature_mlp(\n",
    "    model=model,\n",
    "    dataset=base_dataset,\n",
    "    Q_heaters=[1, 1, 1, 1],\n",
    "    T_interfaces=[280, 280, 280, 280],\n",
    "    T_env=298.0,\n",
    ")"
   ]
  },
  {
   "cell_type": "markdown",
   "id": "6222ecf4",
   "metadata": {},
   "source": [
    "Ground truth"
   ]
  },
  {
   "cell_type": "code",
   "execution_count": null,
   "id": "f3a9cbc2",
   "metadata": {},
   "outputs": [],
   "source": [
    "T_true, _, _, _ = PCB_case_2(solver='transient', Q_heaters=Q_heaters,  T_interfaces=T_interfaces,  T_env=T_env, time_sim=time_sim, dt=1, nodes_side=13)"
   ]
  }
 ],
 "metadata": {
  "kernelspec": {
   "display_name": "ismael_minimal",
   "language": "python",
   "name": "python3"
  },
  "language_info": {
   "codemirror_mode": {
    "name": "ipython",
    "version": 3
   },
   "file_extension": ".py",
   "mimetype": "text/x-python",
   "name": "python",
   "nbconvert_exporter": "python",
   "pygments_lexer": "ipython3",
   "version": "3.9.21"
  }
 },
 "nbformat": 4,
 "nbformat_minor": 5
}
