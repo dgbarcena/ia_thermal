{
 "cells": [
  {
   "cell_type": "markdown",
   "metadata": {},
   "source": [
    "Este archivo principal une todos los módulos y ejecuta el entrenamiento, validación y evaluación del modelo GCN."
   ]
  },
  {
   "cell_type": "code",
   "execution_count": 16,
   "metadata": {},
   "outputs": [],
   "source": [
    "#Importamos los modulos necesarios\n",
    "\n",
    "import torch\n",
    "from torch_geometric.loader import DataLoader\n",
    "from Dataset_loader import PCBDataset  # Asegúrate que Dataset_loader se encuentra en el mismo directorio\n",
    "from gcn_model import GCN\n",
    "from data_loader import load_pcb_dataset\n",
    "from train_eval import train, evaluate\n",
    "import os"
   ]
  },
  {
   "cell_type": "code",
   "execution_count": 17,
   "metadata": {},
   "outputs": [
    {
     "name": "stdout",
     "output_type": "stream",
     "text": [
      "Iniciando el script...\n",
      "Usando dispositivo: cpu\n"
     ]
    }
   ],
   "source": [
    "# Configuración del dispositivo\n",
    "device = torch.device('cuda' if torch.cuda.is_available() else 'cpu')\n",
    "\n",
    "# Mostrar mensaje de inicio\n",
    "print(\"Iniciando el script...\")\n",
    "print(f\"Usando dispositivo: {device}\")"
   ]
  },
  {
   "cell_type": "code",
   "execution_count": 18,
   "metadata": {},
   "outputs": [
    {
     "name": "stderr",
     "output_type": "stream",
     "text": [
      "c:\\Users\\Ernesto_Beca\\Desktop\\Ernesto\\Repo_TFG\\ia_thermal\\ernestoemedina\\data_loader.py:16: FutureWarning: You are using `torch.load` with `weights_only=False` (the current default value), which uses the default pickle module implicitly. It is possible to construct malicious pickle data which will execute arbitrary code during unpickling (See https://github.com/pytorch/pytorch/blob/main/SECURITY.md#untrusted-models for more details). In a future release, the default value for `weights_only` will be flipped to `True`. This limits the functions that could be executed during unpickling. Arbitrary objects will no longer be allowed to be loaded via this mode unless they are explicitly allowlisted by the user via `torch.serialization.add_safe_globals`. We recommend you start setting `weights_only=True` for any use case where you don't have full control of the loaded file. Please open an issue on GitHub for any issues related to this experimental feature.\n",
      "  dataset = torch.load(file_path)\n"
     ]
    },
    {
     "name": "stdout",
     "output_type": "stream",
     "text": [
      "Dataset cargado correctamente. Número de gráficos: 20000\n"
     ]
    }
   ],
   "source": [
    "# Ruta al archivo de dataset\n",
    "file_path = 'PCB_dataset.pth'  # Asegúrate que este archivo está en la carpeta actual\n",
    "\n",
    "# Cargar el dataset\n",
    "graphs = load_pcb_dataset(file_path)\n",
    "print(f\"Dataset cargado correctamente. Número de gráficos: {len(graphs)}\")\n"
   ]
  },
  {
   "cell_type": "code",
   "execution_count": 19,
   "metadata": {},
   "outputs": [],
   "source": [
    "# División del dataset\n",
    "train_size = int(0.8 * len(graphs))\n",
    "val_size = int(0.1 * len(graphs))\n",
    "test_size = len(graphs) - train_size - val_size\n",
    "\n",
    "train_dataset = graphs[:train_size]\n",
    "val_dataset = graphs[train_size:train_size + val_size]\n",
    "test_dataset = graphs[train_size + val_size:]\n",
    "\n",
    "# Crear DataLoaders\n",
    "batch_size = 32\n",
    "train_loader = DataLoader(train_dataset, batch_size=batch_size, shuffle=True)\n",
    "val_loader = DataLoader(val_dataset, batch_size=batch_size, shuffle=False)\n",
    "test_loader = DataLoader(test_dataset, batch_size=batch_size, shuffle=False)\n"
   ]
  },
  {
   "cell_type": "code",
   "execution_count": 20,
   "metadata": {},
   "outputs": [
    {
     "name": "stdout",
     "output_type": "stream",
     "text": [
      "Modelo creado correctamente.\n"
     ]
    }
   ],
   "source": [
    "# Definición del modelo\n",
    "input_dim = 2  # Potencia e interfaz como características\n",
    "hidden_dim = 64\n",
    "output_dim = 1  # Temperatura predicha por cada nodo\n",
    "num_layers = 3\n",
    "learning_rate = 0.001\n",
    "epochs = 10\n",
    "\n",
    "# Crear el modelo\n",
    "model = GCN(input_dim, hidden_dim, output_dim, num_layers).to(device)\n",
    "optimizer = torch.optim.Adam(model.parameters(), lr=learning_rate)\n",
    "\n",
    "print(\"Modelo creado correctamente.\")\n"
   ]
  },
  {
   "cell_type": "code",
   "execution_count": 21,
   "metadata": {},
   "outputs": [
    {
     "name": "stdout",
     "output_type": "stream",
     "text": [
      "Iniciando entrenamiento...\n",
      "Epoch 1/10 - Loss: 68231.2293 - Val MSE: 678.4055 - Val MAE: 20.8668 - Val R2: 0.4769\n",
      "Epoch 2/10 - Loss: 559.3938 - Val MSE: 542.3721 - Val MAE: 18.6498 - Val R2: 0.5818\n",
      "Epoch 3/10 - Loss: 520.0184 - Val MSE: 522.6764 - Val MAE: 18.3184 - Val R2: 0.5970\n",
      "Epoch 4/10 - Loss: 510.1850 - Val MSE: 518.7855 - Val MAE: 18.1830 - Val R2: 0.6000\n",
      "Epoch 5/10 - Loss: 509.3140 - Val MSE: 520.0098 - Val MAE: 18.2102 - Val R2: 0.5990\n",
      "Epoch 6/10 - Loss: 509.1576 - Val MSE: 517.9576 - Val MAE: 18.1642 - Val R2: 0.6006\n",
      "Epoch 7/10 - Loss: 509.3623 - Val MSE: 520.0292 - Val MAE: 18.2306 - Val R2: 0.5990\n",
      "Epoch 8/10 - Loss: 508.7480 - Val MSE: 518.2868 - Val MAE: 18.1627 - Val R2: 0.6004\n",
      "Epoch 9/10 - Loss: 509.6545 - Val MSE: 518.0912 - Val MAE: 18.1764 - Val R2: 0.6005\n",
      "Epoch 10/10 - Loss: 509.2879 - Val MSE: 518.6553 - Val MAE: 18.1879 - Val R2: 0.6001\n"
     ]
    }
   ],
   "source": [
    "# Entrenamiento del modelo\n",
    "print(\"Iniciando entrenamiento...\")\n",
    "for epoch in range(epochs):\n",
    "    train_loss = train(model, train_loader, optimizer, device)\n",
    "    val_mse, val_mae, val_r2 = evaluate(model, val_loader, device)\n",
    "\n",
    "    print(f\"Epoch {epoch+1}/{epochs} - Loss: {train_loss:.4f} - Val MSE: {val_mse:.4f} - Val MAE: {val_mae:.4f} - Val R2: {val_r2:.4f}\")\n"
   ]
  },
  {
   "cell_type": "code",
   "execution_count": 25,
   "metadata": {},
   "outputs": [
    {
     "name": "stdout",
     "output_type": "stream",
     "text": [
      "Evaluando en el conjunto de prueba...\n"
     ]
    },
    {
     "ename": "TypeError",
     "evalue": "evaluate() got an unexpected keyword argument 'error_threshold'",
     "output_type": "error",
     "traceback": [
      "\u001b[1;31m---------------------------------------------------------------------------\u001b[0m",
      "\u001b[1;31mTypeError\u001b[0m                                 Traceback (most recent call last)",
      "Cell \u001b[1;32mIn[25], line 5\u001b[0m\n\u001b[0;32m      2\u001b[0m \u001b[38;5;28mprint\u001b[39m(\u001b[38;5;124m\"\u001b[39m\u001b[38;5;124mEvaluando en el conjunto de prueba...\u001b[39m\u001b[38;5;124m\"\u001b[39m)\n\u001b[0;32m      3\u001b[0m error_threshold \u001b[38;5;241m=\u001b[39m \u001b[38;5;241m5.0\u001b[39m  \u001b[38;5;66;03m# Cambia esto al valor que desees en Kelvin\u001b[39;00m\n\u001b[1;32m----> 5\u001b[0m test_mse, test_mae, test_r2, test_accuracy \u001b[38;5;241m=\u001b[39m evaluate(model, test_loader, device, error_threshold\u001b[38;5;241m=\u001b[39m\u001b[38;5;241m5.0\u001b[39m)\n\u001b[0;32m      8\u001b[0m \u001b[38;5;28mprint\u001b[39m(\u001b[38;5;124mf\u001b[39m\u001b[38;5;124m\"\u001b[39m\u001b[38;5;124mTest MSE: \u001b[39m\u001b[38;5;132;01m{\u001b[39;00mtest_mse\u001b[38;5;132;01m:\u001b[39;00m\u001b[38;5;124m.4f\u001b[39m\u001b[38;5;132;01m}\u001b[39;00m\u001b[38;5;124m - Test MAE: \u001b[39m\u001b[38;5;132;01m{\u001b[39;00mtest_mae\u001b[38;5;132;01m:\u001b[39;00m\u001b[38;5;124m.4f\u001b[39m\u001b[38;5;132;01m}\u001b[39;00m\u001b[38;5;124m - Test R2: \u001b[39m\u001b[38;5;132;01m{\u001b[39;00mtest_r2\u001b[38;5;132;01m:\u001b[39;00m\u001b[38;5;124m.4f\u001b[39m\u001b[38;5;132;01m}\u001b[39;00m\u001b[38;5;124m\"\u001b[39m)\n\u001b[0;32m      9\u001b[0m \u001b[38;5;28mprint\u001b[39m(\u001b[38;5;124mf\u001b[39m\u001b[38;5;124m\"\u001b[39m\u001b[38;5;124mPorcentaje de nodos correctamente predichos dentro de un error de ±\u001b[39m\u001b[38;5;132;01m{\u001b[39;00merror_threshold\u001b[38;5;132;01m}\u001b[39;00m\u001b[38;5;124m K: \u001b[39m\u001b[38;5;132;01m{\u001b[39;00mtest_accuracy\u001b[38;5;132;01m:\u001b[39;00m\u001b[38;5;124m.2f\u001b[39m\u001b[38;5;132;01m}\u001b[39;00m\u001b[38;5;124m%\u001b[39m\u001b[38;5;124m\"\u001b[39m)\n",
      "\u001b[1;31mTypeError\u001b[0m: evaluate() got an unexpected keyword argument 'error_threshold'"
     ]
    }
   ],
   "source": [
    "# Evaluación en el conjunto de prueba\n",
    "print(\"Evaluando en el conjunto de prueba...\")\n",
    "error_threshold = 5.0  # Cambia esto al valor que desees en Kelvin\n",
    "\n",
    "test_mse, test_mae, test_r2, test_accuracy = evaluate(model, test_loader, device, error_threshold=5.0)\n",
    "\n",
    "\n",
    "print(f\"Test MSE: {test_mse:.4f} - Test MAE: {test_mae:.4f} - Test R2: {test_r2:.4f}\")\n",
    "print(f\"Porcentaje de nodos correctamente predichos dentro de un error de ±{error_threshold} K: {test_accuracy:.2f}%\")\n",
    "\n"
   ]
  }
 ],
 "metadata": {
  "kernelspec": {
   "display_name": "base",
   "language": "python",
   "name": "python3"
  },
  "language_info": {
   "codemirror_mode": {
    "name": "ipython",
    "version": 3
   },
   "file_extension": ".py",
   "mimetype": "text/x-python",
   "name": "python",
   "nbconvert_exporter": "python",
   "pygments_lexer": "ipython3",
   "version": "3.12.7"
  }
 },
 "nbformat": 4,
 "nbformat_minor": 2
}
