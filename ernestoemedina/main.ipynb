{
 "cells": [
  {
   "cell_type": "markdown",
   "metadata": {},
   "source": [
    "Este archivo principal une todos los módulos y ejecuta el entrenamiento, validación y evaluación del modelo GCN."
   ]
  },
  {
   "cell_type": "code",
   "execution_count": 1,
   "metadata": {},
   "outputs": [
    {
     "name": "stdout",
     "output_type": "stream",
     "text": [
      "Help on function save_model in module model_saver:\n",
      "\n",
      "save_model(model, num_layers, hidden_dim, epochs, learning_rate, test_mse, test_accuracy)\n",
      "    Guarda un modelo GCN con un nombre que incluye su estructura, hiperparámetros y rendimiento.\n",
      "\n",
      "    Args:\n",
      "        model (torch.nn.Module): El modelo GCN entrenado.\n",
      "        num_layers (int): Número de capas en el modelo GCN.\n",
      "        hidden_dim (int): Dimensión de las capas ocultas.\n",
      "        epochs (int): Número total de épocas de entrenamiento.\n",
      "        learning_rate (float): Tasa de aprendizaje utilizada durante el entrenamiento.\n",
      "        test_mse (float): Error medio cuadrático (MSE) en el conjunto de prueba.\n",
      "        test_accuracy (float): Porcentaje de aciertos dentro del umbral de error.\n",
      "\n"
     ]
    }
   ],
   "source": [
    "\n",
    "#Importamos los modulos necesarios\n",
    "\n",
    "import torch\n",
    "import numpy as np\n",
    "from torch_geometric.loader import DataLoader\n",
    "from Dataset_loader import PCBDataset  # Asegúrate que Dataset_loader se encuentra en el mismo directorio\n",
    "from gcn_model import GCN\n",
    "from data_loader import load_pcb_dataset\n",
    "from train_eval import train, evaluate, plot_temperature_maps, standardize_data\n",
    "from model_saver import save_model\n",
    "import os\n",
    "help(save_model)"
   ]
  },
  {
   "cell_type": "code",
   "execution_count": 2,
   "metadata": {},
   "outputs": [
    {
     "name": "stdout",
     "output_type": "stream",
     "text": [
      "Iniciando el script...\n",
      "Usando dispositivo: cuda\n"
     ]
    }
   ],
   "source": [
    "# Configuración del dispositivo\n",
    "device = torch.device('cuda' if torch.cuda.is_available() else 'cpu')\n",
    "\n",
    "# Mostrar mensaje de inicio\n",
    "print(\"Iniciando el script...\")\n",
    "print(f\"Usando dispositivo: {device}\")"
   ]
  },
  {
   "cell_type": "code",
   "execution_count": 3,
   "metadata": {},
   "outputs": [
    {
     "name": "stderr",
     "output_type": "stream",
     "text": [
      "c:\\Users\\ramse\\Escritorio\\Aero Ordenador\\4to Aero\\2do Cuatri\\Repo_TFG\\ia_thermal\\ernestoemedina\\data_loader.py:16: FutureWarning: You are using `torch.load` with `weights_only=False` (the current default value), which uses the default pickle module implicitly. It is possible to construct malicious pickle data which will execute arbitrary code during unpickling (See https://github.com/pytorch/pytorch/blob/main/SECURITY.md#untrusted-models for more details). In a future release, the default value for `weights_only` will be flipped to `True`. This limits the functions that could be executed during unpickling. Arbitrary objects will no longer be allowed to be loaded via this mode unless they are explicitly allowlisted by the user via `torch.serialization.add_safe_globals`. We recommend you start setting `weights_only=True` for any use case where you don't have full control of the loaded file. Please open an issue on GitHub for any issues related to this experimental feature.\n",
      "  dataset = torch.load(file_path)\n"
     ]
    },
    {
     "name": "stdout",
     "output_type": "stream",
     "text": [
      "Dataset cargado correctamente. Número de gráficos: 20000\n",
      "Número de nodos por gráfico: 169\n"
     ]
    }
   ],
   "source": [
    "# Ruta al archivo de dataset\n",
    "file_path = 'PCB_dataset.pth'  # Asegúrate que este archivo está en la carpeta actual\n",
    "\n",
    "# Cargar el dataset y estandarizarlo automáticamente\n",
    "graphs = standardize_data(load_pcb_dataset(file_path))  # Ahora la estandarización se realiza automáticamente\n",
    "\n",
    "# Imprimir información del dataset\n",
    "print(f\"Dataset cargado correctamente. Número de gráficos: {len(graphs)}\")\n",
    "nodos_por_grafico = graphs[0].y.shape[0]  # Obtiene el número total de nodos por gráfico\n",
    "print(f\"Número de nodos por gráfico: {nodos_por_grafico}\")\n",
    "\n"
   ]
  },
  {
   "cell_type": "code",
   "execution_count": 4,
   "metadata": {},
   "outputs": [],
   "source": [
    "# División del dataset\n",
    "train_size = int(0.8 * len(graphs))\n",
    "val_size = int(0.1 * len(graphs))\n",
    "test_size = len(graphs) - train_size - val_size\n",
    "\n",
    "train_dataset = graphs[:train_size]\n",
    "val_dataset = graphs[train_size:train_size + val_size]\n",
    "test_dataset = graphs[train_size + val_size:]\n",
    "\n",
    "# Crear DataLoaders\n",
    "batch_size = 32\n",
    "train_loader = DataLoader(train_dataset, batch_size=batch_size, shuffle=True)\n",
    "val_loader = DataLoader(val_dataset, batch_size=batch_size, shuffle=False)\n",
    "test_loader = DataLoader(test_dataset, batch_size=batch_size, shuffle=False)\n"
   ]
  },
  {
   "cell_type": "code",
   "execution_count": 8,
   "metadata": {},
   "outputs": [
    {
     "name": "stdout",
     "output_type": "stream",
     "text": [
      "Modelo creado correctamente.\n"
     ]
    }
   ],
   "source": [
    "# Definición del modelo\n",
    "input_dim = 1  # Potencia como única característica de entrada\n",
    "hidden_dim = 64\n",
    "output_dim = 1  # Temperatura predicha por cada nodo\n",
    "num_layers = 3\n",
    "learning_rate = 0.001\n",
    "epochs = 10\n",
    "\n",
    "# Crear el modelo\n",
    "model = GCN(input_dim, hidden_dim, output_dim, num_layers).to(device)\n",
    "optimizer = torch.optim.Adam(model.parameters(), lr=learning_rate)\n",
    "\n",
    "print(\"Modelo creado correctamente.\")\n"
   ]
  },
  {
   "cell_type": "code",
   "execution_count": 9,
   "metadata": {},
   "outputs": [
    {
     "name": "stdout",
     "output_type": "stream",
     "text": [
      "Iniciando entrenamiento...\n",
      "Epoch 1/10 - Loss: 0.4858 - Val MSE: 0.3994 - Val MAE: 0.5003 - Val R2: 0.3248 - Val Accuracy: 17.35%\n",
      "Epoch 2/10 - Loss: 0.4040 - Val MSE: 0.3962 - Val MAE: 0.4972 - Val R2: 0.3393 - Val Accuracy: 17.44%\n",
      "Epoch 3/10 - Loss: 0.4003 - Val MSE: 0.3920 - Val MAE: 0.4934 - Val R2: 0.3461 - Val Accuracy: 17.58%\n",
      "Epoch 4/10 - Loss: 0.3962 - Val MSE: 0.3888 - Val MAE: 0.4923 - Val R2: 0.3459 - Val Accuracy: 17.52%\n",
      "Epoch 5/10 - Loss: 0.3933 - Val MSE: 0.3888 - Val MAE: 0.4892 - Val R2: 0.3659 - Val Accuracy: 17.84%\n",
      "Epoch 6/10 - Loss: 0.3915 - Val MSE: 0.3872 - Val MAE: 0.4884 - Val R2: 0.3680 - Val Accuracy: 17.88%\n",
      "Epoch 7/10 - Loss: 0.3905 - Val MSE: 0.3849 - Val MAE: 0.4864 - Val R2: 0.3533 - Val Accuracy: 17.84%\n",
      "Epoch 8/10 - Loss: 0.3906 - Val MSE: 0.3844 - Val MAE: 0.4874 - Val R2: 0.3563 - Val Accuracy: 17.78%\n",
      "Epoch 9/10 - Loss: 0.3900 - Val MSE: 0.3863 - Val MAE: 0.4914 - Val R2: 0.3432 - Val Accuracy: 17.53%\n",
      "Epoch 10/10 - Loss: 0.3899 - Val MSE: 0.3845 - Val MAE: 0.4858 - Val R2: 0.3563 - Val Accuracy: 17.86%\n"
     ]
    }
   ],
   "source": [
    "# Entrenamiento del modelo\n",
    "print(\"Iniciando entrenamiento...\")\n",
    "for epoch in range(epochs):\n",
    "    train_loss = train(model, train_loader, optimizer, device)\n",
    "    val_mse, val_mae, val_r2, val_accuracy = evaluate(\n",
    "    model, test_loader, device, nodos_por_grafico=nodos_por_grafico, plot_results=False, normalize=True\n",
    ")\n",
    "\n",
    "    print(f\"Epoch {epoch+1}/{epochs} - Loss: {train_loss:.4f} - Val MSE: {val_mse:.4f} - Val MAE: {val_mae:.4f} - Val R2: {val_r2:.4f} - Val Accuracy: {val_accuracy:.2f}%\")\n"
   ]
  },
  {
   "cell_type": "code",
   "execution_count": null,
   "metadata": {},
   "outputs": [
    {
     "name": "stdout",
     "output_type": "stream",
     "text": [
      "Evaluando en el conjunto de prueba...\n"
     ]
    },
    {
     "data": {
      "image/png": "[encoded data removed]",
      "text/plain": [
       "<Figure size 1800x600 with 6 Axes>"
      ]
     },
     "metadata": {},
     "output_type": "display_data"
    },
    {
     "name": "stdout",
     "output_type": "stream",
     "text": [
      "Test MSE: 496.0504 - Test MAE: 17.4493 - Test R2: 0.3563\n",
      "Porcentaje de nodos de todos los graficos correctamente predichos dentro de un error de ±5.0 K: 17.86%\n"
     ]
    },
    {
     "data": {
      "text/plain": [
       "' save_model(model, num_layers=num_layers, hidden_dim=hidden_dim, \\n           epochs=epochs, learning_rate=learning_rate,\\n           test_mse=test_mse, test_accuracy=test_accuracy) '"
      ]
     },
     "execution_count": 10,
     "metadata": {},
     "output_type": "execute_result"
    }
   ],
   "source": [
    "# Evaluación en el conjunto de prueba\n",
    "print(\"Evaluando en el conjunto de prueba...\")\n",
    "error_threshold_K = 5.0  # Cambia esto al valor que desees en Kelvin\n",
    "\n",
    "#Programar error en %, en el que tu metas el porcentaje de error que quieres que tenga el modelo por nodo para calificarlo como \"valido\"\n",
    "\n",
    "test_mse, test_mae, test_r2, test_accuracy = evaluate(\n",
    "    model, test_loader, device, nodos_por_grafico=nodos_por_grafico, error_threshold=error_threshold_K, plot_results=True, normalize=False\n",
    ")\n",
    "\n",
    "\n",
    "print(f\"Test MSE: {test_mse:.4f} - Test MAE: {test_mae:.4f} - Test R2: {test_r2:.4f}\")\n",
    "print(f\"Porcentaje de nodos de todos los graficos correctamente predichos dentro de un error de ±{error_threshold_K} K: {test_accuracy:.2f}%\")\n",
    "\n",
    "\n",
    "# Guardar el modelo con todos los detalles relevantes\n",
    "\"\"\" save_model(model, num_layers=num_layers, hidden_dim=hidden_dim, \n",
    "           epochs=epochs, learning_rate=learning_rate,\n",
    "           test_mse=test_mse, test_accuracy=test_accuracy) \"\"\"\n"
   ]
  },
  {
   "cell_type": "markdown",
   "metadata": {},
   "source": [
    "Si quisieramos predecir las temperaturas sin tener un target, pero si un archivo con las condiciones de contorno, compilariamos el siguiente bloque de código."
   ]
  },
  {
   "cell_type": "code",
   "execution_count": null,
   "metadata": {},
   "outputs": [],
   "source": [
    "from train_eval import predict  # Asegúrate que la función predict() está disponible\n",
    "\n",
    "# Cargar las condiciones de contorno (sin target)\n",
    "conditions = load_pcb_dataset('conditions.pth') # Asegúrate que el archivo 'conditions.pth' está en la carpeta actual\n",
    "conditions_loader = DataLoader(conditions, batch_size=32, shuffle=False)\n",
    "\n",
    "# Generar predicciones\n",
    "predictions = predict(model, conditions_loader, device, nodos_por_grafico=nodos_por_grafico, normalize=False)\n",
    "\n",
    "# Guardar las predicciones si lo deseas\n",
    "torch.save(predictions, \"Predicciones_Condiciones.pth\")\n",
    "print(\"Predicciones generadas y guardadas correctamente.\")\n",
    "\n",
    "plot_temperature_maps(predictions[0])  # Cambiar el índice si deseas visualizar otro gráfico\n",
    "\n"
   ]
  }
 ],
 "metadata": {
  "kernelspec": {
   "display_name": "base",
   "language": "python",
   "name": "python3"
  },
  "language_info": {
   "codemirror_mode": {
    "name": "ipython",
    "version": 3
   },
   "file_extension": ".py",
   "mimetype": "text/x-python",
   "name": "python",
   "nbconvert_exporter": "python",
   "pygments_lexer": "ipython3",
   "version": "3.12.9"
  }
 },
 "nbformat": 4,
 "nbformat_minor": 4
}
