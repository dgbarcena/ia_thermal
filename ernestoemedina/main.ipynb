{
 "cells": [
  {
   "cell_type": "markdown",
   "metadata": {},
   "source": [
    "Este archivo principal une todos los módulos y ejecuta el entrenamiento, validación y evaluación del modelo GCN."
   ]
  },
  {
   "cell_type": "code",
   "execution_count": 1,
   "metadata": {},
   "outputs": [],
   "source": [
    "#Importamos los modulos necesarios\n",
    "\n",
    "import torch\n",
    "from torch_geometric.loader import DataLoader\n",
    "from Dataset_loader import PCBDataset  # Asegúrate que Dataset_loader se encuentra en el mismo directorio\n",
    "from gcn_model import GCN\n",
    "from data_loader import load_pcb_dataset\n",
    "from train_eval import train, evaluate\n",
    "import os"
   ]
  },
  {
   "cell_type": "code",
   "execution_count": 2,
   "metadata": {},
   "outputs": [
    {
     "name": "stdout",
     "output_type": "stream",
     "text": [
      "Iniciando el script...\n",
      "Usando dispositivo: cuda\n"
     ]
    }
   ],
   "source": [
    "# Configuración del dispositivo\n",
    "device = torch.device('cuda' if torch.cuda.is_available() else 'cpu')\n",
    "\n",
    "# Mostrar mensaje de inicio\n",
    "print(\"Iniciando el script...\")\n",
    "print(f\"Usando dispositivo: {device}\")"
   ]
  },
  {
   "cell_type": "code",
   "execution_count": 3,
   "metadata": {},
   "outputs": [
    {
     "name": "stderr",
     "output_type": "stream",
     "text": [
      "c:\\Users\\ramse\\Escritorio\\Aero Ordenador\\4to Aero\\2do Cuatri\\Repo_TFG\\ia_thermal\\ernestoemedina\\data_loader.py:16: FutureWarning: You are using `torch.load` with `weights_only=False` (the current default value), which uses the default pickle module implicitly. It is possible to construct malicious pickle data which will execute arbitrary code during unpickling (See https://github.com/pytorch/pytorch/blob/main/SECURITY.md#untrusted-models for more details). In a future release, the default value for `weights_only` will be flipped to `True`. This limits the functions that could be executed during unpickling. Arbitrary objects will no longer be allowed to be loaded via this mode unless they are explicitly allowlisted by the user via `torch.serialization.add_safe_globals`. We recommend you start setting `weights_only=True` for any use case where you don't have full control of the loaded file. Please open an issue on GitHub for any issues related to this experimental feature.\n",
      "  dataset = torch.load(file_path)\n"
     ]
    },
    {
     "name": "stdout",
     "output_type": "stream",
     "text": [
      "Dataset cargado correctamente. Número de gráficos: 20000\n"
     ]
    }
   ],
   "source": [
    "# Ruta al archivo de dataset\n",
    "file_path = 'PCB_dataset.pth'  # Asegúrate que este archivo está en la carpeta actual\n",
    "\n",
    "# Cargar el dataset\n",
    "graphs = load_pcb_dataset(file_path)\n",
    "print(f\"Dataset cargado correctamente. Número de gráficos: {len(graphs)}\")\n"
   ]
  },
  {
   "cell_type": "code",
   "execution_count": 4,
   "metadata": {},
   "outputs": [],
   "source": [
    "# División del dataset\n",
    "train_size = int(0.8 * len(graphs))\n",
    "val_size = int(0.1 * len(graphs))\n",
    "test_size = len(graphs) - train_size - val_size\n",
    "\n",
    "train_dataset = graphs[:train_size]\n",
    "val_dataset = graphs[train_size:train_size + val_size]\n",
    "test_dataset = graphs[train_size + val_size:]\n",
    "\n",
    "# Crear DataLoaders\n",
    "batch_size = 32\n",
    "train_loader = DataLoader(train_dataset, batch_size=batch_size, shuffle=True)\n",
    "val_loader = DataLoader(val_dataset, batch_size=batch_size, shuffle=False)\n",
    "test_loader = DataLoader(test_dataset, batch_size=batch_size, shuffle=False)\n"
   ]
  },
  {
   "cell_type": "code",
   "execution_count": 5,
   "metadata": {},
   "outputs": [
    {
     "name": "stdout",
     "output_type": "stream",
     "text": [
      "Modelo creado correctamente.\n"
     ]
    }
   ],
   "source": [
    "# Definición del modelo\n",
    "input_dim = 1  # Potencia como única característica de entrada\n",
    "hidden_dim = 64\n",
    "output_dim = 1  # Temperatura predicha por cada nodo\n",
    "num_layers = 3\n",
    "learning_rate = 0.001\n",
    "epochs = 10\n",
    "\n",
    "# Crear el modelo\n",
    "model = GCN(input_dim, hidden_dim, output_dim, num_layers).to(device)\n",
    "optimizer = torch.optim.Adam(model.parameters(), lr=learning_rate)\n",
    "\n",
    "print(\"Modelo creado correctamente.\")\n"
   ]
  },
  {
   "cell_type": "code",
   "execution_count": null,
   "metadata": {},
   "outputs": [
    {
     "name": "stdout",
     "output_type": "stream",
     "text": [
      "Iniciando entrenamiento...\n"
     ]
    },
    {
     "ename": "NameError",
     "evalue": "name 'val_mse' is not defined",
     "output_type": "error",
     "traceback": [
      "\u001b[1;31m---------------------------------------------------------------------------\u001b[0m",
      "\u001b[1;31mNameError\u001b[0m                                 Traceback (most recent call last)",
      "Cell \u001b[1;32mIn[6], line 10\u001b[0m\n\u001b[0;32m      4\u001b[0m     train_loss \u001b[38;5;241m=\u001b[39m train(model, train_loader, optimizer, device)\n\u001b[0;32m      5\u001b[0m     test_mse, test_mae, test_r2, test_accuracy \u001b[38;5;241m=\u001b[39m evaluate(\n\u001b[0;32m      6\u001b[0m     model, test_loader, device, error_threshold\u001b[38;5;241m=\u001b[39m\u001b[38;5;241m5.0\u001b[39m, plot_results\u001b[38;5;241m=\u001b[39m\u001b[38;5;28;01mFalse\u001b[39;00m, nodos_lado\u001b[38;5;241m=\u001b[39m\u001b[38;5;241m13\u001b[39m\n\u001b[0;32m      7\u001b[0m )\n\u001b[1;32m---> 10\u001b[0m     \u001b[38;5;28mprint\u001b[39m(\u001b[38;5;124mf\u001b[39m\u001b[38;5;124m\"\u001b[39m\u001b[38;5;124mEpoch \u001b[39m\u001b[38;5;132;01m{\u001b[39;00mepoch\u001b[38;5;241m+\u001b[39m\u001b[38;5;241m1\u001b[39m\u001b[38;5;132;01m}\u001b[39;00m\u001b[38;5;124m/\u001b[39m\u001b[38;5;132;01m{\u001b[39;00mepochs\u001b[38;5;132;01m}\u001b[39;00m\u001b[38;5;124m - Loss: \u001b[39m\u001b[38;5;132;01m{\u001b[39;00mtrain_loss\u001b[38;5;132;01m:\u001b[39;00m\u001b[38;5;124m.4f\u001b[39m\u001b[38;5;132;01m}\u001b[39;00m\u001b[38;5;124m - Val MSE: \u001b[39m\u001b[38;5;132;01m{\u001b[39;00mval_mse\u001b[38;5;132;01m:\u001b[39;00m\u001b[38;5;124m.4f\u001b[39m\u001b[38;5;132;01m}\u001b[39;00m\u001b[38;5;124m - Val MAE: \u001b[39m\u001b[38;5;132;01m{\u001b[39;00mval_mae\u001b[38;5;132;01m:\u001b[39;00m\u001b[38;5;124m.4f\u001b[39m\u001b[38;5;132;01m}\u001b[39;00m\u001b[38;5;124m - Val R2: \u001b[39m\u001b[38;5;132;01m{\u001b[39;00mval_r2\u001b[38;5;132;01m:\u001b[39;00m\u001b[38;5;124m.4f\u001b[39m\u001b[38;5;132;01m}\u001b[39;00m\u001b[38;5;124m - Val Accuracy: \u001b[39m\u001b[38;5;132;01m{\u001b[39;00mval_accuracy\u001b[38;5;132;01m:\u001b[39;00m\u001b[38;5;124m.2f\u001b[39m\u001b[38;5;132;01m}\u001b[39;00m\u001b[38;5;124m%\u001b[39m\u001b[38;5;124m\"\u001b[39m)\n",
      "\u001b[1;31mNameError\u001b[0m: name 'val_mse' is not defined"
     ]
    }
   ],
   "source": [
    "# Entrenamiento del modelo\n",
    "print(\"Iniciando entrenamiento...\")\n",
    "for epoch in range(epochs):\n",
    "    train_loss = train(model, train_loader, optimizer, device)\n",
    "    val_mse, val_mae, val_r2, val_accuracy = evaluate(\n",
    "        model, val_loader, device, error_threshold=5.0, plot_results=False, nodos_lado=13\n",
    "    )\n",
    "\n",
    "    print(f\"Epoch {epoch+1}/{epochs} - Loss: {train_loss:.4f} - Val MSE: {val_mse:.4f} - Val MAE: {val_mae:.4f} - Val R2: {val_r2:.4f} - Val Accuracy: {val_accuracy:.2f}%\")\n",
    "\n",
    "\n"
   ]
  },
  {
   "cell_type": "code",
   "execution_count": null,
   "metadata": {},
   "outputs": [
    {
     "name": "stdout",
     "output_type": "stream",
     "text": [
      "Evaluando en el conjunto de prueba...\n",
      "Entrada GCN (x): torch.Size([5408, 1])\n",
      "Entrada GCN (x): torch.Size([5408, 1])\n",
      "Entrada GCN (x): torch.Size([5408, 1])\n",
      "Entrada GCN (x): torch.Size([5408, 1])\n",
      "Entrada GCN (x): torch.Size([5408, 1])\n",
      "Entrada GCN (x): torch.Size([5408, 1])\n",
      "Entrada GCN (x): torch.Size([5408, 1])\n",
      "Entrada GCN (x): torch.Size([5408, 1])\n",
      "Entrada GCN (x): torch.Size([5408, 1])\n",
      "Entrada GCN (x): torch.Size([5408, 1])\n",
      "Entrada GCN (x): torch.Size([5408, 1])\n",
      "Entrada GCN (x): torch.Size([5408, 1])\n",
      "Entrada GCN (x): torch.Size([5408, 1])\n",
      "Entrada GCN (x): torch.Size([5408, 1])\n",
      "Entrada GCN (x): torch.Size([5408, 1])\n",
      "Entrada GCN (x): torch.Size([5408, 1])\n",
      "Entrada GCN (x): torch.Size([5408, 1])\n",
      "Entrada GCN (x): torch.Size([5408, 1])\n",
      "Entrada GCN (x): torch.Size([5408, 1])\n",
      "Entrada GCN (x): torch.Size([5408, 1])\n",
      "Entrada GCN (x): torch.Size([5408, 1])\n",
      "Entrada GCN (x): torch.Size([5408, 1])\n",
      "Entrada GCN (x): torch.Size([5408, 1])\n",
      "Entrada GCN (x): torch.Size([5408, 1])\n",
      "Entrada GCN (x): torch.Size([5408, 1])\n",
      "Entrada GCN (x): torch.Size([5408, 1])\n",
      "Entrada GCN (x): torch.Size([5408, 1])\n",
      "Entrada GCN (x): torch.Size([5408, 1])\n",
      "Entrada GCN (x): torch.Size([5408, 1])\n",
      "Entrada GCN (x): torch.Size([5408, 1])\n",
      "Entrada GCN (x): torch.Size([5408, 1])\n",
      "Entrada GCN (x): torch.Size([5408, 1])\n",
      "Entrada GCN (x): torch.Size([5408, 1])\n",
      "Entrada GCN (x): torch.Size([5408, 1])\n",
      "Entrada GCN (x): torch.Size([5408, 1])\n",
      "Entrada GCN (x): torch.Size([5408, 1])\n",
      "Entrada GCN (x): torch.Size([5408, 1])\n",
      "Entrada GCN (x): torch.Size([5408, 1])\n",
      "Entrada GCN (x): torch.Size([5408, 1])\n",
      "Entrada GCN (x): torch.Size([5408, 1])\n",
      "Entrada GCN (x): torch.Size([5408, 1])\n",
      "Entrada GCN (x): torch.Size([5408, 1])\n",
      "Entrada GCN (x): torch.Size([5408, 1])\n",
      "Entrada GCN (x): torch.Size([5408, 1])\n",
      "Entrada GCN (x): torch.Size([5408, 1])\n",
      "Entrada GCN (x): torch.Size([5408, 1])\n",
      "Entrada GCN (x): torch.Size([5408, 1])\n",
      "Entrada GCN (x): torch.Size([5408, 1])\n",
      "Entrada GCN (x): torch.Size([5408, 1])\n",
      "Entrada GCN (x): torch.Size([5408, 1])\n",
      "Entrada GCN (x): torch.Size([5408, 1])\n",
      "Entrada GCN (x): torch.Size([5408, 1])\n",
      "Entrada GCN (x): torch.Size([5408, 1])\n",
      "Entrada GCN (x): torch.Size([5408, 1])\n",
      "Entrada GCN (x): torch.Size([5408, 1])\n",
      "Entrada GCN (x): torch.Size([5408, 1])\n",
      "Entrada GCN (x): torch.Size([5408, 1])\n",
      "Entrada GCN (x): torch.Size([5408, 1])\n",
      "Entrada GCN (x): torch.Size([5408, 1])\n",
      "Entrada GCN (x): torch.Size([5408, 1])\n",
      "Entrada GCN (x): torch.Size([5408, 1])\n",
      "Entrada GCN (x): torch.Size([5408, 1])\n",
      "Entrada GCN (x): torch.Size([2704, 1])\n",
      "Test MSE: 581.3855 - Test MAE: 19.3854 - Test R2: 0.5434\n",
      "Porcentaje de nodos correctamente predichos dentro de un error de ±5.0 K: 15.93%\n"
     ]
    }
   ],
   "source": [
    "# Evaluación en el conjunto de prueba\n",
    "print(\"Evaluando en el conjunto de prueba...\")\n",
    "error_threshold = 5.0  # Cambia esto al valor que desees en Kelvin\n",
    "\n",
    "test_mse, test_mae, test_r2, test_accuracy = evaluate(\n",
    "    model, test_loader, device, error_threshold=error_threshold, plot_results=True, nodos_lado=13\n",
    ")\n",
    "\n",
    "print(f\"Test MSE: {test_mse:.4f} - Test MAE: {test_mae:.4f} - Test R2: {test_r2:.4f}\")\n",
    "print(f\"Porcentaje de nodos correctamente predichos dentro de un error de ±{error_threshold} K: {test_accuracy:.2f}%\")\n",
    "\n",
    "\n"
   ]
  }
 ],
 "metadata": {
  "kernelspec": {
   "display_name": "base",
   "language": "python",
   "name": "python3"
  },
  "language_info": {
   "codemirror_mode": {
    "name": "ipython",
    "version": 3
   },
   "file_extension": ".py",
   "mimetype": "text/x-python",
   "name": "python",
   "nbconvert_exporter": "python",
   "pygments_lexer": "ipython3",
   "version": "3.12.9"
  }
 },
 "nbformat": 4,
 "nbformat_minor": 2
}
