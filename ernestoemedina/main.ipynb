{
 "cells": [
  {
   "cell_type": "markdown",
   "metadata": {},
   "source": [
    "Este archivo principal une todos los módulos y ejecuta el entrenamiento, validación y evaluación del modelo GCN."
   ]
  },
  {
   "cell_type": "code",
   "execution_count": 47,
   "metadata": {},
   "outputs": [
    {
     "name": "stdout",
     "output_type": "stream",
     "text": [
      "Help on function evaluate in module train_eval:\n",
      "\n",
      "evaluate(model, loader, device, error_threshold=5.0, plot_results=True)\n",
      "\n"
     ]
    }
   ],
   "source": [
    "#Importamos los modulos necesarios\n",
    "\n",
    "import torch\n",
    "import numpy as np\n",
    "from torch_geometric.loader import DataLoader\n",
    "from Dataset_loader import PCBDataset  # Asegúrate que Dataset_loader se encuentra en el mismo directorio\n",
    "from gcn_model import GCN\n",
    "from data_loader import load_pcb_dataset\n",
    "from train_eval import train, evaluate, plot_temperature_maps\n",
    "import os\n",
    "help(evaluate)"
   ]
  },
  {
   "cell_type": "code",
   "execution_count": 42,
   "metadata": {},
   "outputs": [
    {
     "name": "stdout",
     "output_type": "stream",
     "text": [
      "Iniciando el script...\n",
      "Usando dispositivo: cuda\n"
     ]
    }
   ],
   "source": [
    "# Configuración del dispositivo\n",
    "device = torch.device('cuda' if torch.cuda.is_available() else 'cpu')\n",
    "\n",
    "# Mostrar mensaje de inicio\n",
    "print(\"Iniciando el script...\")\n",
    "print(f\"Usando dispositivo: {device}\")"
   ]
  },
  {
   "cell_type": "code",
   "execution_count": 43,
   "metadata": {},
   "outputs": [
    {
     "name": "stdout",
     "output_type": "stream",
     "text": [
      "Dataset cargado correctamente. Número de gráficos: 20000\n",
      "Número de nodos por gráfico: 169\n"
     ]
    }
   ],
   "source": [
    "# Ruta al archivo de dataset\n",
    "file_path = 'PCB_dataset.pth'  # Asegúrate que este archivo está en la carpeta actual\n",
    "\n",
    "# Cargar el dataset\n",
    "graphs = load_pcb_dataset(file_path)\n",
    "print(f\"Dataset cargado correctamente. Número de gráficos: {len(graphs)}\")\n",
    "nodos_por_grafico = graphs[0].y.shape[0]  # Obtiene el número total de nodos por gráfico\n",
    "print(f\"Número de nodos por gráfico: {nodos_por_grafico}\")"
   ]
  },
  {
   "cell_type": "code",
   "execution_count": 44,
   "metadata": {},
   "outputs": [],
   "source": [
    "# División del dataset\n",
    "train_size = int(0.8 * len(graphs))\n",
    "val_size = int(0.1 * len(graphs))\n",
    "test_size = len(graphs) - train_size - val_size\n",
    "\n",
    "train_dataset = graphs[:train_size]\n",
    "val_dataset = graphs[train_size:train_size + val_size]\n",
    "test_dataset = graphs[train_size + val_size:]\n",
    "\n",
    "# Crear DataLoaders\n",
    "batch_size = 32\n",
    "train_loader = DataLoader(train_dataset, batch_size=batch_size, shuffle=True)\n",
    "val_loader = DataLoader(val_dataset, batch_size=batch_size, shuffle=False)\n",
    "test_loader = DataLoader(test_dataset, batch_size=batch_size, shuffle=False)\n"
   ]
  },
  {
   "cell_type": "code",
   "execution_count": 45,
   "metadata": {},
   "outputs": [
    {
     "name": "stdout",
     "output_type": "stream",
     "text": [
      "Modelo creado correctamente.\n"
     ]
    }
   ],
   "source": [
    "# Definición del modelo\n",
    "input_dim = 1  # Potencia como única característica de entrada\n",
    "hidden_dim = 64\n",
    "output_dim = 1  # Temperatura predicha por cada nodo\n",
    "num_layers = 3\n",
    "learning_rate = 0.001\n",
    "epochs = 1\n",
    "\n",
    "# Crear el modelo\n",
    "model = GCN(input_dim, hidden_dim, output_dim, num_layers).to(device)\n",
    "optimizer = torch.optim.Adam(model.parameters(), lr=learning_rate)\n",
    "\n",
    "print(\"Modelo creado correctamente.\")\n"
   ]
  },
  {
   "cell_type": "code",
   "execution_count": 46,
   "metadata": {},
   "outputs": [
    {
     "name": "stdout",
     "output_type": "stream",
     "text": [
      "Iniciando entrenamiento...\n"
     ]
    },
    {
     "ename": "TypeError",
     "evalue": "evaluate() got an unexpected keyword argument 'nodos_por_grafico'",
     "output_type": "error",
     "traceback": [
      "\u001b[1;31m---------------------------------------------------------------------------\u001b[0m",
      "\u001b[1;31mTypeError\u001b[0m                                 Traceback (most recent call last)",
      "Cell \u001b[1;32mIn[46], line 5\u001b[0m\n\u001b[0;32m      3\u001b[0m \u001b[38;5;28;01mfor\u001b[39;00m epoch \u001b[38;5;129;01min\u001b[39;00m \u001b[38;5;28mrange\u001b[39m(epochs):\n\u001b[0;32m      4\u001b[0m     train_loss \u001b[38;5;241m=\u001b[39m train(model, train_loader, optimizer, device)\n\u001b[1;32m----> 5\u001b[0m     val_mse, val_mae, val_r2, val_accuracy \u001b[38;5;241m=\u001b[39m evaluate(\n\u001b[0;32m      6\u001b[0m     model, test_loader, device, nodos_por_grafico\u001b[38;5;241m=\u001b[39mnodos_por_grafico, error_threshold\u001b[38;5;241m=\u001b[39m\u001b[38;5;241m5.0\u001b[39m, plot_results\u001b[38;5;241m=\u001b[39m\u001b[38;5;28;01mFalse\u001b[39;00m\n\u001b[0;32m      7\u001b[0m )\n\u001b[0;32m     11\u001b[0m     \u001b[38;5;28mprint\u001b[39m(\u001b[38;5;124mf\u001b[39m\u001b[38;5;124m\"\u001b[39m\u001b[38;5;124mEpoch \u001b[39m\u001b[38;5;132;01m{\u001b[39;00mepoch\u001b[38;5;241m+\u001b[39m\u001b[38;5;241m1\u001b[39m\u001b[38;5;132;01m}\u001b[39;00m\u001b[38;5;124m/\u001b[39m\u001b[38;5;132;01m{\u001b[39;00mepochs\u001b[38;5;132;01m}\u001b[39;00m\u001b[38;5;124m - Loss: \u001b[39m\u001b[38;5;132;01m{\u001b[39;00mtrain_loss\u001b[38;5;132;01m:\u001b[39;00m\u001b[38;5;124m.4f\u001b[39m\u001b[38;5;132;01m}\u001b[39;00m\u001b[38;5;124m - Val MSE: \u001b[39m\u001b[38;5;132;01m{\u001b[39;00mval_mse\u001b[38;5;132;01m:\u001b[39;00m\u001b[38;5;124m.4f\u001b[39m\u001b[38;5;132;01m}\u001b[39;00m\u001b[38;5;124m - Val MAE: \u001b[39m\u001b[38;5;132;01m{\u001b[39;00mval_mae\u001b[38;5;132;01m:\u001b[39;00m\u001b[38;5;124m.4f\u001b[39m\u001b[38;5;132;01m}\u001b[39;00m\u001b[38;5;124m - Val R2: \u001b[39m\u001b[38;5;132;01m{\u001b[39;00mval_r2\u001b[38;5;132;01m:\u001b[39;00m\u001b[38;5;124m.4f\u001b[39m\u001b[38;5;132;01m}\u001b[39;00m\u001b[38;5;124m - Val Accuracy: \u001b[39m\u001b[38;5;132;01m{\u001b[39;00mval_accuracy\u001b[38;5;132;01m:\u001b[39;00m\u001b[38;5;124m.2f\u001b[39m\u001b[38;5;132;01m}\u001b[39;00m\u001b[38;5;124m%\u001b[39m\u001b[38;5;124m\"\u001b[39m)\n",
      "\u001b[1;31mTypeError\u001b[0m: evaluate() got an unexpected keyword argument 'nodos_por_grafico'"
     ]
    }
   ],
   "source": [
    "# Entrenamiento del modelo\n",
    "print(\"Iniciando entrenamiento...\")\n",
    "for epoch in range(epochs):\n",
    "    train_loss = train(model, train_loader, optimizer, device)\n",
    "    val_mse, val_mae, val_r2, val_accuracy = evaluate(\n",
    "    model, test_loader, device, nodos_por_grafico=nodos_por_grafico, error_threshold=5.0, plot_results=False\n",
    ")\n",
    "\n",
    "\n",
    "\n",
    "    print(f\"Epoch {epoch+1}/{epochs} - Loss: {train_loss:.4f} - Val MSE: {val_mse:.4f} - Val MAE: {val_mae:.4f} - Val R2: {val_r2:.4f} - Val Accuracy: {val_accuracy:.2f}%\")\n",
    "\n",
    "\n"
   ]
  },
  {
   "cell_type": "code",
   "execution_count": null,
   "metadata": {},
   "outputs": [
    {
     "name": "stdout",
     "output_type": "stream",
     "text": [
      "Evaluando en el conjunto de prueba...\n"
     ]
    },
    {
     "ename": "ValueError",
     "evalue": "El número de nodos (5408) no forma un cuadrado perfecto.",
     "output_type": "error",
     "traceback": [
      "\u001b[1;31m---------------------------------------------------------------------------\u001b[0m",
      "\u001b[1;31mValueError\u001b[0m                                Traceback (most recent call last)",
      "Cell \u001b[1;32mIn[7], line 5\u001b[0m\n\u001b[0;32m      2\u001b[0m \u001b[38;5;28mprint\u001b[39m(\u001b[38;5;124m\"\u001b[39m\u001b[38;5;124mEvaluando en el conjunto de prueba...\u001b[39m\u001b[38;5;124m\"\u001b[39m)\n\u001b[0;32m      3\u001b[0m error_threshold \u001b[38;5;241m=\u001b[39m \u001b[38;5;241m5.0\u001b[39m  \u001b[38;5;66;03m# Cambia esto al valor que desees en Kelvin\u001b[39;00m\n\u001b[1;32m----> 5\u001b[0m test_mse, test_mae, test_r2, test_accuracy \u001b[38;5;241m=\u001b[39m evaluate(\n\u001b[0;32m      6\u001b[0m     model, test_loader, device, error_threshold\u001b[38;5;241m=\u001b[39m\u001b[38;5;241m5.0\u001b[39m, plot_results\u001b[38;5;241m=\u001b[39m\u001b[38;5;28;01mTrue\u001b[39;00m\n\u001b[0;32m      7\u001b[0m )\n\u001b[0;32m     10\u001b[0m \u001b[38;5;28mprint\u001b[39m(\u001b[38;5;124mf\u001b[39m\u001b[38;5;124m\"\u001b[39m\u001b[38;5;124mTest MSE: \u001b[39m\u001b[38;5;132;01m{\u001b[39;00mtest_mse\u001b[38;5;132;01m:\u001b[39;00m\u001b[38;5;124m.4f\u001b[39m\u001b[38;5;132;01m}\u001b[39;00m\u001b[38;5;124m - Test MAE: \u001b[39m\u001b[38;5;132;01m{\u001b[39;00mtest_mae\u001b[38;5;132;01m:\u001b[39;00m\u001b[38;5;124m.4f\u001b[39m\u001b[38;5;132;01m}\u001b[39;00m\u001b[38;5;124m - Test R2: \u001b[39m\u001b[38;5;132;01m{\u001b[39;00mtest_r2\u001b[38;5;132;01m:\u001b[39;00m\u001b[38;5;124m.4f\u001b[39m\u001b[38;5;132;01m}\u001b[39;00m\u001b[38;5;124m\"\u001b[39m)\n\u001b[0;32m     11\u001b[0m \u001b[38;5;28mprint\u001b[39m(\u001b[38;5;124mf\u001b[39m\u001b[38;5;124m\"\u001b[39m\u001b[38;5;124mPorcentaje de nodos correctamente predichos dentro de un error de ±\u001b[39m\u001b[38;5;132;01m{\u001b[39;00merror_threshold\u001b[38;5;132;01m}\u001b[39;00m\u001b[38;5;124m K: \u001b[39m\u001b[38;5;132;01m{\u001b[39;00mtest_accuracy\u001b[38;5;132;01m:\u001b[39;00m\u001b[38;5;124m.2f\u001b[39m\u001b[38;5;132;01m}\u001b[39;00m\u001b[38;5;124m%\u001b[39m\u001b[38;5;124m\"\u001b[39m)\n",
      "File \u001b[1;32mc:\\Users\\ramse\\Escritorio\\Aero Ordenador\\4to Aero\\2do Cuatri\\Repo_TFG\\ia_thermal\\ernestoemedina\\train_eval.py:62\u001b[0m, in \u001b[0;36mevaluate\u001b[1;34m(model, loader, device, error_threshold, plot_results)\u001b[0m\n\u001b[0;32m     60\u001b[0m \u001b[38;5;28;01mif\u001b[39;00m plot_results \u001b[38;5;129;01mand\u001b[39;00m \u001b[38;5;28mlen\u001b[39m(all_true_vals) \u001b[38;5;241m>\u001b[39m \u001b[38;5;241m0\u001b[39m:\n\u001b[0;32m     61\u001b[0m     idx \u001b[38;5;241m=\u001b[39m random\u001b[38;5;241m.\u001b[39mrandint(\u001b[38;5;241m0\u001b[39m, \u001b[38;5;28mlen\u001b[39m(all_true_vals) \u001b[38;5;241m-\u001b[39m \u001b[38;5;241m1\u001b[39m)\n\u001b[1;32m---> 62\u001b[0m     plot_temperature_maps(all_true_vals[idx], all_pred_vals[idx])\n\u001b[0;32m     64\u001b[0m \u001b[38;5;66;03m# Calcular métricas promedio para todo el DataLoader\u001b[39;00m\n\u001b[0;32m     65\u001b[0m mean_mse \u001b[38;5;241m=\u001b[39m np\u001b[38;5;241m.\u001b[39mmean(all_mse)\n",
      "File \u001b[1;32mc:\\Users\\ramse\\Escritorio\\Aero Ordenador\\4to Aero\\2do Cuatri\\Repo_TFG\\ia_thermal\\ernestoemedina\\train_eval.py:95\u001b[0m, in \u001b[0;36mplot_temperature_maps\u001b[1;34m(true_vals, pred_vals)\u001b[0m\n\u001b[0;32m     92\u001b[0m nodos_lado \u001b[38;5;241m=\u001b[39m \u001b[38;5;28mint\u001b[39m(np\u001b[38;5;241m.\u001b[39msqrt(total_nodos))  \u001b[38;5;66;03m# Calcular el tamaño del lado del gráfico\u001b[39;00m\n\u001b[0;32m     94\u001b[0m \u001b[38;5;28;01mif\u001b[39;00m nodos_lado \u001b[38;5;241m*\u001b[39m\u001b[38;5;241m*\u001b[39m \u001b[38;5;241m2\u001b[39m \u001b[38;5;241m!=\u001b[39m total_nodos:\n\u001b[1;32m---> 95\u001b[0m     \u001b[38;5;28;01mraise\u001b[39;00m \u001b[38;5;167;01mValueError\u001b[39;00m(\u001b[38;5;124mf\u001b[39m\u001b[38;5;124m\"\u001b[39m\u001b[38;5;124mEl número de nodos (\u001b[39m\u001b[38;5;132;01m{\u001b[39;00mtotal_nodos\u001b[38;5;132;01m}\u001b[39;00m\u001b[38;5;124m) no forma un cuadrado perfecto.\u001b[39m\u001b[38;5;124m\"\u001b[39m)\n\u001b[0;32m     97\u001b[0m \u001b[38;5;66;03m# Convertir a matrices cuadradas\u001b[39;00m\n\u001b[0;32m     98\u001b[0m true_vals \u001b[38;5;241m=\u001b[39m true_vals\u001b[38;5;241m.\u001b[39mreshape(nodos_lado, nodos_lado)\n",
      "\u001b[1;31mValueError\u001b[0m: El número de nodos (5408) no forma un cuadrado perfecto."
     ]
    }
   ],
   "source": [
    "# Evaluación en el conjunto de prueba\n",
    "print(\"Evaluando en el conjunto de prueba...\")\n",
    "error_threshold = 5.0  # Cambia esto al valor que desees en Kelvin\n",
    "\n",
    "test_mse, test_mae, test_r2, test_accuracy = evaluate(\n",
    "    model, test_loader, device, nodos_por_grafico=nodos_por_grafico, error_threshold=5.0, plot_results=True\n",
    ")\n",
    "\n",
    "\n",
    "print(f\"Test MSE: {test_mse:.4f} - Test MAE: {test_mae:.4f} - Test R2: {test_r2:.4f}\")\n",
    "print(f\"Porcentaje de nodos correctamente predichos dentro de un error de ±{error_threshold} K: {test_accuracy:.2f}%\")\n",
    "\n",
    "\n"
   ]
  },
  {
   "cell_type": "code",
   "execution_count": null,
   "metadata": {},
   "outputs": [],
   "source": []
  }
 ],
 "metadata": {
  "kernelspec": {
   "display_name": "base",
   "language": "python",
   "name": "python3"
  },
  "language_info": {
   "codemirror_mode": {
    "name": "ipython",
    "version": 3
   },
   "file_extension": ".py",
   "mimetype": "text/x-python",
   "name": "python",
   "nbconvert_exporter": "python",
   "pygments_lexer": "ipython3",
   "version": "3.12.9"
  }
 },
 "nbformat": 4,
 "nbformat_minor": 4
}
