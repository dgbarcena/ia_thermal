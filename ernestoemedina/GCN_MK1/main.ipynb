{
 "cells": [
  {
   "cell_type": "markdown",
   "id": "f6519f31",
   "metadata": {},
   "source": [
    "# Librerías"
   ]
  },
  {
   "cell_type": "code",
   "execution_count": null,
   "id": "f27a23e4",
   "metadata": {},
   "outputs": [],
   "source": [
    "import torch\n",
    "import matplotlib.pyplot as plt\n",
    "import os\n",
    "import sys\n",
    "import time\n",
    "import platform\n",
    "import random\n",
    "from gcn_model import GCN\n",
    "from dataset_utils import generate_edge_index, build_graph_from_sample\n",
    "from training_utils import train, evaluate"
   ]
  },
  {
   "cell_type": "code",
   "execution_count": 2,
   "id": "170d8493",
   "metadata": {},
   "outputs": [
    {
     "name": "stdout",
     "output_type": "stream",
     "text": [
      "Using device: cuda\n"
     ]
    }
   ],
   "source": [
    "# Device configuration\n",
    "device = torch.device('cuda' if torch.cuda.is_available() else 'cpu')\n",
    "# device = 'cpu'\n",
    "print('Using device:', device)"
   ]
  },
  {
   "cell_type": "code",
   "execution_count": 3,
   "id": "1fbe6b92",
   "metadata": {},
   "outputs": [
    {
     "name": "stdout",
     "output_type": "stream",
     "text": [
      "system_specs {'os': 'Windows', 'os_version': '10.0.22000', 'machine': 'AMD64', 'processor': 'Intel64 Family 6 Model 158 Stepping 10, GenuineIntel', 'python_version': '3.12.9', 'device': 'cuda', 'gpu_name': 'NVIDIA GeForce RTX 2060', 'gpu_memory_total_GB': 6.0, 'cuda_version': '12.1'}\n"
     ]
    }
   ],
   "source": [
    "# Propiedades del sistema\n",
    "system_specs = {\n",
    "    \"os\": platform.system(),  # e.g. \"Linux\", \"Windows\", \"Darwin\"\n",
    "    \"os_version\": platform.version(),\n",
    "    \"machine\": platform.machine(),  # e.g. \"x86_64\"\n",
    "    \"processor\": platform.processor(),  # e.g. \"Intel64 Family 6 Model 158\"\n",
    "    \"python_version\": platform.python_version(),\n",
    "    \"device\": str(device)\n",
    "}\n",
    "if torch.cuda.is_available():\n",
    "    system_specs[\"gpu_name\"] = torch.cuda.get_device_name(0)\n",
    "    system_specs[\"gpu_memory_total_GB\"] = round(torch.cuda.get_device_properties(0).total_memory / (1024**3), 2)\n",
    "    system_specs[\"cuda_version\"] = torch.version.cuda\n",
    "    print(\"system_specs\", system_specs)\n"
   ]
  },
  {
   "cell_type": "code",
   "execution_count": 4,
   "id": "b9ddd377",
   "metadata": {},
   "outputs": [
    {
     "name": "stdout",
     "output_type": "stream",
     "text": [
      "c:\\Users\\ramse\\Escritorio\\Aero Ordenador\\4to Aero\\2do Cuatri\\Repo_TFG\\ia_thermal\\ernestoemedina\\GCN_MK1\n"
     ]
    }
   ],
   "source": [
    "dir_path = os.getcwd()\n",
    "print(dir_path)"
   ]
  },
  {
   "cell_type": "code",
   "execution_count": 5,
   "id": "0ba6b3d9",
   "metadata": {},
   "outputs": [
    {
     "name": "stderr",
     "output_type": "stream",
     "text": [
      "C:\\Users\\ramse\\AppData\\Local\\Temp\\ipykernel_12760\\3411024544.py:6: FutureWarning: You are using `torch.load` with `weights_only=False` (the current default value), which uses the default pickle module implicitly. It is possible to construct malicious pickle data which will execute arbitrary code during unpickling (See https://github.com/pytorch/pytorch/blob/main/SECURITY.md#untrusted-models for more details). In a future release, the default value for `weights_only` will be flipped to `True`. This limits the functions that could be executed during unpickling. Arbitrary objects will no longer be allowed to be loaded via this mode unless they are explicitly allowlisted by the user via `torch.serialization.add_safe_globals`. We recommend you start setting `weights_only=True` for any use case where you don't have full control of the loaded file. Please open an issue on GitHub for any issues related to this experimental feature.\n",
      "  dataset = torch.load(dataset_path)\n",
      "C:\\Users\\ramse\\AppData\\Local\\Temp\\ipykernel_12760\\3411024544.py:7: FutureWarning: You are using `torch.load` with `weights_only=False` (the current default value), which uses the default pickle module implicitly. It is possible to construct malicious pickle data which will execute arbitrary code during unpickling (See https://github.com/pytorch/pytorch/blob/main/SECURITY.md#untrusted-models for more details). In a future release, the default value for `weights_only` will be flipped to `True`. This limits the functions that could be executed during unpickling. Arbitrary objects will no longer be allowed to be loaded via this mode unless they are explicitly allowlisted by the user via `torch.serialization.add_safe_globals`. We recommend you start setting `weights_only=True` for any use case where you don't have full control of the loaded file. Please open an issue on GitHub for any issues related to this experimental feature.\n",
      "  norm_dataset = torch.load(norm_dataset_path)\n"
     ]
    }
   ],
   "source": [
    "# Ruta del dataset completo\n",
    "dataset_path = os.path.join(dir_path, \"Datasets\", \"PCB_dataset.pth\")\n",
    "norm_dataset_path = os.path.join(dir_path, \"Datasets\", \"PCB_Dataset_Norm.pth\")\n",
    "\n",
    "# Cargar dataset\n",
    "dataset = torch.load(dataset_path)\n",
    "norm_dataset = torch.load(norm_dataset_path)"
   ]
  },
  {
   "cell_type": "markdown",
   "id": "d2fbec94",
   "metadata": {},
   "source": [
    "## Para desnormalizar"
   ]
  },
  {
   "cell_type": "code",
   "execution_count": 11,
   "id": "e1c54c1f",
   "metadata": {},
   "outputs": [
    {
     "name": "stderr",
     "output_type": "stream",
     "text": [
      "C:\\Users\\ramse\\AppData\\Local\\Temp\\ipykernel_12760\\1878969574.py:3: FutureWarning: You are using `torch.load` with `weights_only=False` (the current default value), which uses the default pickle module implicitly. It is possible to construct malicious pickle data which will execute arbitrary code during unpickling (See https://github.com/pytorch/pytorch/blob/main/SECURITY.md#untrusted-models for more details). In a future release, the default value for `weights_only` will be flipped to `True`. This limits the functions that could be executed during unpickling. Arbitrary objects will no longer be allowed to be loaded via this mode unless they are explicitly allowlisted by the user via `torch.serialization.add_safe_globals`. We recommend you start setting `weights_only=True` for any use case where you don't have full control of the loaded file. Please open an issue on GitHub for any issues related to this experimental feature.\n",
      "  norm_info = torch.load(info_path)\n"
     ]
    }
   ],
   "source": [
    "# Cargar la info de normalización\n",
    "info_path = os.path.join(os.getcwd(), \"Datasets\", \"normalization_info.pth\")\n",
    "norm_info = torch.load(info_path)\n",
    "\n",
    "max_T_interfaces = norm_info[\"max_T_interfaces\"]\n",
    "max_Q_heaters = norm_info[\"max_Q_heaters\"]\n",
    "max_T_env = norm_info[\"max_T_env\"]\n",
    "\n",
    "## En ppio no debería ser necesario, ya que hemos cargado el dataset sin normalizar\n",
    "\n",
    "def desnormalize_inputs(dataset_norm, idx):\n",
    "    T_interfaces_norm = dataset_norm.T_interfaces[idx]\n",
    "    Q_heaters_norm = dataset_norm.Q_heaters[idx]\n",
    "    T_env_norm = dataset_norm.T_env[idx]\n",
    "    \n",
    "    T_interfaces_real = T_interfaces_norm * max_T_interfaces\n",
    "    Q_heaters_real = Q_heaters_norm * max_Q_heaters\n",
    "    T_env_real = T_env_norm * max_T_env\n",
    "    \n",
    "    return T_interfaces_real, Q_heaters_real, T_env_real"
   ]
  },
  {
   "cell_type": "code",
   "execution_count": 20,
   "id": "d9878b37",
   "metadata": {},
   "outputs": [
    {
     "name": "stdout",
     "output_type": "stream",
     "text": [
      "tensor(309.7728) K\n",
      "tensor(0.8122) W\n",
      "tensor(298.0007) K\n"
     ]
    }
   ],
   "source": [
    "idx = 1\n",
    "T_interfaces_real, Q_heaters_real, T_env_real = desnormalize_inputs(norm_dataset, idx)\n",
    "\n",
    "# Por ejemplo:\n",
    "print(torch.max(T_interfaces_real), \"K\")\n",
    "print(torch.max(Q_heaters_real), \"W\")\n",
    "print(torch.max(T_env_real), \"K\")\n"
   ]
  },
  {
   "cell_type": "code",
   "execution_count": 22,
   "id": "dff0e0b3",
   "metadata": {},
   "outputs": [
    {
     "name": "stdout",
     "output_type": "stream",
     "text": [
      "torch.Size([10000, 13, 13])\n",
      "tensor(309.7728) K\n",
      "tensor(0.8122) W\n",
      "tensor(298.0007) K\n"
     ]
    }
   ],
   "source": [
    "# Seleccionar un índice para graficar\n",
    "idx = 1  # Puedes cambiar este valor\n",
    "\n",
    "# Obtener los valores reales de las CC en T, Q y T_env\n",
    "T_interfaces_real = dataset.denormalize_T_interfaces(dataset.T_interfaces)\n",
    "Q_heaters_real = dataset.denormalize_Q_heaters(dataset.Q_heaters)\n",
    "T_env_real = dataset.denormalize_T_env(dataset.T_env)\n",
    "\n",
    "print(T_interfaces_real.shape)\n",
    "print(torch.max(T_interfaces_real[idx]), \"K\")\n",
    "print(torch.max(Q_heaters_real[idx]), \"W\")\n",
    "print(torch.max(T_env_real[idx]), \"K\")\n"
   ]
  },
  {
   "cell_type": "code",
   "execution_count": 9,
   "id": "bfc34ac6",
   "metadata": {},
   "outputs": [],
   "source": [
    "idx = 10\n",
    "T_interfaces_norm = norm_dataset.T_interfaces[idx]\n",
    "Q_heaters_norm = norm_dataset.Q_heaters[idx]\n",
    "T_env_norm = norm_dataset.T_env[idx]"
   ]
  },
  {
   "cell_type": "code",
   "execution_count": 10,
   "id": "5de920d4",
   "metadata": {},
   "outputs": [
    {
     "data": {
      "image/png": "[encoded data removed]",
      "text/plain": [
       "<Figure size 1500x500 with 6 Axes>"
      ]
     },
     "metadata": {},
     "output_type": "display_data"
    }
   ],
   "source": [
    "# Crear figura para mostrar las 3 variables\n",
    "fig, axs = plt.subplots(1, 3, figsize=(15, 5))\n",
    "im1 = axs[0].imshow(T_interfaces_norm.numpy(), cmap='hot')\n",
    "axs[0].set_title(\"T_interfaces_norm [0–1]\")\n",
    "plt.colorbar(im1, ax=axs[0])\n",
    "\n",
    "im2 = axs[1].imshow(Q_heaters_norm.numpy(), cmap='hot')\n",
    "axs[1].set_title(\"Q_heaters_norm [0–1]\")\n",
    "plt.colorbar(im2, ax=axs[1])\n",
    "\n",
    "im3 = axs[2].imshow(T_env_norm.numpy(), cmap='hot')\n",
    "axs[2].set_title(\"T_env_norm [0–1]\")\n",
    "plt.colorbar(im3, ax=axs[2])\n",
    "\n",
    "plt.suptitle(f\"Entrada del dataset  idx = {idx}\")\n",
    "plt.tight_layout()\n",
    "plt.show()"
   ]
  },
  {
   "cell_type": "markdown",
   "id": "d65f0f56",
   "metadata": {},
   "source": [
    "## GCN"
   ]
  },
  {
   "cell_type": "markdown",
   "id": "356807ba",
   "metadata": {},
   "source": [
    "### Configuración de la red"
   ]
  },
  {
   "cell_type": "code",
   "execution_count": null,
   "id": "6111d86f",
   "metadata": {},
   "outputs": [],
   "source": [
    "config = {\n",
    "    \"input_dim\": 3,           # 3 canales: T_interfaces, Q_heaters, T_env\n",
    "    \"hidden_dim\": 64,\n",
    "    \"output_dim\": 1,          # por ejemplo, predecir una temperatura por nodo\n",
    "    \"num_layers\": 3,\n",
    "    \"batch_size\": 32,\n",
    "    \"epochs\": 10,\n",
    "    \"use_dropout\": True,\n",
    "    \"dropout_rate\": 0.2,\n",
    "    \"use_batchnorm\": True,\n",
    "    \"use_residual\": False\n",
    "}"
   ]
  },
  {
   "cell_type": "code",
   "execution_count": null,
   "id": "eb322f50",
   "metadata": {},
   "outputs": [],
   "source": [
    "edge_index = generate_edge_index(grid_size=13) # Matriz de adyacencia bidireccional\n",
    "graphs = build_graph_list(norm_dataset, edge_index)"
   ]
  },
  {
   "cell_type": "code",
   "execution_count": null,
   "id": "00e10985",
   "metadata": {},
   "outputs": [],
   "source": [
    "# Por si en algún momento el Dataset tuviera un patrón al ser generado\n",
    "random.seed(42)\n",
    "random.shuffle(graphs)"
   ]
  },
  {
   "cell_type": "markdown",
   "id": "0ee6ec01",
   "metadata": {},
   "source": [
    "### División Dataset"
   ]
  },
  {
   "cell_type": "code",
   "execution_count": null,
   "id": "3237d032",
   "metadata": {},
   "outputs": [],
   "source": [
    "# División del dataset\n",
    "train_size = int(0.8 * len(graphs))\n",
    "val_size = int(0.1 * len(graphs))\n",
    "test_size = len(graphs) - train_size - val_size\n",
    "\n",
    "train_dataset = graphs[:train_size]\n",
    "val_dataset = graphs[train_size:train_size + val_size]\n",
    "test_dataset = graphs[train_size + val_size:]\n",
    "\n",
    "# Crear DataLoaders\n",
    "batch_size = config[\"batch_size\"]\n",
    "train_loader = DataLoader(train_dataset, batch_size=batch_size, shuffle=True)\n",
    "val_loader = DataLoader(val_dataset, batch_size=batch_size, shuffle=False)\n",
    "test_loader = DataLoader(test_dataset, batch_size=batch_size, shuffle=False)"
   ]
  },
  {
   "cell_type": "code",
   "execution_count": null,
   "id": "fd616c7f",
   "metadata": {},
   "outputs": [],
   "source": [
    "model = GCN(\n",
    "    input_dim=config[\"input_dim\"],\n",
    "    hidden_dim=config[\"hidden_dim\"],\n",
    "    output_dim=config[\"output_dim\"],\n",
    "    num_layers=config[\"num_layers\"],\n",
    "    use_dropout=config[\"use_dropout\"],\n",
    "    dropout_rate=config[\"dropout_rate\"],\n",
    "    use_batchnorm=config[\"use_batchnorm\"],\n",
    "    use_residual=config[\"use_residual\"]\n",
    ").to(device)\n",
    "\n",
    "optimizer = torch.optim.Adam(model.parameters(), lr=config[\"lr\"])"
   ]
  },
  {
   "cell_type": "markdown",
   "id": "8c1f86ca",
   "metadata": {},
   "source": [
    "### Entrenamiento"
   ]
  },
  {
   "cell_type": "code",
   "execution_count": null,
   "id": "9de0edbc",
   "metadata": {},
   "outputs": [],
   "source": [
    "# Entrenamiento\n",
    "\n",
    "print(\"Iniciando entrenamiento...\")\n",
    "\n",
    "for epoch in range(config[\"epochs\"]):\n",
    "    train_loss = train(model, train_loader, optimizer, device)\n",
    "    val_metrics = evaluate(model, val_loader, config, plot=False, verbose=False)\n",
    "\n",
    "    print(f\"Epoch {epoch+1}/{config['epochs']} \"\n",
    "          f\"Train Loss: {train_loss:.6f} | \"\n",
    "          f\"Val MSE: {val_metrics['mse']:.6f} | \"\n",
    "          f\"Val MAE: {val_metrics['mae']:.6f} | \"\n",
    "          f\"Max Error: {val_metrics['max_error']:.6f}\")"
   ]
  },
  {
   "cell_type": "markdown",
   "id": "847445b4",
   "metadata": {},
   "source": [
    "### Evaluación"
   ]
  },
  {
   "cell_type": "code",
   "execution_count": null,
   "id": "fea022f7",
   "metadata": {},
   "outputs": [],
   "source": [
    "evaluate(model, test_loader, config, plot=True)"
   ]
  },
  {
   "cell_type": "markdown",
   "id": "368d2128",
   "metadata": {},
   "source": [
    "### Predicción"
   ]
  },
  {
   "cell_type": "code",
   "execution_count": null,
   "id": "dc8b9e14",
   "metadata": {},
   "outputs": [],
   "source": [
    "from training_utils import load_latest_model, predict\n",
    "\n",
    "# Cargar el modelo más reciente\n",
    "model = GCN(\n",
    "    input_dim=config[\"input_dim\"],\n",
    "    hidden_dim=config[\"hidden_dim\"],\n",
    "    output_dim=config[\"output_dim\"],\n",
    "    num_layers=config[\"num_layers\"],\n",
    "    use_dropout=config[\"use_dropout\"],\n",
    "    dropout_rate=config[\"dropout_rate\"],\n",
    "    use_batchnorm=config[\"use_batchnorm\"],\n",
    "    use_residual=config[\"use_residual\"]\n",
    ")\n",
    "\n",
    "model = load_latest_model(model)\n",
    "\n",
    "# Predecir sobre test\n",
    "predicciones = predict(model, test_loader)\n",
    "\n",
    "print(\"Predicciones shape:\", predicciones.shape)"
   ]
  }
 ],
 "metadata": {
  "kernelspec": {
   "display_name": "base",
   "language": "python",
   "name": "python3"
  },
  "language_info": {
   "codemirror_mode": {
    "name": "ipython",
    "version": 3
   },
   "file_extension": ".py",
   "mimetype": "text/x-python",
   "name": "python",
   "nbconvert_exporter": "python",
   "pygments_lexer": "ipython3",
   "version": "3.12.9"
  }
 },
 "nbformat": 4,
 "nbformat_minor": 5
}
