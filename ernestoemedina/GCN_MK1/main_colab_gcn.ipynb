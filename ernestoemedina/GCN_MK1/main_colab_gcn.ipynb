{
  "cells": [
    {
      "cell_type": "code",
      "execution_count": 1,
      "id": "179bd4e6",
      "metadata": {
        "id": "179bd4e6",
        "outputId": "e8b3c669-0c94-4f4e-e7af-4f29010d0ff8",
        "colab": {
          "base_uri": "https://localhost:8080/",
          "height": 1000
        }
      },
      "outputs": [
        {
          "output_type": "stream",
          "name": "stdout",
          "text": [
            "Reinstalando dependencias compatibles con torch 2.6.0+cu124\n",
            "\u001b[33mWARNING: Skipping torch-scatter as it is not installed.\u001b[0m\u001b[33m\n",
            "\u001b[0m\u001b[33mWARNING: Skipping torch-sparse as it is not installed.\u001b[0m\u001b[33m\n",
            "\u001b[0m\u001b[33mWARNING: Skipping torch-cluster as it is not installed.\u001b[0m\u001b[33m\n",
            "\u001b[0m\u001b[33mWARNING: Skipping torch-geometric as it is not installed.\u001b[0m\u001b[33m\n",
            "\u001b[0m\u001b[33mWARNING: Skipping torch-spline-conv as it is not installed.\u001b[0m\u001b[33m\n",
            "\u001b[0mLooking in indexes: https://download.pytorch.org/whl/cu118\n",
            "Collecting torch==2.0.1+cu118\n",
            "  Downloading https://download.pytorch.org/whl/cu118/torch-2.0.1%2Bcu118-cp311-cp311-linux_x86_64.whl (2267.3 MB)\n",
            "\u001b[2K     \u001b[90m━━━━━━━━━━━━━━━━━━━━━━━━━━━━━━━━━━━━━━━━\u001b[0m \u001b[32m2.3/2.3 GB\u001b[0m \u001b[31m581.6 kB/s\u001b[0m eta \u001b[36m0:00:00\u001b[0m\n",
            "\u001b[?25hCollecting torchvision==0.15.2+cu118\n",
            "  Downloading https://download.pytorch.org/whl/cu118/torchvision-0.15.2%2Bcu118-cp311-cp311-linux_x86_64.whl (6.1 MB)\n",
            "\u001b[2K     \u001b[90m━━━━━━━━━━━━━━━━━━━━━━━━━━━━━━━━━━━━━━━━\u001b[0m \u001b[32m6.1/6.1 MB\u001b[0m \u001b[31m61.8 MB/s\u001b[0m eta \u001b[36m0:00:00\u001b[0m\n",
            "\u001b[?25hCollecting torchaudio==2.0.2\n",
            "  Downloading https://download.pytorch.org/whl/cu118/torchaudio-2.0.2%2Bcu118-cp311-cp311-linux_x86_64.whl (4.4 MB)\n",
            "\u001b[2K     \u001b[90m━━━━━━━━━━━━━━━━━━━━━━━━━━━━━━━━━━━━━━━━\u001b[0m \u001b[32m4.4/4.4 MB\u001b[0m \u001b[31m78.2 MB/s\u001b[0m eta \u001b[36m0:00:00\u001b[0m\n",
            "\u001b[?25hRequirement already satisfied: filelock in /usr/local/lib/python3.11/dist-packages (from torch==2.0.1+cu118) (3.18.0)\n",
            "Requirement already satisfied: typing-extensions in /usr/local/lib/python3.11/dist-packages (from torch==2.0.1+cu118) (4.13.2)\n",
            "Requirement already satisfied: sympy in /usr/local/lib/python3.11/dist-packages (from torch==2.0.1+cu118) (1.13.1)\n",
            "Requirement already satisfied: networkx in /usr/local/lib/python3.11/dist-packages (from torch==2.0.1+cu118) (3.4.2)\n",
            "Requirement already satisfied: jinja2 in /usr/local/lib/python3.11/dist-packages (from torch==2.0.1+cu118) (3.1.6)\n",
            "Collecting triton==2.0.0 (from torch==2.0.1+cu118)\n",
            "  Downloading https://download.pytorch.org/whl/triton-2.0.0-1-cp311-cp311-manylinux2014_x86_64.manylinux_2_17_x86_64.whl (63.3 MB)\n",
            "\u001b[2K     \u001b[90m━━━━━━━━━━━━━━━━━━━━━━━━━━━━━━━━━━━━━━━━\u001b[0m \u001b[32m63.3/63.3 MB\u001b[0m \u001b[31m12.7 MB/s\u001b[0m eta \u001b[36m0:00:00\u001b[0m\n",
            "\u001b[?25hRequirement already satisfied: numpy in /usr/local/lib/python3.11/dist-packages (from torchvision==0.15.2+cu118) (2.0.2)\n",
            "Requirement already satisfied: requests in /usr/local/lib/python3.11/dist-packages (from torchvision==0.15.2+cu118) (2.32.3)\n",
            "Requirement already satisfied: pillow!=8.3.*,>=5.3.0 in /usr/local/lib/python3.11/dist-packages (from torchvision==0.15.2+cu118) (11.2.1)\n",
            "Requirement already satisfied: cmake in /usr/local/lib/python3.11/dist-packages (from triton==2.0.0->torch==2.0.1+cu118) (3.31.6)\n",
            "Collecting lit (from triton==2.0.0->torch==2.0.1+cu118)\n",
            "  Downloading https://download.pytorch.org/whl/lit-15.0.7.tar.gz (132 kB)\n",
            "\u001b[2K     \u001b[90m━━━━━━━━━━━━━━━━━━━━━━━━━━━━━━━━━━━━━━\u001b[0m \u001b[32m132.3/132.3 kB\u001b[0m \u001b[31m11.0 MB/s\u001b[0m eta \u001b[36m0:00:00\u001b[0m\n",
            "\u001b[?25h  Preparing metadata (setup.py) ... \u001b[?25l\u001b[?25hdone\n",
            "Requirement already satisfied: MarkupSafe>=2.0 in /usr/local/lib/python3.11/dist-packages (from jinja2->torch==2.0.1+cu118) (3.0.2)\n",
            "Requirement already satisfied: charset-normalizer<4,>=2 in /usr/local/lib/python3.11/dist-packages (from requests->torchvision==0.15.2+cu118) (3.4.1)\n",
            "Requirement already satisfied: idna<4,>=2.5 in /usr/local/lib/python3.11/dist-packages (from requests->torchvision==0.15.2+cu118) (3.10)\n",
            "Requirement already satisfied: urllib3<3,>=1.21.1 in /usr/local/lib/python3.11/dist-packages (from requests->torchvision==0.15.2+cu118) (2.4.0)\n",
            "Requirement already satisfied: certifi>=2017.4.17 in /usr/local/lib/python3.11/dist-packages (from requests->torchvision==0.15.2+cu118) (2025.1.31)\n",
            "Requirement already satisfied: mpmath<1.4,>=1.1.0 in /usr/local/lib/python3.11/dist-packages (from sympy->torch==2.0.1+cu118) (1.3.0)\n",
            "Building wheels for collected packages: lit\n",
            "  Building wheel for lit (setup.py) ... \u001b[?25l\u001b[?25hdone\n",
            "  Created wheel for lit: filename=lit-15.0.7-py3-none-any.whl size=89990 sha256=3c8dce7566b225092bd30e477dbbdc546597a006724f32f4c52eb1e3bee6f217\n",
            "  Stored in directory: /root/.cache/pip/wheels/fc/5d/45/34fe9945d5e45e261134e72284395be36c2d4828af38e2b0fe\n",
            "Successfully built lit\n",
            "Installing collected packages: lit, triton, torch, torchvision, torchaudio\n",
            "  Attempting uninstall: triton\n",
            "    Found existing installation: triton 3.2.0\n",
            "    Uninstalling triton-3.2.0:\n",
            "      Successfully uninstalled triton-3.2.0\n",
            "Successfully installed lit-15.0.7 torch-2.0.1+cu118 torchaudio-2.0.2+cu118 torchvision-0.15.2+cu118 triton-2.0.0\n"
          ]
        },
        {
          "output_type": "display_data",
          "data": {
            "application/vnd.colab-display-data+json": {
              "pip_warning": {
                "packages": [
                  "torch",
                  "torchgen"
                ]
              },
              "id": "d086835368e546dd9a6a457ca2df298f"
            }
          },
          "metadata": {}
        },
        {
          "output_type": "stream",
          "name": "stdout",
          "text": [
            "Looking in links: https://data.pyg.org/whl/torch-2.0.0+cu118.html\n",
            "Collecting torch-scatter\n",
            "  Downloading https://data.pyg.org/whl/torch-2.0.0%2Bcu118/torch_scatter-2.1.2%2Bpt20cu118-cp311-cp311-linux_x86_64.whl (10.2 MB)\n",
            "\u001b[2K     \u001b[90m━━━━━━━━━━━━━━━━━━━━━━━━━━━━━━━━━━━━━━━\u001b[0m \u001b[32m10.2/10.2 MB\u001b[0m \u001b[31m102.6 MB/s\u001b[0m eta \u001b[36m0:00:00\u001b[0m\n",
            "\u001b[?25hInstalling collected packages: torch-scatter\n",
            "Successfully installed torch-scatter-2.1.2+pt20cu118\n",
            "Looking in links: https://data.pyg.org/whl/torch-2.0.0+cu118.html\n",
            "Collecting torch-sparse\n",
            "  Downloading https://data.pyg.org/whl/torch-2.0.0%2Bcu118/torch_sparse-0.6.18%2Bpt20cu118-cp311-cp311-linux_x86_64.whl (4.9 MB)\n",
            "\u001b[2K     \u001b[90m━━━━━━━━━━━━━━━━━━━━━━━━━━━━━━━━━━━━━━━━\u001b[0m \u001b[32m4.9/4.9 MB\u001b[0m \u001b[31m60.9 MB/s\u001b[0m eta \u001b[36m0:00:00\u001b[0m\n",
            "\u001b[?25hRequirement already satisfied: scipy in /usr/local/lib/python3.11/dist-packages (from torch-sparse) (1.15.2)\n",
            "Requirement already satisfied: numpy<2.5,>=1.23.5 in /usr/local/lib/python3.11/dist-packages (from scipy->torch-sparse) (2.0.2)\n",
            "Installing collected packages: torch-sparse\n",
            "Successfully installed torch-sparse-0.6.18+pt20cu118\n",
            "Looking in links: https://data.pyg.org/whl/torch-2.0.0+cu118.html\n",
            "Collecting torch-cluster\n",
            "  Downloading https://data.pyg.org/whl/torch-2.0.0%2Bcu118/torch_cluster-1.6.3%2Bpt20cu118-cp311-cp311-linux_x86_64.whl (3.3 MB)\n",
            "\u001b[2K     \u001b[90m━━━━━━━━━━━━━━━━━━━━━━━━━━━━━━━━━━━━━━━━\u001b[0m \u001b[32m3.3/3.3 MB\u001b[0m \u001b[31m68.1 MB/s\u001b[0m eta \u001b[36m0:00:00\u001b[0m\n",
            "\u001b[?25hRequirement already satisfied: scipy in /usr/local/lib/python3.11/dist-packages (from torch-cluster) (1.15.2)\n",
            "Requirement already satisfied: numpy<2.5,>=1.23.5 in /usr/local/lib/python3.11/dist-packages (from scipy->torch-cluster) (2.0.2)\n",
            "Installing collected packages: torch-cluster\n",
            "Successfully installed torch-cluster-1.6.3+pt20cu118\n",
            "Looking in links: https://data.pyg.org/whl/torch-2.0.0+cu118.html\n",
            "Collecting torch-spline-conv\n",
            "  Downloading https://data.pyg.org/whl/torch-2.0.0%2Bcu118/torch_spline_conv-1.2.2%2Bpt20cu118-cp311-cp311-linux_x86_64.whl (886 kB)\n",
            "\u001b[2K     \u001b[90m━━━━━━━━━━━━━━━━━━━━━━━━━━━━━━━━━━━━━━\u001b[0m \u001b[32m886.5/886.5 kB\u001b[0m \u001b[31m20.2 MB/s\u001b[0m eta \u001b[36m0:00:00\u001b[0m\n",
            "\u001b[?25hInstalling collected packages: torch-spline-conv\n",
            "Successfully installed torch-spline-conv-1.2.2+pt20cu118\n",
            "Collecting torch-geometric\n",
            "  Downloading torch_geometric-2.6.1-py3-none-any.whl.metadata (63 kB)\n",
            "\u001b[2K     \u001b[90m━━━━━━━━━━━━━━━━━━━━━━━━━━━━━━━━━━━━━━━━\u001b[0m \u001b[32m63.1/63.1 kB\u001b[0m \u001b[31m5.7 MB/s\u001b[0m eta \u001b[36m0:00:00\u001b[0m\n",
            "\u001b[?25hRequirement already satisfied: aiohttp in /usr/local/lib/python3.11/dist-packages (from torch-geometric) (3.11.15)\n",
            "Requirement already satisfied: fsspec in /usr/local/lib/python3.11/dist-packages (from torch-geometric) (2025.3.2)\n",
            "Requirement already satisfied: jinja2 in /usr/local/lib/python3.11/dist-packages (from torch-geometric) (3.1.6)\n",
            "Requirement already satisfied: numpy in /usr/local/lib/python3.11/dist-packages (from torch-geometric) (2.0.2)\n",
            "Requirement already satisfied: psutil>=5.8.0 in /usr/local/lib/python3.11/dist-packages (from torch-geometric) (5.9.5)\n",
            "Requirement already satisfied: pyparsing in /usr/local/lib/python3.11/dist-packages (from torch-geometric) (3.2.3)\n",
            "Requirement already satisfied: requests in /usr/local/lib/python3.11/dist-packages (from torch-geometric) (2.32.3)\n",
            "Requirement already satisfied: tqdm in /usr/local/lib/python3.11/dist-packages (from torch-geometric) (4.67.1)\n",
            "Requirement already satisfied: aiohappyeyeballs>=2.3.0 in /usr/local/lib/python3.11/dist-packages (from aiohttp->torch-geometric) (2.6.1)\n",
            "Requirement already satisfied: aiosignal>=1.1.2 in /usr/local/lib/python3.11/dist-packages (from aiohttp->torch-geometric) (1.3.2)\n",
            "Requirement already satisfied: attrs>=17.3.0 in /usr/local/lib/python3.11/dist-packages (from aiohttp->torch-geometric) (25.3.0)\n",
            "Requirement already satisfied: frozenlist>=1.1.1 in /usr/local/lib/python3.11/dist-packages (from aiohttp->torch-geometric) (1.6.0)\n",
            "Requirement already satisfied: multidict<7.0,>=4.5 in /usr/local/lib/python3.11/dist-packages (from aiohttp->torch-geometric) (6.4.3)\n",
            "Requirement already satisfied: propcache>=0.2.0 in /usr/local/lib/python3.11/dist-packages (from aiohttp->torch-geometric) (0.3.1)\n",
            "Requirement already satisfied: yarl<2.0,>=1.17.0 in /usr/local/lib/python3.11/dist-packages (from aiohttp->torch-geometric) (1.20.0)\n",
            "Requirement already satisfied: MarkupSafe>=2.0 in /usr/local/lib/python3.11/dist-packages (from jinja2->torch-geometric) (3.0.2)\n",
            "Requirement already satisfied: charset-normalizer<4,>=2 in /usr/local/lib/python3.11/dist-packages (from requests->torch-geometric) (3.4.1)\n",
            "Requirement already satisfied: idna<4,>=2.5 in /usr/local/lib/python3.11/dist-packages (from requests->torch-geometric) (3.10)\n",
            "Requirement already satisfied: urllib3<3,>=1.21.1 in /usr/local/lib/python3.11/dist-packages (from requests->torch-geometric) (2.4.0)\n",
            "Requirement already satisfied: certifi>=2017.4.17 in /usr/local/lib/python3.11/dist-packages (from requests->torch-geometric) (2025.1.31)\n",
            "Downloading torch_geometric-2.6.1-py3-none-any.whl (1.1 MB)\n",
            "\u001b[2K   \u001b[90m━━━━━━━━━━━━━━━━━━━━━━━━━━━━━━━━━━━━━━━━\u001b[0m \u001b[32m1.1/1.1 MB\u001b[0m \u001b[31m59.8 MB/s\u001b[0m eta \u001b[36m0:00:00\u001b[0m\n",
            "\u001b[?25hInstalling collected packages: torch-geometric\n",
            "Successfully installed torch-geometric-2.6.1\n",
            "Requirement already satisfied: matplotlib in /usr/local/lib/python3.11/dist-packages (3.10.0)\n",
            "Requirement already satisfied: pandas in /usr/local/lib/python3.11/dist-packages (2.2.2)\n",
            "Requirement already satisfied: contourpy>=1.0.1 in /usr/local/lib/python3.11/dist-packages (from matplotlib) (1.3.2)\n",
            "Requirement already satisfied: cycler>=0.10 in /usr/local/lib/python3.11/dist-packages (from matplotlib) (0.12.1)\n",
            "Requirement already satisfied: fonttools>=4.22.0 in /usr/local/lib/python3.11/dist-packages (from matplotlib) (4.57.0)\n",
            "Requirement already satisfied: kiwisolver>=1.3.1 in /usr/local/lib/python3.11/dist-packages (from matplotlib) (1.4.8)\n",
            "Requirement already satisfied: numpy>=1.23 in /usr/local/lib/python3.11/dist-packages (from matplotlib) (2.0.2)\n",
            "Requirement already satisfied: packaging>=20.0 in /usr/local/lib/python3.11/dist-packages (from matplotlib) (24.2)\n",
            "Requirement already satisfied: pillow>=8 in /usr/local/lib/python3.11/dist-packages (from matplotlib) (11.2.1)\n",
            "Requirement already satisfied: pyparsing>=2.3.1 in /usr/local/lib/python3.11/dist-packages (from matplotlib) (3.2.3)\n",
            "Requirement already satisfied: python-dateutil>=2.7 in /usr/local/lib/python3.11/dist-packages (from matplotlib) (2.9.0.post0)\n",
            "Requirement already satisfied: pytz>=2020.1 in /usr/local/lib/python3.11/dist-packages (from pandas) (2025.2)\n",
            "Requirement already satisfied: tzdata>=2022.7 in /usr/local/lib/python3.11/dist-packages (from pandas) (2025.2)\n",
            "Requirement already satisfied: six>=1.5 in /usr/local/lib/python3.11/dist-packages (from python-dateutil>=2.7->matplotlib) (1.17.0)\n",
            "Collecting numpy==1.24.4\n",
            "  Downloading numpy-1.24.4-cp311-cp311-manylinux_2_17_x86_64.manylinux2014_x86_64.whl.metadata (5.6 kB)\n",
            "Downloading numpy-1.24.4-cp311-cp311-manylinux_2_17_x86_64.manylinux2014_x86_64.whl (17.3 MB)\n",
            "\u001b[2K   \u001b[90m━━━━━━━━━━━━━━━━━━━━━━━━━━━━━━━━━━━━━━━━\u001b[0m \u001b[32m17.3/17.3 MB\u001b[0m \u001b[31m72.3 MB/s\u001b[0m eta \u001b[36m0:00:00\u001b[0m\n",
            "\u001b[?25hInstalling collected packages: numpy\n",
            "  Attempting uninstall: numpy\n",
            "    Found existing installation: numpy 2.0.2\n",
            "    Uninstalling numpy-2.0.2:\n",
            "      Successfully uninstalled numpy-2.0.2\n",
            "\u001b[31mERROR: pip's dependency resolver does not currently take into account all the packages that are installed. This behaviour is the source of the following dependency conflicts.\n",
            "jaxlib 0.5.1 requires numpy>=1.25, but you have numpy 1.24.4 which is incompatible.\n",
            "treescope 0.1.9 requires numpy>=1.25.2, but you have numpy 1.24.4 which is incompatible.\n",
            "pymc 5.22.0 requires numpy>=1.25.0, but you have numpy 1.24.4 which is incompatible.\n",
            "thinc 8.3.6 requires numpy<3.0.0,>=2.0.0, but you have numpy 1.24.4 which is incompatible.\n",
            "blosc2 3.3.1 requires numpy>=1.26, but you have numpy 1.24.4 which is incompatible.\n",
            "tensorflow 2.18.0 requires numpy<2.1.0,>=1.26.0, but you have numpy 1.24.4 which is incompatible.\n",
            "jax 0.5.2 requires numpy>=1.25, but you have numpy 1.24.4 which is incompatible.\u001b[0m\u001b[31m\n",
            "\u001b[0mSuccessfully installed numpy-1.24.4\n"
          ]
        },
        {
          "output_type": "display_data",
          "data": {
            "application/vnd.colab-display-data+json": {
              "pip_warning": {
                "packages": [
                  "numpy"
                ]
              },
              "id": "6add97d9c952480bacec3f2030d90831"
            }
          },
          "metadata": {}
        }
      ],
      "source": [
        "import torch\n",
        "try:\n",
        "    import torch_geometric\n",
        "    print(\"Entorno ya está configurado correctamente.\")\n",
        "except ImportError:\n",
        "    print(\"Reinstalando dependencias compatibles con torch\", torch.__version__)\n",
        "    # Eliminar versiones anteriores conflictivas\n",
        "    !pip uninstall -y torch torchvision torchaudio torch-scatter torch-sparse torch-cluster torch-geometric torch-spline-conv -q\n",
        "\n",
        "    # Instalar PyTorch con CUDA 11.8\n",
        "    !pip install torch==2.0.1+cu118 torchvision==0.15.2+cu118 torchaudio==2.0.2 --index-url https://download.pytorch.org/whl/cu118\n",
        "\n",
        "    # Instalar dependencias específicas de PyTorch Geometric para torch 2.0.1 + CUDA 11.8\n",
        "    !pip install torch-scatter -f https://data.pyg.org/whl/torch-2.0.0+cu118.html\n",
        "    !pip install torch-sparse -f https://data.pyg.org/whl/torch-2.0.0+cu118.html\n",
        "    !pip install torch-cluster -f https://data.pyg.org/whl/torch-2.0.0+cu118.html\n",
        "    !pip install torch-spline-conv -f https://data.pyg.org/whl/torch-2.0.0+cu118.html\n",
        "    !pip install torch-geometric\n",
        "\n",
        "    # Otras librerías útiles\n",
        "    !pip install matplotlib pandas\n",
        "    !pip install numpy==1.24.4"
      ]
    },
    {
      "cell_type": "code",
      "execution_count": 1,
      "id": "3c835a6f",
      "metadata": {
        "id": "3c835a6f",
        "outputId": "f90d53bc-81fb-4652-9a3c-434a70373c06",
        "colab": {
          "base_uri": "https://localhost:8080/"
        }
      },
      "outputs": [
        {
          "output_type": "stream",
          "name": "stdout",
          "text": [
            "Cloning into 'ia_thermal'...\n",
            "remote: Enumerating objects: 6009, done.\u001b[K\n",
            "remote: Counting objects: 100% (95/95), done.\u001b[K\n",
            "remote: Compressing objects: 100% (53/53), done.\u001b[K\n",
            "remote: Total 6009 (delta 62), reused 70 (delta 42), pack-reused 5914 (from 2)\u001b[K\n",
            "Receiving objects: 100% (6009/6009), 338.82 MiB | 17.37 MiB/s, done.\n",
            "Resolving deltas: 100% (1003/1003), done.\n",
            "Updating files: 100% (4072/4072), done.\n",
            "/content/ia_thermal/ernestoemedina/GCN_MK1\n"
          ]
        }
      ],
      "source": [
        "# Eliminar carpeta antigua si existe, para evitar que se quede en  el caché\n",
        "!rm -rf ia_thermal\n",
        "\n",
        "# Clonar versión actualizada desde GitHub\n",
        "!git clone https://github.com/ismaelgallolopez/ia_thermal.git\n",
        "\n",
        "%cd ia_thermal/ernestoemedina/GCN_MK1"
      ]
    },
    {
      "cell_type": "code",
      "execution_count": 2,
      "id": "204eb31b",
      "metadata": {
        "id": "204eb31b"
      },
      "outputs": [],
      "source": [
        "# Añadir ruta al sistema para importar módulos locales\n",
        "import sys\n",
        "sys.path.append('/content/ia_thermal/ernestoemedina/GCN_MK1')"
      ]
    },
    {
      "cell_type": "code",
      "execution_count": 3,
      "id": "9c37b5dd",
      "metadata": {
        "id": "9c37b5dd",
        "outputId": "c99d5ea5-a685-484e-e2b0-0f2cf1a5c8ea",
        "colab": {
          "base_uri": "https://localhost:8080/"
        }
      },
      "outputs": [
        {
          "output_type": "stream",
          "name": "stdout",
          "text": [
            "Mounted at /content/drive\n"
          ]
        }
      ],
      "source": [
        "from google.colab import drive\n",
        "drive.mount('/content/drive')"
      ]
    },
    {
      "cell_type": "code",
      "execution_count": 4,
      "id": "a5b2ffc2",
      "metadata": {
        "id": "a5b2ffc2",
        "outputId": "cfc5dada-f0f1-48fd-827f-735c98816035",
        "colab": {
          "base_uri": "https://localhost:8080/"
        }
      },
      "outputs": [
        {
          "output_type": "stream",
          "name": "stdout",
          "text": [
            "2.0.1+cu118\n",
            "CUDA disponible: True\n"
          ]
        }
      ],
      "source": [
        "import torch\n",
        "device = torch.device(\"cuda\" if torch.cuda.is_available() else \"cpu\")\n",
        "print(torch.__version__)\n",
        "print(\"CUDA disponible:\", torch.cuda.is_available())\n",
        "\n",
        "dir_path = \"/content/drive/MyDrive/ErnestoData\"\n",
        "\n"
      ]
    },
    {
      "cell_type": "markdown",
      "id": "f6519f31",
      "metadata": {
        "id": "f6519f31"
      },
      "source": [
        "# Librerías"
      ]
    },
    {
      "cell_type": "code",
      "execution_count": 5,
      "id": "f27a23e4",
      "metadata": {
        "id": "f27a23e4"
      },
      "outputs": [],
      "source": [
        "import torch\n",
        "import matplotlib.pyplot as plt\n",
        "import matplotlib.ticker as ticker\n",
        "import os\n",
        "import sys\n",
        "import time\n",
        "import platform\n",
        "import random\n",
        "import numpy as np\n",
        "from torch.optim.lr_scheduler import ReduceLROnPlateau\n",
        "from gcn_model import GCN\n",
        "from torch_geometric.loader import DataLoader\n",
        "from dataset_utils import generate_edge_index, build_graph_list, build_graph_from_sample\n",
        "from train_eval import train, evaluate, EarlyStopping"
      ]
    },
    {
      "cell_type": "code",
      "execution_count": 6,
      "id": "170d8493",
      "metadata": {
        "id": "170d8493",
        "outputId": "075c51f6-6bf1-4fb4-f53c-b0eb86b25b4b",
        "colab": {
          "base_uri": "https://localhost:8080/"
        }
      },
      "outputs": [
        {
          "output_type": "stream",
          "name": "stdout",
          "text": [
            "Using device: cuda\n"
          ]
        }
      ],
      "source": [
        "# Device configuration\n",
        "device = torch.device('cuda' if torch.cuda.is_available() else 'cpu')\n",
        "print('Using device:', device)"
      ]
    },
    {
      "cell_type": "code",
      "execution_count": 7,
      "id": "1fbe6b92",
      "metadata": {
        "id": "1fbe6b92",
        "outputId": "d552335b-ddc9-4a8b-fa0b-642753778e04",
        "colab": {
          "base_uri": "https://localhost:8080/"
        }
      },
      "outputs": [
        {
          "output_type": "stream",
          "name": "stdout",
          "text": [
            "system_specs {'os': 'Linux', 'os_version': '#1 SMP PREEMPT_DYNAMIC Sun Mar 30 16:01:29 UTC 2025', 'machine': 'x86_64', 'processor': 'x86_64', 'python_version': '3.11.12', 'device': 'cuda', 'gpu_name': 'Tesla T4', 'gpu_memory_total_GB': 14.74, 'cuda_version': '11.8'}\n"
          ]
        }
      ],
      "source": [
        "# Propiedades del sistema\n",
        "system_specs = {\n",
        "    \"os\": platform.system(),  # e.g. \"Linux\", \"Windows\", \"Darwin\"\n",
        "    \"os_version\": platform.version(),\n",
        "    \"machine\": platform.machine(),  # e.g. \"x86_64\"\n",
        "    \"processor\": platform.processor(),  # e.g. \"Intel64 Family 6 Model 158\"\n",
        "    \"python_version\": platform.python_version(),\n",
        "    \"device\": str(device)\n",
        "}\n",
        "if torch.cuda.is_available():\n",
        "    system_specs[\"gpu_name\"] = torch.cuda.get_device_name(0)\n",
        "    system_specs[\"gpu_memory_total_GB\"] = round(torch.cuda.get_device_properties(0).total_memory / (1024**3), 2)\n",
        "    system_specs[\"cuda_version\"] = torch.version.cuda\n",
        "    print(\"system_specs\", system_specs)\n"
      ]
    },
    {
      "cell_type": "code",
      "execution_count": 8,
      "id": "b9ddd377",
      "metadata": {
        "id": "b9ddd377",
        "outputId": "4ef6fb07-74a2-4927-bd0b-9a5c94049cfa",
        "colab": {
          "base_uri": "https://localhost:8080/"
        }
      },
      "outputs": [
        {
          "output_type": "stream",
          "name": "stdout",
          "text": [
            "/content/drive/MyDrive/ErnestoData\n"
          ]
        }
      ],
      "source": [
        "#dir_path = os.getcwd()\n",
        "print(dir_path)"
      ]
    },
    {
      "cell_type": "code",
      "execution_count": 9,
      "id": "0ba6b3d9",
      "metadata": {
        "id": "0ba6b3d9"
      },
      "outputs": [],
      "source": [
        "# Ruta del dataset completo\n",
        "dataset_path = os.path.join(dir_path, \"Datasets\", \"PCB_dataset.pth\")\n",
        "norm_dataset_path = os.path.join(dir_path, \"Datasets\", \"PCB_Dataset_Norm.pth\")\n",
        "\n",
        "# Cargar dataset\n",
        "dataset = torch.load(dataset_path)\n",
        "norm_dataset = torch.load(norm_dataset_path)"
      ]
    },
    {
      "cell_type": "markdown",
      "id": "d2fbec94",
      "metadata": {
        "id": "d2fbec94"
      },
      "source": [
        "## Para desnormalizar"
      ]
    },
    {
      "cell_type": "code",
      "execution_count": 10,
      "id": "e1c54c1f",
      "metadata": {
        "id": "e1c54c1f"
      },
      "outputs": [],
      "source": [
        "# Cargar la info de normalización\n",
        "info_path = os.path.join(dir_path, \"Datasets\", \"normalization_info.pth\")\n",
        "norm_info = torch.load(info_path)\n",
        "\n",
        "max_T_interfaces = norm_info[\"max_T_interfaces\"]\n",
        "max_Q_heaters = norm_info[\"max_Q_heaters\"]\n",
        "max_T_env = norm_info[\"max_T_env\"]\n",
        "\n",
        "## En ppio no debería ser necesario, ya que hemos cargado el dataset sin normalizar\n",
        "\n",
        "def desnormalize_inputs(dataset_norm, idx):\n",
        "    T_interfaces_norm = dataset_norm.T_interfaces[idx]\n",
        "    Q_heaters_norm = dataset_norm.Q_heaters[idx]\n",
        "    T_env_norm = dataset_norm.T_env[idx]\n",
        "\n",
        "    T_interfaces_real = T_interfaces_norm * max_T_interfaces\n",
        "    Q_heaters_real = Q_heaters_norm * max_Q_heaters\n",
        "    T_env_real = T_env_norm * max_T_env\n",
        "\n",
        "    return T_interfaces_real, Q_heaters_real, T_env_real"
      ]
    },
    {
      "cell_type": "code",
      "execution_count": 11,
      "id": "d9878b37",
      "metadata": {
        "id": "d9878b37",
        "outputId": "808283c1-a51c-428c-d34c-59b80be564dd",
        "colab": {
          "base_uri": "https://localhost:8080/"
        }
      },
      "outputs": [
        {
          "output_type": "stream",
          "name": "stdout",
          "text": [
            "tensor(309.7728) K\n",
            "tensor(0.8122) W\n",
            "tensor(298.0007) K\n"
          ]
        }
      ],
      "source": [
        "idx = 1\n",
        "T_interfaces_real, Q_heaters_real, T_env_real = desnormalize_inputs(norm_dataset, idx)\n",
        "\n",
        "# Por ejemplo:\n",
        "print(torch.max(T_interfaces_real), \"K\")\n",
        "print(torch.max(Q_heaters_real), \"W\")\n",
        "print(torch.max(T_env_real), \"K\")\n"
      ]
    },
    {
      "cell_type": "code",
      "execution_count": 12,
      "id": "dff0e0b3",
      "metadata": {
        "id": "dff0e0b3",
        "outputId": "53b76325-6dd8-4822-c546-bf28e633ba5e",
        "colab": {
          "base_uri": "https://localhost:8080/"
        }
      },
      "outputs": [
        {
          "output_type": "stream",
          "name": "stdout",
          "text": [
            "torch.Size([10000, 13, 13])\n",
            "tensor(309.7728) K\n",
            "tensor(0.8122) W\n",
            "tensor(298.0007) K\n"
          ]
        }
      ],
      "source": [
        "# Seleccionar un índice para graficar\n",
        "idx = 1  # Puedes cambiar este valor\n",
        "\n",
        "# Obtener los valores reales de las CC en T, Q y T_env\n",
        "T_interfaces_real = dataset.denormalize_T_interfaces(dataset.T_interfaces)\n",
        "Q_heaters_real = dataset.denormalize_Q_heaters(dataset.Q_heaters)\n",
        "T_env_real = dataset.denormalize_T_env(dataset.T_env)\n",
        "\n",
        "print(T_interfaces_real.shape)\n",
        "print(torch.max(T_interfaces_real[idx]), \"K\")\n",
        "print(torch.max(Q_heaters_real[idx]), \"W\")\n",
        "print(torch.max(T_env_real[idx]), \"K\")\n"
      ]
    },
    {
      "cell_type": "code",
      "execution_count": 13,
      "id": "bfc34ac6",
      "metadata": {
        "id": "bfc34ac6"
      },
      "outputs": [],
      "source": [
        "idx = 10\n",
        "T_interfaces_norm = norm_dataset.T_interfaces[idx]\n",
        "Q_heaters_norm = norm_dataset.Q_heaters[idx]\n",
        "T_env_norm = norm_dataset.T_env[idx]"
      ]
    },
    {
      "cell_type": "code",
      "execution_count": 14,
      "id": "5de920d4",
      "metadata": {
        "id": "5de920d4",
        "outputId": "b3abc0b8-6de5-4e5e-83d3-036431372820",
        "colab": {
          "base_uri": "https://localhost:8080/",
          "height": 511
        }
      },
      "outputs": [
        {
          "output_type": "display_data",
          "data": {
            "text/plain": [
              "<Figure size 1500x500 with 6 Axes>"
            ],
            "image/png": "[encoded data removed]"
          },
          "metadata": {}
        }
      ],
      "source": [
        "# Crear figura para mostrar las 3 variables\n",
        "fig, axs = plt.subplots(1, 3, figsize=(15, 5))\n",
        "im1 = axs[0].imshow(T_interfaces_norm.numpy(), cmap='hot')\n",
        "axs[0].set_title(\"T_interfaces_norm [0–1]\")\n",
        "plt.colorbar(im1, ax=axs[0])\n",
        "\n",
        "im2 = axs[1].imshow(Q_heaters_norm.numpy(), cmap='hot')\n",
        "axs[1].set_title(\"Q_heaters_norm [0–1]\")\n",
        "plt.colorbar(im2, ax=axs[1])\n",
        "\n",
        "im3 = axs[2].imshow(T_env_norm.numpy(), cmap='hot')\n",
        "axs[2].set_title(\"T_env_norm [0–1]\")\n",
        "plt.colorbar(im3, ax=axs[2])\n",
        "\n",
        "plt.suptitle(f\"Entrada del dataset  idx = {idx}\")\n",
        "plt.tight_layout()\n",
        "plt.show()"
      ]
    },
    {
      "cell_type": "markdown",
      "id": "d65f0f56",
      "metadata": {
        "id": "d65f0f56"
      },
      "source": [
        "## GCN"
      ]
    },
    {
      "cell_type": "markdown",
      "id": "356807ba",
      "metadata": {
        "id": "356807ba"
      },
      "source": [
        "### Configuración de la red"
      ]
    },
    {
      "cell_type": "code",
      "execution_count": 15,
      "id": "6111d86f",
      "metadata": {
        "id": "6111d86f"
      },
      "outputs": [],
      "source": [
        "# Configuración del modelo\n",
        "config = {\n",
        "    \"input_dim\": 3,           # 3 canales: T_interfaces, Q_heaters, T_env\n",
        "    \"hidden_dim\": 256,\n",
        "    \"output_dim\": 1,\n",
        "    \"num_layers\": 3,\n",
        "    \"use_dropout\": True,\n",
        "    \"dropout_rate\": 0.15217808088248522,\n",
        "    \"use_batchnorm\": True,\n",
        "    \"use_residual\": False,\n",
        "    \"batch_size\": 16,\n",
        "    \"lr\": 0.0022165075808203588,\n",
        "    \"max_epochs\": 10000,\n",
        "    \"early_stop_patience\": 100,\n",
        "    \"error_threshold_K\": 3.0,\n",
        "    \"use_percentage_threshold\": False,\n",
        "    \"percentage_threshold\": 1.0,  # solo si se activa la opción\n",
        "    \"save_model\": False,\n",
        "    \"load_model\": False, # Cargar un modelo preentrenado\n",
        "    \"factor\" : 0.5 , # Factor de reducción del learning rate\n",
        "    \"patience\" : 10 , # Épocas sin mejora para reducir el learning rate\n",
        "    \"min_lr\" : 1e-9,  # evita que baje infinitamente el learning rate\n",
        "    \"use_physics\" : False,\n",
        "    \"lambda_physics\" : 0.0001, # Peso de la física en la función de pérdida\n",
        "    \"use_boundary_loss\" : False,\n",
        "    \"lambda_boundary\" : 0.01,\n",
        "    \"use_heater_loss\" : False,\n",
        "    \"lambda_heater\" : 0.01\n",
        "}"
      ]
    },
    {
      "cell_type": "code",
      "execution_count": 16,
      "id": "eb322f50",
      "metadata": {
        "id": "eb322f50",
        "outputId": "5448af33-0709-4d01-ea98-6419c4cd9f57",
        "colab": {
          "base_uri": "https://localhost:8080/"
        }
      },
      "outputs": [
        {
          "output_type": "stream",
          "name": "stdout",
          "text": [
            "PCB cuadrada de 13 nodos por lado\n"
          ]
        }
      ],
      "source": [
        "grid_size = norm_dataset.inputs.shape[-1]\n",
        "print(\"PCB cuadrada de\", grid_size, \"nodos por lado\")\n",
        "edge_index = generate_edge_index(grid_size=grid_size) # Matriz de adyacencia bidireccional\n",
        "graphs = build_graph_list(norm_dataset, edge_index)"
      ]
    },
    {
      "cell_type": "code",
      "execution_count": 17,
      "id": "00e10985",
      "metadata": {
        "id": "00e10985"
      },
      "outputs": [],
      "source": [
        "# Por si en algún momento el Dataset tuviera un patrón al ser generado\n",
        "random.seed(42)\n",
        "random.shuffle(graphs)"
      ]
    },
    {
      "cell_type": "code",
      "execution_count": 18,
      "id": "f759d218",
      "metadata": {
        "id": "f759d218",
        "outputId": "ada2ec37-c924-436c-f4ca-b825ff9e2df7",
        "colab": {
          "base_uri": "https://localhost:8080/"
        }
      },
      "outputs": [
        {
          "output_type": "stream",
          "name": "stdout",
          "text": [
            "Mean of outputs: 0.8303\n",
            "Std of outputs:  0.0338\n",
            "Atributo .T_outputs_mean: 0.0000\n",
            "Atributo .T_outputs_std:  1.0000\n"
          ]
        }
      ],
      "source": [
        "\n",
        "# Ruta al dataset normalizado\n",
        "\n",
        "# Extraer un tensor de salida\n",
        "sample_output = norm_dataset.outputs[0]\n",
        "\n",
        "# Imprimir estadísticas globales de outputs\n",
        "all_outputs = norm_dataset.outputs.view(-1)\n",
        "print(f\"Mean of outputs: {all_outputs.mean().item():.4f}\")\n",
        "print(f\"Std of outputs:  {all_outputs.std().item():.4f}\")\n",
        "\n",
        "# También desde los atributos si están disponibles\n",
        "if hasattr(norm_dataset, \"T_outputs_mean\"):\n",
        "    print(f\"Atributo .T_outputs_mean: {norm_dataset.T_outputs_mean.item():.4f}\")\n",
        "    print(f\"Atributo .T_outputs_std:  {norm_dataset.T_outputs_std.item():.4f}\")\n"
      ]
    },
    {
      "cell_type": "markdown",
      "id": "0ee6ec01",
      "metadata": {
        "id": "0ee6ec01"
      },
      "source": [
        "### División Dataset"
      ]
    },
    {
      "cell_type": "code",
      "execution_count": 19,
      "id": "3237d032",
      "metadata": {
        "id": "3237d032"
      },
      "outputs": [],
      "source": [
        "# División del dataset\n",
        "train_size = int(0.8 * len(graphs))\n",
        "val_size = int(0.1 * len(graphs))\n",
        "test_size = len(graphs) - train_size - val_size\n",
        "\n",
        "train_dataset = graphs[:train_size]\n",
        "val_dataset = graphs[train_size:train_size + val_size]\n",
        "test_dataset = graphs[train_size + val_size:]\n",
        "\n",
        "# Crear DataLoaders\n",
        "batch_size = config[\"batch_size\"]\n",
        "train_loader = DataLoader(train_dataset, batch_size=batch_size, shuffle=True)\n",
        "val_loader = DataLoader(val_dataset, batch_size=batch_size, shuffle=False)\n",
        "test_loader = DataLoader(test_dataset, batch_size=batch_size, shuffle=False)"
      ]
    },
    {
      "cell_type": "code",
      "execution_count": 20,
      "id": "fd616c7f",
      "metadata": {
        "id": "fd616c7f"
      },
      "outputs": [],
      "source": [
        "model = GCN(\n",
        "    input_dim=config[\"input_dim\"],\n",
        "    hidden_dim=config[\"hidden_dim\"],\n",
        "    output_dim=config[\"output_dim\"],\n",
        "    num_layers=config[\"num_layers\"],\n",
        "    use_dropout=config[\"use_dropout\"],\n",
        "    dropout_rate=config[\"dropout_rate\"],\n",
        "    use_batchnorm=config[\"use_batchnorm\"],\n",
        "    use_residual=config[\"use_residual\"]\n",
        ").to(device)\n",
        "\n",
        "optimizer = torch.optim.Adam(model.parameters(), lr=config[\"lr\"])\n",
        "scheduler = ReduceLROnPlateau(\n",
        "    optimizer,\n",
        "    mode='min',            # queremos minimizar el val_loss\n",
        "    factor=config[\"factor\"],            # reduce a la mitad el LR\n",
        "    patience=config[\"patience\"],           # espera 10 épocas sin mejora\n",
        "    verbose=True,          # imprime info cuando reduce\n",
        "    min_lr=config[\"min_lr\"]            # evita que baje infinitamente\n",
        ")\n"
      ]
    },
    {
      "cell_type": "code",
      "execution_count": 21,
      "id": "cf329d89",
      "metadata": {
        "id": "cf329d89",
        "outputId": "96ba951c-a421-4df1-c51b-8c8b81a2e048",
        "colab": {
          "base_uri": "https://localhost:8080/"
        }
      },
      "outputs": [
        {
          "output_type": "stream",
          "name": "stdout",
          "text": [
            "Forma de entrada: torch.Size([3, 13, 13])\n",
            "Forma de salida: torch.Size([13, 13])\n"
          ]
        }
      ],
      "source": [
        "print(\"Forma de entrada:\", norm_dataset.inputs[0].shape)\n",
        "print(\"Forma de salida:\", norm_dataset.outputs[0].shape)\n"
      ]
    },
    {
      "cell_type": "markdown",
      "id": "8c1f86ca",
      "metadata": {
        "id": "8c1f86ca"
      },
      "source": [
        "### Entrenamiento"
      ]
    },
    {
      "cell_type": "code",
      "execution_count": 22,
      "id": "9de0edbc",
      "metadata": {
        "id": "9de0edbc",
        "outputId": "c14544df-e43b-4842-c7dd-94bf4ea4fae7",
        "colab": {
          "base_uri": "https://localhost:8080/",
          "height": 373
        }
      },
      "outputs": [
        {
          "output_type": "stream",
          "name": "stdout",
          "text": [
            "Iniciando entrenamiento...\n"
          ]
        },
        {
          "output_type": "error",
          "ename": "FileNotFoundError",
          "evalue": "[Errno 2] No such file or directory: 'Datasets/normalization_info.pth'",
          "traceback": [
            "\u001b[0;31m---------------------------------------------------------------------------\u001b[0m",
            "\u001b[0;31mFileNotFoundError\u001b[0m                         Traceback (most recent call last)",
            "\u001b[0;32m<ipython-input-22-1b08c534601a>\u001b[0m in \u001b[0;36m<cell line: 0>\u001b[0;34m()\u001b[0m\n\u001b[1;32m      9\u001b[0m \u001b[0;32mfor\u001b[0m \u001b[0mepoch\u001b[0m \u001b[0;32min\u001b[0m \u001b[0mrange\u001b[0m\u001b[0;34m(\u001b[0m\u001b[0mconfig\u001b[0m\u001b[0;34m[\u001b[0m\u001b[0;34m\"max_epochs\"\u001b[0m\u001b[0;34m]\u001b[0m\u001b[0;34m)\u001b[0m\u001b[0;34m:\u001b[0m\u001b[0;34m\u001b[0m\u001b[0;34m\u001b[0m\u001b[0m\n\u001b[1;32m     10\u001b[0m     \u001b[0;31m# Entrenar\u001b[0m\u001b[0;34m\u001b[0m\u001b[0;34m\u001b[0m\u001b[0m\n\u001b[0;32m---> 11\u001b[0;31m     train_loss = train(model, train_loader, optimizer, device, lambda_physics=config[\"lambda_physics\"],\n\u001b[0m\u001b[1;32m     12\u001b[0m                        \u001b[0muse_physics\u001b[0m\u001b[0;34m=\u001b[0m\u001b[0mconfig\u001b[0m\u001b[0;34m[\u001b[0m\u001b[0;34m\"use_physics\"\u001b[0m\u001b[0;34m]\u001b[0m\u001b[0;34m,\u001b[0m \u001b[0mlambda_boundary\u001b[0m\u001b[0;34m=\u001b[0m\u001b[0mconfig\u001b[0m\u001b[0;34m[\u001b[0m\u001b[0;34m\"lambda_boundary\"\u001b[0m\u001b[0;34m]\u001b[0m\u001b[0;34m,\u001b[0m\u001b[0;34m\u001b[0m\u001b[0;34m\u001b[0m\u001b[0m\n\u001b[1;32m     13\u001b[0m                        \u001b[0muse_boundary_loss\u001b[0m\u001b[0;34m=\u001b[0m\u001b[0mconfig\u001b[0m\u001b[0;34m[\u001b[0m\u001b[0;34m\"use_boundary_loss\"\u001b[0m\u001b[0;34m]\u001b[0m\u001b[0;34m,\u001b[0m \u001b[0mlambda_heater\u001b[0m\u001b[0;34m=\u001b[0m\u001b[0mconfig\u001b[0m\u001b[0;34m[\u001b[0m\u001b[0;34m\"lambda_heater\"\u001b[0m\u001b[0;34m]\u001b[0m\u001b[0;34m,\u001b[0m\u001b[0;34m\u001b[0m\u001b[0;34m\u001b[0m\u001b[0m\n",
            "\u001b[0;32m/content/ia_thermal/ernestoemedina/GCN_MK1/train_eval.py\u001b[0m in \u001b[0;36mtrain\u001b[0;34m(model, loader, optimizer, device, use_physics, lambda_physics, use_boundary_loss, lambda_boundary, use_heater_loss, lambda_heater)\u001b[0m\n\u001b[1;32m     16\u001b[0m     \u001b[0mcriterion\u001b[0m \u001b[0;34m=\u001b[0m \u001b[0mtorch\u001b[0m\u001b[0;34m.\u001b[0m\u001b[0mnn\u001b[0m\u001b[0;34m.\u001b[0m\u001b[0mMSELoss\u001b[0m\u001b[0;34m(\u001b[0m\u001b[0;34m)\u001b[0m\u001b[0;34m\u001b[0m\u001b[0;34m\u001b[0m\u001b[0m\n\u001b[1;32m     17\u001b[0m     \u001b[0;31m# Cargar info de normalización para la pérdida física\u001b[0m\u001b[0;34m\u001b[0m\u001b[0;34m\u001b[0m\u001b[0m\n\u001b[0;32m---> 18\u001b[0;31m     \u001b[0mnorm_info\u001b[0m \u001b[0;34m=\u001b[0m \u001b[0mtorch\u001b[0m\u001b[0;34m.\u001b[0m\u001b[0mload\u001b[0m\u001b[0;34m(\u001b[0m\u001b[0mos\u001b[0m\u001b[0;34m.\u001b[0m\u001b[0mpath\u001b[0m\u001b[0;34m.\u001b[0m\u001b[0mjoin\u001b[0m\u001b[0;34m(\u001b[0m\u001b[0;34m\"Datasets\"\u001b[0m\u001b[0;34m,\u001b[0m \u001b[0;34m\"normalization_info.pth\"\u001b[0m\u001b[0;34m)\u001b[0m\u001b[0;34m)\u001b[0m\u001b[0;34m\u001b[0m\u001b[0;34m\u001b[0m\u001b[0m\n\u001b[0m\u001b[1;32m     19\u001b[0m \u001b[0;34m\u001b[0m\u001b[0m\n\u001b[1;32m     20\u001b[0m     \u001b[0;32mfor\u001b[0m \u001b[0mbatch\u001b[0m \u001b[0;32min\u001b[0m \u001b[0mloader\u001b[0m\u001b[0;34m:\u001b[0m\u001b[0;34m\u001b[0m\u001b[0;34m\u001b[0m\u001b[0m\n",
            "\u001b[0;32m/usr/local/lib/python3.11/dist-packages/torch/serialization.py\u001b[0m in \u001b[0;36mload\u001b[0;34m(f, map_location, pickle_module, weights_only, **pickle_load_args)\u001b[0m\n\u001b[1;32m    789\u001b[0m         \u001b[0mpickle_load_args\u001b[0m\u001b[0;34m[\u001b[0m\u001b[0;34m'encoding'\u001b[0m\u001b[0;34m]\u001b[0m \u001b[0;34m=\u001b[0m \u001b[0;34m'utf-8'\u001b[0m\u001b[0;34m\u001b[0m\u001b[0;34m\u001b[0m\u001b[0m\n\u001b[1;32m    790\u001b[0m \u001b[0;34m\u001b[0m\u001b[0m\n\u001b[0;32m--> 791\u001b[0;31m     \u001b[0;32mwith\u001b[0m \u001b[0m_open_file_like\u001b[0m\u001b[0;34m(\u001b[0m\u001b[0mf\u001b[0m\u001b[0;34m,\u001b[0m \u001b[0;34m'rb'\u001b[0m\u001b[0;34m)\u001b[0m \u001b[0;32mas\u001b[0m \u001b[0mopened_file\u001b[0m\u001b[0;34m:\u001b[0m\u001b[0;34m\u001b[0m\u001b[0;34m\u001b[0m\u001b[0m\n\u001b[0m\u001b[1;32m    792\u001b[0m         \u001b[0;32mif\u001b[0m \u001b[0m_is_zipfile\u001b[0m\u001b[0;34m(\u001b[0m\u001b[0mopened_file\u001b[0m\u001b[0;34m)\u001b[0m\u001b[0;34m:\u001b[0m\u001b[0;34m\u001b[0m\u001b[0;34m\u001b[0m\u001b[0m\n\u001b[1;32m    793\u001b[0m             \u001b[0;31m# The zipfile reader is going to advance the current file position.\u001b[0m\u001b[0;34m\u001b[0m\u001b[0;34m\u001b[0m\u001b[0m\n",
            "\u001b[0;32m/usr/local/lib/python3.11/dist-packages/torch/serialization.py\u001b[0m in \u001b[0;36m_open_file_like\u001b[0;34m(name_or_buffer, mode)\u001b[0m\n\u001b[1;32m    269\u001b[0m \u001b[0;32mdef\u001b[0m \u001b[0m_open_file_like\u001b[0m\u001b[0;34m(\u001b[0m\u001b[0mname_or_buffer\u001b[0m\u001b[0;34m,\u001b[0m \u001b[0mmode\u001b[0m\u001b[0;34m)\u001b[0m\u001b[0;34m:\u001b[0m\u001b[0;34m\u001b[0m\u001b[0;34m\u001b[0m\u001b[0m\n\u001b[1;32m    270\u001b[0m     \u001b[0;32mif\u001b[0m \u001b[0m_is_path\u001b[0m\u001b[0;34m(\u001b[0m\u001b[0mname_or_buffer\u001b[0m\u001b[0;34m)\u001b[0m\u001b[0;34m:\u001b[0m\u001b[0;34m\u001b[0m\u001b[0;34m\u001b[0m\u001b[0m\n\u001b[0;32m--> 271\u001b[0;31m         \u001b[0;32mreturn\u001b[0m \u001b[0m_open_file\u001b[0m\u001b[0;34m(\u001b[0m\u001b[0mname_or_buffer\u001b[0m\u001b[0;34m,\u001b[0m \u001b[0mmode\u001b[0m\u001b[0;34m)\u001b[0m\u001b[0;34m\u001b[0m\u001b[0;34m\u001b[0m\u001b[0m\n\u001b[0m\u001b[1;32m    272\u001b[0m     \u001b[0;32melse\u001b[0m\u001b[0;34m:\u001b[0m\u001b[0;34m\u001b[0m\u001b[0;34m\u001b[0m\u001b[0m\n\u001b[1;32m    273\u001b[0m         \u001b[0;32mif\u001b[0m \u001b[0;34m'w'\u001b[0m \u001b[0;32min\u001b[0m \u001b[0mmode\u001b[0m\u001b[0;34m:\u001b[0m\u001b[0;34m\u001b[0m\u001b[0;34m\u001b[0m\u001b[0m\n",
            "\u001b[0;32m/usr/local/lib/python3.11/dist-packages/torch/serialization.py\u001b[0m in \u001b[0;36m__init__\u001b[0;34m(self, name, mode)\u001b[0m\n\u001b[1;32m    250\u001b[0m \u001b[0;32mclass\u001b[0m \u001b[0m_open_file\u001b[0m\u001b[0;34m(\u001b[0m\u001b[0m_opener\u001b[0m\u001b[0;34m)\u001b[0m\u001b[0;34m:\u001b[0m\u001b[0;34m\u001b[0m\u001b[0;34m\u001b[0m\u001b[0m\n\u001b[1;32m    251\u001b[0m     \u001b[0;32mdef\u001b[0m \u001b[0m__init__\u001b[0m\u001b[0;34m(\u001b[0m\u001b[0mself\u001b[0m\u001b[0;34m,\u001b[0m \u001b[0mname\u001b[0m\u001b[0;34m,\u001b[0m \u001b[0mmode\u001b[0m\u001b[0;34m)\u001b[0m\u001b[0;34m:\u001b[0m\u001b[0;34m\u001b[0m\u001b[0;34m\u001b[0m\u001b[0m\n\u001b[0;32m--> 252\u001b[0;31m         \u001b[0msuper\u001b[0m\u001b[0;34m(\u001b[0m\u001b[0;34m)\u001b[0m\u001b[0;34m.\u001b[0m\u001b[0m__init__\u001b[0m\u001b[0;34m(\u001b[0m\u001b[0mopen\u001b[0m\u001b[0;34m(\u001b[0m\u001b[0mname\u001b[0m\u001b[0;34m,\u001b[0m \u001b[0mmode\u001b[0m\u001b[0;34m)\u001b[0m\u001b[0;34m)\u001b[0m\u001b[0;34m\u001b[0m\u001b[0;34m\u001b[0m\u001b[0m\n\u001b[0m\u001b[1;32m    253\u001b[0m \u001b[0;34m\u001b[0m\u001b[0m\n\u001b[1;32m    254\u001b[0m     \u001b[0;32mdef\u001b[0m \u001b[0m__exit__\u001b[0m\u001b[0;34m(\u001b[0m\u001b[0mself\u001b[0m\u001b[0;34m,\u001b[0m \u001b[0;34m*\u001b[0m\u001b[0margs\u001b[0m\u001b[0;34m)\u001b[0m\u001b[0;34m:\u001b[0m\u001b[0;34m\u001b[0m\u001b[0;34m\u001b[0m\u001b[0m\n",
            "\u001b[0;31mFileNotFoundError\u001b[0m: [Errno 2] No such file or directory: 'Datasets/normalization_info.pth'"
          ]
        }
      ],
      "source": [
        "# Entrenamiento\n",
        "train_losses = []\n",
        "val_losses = []\n",
        "\n",
        "early_stopper = EarlyStopping(patience=config[\"early_stop_patience\"])\n",
        "max_epochs = config[\"max_epochs\"]\n",
        "\n",
        "print(\"Iniciando entrenamiento...\")\n",
        "for epoch in range(config[\"max_epochs\"]):\n",
        "    # Entrenar\n",
        "    train_loss = train(model, train_loader, optimizer, device, lambda_physics=config[\"lambda_physics\"],\n",
        "                       use_physics=config[\"use_physics\"], lambda_boundary=config[\"lambda_boundary\"],\n",
        "                       use_boundary_loss=config[\"use_boundary_loss\"], lambda_heater=config[\"lambda_heater\"],\n",
        "                       use_heater_loss=config[\"use_heater_loss\"])\n",
        "    train_losses.append(train_loss)\n",
        "\n",
        "    # Evaluar en validación\n",
        "    val_mse, val_mae, val_r2, val_accuracy, val_physics, val_boundary, val_heaters = evaluate(\n",
        "        model, val_loader, device, use_physics=config[\"use_physics\"],use_boundary_loss=config[\"use_boundary_loss\"],\n",
        "        use_heater_loss=config[\"use_heater_loss\"],\n",
        "        error_threshold=config[\"error_threshold_K\"],\n",
        "        percentage_threshold=config[\"percentage_threshold\"] if config[\"use_percentage_threshold\"] else None,\n",
        "        plot_results=False\n",
        "    )\n",
        "    val_losses.append(val_mse)\n",
        "\n",
        "    scheduler.step(val_mse)\n",
        "\n",
        "    # Formatear bien los losses opcionales\n",
        "    physics_loss_str = f\"{val_physics:.6f}\" if val_physics is not None else \"N/A\"\n",
        "    boundary_loss_str = f\"{val_boundary:.6f}\" if val_boundary is not None else \"N/A\"\n",
        "    heaters_loss_str = f\"{val_heaters:.6f}\" if val_heaters is not None else \"N/A\"\n",
        "\n",
        "    # Imprimir métricas\n",
        "    print(f\"Epoch {epoch + 1} - \"\n",
        "          f\"Train Loss: {train_loss:.6f} | \"\n",
        "          f\"Val MSE: {val_mse:.6f} | \"\n",
        "          f\"Val MAE: {val_mae:.6f} | \"\n",
        "          f\"Val R²: {val_r2:.4f} | \"\n",
        "          f\"[Boundary loss] {boundary_loss_str} | \"\n",
        "          f\"[Heaters loss] {heaters_loss_str} | \"\n",
        "          f\"[Physics loss] {physics_loss_str} | \"\n",
        "          f\"Val Accuracy: {val_accuracy:.2f}% | \"\n",
        "          f\"LR: {optimizer.param_groups[0]['lr']:.9f}\")\n",
        "\n",
        "    # Guardar el mejor modelo en memoria\n",
        "    if val_mse < early_stopper.best_loss:\n",
        "        best_model_state = model.state_dict()\n",
        "        final_epoch = epoch + 1\n",
        "\n",
        "    early_stopper(val_mse, epoch)\n",
        "    if early_stopper.early_stop:\n",
        "        print(f\" Early stopping triggered at epoch {epoch}\")\n",
        "        break\n"
      ]
    },
    {
      "cell_type": "code",
      "execution_count": null,
      "id": "df90a2d8",
      "metadata": {
        "id": "df90a2d8"
      },
      "outputs": [],
      "source": [
        "# Cargar el mejor modelo antes de guardar\n",
        "if best_model_state is not None:\n",
        "    model.load_state_dict(best_model_state)\n",
        "else:\n",
        "    print(\"⚠️ Advertencia: No se ha encontrado un modelo mejor durante el entrenamiento.\")\n",
        "\n",
        "# Crear nombre de archivo con los hiperparámetros clave\n",
        "model_name = (\n",
        "    f\"GCN_Layers_{config['num_layers']}_\"\n",
        "    f\"HDim_{config['hidden_dim']}_\"\n",
        "    f\"Epochs_{final_epoch}_\"\n",
        "    f\"Lr_{config['lr']}_\"\n",
        "    f\"B_LOSS_{config['use_boundary_loss']}_\"\n",
        "    f\"Lambda_{config['lambda_boundary']}_\"\n",
        "    f\"H_LOSS_{config['use_heater_loss']}_\"\n",
        "    f\"Lambda_{config['lambda_heater']}_\"\n",
        "    f\"PI_{config['use_physics']}_\"\n",
        "    f\"Lambda_{config['lambda_physics']}_\"\n",
        "    f\"Batch_{config['batch_size']}.pth\"\n",
        ")\n",
        "print(\"Nombre del modelo:\", model_name)"
      ]
    },
    {
      "cell_type": "code",
      "execution_count": null,
      "id": "c124d154",
      "metadata": {
        "id": "c124d154"
      },
      "outputs": [],
      "source": [
        "# GRAFICAR MSE\n",
        "# Crear carpeta si no existe\n",
        "os.makedirs(\"LOSS_IMG\", exist_ok=True)\n",
        "loss_img_filename = model_name.replace(\".pth\", \".svg\")\n",
        "loss_img_path = os.path.join(\"LOSS_IMG\", loss_img_filename)\n",
        "\n",
        "plt.figure(figsize=(8, 5))\n",
        "plt.plot(train_losses, label='Train Loss', linewidth=2)\n",
        "plt.plot(val_losses, label='Val Loss (MSE)', linewidth=2)\n",
        "\n",
        "# Escala logarítmica en y (opcional)\n",
        "plt.yscale(\"log\")\n",
        "\n",
        "plt.xlabel('Epoch')\n",
        "plt.ylabel('MSE Loss')\n",
        "plt.title('Evolución del Loss por Época')\n",
        "plt.legend()\n",
        "plt.grid(True)\n",
        "plt.tight_layout()\n",
        "\n",
        "# Eje X con enteros\n",
        "ax = plt.gca()\n",
        "ax.xaxis.set_major_locator(ticker.MaxNLocator(integer=True))\n",
        "\n",
        "plt.savefig(loss_img_path, format=\"svg\")\n",
        "plt.show()"
      ]
    },
    {
      "cell_type": "markdown",
      "id": "a6109da7",
      "metadata": {
        "id": "a6109da7"
      },
      "source": [
        "### Carga de modelos ya entrenados"
      ]
    },
    {
      "cell_type": "code",
      "execution_count": null,
      "id": "285a4877",
      "metadata": {
        "id": "285a4877"
      },
      "outputs": [],
      "source": [
        "if config[\"load_model\"]:\n",
        "    from dataset_utils import load_model_by_name\n",
        "\n",
        "    # Definir el modelo a cargar, los modelos guardados no guardan la arquitectura de la red\n",
        "    model = GCN(\n",
        "        input_dim=config[\"input_dim\"],\n",
        "        hidden_dim= 64,\n",
        "        output_dim=config[\"output_dim\"],\n",
        "        num_layers= 10,\n",
        "        use_dropout=config[\"use_dropout\"],\n",
        "        dropout_rate=config[\"dropout_rate\"],\n",
        "        use_batchnorm=config[\"use_batchnorm\"],\n",
        "        use_residual=config[\"use_residual\"]\n",
        "    ).to(device)\n",
        "\n",
        "    # Nombre exacto del archivo que quieres cargar, cambiar solo los números\n",
        "    model_filename = \"GCN_Layers_10_HDim_64_Epochs_1000_Lr_0.001_Batch_32.pth\"\n",
        "\n",
        "    # Cargar modelo concreto\n",
        "    model = load_model_by_name(model, model_filename)\n",
        "    print(\"Modelo cargado:\", model_filename)\n"
      ]
    },
    {
      "cell_type": "markdown",
      "id": "847445b4",
      "metadata": {
        "id": "847445b4"
      },
      "source": [
        "### Evaluación"
      ]
    },
    {
      "cell_type": "code",
      "execution_count": null,
      "id": "fea022f7",
      "metadata": {
        "id": "fea022f7"
      },
      "outputs": [],
      "source": [
        "# Evaluar en test y graficar un ejemplo\n",
        "print(\"Evaluando en test set con visualización de un ejemplo:\")\n",
        "test_mse, test_mae, test_r2, test_accuracy, test_physics, test_boundary, test_heater = evaluate(\n",
        "    model, test_loader, device, use_physics=config[\"use_physics\"],\n",
        "    error_threshold=config[\"error_threshold_K\"],\n",
        "    percentage_threshold=config[\"percentage_threshold\"] if config[\"use_percentage_threshold\"] else None,\n",
        "    plot_results=True\n",
        ")\n",
        "\n",
        "physics_loss_str = f\"{test_physics:.6f}\" if test_physics is not None else \"N/A\"\n",
        "\n",
        "print(\"Resultados del test:\")\n",
        "print(f\"MSE       : {test_mse:.6f}\")\n",
        "print(f\"MAE       : {test_mae:.6f}\")\n",
        "print(f\"R²        : {test_r2:.4f}\")\n",
        "print(f\"Accuracy  : {test_accuracy:.2f}%\")\n",
        "print(f\"Boundary Loss  : {test_boundary:.6f}\")\n",
        "print(f\"Heaters Loss  : {test_heater:.6f}\")\n",
        "print(f\"Physics Loss  : {physics_loss_str}\")"
      ]
    },
    {
      "cell_type": "markdown",
      "id": "ddc799c2",
      "metadata": {
        "id": "ddc799c2"
      },
      "source": [
        "### GNNExplainer"
      ]
    },
    {
      "cell_type": "code",
      "execution_count": null,
      "id": "1c5dbbb7",
      "metadata": {
        "id": "1c5dbbb7"
      },
      "outputs": [],
      "source": [
        "from torch_geometric.explain import Explainer, GNNExplainer, ModelConfig\n",
        "\n",
        "# Poner el modelo en modo evaluación\n",
        "model.eval()\n",
        "\n",
        "# Crear el explainer solo una vez\n",
        "explainer = Explainer(\n",
        "    model=model,\n",
        "    algorithm=GNNExplainer(epochs=200),\n",
        "    explanation_type='model',\n",
        "    edge_mask_type='object',\n",
        "    node_mask_type='attributes',\n",
        "    model_config=ModelConfig(\n",
        "        mode='regression',\n",
        "        task_level='node',\n",
        "        return_type='raw'\n",
        "    )\n",
        ")\n",
        "\n",
        "# ---------------- CONFIGURACIÓN ----------------\n",
        "graph_idx = 3      # <- Cambia este valor para elegir el grafo del test set\n",
        "node_idx = 69     # <- Cambia este valor para elegir el nodo a explicar\n",
        "# ------------------------------------------------\n",
        "\n",
        "# Obtener el grafo y pasarlo a GPU si es necesario\n",
        "graph = test_dataset[graph_idx].to(device)\n",
        "\n",
        "# Predecir con el modelo\n",
        "with torch.no_grad():\n",
        "    pred = model(graph.x, graph.edge_index).squeeze()\n",
        "true = graph.y.squeeze()\n",
        "error = torch.abs(pred - true)\n",
        "\n",
        "# Obtener explicación\n",
        "explanation = explainer(\n",
        "    x=graph.x,\n",
        "    edge_index=graph.edge_index,\n",
        "    index=node_idx\n",
        ")\n",
        "\n",
        "# Obtener importancia del explainer y agrupar por nodo\n",
        "importance = explanation.node_mask.squeeze().cpu()      # Así obtenemos las features por nodo\n",
        "importance = importance.view(-1, 3)                     # Cambiamos a un tensor que pueda ser interpretado como [num_nodes, num_features]\n",
        "importance_per_node = importance.mean(dim=1)            # [num_nodes] Hacemos la media de la importancia de las 3 características en la predicción\n",
        "\n",
        "# Obtener tamaño cuadrícula real del dataset\n",
        "num_nodes = graph.y.numel()\n",
        "print(\"Número de nodos:\", num_nodes)\n",
        "grid_size = int(num_nodes ** 0.5)\n",
        "assert grid_size ** 2 == num_nodes, f\"El número de nodos ({num_nodes}) no coincide con cuadrícula {grid_size}x{grid_size}\"\n",
        "\n",
        "# Convertir vectores a cuadrícula\n",
        "importance_grid = importance_per_node.view(grid_size, grid_size)\n",
        "error_grid = error.view(grid_size, grid_size).cpu()\n",
        "\n",
        "# Visualización\n",
        "fig, axs = plt.subplots(1, 2, figsize=(12, 5))\n",
        "\n",
        "im1 = axs[0].imshow(importance_grid, cmap='hot')\n",
        "# Coordenadas del nodo que estás explicando\n",
        "row = node_idx // grid_size\n",
        "col = node_idx % grid_size\n",
        "\n",
        "# Dibujar un punto rojo en la celda correspondiente\n",
        "axs[0].plot(col, row, 'o', markersize=10, markeredgecolor='black', markerfacecolor='cyan', label='Nodo explicado')\n",
        "axs[0].legend(loc='upper right')\n",
        "\n",
        "axs[0].set_title(f\"Importancia (nodo {node_idx})\")\n",
        "plt.colorbar(im1, ax=axs[0])\n",
        "\n",
        "im2 = axs[1].imshow(error_grid, cmap='Blues')\n",
        "# Número de nodos a etiquetar\n",
        "top_n = 5  # \"n\" nodos de mayor error a mostrar\n",
        "\n",
        "# Obtener los índices de los nodos con mayor error\n",
        "top_error_nodes = torch.topk(error, top_n).indices.cpu()\n",
        "\n",
        "for idx in top_error_nodes:\n",
        "    idx = idx.item()\n",
        "    row = idx // grid_size\n",
        "    col = idx % grid_size\n",
        "    axs[1].text(\n",
        "        col, row, str(idx),\n",
        "        ha='center', va='center',\n",
        "        fontsize=8, fontweight='bold',\n",
        "        color='black', bbox=dict(boxstyle='round,pad=0.2', facecolor='white', edgecolor='none', alpha=0.7)\n",
        "    )\n",
        "axs[1].set_title(\"Error absoluto por nodo\")\n",
        "plt.colorbar(im2, ax=axs[1])\n",
        "\n",
        "plt.suptitle(f\"Grafo {graph_idx} | Nodo {node_idx} explicado\")\n",
        "plt.tight_layout()\n",
        "plt.show()"
      ]
    },
    {
      "cell_type": "markdown",
      "id": "5e194f71",
      "metadata": {
        "id": "5e194f71"
      },
      "source": [
        "### Guardado del modelo ya entrenado"
      ]
    },
    {
      "cell_type": "code",
      "execution_count": null,
      "id": "cf2a4c5f",
      "metadata": {
        "id": "cf2a4c5f"
      },
      "outputs": [],
      "source": [
        "# Crear carpeta si no existe\n",
        "save_dir = \"saved_models\"\n",
        "os.makedirs(save_dir, exist_ok=True)\n",
        "\n",
        "# Guardar el modelo\n",
        "model_path = os.path.join(save_dir, model_name)\n",
        "if config[\"save_model\"]:\n",
        "    # Guardar el modelo entrenado\n",
        "    torch.save(model.state_dict(), model_path)\n",
        "\n",
        "    print(f\" Modelo guardado en: {model_path}\")"
      ]
    },
    {
      "cell_type": "markdown",
      "id": "368d2128",
      "metadata": {
        "id": "368d2128"
      },
      "source": [
        "### Predicción"
      ]
    },
    {
      "cell_type": "code",
      "execution_count": null,
      "id": "dc8b9e14",
      "metadata": {
        "id": "dc8b9e14"
      },
      "outputs": [],
      "source": [
        "\n",
        "fr train_eval import predict\n",
        "from dataset_utils import load_latest_model\n",
        "# Cargar el modelo más reciente\n",
        "model = GCN(\n",
        "    input_dim=config[\"input_dim\"],\n",
        "    hidden_dim=config[\"hidden_dim\"],\n",
        "    output_dim=config[\"output_dim\"],\n",
        "    num_layers=config[\"num_layers\"],\n",
        "    use_dropout=config[\"use_dropout\"],\n",
        "    dropout_rate=config[\"dropout_rate\"],\n",
        "    use_batchnorm=config[\"use_batchnorm\"],\n",
        "    use_residual=config[\"use_residual\"]\n",
        ")\n",
        "\n",
        "model = load_latest_model(model)\n",
        "\n",
        "# Predecir sobre test\n",
        "predicciones = predict(model, test_loader)\n",
        "\n",
        "print(\"Predicciones shape:\", predicciones.shape)"
      ]
    }
  ],
  "metadata": {
    "kernelspec": {
      "display_name": "Python 3",
      "name": "python3"
    },
    "language_info": {
      "codemirror_mode": {
        "name": "ipython",
        "version": 3
      },
      "file_extension": ".py",
      "mimetype": "text/x-python",
      "name": "python",
      "nbconvert_exporter": "python",
      "pygments_lexer": "ipython3",
      "version": "3.12.9"
    },
    "colab": {
      "provenance": [],
      "gpuType": "T4"
    },
    "accelerator": "GPU"
  },
  "nbformat": 4,
  "nbformat_minor": 5
}