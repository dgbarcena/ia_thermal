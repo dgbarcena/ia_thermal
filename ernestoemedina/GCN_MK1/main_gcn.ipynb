{
 "cells": [
  {
   "cell_type": "markdown",
   "id": "f6519f31",
   "metadata": {},
   "source": [
    "# Librerías"
   ]
  },
  {
   "cell_type": "code",
   "execution_count": 1,
   "id": "f27a23e4",
   "metadata": {},
   "outputs": [],
   "source": [
    "import torch\n",
    "import matplotlib.pyplot as plt\n",
    "import matplotlib.ticker as ticker\n",
    "import os\n",
    "import sys\n",
    "import time\n",
    "import platform\n",
    "import random\n",
    "from torch.optim.lr_scheduler import ReduceLROnPlateau\n",
    "from gcn_model import GCN\n",
    "from torch_geometric.loader import DataLoader\n",
    "from dataset_utils import generate_edge_index, build_graph_list, build_graph_from_sample\n",
    "from train_eval import train, evaluate, EarlyStopping"
   ]
  },
  {
   "cell_type": "code",
   "execution_count": 2,
   "id": "170d8493",
   "metadata": {},
   "outputs": [
    {
     "name": "stdout",
     "output_type": "stream",
     "text": [
      "Using device: cuda\n"
     ]
    }
   ],
   "source": [
    "# Device configuration\n",
    "device = torch.device('cuda' if torch.cuda.is_available() else 'cpu')\n",
    "print('Using device:', device)"
   ]
  },
  {
   "cell_type": "code",
   "execution_count": 3,
   "id": "1fbe6b92",
   "metadata": {},
   "outputs": [
    {
     "name": "stdout",
     "output_type": "stream",
     "text": [
      "system_specs {'os': 'Windows', 'os_version': '10.0.22000', 'machine': 'AMD64', 'processor': 'Intel64 Family 6 Model 158 Stepping 10, GenuineIntel', 'python_version': '3.12.9', 'device': 'cuda', 'gpu_name': 'NVIDIA GeForce RTX 2060', 'gpu_memory_total_GB': 6.0, 'cuda_version': '12.1'}\n"
     ]
    }
   ],
   "source": [
    "# Propiedades del sistema\n",
    "system_specs = {\n",
    "    \"os\": platform.system(),  # e.g. \"Linux\", \"Windows\", \"Darwin\"\n",
    "    \"os_version\": platform.version(),\n",
    "    \"machine\": platform.machine(),  # e.g. \"x86_64\"\n",
    "    \"processor\": platform.processor(),  # e.g. \"Intel64 Family 6 Model 158\"\n",
    "    \"python_version\": platform.python_version(),\n",
    "    \"device\": str(device)\n",
    "}\n",
    "if torch.cuda.is_available():\n",
    "    system_specs[\"gpu_name\"] = torch.cuda.get_device_name(0)\n",
    "    system_specs[\"gpu_memory_total_GB\"] = round(torch.cuda.get_device_properties(0).total_memory / (1024**3), 2)\n",
    "    system_specs[\"cuda_version\"] = torch.version.cuda\n",
    "    print(\"system_specs\", system_specs)\n"
   ]
  },
  {
   "cell_type": "code",
   "execution_count": 4,
   "id": "b9ddd377",
   "metadata": {},
   "outputs": [
    {
     "name": "stdout",
     "output_type": "stream",
     "text": [
      "c:\\Users\\ramse\\Escritorio\\Aero Ordenador\\4to Aero\\2do Cuatri\\ia_thermal\\ernestoemedina\\GCN_MK1\n"
     ]
    }
   ],
   "source": [
    "dir_path = os.getcwd()\n",
    "print(dir_path)"
   ]
  },
  {
   "cell_type": "code",
   "execution_count": 5,
   "id": "0ba6b3d9",
   "metadata": {},
   "outputs": [
    {
     "name": "stderr",
     "output_type": "stream",
     "text": [
      "C:\\Users\\ramse\\AppData\\Local\\Temp\\ipykernel_9268\\1864307277.py:7: FutureWarning: You are using `torch.load` with `weights_only=False` (the current default value), which uses the default pickle module implicitly. It is possible to construct malicious pickle data which will execute arbitrary code during unpickling (See https://github.com/pytorch/pytorch/blob/main/SECURITY.md#untrusted-models for more details). In a future release, the default value for `weights_only` will be flipped to `True`. This limits the functions that could be executed during unpickling. Arbitrary objects will no longer be allowed to be loaded via this mode unless they are explicitly allowlisted by the user via `torch.serialization.add_safe_globals`. We recommend you start setting `weights_only=True` for any use case where you don't have full control of the loaded file. Please open an issue on GitHub for any issues related to this experimental feature.\n",
      "  dataset = torch.load(dataset_path)\n",
      "C:\\Users\\ramse\\AppData\\Local\\Temp\\ipykernel_9268\\1864307277.py:8: FutureWarning: You are using `torch.load` with `weights_only=False` (the current default value), which uses the default pickle module implicitly. It is possible to construct malicious pickle data which will execute arbitrary code during unpickling (See https://github.com/pytorch/pytorch/blob/main/SECURITY.md#untrusted-models for more details). In a future release, the default value for `weights_only` will be flipped to `True`. This limits the functions that could be executed during unpickling. Arbitrary objects will no longer be allowed to be loaded via this mode unless they are explicitly allowlisted by the user via `torch.serialization.add_safe_globals`. We recommend you start setting `weights_only=True` for any use case where you don't have full control of the loaded file. Please open an issue on GitHub for any issues related to this experimental feature.\n",
      "  norm_dataset = torch.load(norm_dataset_path)\n",
      "C:\\Users\\ramse\\AppData\\Local\\Temp\\ipykernel_9268\\1864307277.py:9: FutureWarning: You are using `torch.load` with `weights_only=False` (the current default value), which uses the default pickle module implicitly. It is possible to construct malicious pickle data which will execute arbitrary code during unpickling (See https://github.com/pytorch/pytorch/blob/main/SECURITY.md#untrusted-models for more details). In a future release, the default value for `weights_only` will be flipped to `True`. This limits the functions that could be executed during unpickling. Arbitrary objects will no longer be allowed to be loaded via this mode unless they are explicitly allowlisted by the user via `torch.serialization.add_safe_globals`. We recommend you start setting `weights_only=True` for any use case where you don't have full control of the loaded file. Please open an issue on GitHub for any issues related to this experimental feature.\n",
      "  norm_info = torch.load(info_path)\n"
     ]
    }
   ],
   "source": [
    "# Ruta del dataset completo\n",
    "dataset_path = os.path.join(dir_path, \"Datasets\", \"PCB_dataset.pth\")\n",
    "norm_dataset_path = os.path.join(dir_path, \"Datasets\", \"PCB_Dataset_Norm.pth\")\n",
    "info_path = os.path.join(dir_path, \"Datasets\", \"normalization_info.pth\")\n",
    "\n",
    "# Cargar dataset\n",
    "dataset = torch.load(dataset_path)\n",
    "norm_dataset = torch.load(norm_dataset_path)\n",
    "norm_info = torch.load(info_path)"
   ]
  },
  {
   "cell_type": "markdown",
   "id": "d2fbec94",
   "metadata": {},
   "source": [
    "## Para desnormalizar"
   ]
  },
  {
   "cell_type": "code",
   "execution_count": 6,
   "id": "e1c54c1f",
   "metadata": {},
   "outputs": [],
   "source": [
    "max_T_interfaces = norm_info[\"max_T_interfaces\"]\n",
    "max_Q_heaters = norm_info[\"max_Q_heaters\"]\n",
    "max_T_env = norm_info[\"max_T_env\"]\n",
    "\n",
    "def desnormalize_inputs(dataset_norm, idx):\n",
    "    T_interfaces_norm = dataset_norm.T_interfaces[idx]\n",
    "    Q_heaters_norm = dataset_norm.Q_heaters[idx]\n",
    "    T_env_norm = dataset_norm.T_env[idx]\n",
    "    \n",
    "    T_interfaces_real = T_interfaces_norm * max_T_interfaces\n",
    "    Q_heaters_real = Q_heaters_norm * max_Q_heaters\n",
    "    T_env_real = T_env_norm * max_T_env\n",
    "    \n",
    "    return T_interfaces_real, Q_heaters_real, T_env_real"
   ]
  },
  {
   "cell_type": "code",
   "execution_count": 7,
   "id": "d9878b37",
   "metadata": {},
   "outputs": [
    {
     "name": "stdout",
     "output_type": "stream",
     "text": [
      "tensor(307.6863) K\n",
      "tensor(0.8122) W\n",
      "tensor(276.9086) K\n"
     ]
    }
   ],
   "source": [
    "idx = 1\n",
    "T_interfaces_real, Q_heaters_real, T_env_real = desnormalize_inputs(norm_dataset, idx)\n",
    "\n",
    "# Por ejemplo:\n",
    "print(torch.max(T_interfaces_real), \"K\")\n",
    "print(torch.max(Q_heaters_real), \"W\")\n",
    "print(torch.max(T_env_real), \"K\")\n"
   ]
  },
  {
   "cell_type": "code",
   "execution_count": 8,
   "id": "dff0e0b3",
   "metadata": {},
   "outputs": [
    {
     "name": "stdout",
     "output_type": "stream",
     "text": [
      "torch.Size([30000, 13, 13])\n",
      "tensor(307.6863) K\n",
      "tensor(0.8122) W\n",
      "tensor(276.9086) K\n"
     ]
    }
   ],
   "source": [
    "# Seleccionar un índice para graficar\n",
    "idx = 1  # Puedes cambiar este valor\n",
    "\n",
    "# Obtener los valores reales de las CC en T, Q y T_env\n",
    "T_interfaces_real = dataset.denormalize_T_interfaces(dataset.T_interfaces)\n",
    "Q_heaters_real = dataset.denormalize_Q_heaters(dataset.Q_heaters)\n",
    "T_env_real = dataset.denormalize_T_env(dataset.T_env)\n",
    "\n",
    "print(T_interfaces_real.shape)\n",
    "print(torch.max(T_interfaces_real[idx]), \"K\")\n",
    "print(torch.max(Q_heaters_real[idx]), \"W\")\n",
    "print(torch.max(T_env_real[idx]), \"K\")\n"
   ]
  },
  {
   "cell_type": "code",
   "execution_count": 9,
   "id": "bfc34ac6",
   "metadata": {},
   "outputs": [],
   "source": [
    "idx = 10\n",
    "T_interfaces_norm = norm_dataset.T_interfaces[idx]\n",
    "Q_heaters_norm = norm_dataset.Q_heaters[idx]\n",
    "T_env_norm = norm_dataset.T_env[idx]"
   ]
  },
  {
   "cell_type": "code",
   "execution_count": 10,
   "id": "5de920d4",
   "metadata": {},
   "outputs": [
    {
     "data": {
      "image/png": "[encoded data removed]",
      "text/plain": [
       "<Figure size 1500x500 with 6 Axes>"
      ]
     },
     "metadata": {},
     "output_type": "display_data"
    }
   ],
   "source": [
    "# Crear figura para mostrar las 3 variables\n",
    "fig, axs = plt.subplots(1, 3, figsize=(15, 5))\n",
    "im1 = axs[0].imshow(T_interfaces_norm.numpy(), cmap='hot')\n",
    "axs[0].set_title(\"T_interfaces_norm [0–1]\")\n",
    "plt.colorbar(im1, ax=axs[0])\n",
    "\n",
    "im2 = axs[1].imshow(Q_heaters_norm.numpy(), cmap='hot')\n",
    "axs[1].set_title(\"Q_heaters_norm [0–1]\")\n",
    "plt.colorbar(im2, ax=axs[1])\n",
    "\n",
    "im3 = axs[2].imshow(T_env_norm.numpy(), cmap='hot')\n",
    "axs[2].set_title(\"T_env_norm [0–1]\")\n",
    "plt.colorbar(im3, ax=axs[2])\n",
    "\n",
    "plt.suptitle(f\"Entrada del dataset  idx = {idx}\")\n",
    "plt.tight_layout()\n",
    "plt.show()"
   ]
  },
  {
   "cell_type": "markdown",
   "id": "d65f0f56",
   "metadata": {},
   "source": [
    "## GCN"
   ]
  },
  {
   "cell_type": "markdown",
   "id": "356807ba",
   "metadata": {},
   "source": [
    "### Configuración de la red"
   ]
  },
  {
   "cell_type": "code",
   "execution_count": 11,
   "id": "6111d86f",
   "metadata": {},
   "outputs": [],
   "source": [
    "# Configuración del modelo\n",
    "config = {\n",
    "    \"input_dim\": 3,           # 3 canales: T_interfaces, Q_heaters, T_env\n",
    "    \"hidden_dim\": 128,\n",
    "    \"output_dim\": 1,\n",
    "    \"num_layers\": 8,\n",
    "    \"use_dropout\": True,\n",
    "    \"dropout_rate\": 0.15217808088248522,\n",
    "    \"use_batchnorm\": True,\n",
    "    \"use_residual\": True,\n",
    "    \"batch_size\": 16,\n",
    "    \"lr\": 0.0022165075808203588,\n",
    "    \"max_epochs\": 10000,\n",
    "    \"early_stop_patience\": 100,\n",
    "    \"error_threshold_K\": 3.0,\n",
    "    \"use_percentage_threshold\": False,\n",
    "    \"percentage_threshold\": 1.0,  # solo si se activa la opción\n",
    "    \"save_model\": True,\n",
    "    \"load_model\": False, # Cargar un modelo preentrenado\n",
    "    \"factor\" : 0.5 , # Factor de reducción del learning rate\n",
    "    \"patience\" : 10 , # Épocas sin mejora para reducir el learning rate\n",
    "    \"min_lr\" : 1e-9,  # evita que baje infinitamente el learning rate\n",
    "    \"use_physics\" : True,\n",
    "    \"lambda_physics\" : 0.001, # Peso de la física en la función de pérdida\n",
    "    \"use_boundary_loss\" : True,\n",
    "    \"lambda_boundary\" : 1,\n",
    "    \"use_heater_loss\" : True,\n",
    "    \"lambda_heater\" : 10\n",
    "}"
   ]
  },
  {
   "cell_type": "code",
   "execution_count": 12,
   "id": "eb322f50",
   "metadata": {},
   "outputs": [
    {
     "name": "stdout",
     "output_type": "stream",
     "text": [
      "PCB cuadrada de 13 nodos por lado\n"
     ]
    }
   ],
   "source": [
    "grid_size = norm_dataset.inputs.shape[-1]\n",
    "print(\"PCB cuadrada de\", grid_size, \"nodos por lado\")\n",
    "edge_index = generate_edge_index(grid_size=grid_size) # Matriz de adyacencia bidireccional\n",
    "graphs = build_graph_list(norm_dataset, edge_index)"
   ]
  },
  {
   "cell_type": "code",
   "execution_count": 13,
   "id": "00e10985",
   "metadata": {},
   "outputs": [],
   "source": [
    "# Por si en algún momento el Dataset tuviera un patrón al ser generado\n",
    "random.seed(42)\n",
    "random.shuffle(graphs)"
   ]
  },
  {
   "cell_type": "code",
   "execution_count": 14,
   "id": "f759d218",
   "metadata": {},
   "outputs": [
    {
     "name": "stdout",
     "output_type": "stream",
     "text": [
      "Mean of outputs: 0.8287\n",
      "Std of outputs:  0.0338\n",
      "Atributo .T_outputs_mean: 0.0000\n",
      "Atributo .T_outputs_std:  1.0000\n"
     ]
    }
   ],
   "source": [
    "\n",
    "# Ruta al dataset normalizado\n",
    "\n",
    "# Extraer un tensor de salida\n",
    "sample_output = norm_dataset.outputs[0]\n",
    "\n",
    "# Imprimir estadísticas globales de outputs\n",
    "all_outputs = norm_dataset.outputs.view(-1)\n",
    "print(f\"Mean of outputs: {all_outputs.mean().item():.4f}\")\n",
    "print(f\"Std of outputs:  {all_outputs.std().item():.4f}\")\n",
    "\n",
    "# También desde los atributos si están disponibles\n",
    "if hasattr(norm_dataset, \"T_outputs_mean\"):\n",
    "    print(f\"Atributo .T_outputs_mean: {norm_dataset.T_outputs_mean.item():.4f}\")\n",
    "    print(f\"Atributo .T_outputs_std:  {norm_dataset.T_outputs_std.item():.4f}\")\n"
   ]
  },
  {
   "cell_type": "markdown",
   "id": "e7fd356b",
   "metadata": {},
   "source": [
    "### Evolución del error vs. Tamaño del Dataset"
   ]
  },
  {
   "cell_type": "code",
   "execution_count": 15,
   "id": "3e1815a1",
   "metadata": {},
   "outputs": [
    {
     "data": {
      "text/plain": [
       "' import numpy as np\\n# Tamaños logarítmicos entre 10² y 10⁵\\ndataset_sizes = np.logspace(2, 5, num=10, dtype=int)  # de 100 a 100000 en escala logarítmica\\ndataset_sizes = np.unique(dataset_sizes)  # eliminar duplicados por redondeo\\n\\ntrain_losses_vs_size, train_rmse_real = [], []\\n\\nprint(\"Explorando influencia del tamaño del dataset en train_loss (log scale)...\\n\")\\n\\nfor size in dataset_sizes:\\n    if size > len(graphs):\\n        print(f\"Saltando tamaño {size}: excede el tamaño actual del dataset ({len(graphs)} muestras)\")\\n        continue\\n\\n    print(f\"\\nEntrenando con {size} muestras...\")\\n\\n    subset = random.sample(graphs, size)\\n    #subset = graphs[:size]\\n    split_idx = int(0.9 * len(subset))\\n    train_dataset = subset[:split_idx]\\n    val_dataset = subset[split_idx:]\\n\\n    train_loader = DataLoader(train_dataset, batch_size=config[\"batch_size\"], shuffle=True)\\n    val_loader = DataLoader(val_dataset, batch_size=config[\"batch_size\"], shuffle=False)\\n\\n    model = GCN(\\n        input_dim=config[\"input_dim\"],\\n        hidden_dim=config[\"hidden_dim\"],\\n        output_dim=config[\"output_dim\"],\\n        num_layers=config[\"num_layers\"],\\n        use_dropout=config[\"use_dropout\"],\\n        dropout_rate=config[\"dropout_rate\"],\\n        use_batchnorm=config[\"use_batchnorm\"],\\n        use_residual=config[\"use_residual\"]\\n    ).to(device)\\n    optimizer = torch.optim.Adam(model.parameters(), lr=config[\"lr\"])\\n\\n    max_epochs = 100\\n    train_losses = []\\n    for epoch in range(max_epochs):\\n        train_loss = train(\\n            model, train_loader, optimizer, device, norm_info,\\n            use_physics=config[\"use_physics\"], lambda_physics=config[\"lambda_physics\"],\\n            use_boundary_loss=config[\"use_boundary_loss\"], lambda_boundary=config[\"lambda_boundary\"],\\n            use_heater_loss=config[\"use_heater_loss\"], lambda_heater=config[\"lambda_heater\"]\\n        )\\n        train_losses.append(train_loss)\\n\\n    final_train_loss = train_losses[-1]\\n    train_losses_vs_size.append(final_train_loss)\\n    \\n    max_T = norm_info[\"max_T_interfaces\"]\\n    train_rmse_real.append((final_train_loss**0.5)*max_T)\\n    \\n    print(f\"Train loss con {size} muestras: {final_train_loss:.6f} | RMSE real: {train_rmse_real[-1]:.6f} K\")\\n '"
      ]
     },
     "execution_count": 15,
     "metadata": {},
     "output_type": "execute_result"
    }
   ],
   "source": [
    "\"\"\" import numpy as np\n",
    "# Tamaños logarítmicos entre 10² y 10⁵\n",
    "dataset_sizes = np.logspace(2, 5, num=10, dtype=int)  # de 100 a 100000 en escala logarítmica\n",
    "dataset_sizes = np.unique(dataset_sizes)  # eliminar duplicados por redondeo\n",
    "\n",
    "train_losses_vs_size, train_rmse_real = [], []\n",
    "\n",
    "print(\"Explorando influencia del tamaño del dataset en train_loss (log scale)...\\n\")\n",
    "\n",
    "for size in dataset_sizes:\n",
    "    if size > len(graphs):\n",
    "        print(f\"Saltando tamaño {size}: excede el tamaño actual del dataset ({len(graphs)} muestras)\")\n",
    "        continue\n",
    "\n",
    "    print(f\"\\nEntrenando con {size} muestras...\")\n",
    "\n",
    "    subset = random.sample(graphs, size)\n",
    "    #subset = graphs[:size]\n",
    "    split_idx = int(0.9 * len(subset))\n",
    "    train_dataset = subset[:split_idx]\n",
    "    val_dataset = subset[split_idx:]\n",
    "\n",
    "    train_loader = DataLoader(train_dataset, batch_size=config[\"batch_size\"], shuffle=True)\n",
    "    val_loader = DataLoader(val_dataset, batch_size=config[\"batch_size\"], shuffle=False)\n",
    "\n",
    "    model = GCN(\n",
    "        input_dim=config[\"input_dim\"],\n",
    "        hidden_dim=config[\"hidden_dim\"],\n",
    "        output_dim=config[\"output_dim\"],\n",
    "        num_layers=config[\"num_layers\"],\n",
    "        use_dropout=config[\"use_dropout\"],\n",
    "        dropout_rate=config[\"dropout_rate\"],\n",
    "        use_batchnorm=config[\"use_batchnorm\"],\n",
    "        use_residual=config[\"use_residual\"]\n",
    "    ).to(device)\n",
    "    optimizer = torch.optim.Adam(model.parameters(), lr=config[\"lr\"])\n",
    "\n",
    "    max_epochs = 100\n",
    "    train_losses = []\n",
    "    for epoch in range(max_epochs):\n",
    "        train_loss = train(\n",
    "            model, train_loader, optimizer, device, norm_info,\n",
    "            use_physics=config[\"use_physics\"], lambda_physics=config[\"lambda_physics\"],\n",
    "            use_boundary_loss=config[\"use_boundary_loss\"], lambda_boundary=config[\"lambda_boundary\"],\n",
    "            use_heater_loss=config[\"use_heater_loss\"], lambda_heater=config[\"lambda_heater\"]\n",
    "        )\n",
    "        train_losses.append(train_loss)\n",
    "\n",
    "    final_train_loss = train_losses[-1]\n",
    "    train_losses_vs_size.append(final_train_loss)\n",
    "    \n",
    "    max_T = norm_info[\"max_T_interfaces\"]\n",
    "    train_rmse_real.append((final_train_loss**0.5)*max_T)\n",
    "    \n",
    "    print(f\"Train loss con {size} muestras: {final_train_loss:.6f} | RMSE real: {train_rmse_real[-1]:.6f} K\")\n",
    " \"\"\""
   ]
  },
  {
   "cell_type": "code",
   "execution_count": 16,
   "id": "ff169bbf",
   "metadata": {},
   "outputs": [
    {
     "data": {
      "text/plain": [
       "' # Gráfica 1: train_loss normalizado\\nplt.figure(figsize=(10, 5))\\nplt.plot(dataset_sizes[:len(train_losses_vs_size)], train_losses_vs_size, marker=\\'o\\')\\nplt.xscale(\\'log\\')\\nplt.xlabel(\\'Tamaño del dataset de entrenamiento (log scale)\\')\\nplt.ylabel(\\'Pérdida de entrenamiento final (train_loss)\\')\\nplt.title(\\'Influencia del tamaño del dataset en train_loss\\')\\nplt.grid(True, which=\"both\", ls=\"--\")\\nplt.tight_layout()\\nplt.show()\\n\\n# Gráfica 2: train_loss desnormalizado (RMSE real)\\nplt.figure(figsize=(10, 5))\\nplt.plot(dataset_sizes[3:], train_rmse_real[3:], marker=\\'o\\')\\nplt.xscale(\\'log\\')\\nplt.xlabel(\\'Tamaño del dataset (log scale)\\')\\nplt.ylabel(\\'Error RMSE en Kelvin\\')\\nplt.title(\\'Error de entrenamiento en escala real (RMSE en K)\\')\\nplt.grid(True, which=\"both\", ls=\"--\")\\nplt.tight_layout()\\nplt.show() '"
      ]
     },
     "execution_count": 16,
     "metadata": {},
     "output_type": "execute_result"
    }
   ],
   "source": [
    "\"\"\" # Gráfica 1: train_loss normalizado\n",
    "plt.figure(figsize=(10, 5))\n",
    "plt.plot(dataset_sizes[:len(train_losses_vs_size)], train_losses_vs_size, marker='o')\n",
    "plt.xscale('log')\n",
    "plt.xlabel('Tamaño del dataset de entrenamiento (log scale)')\n",
    "plt.ylabel('Pérdida de entrenamiento final (train_loss)')\n",
    "plt.title('Influencia del tamaño del dataset en train_loss')\n",
    "plt.grid(True, which=\"both\", ls=\"--\")\n",
    "plt.tight_layout()\n",
    "plt.show()\n",
    "\n",
    "# Gráfica 2: train_loss desnormalizado (RMSE real)\n",
    "plt.figure(figsize=(10, 5))\n",
    "plt.plot(dataset_sizes[3:], train_rmse_real[3:], marker='o')\n",
    "plt.xscale('log')\n",
    "plt.xlabel('Tamaño del dataset (log scale)')\n",
    "plt.ylabel('Error RMSE en Kelvin')\n",
    "plt.title('Error de entrenamiento en escala real (RMSE en K)')\n",
    "plt.grid(True, which=\"both\", ls=\"--\")\n",
    "plt.tight_layout()\n",
    "plt.show() \"\"\"\n"
   ]
  },
  {
   "cell_type": "markdown",
   "id": "0ee6ec01",
   "metadata": {},
   "source": [
    "### División Dataset"
   ]
  },
  {
   "cell_type": "code",
   "execution_count": 17,
   "id": "3237d032",
   "metadata": {},
   "outputs": [],
   "source": [
    "# División del dataset\n",
    "train_size = int(0.8 * len(graphs))\n",
    "val_size = int(0.1 * len(graphs))\n",
    "test_size = len(graphs) - train_size - val_size\n",
    "\n",
    "train_dataset = graphs[:train_size]\n",
    "val_dataset = graphs[train_size:train_size + val_size]\n",
    "test_dataset = graphs[train_size + val_size:]\n",
    "\n",
    "# Crear DataLoaders\n",
    "batch_size = config[\"batch_size\"]\n",
    "train_loader = DataLoader(train_dataset, batch_size=batch_size, shuffle=True)\n",
    "val_loader = DataLoader(val_dataset, batch_size=batch_size, shuffle=False)\n",
    "test_loader = DataLoader(test_dataset, batch_size=batch_size, shuffle=False)"
   ]
  },
  {
   "cell_type": "code",
   "execution_count": 18,
   "id": "fd616c7f",
   "metadata": {},
   "outputs": [
    {
     "name": "stderr",
     "output_type": "stream",
     "text": [
      "c:\\Users\\ramse\\anaconda3\\Lib\\site-packages\\torch\\optim\\lr_scheduler.py:62: UserWarning: The verbose parameter is deprecated. Please use get_last_lr() to access the learning rate.\n",
      "  warnings.warn(\n"
     ]
    }
   ],
   "source": [
    "model = GCN(\n",
    "    input_dim=config[\"input_dim\"],\n",
    "    hidden_dim=config[\"hidden_dim\"],\n",
    "    output_dim=config[\"output_dim\"],\n",
    "    num_layers=config[\"num_layers\"],\n",
    "    use_dropout=config[\"use_dropout\"],\n",
    "    dropout_rate=config[\"dropout_rate\"],\n",
    "    use_batchnorm=config[\"use_batchnorm\"],\n",
    "    use_residual=config[\"use_residual\"]\n",
    ").to(device)\n",
    "\n",
    "optimizer = torch.optim.Adam(model.parameters(), lr=config[\"lr\"])\n",
    "scheduler = ReduceLROnPlateau(\n",
    "    optimizer,\n",
    "    mode='min',            # queremos minimizar el val_loss\n",
    "    factor=config[\"factor\"],            # reduce a la mitad el LR\n",
    "    patience=config[\"patience\"],           # espera 10 épocas sin mejora\n",
    "    verbose=True,          # imprime info cuando reduce\n",
    "    min_lr=config[\"min_lr\"]            # evita que baje infinitamente\n",
    ")"
   ]
  },
  {
   "cell_type": "code",
   "execution_count": 19,
   "id": "cf329d89",
   "metadata": {},
   "outputs": [
    {
     "name": "stdout",
     "output_type": "stream",
     "text": [
      "Forma de entrada: torch.Size([3, 13, 13])\n",
      "Forma de salida: torch.Size([13, 13])\n"
     ]
    }
   ],
   "source": [
    "print(\"Forma de entrada:\", norm_dataset.inputs[0].shape)\n",
    "print(\"Forma de salida:\", norm_dataset.outputs[0].shape)\n"
   ]
  },
  {
   "cell_type": "markdown",
   "id": "ce568184",
   "metadata": {},
   "source": [
    "### Train Loss vs. Capas"
   ]
  },
  {
   "cell_type": "code",
   "execution_count": 20,
   "id": "bcb1d518",
   "metadata": {},
   "outputs": [
    {
     "data": {
      "text/plain": [
       "' \\nnum_layers_list = list(range(2, 31))\\nfinal_train_losses = []\\n\\nprint(\"Explorando influencia de num_layers en train_loss final...\\n\")\\n\\nfor nl in num_layers_list:\\n    print(f\"Entrenando modelo con {nl} capas...\")\\n\\n    config[\\'num_layers\\'] = nl\\n    config[\\'epochs\\'] = 100  # Aseguramos que entrene 100 épocas\\n\\n    # Crear nuevo modelo\\n    model = GCN(\\n    input_dim=config[\"input_dim\"],\\n    hidden_dim=config[\"hidden_dim\"],\\n    output_dim=config[\"output_dim\"],\\n    num_layers=config[\"num_layers\"],\\n    use_dropout=config[\"use_dropout\"],\\n    dropout_rate=config[\"dropout_rate\"],\\n    use_batchnorm=config[\"use_batchnorm\"],\\n    use_residual=config[\"use_residual\"]\\n    ).to(device)\\n    optimizer = torch.optim.Adam(model.parameters(), lr=config[\"lr\"])\\n    scheduler = ReduceLROnPlateau(\\n        optimizer,\\n        mode=\\'min\\',            # queremos minimizar el val_loss\\n        factor=config[\"factor\"],            # reduce a la mitad el LR\\n        patience=config[\"patience\"],           # espera 10 épocas sin mejora\\n        verbose=True,          # imprime info cuando reduce\\n        min_lr=config[\"min_lr\"]            # evita que baje infinitamente\\n    )\\n\\n    train_losses = []\\n\\n    for epoch in range(config[\"epochs\"]):\\n        train_loss = train(model, train_loader, optimizer, device, norm_info,\\n                           lambda_physics=config[\"lambda_physics\"],\\n                           use_physics=config[\"use_physics\"],\\n                           lambda_boundary=config[\"lambda_boundary\"],\\n                           use_boundary_loss=config[\"use_boundary_loss\"],\\n                           lambda_heater=config[\"lambda_heater\"],\\n                           use_heater_loss=config[\"use_heater_loss\"])\\n        train_losses.append(train_loss)\\n        scheduler.step(train_loss) \\n\\n    final_train_loss = train_losses[-1]\\n    final_train_losses.append(final_train_loss)\\n    print(f\"Train loss final con {nl} capas: {final_train_loss:.6f}\")\\n\\n# Gráfica final\\nplt.figure(figsize=(10, 5))\\nplt.plot(num_layers_list, final_train_losses, marker=\\'o\\')\\nplt.xlabel(\\'Número de capas (num_layers)\\')\\nplt.ylabel(\\'Pérdida de entrenamiento final (train_loss)\\')\\nplt.title(\\'Influencia de num_layers en el error de entrenamiento\\')\\nplt.grid(True)\\nplt.tight_layout()\\nplt.show()\\n '"
      ]
     },
     "execution_count": 20,
     "metadata": {},
     "output_type": "execute_result"
    }
   ],
   "source": [
    "\"\"\" \n",
    "num_layers_list = list(range(2, 31))\n",
    "final_train_losses = []\n",
    "\n",
    "print(\"Explorando influencia de num_layers en train_loss final...\\n\")\n",
    "\n",
    "for nl in num_layers_list:\n",
    "    print(f\"Entrenando modelo con {nl} capas...\")\n",
    "\n",
    "    config['num_layers'] = nl\n",
    "    config['epochs'] = 100  # Aseguramos que entrene 100 épocas\n",
    "\n",
    "    # Crear nuevo modelo\n",
    "    model = GCN(\n",
    "    input_dim=config[\"input_dim\"],\n",
    "    hidden_dim=config[\"hidden_dim\"],\n",
    "    output_dim=config[\"output_dim\"],\n",
    "    num_layers=config[\"num_layers\"],\n",
    "    use_dropout=config[\"use_dropout\"],\n",
    "    dropout_rate=config[\"dropout_rate\"],\n",
    "    use_batchnorm=config[\"use_batchnorm\"],\n",
    "    use_residual=config[\"use_residual\"]\n",
    "    ).to(device)\n",
    "    optimizer = torch.optim.Adam(model.parameters(), lr=config[\"lr\"])\n",
    "    scheduler = ReduceLROnPlateau(\n",
    "        optimizer,\n",
    "        mode='min',            # queremos minimizar el val_loss\n",
    "        factor=config[\"factor\"],            # reduce a la mitad el LR\n",
    "        patience=config[\"patience\"],           # espera 10 épocas sin mejora\n",
    "        verbose=True,          # imprime info cuando reduce\n",
    "        min_lr=config[\"min_lr\"]            # evita que baje infinitamente\n",
    "    )\n",
    "\n",
    "    train_losses = []\n",
    "\n",
    "    for epoch in range(config[\"epochs\"]):\n",
    "        train_loss = train(model, train_loader, optimizer, device, norm_info,\n",
    "                           lambda_physics=config[\"lambda_physics\"],\n",
    "                           use_physics=config[\"use_physics\"],\n",
    "                           lambda_boundary=config[\"lambda_boundary\"],\n",
    "                           use_boundary_loss=config[\"use_boundary_loss\"],\n",
    "                           lambda_heater=config[\"lambda_heater\"],\n",
    "                           use_heater_loss=config[\"use_heater_loss\"])\n",
    "        train_losses.append(train_loss)\n",
    "        scheduler.step(train_loss) \n",
    "\n",
    "    final_train_loss = train_losses[-1]\n",
    "    final_train_losses.append(final_train_loss)\n",
    "    print(f\"Train loss final con {nl} capas: {final_train_loss:.6f}\")\n",
    "\n",
    "# Gráfica final\n",
    "plt.figure(figsize=(10, 5))\n",
    "plt.plot(num_layers_list, final_train_losses, marker='o')\n",
    "plt.xlabel('Número de capas (num_layers)')\n",
    "plt.ylabel('Pérdida de entrenamiento final (train_loss)')\n",
    "plt.title('Influencia de num_layers en el error de entrenamiento')\n",
    "plt.grid(True)\n",
    "plt.tight_layout()\n",
    "plt.show()\n",
    " \"\"\""
   ]
  },
  {
   "cell_type": "markdown",
   "id": "8c1f86ca",
   "metadata": {},
   "source": [
    "### Entrenamiento"
   ]
  },
  {
   "cell_type": "code",
   "execution_count": 21,
   "id": "9de0edbc",
   "metadata": {},
   "outputs": [
    {
     "name": "stdout",
     "output_type": "stream",
     "text": [
      "Iniciando entrenamiento...\n",
      "Epoch 1 - Train Loss: 4.623123 | Val MSE: 0.002180 | Val MAE: 0.035559 | Val R²: -1.1398 | [Boundary loss] 0.002467 | [Heaters loss] 0.002187 | [Physics loss] 2.947980 | Val Accuracy: 15.12% | LR: 0.002216508\n",
      "Epoch 2 - Train Loss: 0.751478 | Val MSE: 0.002374 | Val MAE: 0.034942 | Val R²: -1.3057 | [Boundary loss] 0.000355 | [Heaters loss] 0.002326 | [Physics loss] 2.037714 | Val Accuracy: 20.84% | LR: 0.002216508\n",
      "Epoch 3 - Train Loss: 0.392775 | Val MSE: 0.002130 | Val MAE: 0.039017 | Val R²: -1.0513 | [Boundary loss] 0.002409 | [Heaters loss] 0.002137 | [Physics loss] 1.942430 | Val Accuracy: 11.31% | LR: 0.002216508\n",
      "Epoch 4 - Train Loss: 0.211783 | Val MSE: 0.001410 | Val MAE: 0.032028 | Val R²: -0.3907 | [Boundary loss] 0.005951 | [Heaters loss] 0.001518 | [Physics loss] 1.618977 | Val Accuracy: 8.91% | LR: 0.002216508\n",
      "Epoch 5 - Train Loss: 0.108318 | Val MSE: 0.000648 | Val MAE: 0.019552 | Val R²: 0.3692 | [Boundary loss] 0.001388 | [Heaters loss] 0.000665 | [Physics loss] 1.653602 | Val Accuracy: 28.06% | LR: 0.002216508\n",
      "Epoch 6 - Train Loss: 0.051613 | Val MSE: 0.000767 | Val MAE: 0.021159 | Val R²: 0.2476 | [Boundary loss] 0.008788 | [Heaters loss] 0.000957 | [Physics loss] 1.533375 | Val Accuracy: 26.45% | LR: 0.002216508\n",
      "Epoch 7 - Train Loss: 0.024073 | Val MSE: 0.000435 | Val MAE: 0.017675 | Val R²: 0.5758 | [Boundary loss] 0.002035 | [Heaters loss] 0.000473 | [Physics loss] 1.518284 | Val Accuracy: 22.78% | LR: 0.002216508\n",
      "Epoch 8 - Train Loss: 0.012954 | Val MSE: 0.000558 | Val MAE: 0.020373 | Val R²: 0.4477 | [Boundary loss] 0.001686 | [Heaters loss] 0.000585 | [Physics loss] 1.509574 | Val Accuracy: 15.50% | LR: 0.002216508\n",
      "Epoch 9 - Train Loss: 0.008830 | Val MSE: 0.001266 | Val MAE: 0.032904 | Val R²: -0.2427 | [Boundary loss] 0.005780 | [Heaters loss] 0.001373 | [Physics loss] 1.484483 | Val Accuracy: 2.02% | LR: 0.002216508\n",
      "Epoch 10 - Train Loss: 0.006649 | Val MSE: 0.000155 | Val MAE: 0.010041 | Val R²: 0.8466 | [Boundary loss] 0.001167 | [Heaters loss] 0.000179 | [Physics loss] 1.512020 | Val Accuracy: 48.06% | LR: 0.002216508\n",
      "Epoch 11 - Train Loss: 0.005555 | Val MSE: 0.000809 | Val MAE: 0.026115 | Val R²: 0.2080 | [Boundary loss] 0.000309 | [Heaters loss] 0.000797 | [Physics loss] 1.552338 | Val Accuracy: 5.10% | LR: 0.002216508\n",
      "Epoch 12 - Train Loss: 0.005078 | Val MSE: 0.000160 | Val MAE: 0.010130 | Val R²: 0.8418 | [Boundary loss] 0.000362 | [Heaters loss] 0.000165 | [Physics loss] 1.510075 | Val Accuracy: 47.57% | LR: 0.002216508\n",
      "Epoch 13 - Train Loss: 0.004514 | Val MSE: 0.000078 | Val MAE: 0.007113 | Val R²: 0.9228 | [Boundary loss] 0.000302 | [Heaters loss] 0.000084 | [Physics loss] 1.499343 | Val Accuracy: 63.88% | LR: 0.002216508\n",
      "Epoch 14 - Train Loss: 0.004232 | Val MSE: 0.000168 | Val MAE: 0.010457 | Val R²: 0.8375 | [Boundary loss] 0.000560 | [Heaters loss] 0.000177 | [Physics loss] 1.510318 | Val Accuracy: 45.39% | LR: 0.002216508\n",
      "Epoch 15 - Train Loss: 0.003829 | Val MSE: 0.000082 | Val MAE: 0.007282 | Val R²: 0.9197 | [Boundary loss] 0.000198 | [Heaters loss] 0.000085 | [Physics loss] 1.506087 | Val Accuracy: 62.95% | LR: 0.002216508\n",
      "Epoch 16 - Train Loss: 0.003687 | Val MSE: 0.000076 | Val MAE: 0.007029 | Val R²: 0.9244 | [Boundary loss] 0.000051 | [Heaters loss] 0.000076 | [Physics loss] 1.502911 | Val Accuracy: 64.72% | LR: 0.002216508\n",
      "Epoch 17 - Train Loss: 0.003343 | Val MSE: 0.000060 | Val MAE: 0.006121 | Val R²: 0.9410 | [Boundary loss] 0.000206 | [Heaters loss] 0.000063 | [Physics loss] 1.497016 | Val Accuracy: 72.06% | LR: 0.002216508\n",
      "Epoch 18 - Train Loss: 0.003240 | Val MSE: 0.000200 | Val MAE: 0.011229 | Val R²: 0.8048 | [Boundary loss] 0.000624 | [Heaters loss] 0.000210 | [Physics loss] 1.499928 | Val Accuracy: 44.54% | LR: 0.002216508\n",
      "Epoch 19 - Train Loss: 0.002932 | Val MSE: 0.000113 | Val MAE: 0.008437 | Val R²: 0.8888 | [Boundary loss] 0.000132 | [Heaters loss] 0.000113 | [Physics loss] 1.492013 | Val Accuracy: 56.46% | LR: 0.002216508\n",
      "Epoch 20 - Train Loss: 0.002842 | Val MSE: 0.000098 | Val MAE: 0.007952 | Val R²: 0.9037 | [Boundary loss] 0.000151 | [Heaters loss] 0.000099 | [Physics loss] 1.509292 | Val Accuracy: 58.62% | LR: 0.002216508\n",
      "Epoch 21 - Train Loss: 0.002759 | Val MSE: 0.000492 | Val MAE: 0.020055 | Val R²: 0.5154 | [Boundary loss] 0.000664 | [Heaters loss] 0.000496 | [Physics loss] 1.520656 | Val Accuracy: 12.12% | LR: 0.002216508\n",
      "Epoch 22 - Train Loss: 0.002658 | Val MSE: 0.000133 | Val MAE: 0.009250 | Val R²: 0.8722 | [Boundary loss] 0.000258 | [Heaters loss] 0.000136 | [Physics loss] 1.503571 | Val Accuracy: 51.76% | LR: 0.002216508\n",
      "Epoch 23 - Train Loss: 0.002618 | Val MSE: 0.000127 | Val MAE: 0.009340 | Val R²: 0.8753 | [Boundary loss] 0.000251 | [Heaters loss] 0.000130 | [Physics loss] 1.490925 | Val Accuracy: 48.41% | LR: 0.002216508\n",
      "Epoch 24 - Train Loss: 0.002593 | Val MSE: 0.000040 | Val MAE: 0.005017 | Val R²: 0.9610 | [Boundary loss] 0.000160 | [Heaters loss] 0.000043 | [Physics loss] 1.494907 | Val Accuracy: 81.28% | LR: 0.002216508\n",
      "Epoch 25 - Train Loss: 0.002520 | Val MSE: 0.000133 | Val MAE: 0.009435 | Val R²: 0.8716 | [Boundary loss] 0.000024 | [Heaters loss] 0.000130 | [Physics loss] 1.482327 | Val Accuracy: 48.94% | LR: 0.002216508\n",
      "Epoch 26 - Train Loss: 0.002551 | Val MSE: 0.000076 | Val MAE: 0.007168 | Val R²: 0.9266 | [Boundary loss] 0.000140 | [Heaters loss] 0.000077 | [Physics loss] 1.506006 | Val Accuracy: 61.89% | LR: 0.002216508\n",
      "Epoch 27 - Train Loss: 0.002510 | Val MSE: 0.000065 | Val MAE: 0.006526 | Val R²: 0.9370 | [Boundary loss] 0.000038 | [Heaters loss] 0.000064 | [Physics loss] 1.505524 | Val Accuracy: 68.00% | LR: 0.002216508\n",
      "Epoch 28 - Train Loss: 0.002509 | Val MSE: 0.000055 | Val MAE: 0.005995 | Val R²: 0.9456 | [Boundary loss] 0.000089 | [Heaters loss] 0.000056 | [Physics loss] 1.503107 | Val Accuracy: 72.13% | LR: 0.002216508\n",
      "Epoch 29 - Train Loss: 0.002494 | Val MSE: 0.000056 | Val MAE: 0.005985 | Val R²: 0.9455 | [Boundary loss] 0.000223 | [Heaters loss] 0.000060 | [Physics loss] 1.524027 | Val Accuracy: 72.31% | LR: 0.002216508\n",
      "Epoch 30 - Train Loss: 0.002460 | Val MSE: 0.000074 | Val MAE: 0.007011 | Val R²: 0.9281 | [Boundary loss] 0.000011 | [Heaters loss] 0.000072 | [Physics loss] 1.501400 | Val Accuracy: 64.07% | LR: 0.002216508\n",
      "Epoch 31 - Train Loss: 0.002472 | Val MSE: 0.000131 | Val MAE: 0.009420 | Val R²: 0.8706 | [Boundary loss] 0.000013 | [Heaters loss] 0.000128 | [Physics loss] 1.486065 | Val Accuracy: 47.94% | LR: 0.002216508\n",
      "Epoch 32 - Train Loss: 0.002437 | Val MSE: 0.001802 | Val MAE: 0.038642 | Val R²: -0.7752 | [Boundary loss] 0.000134 | [Heaters loss] 0.001763 | [Physics loss] 1.530862 | Val Accuracy: 4.15% | LR: 0.002216508\n",
      "Epoch 33 - Train Loss: 0.002417 | Val MSE: 0.000080 | Val MAE: 0.007094 | Val R²: 0.9221 | [Boundary loss] 0.000226 | [Heaters loss] 0.000083 | [Physics loss] 1.484968 | Val Accuracy: 64.54% | LR: 0.002216508\n",
      "Epoch 34 - Train Loss: 0.002400 | Val MSE: 0.000045 | Val MAE: 0.005328 | Val R²: 0.9554 | [Boundary loss] 0.000006 | [Heaters loss] 0.000045 | [Physics loss] 1.498813 | Val Accuracy: 78.67% | LR: 0.002216508\n",
      "Epoch 35 - Train Loss: 0.002442 | Val MSE: 0.000063 | Val MAE: 0.006477 | Val R²: 0.9395 | [Boundary loss] 0.000019 | [Heaters loss] 0.000062 | [Physics loss] 1.494132 | Val Accuracy: 68.05% | LR: 0.001108254\n",
      "Epoch 36 - Train Loss: 0.002283 | Val MSE: 0.000043 | Val MAE: 0.005246 | Val R²: 0.9575 | [Boundary loss] 0.000001 | [Heaters loss] 0.000042 | [Physics loss] 1.506617 | Val Accuracy: 78.81% | LR: 0.001108254\n",
      "Epoch 37 - Train Loss: 0.002277 | Val MSE: 0.000038 | Val MAE: 0.004898 | Val R²: 0.9622 | [Boundary loss] 0.000049 | [Heaters loss] 0.000039 | [Physics loss] 1.494544 | Val Accuracy: 82.24% | LR: 0.001108254\n",
      "Epoch 38 - Train Loss: 0.002268 | Val MSE: 0.000054 | Val MAE: 0.005884 | Val R²: 0.9472 | [Boundary loss] 0.000054 | [Heaters loss] 0.000054 | [Physics loss] 1.492974 | Val Accuracy: 73.44% | LR: 0.001108254\n",
      "Epoch 39 - Train Loss: 0.002262 | Val MSE: 0.000054 | Val MAE: 0.005920 | Val R²: 0.9464 | [Boundary loss] 0.000026 | [Heaters loss] 0.000054 | [Physics loss] 1.491844 | Val Accuracy: 73.16% | LR: 0.001108254\n",
      "Epoch 40 - Train Loss: 0.002252 | Val MSE: 0.000034 | Val MAE: 0.004619 | Val R²: 0.9667 | [Boundary loss] 0.000003 | [Heaters loss] 0.000033 | [Physics loss] 1.495562 | Val Accuracy: 84.44% | LR: 0.001108254\n",
      "Epoch 41 - Train Loss: 0.002250 | Val MSE: 0.000053 | Val MAE: 0.005824 | Val R²: 0.9488 | [Boundary loss] 0.000025 | [Heaters loss] 0.000052 | [Physics loss] 1.489066 | Val Accuracy: 74.42% | LR: 0.001108254\n",
      "Epoch 42 - Train Loss: 0.002229 | Val MSE: 0.000043 | Val MAE: 0.005278 | Val R²: 0.9585 | [Boundary loss] 0.000021 | [Heaters loss] 0.000042 | [Physics loss] 1.498442 | Val Accuracy: 78.68% | LR: 0.001108254\n",
      "Epoch 43 - Train Loss: 0.002255 | Val MSE: 0.000036 | Val MAE: 0.004740 | Val R²: 0.9651 | [Boundary loss] 0.000005 | [Heaters loss] 0.000035 | [Physics loss] 1.496674 | Val Accuracy: 83.50% | LR: 0.001108254\n",
      "Epoch 44 - Train Loss: 0.002232 | Val MSE: 0.000092 | Val MAE: 0.008071 | Val R²: 0.9095 | [Boundary loss] 0.000025 | [Heaters loss] 0.000090 | [Physics loss] 1.489223 | Val Accuracy: 55.19% | LR: 0.001108254\n",
      "Epoch 45 - Train Loss: 0.002246 | Val MSE: 0.000044 | Val MAE: 0.005213 | Val R²: 0.9567 | [Boundary loss] 0.000025 | [Heaters loss] 0.000044 | [Physics loss] 1.486565 | Val Accuracy: 79.65% | LR: 0.001108254\n",
      "Epoch 46 - Train Loss: 0.002222 | Val MSE: 0.000039 | Val MAE: 0.004886 | Val R²: 0.9615 | [Boundary loss] 0.000005 | [Heaters loss] 0.000039 | [Physics loss] 1.491307 | Val Accuracy: 82.64% | LR: 0.001108254\n",
      "Epoch 47 - Train Loss: 0.002227 | Val MSE: 0.000036 | Val MAE: 0.004774 | Val R²: 0.9646 | [Boundary loss] 0.000007 | [Heaters loss] 0.000036 | [Physics loss] 1.495941 | Val Accuracy: 83.24% | LR: 0.001108254\n",
      "Epoch 48 - Train Loss: 0.002220 | Val MSE: 0.000040 | Val MAE: 0.004975 | Val R²: 0.9610 | [Boundary loss] 0.000010 | [Heaters loss] 0.000039 | [Physics loss] 1.490427 | Val Accuracy: 81.83% | LR: 0.001108254\n",
      "Epoch 49 - Train Loss: 0.002243 | Val MSE: 0.000069 | Val MAE: 0.006804 | Val R²: 0.9331 | [Boundary loss] 0.000016 | [Heaters loss] 0.000068 | [Physics loss] 1.493934 | Val Accuracy: 65.39% | LR: 0.001108254\n",
      "Epoch 50 - Train Loss: 0.002238 | Val MSE: 0.000044 | Val MAE: 0.005268 | Val R²: 0.9571 | [Boundary loss] 0.000027 | [Heaters loss] 0.000043 | [Physics loss] 1.503716 | Val Accuracy: 78.39% | LR: 0.001108254\n",
      "Epoch 51 - Train Loss: 0.002213 | Val MSE: 0.000071 | Val MAE: 0.006894 | Val R²: 0.9294 | [Boundary loss] 0.000042 | [Heaters loss] 0.000071 | [Physics loss] 1.504215 | Val Accuracy: 64.82% | LR: 0.000554127\n",
      "Epoch 52 - Train Loss: 0.002163 | Val MSE: 0.000031 | Val MAE: 0.004382 | Val R²: 0.9698 | [Boundary loss] 0.000016 | [Heaters loss] 0.000030 | [Physics loss] 1.497397 | Val Accuracy: 86.48% | LR: 0.000554127\n",
      "Epoch 53 - Train Loss: 0.002164 | Val MSE: 0.000039 | Val MAE: 0.004982 | Val R²: 0.9615 | [Boundary loss] 0.000007 | [Heaters loss] 0.000039 | [Physics loss] 1.491801 | Val Accuracy: 81.74% | LR: 0.000554127\n",
      "Epoch 54 - Train Loss: 0.002166 | Val MSE: 0.000045 | Val MAE: 0.005377 | Val R²: 0.9559 | [Boundary loss] 0.000041 | [Heaters loss] 0.000044 | [Physics loss] 1.496343 | Val Accuracy: 77.56% | LR: 0.000554127\n",
      "Epoch 55 - Train Loss: 0.002151 | Val MSE: 0.000035 | Val MAE: 0.004676 | Val R²: 0.9658 | [Boundary loss] 0.000007 | [Heaters loss] 0.000035 | [Physics loss] 1.496809 | Val Accuracy: 84.07% | LR: 0.000554127\n",
      "Epoch 56 - Train Loss: 0.002146 | Val MSE: 0.000045 | Val MAE: 0.005404 | Val R²: 0.9565 | [Boundary loss] 0.000016 | [Heaters loss] 0.000044 | [Physics loss] 1.494636 | Val Accuracy: 77.85% | LR: 0.000554127\n",
      "Epoch 57 - Train Loss: 0.002146 | Val MSE: 0.000035 | Val MAE: 0.004680 | Val R²: 0.9660 | [Boundary loss] 0.000003 | [Heaters loss] 0.000034 | [Physics loss] 1.503365 | Val Accuracy: 83.83% | LR: 0.000554127\n",
      "Epoch 58 - Train Loss: 0.002143 | Val MSE: 0.000034 | Val MAE: 0.004613 | Val R²: 0.9662 | [Boundary loss] 0.000011 | [Heaters loss] 0.000034 | [Physics loss] 1.492267 | Val Accuracy: 84.46% | LR: 0.000554127\n",
      "Epoch 59 - Train Loss: 0.002150 | Val MSE: 0.000034 | Val MAE: 0.004657 | Val R²: 0.9669 | [Boundary loss] 0.000016 | [Heaters loss] 0.000033 | [Physics loss] 1.500234 | Val Accuracy: 84.35% | LR: 0.000554127\n",
      "Epoch 60 - Train Loss: 0.002141 | Val MSE: 0.000041 | Val MAE: 0.005086 | Val R²: 0.9600 | [Boundary loss] 0.000018 | [Heaters loss] 0.000040 | [Physics loss] 1.501014 | Val Accuracy: 80.26% | LR: 0.000554127\n",
      "Epoch 61 - Train Loss: 0.002145 | Val MSE: 0.000033 | Val MAE: 0.004561 | Val R²: 0.9677 | [Boundary loss] 0.000009 | [Heaters loss] 0.000032 | [Physics loss] 1.500055 | Val Accuracy: 85.13% | LR: 0.000554127\n",
      "Epoch 62 - Train Loss: 0.002156 | Val MSE: 0.000039 | Val MAE: 0.004970 | Val R²: 0.9611 | [Boundary loss] 0.000005 | [Heaters loss] 0.000039 | [Physics loss] 1.489016 | Val Accuracy: 81.69% | LR: 0.000554127\n",
      "Epoch 63 - Train Loss: 0.002140 | Val MSE: 0.000045 | Val MAE: 0.005316 | Val R²: 0.9556 | [Boundary loss] 0.000008 | [Heaters loss] 0.000044 | [Physics loss] 1.508443 | Val Accuracy: 78.36% | LR: 0.000277063\n",
      "Epoch 64 - Train Loss: 0.002115 | Val MSE: 0.000037 | Val MAE: 0.004867 | Val R²: 0.9635 | [Boundary loss] 0.000009 | [Heaters loss] 0.000037 | [Physics loss] 1.492338 | Val Accuracy: 82.89% | LR: 0.000277063\n",
      "Epoch 65 - Train Loss: 0.002113 | Val MSE: 0.000032 | Val MAE: 0.004474 | Val R²: 0.9690 | [Boundary loss] 0.000004 | [Heaters loss] 0.000031 | [Physics loss] 1.497068 | Val Accuracy: 86.06% | LR: 0.000277063\n",
      "Epoch 66 - Train Loss: 0.002101 | Val MSE: 0.000031 | Val MAE: 0.004385 | Val R²: 0.9700 | [Boundary loss] 0.000002 | [Heaters loss] 0.000030 | [Physics loss] 1.496079 | Val Accuracy: 86.68% | LR: 0.000277063\n",
      "Epoch 67 - Train Loss: 0.002105 | Val MSE: 0.000032 | Val MAE: 0.004479 | Val R²: 0.9689 | [Boundary loss] 0.000004 | [Heaters loss] 0.000031 | [Physics loss] 1.495886 | Val Accuracy: 85.96% | LR: 0.000277063\n",
      "Epoch 68 - Train Loss: 0.002111 | Val MSE: 0.000031 | Val MAE: 0.004412 | Val R²: 0.9694 | [Boundary loss] 0.000001 | [Heaters loss] 0.000030 | [Physics loss] 1.496930 | Val Accuracy: 86.49% | LR: 0.000277063\n",
      "Epoch 69 - Train Loss: 0.002107 | Val MSE: 0.000036 | Val MAE: 0.004781 | Val R²: 0.9648 | [Boundary loss] 0.000035 | [Heaters loss] 0.000036 | [Physics loss] 1.499870 | Val Accuracy: 83.12% | LR: 0.000277063\n",
      "Epoch 70 - Train Loss: 0.002095 | Val MSE: 0.000034 | Val MAE: 0.004654 | Val R²: 0.9664 | [Boundary loss] 0.000002 | [Heaters loss] 0.000034 | [Physics loss] 1.495104 | Val Accuracy: 84.48% | LR: 0.000277063\n",
      "Epoch 71 - Train Loss: 0.002104 | Val MSE: 0.000038 | Val MAE: 0.004920 | Val R²: 0.9622 | [Boundary loss] 0.000001 | [Heaters loss] 0.000038 | [Physics loss] 1.495656 | Val Accuracy: 82.19% | LR: 0.000277063\n",
      "Epoch 72 - Train Loss: 0.002111 | Val MSE: 0.000033 | Val MAE: 0.004580 | Val R²: 0.9674 | [Boundary loss] 0.000005 | [Heaters loss] 0.000032 | [Physics loss] 1.499530 | Val Accuracy: 84.85% | LR: 0.000277063\n",
      "Epoch 73 - Train Loss: 0.002092 | Val MSE: 0.000034 | Val MAE: 0.004579 | Val R²: 0.9674 | [Boundary loss] 0.000005 | [Heaters loss] 0.000033 | [Physics loss] 1.495479 | Val Accuracy: 85.29% | LR: 0.000277063\n",
      "Epoch 74 - Train Loss: 0.002097 | Val MSE: 0.000034 | Val MAE: 0.004631 | Val R²: 0.9668 | [Boundary loss] 0.000005 | [Heaters loss] 0.000033 | [Physics loss] 1.493629 | Val Accuracy: 84.66% | LR: 0.000277063\n",
      "Epoch 75 - Train Loss: 0.002099 | Val MSE: 0.000030 | Val MAE: 0.004345 | Val R²: 0.9704 | [Boundary loss] 0.000004 | [Heaters loss] 0.000030 | [Physics loss] 1.497388 | Val Accuracy: 86.91% | LR: 0.000277063\n",
      "Epoch 76 - Train Loss: 0.002099 | Val MSE: 0.000034 | Val MAE: 0.004639 | Val R²: 0.9666 | [Boundary loss] 0.000010 | [Heaters loss] 0.000033 | [Physics loss] 1.498025 | Val Accuracy: 84.41% | LR: 0.000277063\n",
      "Epoch 77 - Train Loss: 0.002096 | Val MSE: 0.000035 | Val MAE: 0.004659 | Val R²: 0.9660 | [Boundary loss] 0.000007 | [Heaters loss] 0.000034 | [Physics loss] 1.491325 | Val Accuracy: 84.34% | LR: 0.000277063\n",
      "Epoch 78 - Train Loss: 0.002110 | Val MSE: 0.000035 | Val MAE: 0.004705 | Val R²: 0.9658 | [Boundary loss] 0.000012 | [Heaters loss] 0.000034 | [Physics loss] 1.495277 | Val Accuracy: 84.17% | LR: 0.000277063\n",
      "Epoch 79 - Train Loss: 0.002104 | Val MSE: 0.000035 | Val MAE: 0.004623 | Val R²: 0.9661 | [Boundary loss] 0.000005 | [Heaters loss] 0.000034 | [Physics loss] 1.491827 | Val Accuracy: 84.98% | LR: 0.000277063\n",
      "Epoch 80 - Train Loss: 0.002108 | Val MSE: 0.000037 | Val MAE: 0.004777 | Val R²: 0.9641 | [Boundary loss] 0.000004 | [Heaters loss] 0.000036 | [Physics loss] 1.490777 | Val Accuracy: 83.63% | LR: 0.000277063\n",
      "Epoch 81 - Train Loss: 0.002112 | Val MSE: 0.000033 | Val MAE: 0.004521 | Val R²: 0.9683 | [Boundary loss] 0.000006 | [Heaters loss] 0.000032 | [Physics loss] 1.496819 | Val Accuracy: 85.58% | LR: 0.000277063\n",
      "Epoch 82 - Train Loss: 0.002093 | Val MSE: 0.000049 | Val MAE: 0.005632 | Val R²: 0.9516 | [Boundary loss] 0.000001 | [Heaters loss] 0.000048 | [Physics loss] 1.490052 | Val Accuracy: 75.81% | LR: 0.000277063\n",
      "Epoch 83 - Train Loss: 0.002087 | Val MSE: 0.000038 | Val MAE: 0.004893 | Val R²: 0.9632 | [Boundary loss] 0.000004 | [Heaters loss] 0.000037 | [Physics loss] 1.493584 | Val Accuracy: 82.35% | LR: 0.000277063\n",
      "Epoch 84 - Train Loss: 0.002094 | Val MSE: 0.000032 | Val MAE: 0.004476 | Val R²: 0.9687 | [Boundary loss] 0.000005 | [Heaters loss] 0.000031 | [Physics loss] 1.493449 | Val Accuracy: 86.12% | LR: 0.000277063\n",
      "Epoch 85 - Train Loss: 0.002093 | Val MSE: 0.000032 | Val MAE: 0.004518 | Val R²: 0.9682 | [Boundary loss] 0.000011 | [Heaters loss] 0.000032 | [Physics loss] 1.494633 | Val Accuracy: 85.79% | LR: 0.000277063\n",
      "Epoch 86 - Train Loss: 0.002090 | Val MSE: 0.000038 | Val MAE: 0.004912 | Val R²: 0.9629 | [Boundary loss] 0.000023 | [Heaters loss] 0.000037 | [Physics loss] 1.493883 | Val Accuracy: 82.54% | LR: 0.000138532\n",
      "Epoch 87 - Train Loss: 0.002077 | Val MSE: 0.000035 | Val MAE: 0.004735 | Val R²: 0.9653 | [Boundary loss] 0.000008 | [Heaters loss] 0.000035 | [Physics loss] 1.496423 | Val Accuracy: 83.77% | LR: 0.000138532\n",
      "Epoch 88 - Train Loss: 0.002083 | Val MSE: 0.000032 | Val MAE: 0.004430 | Val R²: 0.9692 | [Boundary loss] 0.000002 | [Heaters loss] 0.000031 | [Physics loss] 1.494480 | Val Accuracy: 86.29% | LR: 0.000138532\n",
      "Epoch 89 - Train Loss: 0.002088 | Val MSE: 0.000033 | Val MAE: 0.004531 | Val R²: 0.9677 | [Boundary loss] 0.000002 | [Heaters loss] 0.000032 | [Physics loss] 1.495814 | Val Accuracy: 85.52% | LR: 0.000138532\n",
      "Epoch 90 - Train Loss: 0.002088 | Val MSE: 0.000032 | Val MAE: 0.004455 | Val R²: 0.9689 | [Boundary loss] 0.000003 | [Heaters loss] 0.000031 | [Physics loss] 1.494949 | Val Accuracy: 86.22% | LR: 0.000138532\n",
      "Epoch 91 - Train Loss: 0.002063 | Val MSE: 0.000031 | Val MAE: 0.004425 | Val R²: 0.9695 | [Boundary loss] 0.000005 | [Heaters loss] 0.000030 | [Physics loss] 1.495636 | Val Accuracy: 86.47% | LR: 0.000138532\n",
      "Epoch 92 - Train Loss: 0.002077 | Val MSE: 0.000042 | Val MAE: 0.005138 | Val R²: 0.9591 | [Boundary loss] 0.000001 | [Heaters loss] 0.000041 | [Physics loss] 1.492512 | Val Accuracy: 80.32% | LR: 0.000138532\n",
      "Epoch 93 - Train Loss: 0.002069 | Val MSE: 0.000033 | Val MAE: 0.004611 | Val R²: 0.9673 | [Boundary loss] 0.000012 | [Heaters loss] 0.000033 | [Physics loss] 1.496882 | Val Accuracy: 84.89% | LR: 0.000138532\n",
      "Epoch 94 - Train Loss: 0.002073 | Val MSE: 0.000030 | Val MAE: 0.004345 | Val R²: 0.9703 | [Boundary loss] 0.000001 | [Heaters loss] 0.000030 | [Physics loss] 1.495257 | Val Accuracy: 87.09% | LR: 0.000138532\n",
      "Epoch 95 - Train Loss: 0.002077 | Val MSE: 0.000031 | Val MAE: 0.004414 | Val R²: 0.9696 | [Boundary loss] 0.000003 | [Heaters loss] 0.000030 | [Physics loss] 1.498948 | Val Accuracy: 86.45% | LR: 0.000138532\n",
      "Epoch 96 - Train Loss: 0.002073 | Val MSE: 0.000032 | Val MAE: 0.004470 | Val R²: 0.9686 | [Boundary loss] 0.000003 | [Heaters loss] 0.000031 | [Physics loss] 1.497034 | Val Accuracy: 85.74% | LR: 0.000138532\n",
      "Epoch 97 - Train Loss: 0.002074 | Val MSE: 0.000031 | Val MAE: 0.004420 | Val R²: 0.9697 | [Boundary loss] 0.000008 | [Heaters loss] 0.000030 | [Physics loss] 1.497758 | Val Accuracy: 86.45% | LR: 0.000069266\n",
      "Epoch 98 - Train Loss: 0.002059 | Val MSE: 0.000033 | Val MAE: 0.004537 | Val R²: 0.9678 | [Boundary loss] 0.000003 | [Heaters loss] 0.000032 | [Physics loss] 1.494292 | Val Accuracy: 85.54% | LR: 0.000069266\n",
      "Epoch 99 - Train Loss: 0.002080 | Val MSE: 0.000031 | Val MAE: 0.004385 | Val R²: 0.9699 | [Boundary loss] 0.000004 | [Heaters loss] 0.000030 | [Physics loss] 1.495565 | Val Accuracy: 86.76% | LR: 0.000069266\n",
      "Epoch 100 - Train Loss: 0.002070 | Val MSE: 0.000030 | Val MAE: 0.004326 | Val R²: 0.9705 | [Boundary loss] 0.000002 | [Heaters loss] 0.000029 | [Physics loss] 1.495259 | Val Accuracy: 87.22% | LR: 0.000069266\n",
      "Epoch 101 - Train Loss: 0.002066 | Val MSE: 0.000034 | Val MAE: 0.004592 | Val R²: 0.9672 | [Boundary loss] 0.000006 | [Heaters loss] 0.000033 | [Physics loss] 1.493264 | Val Accuracy: 85.21% | LR: 0.000069266\n",
      "Epoch 102 - Train Loss: 0.002054 | Val MSE: 0.000035 | Val MAE: 0.004699 | Val R²: 0.9656 | [Boundary loss] 0.000003 | [Heaters loss] 0.000034 | [Physics loss] 1.493701 | Val Accuracy: 84.16% | LR: 0.000069266\n",
      "Epoch 103 - Train Loss: 0.002071 | Val MSE: 0.000032 | Val MAE: 0.004448 | Val R²: 0.9688 | [Boundary loss] 0.000004 | [Heaters loss] 0.000031 | [Physics loss] 1.493980 | Val Accuracy: 86.11% | LR: 0.000069266\n",
      "Epoch 104 - Train Loss: 0.002064 | Val MSE: 0.000032 | Val MAE: 0.004507 | Val R²: 0.9685 | [Boundary loss] 0.000005 | [Heaters loss] 0.000031 | [Physics loss] 1.497893 | Val Accuracy: 85.74% | LR: 0.000069266\n",
      "Epoch 105 - Train Loss: 0.002061 | Val MSE: 0.000030 | Val MAE: 0.004349 | Val R²: 0.9701 | [Boundary loss] 0.000002 | [Heaters loss] 0.000030 | [Physics loss] 1.493881 | Val Accuracy: 87.02% | LR: 0.000069266\n",
      "Epoch 106 - Train Loss: 0.002062 | Val MSE: 0.000031 | Val MAE: 0.004373 | Val R²: 0.9699 | [Boundary loss] 0.000004 | [Heaters loss] 0.000030 | [Physics loss] 1.494235 | Val Accuracy: 86.86% | LR: 0.000069266\n",
      "Epoch 107 - Train Loss: 0.002070 | Val MSE: 0.000033 | Val MAE: 0.004552 | Val R²: 0.9677 | [Boundary loss] 0.000003 | [Heaters loss] 0.000032 | [Physics loss] 1.494611 | Val Accuracy: 85.45% | LR: 0.000069266\n",
      "Epoch 108 - Train Loss: 0.002055 | Val MSE: 0.000031 | Val MAE: 0.004398 | Val R²: 0.9695 | [Boundary loss] 0.000004 | [Heaters loss] 0.000031 | [Physics loss] 1.492692 | Val Accuracy: 86.67% | LR: 0.000069266\n",
      "Epoch 109 - Train Loss: 0.002054 | Val MSE: 0.000031 | Val MAE: 0.004447 | Val R²: 0.9693 | [Boundary loss] 0.000004 | [Heaters loss] 0.000031 | [Physics loss] 1.494769 | Val Accuracy: 86.32% | LR: 0.000069266\n",
      "Epoch 110 - Train Loss: 0.002057 | Val MSE: 0.000033 | Val MAE: 0.004543 | Val R²: 0.9677 | [Boundary loss] 0.000003 | [Heaters loss] 0.000032 | [Physics loss] 1.491879 | Val Accuracy: 85.54% | LR: 0.000069266\n",
      "Epoch 111 - Train Loss: 0.002066 | Val MSE: 0.000032 | Val MAE: 0.004423 | Val R²: 0.9690 | [Boundary loss] 0.000005 | [Heaters loss] 0.000031 | [Physics loss] 1.491359 | Val Accuracy: 86.53% | LR: 0.000034633\n",
      "Epoch 112 - Train Loss: 0.002059 | Val MSE: 0.000031 | Val MAE: 0.004429 | Val R²: 0.9693 | [Boundary loss] 0.000003 | [Heaters loss] 0.000031 | [Physics loss] 1.493831 | Val Accuracy: 86.53% | LR: 0.000034633\n",
      "Epoch 113 - Train Loss: 0.002065 | Val MSE: 0.000032 | Val MAE: 0.004461 | Val R²: 0.9689 | [Boundary loss] 0.000003 | [Heaters loss] 0.000031 | [Physics loss] 1.495263 | Val Accuracy: 86.20% | LR: 0.000034633\n",
      "Epoch 114 - Train Loss: 0.002050 | Val MSE: 0.000033 | Val MAE: 0.004529 | Val R²: 0.9681 | [Boundary loss] 0.000006 | [Heaters loss] 0.000032 | [Physics loss] 1.494850 | Val Accuracy: 85.72% | LR: 0.000034633\n",
      "Epoch 115 - Train Loss: 0.002052 | Val MSE: 0.000033 | Val MAE: 0.004556 | Val R²: 0.9678 | [Boundary loss] 0.000004 | [Heaters loss] 0.000032 | [Physics loss] 1.494986 | Val Accuracy: 85.45% | LR: 0.000034633\n",
      "Epoch 116 - Train Loss: 0.002070 | Val MSE: 0.000033 | Val MAE: 0.004587 | Val R²: 0.9674 | [Boundary loss] 0.000005 | [Heaters loss] 0.000033 | [Physics loss] 1.496143 | Val Accuracy: 85.20% | LR: 0.000034633\n",
      "Epoch 117 - Train Loss: 0.002049 | Val MSE: 0.000031 | Val MAE: 0.004418 | Val R²: 0.9694 | [Boundary loss] 0.000003 | [Heaters loss] 0.000031 | [Physics loss] 1.494073 | Val Accuracy: 86.59% | LR: 0.000034633\n",
      "Epoch 118 - Train Loss: 0.002062 | Val MSE: 0.000031 | Val MAE: 0.004376 | Val R²: 0.9699 | [Boundary loss] 0.000003 | [Heaters loss] 0.000030 | [Physics loss] 1.496089 | Val Accuracy: 86.74% | LR: 0.000034633\n",
      "Epoch 119 - Train Loss: 0.002052 | Val MSE: 0.000031 | Val MAE: 0.004378 | Val R²: 0.9701 | [Boundary loss] 0.000002 | [Heaters loss] 0.000030 | [Physics loss] 1.495645 | Val Accuracy: 86.85% | LR: 0.000034633\n",
      "Epoch 120 - Train Loss: 0.002053 | Val MSE: 0.000031 | Val MAE: 0.004370 | Val R²: 0.9701 | [Boundary loss] 0.000003 | [Heaters loss] 0.000030 | [Physics loss] 1.495613 | Val Accuracy: 86.89% | LR: 0.000034633\n",
      "Epoch 121 - Train Loss: 0.002046 | Val MSE: 0.000030 | Val MAE: 0.004355 | Val R²: 0.9704 | [Boundary loss] 0.000002 | [Heaters loss] 0.000030 | [Physics loss] 1.496334 | Val Accuracy: 86.96% | LR: 0.000034633\n",
      "Epoch 122 - Train Loss: 0.002058 | Val MSE: 0.000030 | Val MAE: 0.004346 | Val R²: 0.9704 | [Boundary loss] 0.000004 | [Heaters loss] 0.000030 | [Physics loss] 1.494591 | Val Accuracy: 87.12% | LR: 0.000017316\n",
      "Epoch 123 - Train Loss: 0.002054 | Val MSE: 0.000033 | Val MAE: 0.004528 | Val R²: 0.9679 | [Boundary loss] 0.000003 | [Heaters loss] 0.000032 | [Physics loss] 1.494431 | Val Accuracy: 85.70% | LR: 0.000017316\n",
      "Epoch 124 - Train Loss: 0.002041 | Val MSE: 0.000032 | Val MAE: 0.004521 | Val R²: 0.9682 | [Boundary loss] 0.000002 | [Heaters loss] 0.000032 | [Physics loss] 1.495464 | Val Accuracy: 85.66% | LR: 0.000017316\n",
      "Epoch 125 - Train Loss: 0.002057 | Val MSE: 0.000031 | Val MAE: 0.004376 | Val R²: 0.9700 | [Boundary loss] 0.000006 | [Heaters loss] 0.000030 | [Physics loss] 1.495203 | Val Accuracy: 86.85% | LR: 0.000017316\n",
      "Epoch 126 - Train Loss: 0.002052 | Val MSE: 0.000030 | Val MAE: 0.004362 | Val R²: 0.9701 | [Boundary loss] 0.000003 | [Heaters loss] 0.000030 | [Physics loss] 1.494943 | Val Accuracy: 86.95% | LR: 0.000017316\n",
      "Epoch 127 - Train Loss: 0.002055 | Val MSE: 0.000031 | Val MAE: 0.004435 | Val R²: 0.9694 | [Boundary loss] 0.000007 | [Heaters loss] 0.000031 | [Physics loss] 1.495357 | Val Accuracy: 86.47% | LR: 0.000017316\n",
      "Epoch 128 - Train Loss: 0.002055 | Val MSE: 0.000031 | Val MAE: 0.004390 | Val R²: 0.9697 | [Boundary loss] 0.000002 | [Heaters loss] 0.000030 | [Physics loss] 1.495225 | Val Accuracy: 86.74% | LR: 0.000017316\n",
      "Epoch 129 - Train Loss: 0.002049 | Val MSE: 0.000031 | Val MAE: 0.004377 | Val R²: 0.9701 | [Boundary loss] 0.000003 | [Heaters loss] 0.000030 | [Physics loss] 1.495058 | Val Accuracy: 86.88% | LR: 0.000017316\n",
      "Epoch 130 - Train Loss: 0.002053 | Val MSE: 0.000033 | Val MAE: 0.004574 | Val R²: 0.9675 | [Boundary loss] 0.000002 | [Heaters loss] 0.000033 | [Physics loss] 1.494615 | Val Accuracy: 85.34% | LR: 0.000017316\n",
      "Epoch 131 - Train Loss: 0.002051 | Val MSE: 0.000032 | Val MAE: 0.004513 | Val R²: 0.9683 | [Boundary loss] 0.000003 | [Heaters loss] 0.000032 | [Physics loss] 1.494845 | Val Accuracy: 85.79% | LR: 0.000017316\n",
      "Epoch 132 - Train Loss: 0.002051 | Val MSE: 0.000031 | Val MAE: 0.004379 | Val R²: 0.9701 | [Boundary loss] 0.000005 | [Heaters loss] 0.000030 | [Physics loss] 1.494928 | Val Accuracy: 86.89% | LR: 0.000017316\n",
      "Epoch 133 - Train Loss: 0.002043 | Val MSE: 0.000031 | Val MAE: 0.004377 | Val R²: 0.9700 | [Boundary loss] 0.000004 | [Heaters loss] 0.000030 | [Physics loss] 1.494403 | Val Accuracy: 86.90% | LR: 0.000008658\n",
      "Epoch 134 - Train Loss: 0.002053 | Val MSE: 0.000031 | Val MAE: 0.004380 | Val R²: 0.9699 | [Boundary loss] 0.000004 | [Heaters loss] 0.000030 | [Physics loss] 1.495118 | Val Accuracy: 86.86% | LR: 0.000008658\n",
      "Epoch 135 - Train Loss: 0.002046 | Val MSE: 0.000030 | Val MAE: 0.004332 | Val R²: 0.9706 | [Boundary loss] 0.000003 | [Heaters loss] 0.000029 | [Physics loss] 1.495876 | Val Accuracy: 87.17% | LR: 0.000008658\n",
      "Epoch 136 - Train Loss: 0.002053 | Val MSE: 0.000032 | Val MAE: 0.004472 | Val R²: 0.9687 | [Boundary loss] 0.000003 | [Heaters loss] 0.000031 | [Physics loss] 1.494138 | Val Accuracy: 86.22% | LR: 0.000008658\n",
      "Epoch 137 - Train Loss: 0.002057 | Val MSE: 0.000034 | Val MAE: 0.004603 | Val R²: 0.9671 | [Boundary loss] 0.000003 | [Heaters loss] 0.000033 | [Physics loss] 1.494113 | Val Accuracy: 85.08% | LR: 0.000008658\n",
      "Epoch 138 - Train Loss: 0.002059 | Val MSE: 0.000034 | Val MAE: 0.004606 | Val R²: 0.9671 | [Boundary loss] 0.000004 | [Heaters loss] 0.000033 | [Physics loss] 1.494285 | Val Accuracy: 85.01% | LR: 0.000008658\n",
      "Epoch 139 - Train Loss: 0.002048 | Val MSE: 0.000030 | Val MAE: 0.004354 | Val R²: 0.9703 | [Boundary loss] 0.000002 | [Heaters loss] 0.000030 | [Physics loss] 1.496930 | Val Accuracy: 86.86% | LR: 0.000008658\n",
      "Epoch 140 - Train Loss: 0.002052 | Val MSE: 0.000030 | Val MAE: 0.004327 | Val R²: 0.9707 | [Boundary loss] 0.000002 | [Heaters loss] 0.000029 | [Physics loss] 1.495585 | Val Accuracy: 87.23% | LR: 0.000008658\n",
      "Epoch 141 - Train Loss: 0.002056 | Val MSE: 0.000030 | Val MAE: 0.004336 | Val R²: 0.9705 | [Boundary loss] 0.000002 | [Heaters loss] 0.000029 | [Physics loss] 1.495390 | Val Accuracy: 87.13% | LR: 0.000008658\n",
      "Epoch 142 - Train Loss: 0.002056 | Val MSE: 0.000034 | Val MAE: 0.004609 | Val R²: 0.9666 | [Boundary loss] 0.000002 | [Heaters loss] 0.000033 | [Physics loss] 1.493661 | Val Accuracy: 85.00% | LR: 0.000008658\n",
      "Epoch 143 - Train Loss: 0.002055 | Val MSE: 0.000031 | Val MAE: 0.004365 | Val R²: 0.9701 | [Boundary loss] 0.000002 | [Heaters loss] 0.000030 | [Physics loss] 1.495045 | Val Accuracy: 86.96% | LR: 0.000008658\n",
      "Epoch 144 - Train Loss: 0.002052 | Val MSE: 0.000030 | Val MAE: 0.004330 | Val R²: 0.9707 | [Boundary loss] 0.000003 | [Heaters loss] 0.000029 | [Physics loss] 1.496370 | Val Accuracy: 87.22% | LR: 0.000008658\n",
      "Epoch 145 - Train Loss: 0.002043 | Val MSE: 0.000030 | Val MAE: 0.004350 | Val R²: 0.9704 | [Boundary loss] 0.000003 | [Heaters loss] 0.000030 | [Physics loss] 1.495174 | Val Accuracy: 87.09% | LR: 0.000008658\n",
      "Epoch 146 - Train Loss: 0.002048 | Val MSE: 0.000032 | Val MAE: 0.004477 | Val R²: 0.9687 | [Boundary loss] 0.000003 | [Heaters loss] 0.000031 | [Physics loss] 1.494318 | Val Accuracy: 86.10% | LR: 0.000008658\n",
      "Epoch 147 - Train Loss: 0.002055 | Val MSE: 0.000030 | Val MAE: 0.004332 | Val R²: 0.9706 | [Boundary loss] 0.000002 | [Heaters loss] 0.000029 | [Physics loss] 1.496410 | Val Accuracy: 87.18% | LR: 0.000008658\n",
      "Epoch 148 - Train Loss: 0.002057 | Val MSE: 0.000030 | Val MAE: 0.004354 | Val R²: 0.9702 | [Boundary loss] 0.000002 | [Heaters loss] 0.000030 | [Physics loss] 1.495811 | Val Accuracy: 86.99% | LR: 0.000008658\n",
      "Epoch 149 - Train Loss: 0.002037 | Val MSE: 0.000030 | Val MAE: 0.004350 | Val R²: 0.9703 | [Boundary loss] 0.000003 | [Heaters loss] 0.000030 | [Physics loss] 1.495617 | Val Accuracy: 86.97% | LR: 0.000008658\n",
      "Epoch 150 - Train Loss: 0.002047 | Val MSE: 0.000030 | Val MAE: 0.004336 | Val R²: 0.9705 | [Boundary loss] 0.000002 | [Heaters loss] 0.000029 | [Physics loss] 1.495559 | Val Accuracy: 87.09% | LR: 0.000008658\n",
      "Epoch 151 - Train Loss: 0.002047 | Val MSE: 0.000031 | Val MAE: 0.004394 | Val R²: 0.9696 | [Boundary loss] 0.000001 | [Heaters loss] 0.000030 | [Physics loss] 1.495210 | Val Accuracy: 86.68% | LR: 0.000008658\n",
      "Epoch 152 - Train Loss: 0.002059 | Val MSE: 0.000033 | Val MAE: 0.004536 | Val R²: 0.9679 | [Boundary loss] 0.000002 | [Heaters loss] 0.000032 | [Physics loss] 1.494854 | Val Accuracy: 85.57% | LR: 0.000008658\n",
      "Epoch 153 - Train Loss: 0.002049 | Val MSE: 0.000030 | Val MAE: 0.004315 | Val R²: 0.9708 | [Boundary loss] 0.000002 | [Heaters loss] 0.000029 | [Physics loss] 1.496447 | Val Accuracy: 87.23% | LR: 0.000008658\n",
      "Epoch 154 - Train Loss: 0.002047 | Val MSE: 0.000032 | Val MAE: 0.004469 | Val R²: 0.9689 | [Boundary loss] 0.000006 | [Heaters loss] 0.000031 | [Physics loss] 1.494352 | Val Accuracy: 86.26% | LR: 0.000008658\n",
      "Epoch 155 - Train Loss: 0.002048 | Val MSE: 0.000031 | Val MAE: 0.004370 | Val R²: 0.9699 | [Boundary loss] 0.000002 | [Heaters loss] 0.000030 | [Physics loss] 1.494679 | Val Accuracy: 86.90% | LR: 0.000008658\n",
      "Epoch 156 - Train Loss: 0.002053 | Val MSE: 0.000032 | Val MAE: 0.004455 | Val R²: 0.9691 | [Boundary loss] 0.000005 | [Heaters loss] 0.000031 | [Physics loss] 1.495191 | Val Accuracy: 86.27% | LR: 0.000008658\n",
      "Epoch 157 - Train Loss: 0.002052 | Val MSE: 0.000030 | Val MAE: 0.004357 | Val R²: 0.9701 | [Boundary loss] 0.000002 | [Heaters loss] 0.000030 | [Physics loss] 1.496064 | Val Accuracy: 86.81% | LR: 0.000008658\n",
      "Epoch 158 - Train Loss: 0.002055 | Val MSE: 0.000032 | Val MAE: 0.004494 | Val R²: 0.9684 | [Boundary loss] 0.000002 | [Heaters loss] 0.000031 | [Physics loss] 1.494567 | Val Accuracy: 85.98% | LR: 0.000008658\n",
      "Epoch 159 - Train Loss: 0.002048 | Val MSE: 0.000030 | Val MAE: 0.004361 | Val R²: 0.9703 | [Boundary loss] 0.000003 | [Heaters loss] 0.000030 | [Physics loss] 1.495960 | Val Accuracy: 86.98% | LR: 0.000008658\n",
      "Epoch 160 - Train Loss: 0.002039 | Val MSE: 0.000030 | Val MAE: 0.004349 | Val R²: 0.9705 | [Boundary loss] 0.000004 | [Heaters loss] 0.000029 | [Physics loss] 1.496146 | Val Accuracy: 87.11% | LR: 0.000008658\n",
      "Epoch 161 - Train Loss: 0.002051 | Val MSE: 0.000032 | Val MAE: 0.004517 | Val R²: 0.9683 | [Boundary loss] 0.000005 | [Heaters loss] 0.000032 | [Physics loss] 1.494511 | Val Accuracy: 85.78% | LR: 0.000008658\n",
      "Epoch 162 - Train Loss: 0.002052 | Val MSE: 0.000031 | Val MAE: 0.004399 | Val R²: 0.9697 | [Boundary loss] 0.000005 | [Heaters loss] 0.000030 | [Physics loss] 1.495016 | Val Accuracy: 86.75% | LR: 0.000008658\n",
      "Epoch 163 - Train Loss: 0.002051 | Val MSE: 0.000031 | Val MAE: 0.004375 | Val R²: 0.9700 | [Boundary loss] 0.000003 | [Heaters loss] 0.000030 | [Physics loss] 1.495959 | Val Accuracy: 86.87% | LR: 0.000008658\n",
      "Epoch 164 - Train Loss: 0.002051 | Val MSE: 0.000032 | Val MAE: 0.004475 | Val R²: 0.9689 | [Boundary loss] 0.000004 | [Heaters loss] 0.000031 | [Physics loss] 1.494938 | Val Accuracy: 86.13% | LR: 0.000004329\n",
      "Epoch 165 - Train Loss: 0.002048 | Val MSE: 0.000032 | Val MAE: 0.004455 | Val R²: 0.9688 | [Boundary loss] 0.000002 | [Heaters loss] 0.000031 | [Physics loss] 1.494053 | Val Accuracy: 86.23% | LR: 0.000004329\n",
      "Epoch 166 - Train Loss: 0.002065 | Val MSE: 0.000035 | Val MAE: 0.004682 | Val R²: 0.9662 | [Boundary loss] 0.000003 | [Heaters loss] 0.000034 | [Physics loss] 1.494630 | Val Accuracy: 84.33% | LR: 0.000004329\n",
      "Epoch 167 - Train Loss: 0.002048 | Val MSE: 0.000030 | Val MAE: 0.004332 | Val R²: 0.9706 | [Boundary loss] 0.000002 | [Heaters loss] 0.000029 | [Physics loss] 1.495711 | Val Accuracy: 87.16% | LR: 0.000004329\n",
      "Epoch 168 - Train Loss: 0.002055 | Val MSE: 0.000033 | Val MAE: 0.004573 | Val R²: 0.9673 | [Boundary loss] 0.000003 | [Heaters loss] 0.000033 | [Physics loss] 1.495044 | Val Accuracy: 85.33% | LR: 0.000004329\n",
      "Epoch 169 - Train Loss: 0.002045 | Val MSE: 0.000032 | Val MAE: 0.004474 | Val R²: 0.9687 | [Boundary loss] 0.000004 | [Heaters loss] 0.000031 | [Physics loss] 1.494959 | Val Accuracy: 86.17% | LR: 0.000004329\n",
      "Epoch 170 - Train Loss: 0.002052 | Val MSE: 0.000030 | Val MAE: 0.004310 | Val R²: 0.9708 | [Boundary loss] 0.000002 | [Heaters loss] 0.000029 | [Physics loss] 1.495807 | Val Accuracy: 87.18% | LR: 0.000004329\n",
      "Epoch 171 - Train Loss: 0.002040 | Val MSE: 0.000032 | Val MAE: 0.004460 | Val R²: 0.9689 | [Boundary loss] 0.000002 | [Heaters loss] 0.000031 | [Physics loss] 1.495032 | Val Accuracy: 86.23% | LR: 0.000004329\n",
      "Epoch 172 - Train Loss: 0.002052 | Val MSE: 0.000031 | Val MAE: 0.004395 | Val R²: 0.9699 | [Boundary loss] 0.000005 | [Heaters loss] 0.000030 | [Physics loss] 1.495933 | Val Accuracy: 86.75% | LR: 0.000004329\n",
      "Epoch 173 - Train Loss: 0.002052 | Val MSE: 0.000031 | Val MAE: 0.004382 | Val R²: 0.9699 | [Boundary loss] 0.000002 | [Heaters loss] 0.000030 | [Physics loss] 1.496478 | Val Accuracy: 86.61% | LR: 0.000004329\n",
      "Epoch 174 - Train Loss: 0.002039 | Val MSE: 0.000032 | Val MAE: 0.004500 | Val R²: 0.9684 | [Boundary loss] 0.000005 | [Heaters loss] 0.000032 | [Physics loss] 1.494833 | Val Accuracy: 85.98% | LR: 0.000004329\n",
      "Epoch 175 - Train Loss: 0.002046 | Val MSE: 0.000035 | Val MAE: 0.004679 | Val R²: 0.9660 | [Boundary loss] 0.000004 | [Heaters loss] 0.000034 | [Physics loss] 1.493968 | Val Accuracy: 84.42% | LR: 0.000002165\n",
      "Epoch 176 - Train Loss: 0.002047 | Val MSE: 0.000030 | Val MAE: 0.004363 | Val R²: 0.9702 | [Boundary loss] 0.000002 | [Heaters loss] 0.000030 | [Physics loss] 1.495717 | Val Accuracy: 87.01% | LR: 0.000002165\n",
      "Epoch 177 - Train Loss: 0.002058 | Val MSE: 0.000030 | Val MAE: 0.004358 | Val R²: 0.9702 | [Boundary loss] 0.000002 | [Heaters loss] 0.000030 | [Physics loss] 1.495231 | Val Accuracy: 87.02% | LR: 0.000002165\n",
      "Epoch 178 - Train Loss: 0.002048 | Val MSE: 0.000034 | Val MAE: 0.004621 | Val R²: 0.9666 | [Boundary loss] 0.000004 | [Heaters loss] 0.000033 | [Physics loss] 1.494083 | Val Accuracy: 84.98% | LR: 0.000002165\n",
      "Epoch 179 - Train Loss: 0.002052 | Val MSE: 0.000031 | Val MAE: 0.004393 | Val R²: 0.9697 | [Boundary loss] 0.000003 | [Heaters loss] 0.000030 | [Physics loss] 1.494426 | Val Accuracy: 86.78% | LR: 0.000002165\n",
      "Epoch 180 - Train Loss: 0.002045 | Val MSE: 0.000035 | Val MAE: 0.004718 | Val R²: 0.9656 | [Boundary loss] 0.000010 | [Heaters loss] 0.000035 | [Physics loss] 1.493540 | Val Accuracy: 84.19% | LR: 0.000002165\n",
      "Epoch 181 - Train Loss: 0.002042 | Val MSE: 0.000030 | Val MAE: 0.004320 | Val R²: 0.9708 | [Boundary loss] 0.000002 | [Heaters loss] 0.000029 | [Physics loss] 1.496034 | Val Accuracy: 87.23% | LR: 0.000002165\n",
      "Epoch 182 - Train Loss: 0.002051 | Val MSE: 0.000031 | Val MAE: 0.004400 | Val R²: 0.9697 | [Boundary loss] 0.000003 | [Heaters loss] 0.000030 | [Physics loss] 1.494730 | Val Accuracy: 86.71% | LR: 0.000002165\n",
      "Epoch 183 - Train Loss: 0.002052 | Val MSE: 0.000031 | Val MAE: 0.004411 | Val R²: 0.9696 | [Boundary loss] 0.000002 | [Heaters loss] 0.000030 | [Physics loss] 1.495057 | Val Accuracy: 86.63% | LR: 0.000002165\n",
      "Epoch 184 - Train Loss: 0.002048 | Val MSE: 0.000032 | Val MAE: 0.004512 | Val R²: 0.9682 | [Boundary loss] 0.000002 | [Heaters loss] 0.000032 | [Physics loss] 1.494714 | Val Accuracy: 85.83% | LR: 0.000002165\n",
      "Epoch 185 - Train Loss: 0.002043 | Val MSE: 0.000031 | Val MAE: 0.004383 | Val R²: 0.9699 | [Boundary loss] 0.000002 | [Heaters loss] 0.000030 | [Physics loss] 1.495339 | Val Accuracy: 86.83% | LR: 0.000002165\n",
      "Epoch 186 - Train Loss: 0.002049 | Val MSE: 0.000030 | Val MAE: 0.004311 | Val R²: 0.9708 | [Boundary loss] 0.000002 | [Heaters loss] 0.000029 | [Physics loss] 1.495387 | Val Accuracy: 87.32% | LR: 0.000001082\n",
      "Epoch 187 - Train Loss: 0.002056 | Val MSE: 0.000030 | Val MAE: 0.004303 | Val R²: 0.9708 | [Boundary loss] 0.000002 | [Heaters loss] 0.000029 | [Physics loss] 1.495687 | Val Accuracy: 87.30% | LR: 0.000001082\n",
      "Epoch 188 - Train Loss: 0.002048 | Val MSE: 0.000033 | Val MAE: 0.004539 | Val R²: 0.9679 | [Boundary loss] 0.000003 | [Heaters loss] 0.000032 | [Physics loss] 1.493656 | Val Accuracy: 85.65% | LR: 0.000001082\n",
      "Epoch 189 - Train Loss: 0.002057 | Val MSE: 0.000031 | Val MAE: 0.004372 | Val R²: 0.9702 | [Boundary loss] 0.000003 | [Heaters loss] 0.000030 | [Physics loss] 1.495368 | Val Accuracy: 86.91% | LR: 0.000001082\n",
      "Epoch 190 - Train Loss: 0.002032 | Val MSE: 0.000031 | Val MAE: 0.004405 | Val R²: 0.9696 | [Boundary loss] 0.000002 | [Heaters loss] 0.000030 | [Physics loss] 1.494856 | Val Accuracy: 86.66% | LR: 0.000001082\n",
      "Epoch 191 - Train Loss: 0.002059 | Val MSE: 0.000030 | Val MAE: 0.004374 | Val R²: 0.9701 | [Boundary loss] 0.000004 | [Heaters loss] 0.000030 | [Physics loss] 1.495618 | Val Accuracy: 86.88% | LR: 0.000001082\n",
      "Epoch 192 - Train Loss: 0.002051 | Val MSE: 0.000031 | Val MAE: 0.004391 | Val R²: 0.9698 | [Boundary loss] 0.000002 | [Heaters loss] 0.000030 | [Physics loss] 1.494757 | Val Accuracy: 86.80% | LR: 0.000001082\n",
      "Epoch 193 - Train Loss: 0.002043 | Val MSE: 0.000030 | Val MAE: 0.004323 | Val R²: 0.9707 | [Boundary loss] 0.000002 | [Heaters loss] 0.000029 | [Physics loss] 1.495211 | Val Accuracy: 87.27% | LR: 0.000001082\n",
      "Epoch 194 - Train Loss: 0.002050 | Val MSE: 0.000031 | Val MAE: 0.004429 | Val R²: 0.9694 | [Boundary loss] 0.000005 | [Heaters loss] 0.000031 | [Physics loss] 1.495492 | Val Accuracy: 86.50% | LR: 0.000001082\n",
      "Epoch 195 - Train Loss: 0.002044 | Val MSE: 0.000032 | Val MAE: 0.004449 | Val R²: 0.9691 | [Boundary loss] 0.000003 | [Heaters loss] 0.000031 | [Physics loss] 1.494701 | Val Accuracy: 86.37% | LR: 0.000001082\n",
      "Epoch 196 - Train Loss: 0.002047 | Val MSE: 0.000032 | Val MAE: 0.004501 | Val R²: 0.9685 | [Boundary loss] 0.000004 | [Heaters loss] 0.000032 | [Physics loss] 1.495197 | Val Accuracy: 85.94% | LR: 0.000001082\n",
      "Epoch 197 - Train Loss: 0.002052 | Val MSE: 0.000031 | Val MAE: 0.004389 | Val R²: 0.9698 | [Boundary loss] 0.000002 | [Heaters loss] 0.000030 | [Physics loss] 1.495065 | Val Accuracy: 86.82% | LR: 0.000000541\n",
      "Epoch 198 - Train Loss: 0.002050 | Val MSE: 0.000030 | Val MAE: 0.004313 | Val R²: 0.9708 | [Boundary loss] 0.000002 | [Heaters loss] 0.000029 | [Physics loss] 1.496049 | Val Accuracy: 87.25% | LR: 0.000000541\n",
      "Epoch 199 - Train Loss: 0.002045 | Val MSE: 0.000030 | Val MAE: 0.004321 | Val R²: 0.9708 | [Boundary loss] 0.000003 | [Heaters loss] 0.000029 | [Physics loss] 1.496294 | Val Accuracy: 87.25% | LR: 0.000000541\n",
      "Epoch 200 - Train Loss: 0.002049 | Val MSE: 0.000031 | Val MAE: 0.004435 | Val R²: 0.9692 | [Boundary loss] 0.000002 | [Heaters loss] 0.000031 | [Physics loss] 1.494647 | Val Accuracy: 86.41% | LR: 0.000000541\n",
      "Epoch 201 - Train Loss: 0.002045 | Val MSE: 0.000032 | Val MAE: 0.004482 | Val R²: 0.9685 | [Boundary loss] 0.000002 | [Heaters loss] 0.000031 | [Physics loss] 1.494387 | Val Accuracy: 86.09% | LR: 0.000000541\n",
      "Epoch 202 - Train Loss: 0.002045 | Val MSE: 0.000030 | Val MAE: 0.004358 | Val R²: 0.9703 | [Boundary loss] 0.000002 | [Heaters loss] 0.000030 | [Physics loss] 1.495304 | Val Accuracy: 87.03% | LR: 0.000000541\n",
      "Epoch 203 - Train Loss: 0.002038 | Val MSE: 0.000031 | Val MAE: 0.004391 | Val R²: 0.9698 | [Boundary loss] 0.000002 | [Heaters loss] 0.000030 | [Physics loss] 1.495297 | Val Accuracy: 86.76% | LR: 0.000000541\n",
      "Epoch 204 - Train Loss: 0.002048 | Val MSE: 0.000030 | Val MAE: 0.004320 | Val R²: 0.9708 | [Boundary loss] 0.000002 | [Heaters loss] 0.000029 | [Physics loss] 1.495852 | Val Accuracy: 87.23% | LR: 0.000000541\n",
      "Epoch 205 - Train Loss: 0.002042 | Val MSE: 0.000031 | Val MAE: 0.004409 | Val R²: 0.9696 | [Boundary loss] 0.000003 | [Heaters loss] 0.000030 | [Physics loss] 1.494913 | Val Accuracy: 86.67% | LR: 0.000000541\n",
      "Epoch 206 - Train Loss: 0.002048 | Val MSE: 0.000030 | Val MAE: 0.004371 | Val R²: 0.9702 | [Boundary loss] 0.000004 | [Heaters loss] 0.000030 | [Physics loss] 1.495617 | Val Accuracy: 86.93% | LR: 0.000000541\n",
      "Epoch 207 - Train Loss: 0.002045 | Val MSE: 0.000032 | Val MAE: 0.004441 | Val R²: 0.9691 | [Boundary loss] 0.000002 | [Heaters loss] 0.000031 | [Physics loss] 1.494848 | Val Accuracy: 86.38% | LR: 0.000000541\n",
      "Epoch 208 - Train Loss: 0.002049 | Val MSE: 0.000032 | Val MAE: 0.004480 | Val R²: 0.9686 | [Boundary loss] 0.000003 | [Heaters loss] 0.000031 | [Physics loss] 1.494615 | Val Accuracy: 86.11% | LR: 0.000000271\n",
      "Epoch 209 - Train Loss: 0.002046 | Val MSE: 0.000030 | Val MAE: 0.004358 | Val R²: 0.9702 | [Boundary loss] 0.000002 | [Heaters loss] 0.000030 | [Physics loss] 1.495741 | Val Accuracy: 86.99% | LR: 0.000000271\n",
      "Epoch 210 - Train Loss: 0.002040 | Val MSE: 0.000030 | Val MAE: 0.004346 | Val R²: 0.9704 | [Boundary loss] 0.000002 | [Heaters loss] 0.000030 | [Physics loss] 1.495778 | Val Accuracy: 87.00% | LR: 0.000000271\n",
      "Epoch 211 - Train Loss: 0.002051 | Val MSE: 0.000031 | Val MAE: 0.004374 | Val R²: 0.9700 | [Boundary loss] 0.000002 | [Heaters loss] 0.000030 | [Physics loss] 1.496397 | Val Accuracy: 86.63% | LR: 0.000000271\n",
      "Epoch 212 - Train Loss: 0.002049 | Val MSE: 0.000032 | Val MAE: 0.004508 | Val R²: 0.9682 | [Boundary loss] 0.000006 | [Heaters loss] 0.000032 | [Physics loss] 1.497012 | Val Accuracy: 85.51% | LR: 0.000000271\n",
      "Epoch 213 - Train Loss: 0.002049 | Val MSE: 0.000030 | Val MAE: 0.004331 | Val R²: 0.9706 | [Boundary loss] 0.000002 | [Heaters loss] 0.000029 | [Physics loss] 1.495904 | Val Accuracy: 87.17% | LR: 0.000000271\n",
      "Epoch 214 - Train Loss: 0.002040 | Val MSE: 0.000031 | Val MAE: 0.004436 | Val R²: 0.9692 | [Boundary loss] 0.000003 | [Heaters loss] 0.000031 | [Physics loss] 1.495228 | Val Accuracy: 86.46% | LR: 0.000000271\n",
      "Epoch 215 - Train Loss: 0.002047 | Val MSE: 0.000035 | Val MAE: 0.004715 | Val R²: 0.9655 | [Boundary loss] 0.000004 | [Heaters loss] 0.000035 | [Physics loss] 1.493424 | Val Accuracy: 84.15% | LR: 0.000000271\n",
      "Epoch 216 - Train Loss: 0.002045 | Val MSE: 0.000030 | Val MAE: 0.004309 | Val R²: 0.9708 | [Boundary loss] 0.000002 | [Heaters loss] 0.000029 | [Physics loss] 1.495847 | Val Accuracy: 87.29% | LR: 0.000000271\n",
      "Epoch 217 - Train Loss: 0.002051 | Val MSE: 0.000030 | Val MAE: 0.004362 | Val R²: 0.9702 | [Boundary loss] 0.000005 | [Heaters loss] 0.000030 | [Physics loss] 1.495459 | Val Accuracy: 86.95% | LR: 0.000000271\n",
      "Epoch 218 - Train Loss: 0.002054 | Val MSE: 0.000030 | Val MAE: 0.004336 | Val R²: 0.9707 | [Boundary loss] 0.000003 | [Heaters loss] 0.000029 | [Physics loss] 1.496557 | Val Accuracy: 87.11% | LR: 0.000000271\n",
      "Epoch 219 - Train Loss: 0.002037 | Val MSE: 0.000030 | Val MAE: 0.004323 | Val R²: 0.9707 | [Boundary loss] 0.000002 | [Heaters loss] 0.000029 | [Physics loss] 1.495181 | Val Accuracy: 87.25% | LR: 0.000000135\n",
      "Epoch 220 - Train Loss: 0.002049 | Val MSE: 0.000032 | Val MAE: 0.004488 | Val R²: 0.9685 | [Boundary loss] 0.000002 | [Heaters loss] 0.000031 | [Physics loss] 1.494347 | Val Accuracy: 86.04% | LR: 0.000000135\n",
      "Epoch 221 - Train Loss: 0.002062 | Val MSE: 0.000031 | Val MAE: 0.004407 | Val R²: 0.9697 | [Boundary loss] 0.000005 | [Heaters loss] 0.000030 | [Physics loss] 1.495030 | Val Accuracy: 86.66% | LR: 0.000000135\n",
      "Epoch 222 - Train Loss: 0.002043 | Val MSE: 0.000030 | Val MAE: 0.004315 | Val R²: 0.9708 | [Boundary loss] 0.000002 | [Heaters loss] 0.000029 | [Physics loss] 1.494999 | Val Accuracy: 87.25% | LR: 0.000000135\n",
      "Epoch 223 - Train Loss: 0.002054 | Val MSE: 0.000030 | Val MAE: 0.004346 | Val R²: 0.9703 | [Boundary loss] 0.000002 | [Heaters loss] 0.000030 | [Physics loss] 1.496313 | Val Accuracy: 86.97% | LR: 0.000000135\n",
      "Epoch 224 - Train Loss: 0.002050 | Val MSE: 0.000031 | Val MAE: 0.004386 | Val R²: 0.9697 | [Boundary loss] 0.000002 | [Heaters loss] 0.000030 | [Physics loss] 1.494501 | Val Accuracy: 86.79% | LR: 0.000000135\n",
      "Epoch 225 - Train Loss: 0.002044 | Val MSE: 0.000030 | Val MAE: 0.004343 | Val R²: 0.9703 | [Boundary loss] 0.000002 | [Heaters loss] 0.000029 | [Physics loss] 1.495935 | Val Accuracy: 87.00% | LR: 0.000000135\n",
      "Epoch 226 - Train Loss: 0.002048 | Val MSE: 0.000031 | Val MAE: 0.004394 | Val R²: 0.9699 | [Boundary loss] 0.000004 | [Heaters loss] 0.000030 | [Physics loss] 1.495229 | Val Accuracy: 86.75% | LR: 0.000000135\n",
      "Epoch 227 - Train Loss: 0.002040 | Val MSE: 0.000030 | Val MAE: 0.004320 | Val R²: 0.9708 | [Boundary loss] 0.000003 | [Heaters loss] 0.000029 | [Physics loss] 1.496630 | Val Accuracy: 87.23% | LR: 0.000000135\n",
      "Epoch 228 - Train Loss: 0.002046 | Val MSE: 0.000031 | Val MAE: 0.004439 | Val R²: 0.9692 | [Boundary loss] 0.000003 | [Heaters loss] 0.000031 | [Physics loss] 1.494915 | Val Accuracy: 86.41% | LR: 0.000000135\n",
      "Epoch 229 - Train Loss: 0.002048 | Val MSE: 0.000031 | Val MAE: 0.004421 | Val R²: 0.9694 | [Boundary loss] 0.000005 | [Heaters loss] 0.000031 | [Physics loss] 1.495303 | Val Accuracy: 86.56% | LR: 0.000000135\n",
      "Epoch 230 - Train Loss: 0.002048 | Val MSE: 0.000031 | Val MAE: 0.004421 | Val R²: 0.9695 | [Boundary loss] 0.000003 | [Heaters loss] 0.000031 | [Physics loss] 1.494314 | Val Accuracy: 86.58% | LR: 0.000000068\n",
      "Epoch 231 - Train Loss: 0.002039 | Val MSE: 0.000032 | Val MAE: 0.004469 | Val R²: 0.9688 | [Boundary loss] 0.000003 | [Heaters loss] 0.000031 | [Physics loss] 1.494541 | Val Accuracy: 86.19% | LR: 0.000000068\n",
      "Epoch 232 - Train Loss: 0.002044 | Val MSE: 0.000031 | Val MAE: 0.004410 | Val R²: 0.9694 | [Boundary loss] 0.000002 | [Heaters loss] 0.000030 | [Physics loss] 1.494936 | Val Accuracy: 86.66% | LR: 0.000000068\n",
      "Epoch 233 - Train Loss: 0.002056 | Val MSE: 0.000031 | Val MAE: 0.004439 | Val R²: 0.9692 | [Boundary loss] 0.000005 | [Heaters loss] 0.000031 | [Physics loss] 1.494735 | Val Accuracy: 86.45% | LR: 0.000000068\n",
      "Epoch 234 - Train Loss: 0.002047 | Val MSE: 0.000030 | Val MAE: 0.004364 | Val R²: 0.9701 | [Boundary loss] 0.000002 | [Heaters loss] 0.000030 | [Physics loss] 1.495807 | Val Accuracy: 86.76% | LR: 0.000000068\n",
      "Epoch 235 - Train Loss: 0.002042 | Val MSE: 0.000030 | Val MAE: 0.004358 | Val R²: 0.9702 | [Boundary loss] 0.000002 | [Heaters loss] 0.000030 | [Physics loss] 1.495119 | Val Accuracy: 87.02% | LR: 0.000000068\n",
      "Epoch 236 - Train Loss: 0.002051 | Val MSE: 0.000030 | Val MAE: 0.004319 | Val R²: 0.9709 | [Boundary loss] 0.000002 | [Heaters loss] 0.000029 | [Physics loss] 1.495879 | Val Accuracy: 87.26% | LR: 0.000000068\n",
      "Epoch 237 - Train Loss: 0.002043 | Val MSE: 0.000035 | Val MAE: 0.004686 | Val R²: 0.9658 | [Boundary loss] 0.000002 | [Heaters loss] 0.000034 | [Physics loss] 1.493572 | Val Accuracy: 84.29% | LR: 0.000000068\n",
      "Epoch 238 - Train Loss: 0.002045 | Val MSE: 0.000030 | Val MAE: 0.004342 | Val R²: 0.9705 | [Boundary loss] 0.000003 | [Heaters loss] 0.000029 | [Physics loss] 1.495706 | Val Accuracy: 87.12% | LR: 0.000000068\n",
      "Epoch 239 - Train Loss: 0.002048 | Val MSE: 0.000030 | Val MAE: 0.004316 | Val R²: 0.9708 | [Boundary loss] 0.000002 | [Heaters loss] 0.000029 | [Physics loss] 1.496028 | Val Accuracy: 87.24% | LR: 0.000000068\n",
      "Epoch 240 - Train Loss: 0.002047 | Val MSE: 0.000030 | Val MAE: 0.004349 | Val R²: 0.9702 | [Boundary loss] 0.000002 | [Heaters loss] 0.000030 | [Physics loss] 1.494386 | Val Accuracy: 87.05% | LR: 0.000000068\n",
      "Epoch 241 - Train Loss: 0.002048 | Val MSE: 0.000032 | Val MAE: 0.004490 | Val R²: 0.9687 | [Boundary loss] 0.000006 | [Heaters loss] 0.000031 | [Physics loss] 1.494752 | Val Accuracy: 86.08% | LR: 0.000000034\n",
      "Epoch 242 - Train Loss: 0.002045 | Val MSE: 0.000038 | Val MAE: 0.004936 | Val R²: 0.9624 | [Boundary loss] 0.000005 | [Heaters loss] 0.000038 | [Physics loss] 1.493080 | Val Accuracy: 82.25% | LR: 0.000000034\n",
      "Epoch 243 - Train Loss: 0.002043 | Val MSE: 0.000030 | Val MAE: 0.004340 | Val R²: 0.9705 | [Boundary loss] 0.000002 | [Heaters loss] 0.000029 | [Physics loss] 1.496130 | Val Accuracy: 87.09% | LR: 0.000000034\n",
      "Epoch 244 - Train Loss: 0.002048 | Val MSE: 0.000033 | Val MAE: 0.004548 | Val R²: 0.9674 | [Boundary loss] 0.000002 | [Heaters loss] 0.000032 | [Physics loss] 1.494087 | Val Accuracy: 85.46% | LR: 0.000000034\n",
      "Epoch 245 - Train Loss: 0.002034 | Val MSE: 0.000031 | Val MAE: 0.004428 | Val R²: 0.9693 | [Boundary loss] 0.000005 | [Heaters loss] 0.000031 | [Physics loss] 1.495223 | Val Accuracy: 86.53% | LR: 0.000000034\n",
      "Epoch 246 - Train Loss: 0.002044 | Val MSE: 0.000031 | Val MAE: 0.004443 | Val R²: 0.9692 | [Boundary loss] 0.000005 | [Heaters loss] 0.000031 | [Physics loss] 1.495246 | Val Accuracy: 86.39% | LR: 0.000000034\n",
      "Epoch 247 - Train Loss: 0.002044 | Val MSE: 0.000032 | Val MAE: 0.004456 | Val R²: 0.9689 | [Boundary loss] 0.000002 | [Heaters loss] 0.000031 | [Physics loss] 1.494634 | Val Accuracy: 86.22% | LR: 0.000000034\n",
      "Epoch 248 - Train Loss: 0.002046 | Val MSE: 0.000031 | Val MAE: 0.004394 | Val R²: 0.9697 | [Boundary loss] 0.000003 | [Heaters loss] 0.000030 | [Physics loss] 1.495131 | Val Accuracy: 86.75% | LR: 0.000000034\n",
      "Epoch 249 - Train Loss: 0.002049 | Val MSE: 0.000033 | Val MAE: 0.004579 | Val R²: 0.9673 | [Boundary loss] 0.000003 | [Heaters loss] 0.000033 | [Physics loss] 1.493656 | Val Accuracy: 85.34% | LR: 0.000000034\n",
      "Epoch 250 - Train Loss: 0.002050 | Val MSE: 0.000030 | Val MAE: 0.004316 | Val R²: 0.9708 | [Boundary loss] 0.000002 | [Heaters loss] 0.000029 | [Physics loss] 1.495938 | Val Accuracy: 87.26% | LR: 0.000000034\n",
      "Epoch 251 - Train Loss: 0.002052 | Val MSE: 0.000031 | Val MAE: 0.004391 | Val R²: 0.9698 | [Boundary loss] 0.000002 | [Heaters loss] 0.000030 | [Physics loss] 1.494619 | Val Accuracy: 86.79% | LR: 0.000000034\n",
      "Epoch 252 - Train Loss: 0.002054 | Val MSE: 0.000030 | Val MAE: 0.004344 | Val R²: 0.9703 | [Boundary loss] 0.000002 | [Heaters loss] 0.000030 | [Physics loss] 1.494977 | Val Accuracy: 87.10% | LR: 0.000000017\n",
      "Epoch 253 - Train Loss: 0.002055 | Val MSE: 0.000032 | Val MAE: 0.004513 | Val R²: 0.9683 | [Boundary loss] 0.000004 | [Heaters loss] 0.000032 | [Physics loss] 1.495064 | Val Accuracy: 85.86% | LR: 0.000000017\n",
      "Epoch 254 - Train Loss: 0.002045 | Val MSE: 0.000031 | Val MAE: 0.004390 | Val R²: 0.9699 | [Boundary loss] 0.000003 | [Heaters loss] 0.000030 | [Physics loss] 1.494640 | Val Accuracy: 86.82% | LR: 0.000000017\n",
      "Epoch 255 - Train Loss: 0.002048 | Val MSE: 0.000031 | Val MAE: 0.004387 | Val R²: 0.9699 | [Boundary loss] 0.000003 | [Heaters loss] 0.000030 | [Physics loss] 1.495037 | Val Accuracy: 86.81% | LR: 0.000000017\n",
      "Epoch 256 - Train Loss: 0.002055 | Val MSE: 0.000032 | Val MAE: 0.004488 | Val R²: 0.9687 | [Boundary loss] 0.000005 | [Heaters loss] 0.000031 | [Physics loss] 1.495454 | Val Accuracy: 86.04% | LR: 0.000000017\n",
      "Epoch 257 - Train Loss: 0.002050 | Val MSE: 0.000037 | Val MAE: 0.004829 | Val R²: 0.9642 | [Boundary loss] 0.000006 | [Heaters loss] 0.000036 | [Physics loss] 1.494662 | Val Accuracy: 83.09% | LR: 0.000000017\n",
      "Epoch 258 - Train Loss: 0.002054 | Val MSE: 0.000030 | Val MAE: 0.004347 | Val R²: 0.9704 | [Boundary loss] 0.000003 | [Heaters loss] 0.000029 | [Physics loss] 1.496017 | Val Accuracy: 86.99% | LR: 0.000000017\n",
      "Epoch 259 - Train Loss: 0.002048 | Val MSE: 0.000030 | Val MAE: 0.004316 | Val R²: 0.9708 | [Boundary loss] 0.000002 | [Heaters loss] 0.000029 | [Physics loss] 1.495318 | Val Accuracy: 87.29% | LR: 0.000000017\n",
      "Epoch 260 - Train Loss: 0.002037 | Val MSE: 0.000030 | Val MAE: 0.004376 | Val R²: 0.9701 | [Boundary loss] 0.000005 | [Heaters loss] 0.000030 | [Physics loss] 1.495752 | Val Accuracy: 86.90% | LR: 0.000000017\n",
      "Epoch 261 - Train Loss: 0.002047 | Val MSE: 0.000032 | Val MAE: 0.004456 | Val R²: 0.9689 | [Boundary loss] 0.000003 | [Heaters loss] 0.000031 | [Physics loss] 1.494663 | Val Accuracy: 86.29% | LR: 0.000000017\n",
      "Epoch 262 - Train Loss: 0.002047 | Val MSE: 0.000030 | Val MAE: 0.004310 | Val R²: 0.9708 | [Boundary loss] 0.000002 | [Heaters loss] 0.000029 | [Physics loss] 1.495675 | Val Accuracy: 87.25% | LR: 0.000000017\n",
      "Epoch 263 - Train Loss: 0.002042 | Val MSE: 0.000030 | Val MAE: 0.004325 | Val R²: 0.9706 | [Boundary loss] 0.000002 | [Heaters loss] 0.000029 | [Physics loss] 1.495614 | Val Accuracy: 87.16% | LR: 0.000000017\n",
      "Epoch 264 - Train Loss: 0.002049 | Val MSE: 0.000031 | Val MAE: 0.004397 | Val R²: 0.9698 | [Boundary loss] 0.000003 | [Heaters loss] 0.000030 | [Physics loss] 1.494707 | Val Accuracy: 86.74% | LR: 0.000000017\n",
      "Epoch 265 - Train Loss: 0.002051 | Val MSE: 0.000034 | Val MAE: 0.004629 | Val R²: 0.9667 | [Boundary loss] 0.000004 | [Heaters loss] 0.000033 | [Physics loss] 1.494558 | Val Accuracy: 84.87% | LR: 0.000000017\n",
      "Epoch 266 - Train Loss: 0.002040 | Val MSE: 0.000030 | Val MAE: 0.004349 | Val R²: 0.9704 | [Boundary loss] 0.000003 | [Heaters loss] 0.000030 | [Physics loss] 1.495829 | Val Accuracy: 87.00% | LR: 0.000000017\n",
      "Epoch 267 - Train Loss: 0.002044 | Val MSE: 0.000030 | Val MAE: 0.004350 | Val R²: 0.9704 | [Boundary loss] 0.000003 | [Heaters loss] 0.000030 | [Physics loss] 1.495617 | Val Accuracy: 87.01% | LR: 0.000000017\n",
      "Epoch 268 - Train Loss: 0.002041 | Val MSE: 0.000030 | Val MAE: 0.004318 | Val R²: 0.9707 | [Boundary loss] 0.000002 | [Heaters loss] 0.000029 | [Physics loss] 1.496167 | Val Accuracy: 87.21% | LR: 0.000000017\n",
      "Epoch 269 - Train Loss: 0.002043 | Val MSE: 0.000035 | Val MAE: 0.004708 | Val R²: 0.9655 | [Boundary loss] 0.000003 | [Heaters loss] 0.000034 | [Physics loss] 1.493586 | Val Accuracy: 84.17% | LR: 0.000000017\n",
      "Epoch 270 - Train Loss: 0.002049 | Val MSE: 0.000030 | Val MAE: 0.004331 | Val R²: 0.9706 | [Boundary loss] 0.000002 | [Heaters loss] 0.000029 | [Physics loss] 1.496113 | Val Accuracy: 87.13% | LR: 0.000000017\n",
      "Epoch 271 - Train Loss: 0.002050 | Val MSE: 0.000031 | Val MAE: 0.004371 | Val R²: 0.9700 | [Boundary loss] 0.000003 | [Heaters loss] 0.000030 | [Physics loss] 1.495335 | Val Accuracy: 86.83% | LR: 0.000000017\n",
      "Epoch 272 - Train Loss: 0.002052 | Val MSE: 0.000031 | Val MAE: 0.004384 | Val R²: 0.9699 | [Boundary loss] 0.000002 | [Heaters loss] 0.000030 | [Physics loss] 1.495932 | Val Accuracy: 86.65% | LR: 0.000000017\n",
      "Epoch 273 - Train Loss: 0.002045 | Val MSE: 0.000032 | Val MAE: 0.004437 | Val R²: 0.9692 | [Boundary loss] 0.000001 | [Heaters loss] 0.000031 | [Physics loss] 1.494900 | Val Accuracy: 86.37% | LR: 0.000000017\n",
      "Epoch 274 - Train Loss: 0.002047 | Val MSE: 0.000032 | Val MAE: 0.004492 | Val R²: 0.9685 | [Boundary loss] 0.000003 | [Heaters loss] 0.000031 | [Physics loss] 1.494501 | Val Accuracy: 85.98% | LR: 0.000000017\n",
      "Epoch 275 - Train Loss: 0.002046 | Val MSE: 0.000032 | Val MAE: 0.004479 | Val R²: 0.9686 | [Boundary loss] 0.000002 | [Heaters loss] 0.000031 | [Physics loss] 1.494713 | Val Accuracy: 86.11% | LR: 0.000000017\n",
      "Epoch 276 - Train Loss: 0.002050 | Val MSE: 0.000032 | Val MAE: 0.004474 | Val R²: 0.9686 | [Boundary loss] 0.000002 | [Heaters loss] 0.000031 | [Physics loss] 1.494777 | Val Accuracy: 86.09% | LR: 0.000000017\n",
      "Epoch 277 - Train Loss: 0.002046 | Val MSE: 0.000030 | Val MAE: 0.004308 | Val R²: 0.9708 | [Boundary loss] 0.000002 | [Heaters loss] 0.000029 | [Physics loss] 1.495656 | Val Accuracy: 87.26% | LR: 0.000000017\n",
      "Epoch 278 - Train Loss: 0.002043 | Val MSE: 0.000031 | Val MAE: 0.004381 | Val R²: 0.9699 | [Boundary loss] 0.000003 | [Heaters loss] 0.000030 | [Physics loss] 1.495669 | Val Accuracy: 86.84% | LR: 0.000000017\n",
      "Epoch 279 - Train Loss: 0.002039 | Val MSE: 0.000030 | Val MAE: 0.004348 | Val R²: 0.9704 | [Boundary loss] 0.000004 | [Heaters loss] 0.000030 | [Physics loss] 1.495786 | Val Accuracy: 87.05% | LR: 0.000000017\n",
      "Epoch 280 - Train Loss: 0.002037 | Val MSE: 0.000030 | Val MAE: 0.004364 | Val R²: 0.9702 | [Boundary loss] 0.000003 | [Heaters loss] 0.000030 | [Physics loss] 1.495969 | Val Accuracy: 86.96% | LR: 0.000000017\n",
      "Epoch 281 - Train Loss: 0.002044 | Val MSE: 0.000031 | Val MAE: 0.004435 | Val R²: 0.9692 | [Boundary loss] 0.000004 | [Heaters loss] 0.000031 | [Physics loss] 1.494920 | Val Accuracy: 86.44% | LR: 0.000000017\n",
      "Epoch 282 - Train Loss: 0.002047 | Val MSE: 0.000030 | Val MAE: 0.004327 | Val R²: 0.9706 | [Boundary loss] 0.000001 | [Heaters loss] 0.000029 | [Physics loss] 1.495828 | Val Accuracy: 87.16% | LR: 0.000000017\n",
      "Epoch 283 - Train Loss: 0.002051 | Val MSE: 0.000032 | Val MAE: 0.004444 | Val R²: 0.9691 | [Boundary loss] 0.000002 | [Heaters loss] 0.000031 | [Physics loss] 1.494787 | Val Accuracy: 86.38% | LR: 0.000000017\n",
      "Epoch 284 - Train Loss: 0.002055 | Val MSE: 0.000033 | Val MAE: 0.004522 | Val R²: 0.9681 | [Boundary loss] 0.000003 | [Heaters loss] 0.000032 | [Physics loss] 1.494187 | Val Accuracy: 85.78% | LR: 0.000000017\n",
      "Epoch 285 - Train Loss: 0.002045 | Val MSE: 0.000032 | Val MAE: 0.004499 | Val R²: 0.9683 | [Boundary loss] 0.000002 | [Heaters loss] 0.000032 | [Physics loss] 1.494320 | Val Accuracy: 85.94% | LR: 0.000000017\n",
      "Epoch 286 - Train Loss: 0.002045 | Val MSE: 0.000034 | Val MAE: 0.004627 | Val R²: 0.9665 | [Boundary loss] 0.000003 | [Heaters loss] 0.000033 | [Physics loss] 1.497809 | Val Accuracy: 84.26% | LR: 0.000000017\n",
      "Epoch 287 - Train Loss: 0.002050 | Val MSE: 0.000038 | Val MAE: 0.004888 | Val R²: 0.9630 | [Boundary loss] 0.000003 | [Heaters loss] 0.000037 | [Physics loss] 1.493168 | Val Accuracy: 82.67% | LR: 0.000000017\n",
      "Epoch 288 - Train Loss: 0.002049 | Val MSE: 0.000031 | Val MAE: 0.004384 | Val R²: 0.9699 | [Boundary loss] 0.000002 | [Heaters loss] 0.000030 | [Physics loss] 1.494803 | Val Accuracy: 86.82% | LR: 0.000000017\n",
      "Epoch 289 - Train Loss: 0.002057 | Val MSE: 0.000032 | Val MAE: 0.004472 | Val R²: 0.9689 | [Boundary loss] 0.000004 | [Heaters loss] 0.000031 | [Physics loss] 1.495156 | Val Accuracy: 86.18% | LR: 0.000000017\n",
      "Epoch 290 - Train Loss: 0.002046 | Val MSE: 0.000031 | Val MAE: 0.004381 | Val R²: 0.9700 | [Boundary loss] 0.000003 | [Heaters loss] 0.000030 | [Physics loss] 1.495553 | Val Accuracy: 86.89% | LR: 0.000000017\n",
      "Epoch 291 - Train Loss: 0.002049 | Val MSE: 0.000033 | Val MAE: 0.004524 | Val R²: 0.9681 | [Boundary loss] 0.000003 | [Heaters loss] 0.000032 | [Physics loss] 1.494687 | Val Accuracy: 85.77% | LR: 0.000000017\n",
      "Epoch 292 - Train Loss: 0.002048 | Val MSE: 0.000030 | Val MAE: 0.004348 | Val R²: 0.9704 | [Boundary loss] 0.000003 | [Heaters loss] 0.000030 | [Physics loss] 1.495944 | Val Accuracy: 87.06% | LR: 0.000000017\n",
      "Epoch 293 - Train Loss: 0.002054 | Val MSE: 0.000033 | Val MAE: 0.004541 | Val R²: 0.9677 | [Boundary loss] 0.000002 | [Heaters loss] 0.000032 | [Physics loss] 1.494254 | Val Accuracy: 85.63% | LR: 0.000000017\n",
      "Epoch 294 - Train Loss: 0.002057 | Val MSE: 0.000030 | Val MAE: 0.004343 | Val R²: 0.9704 | [Boundary loss] 0.000002 | [Heaters loss] 0.000029 | [Physics loss] 1.495152 | Val Accuracy: 87.09% | LR: 0.000000017\n",
      "Epoch 295 - Train Loss: 0.002056 | Val MSE: 0.000032 | Val MAE: 0.004492 | Val R²: 0.9685 | [Boundary loss] 0.000004 | [Heaters loss] 0.000031 | [Physics loss] 1.495085 | Val Accuracy: 86.04% | LR: 0.000000017\n",
      "Epoch 296 - Train Loss: 0.002048 | Val MSE: 0.000031 | Val MAE: 0.004390 | Val R²: 0.9698 | [Boundary loss] 0.000001 | [Heaters loss] 0.000030 | [Physics loss] 1.495098 | Val Accuracy: 86.75% | LR: 0.000000017\n",
      "Epoch 297 - Train Loss: 0.002041 | Val MSE: 0.000032 | Val MAE: 0.004494 | Val R²: 0.9686 | [Boundary loss] 0.000006 | [Heaters loss] 0.000031 | [Physics loss] 1.494535 | Val Accuracy: 86.05% | LR: 0.000000017\n",
      "Epoch 298 - Train Loss: 0.002036 | Val MSE: 0.000035 | Val MAE: 0.004661 | Val R²: 0.9663 | [Boundary loss] 0.000003 | [Heaters loss] 0.000034 | [Physics loss] 1.494387 | Val Accuracy: 84.58% | LR: 0.000000017\n",
      "Epoch 299 - Train Loss: 0.002052 | Val MSE: 0.000030 | Val MAE: 0.004351 | Val R²: 0.9705 | [Boundary loss] 0.000004 | [Heaters loss] 0.000030 | [Physics loss] 1.495828 | Val Accuracy: 87.05% | LR: 0.000000017\n",
      "Epoch 300 - Train Loss: 0.002045 | Val MSE: 0.000030 | Val MAE: 0.004341 | Val R²: 0.9706 | [Boundary loss] 0.000005 | [Heaters loss] 0.000029 | [Physics loss] 1.496307 | Val Accuracy: 87.12% | LR: 0.000000017\n",
      "Epoch 301 - Train Loss: 0.002054 | Val MSE: 0.000036 | Val MAE: 0.004773 | Val R²: 0.9645 | [Boundary loss] 0.000002 | [Heaters loss] 0.000035 | [Physics loss] 1.493669 | Val Accuracy: 83.55% | LR: 0.000000017\n",
      "Epoch 302 - Train Loss: 0.002047 | Val MSE: 0.000032 | Val MAE: 0.004484 | Val R²: 0.9686 | [Boundary loss] 0.000002 | [Heaters loss] 0.000031 | [Physics loss] 1.494362 | Val Accuracy: 86.08% | LR: 0.000000017\n",
      "Epoch 303 - Train Loss: 0.002053 | Val MSE: 0.000033 | Val MAE: 0.004537 | Val R²: 0.9679 | [Boundary loss] 0.000002 | [Heaters loss] 0.000032 | [Physics loss] 1.494672 | Val Accuracy: 85.61% | LR: 0.000000017\n",
      "Epoch 304 - Train Loss: 0.002054 | Val MSE: 0.000032 | Val MAE: 0.004484 | Val R²: 0.9685 | [Boundary loss] 0.000002 | [Heaters loss] 0.000032 | [Physics loss] 1.494915 | Val Accuracy: 86.08% | LR: 0.000000017\n",
      "Epoch 305 - Train Loss: 0.002048 | Val MSE: 0.000030 | Val MAE: 0.004380 | Val R²: 0.9701 | [Boundary loss] 0.000006 | [Heaters loss] 0.000030 | [Physics loss] 1.496843 | Val Accuracy: 86.70% | LR: 0.000000017\n",
      "Epoch 306 - Train Loss: 0.002044 | Val MSE: 0.000031 | Val MAE: 0.004421 | Val R²: 0.9694 | [Boundary loss] 0.000002 | [Heaters loss] 0.000030 | [Physics loss] 1.494606 | Val Accuracy: 86.51% | LR: 0.000000017\n",
      "Epoch 307 - Train Loss: 0.002052 | Val MSE: 0.000031 | Val MAE: 0.004383 | Val R²: 0.9700 | [Boundary loss] 0.000003 | [Heaters loss] 0.000030 | [Physics loss] 1.495214 | Val Accuracy: 86.87% | LR: 0.000000017\n",
      "Epoch 308 - Train Loss: 0.002056 | Val MSE: 0.000030 | Val MAE: 0.004336 | Val R²: 0.9706 | [Boundary loss] 0.000004 | [Heaters loss] 0.000029 | [Physics loss] 1.495978 | Val Accuracy: 87.16% | LR: 0.000000017\n",
      "Epoch 309 - Train Loss: 0.002050 | Val MSE: 0.000031 | Val MAE: 0.004369 | Val R²: 0.9700 | [Boundary loss] 0.000002 | [Heaters loss] 0.000030 | [Physics loss] 1.494924 | Val Accuracy: 86.93% | LR: 0.000000017\n",
      "Epoch 310 - Train Loss: 0.002044 | Val MSE: 0.000033 | Val MAE: 0.004566 | Val R²: 0.9677 | [Boundary loss] 0.000005 | [Heaters loss] 0.000032 | [Physics loss] 1.494431 | Val Accuracy: 85.44% | LR: 0.000000017\n",
      "Epoch 311 - Train Loss: 0.002051 | Val MSE: 0.000032 | Val MAE: 0.004457 | Val R²: 0.9690 | [Boundary loss] 0.000006 | [Heaters loss] 0.000031 | [Physics loss] 1.494865 | Val Accuracy: 86.38% | LR: 0.000000017\n",
      "Epoch 312 - Train Loss: 0.002042 | Val MSE: 0.000030 | Val MAE: 0.004317 | Val R²: 0.9707 | [Boundary loss] 0.000001 | [Heaters loss] 0.000029 | [Physics loss] 1.496100 | Val Accuracy: 87.20% | LR: 0.000000017\n",
      "Epoch 313 - Train Loss: 0.002048 | Val MSE: 0.000031 | Val MAE: 0.004391 | Val R²: 0.9698 | [Boundary loss] 0.000002 | [Heaters loss] 0.000030 | [Physics loss] 1.495052 | Val Accuracy: 86.71% | LR: 0.000000017\n",
      "Epoch 314 - Train Loss: 0.002045 | Val MSE: 0.000031 | Val MAE: 0.004401 | Val R²: 0.9697 | [Boundary loss] 0.000003 | [Heaters loss] 0.000030 | [Physics loss] 1.495281 | Val Accuracy: 86.71% | LR: 0.000000017\n",
      "Epoch 315 - Train Loss: 0.002062 | Val MSE: 0.000032 | Val MAE: 0.004456 | Val R²: 0.9689 | [Boundary loss] 0.000003 | [Heaters loss] 0.000031 | [Physics loss] 1.494606 | Val Accuracy: 86.35% | LR: 0.000000017\n",
      "Epoch 316 - Train Loss: 0.002055 | Val MSE: 0.000033 | Val MAE: 0.004566 | Val R²: 0.9675 | [Boundary loss] 0.000003 | [Heaters loss] 0.000033 | [Physics loss] 1.494410 | Val Accuracy: 85.44% | LR: 0.000000017\n",
      " Early stopping triggered at epoch 315\n"
     ]
    }
   ],
   "source": [
    "# Entrenamiento\n",
    "train_losses = []\n",
    "val_losses = []\n",
    "\n",
    "early_stopper = EarlyStopping(patience=config[\"early_stop_patience\"])\n",
    "max_epochs = config[\"max_epochs\"]\n",
    "best_lr=config[\"lr\"]\n",
    "\n",
    "print(\"Iniciando entrenamiento...\")\n",
    "for epoch in range(config[\"max_epochs\"]):\n",
    "    # Entrenar\n",
    "    train_loss = train(model, train_loader, optimizer, device, norm_info, lambda_physics=config[\"lambda_physics\"],\n",
    "                       use_physics=config[\"use_physics\"], lambda_boundary=config[\"lambda_boundary\"],\n",
    "                       use_boundary_loss=config[\"use_boundary_loss\"], lambda_heater=config[\"lambda_heater\"],\n",
    "                       use_heater_loss=config[\"use_heater_loss\"])\n",
    "    train_losses.append(train_loss)\n",
    "\n",
    "    # Evaluar en validación\n",
    "    val_mse, val_mae, val_r2, val_accuracy, val_physics, val_boundary, val_heaters, val_total_loss = evaluate(\n",
    "        model, val_loader, device, norm_info, lambda_physics=config[\"lambda_physics\"],\n",
    "        use_physics=config[\"use_physics\"], lambda_boundary=config[\"lambda_boundary\"],\n",
    "        use_boundary_loss=config[\"use_boundary_loss\"], lambda_heater=config[\"lambda_heater\"],\n",
    "        use_heater_loss=config[\"use_heater_loss\"],\n",
    "        error_threshold=config[\"error_threshold_K\"],\n",
    "        percentage_threshold=config[\"percentage_threshold\"] if config[\"use_percentage_threshold\"] else None,\n",
    "        plot_results=False\n",
    "    )\n",
    "    val_losses.append(val_mse)\n",
    "\n",
    "    scheduler.step(val_mse)\n",
    "\n",
    "    # Formatear bien los losses opcionales\n",
    "    physics_loss_str = f\"{val_physics:.6f}\" if config[\"use_physics\"] else \"N/A\"\n",
    "    boundary_loss_str = f\"{val_boundary:.6f}\" if config[\"use_boundary_loss\"] else \"N/A\"\n",
    "    heaters_loss_str = f\"{val_heaters:.6f}\" if config[\"use_heater_loss\"] else \"N/A\"\n",
    "\n",
    "    # Imprimir métricas\n",
    "    print(f\"Epoch {epoch + 1} - \"\n",
    "          f\"Train Loss: {train_loss:.6f} | \"\n",
    "          f\"Val MSE: {val_mse:.6f} | \"\n",
    "          f\"Val MAE: {val_mae:.6f} | \"\n",
    "          f\"Val R²: {val_r2:.4f} | \"\n",
    "          f\"[Boundary loss] {boundary_loss_str} | \"\n",
    "          f\"[Heaters loss] {heaters_loss_str} | \"\n",
    "          f\"[Physics loss] {physics_loss_str} | \"\n",
    "          f\"Val Accuracy: {val_accuracy:.2f}% | \"\n",
    "          f\"LR: {optimizer.param_groups[0]['lr']:.9f}\")\n",
    "\n",
    "    # Guardar el mejor modelo en memoria\n",
    "    if val_total_loss < early_stopper.best_loss:\n",
    "        best_model_state = model.state_dict()\n",
    "        final_epoch = epoch + 1\n",
    "        best_lr = optimizer.param_groups[0]['lr']  # guardar lr actual\n",
    "\n",
    "    early_stopper(val_total_loss, epoch)\n",
    "    if early_stopper.early_stop:\n",
    "        print(f\" Early stopping triggered at epoch {epoch}\")\n",
    "        break\n"
   ]
  },
  {
   "cell_type": "code",
   "execution_count": 22,
   "id": "df90a2d8",
   "metadata": {},
   "outputs": [
    {
     "name": "stdout",
     "output_type": "stream",
     "text": [
      "Nombre del modelo: GCN_Layers_8_HDim_128_Epochs_216_Lr_0.000000271_B_LOSS_True_Lambda_1_H_LOSS_True_Lambda_10_PI_True_Lambda_0.001_Batch_16.pth\n"
     ]
    }
   ],
   "source": [
    "# Cargar el mejor modelo antes de guardar\n",
    "if best_model_state is not None:\n",
    "    model.load_state_dict(best_model_state)\n",
    "else:\n",
    "    print(\"Advertencia: No se ha encontrado un modelo mejor durante el entrenamiento.\")\n",
    "\n",
    "# Crear nombre de archivo con los hiperparámetros clave\n",
    "model_name = (\n",
    "    f\"GCN_Layers_{config['num_layers']}_\"\n",
    "    f\"HDim_{config['hidden_dim']}_\"\n",
    "    f\"Epochs_{final_epoch}_\"\n",
    "    f\"Lr_{best_lr:.9f}_\"\n",
    "    f\"B_LOSS_{config['use_boundary_loss']}_\"\n",
    "    f\"Lambda_{config['lambda_boundary']}_\"\n",
    "    f\"H_LOSS_{config['use_heater_loss']}_\"\n",
    "    f\"Lambda_{config['lambda_heater']}_\"\n",
    "    f\"PI_{config['use_physics']}_\"\n",
    "    f\"Lambda_{config['lambda_physics']}_\"\n",
    "    f\"Batch_{config['batch_size']}.pth\"\n",
    ")\n",
    "print(\"Nombre del modelo:\", model_name)"
   ]
  },
  {
   "cell_type": "code",
   "execution_count": 23,
   "id": "c124d154",
   "metadata": {},
   "outputs": [
    {
     "data": {
      "image/png": "[encoded data removed]",
      "text/plain": [
       "<Figure size 800x500 with 1 Axes>"
      ]
     },
     "metadata": {},
     "output_type": "display_data"
    }
   ],
   "source": [
    "# GRAFICAR MSE\n",
    "# Crear carpeta si no existe\n",
    "os.makedirs(\"LOSS_IMG\", exist_ok=True)\n",
    "loss_img_filename = model_name.replace(\".pth\", \".svg\")\n",
    "loss_img_path = os.path.join(\"LOSS_IMG\", loss_img_filename)\n",
    "\n",
    "plt.figure(figsize=(8, 5))\n",
    "plt.plot(train_losses, label='Train Loss', linewidth=2)\n",
    "plt.plot(val_losses, label='Val Loss (MSE)', linewidth=2)\n",
    "\n",
    "# Escala logarítmica en y (opcional)\n",
    "plt.yscale(\"log\")\n",
    "\n",
    "plt.xlabel('Epoch')\n",
    "plt.ylabel('MSE Loss')\n",
    "plt.title('Evolución del Loss por Época')\n",
    "plt.legend()\n",
    "plt.grid(True)\n",
    "plt.tight_layout()\n",
    "\n",
    "# Eje X con enteros\n",
    "ax = plt.gca()\n",
    "ax.xaxis.set_major_locator(ticker.MaxNLocator(integer=True))\n",
    "\n",
    "plt.savefig(loss_img_path, format=\"svg\") \n",
    "plt.show()"
   ]
  },
  {
   "cell_type": "markdown",
   "id": "a6109da7",
   "metadata": {},
   "source": [
    "### Carga de modelos ya entrenados"
   ]
  },
  {
   "cell_type": "code",
   "execution_count": null,
   "id": "285a4877",
   "metadata": {},
   "outputs": [],
   "source": [
    "if config[\"load_model\"]:\n",
    "    from dataset_utils import load_model_by_name\n",
    "\n",
    "    # Definir el modelo a cargar, los modelos guardados no guardan la arquitectura de la red\n",
    "    model = GCN(\n",
    "        input_dim=config[\"input_dim\"],\n",
    "        hidden_dim=config[\"hidden_dim\"],\n",
    "        output_dim=config[\"output_dim\"],\n",
    "        num_layers=config[\"num_layers\"],\n",
    "        use_dropout=config[\"use_dropout\"],\n",
    "        dropout_rate=config[\"dropout_rate\"],\n",
    "        use_batchnorm=config[\"use_batchnorm\"],\n",
    "        use_residual=config[\"use_residual\"]\n",
    "    ).to(device)\n",
    "\n",
    "    # Nombre exacto del archivo que quieres cargar, cambiar solo los números\n",
    "    model_filename = \"GCN_Layers_8_HDim_128_Epochs_216_Lr_0.000000271_B_LOSS_True_Lambda_1_H_LOSS_True_Lambda_10_PI_True_Lambda_0.001_Batch_16.pth\"\n",
    "\n",
    "    # Cargar modelo concreto\n",
    "    model = load_model_by_name(model, model_filename)\n",
    "    print(\"Modelo cargado:\", model_filename)\n"
   ]
  },
  {
   "cell_type": "markdown",
   "id": "847445b4",
   "metadata": {},
   "source": [
    "### Evaluación"
   ]
  },
  {
   "cell_type": "code",
   "execution_count": 25,
   "id": "fea022f7",
   "metadata": {},
   "outputs": [
    {
     "name": "stdout",
     "output_type": "stream",
     "text": [
      "Evaluando en test set con visualización de un ejemplo:\n"
     ]
    },
    {
     "data": {
      "image/png": "[encoded data removed]",
      "text/plain": [
       "<Figure size 1800x600 with 6 Axes>"
      ]
     },
     "metadata": {},
     "output_type": "display_data"
    },
    {
     "name": "stdout",
     "output_type": "stream",
     "text": [
      "Resultados del test:\n",
      "MSE       : 0.000033\n",
      "MAE       : 0.004555\n",
      "R²        : 0.9675\n",
      "Accuracy  : 85.37%\n",
      "Boundary Loss  : 0.000003\n",
      "Heaters Loss  : 0.000032\n",
      "Physics Loss  : 1.489119\n"
     ]
    }
   ],
   "source": [
    "# Evaluar en test y graficar un ejemplo\n",
    "print(\"Evaluando en test set con visualización de un ejemplo:\")\n",
    "test_mse, test_mae, test_r2, test_accuracy, test_physics, test_boundary, test_heater, test_total_loss = evaluate(\n",
    "    model, test_loader, device, norm_info, lambda_physics=config[\"lambda_physics\"],\n",
    "    use_physics=config[\"use_physics\"], lambda_boundary=config[\"lambda_boundary\"],\n",
    "    use_boundary_loss=config[\"use_boundary_loss\"], lambda_heater=config[\"lambda_heater\"],\n",
    "    use_heater_loss=config[\"use_heater_loss\"],\n",
    "    error_threshold=config[\"error_threshold_K\"],\n",
    "    percentage_threshold=config[\"percentage_threshold\"] if config[\"use_percentage_threshold\"] else None,\n",
    "    plot_results=True\n",
    ")\n",
    "\n",
    "physics_loss_str = f\"{test_physics:.6f}\" if test_physics is not None else \"N/A\"\n",
    "\n",
    "print(\"Resultados del test:\")\n",
    "print(f\"MSE       : {test_mse:.6f}\")\n",
    "print(f\"MAE       : {test_mae:.6f}\")\n",
    "print(f\"R²        : {test_r2:.4f}\")\n",
    "print(f\"Accuracy  : {test_accuracy:.2f}%\")\n",
    "print(f\"Boundary Loss  : {test_boundary:.6f}\")\n",
    "print(f\"Heaters Loss  : {test_heater:.6f}\")\n",
    "print(f\"Physics Loss  : {physics_loss_str}\")"
   ]
  },
  {
   "cell_type": "markdown",
   "id": "ddc799c2",
   "metadata": {},
   "source": [
    "### GNNExplainer"
   ]
  },
  {
   "cell_type": "code",
   "execution_count": 26,
   "id": "1c5dbbb7",
   "metadata": {},
   "outputs": [
    {
     "name": "stdout",
     "output_type": "stream",
     "text": [
      "Número de nodos: 169\n"
     ]
    },
    {
     "data": {
      "image/png": "[encoded data removed]",
      "text/plain": [
       "<Figure size 1200x500 with 4 Axes>"
      ]
     },
     "metadata": {},
     "output_type": "display_data"
    }
   ],
   "source": [
    "from torch_geometric.explain import Explainer, GNNExplainer, ModelConfig\n",
    "\n",
    "# Poner el modelo en modo evaluación\n",
    "model.eval()\n",
    "\n",
    "# Crear el explainer solo una vez\n",
    "explainer = Explainer(\n",
    "    model=model,\n",
    "    algorithm=GNNExplainer(epochs=200),\n",
    "    explanation_type='model',\n",
    "    edge_mask_type='object',\n",
    "    node_mask_type='attributes',\n",
    "    model_config=ModelConfig(\n",
    "        mode='regression',\n",
    "        task_level='node',\n",
    "        return_type='raw'\n",
    "    )\n",
    ")\n",
    "\n",
    "# ---------------- CONFIGURACIÓN ----------------\n",
    "graph_idx = 3      # <- Cambia este valor para elegir el grafo del test set\n",
    "node_idx = 69     # <- Cambia este valor para elegir el nodo a explicar\n",
    "# ------------------------------------------------\n",
    "\n",
    "# Obtener el grafo y pasarlo a GPU si es necesario\n",
    "graph = test_dataset[graph_idx].to(device)\n",
    "\n",
    "# Predecir con el modelo\n",
    "with torch.no_grad():\n",
    "    pred = model(graph.x, graph.edge_index).squeeze()\n",
    "true = graph.y.squeeze()\n",
    "error = torch.abs(pred - true)\n",
    "\n",
    "# Obtener explicación\n",
    "explanation = explainer(\n",
    "    x=graph.x,\n",
    "    edge_index=graph.edge_index,\n",
    "    index=node_idx\n",
    ")\n",
    "\n",
    "# Obtener importancia del explainer y agrupar por nodo\n",
    "importance = explanation.node_mask.squeeze().cpu()      # Así obtenemos las features por nodo\n",
    "importance = importance.view(-1, 3)                     # Cambiamos a un tensor que pueda ser interpretado como [num_nodes, num_features]\n",
    "importance_per_node = importance.mean(dim=1)            # [num_nodes] Hacemos la media de la importancia de las 3 características en la predicción\n",
    "\n",
    "# Obtener tamaño cuadrícula real del dataset\n",
    "num_nodes = graph.y.numel()\n",
    "print(\"Número de nodos:\", num_nodes)\n",
    "grid_size = int(num_nodes ** 0.5)\n",
    "assert grid_size ** 2 == num_nodes, f\"El número de nodos ({num_nodes}) no coincide con cuadrícula {grid_size}x{grid_size}\"\n",
    "\n",
    "# Convertir vectores a cuadrícula\n",
    "importance_grid = importance_per_node.view(grid_size, grid_size)\n",
    "error_grid = error.view(grid_size, grid_size).cpu()\n",
    "\n",
    "# Visualización\n",
    "fig, axs = plt.subplots(1, 2, figsize=(12, 5))\n",
    "\n",
    "im1 = axs[0].imshow(importance_grid, cmap='hot')\n",
    "# Coordenadas del nodo que estás explicando\n",
    "row = node_idx // grid_size\n",
    "col = node_idx % grid_size\n",
    "\n",
    "# Dibujar un punto rojo en la celda correspondiente\n",
    "axs[0].plot(col, row, 'o', markersize=10, markeredgecolor='black', markerfacecolor='cyan', label='Nodo explicado')\n",
    "axs[0].legend(loc='upper right')\n",
    "\n",
    "axs[0].set_title(f\"Importancia (nodo {node_idx})\")\n",
    "plt.colorbar(im1, ax=axs[0])\n",
    "\n",
    "im2 = axs[1].imshow(error_grid, cmap='Blues')\n",
    "# Número de nodos a etiquetar\n",
    "top_n = 5  # \"n\" nodos de mayor error a mostrar\n",
    "\n",
    "# Obtener los índices de los nodos con mayor error\n",
    "top_error_nodes = torch.topk(error, top_n).indices.cpu()\n",
    "\n",
    "for idx in top_error_nodes:\n",
    "    idx = idx.item()\n",
    "    row = idx // grid_size\n",
    "    col = idx % grid_size\n",
    "    axs[1].text(\n",
    "        col, row, str(idx),\n",
    "        ha='center', va='center',\n",
    "        fontsize=8, fontweight='bold',\n",
    "        color='black', bbox=dict(boxstyle='round,pad=0.2', facecolor='white', edgecolor='none', alpha=0.7)\n",
    "    )\n",
    "axs[1].set_title(\"Error absoluto por nodo\")\n",
    "plt.colorbar(im2, ax=axs[1])\n",
    "\n",
    "plt.suptitle(f\"Grafo {graph_idx} | Nodo {node_idx} explicado\")\n",
    "plt.tight_layout()\n",
    "plt.show()"
   ]
  },
  {
   "cell_type": "markdown",
   "id": "5e194f71",
   "metadata": {},
   "source": [
    "### Guardado del modelo ya entrenado"
   ]
  },
  {
   "cell_type": "code",
   "execution_count": 27,
   "id": "cf2a4c5f",
   "metadata": {},
   "outputs": [
    {
     "name": "stdout",
     "output_type": "stream",
     "text": [
      " Modelo guardado en: saved_models\\GCN_Layers_8_HDim_128_Epochs_216_Lr_0.000000271_B_LOSS_True_Lambda_1_H_LOSS_True_Lambda_10_PI_True_Lambda_0.001_Batch_16.pth\n"
     ]
    }
   ],
   "source": [
    "# Crear carpeta si no existe\n",
    "save_dir = \"saved_models\"\n",
    "os.makedirs(save_dir, exist_ok=True)\n",
    "\n",
    "# Guardar el modelo\n",
    "model_path = os.path.join(save_dir, model_name)\n",
    "if config[\"save_model\"]:\n",
    "    # Guardar el modelo entrenado\n",
    "    torch.save(model.state_dict(), model_path)\n",
    "\n",
    "    print(f\" Modelo guardado en: {model_path}\")"
   ]
  },
  {
   "cell_type": "markdown",
   "id": "368d2128",
   "metadata": {},
   "source": [
    "### Predicción"
   ]
  },
  {
   "cell_type": "code",
   "execution_count": 28,
   "id": "dc8b9e14",
   "metadata": {},
   "outputs": [
    {
     "ename": "SyntaxError",
     "evalue": "invalid syntax (985569303.py, line 1)",
     "output_type": "error",
     "traceback": [
      "\u001b[1;36m  Cell \u001b[1;32mIn[28], line 1\u001b[1;36m\u001b[0m\n\u001b[1;33m    fr train_eval import predict\u001b[0m\n\u001b[1;37m       ^\u001b[0m\n\u001b[1;31mSyntaxError\u001b[0m\u001b[1;31m:\u001b[0m invalid syntax\n"
     ]
    }
   ],
   "source": [
    "\n",
    "fr train_eval import predict\n",
    "from dataset_utils import load_latest_model\n",
    "# Cargar el modelo más reciente\n",
    "model = GCN(\n",
    "    input_dim=config[\"input_dim\"],\n",
    "    hidden_dim=config[\"hidden_dim\"],\n",
    "    output_dim=config[\"output_dim\"],\n",
    "    num_layers=config[\"num_layers\"],\n",
    "    use_dropout=config[\"use_dropout\"],\n",
    "    dropout_rate=config[\"dropout_rate\"],\n",
    "    use_batchnorm=config[\"use_batchnorm\"],\n",
    "    use_residual=config[\"use_residual\"]\n",
    ")\n",
    "\n",
    "model = load_latest_model(model)\n",
    "\n",
    "# Predecir sobre test\n",
    "predicciones = predict(model, test_loader, device, norm_info)\n",
    "\n",
    "print(\"Predicciones shape:\", predicciones.shape)"
   ]
  }
 ],
 "metadata": {
  "kernelspec": {
   "display_name": "base",
   "language": "python",
   "name": "python3"
  },
  "language_info": {
   "codemirror_mode": {
    "name": "ipython",
    "version": 3
   },
   "file_extension": ".py",
   "mimetype": "text/x-python",
   "name": "python",
   "nbconvert_exporter": "python",
   "pygments_lexer": "ipython3",
   "version": "3.12.9"
  }
 },
 "nbformat": 4,
 "nbformat_minor": 5
}
