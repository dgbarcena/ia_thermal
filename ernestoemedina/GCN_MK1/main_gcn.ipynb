{
 "cells": [
  {
   "cell_type": "markdown",
   "id": "f6519f31",
   "metadata": {},
   "source": [
    "# Librerías"
   ]
  },
  {
   "cell_type": "code",
   "execution_count": 1,
   "id": "f27a23e4",
   "metadata": {},
   "outputs": [],
   "source": [
    "import torch\n",
    "import matplotlib.pyplot as plt\n",
    "import matplotlib.ticker as ticker\n",
    "import os\n",
    "import numpy as np\n",
    "import time\n",
    "import platform\n",
    "import random\n",
    "from torch.optim.lr_scheduler import ReduceLROnPlateau\n",
    "from gcn_model import GCN\n",
    "from torch_geometric.loader import DataLoader\n",
    "from dataset_utils import generate_edge_index, build_graph_list, build_graph_from_sample\n",
    "from train_eval import train, evaluate, EarlyStopping"
   ]
  },
  {
   "cell_type": "code",
   "execution_count": 2,
   "id": "170d8493",
   "metadata": {},
   "outputs": [
    {
     "name": "stdout",
     "output_type": "stream",
     "text": [
      "Using device: cuda\n"
     ]
    }
   ],
   "source": [
    "# Device configuration\n",
    "device = torch.device('cuda' if torch.cuda.is_available() else 'cpu')\n",
    "print('Using device:', device)"
   ]
  },
  {
   "cell_type": "code",
   "execution_count": 3,
   "id": "1fbe6b92",
   "metadata": {},
   "outputs": [
    {
     "name": "stdout",
     "output_type": "stream",
     "text": [
      "system_specs {'os': 'Windows', 'os_version': '10.0.22000', 'machine': 'AMD64', 'processor': 'Intel64 Family 6 Model 158 Stepping 10, GenuineIntel', 'python_version': '3.12.9', 'device': 'cuda', 'gpu_name': 'NVIDIA GeForce RTX 2060', 'gpu_memory_total_GB': 6.0, 'cuda_version': '12.1'}\n"
     ]
    }
   ],
   "source": [
    "# Propiedades del sistema\n",
    "system_specs = {\n",
    "    \"os\": platform.system(),  # e.g. \"Linux\", \"Windows\", \"Darwin\"\n",
    "    \"os_version\": platform.version(),\n",
    "    \"machine\": platform.machine(),  # e.g. \"x86_64\"\n",
    "    \"processor\": platform.processor(),  # e.g. \"Intel64 Family 6 Model 158\"\n",
    "    \"python_version\": platform.python_version(),\n",
    "    \"device\": str(device)\n",
    "}\n",
    "if torch.cuda.is_available():\n",
    "    system_specs[\"gpu_name\"] = torch.cuda.get_device_name(0)\n",
    "    system_specs[\"gpu_memory_total_GB\"] = round(torch.cuda.get_device_properties(0).total_memory / (1024**3), 2)\n",
    "    system_specs[\"cuda_version\"] = torch.version.cuda\n",
    "    print(\"system_specs\", system_specs)\n"
   ]
  },
  {
   "cell_type": "code",
   "execution_count": 4,
   "id": "b9ddd377",
   "metadata": {},
   "outputs": [
    {
     "name": "stdout",
     "output_type": "stream",
     "text": [
      "c:\\Users\\ramse\\Escritorio\\Aero Ordenador\\4to Aero\\2do Cuatri\\ia_thermal\\ernestoemedina\\GCN_MK1\n"
     ]
    }
   ],
   "source": [
    "dir_path = os.getcwd()\n",
    "print(dir_path)"
   ]
  },
  {
   "cell_type": "code",
   "execution_count": 5,
   "id": "0ba6b3d9",
   "metadata": {},
   "outputs": [
    {
     "name": "stderr",
     "output_type": "stream",
     "text": [
      "C:\\Users\\ramse\\AppData\\Local\\Temp\\ipykernel_13964\\1864307277.py:7: FutureWarning: You are using `torch.load` with `weights_only=False` (the current default value), which uses the default pickle module implicitly. It is possible to construct malicious pickle data which will execute arbitrary code during unpickling (See https://github.com/pytorch/pytorch/blob/main/SECURITY.md#untrusted-models for more details). In a future release, the default value for `weights_only` will be flipped to `True`. This limits the functions that could be executed during unpickling. Arbitrary objects will no longer be allowed to be loaded via this mode unless they are explicitly allowlisted by the user via `torch.serialization.add_safe_globals`. We recommend you start setting `weights_only=True` for any use case where you don't have full control of the loaded file. Please open an issue on GitHub for any issues related to this experimental feature.\n",
      "  dataset = torch.load(dataset_path)\n",
      "C:\\Users\\ramse\\AppData\\Local\\Temp\\ipykernel_13964\\1864307277.py:8: FutureWarning: You are using `torch.load` with `weights_only=False` (the current default value), which uses the default pickle module implicitly. It is possible to construct malicious pickle data which will execute arbitrary code during unpickling (See https://github.com/pytorch/pytorch/blob/main/SECURITY.md#untrusted-models for more details). In a future release, the default value for `weights_only` will be flipped to `True`. This limits the functions that could be executed during unpickling. Arbitrary objects will no longer be allowed to be loaded via this mode unless they are explicitly allowlisted by the user via `torch.serialization.add_safe_globals`. We recommend you start setting `weights_only=True` for any use case where you don't have full control of the loaded file. Please open an issue on GitHub for any issues related to this experimental feature.\n",
      "  norm_dataset = torch.load(norm_dataset_path)\n",
      "C:\\Users\\ramse\\AppData\\Local\\Temp\\ipykernel_13964\\1864307277.py:9: FutureWarning: You are using `torch.load` with `weights_only=False` (the current default value), which uses the default pickle module implicitly. It is possible to construct malicious pickle data which will execute arbitrary code during unpickling (See https://github.com/pytorch/pytorch/blob/main/SECURITY.md#untrusted-models for more details). In a future release, the default value for `weights_only` will be flipped to `True`. This limits the functions that could be executed during unpickling. Arbitrary objects will no longer be allowed to be loaded via this mode unless they are explicitly allowlisted by the user via `torch.serialization.add_safe_globals`. We recommend you start setting `weights_only=True` for any use case where you don't have full control of the loaded file. Please open an issue on GitHub for any issues related to this experimental feature.\n",
      "  norm_info = torch.load(info_path)\n"
     ]
    }
   ],
   "source": [
    "# Ruta del dataset completo\n",
    "dataset_path = os.path.join(dir_path, \"Datasets\", \"PCB_dataset.pth\")\n",
    "norm_dataset_path = os.path.join(dir_path, \"Datasets\", \"PCB_Dataset_Norm.pth\")\n",
    "info_path = os.path.join(dir_path, \"Datasets\", \"normalization_info.pth\")\n",
    "\n",
    "# Cargar dataset\n",
    "dataset = torch.load(dataset_path)\n",
    "norm_dataset = torch.load(norm_dataset_path)\n",
    "norm_info = torch.load(info_path)"
   ]
  },
  {
   "cell_type": "markdown",
   "id": "d2fbec94",
   "metadata": {},
   "source": [
    "## Para desnormalizar"
   ]
  },
  {
   "cell_type": "code",
   "execution_count": 6,
   "id": "e1c54c1f",
   "metadata": {},
   "outputs": [
    {
     "name": "stdout",
     "output_type": "stream",
     "text": [
      "max_T_output tensor(364.9723)\n"
     ]
    }
   ],
   "source": [
    "max_T_interfaces = norm_info[\"max_T_interfaces\"]\n",
    "max_Q_heaters = norm_info[\"max_Q_heaters\"]\n",
    "max_T_env = norm_info[\"max_T_env\"]\n",
    "max_T_outputs = norm_info[\"max_T_outputs\"]\n",
    "print(\"max_T_output\", max_T_outputs)\n",
    "\n",
    "def desnormalize_inputs(dataset_norm, idx):\n",
    "    T_interfaces_norm = dataset_norm.T_interfaces[idx]\n",
    "    Q_heaters_norm = dataset_norm.Q_heaters[idx]\n",
    "    T_env_norm = dataset_norm.T_env[idx]\n",
    "    \n",
    "    T_interfaces_real = T_interfaces_norm * max_T_interfaces\n",
    "    Q_heaters_real = Q_heaters_norm * max_Q_heaters\n",
    "    T_env_real = T_env_norm * max_T_env\n",
    "    \n",
    "    return T_interfaces_real, Q_heaters_real, T_env_real"
   ]
  },
  {
   "cell_type": "code",
   "execution_count": 7,
   "id": "d9878b37",
   "metadata": {},
   "outputs": [
    {
     "name": "stdout",
     "output_type": "stream",
     "text": [
      "tensor(307.6863) K\n",
      "tensor(0.8122) W\n",
      "tensor(276.9086) K\n"
     ]
    }
   ],
   "source": [
    "idx = 1\n",
    "T_interfaces_real, Q_heaters_real, T_env_real = desnormalize_inputs(norm_dataset, idx)\n",
    "\n",
    "# Por ejemplo:\n",
    "print(torch.max(T_interfaces_real), \"K\")\n",
    "print(torch.max(Q_heaters_real), \"W\")\n",
    "print(torch.max(T_env_real), \"K\")\n"
   ]
  },
  {
   "cell_type": "code",
   "execution_count": 8,
   "id": "dff0e0b3",
   "metadata": {},
   "outputs": [
    {
     "name": "stdout",
     "output_type": "stream",
     "text": [
      "torch.Size([30000, 13, 13])\n",
      "tensor(307.6863) K\n",
      "tensor(0.8122) W\n",
      "tensor(276.9086) K\n"
     ]
    }
   ],
   "source": [
    "# Seleccionar un índice para graficar\n",
    "idx = 1  # Puedes cambiar este valor\n",
    "\n",
    "# Obtener los valores reales de las CC en T, Q y T_env\n",
    "T_interfaces_real = dataset.denormalize_T_interfaces(dataset.T_interfaces)\n",
    "Q_heaters_real = dataset.denormalize_Q_heaters(dataset.Q_heaters)\n",
    "T_env_real = dataset.denormalize_T_env(dataset.T_env)\n",
    "\n",
    "print(T_interfaces_real.shape)\n",
    "print(torch.max(T_interfaces_real[idx]), \"K\")\n",
    "print(torch.max(Q_heaters_real[idx]), \"W\")\n",
    "print(torch.max(T_env_real[idx]), \"K\")\n"
   ]
  },
  {
   "cell_type": "code",
   "execution_count": 9,
   "id": "bfc34ac6",
   "metadata": {},
   "outputs": [],
   "source": [
    "idx = 10\n",
    "T_interfaces_norm = norm_dataset.T_interfaces[idx]\n",
    "Q_heaters_norm = norm_dataset.Q_heaters[idx]\n",
    "T_env_norm = norm_dataset.T_env[idx]"
   ]
  },
  {
   "cell_type": "code",
   "execution_count": 10,
   "id": "5de920d4",
   "metadata": {},
   "outputs": [
    {
     "data": {
      "image/png": "[encoded data removed]",
      "text/plain": [
       "<Figure size 1500x500 with 6 Axes>"
      ]
     },
     "metadata": {},
     "output_type": "display_data"
    }
   ],
   "source": [
    "# Crear figura para mostrar las 3 variables\n",
    "fig, axs = plt.subplots(1, 3, figsize=(15, 5))\n",
    "im1 = axs[0].imshow(T_interfaces_norm.numpy(), cmap='hot')\n",
    "axs[0].set_title(\"T_interfaces_norm [0–1]\")\n",
    "plt.colorbar(im1, ax=axs[0])\n",
    "\n",
    "im2 = axs[1].imshow(Q_heaters_norm.numpy(), cmap='hot')\n",
    "axs[1].set_title(\"Q_heaters_norm [0–1]\")\n",
    "plt.colorbar(im2, ax=axs[1])\n",
    "\n",
    "im3 = axs[2].imshow(T_env_norm.numpy(), cmap='hot')\n",
    "axs[2].set_title(\"T_env_norm [0–1]\")\n",
    "plt.colorbar(im3, ax=axs[2])\n",
    "\n",
    "plt.suptitle(f\"Entrada del dataset  idx = {idx}\")\n",
    "plt.tight_layout()\n",
    "plt.show()"
   ]
  },
  {
   "cell_type": "markdown",
   "id": "d65f0f56",
   "metadata": {},
   "source": [
    "## GCN"
   ]
  },
  {
   "cell_type": "markdown",
   "id": "356807ba",
   "metadata": {},
   "source": [
    "### Configuración de la red"
   ]
  },
  {
   "cell_type": "code",
   "execution_count": null,
   "id": "6111d86f",
   "metadata": {},
   "outputs": [],
   "source": [
    "# Configuración del modelo\n",
    "config = {\n",
    "    \"input_dim\": 3,           # 3 canales: T_interfaces, Q_heaters, T_env\n",
    "    \"hidden_dim\": 32,\n",
    "    \"output_dim\": 1,\n",
    "    \"num_layers\": 7,\n",
    "    \"use_dropout\": True,\n",
    "    \"dropout_rate\": 0.11429794456074495,\n",
    "    \"use_batchnorm\": True,\n",
    "    \"use_residual\": True,\n",
    "    \"batch_size\": 16,\n",
    "    \"lr\": 0.006793937271542201,\n",
    "    \"max_epochs\": 10000,\n",
    "    \"early_stop_patience\": 100,\n",
    "    \"error_threshold_K\": 3.0,\n",
    "    \"use_percentage_threshold\": False,\n",
    "    \"percentage_threshold\": 1.0,  # solo si se activa la opción\n",
    "    \"save_model\": True,\n",
    "    \"load_model\": False, # Cargar un modelo preentrenado\n",
    "    \"factor\" : 0.5 , # Factor de reducción del learning rate\n",
    "    \"patience\" : 10 , # Épocas sin mejora para reducir el learning rate\n",
    "    \"min_lr\" : 1e-9,  # evita que baje infinitamente el learning rate\n",
    "    \"use_physics\" : True,\n",
    "    \"lambda_physics\" : 0.001, # Peso de la física en la función de pérdida\n",
    "    \"use_boundary_loss\" : True,\n",
    "    \"lambda_boundary\" : 1.0,\n",
    "    \"use_heater_loss\" : True,\n",
    "    \"lambda_heater\" : 10.0\n",
    "}"
   ]
  },
  {
   "cell_type": "code",
   "execution_count": 12,
   "id": "eb322f50",
   "metadata": {},
   "outputs": [
    {
     "name": "stdout",
     "output_type": "stream",
     "text": [
      "PCB cuadrada de 13 nodos por lado\n"
     ]
    }
   ],
   "source": [
    "grid_size = norm_dataset.inputs.shape[-1]\n",
    "print(\"PCB cuadrada de\", grid_size, \"nodos por lado\")\n",
    "edge_index = generate_edge_index(grid_size=grid_size) # Matriz de adyacencia bidireccional\n",
    "graphs = build_graph_list(norm_dataset, edge_index)"
   ]
  },
  {
   "cell_type": "code",
   "execution_count": 13,
   "id": "00e10985",
   "metadata": {},
   "outputs": [],
   "source": [
    "# Por si en algún momento el Dataset tuviera un patrón al ser generado\n",
    "random.seed(42)\n",
    "random.shuffle(graphs)"
   ]
  },
  {
   "cell_type": "code",
   "execution_count": 14,
   "id": "f759d218",
   "metadata": {},
   "outputs": [
    {
     "name": "stdout",
     "output_type": "stream",
     "text": [
      "Mean of outputs: 0.8287\n",
      "Std of outputs:  0.0338\n",
      "Atributo .T_outputs_mean: 0.0000\n",
      "Atributo .T_outputs_std:  1.0000\n"
     ]
    }
   ],
   "source": [
    "\n",
    "# Ruta al dataset normalizado\n",
    "\n",
    "# Extraer un tensor de salida\n",
    "sample_output = norm_dataset.outputs[0]\n",
    "\n",
    "# Imprimir estadísticas globales de outputs\n",
    "all_outputs = norm_dataset.outputs.view(-1)\n",
    "print(f\"Mean of outputs: {all_outputs.mean().item():.4f}\")\n",
    "print(f\"Std of outputs:  {all_outputs.std().item():.4f}\")\n",
    "\n",
    "# También desde los atributos si están disponibles\n",
    "if hasattr(norm_dataset, \"T_outputs_mean\"):\n",
    "    print(f\"Atributo .T_outputs_mean: {norm_dataset.T_outputs_mean.item():.4f}\")\n",
    "    print(f\"Atributo .T_outputs_std:  {norm_dataset.T_outputs_std.item():.4f}\")\n"
   ]
  },
  {
   "cell_type": "markdown",
   "id": "e7fd356b",
   "metadata": {},
   "source": [
    "### Evolución del error vs. Tamaño del Dataset"
   ]
  },
  {
   "cell_type": "code",
   "execution_count": 15,
   "id": "3e1815a1",
   "metadata": {},
   "outputs": [
    {
     "data": {
      "text/plain": [
       "' import numpy as np\\n# Tamaños logarítmicos entre 10² y 10⁵\\ndataset_sizes = np.logspace(2, 5, num=10, dtype=int)  # de 100 a 100000 en escala logarítmica\\ndataset_sizes = np.unique(dataset_sizes)  # eliminar duplicados por redondeo\\n\\ntrain_losses_vs_size, train_rmse_real = [], []\\n\\nprint(\"Explorando influencia del tamaño del dataset en train_loss (log scale)...\\n\")\\n\\nfor size in dataset_sizes:\\n    if size > len(graphs):\\n        print(f\"Saltando tamaño {size}: excede el tamaño actual del dataset ({len(graphs)} muestras)\")\\n        continue\\n\\n    print(f\"\\nEntrenando con {size} muestras...\")\\n\\n    subset = random.sample(graphs, size)\\n    #subset = graphs[:size]\\n    split_idx = int(0.9 * len(subset))\\n    train_dataset = subset[:split_idx]\\n    val_dataset = subset[split_idx:]\\n\\n    train_loader = DataLoader(train_dataset, batch_size=config[\"batch_size\"], shuffle=True)\\n    val_loader = DataLoader(val_dataset, batch_size=config[\"batch_size\"], shuffle=False)\\n\\n    model = GCN(\\n        input_dim=config[\"input_dim\"],\\n        hidden_dim=config[\"hidden_dim\"],\\n        output_dim=config[\"output_dim\"],\\n        num_layers=config[\"num_layers\"],\\n        use_dropout=config[\"use_dropout\"],\\n        dropout_rate=config[\"dropout_rate\"],\\n        use_batchnorm=config[\"use_batchnorm\"],\\n        use_residual=config[\"use_residual\"]\\n    ).to(device)\\n    optimizer = torch.optim.Adam(model.parameters(), lr=config[\"lr\"])\\n\\n    max_epochs = 100\\n    train_losses = []\\n    for epoch in range(max_epochs):\\n        train_loss = train(\\n            model, train_loader, optimizer, device, norm_info,\\n            use_physics=config[\"use_physics\"], lambda_physics=config[\"lambda_physics\"],\\n            use_boundary_loss=config[\"use_boundary_loss\"], lambda_boundary=config[\"lambda_boundary\"],\\n            use_heater_loss=config[\"use_heater_loss\"], lambda_heater=config[\"lambda_heater\"]\\n        )\\n        train_losses.append(train_loss)\\n\\n    final_train_loss = train_losses[-1]\\n    train_losses_vs_size.append(final_train_loss)\\n    \\n    max_T = norm_info[\"max_T_interfaces\"]\\n    train_rmse_real.append((final_train_loss**0.5)*max_T)\\n    \\n    print(f\"Train loss con {size} muestras: {final_train_loss:.6f} | RMSE real: {train_rmse_real[-1]:.6f} K\")\\n '"
      ]
     },
     "execution_count": 15,
     "metadata": {},
     "output_type": "execute_result"
    }
   ],
   "source": [
    "\"\"\" import numpy as np\n",
    "# Tamaños logarítmicos entre 10² y 10⁵\n",
    "dataset_sizes = np.logspace(2, 5, num=10, dtype=int)  # de 100 a 100000 en escala logarítmica\n",
    "dataset_sizes = np.unique(dataset_sizes)  # eliminar duplicados por redondeo\n",
    "\n",
    "train_losses_vs_size, train_rmse_real = [], []\n",
    "\n",
    "print(\"Explorando influencia del tamaño del dataset en train_loss (log scale)...\\n\")\n",
    "\n",
    "for size in dataset_sizes:\n",
    "    if size > len(graphs):\n",
    "        print(f\"Saltando tamaño {size}: excede el tamaño actual del dataset ({len(graphs)} muestras)\")\n",
    "        continue\n",
    "\n",
    "    print(f\"\\nEntrenando con {size} muestras...\")\n",
    "\n",
    "    subset = random.sample(graphs, size)\n",
    "    #subset = graphs[:size]\n",
    "    split_idx = int(0.9 * len(subset))\n",
    "    train_dataset = subset[:split_idx]\n",
    "    val_dataset = subset[split_idx:]\n",
    "\n",
    "    train_loader = DataLoader(train_dataset, batch_size=config[\"batch_size\"], shuffle=True)\n",
    "    val_loader = DataLoader(val_dataset, batch_size=config[\"batch_size\"], shuffle=False)\n",
    "\n",
    "    model = GCN(\n",
    "        input_dim=config[\"input_dim\"],\n",
    "        hidden_dim=config[\"hidden_dim\"],\n",
    "        output_dim=config[\"output_dim\"],\n",
    "        num_layers=config[\"num_layers\"],\n",
    "        use_dropout=config[\"use_dropout\"],\n",
    "        dropout_rate=config[\"dropout_rate\"],\n",
    "        use_batchnorm=config[\"use_batchnorm\"],\n",
    "        use_residual=config[\"use_residual\"]\n",
    "    ).to(device)\n",
    "    optimizer = torch.optim.Adam(model.parameters(), lr=config[\"lr\"])\n",
    "\n",
    "    max_epochs = 100\n",
    "    train_losses = []\n",
    "    for epoch in range(max_epochs):\n",
    "        train_loss = train(\n",
    "            model, train_loader, optimizer, device, norm_info,\n",
    "            use_physics=config[\"use_physics\"], lambda_physics=config[\"lambda_physics\"],\n",
    "            use_boundary_loss=config[\"use_boundary_loss\"], lambda_boundary=config[\"lambda_boundary\"],\n",
    "            use_heater_loss=config[\"use_heater_loss\"], lambda_heater=config[\"lambda_heater\"]\n",
    "        )\n",
    "        train_losses.append(train_loss)\n",
    "\n",
    "    final_train_loss = train_losses[-1]\n",
    "    train_losses_vs_size.append(final_train_loss)\n",
    "    \n",
    "    max_T = norm_info[\"max_T_interfaces\"]\n",
    "    train_rmse_real.append((final_train_loss**0.5)*max_T)\n",
    "    \n",
    "    print(f\"Train loss con {size} muestras: {final_train_loss:.6f} | RMSE real: {train_rmse_real[-1]:.6f} K\")\n",
    " \"\"\""
   ]
  },
  {
   "cell_type": "code",
   "execution_count": 16,
   "id": "ff169bbf",
   "metadata": {},
   "outputs": [
    {
     "data": {
      "text/plain": [
       "' # Gráfica 1: train_loss normalizado\\nplt.figure(figsize=(10, 5))\\nplt.plot(dataset_sizes[:len(train_losses_vs_size)], train_losses_vs_size, marker=\\'o\\')\\nplt.xscale(\\'log\\')\\nplt.xlabel(\\'Tamaño del dataset de entrenamiento (log scale)\\')\\nplt.ylabel(\\'Pérdida de entrenamiento final (train_loss)\\')\\nplt.title(\\'Influencia del tamaño del dataset en train_loss\\')\\nplt.grid(True, which=\"both\", ls=\"--\")\\nplt.tight_layout()\\nplt.show()\\n\\n# Gráfica 2: train_loss desnormalizado (RMSE real)\\nplt.figure(figsize=(10, 5))\\nplt.plot(dataset_sizes[3:], train_rmse_real[3:], marker=\\'o\\')\\nplt.xscale(\\'log\\')\\nplt.xlabel(\\'Tamaño del dataset (log scale)\\')\\nplt.ylabel(\\'Error RMSE en Kelvin\\')\\nplt.title(\\'Error de entrenamiento en escala real (RMSE en K)\\')\\nplt.grid(True, which=\"both\", ls=\"--\")\\nplt.tight_layout()\\nplt.show() '"
      ]
     },
     "execution_count": 16,
     "metadata": {},
     "output_type": "execute_result"
    }
   ],
   "source": [
    "\"\"\" # Gráfica 1: train_loss normalizado\n",
    "plt.figure(figsize=(10, 5))\n",
    "plt.plot(dataset_sizes[:len(train_losses_vs_size)], train_losses_vs_size, marker='o')\n",
    "plt.xscale('log')\n",
    "plt.xlabel('Tamaño del dataset de entrenamiento (log scale)')\n",
    "plt.ylabel('Pérdida de entrenamiento final (train_loss)')\n",
    "plt.title('Influencia del tamaño del dataset en train_loss')\n",
    "plt.grid(True, which=\"both\", ls=\"--\")\n",
    "plt.tight_layout()\n",
    "plt.show()\n",
    "\n",
    "# Gráfica 2: train_loss desnormalizado (RMSE real)\n",
    "plt.figure(figsize=(10, 5))\n",
    "plt.plot(dataset_sizes[3:], train_rmse_real[3:], marker='o')\n",
    "plt.xscale('log')\n",
    "plt.xlabel('Tamaño del dataset (log scale)')\n",
    "plt.ylabel('Error RMSE en Kelvin')\n",
    "plt.title('Error de entrenamiento en escala real (RMSE en K)')\n",
    "plt.grid(True, which=\"both\", ls=\"--\")\n",
    "plt.tight_layout()\n",
    "plt.show() \"\"\"\n"
   ]
  },
  {
   "cell_type": "markdown",
   "id": "0ee6ec01",
   "metadata": {},
   "source": [
    "### División Dataset"
   ]
  },
  {
   "cell_type": "code",
   "execution_count": 17,
   "id": "3237d032",
   "metadata": {},
   "outputs": [],
   "source": [
    "# División del dataset\n",
    "train_size = int(0.8 * len(graphs))\n",
    "val_size = int(0.1 * len(graphs))\n",
    "test_size = len(graphs) - train_size - val_size\n",
    "\n",
    "train_dataset = graphs[:train_size]\n",
    "val_dataset = graphs[train_size:train_size + val_size]\n",
    "test_dataset = graphs[train_size + val_size:]\n",
    "\n",
    "# Crear DataLoaders\n",
    "batch_size = config[\"batch_size\"]\n",
    "train_loader = DataLoader(train_dataset, batch_size=batch_size, shuffle=True)\n",
    "val_loader = DataLoader(val_dataset, batch_size=batch_size, shuffle=False)\n",
    "test_loader = DataLoader(test_dataset, batch_size=batch_size, shuffle=False)"
   ]
  },
  {
   "cell_type": "code",
   "execution_count": 18,
   "id": "fd616c7f",
   "metadata": {},
   "outputs": [
    {
     "name": "stdout",
     "output_type": "stream",
     "text": [
      "Número total de parámetros entrenables: 5825\n"
     ]
    },
    {
     "name": "stderr",
     "output_type": "stream",
     "text": [
      "c:\\Users\\ramse\\anaconda3\\Lib\\site-packages\\torch\\optim\\lr_scheduler.py:62: UserWarning: The verbose parameter is deprecated. Please use get_last_lr() to access the learning rate.\n",
      "  warnings.warn(\n"
     ]
    }
   ],
   "source": [
    "model = GCN(\n",
    "    input_dim=config[\"input_dim\"],\n",
    "    hidden_dim=config[\"hidden_dim\"],\n",
    "    output_dim=config[\"output_dim\"],\n",
    "    num_layers=config[\"num_layers\"],\n",
    "    use_dropout=config[\"use_dropout\"],\n",
    "    dropout_rate=config[\"dropout_rate\"],\n",
    "    use_batchnorm=config[\"use_batchnorm\"],\n",
    "    use_residual=config[\"use_residual\"]\n",
    ").to(device)\n",
    "\n",
    "num_params = sum(p.numel() for p in model.parameters() if p.requires_grad)\n",
    "print(f\"Número total de parámetros entrenables: {num_params}\")\n",
    "\n",
    "optimizer = torch.optim.Adam(model.parameters(), lr=config[\"lr\"])\n",
    "scheduler = ReduceLROnPlateau(\n",
    "    optimizer,\n",
    "    mode='min',            # queremos minimizar el val_loss\n",
    "    factor=config[\"factor\"],            # reduce a la mitad el LR\n",
    "    patience=config[\"patience\"],           # espera 10 épocas sin mejora\n",
    "    verbose=True,          # imprime info cuando reduce\n",
    "    min_lr=config[\"min_lr\"]            # evita que baje infinitamente\n",
    ")"
   ]
  },
  {
   "cell_type": "code",
   "execution_count": 19,
   "id": "cf329d89",
   "metadata": {},
   "outputs": [
    {
     "name": "stdout",
     "output_type": "stream",
     "text": [
      "Forma de entrada: torch.Size([3, 13, 13])\n",
      "Forma de salida: torch.Size([13, 13])\n"
     ]
    }
   ],
   "source": [
    "print(\"Forma de entrada:\", norm_dataset.inputs[0].shape)\n",
    "print(\"Forma de salida:\", norm_dataset.outputs[0].shape)\n"
   ]
  },
  {
   "cell_type": "markdown",
   "id": "ce568184",
   "metadata": {},
   "source": [
    "### Train Loss vs. Capas"
   ]
  },
  {
   "cell_type": "code",
   "execution_count": 20,
   "id": "bcb1d518",
   "metadata": {},
   "outputs": [
    {
     "data": {
      "text/plain": [
       "' \\nnum_layers_list = list(range(2, 31))\\nfinal_train_losses = []\\n\\nprint(\"Explorando influencia de num_layers en train_loss final...\\n\")\\n\\nfor nl in num_layers_list:\\n    print(f\"Entrenando modelo con {nl} capas...\")\\n\\n    config[\\'num_layers\\'] = nl\\n    config[\\'epochs\\'] = 100  # Aseguramos que entrene 100 épocas\\n\\n    # Crear nuevo modelo\\n    model = GCN(\\n    input_dim=config[\"input_dim\"],\\n    hidden_dim=config[\"hidden_dim\"],\\n    output_dim=config[\"output_dim\"],\\n    num_layers=config[\"num_layers\"],\\n    use_dropout=config[\"use_dropout\"],\\n    dropout_rate=config[\"dropout_rate\"],\\n    use_batchnorm=config[\"use_batchnorm\"],\\n    use_residual=config[\"use_residual\"]\\n    ).to(device)\\n    optimizer = torch.optim.Adam(model.parameters(), lr=config[\"lr\"])\\n    scheduler = ReduceLROnPlateau(\\n        optimizer,\\n        mode=\\'min\\',            # queremos minimizar el val_loss\\n        factor=config[\"factor\"],            # reduce a la mitad el LR\\n        patience=config[\"patience\"],           # espera 10 épocas sin mejora\\n        verbose=True,          # imprime info cuando reduce\\n        min_lr=config[\"min_lr\"]            # evita que baje infinitamente\\n    )\\n\\n    train_losses = []\\n\\n    for epoch in range(config[\"epochs\"]):\\n        train_loss = train(model, train_loader, optimizer, device, norm_info,\\n                           lambda_physics=config[\"lambda_physics\"],\\n                           use_physics=config[\"use_physics\"],\\n                           lambda_boundary=config[\"lambda_boundary\"],\\n                           use_boundary_loss=config[\"use_boundary_loss\"],\\n                           lambda_heater=config[\"lambda_heater\"],\\n                           use_heater_loss=config[\"use_heater_loss\"])\\n        train_losses.append(train_loss)\\n        scheduler.step(train_loss) \\n\\n    final_train_loss = train_losses[-1]\\n    final_train_losses.append(final_train_loss)\\n    print(f\"Train loss final con {nl} capas: {final_train_loss:.6f}\")\\n\\n# Gráfica final\\nplt.figure(figsize=(10, 5))\\nplt.plot(num_layers_list, final_train_losses, marker=\\'o\\')\\nplt.xlabel(\\'Número de capas (num_layers)\\')\\nplt.ylabel(\\'Pérdida de entrenamiento final (train_loss)\\')\\nplt.title(\\'Influencia de num_layers en el error de entrenamiento\\')\\nplt.grid(True)\\nplt.tight_layout()\\nplt.show()\\n '"
      ]
     },
     "execution_count": 20,
     "metadata": {},
     "output_type": "execute_result"
    }
   ],
   "source": [
    "\"\"\" \n",
    "num_layers_list = list(range(2, 31))\n",
    "final_train_losses = []\n",
    "\n",
    "print(\"Explorando influencia de num_layers en train_loss final...\\n\")\n",
    "\n",
    "for nl in num_layers_list:\n",
    "    print(f\"Entrenando modelo con {nl} capas...\")\n",
    "\n",
    "    config['num_layers'] = nl\n",
    "    config['epochs'] = 100  # Aseguramos que entrene 100 épocas\n",
    "\n",
    "    # Crear nuevo modelo\n",
    "    model = GCN(\n",
    "    input_dim=config[\"input_dim\"],\n",
    "    hidden_dim=config[\"hidden_dim\"],\n",
    "    output_dim=config[\"output_dim\"],\n",
    "    num_layers=config[\"num_layers\"],\n",
    "    use_dropout=config[\"use_dropout\"],\n",
    "    dropout_rate=config[\"dropout_rate\"],\n",
    "    use_batchnorm=config[\"use_batchnorm\"],\n",
    "    use_residual=config[\"use_residual\"]\n",
    "    ).to(device)\n",
    "    optimizer = torch.optim.Adam(model.parameters(), lr=config[\"lr\"])\n",
    "    scheduler = ReduceLROnPlateau(\n",
    "        optimizer,\n",
    "        mode='min',            # queremos minimizar el val_loss\n",
    "        factor=config[\"factor\"],            # reduce a la mitad el LR\n",
    "        patience=config[\"patience\"],           # espera 10 épocas sin mejora\n",
    "        verbose=True,          # imprime info cuando reduce\n",
    "        min_lr=config[\"min_lr\"]            # evita que baje infinitamente\n",
    "    )\n",
    "\n",
    "    train_losses = []\n",
    "\n",
    "    for epoch in range(config[\"epochs\"]):\n",
    "        train_loss = train(model, train_loader, optimizer, device, norm_info,\n",
    "                           lambda_physics=config[\"lambda_physics\"],\n",
    "                           use_physics=config[\"use_physics\"],\n",
    "                           lambda_boundary=config[\"lambda_boundary\"],\n",
    "                           use_boundary_loss=config[\"use_boundary_loss\"],\n",
    "                           lambda_heater=config[\"lambda_heater\"],\n",
    "                           use_heater_loss=config[\"use_heater_loss\"])\n",
    "        train_losses.append(train_loss)\n",
    "        scheduler.step(train_loss) \n",
    "\n",
    "    final_train_loss = train_losses[-1]\n",
    "    final_train_losses.append(final_train_loss)\n",
    "    print(f\"Train loss final con {nl} capas: {final_train_loss:.6f}\")\n",
    "\n",
    "# Gráfica final\n",
    "plt.figure(figsize=(10, 5))\n",
    "plt.plot(num_layers_list, final_train_losses, marker='o')\n",
    "plt.xlabel('Número de capas (num_layers)')\n",
    "plt.ylabel('Pérdida de entrenamiento final (train_loss)')\n",
    "plt.title('Influencia de num_layers en el error de entrenamiento')\n",
    "plt.grid(True)\n",
    "plt.tight_layout()\n",
    "plt.show()\n",
    " \"\"\""
   ]
  },
  {
   "cell_type": "markdown",
   "id": "8c1f86ca",
   "metadata": {},
   "source": [
    "### Entrenamiento"
   ]
  },
  {
   "cell_type": "code",
   "execution_count": 21,
   "id": "9de0edbc",
   "metadata": {},
   "outputs": [
    {
     "name": "stdout",
     "output_type": "stream",
     "text": [
      "Iniciando entrenamiento...\n",
      "Epoch 1 - Train Loss: 0.517313 | Val MSE: 0.051773 | Val MAE: 0.186377 | Val R²: -49.4030 | [Boundary loss] 0.004278 | [Heaters loss] N/A | [Physics loss] 1.547481 | Val Accuracy: 3.85% | LR: 0.006793937 | Time: 37.82s\n",
      "Epoch 2 - Train Loss: 0.043827 | Val MSE: 0.037865 | Val MAE: 0.186864 | Val R²: -36.3891 | [Boundary loss] 0.001290 | [Heaters loss] N/A | [Physics loss] 1.449444 | Val Accuracy: 0.02% | LR: 0.006793937 | Time: 35.27s\n",
      "Epoch 3 - Train Loss: 0.020113 | Val MSE: 0.029794 | Val MAE: 0.165677 | Val R²: -28.3821 | [Boundary loss] 0.001398 | [Heaters loss] N/A | [Physics loss] 1.410386 | Val Accuracy: 0.01% | LR: 0.006793937 | Time: 35.36s\n",
      "Epoch 4 - Train Loss: 0.015885 | Val MSE: 0.021010 | Val MAE: 0.139190 | Val R²: -19.6994 | [Boundary loss] 0.001225 | [Heaters loss] N/A | [Physics loss] 1.399979 | Val Accuracy: 0.00% | LR: 0.006793937 | Time: 35.22s\n",
      "Epoch 5 - Train Loss: 0.015112 | Val MSE: 0.016965 | Val MAE: 0.124494 | Val R²: -15.6801 | [Boundary loss] 0.001398 | [Heaters loss] N/A | [Physics loss] 1.398427 | Val Accuracy: 0.00% | LR: 0.006793937 | Time: 35.49s\n",
      "Epoch 6 - Train Loss: 0.014982 | Val MSE: 0.015371 | Val MAE: 0.116300 | Val R²: -14.1100 | [Boundary loss] 0.000718 | [Heaters loss] N/A | [Physics loss] 1.401662 | Val Accuracy: 0.12% | LR: 0.006793937 | Time: 35.16s\n",
      "Epoch 7 - Train Loss: 0.014763 | Val MSE: 0.014300 | Val MAE: 0.114701 | Val R²: -13.0844 | [Boundary loss] 0.000937 | [Heaters loss] N/A | [Physics loss] 1.399793 | Val Accuracy: 0.00% | LR: 0.006793937 | Time: 36.32s\n",
      "Epoch 8 - Train Loss: 0.014592 | Val MSE: 0.014100 | Val MAE: 0.111675 | Val R²: -12.8283 | [Boundary loss] 0.000312 | [Heaters loss] N/A | [Physics loss] 1.403738 | Val Accuracy: 0.01% | LR: 0.006793937 | Time: 54.64s\n",
      "Epoch 9 - Train Loss: 0.014449 | Val MSE: 0.017321 | Val MAE: 0.124639 | Val R²: -16.0344 | [Boundary loss] 0.000026 | [Heaters loss] N/A | [Physics loss] 1.403718 | Val Accuracy: 0.02% | LR: 0.006793937 | Time: 54.44s\n",
      "Epoch 10 - Train Loss: 0.014321 | Val MSE: 0.020688 | Val MAE: 0.136846 | Val R²: -19.3442 | [Boundary loss] 0.000400 | [Heaters loss] N/A | [Physics loss] 1.397162 | Val Accuracy: 0.00% | LR: 0.006793937 | Time: 48.67s\n",
      "Epoch 11 - Train Loss: 0.014241 | Val MSE: 0.017536 | Val MAE: 0.121986 | Val R²: -16.2994 | [Boundary loss] 0.000857 | [Heaters loss] N/A | [Physics loss] 1.420049 | Val Accuracy: 2.64% | LR: 0.006793937 | Time: 41.18s\n",
      "Epoch 12 - Train Loss: 0.014209 | Val MSE: 0.019765 | Val MAE: 0.131411 | Val R²: -18.4338 | [Boundary loss] 0.000083 | [Heaters loss] N/A | [Physics loss] 1.401662 | Val Accuracy: 0.02% | LR: 0.006793937 | Time: 40.17s\n",
      "Epoch 13 - Train Loss: 0.014163 | Val MSE: 0.022401 | Val MAE: 0.143491 | Val R²: -21.0739 | [Boundary loss] 0.000318 | [Heaters loss] N/A | [Physics loss] 1.395798 | Val Accuracy: 0.00% | LR: 0.006793937 | Time: 42.19s\n",
      "Epoch 14 - Train Loss: 0.014130 | Val MSE: 0.019229 | Val MAE: 0.131586 | Val R²: -17.9402 | [Boundary loss] 0.000047 | [Heaters loss] N/A | [Physics loss] 1.400253 | Val Accuracy: 0.02% | LR: 0.006793937 | Time: 42.02s\n",
      "Epoch 15 - Train Loss: 0.014113 | Val MSE: 0.020145 | Val MAE: 0.132420 | Val R²: -18.8087 | [Boundary loss] 0.000101 | [Heaters loss] N/A | [Physics loss] 1.401497 | Val Accuracy: 0.40% | LR: 0.006793937 | Time: 39.56s\n",
      "Epoch 16 - Train Loss: 0.014095 | Val MSE: 0.020558 | Val MAE: 0.134170 | Val R²: -19.2249 | [Boundary loss] 0.000032 | [Heaters loss] N/A | [Physics loss] 1.401166 | Val Accuracy: 0.34% | LR: 0.006793937 | Time: 39.59s\n",
      "Epoch 17 - Train Loss: 0.014090 | Val MSE: 0.017327 | Val MAE: 0.123434 | Val R²: -16.0213 | [Boundary loss] 0.000041 | [Heaters loss] N/A | [Physics loss] 1.400870 | Val Accuracy: 0.06% | LR: 0.006793937 | Time: 37.48s\n",
      "Epoch 18 - Train Loss: 0.014076 | Val MSE: 0.029358 | Val MAE: 0.164125 | Val R²: -27.9173 | [Boundary loss] 0.000183 | [Heaters loss] N/A | [Physics loss] 1.395607 | Val Accuracy: 0.00% | LR: 0.006793937 | Time: 37.37s\n",
      "Epoch 19 - Train Loss: 0.014080 | Val MSE: 0.017790 | Val MAE: 0.124906 | Val R²: -16.4873 | [Boundary loss] 0.000062 | [Heaters loss] N/A | [Physics loss] 1.402331 | Val Accuracy: 0.26% | LR: 0.003396969 | Time: 36.82s\n",
      "Epoch 20 - Train Loss: 0.014048 | Val MSE: 0.026361 | Val MAE: 0.154215 | Val R²: -24.9516 | [Boundary loss] 0.000098 | [Heaters loss] N/A | [Physics loss] 1.395957 | Val Accuracy: 0.00% | LR: 0.003396969 | Time: 35.99s\n",
      "Epoch 21 - Train Loss: 0.014043 | Val MSE: 0.010544 | Val MAE: 0.096847 | Val R²: -9.3576 | [Boundary loss] 0.000104 | [Heaters loss] N/A | [Physics loss] 1.408686 | Val Accuracy: 0.00% | LR: 0.003396969 | Time: 35.78s\n",
      "Epoch 22 - Train Loss: 0.014043 | Val MSE: 0.024015 | Val MAE: 0.147254 | Val R²: -22.6385 | [Boundary loss] 0.000017 | [Heaters loss] N/A | [Physics loss] 1.398510 | Val Accuracy: 0.01% | LR: 0.003396969 | Time: 36.26s\n",
      "Epoch 23 - Train Loss: 0.014038 | Val MSE: 0.024555 | Val MAE: 0.149402 | Val R²: -23.1761 | [Boundary loss] 0.000080 | [Heaters loss] N/A | [Physics loss] 1.396346 | Val Accuracy: 0.00% | LR: 0.003396969 | Time: 35.74s\n",
      "Epoch 24 - Train Loss: 0.014037 | Val MSE: 0.023627 | Val MAE: 0.145359 | Val R²: -22.2582 | [Boundary loss] 0.000003 | [Heaters loss] N/A | [Physics loss] 1.399352 | Val Accuracy: 0.16% | LR: 0.003396969 | Time: 35.96s\n",
      "Epoch 25 - Train Loss: 0.014032 | Val MSE: 0.024093 | Val MAE: 0.147900 | Val R²: -22.7099 | [Boundary loss] 0.000128 | [Heaters loss] N/A | [Physics loss] 1.395792 | Val Accuracy: 0.00% | LR: 0.003396969 | Time: 35.82s\n",
      "Epoch 26 - Train Loss: 0.014029 | Val MSE: 0.024240 | Val MAE: 0.147640 | Val R²: -22.8629 | [Boundary loss] 0.000039 | [Heaters loss] N/A | [Physics loss] 1.397069 | Val Accuracy: 0.02% | LR: 0.003396969 | Time: 35.52s\n",
      "Epoch 27 - Train Loss: 0.014027 | Val MSE: 0.026769 | Val MAE: 0.154924 | Val R²: -25.3558 | [Boundary loss] 0.000004 | [Heaters loss] N/A | [Physics loss] 1.399512 | Val Accuracy: 0.12% | LR: 0.003396969 | Time: 36.39s\n",
      "Epoch 28 - Train Loss: 0.014028 | Val MSE: 0.026749 | Val MAE: 0.155239 | Val R²: -25.3321 | [Boundary loss] 0.000059 | [Heaters loss] N/A | [Physics loss] 1.396457 | Val Accuracy: 0.02% | LR: 0.003396969 | Time: 35.34s\n",
      "Epoch 29 - Train Loss: 0.014030 | Val MSE: 0.022424 | Val MAE: 0.141831 | Val R²: -21.0718 | [Boundary loss] 0.000030 | [Heaters loss] N/A | [Physics loss] 1.397695 | Val Accuracy: 0.04% | LR: 0.003396969 | Time: 36.97s\n",
      "Epoch 30 - Train Loss: 0.014027 | Val MSE: 0.022639 | Val MAE: 0.143187 | Val R²: -21.2771 | [Boundary loss] 0.000147 | [Heaters loss] N/A | [Physics loss] 1.395749 | Val Accuracy: 0.00% | LR: 0.003396969 | Time: 36.55s\n",
      "Epoch 31 - Train Loss: 0.014026 | Val MSE: 0.022009 | Val MAE: 0.139947 | Val R²: -20.6621 | [Boundary loss] 0.000024 | [Heaters loss] N/A | [Physics loss] 1.401518 | Val Accuracy: 0.20% | LR: 0.003396969 | Time: 37.05s\n",
      "Epoch 32 - Train Loss: 0.014022 | Val MSE: 0.026553 | Val MAE: 0.154050 | Val R²: -25.1356 | [Boundary loss] 0.000009 | [Heaters loss] N/A | [Physics loss] 1.398229 | Val Accuracy: 0.13% | LR: 0.001698484 | Time: 50.72s\n",
      "Epoch 33 - Train Loss: 0.014014 | Val MSE: 0.022852 | Val MAE: 0.142865 | Val R²: -21.4820 | [Boundary loss] 0.000042 | [Heaters loss] N/A | [Physics loss] 1.397061 | Val Accuracy: 0.02% | LR: 0.001698484 | Time: 44.24s\n",
      "Epoch 34 - Train Loss: 0.014014 | Val MSE: 0.022926 | Val MAE: 0.143477 | Val R²: -21.5618 | [Boundary loss] 0.000067 | [Heaters loss] N/A | [Physics loss] 1.396413 | Val Accuracy: 0.01% | LR: 0.001698484 | Time: 36.32s\n",
      "Epoch 35 - Train Loss: 0.014012 | Val MSE: 0.024398 | Val MAE: 0.148235 | Val R²: -23.0093 | [Boundary loss] 0.000087 | [Heaters loss] N/A | [Physics loss] 1.395780 | Val Accuracy: 0.00% | LR: 0.001698484 | Time: 35.75s\n",
      "Epoch 36 - Train Loss: 0.014015 | Val MSE: 0.023182 | Val MAE: 0.144373 | Val R²: -21.8137 | [Boundary loss] 0.000054 | [Heaters loss] N/A | [Physics loss] 1.397211 | Val Accuracy: 0.00% | LR: 0.001698484 | Time: 35.77s\n",
      "Epoch 37 - Train Loss: 0.014012 | Val MSE: 0.023145 | Val MAE: 0.144214 | Val R²: -21.7754 | [Boundary loss] 0.000065 | [Heaters loss] N/A | [Physics loss] 1.396510 | Val Accuracy: 0.00% | LR: 0.001698484 | Time: 37.06s\n",
      "Epoch 38 - Train Loss: 0.014011 | Val MSE: 0.022853 | Val MAE: 0.143167 | Val R²: -21.4886 | [Boundary loss] 0.000034 | [Heaters loss] N/A | [Physics loss] 1.397829 | Val Accuracy: 0.02% | LR: 0.001698484 | Time: 36.77s\n",
      "Epoch 39 - Train Loss: 0.014011 | Val MSE: 0.024099 | Val MAE: 0.146881 | Val R²: -22.7176 | [Boundary loss] 0.000058 | [Heaters loss] N/A | [Physics loss] 1.396407 | Val Accuracy: 0.01% | LR: 0.001698484 | Time: 36.84s\n",
      "Epoch 40 - Train Loss: 0.014011 | Val MSE: 0.022315 | Val MAE: 0.141865 | Val R²: -20.9690 | [Boundary loss] 0.000056 | [Heaters loss] N/A | [Physics loss] 1.396919 | Val Accuracy: 0.00% | LR: 0.001698484 | Time: 36.96s\n",
      "Epoch 41 - Train Loss: 0.014011 | Val MSE: 0.024242 | Val MAE: 0.147557 | Val R²: -22.8553 | [Boundary loss] 0.000074 | [Heaters loss] N/A | [Physics loss] 1.396007 | Val Accuracy: 0.00% | LR: 0.001698484 | Time: 37.17s\n",
      "Epoch 42 - Train Loss: 0.014011 | Val MSE: 0.025854 | Val MAE: 0.152337 | Val R²: -24.4522 | [Boundary loss] 0.000027 | [Heaters loss] N/A | [Physics loss] 1.397172 | Val Accuracy: 0.02% | LR: 0.001698484 | Time: 36.49s\n",
      "Epoch 43 - Train Loss: 0.014011 | Val MSE: 0.022675 | Val MAE: 0.142359 | Val R²: -21.3154 | [Boundary loss] 0.000023 | [Heaters loss] N/A | [Physics loss] 1.397712 | Val Accuracy: 0.04% | LR: 0.000849242 | Time: 38.05s\n",
      "Epoch 44 - Train Loss: 0.014005 | Val MSE: 0.024127 | Val MAE: 0.147266 | Val R²: -22.7505 | [Boundary loss] 0.000066 | [Heaters loss] N/A | [Physics loss] 1.396128 | Val Accuracy: 0.01% | LR: 0.000849242 | Time: 37.96s\n",
      "Epoch 45 - Train Loss: 0.014006 | Val MSE: 0.026452 | Val MAE: 0.154451 | Val R²: -25.0422 | [Boundary loss] 0.000061 | [Heaters loss] N/A | [Physics loss] 1.395960 | Val Accuracy: 0.01% | LR: 0.000849242 | Time: 36.54s\n",
      "Epoch 46 - Train Loss: 0.014006 | Val MSE: 0.023492 | Val MAE: 0.145274 | Val R²: -22.1225 | [Boundary loss] 0.000044 | [Heaters loss] N/A | [Physics loss] 1.396687 | Val Accuracy: 0.02% | LR: 0.000849242 | Time: 36.67s\n",
      "Epoch 47 - Train Loss: 0.014004 | Val MSE: 0.026883 | Val MAE: 0.155670 | Val R²: -25.4663 | [Boundary loss] 0.000061 | [Heaters loss] N/A | [Physics loss] 1.395908 | Val Accuracy: 0.02% | LR: 0.000849242 | Time: 36.89s\n",
      "Epoch 48 - Train Loss: 0.014005 | Val MSE: 0.025259 | Val MAE: 0.150910 | Val R²: -23.8627 | [Boundary loss] 0.000101 | [Heaters loss] N/A | [Physics loss] 1.395312 | Val Accuracy: 0.00% | LR: 0.000849242 | Time: 36.88s\n",
      "Epoch 49 - Train Loss: 0.014005 | Val MSE: 0.022585 | Val MAE: 0.142215 | Val R²: -21.2187 | [Boundary loss] 0.000097 | [Heaters loss] N/A | [Physics loss] 1.396021 | Val Accuracy: 0.00% | LR: 0.000849242 | Time: 37.44s\n",
      "Epoch 50 - Train Loss: 0.014005 | Val MSE: 0.023605 | Val MAE: 0.145457 | Val R²: -22.2318 | [Boundary loss] 0.000077 | [Heaters loss] N/A | [Physics loss] 1.396071 | Val Accuracy: 0.01% | LR: 0.000849242 | Time: 36.90s\n",
      "Epoch 51 - Train Loss: 0.014004 | Val MSE: 0.023726 | Val MAE: 0.145975 | Val R²: -22.3520 | [Boundary loss] 0.000094 | [Heaters loss] N/A | [Physics loss] 1.395739 | Val Accuracy: 0.00% | LR: 0.000849242 | Time: 36.92s\n",
      "Epoch 52 - Train Loss: 0.014004 | Val MSE: 0.024279 | Val MAE: 0.147995 | Val R²: -22.9052 | [Boundary loss] 0.000090 | [Heaters loss] N/A | [Physics loss] 1.395647 | Val Accuracy: 0.00% | LR: 0.000849242 | Time: 36.98s\n",
      "Epoch 53 - Train Loss: 0.014003 | Val MSE: 0.025911 | Val MAE: 0.152526 | Val R²: -24.5039 | [Boundary loss] 0.000060 | [Heaters loss] N/A | [Physics loss] 1.396021 | Val Accuracy: 0.01% | LR: 0.000849242 | Time: 37.13s\n",
      "Epoch 54 - Train Loss: 0.014004 | Val MSE: 0.027272 | Val MAE: 0.156642 | Val R²: -25.8561 | [Boundary loss] 0.000046 | [Heaters loss] N/A | [Physics loss] 1.396361 | Val Accuracy: 0.04% | LR: 0.000424621 | Time: 38.16s\n",
      "Epoch 55 - Train Loss: 0.014001 | Val MSE: 0.025476 | Val MAE: 0.151356 | Val R²: -24.0756 | [Boundary loss] 0.000063 | [Heaters loss] N/A | [Physics loss] 1.395950 | Val Accuracy: 0.01% | LR: 0.000424621 | Time: 36.62s\n",
      "Epoch 56 - Train Loss: 0.014001 | Val MSE: 0.024962 | Val MAE: 0.149876 | Val R²: -23.5730 | [Boundary loss] 0.000066 | [Heaters loss] N/A | [Physics loss] 1.395902 | Val Accuracy: 0.01% | LR: 0.000424621 | Time: 37.28s\n",
      "Epoch 57 - Train Loss: 0.014000 | Val MSE: 0.024080 | Val MAE: 0.147128 | Val R²: -22.6984 | [Boundary loss] 0.000076 | [Heaters loss] N/A | [Physics loss] 1.395944 | Val Accuracy: 0.00% | LR: 0.000424621 | Time: 38.35s\n",
      "Epoch 58 - Train Loss: 0.014002 | Val MSE: 0.025942 | Val MAE: 0.152853 | Val R²: -24.5394 | [Boundary loss] 0.000050 | [Heaters loss] N/A | [Physics loss] 1.396188 | Val Accuracy: 0.01% | LR: 0.000424621 | Time: 40.50s\n",
      "Epoch 59 - Train Loss: 0.014001 | Val MSE: 0.025189 | Val MAE: 0.150434 | Val R²: -23.7889 | [Boundary loss] 0.000088 | [Heaters loss] N/A | [Physics loss] 1.395489 | Val Accuracy: 0.00% | LR: 0.000424621 | Time: 38.62s\n",
      "Epoch 60 - Train Loss: 0.014001 | Val MSE: 0.024277 | Val MAE: 0.147387 | Val R²: -22.8914 | [Boundary loss] 0.000045 | [Heaters loss] N/A | [Physics loss] 1.396552 | Val Accuracy: 0.02% | LR: 0.000424621 | Time: 38.52s\n",
      "Epoch 61 - Train Loss: 0.014001 | Val MSE: 0.025051 | Val MAE: 0.150069 | Val R²: -23.6583 | [Boundary loss] 0.000058 | [Heaters loss] N/A | [Physics loss] 1.396095 | Val Accuracy: 0.01% | LR: 0.000424621 | Time: 37.15s\n",
      "Epoch 62 - Train Loss: 0.014000 | Val MSE: 0.026201 | Val MAE: 0.153562 | Val R²: -24.7940 | [Boundary loss] 0.000072 | [Heaters loss] N/A | [Physics loss] 1.395661 | Val Accuracy: 0.01% | LR: 0.000424621 | Time: 38.19s\n",
      "Epoch 63 - Train Loss: 0.014001 | Val MSE: 0.025306 | Val MAE: 0.150660 | Val R²: -23.9065 | [Boundary loss] 0.000040 | [Heaters loss] N/A | [Physics loss] 1.396470 | Val Accuracy: 0.02% | LR: 0.000424621 | Time: 37.20s\n",
      "Epoch 64 - Train Loss: 0.014001 | Val MSE: 0.025980 | Val MAE: 0.152785 | Val R²: -24.5744 | [Boundary loss] 0.000071 | [Heaters loss] N/A | [Physics loss] 1.395716 | Val Accuracy: 0.01% | LR: 0.000424621 | Time: 37.47s\n",
      "Epoch 65 - Train Loss: 0.014001 | Val MSE: 0.025332 | Val MAE: 0.151110 | Val R²: -23.9376 | [Boundary loss] 0.000076 | [Heaters loss] N/A | [Physics loss] 1.395696 | Val Accuracy: 0.00% | LR: 0.000212311 | Time: 37.47s\n",
      "Epoch 66 - Train Loss: 0.013999 | Val MSE: 0.025213 | Val MAE: 0.150526 | Val R²: -23.8170 | [Boundary loss] 0.000074 | [Heaters loss] N/A | [Physics loss] 1.395762 | Val Accuracy: 0.01% | LR: 0.000212311 | Time: 37.83s\n",
      "Epoch 67 - Train Loss: 0.013999 | Val MSE: 0.025058 | Val MAE: 0.150006 | Val R²: -23.6657 | [Boundary loss] 0.000058 | [Heaters loss] N/A | [Physics loss] 1.396083 | Val Accuracy: 0.01% | LR: 0.000212311 | Time: 39.51s\n",
      "Epoch 68 - Train Loss: 0.013999 | Val MSE: 0.025940 | Val MAE: 0.152714 | Val R²: -24.5370 | [Boundary loss] 0.000061 | [Heaters loss] N/A | [Physics loss] 1.395935 | Val Accuracy: 0.02% | LR: 0.000212311 | Time: 41.21s\n",
      "Epoch 69 - Train Loss: 0.013999 | Val MSE: 0.025503 | Val MAE: 0.151492 | Val R²: -24.1046 | [Boundary loss] 0.000067 | [Heaters loss] N/A | [Physics loss] 1.395867 | Val Accuracy: 0.01% | LR: 0.000212311 | Time: 39.31s\n",
      "Epoch 70 - Train Loss: 0.013999 | Val MSE: 0.025123 | Val MAE: 0.150309 | Val R²: -23.7276 | [Boundary loss] 0.000061 | [Heaters loss] N/A | [Physics loss] 1.396032 | Val Accuracy: 0.01% | LR: 0.000212311 | Time: 41.04s\n",
      "Epoch 71 - Train Loss: 0.013999 | Val MSE: 0.025513 | Val MAE: 0.151486 | Val R²: -24.1150 | [Boundary loss] 0.000064 | [Heaters loss] N/A | [Physics loss] 1.395882 | Val Accuracy: 0.01% | LR: 0.000212311 | Time: 41.05s\n",
      "Epoch 72 - Train Loss: 0.013999 | Val MSE: 0.025293 | Val MAE: 0.150742 | Val R²: -23.8982 | [Boundary loss] 0.000063 | [Heaters loss] N/A | [Physics loss] 1.395937 | Val Accuracy: 0.01% | LR: 0.000212311 | Time: 38.95s\n",
      "Epoch 73 - Train Loss: 0.013998 | Val MSE: 0.026023 | Val MAE: 0.153081 | Val R²: -24.6176 | [Boundary loss] 0.000078 | [Heaters loss] N/A | [Physics loss] 1.395572 | Val Accuracy: 0.01% | LR: 0.000212311 | Time: 38.70s\n",
      "Epoch 74 - Train Loss: 0.013999 | Val MSE: 0.025303 | Val MAE: 0.150874 | Val R²: -23.9071 | [Boundary loss] 0.000075 | [Heaters loss] N/A | [Physics loss] 1.395718 | Val Accuracy: 0.01% | LR: 0.000212311 | Time: 42.24s\n",
      "Epoch 75 - Train Loss: 0.013998 | Val MSE: 0.024875 | Val MAE: 0.149442 | Val R²: -23.4841 | [Boundary loss] 0.000068 | [Heaters loss] N/A | [Physics loss] 1.395885 | Val Accuracy: 0.01% | LR: 0.000212311 | Time: 39.05s\n",
      "Epoch 76 - Train Loss: 0.013999 | Val MSE: 0.025626 | Val MAE: 0.151770 | Val R²: -24.2230 | [Boundary loss] 0.000077 | [Heaters loss] N/A | [Physics loss] 1.395620 | Val Accuracy: 0.01% | LR: 0.000106155 | Time: 37.73s\n",
      "Epoch 77 - Train Loss: 0.013998 | Val MSE: 0.025474 | Val MAE: 0.151368 | Val R²: -24.0743 | [Boundary loss] 0.000071 | [Heaters loss] N/A | [Physics loss] 1.395752 | Val Accuracy: 0.01% | LR: 0.000106155 | Time: 37.95s\n",
      "Epoch 78 - Train Loss: 0.013997 | Val MSE: 0.024912 | Val MAE: 0.149574 | Val R²: -23.5205 | [Boundary loss] 0.000063 | [Heaters loss] N/A | [Physics loss] 1.395968 | Val Accuracy: 0.01% | LR: 0.000106155 | Time: 38.39s\n",
      "Epoch 79 - Train Loss: 0.013998 | Val MSE: 0.025713 | Val MAE: 0.152134 | Val R²: -24.3125 | [Boundary loss] 0.000080 | [Heaters loss] N/A | [Physics loss] 1.395561 | Val Accuracy: 0.01% | LR: 0.000106155 | Time: 39.00s\n",
      "Epoch 80 - Train Loss: 0.013998 | Val MSE: 0.025548 | Val MAE: 0.151532 | Val R²: -24.1490 | [Boundary loss] 0.000068 | [Heaters loss] N/A | [Physics loss] 1.395810 | Val Accuracy: 0.01% | LR: 0.000106155 | Time: 37.74s\n",
      "Epoch 81 - Train Loss: 0.013998 | Val MSE: 0.025888 | Val MAE: 0.152606 | Val R²: -24.4848 | [Boundary loss] 0.000074 | [Heaters loss] N/A | [Physics loss] 1.395665 | Val Accuracy: 0.01% | LR: 0.000106155 | Time: 38.07s\n",
      "Epoch 82 - Train Loss: 0.013998 | Val MSE: 0.025434 | Val MAE: 0.151263 | Val R²: -24.0378 | [Boundary loss] 0.000066 | [Heaters loss] N/A | [Physics loss] 1.395861 | Val Accuracy: 0.01% | LR: 0.000106155 | Time: 38.47s\n",
      "Epoch 83 - Train Loss: 0.013998 | Val MSE: 0.025080 | Val MAE: 0.150189 | Val R²: -23.6873 | [Boundary loss] 0.000072 | [Heaters loss] N/A | [Physics loss] 1.395801 | Val Accuracy: 0.01% | LR: 0.000106155 | Time: 37.93s\n",
      "Epoch 84 - Train Loss: 0.013997 | Val MSE: 0.025545 | Val MAE: 0.151667 | Val R²: -24.1463 | [Boundary loss] 0.000079 | [Heaters loss] N/A | [Physics loss] 1.395612 | Val Accuracy: 0.01% | LR: 0.000106155 | Time: 39.14s\n",
      "Epoch 85 - Train Loss: 0.013997 | Val MSE: 0.025284 | Val MAE: 0.150821 | Val R²: -23.8891 | [Boundary loss] 0.000067 | [Heaters loss] N/A | [Physics loss] 1.395869 | Val Accuracy: 0.01% | LR: 0.000106155 | Time: 38.29s\n",
      "Epoch 86 - Train Loss: 0.013998 | Val MSE: 0.025273 | Val MAE: 0.150722 | Val R²: -23.8774 | [Boundary loss] 0.000065 | [Heaters loss] N/A | [Physics loss] 1.395917 | Val Accuracy: 0.01% | LR: 0.000106155 | Time: 38.26s\n",
      "Epoch 87 - Train Loss: 0.013997 | Val MSE: 0.025483 | Val MAE: 0.151466 | Val R²: -24.0840 | [Boundary loss] 0.000086 | [Heaters loss] N/A | [Physics loss] 1.395475 | Val Accuracy: 0.00% | LR: 0.000053078 | Time: 37.79s\n",
      "Epoch 88 - Train Loss: 0.013997 | Val MSE: 0.025460 | Val MAE: 0.151343 | Val R²: -24.0614 | [Boundary loss] 0.000067 | [Heaters loss] N/A | [Physics loss] 1.395852 | Val Accuracy: 0.01% | LR: 0.000053078 | Time: 37.52s\n",
      "Epoch 89 - Train Loss: 0.013997 | Val MSE: 0.025356 | Val MAE: 0.150979 | Val R²: -23.9586 | [Boundary loss] 0.000067 | [Heaters loss] N/A | [Physics loss] 1.395858 | Val Accuracy: 0.01% | LR: 0.000053078 | Time: 37.50s\n",
      "Epoch 90 - Train Loss: 0.013997 | Val MSE: 0.025308 | Val MAE: 0.150849 | Val R²: -23.9116 | [Boundary loss] 0.000072 | [Heaters loss] N/A | [Physics loss] 1.395759 | Val Accuracy: 0.01% | LR: 0.000053078 | Time: 37.07s\n",
      "Epoch 91 - Train Loss: 0.013997 | Val MSE: 0.025838 | Val MAE: 0.152536 | Val R²: -24.4338 | [Boundary loss] 0.000083 | [Heaters loss] N/A | [Physics loss] 1.395505 | Val Accuracy: 0.01% | LR: 0.000053078 | Time: 38.35s\n",
      "Epoch 92 - Train Loss: 0.013997 | Val MSE: 0.025418 | Val MAE: 0.151154 | Val R²: -24.0204 | [Boundary loss] 0.000072 | [Heaters loss] N/A | [Physics loss] 1.395734 | Val Accuracy: 0.01% | LR: 0.000053078 | Time: 38.97s\n",
      "Epoch 93 - Train Loss: 0.013997 | Val MSE: 0.025352 | Val MAE: 0.150934 | Val R²: -23.9553 | [Boundary loss] 0.000070 | [Heaters loss] N/A | [Physics loss] 1.395786 | Val Accuracy: 0.01% | LR: 0.000053078 | Time: 38.00s\n",
      "Epoch 94 - Train Loss: 0.013997 | Val MSE: 0.025819 | Val MAE: 0.152494 | Val R²: -24.4159 | [Boundary loss] 0.000082 | [Heaters loss] N/A | [Physics loss] 1.395510 | Val Accuracy: 0.01% | LR: 0.000053078 | Time: 38.75s\n",
      "Epoch 95 - Train Loss: 0.013997 | Val MSE: 0.025444 | Val MAE: 0.151231 | Val R²: -24.0447 | [Boundary loss] 0.000073 | [Heaters loss] N/A | [Physics loss] 1.395712 | Val Accuracy: 0.01% | LR: 0.000053078 | Time: 37.77s\n",
      "Epoch 96 - Train Loss: 0.013997 | Val MSE: 0.025539 | Val MAE: 0.151563 | Val R²: -24.1410 | [Boundary loss] 0.000065 | [Heaters loss] N/A | [Physics loss] 1.395852 | Val Accuracy: 0.01% | LR: 0.000053078 | Time: 37.97s\n",
      "Epoch 97 - Train Loss: 0.013997 | Val MSE: 0.025562 | Val MAE: 0.151665 | Val R²: -24.1631 | [Boundary loss] 0.000074 | [Heaters loss] N/A | [Physics loss] 1.395690 | Val Accuracy: 0.01% | LR: 0.000053078 | Time: 37.76s\n",
      "Epoch 98 - Train Loss: 0.013997 | Val MSE: 0.025678 | Val MAE: 0.151945 | Val R²: -24.2761 | [Boundary loss] 0.000082 | [Heaters loss] N/A | [Physics loss] 1.395523 | Val Accuracy: 0.01% | LR: 0.000026539 | Time: 38.73s\n",
      "Epoch 99 - Train Loss: 0.013997 | Val MSE: 0.025260 | Val MAE: 0.150667 | Val R²: -23.8654 | [Boundary loss] 0.000066 | [Heaters loss] N/A | [Physics loss] 1.395886 | Val Accuracy: 0.01% | LR: 0.000026539 | Time: 38.24s\n",
      "Epoch 100 - Train Loss: 0.013997 | Val MSE: 0.025755 | Val MAE: 0.152176 | Val R²: -24.3527 | [Boundary loss] 0.000076 | [Heaters loss] N/A | [Physics loss] 1.395625 | Val Accuracy: 0.01% | LR: 0.000026539 | Time: 38.75s\n",
      "Epoch 101 - Train Loss: 0.013996 | Val MSE: 0.025715 | Val MAE: 0.152178 | Val R²: -24.3133 | [Boundary loss] 0.000089 | [Heaters loss] N/A | [Physics loss] 1.395406 | Val Accuracy: 0.00% | LR: 0.000026539 | Time: 41.42s\n",
      "Epoch 102 - Train Loss: 0.013997 | Val MSE: 0.025484 | Val MAE: 0.151326 | Val R²: -24.0842 | [Boundary loss] 0.000061 | [Heaters loss] N/A | [Physics loss] 1.395952 | Val Accuracy: 0.01% | LR: 0.000026539 | Time: 39.51s\n",
      "Epoch 103 - Train Loss: 0.013997 | Val MSE: 0.025715 | Val MAE: 0.152119 | Val R²: -24.3137 | [Boundary loss] 0.000072 | [Heaters loss] N/A | [Physics loss] 1.395709 | Val Accuracy: 0.01% | LR: 0.000026539 | Time: 38.57s\n",
      "Epoch 104 - Train Loss: 0.013996 | Val MSE: 0.025637 | Val MAE: 0.151895 | Val R²: -24.2369 | [Boundary loss] 0.000076 | [Heaters loss] N/A | [Physics loss] 1.395623 | Val Accuracy: 0.01% | LR: 0.000026539 | Time: 39.28s\n",
      "Epoch 105 - Train Loss: 0.013997 | Val MSE: 0.025400 | Val MAE: 0.151079 | Val R²: -24.0033 | [Boundary loss] 0.000052 | [Heaters loss] N/A | [Physics loss] 1.396156 | Val Accuracy: 0.01% | LR: 0.000026539 | Time: 38.79s\n",
      "Epoch 106 - Train Loss: 0.013997 | Val MSE: 0.025515 | Val MAE: 0.151499 | Val R²: -24.1169 | [Boundary loss] 0.000074 | [Heaters loss] N/A | [Physics loss] 1.395684 | Val Accuracy: 0.01% | LR: 0.000026539 | Time: 38.12s\n"
     ]
    },
    {
     "ename": "KeyboardInterrupt",
     "evalue": "",
     "output_type": "error",
     "traceback": [
      "\u001b[1;31m---------------------------------------------------------------------------\u001b[0m",
      "\u001b[1;31mKeyboardInterrupt\u001b[0m                         Traceback (most recent call last)",
      "Cell \u001b[1;32mIn[21], line 15\u001b[0m\n\u001b[0;32m     12\u001b[0m start_time \u001b[38;5;241m=\u001b[39m time\u001b[38;5;241m.\u001b[39mtime() \n\u001b[0;32m     14\u001b[0m \u001b[38;5;66;03m# Entrenar\u001b[39;00m\n\u001b[1;32m---> 15\u001b[0m train_loss \u001b[38;5;241m=\u001b[39m train(model, train_loader, optimizer, device, norm_info, lambda_physics\u001b[38;5;241m=\u001b[39mconfig[\u001b[38;5;124m\"\u001b[39m\u001b[38;5;124mlambda_physics\u001b[39m\u001b[38;5;124m\"\u001b[39m],\n\u001b[0;32m     16\u001b[0m                    use_physics\u001b[38;5;241m=\u001b[39mconfig[\u001b[38;5;124m\"\u001b[39m\u001b[38;5;124muse_physics\u001b[39m\u001b[38;5;124m\"\u001b[39m], lambda_boundary\u001b[38;5;241m=\u001b[39mconfig[\u001b[38;5;124m\"\u001b[39m\u001b[38;5;124mlambda_boundary\u001b[39m\u001b[38;5;124m\"\u001b[39m],\n\u001b[0;32m     17\u001b[0m                    use_boundary_loss\u001b[38;5;241m=\u001b[39mconfig[\u001b[38;5;124m\"\u001b[39m\u001b[38;5;124muse_boundary_loss\u001b[39m\u001b[38;5;124m\"\u001b[39m], lambda_heater\u001b[38;5;241m=\u001b[39mconfig[\u001b[38;5;124m\"\u001b[39m\u001b[38;5;124mlambda_heater\u001b[39m\u001b[38;5;124m\"\u001b[39m],\n\u001b[0;32m     18\u001b[0m                    use_heater_loss\u001b[38;5;241m=\u001b[39mconfig[\u001b[38;5;124m\"\u001b[39m\u001b[38;5;124muse_heater_loss\u001b[39m\u001b[38;5;124m\"\u001b[39m])\n\u001b[0;32m     19\u001b[0m train_losses\u001b[38;5;241m.\u001b[39mappend(train_loss)\n\u001b[0;32m     21\u001b[0m \u001b[38;5;66;03m# Evaluar en validación\u001b[39;00m\n",
      "File \u001b[1;32mc:\\Users\\ramse\\Escritorio\\Aero Ordenador\\4to Aero\\2do Cuatri\\ia_thermal\\ernestoemedina\\GCN_MK1\\train_eval.py:19\u001b[0m, in \u001b[0;36mtrain\u001b[1;34m(model, loader, optimizer, device, norm_info, use_physics, lambda_physics, use_boundary_loss, lambda_boundary, use_heater_loss, lambda_heater)\u001b[0m\n\u001b[0;32m     16\u001b[0m total_loss \u001b[38;5;241m=\u001b[39m torch\u001b[38;5;241m.\u001b[39mtensor(\u001b[38;5;241m0.0\u001b[39m, device\u001b[38;5;241m=\u001b[39mdevice)\n\u001b[0;32m     17\u001b[0m criterion \u001b[38;5;241m=\u001b[39m torch\u001b[38;5;241m.\u001b[39mnn\u001b[38;5;241m.\u001b[39mMSELoss()\n\u001b[1;32m---> 19\u001b[0m \u001b[38;5;28;01mfor\u001b[39;00m batch \u001b[38;5;129;01min\u001b[39;00m loader:\n\u001b[0;32m     20\u001b[0m     batch \u001b[38;5;241m=\u001b[39m batch\u001b[38;5;241m.\u001b[39mto(device)\n\u001b[0;32m     21\u001b[0m     optimizer\u001b[38;5;241m.\u001b[39mzero_grad()\n",
      "File \u001b[1;32mc:\\Users\\ramse\\anaconda3\\Lib\\site-packages\\torch\\utils\\data\\dataloader.py:701\u001b[0m, in \u001b[0;36m_BaseDataLoaderIter.__next__\u001b[1;34m(self)\u001b[0m\n\u001b[0;32m    698\u001b[0m \u001b[38;5;28;01mif\u001b[39;00m \u001b[38;5;28mself\u001b[39m\u001b[38;5;241m.\u001b[39m_sampler_iter \u001b[38;5;129;01mis\u001b[39;00m \u001b[38;5;28;01mNone\u001b[39;00m:\n\u001b[0;32m    699\u001b[0m     \u001b[38;5;66;03m# TODO(https://github.com/pytorch/pytorch/issues/76750)\u001b[39;00m\n\u001b[0;32m    700\u001b[0m     \u001b[38;5;28mself\u001b[39m\u001b[38;5;241m.\u001b[39m_reset()  \u001b[38;5;66;03m# type: ignore[call-arg]\u001b[39;00m\n\u001b[1;32m--> 701\u001b[0m data \u001b[38;5;241m=\u001b[39m \u001b[38;5;28mself\u001b[39m\u001b[38;5;241m.\u001b[39m_next_data()\n\u001b[0;32m    702\u001b[0m \u001b[38;5;28mself\u001b[39m\u001b[38;5;241m.\u001b[39m_num_yielded \u001b[38;5;241m+\u001b[39m\u001b[38;5;241m=\u001b[39m \u001b[38;5;241m1\u001b[39m\n\u001b[0;32m    703\u001b[0m \u001b[38;5;28;01mif\u001b[39;00m (\n\u001b[0;32m    704\u001b[0m     \u001b[38;5;28mself\u001b[39m\u001b[38;5;241m.\u001b[39m_dataset_kind \u001b[38;5;241m==\u001b[39m _DatasetKind\u001b[38;5;241m.\u001b[39mIterable\n\u001b[0;32m    705\u001b[0m     \u001b[38;5;129;01mand\u001b[39;00m \u001b[38;5;28mself\u001b[39m\u001b[38;5;241m.\u001b[39m_IterableDataset_len_called \u001b[38;5;129;01mis\u001b[39;00m \u001b[38;5;129;01mnot\u001b[39;00m \u001b[38;5;28;01mNone\u001b[39;00m\n\u001b[0;32m    706\u001b[0m     \u001b[38;5;129;01mand\u001b[39;00m \u001b[38;5;28mself\u001b[39m\u001b[38;5;241m.\u001b[39m_num_yielded \u001b[38;5;241m>\u001b[39m \u001b[38;5;28mself\u001b[39m\u001b[38;5;241m.\u001b[39m_IterableDataset_len_called\n\u001b[0;32m    707\u001b[0m ):\n",
      "File \u001b[1;32mc:\\Users\\ramse\\anaconda3\\Lib\\site-packages\\torch\\utils\\data\\dataloader.py:757\u001b[0m, in \u001b[0;36m_SingleProcessDataLoaderIter._next_data\u001b[1;34m(self)\u001b[0m\n\u001b[0;32m    755\u001b[0m \u001b[38;5;28;01mdef\u001b[39;00m \u001b[38;5;21m_next_data\u001b[39m(\u001b[38;5;28mself\u001b[39m):\n\u001b[0;32m    756\u001b[0m     index \u001b[38;5;241m=\u001b[39m \u001b[38;5;28mself\u001b[39m\u001b[38;5;241m.\u001b[39m_next_index()  \u001b[38;5;66;03m# may raise StopIteration\u001b[39;00m\n\u001b[1;32m--> 757\u001b[0m     data \u001b[38;5;241m=\u001b[39m \u001b[38;5;28mself\u001b[39m\u001b[38;5;241m.\u001b[39m_dataset_fetcher\u001b[38;5;241m.\u001b[39mfetch(index)  \u001b[38;5;66;03m# may raise StopIteration\u001b[39;00m\n\u001b[0;32m    758\u001b[0m     \u001b[38;5;28;01mif\u001b[39;00m \u001b[38;5;28mself\u001b[39m\u001b[38;5;241m.\u001b[39m_pin_memory:\n\u001b[0;32m    759\u001b[0m         data \u001b[38;5;241m=\u001b[39m _utils\u001b[38;5;241m.\u001b[39mpin_memory\u001b[38;5;241m.\u001b[39mpin_memory(data, \u001b[38;5;28mself\u001b[39m\u001b[38;5;241m.\u001b[39m_pin_memory_device)\n",
      "File \u001b[1;32mc:\\Users\\ramse\\anaconda3\\Lib\\site-packages\\torch\\utils\\data\\_utils\\fetch.py:55\u001b[0m, in \u001b[0;36m_MapDatasetFetcher.fetch\u001b[1;34m(self, possibly_batched_index)\u001b[0m\n\u001b[0;32m     53\u001b[0m \u001b[38;5;28;01melse\u001b[39;00m:\n\u001b[0;32m     54\u001b[0m     data \u001b[38;5;241m=\u001b[39m \u001b[38;5;28mself\u001b[39m\u001b[38;5;241m.\u001b[39mdataset[possibly_batched_index]\n\u001b[1;32m---> 55\u001b[0m \u001b[38;5;28;01mreturn\u001b[39;00m \u001b[38;5;28mself\u001b[39m\u001b[38;5;241m.\u001b[39mcollate_fn(data)\n",
      "File \u001b[1;32mc:\\Users\\ramse\\anaconda3\\Lib\\site-packages\\torch_geometric\\loader\\dataloader.py:27\u001b[0m, in \u001b[0;36mCollater.__call__\u001b[1;34m(self, batch)\u001b[0m\n\u001b[0;32m     25\u001b[0m elem \u001b[38;5;241m=\u001b[39m batch[\u001b[38;5;241m0\u001b[39m]\n\u001b[0;32m     26\u001b[0m \u001b[38;5;28;01mif\u001b[39;00m \u001b[38;5;28misinstance\u001b[39m(elem, BaseData):\n\u001b[1;32m---> 27\u001b[0m     \u001b[38;5;28;01mreturn\u001b[39;00m Batch\u001b[38;5;241m.\u001b[39mfrom_data_list(\n\u001b[0;32m     28\u001b[0m         batch,\n\u001b[0;32m     29\u001b[0m         follow_batch\u001b[38;5;241m=\u001b[39m\u001b[38;5;28mself\u001b[39m\u001b[38;5;241m.\u001b[39mfollow_batch,\n\u001b[0;32m     30\u001b[0m         exclude_keys\u001b[38;5;241m=\u001b[39m\u001b[38;5;28mself\u001b[39m\u001b[38;5;241m.\u001b[39mexclude_keys,\n\u001b[0;32m     31\u001b[0m     )\n\u001b[0;32m     32\u001b[0m \u001b[38;5;28;01melif\u001b[39;00m \u001b[38;5;28misinstance\u001b[39m(elem, torch\u001b[38;5;241m.\u001b[39mTensor):\n\u001b[0;32m     33\u001b[0m     \u001b[38;5;28;01mreturn\u001b[39;00m default_collate(batch)\n",
      "File \u001b[1;32mc:\\Users\\ramse\\anaconda3\\Lib\\site-packages\\torch_geometric\\data\\batch.py:97\u001b[0m, in \u001b[0;36mBatch.from_data_list\u001b[1;34m(cls, data_list, follow_batch, exclude_keys)\u001b[0m\n\u001b[0;32m     82\u001b[0m \u001b[38;5;129m@classmethod\u001b[39m\n\u001b[0;32m     83\u001b[0m \u001b[38;5;28;01mdef\u001b[39;00m \u001b[38;5;21mfrom_data_list\u001b[39m(\n\u001b[0;32m     84\u001b[0m     \u001b[38;5;28mcls\u001b[39m,\n\u001b[1;32m   (...)\u001b[0m\n\u001b[0;32m     87\u001b[0m     exclude_keys: Optional[List[\u001b[38;5;28mstr\u001b[39m]] \u001b[38;5;241m=\u001b[39m \u001b[38;5;28;01mNone\u001b[39;00m,\n\u001b[0;32m     88\u001b[0m ) \u001b[38;5;241m-\u001b[39m\u001b[38;5;241m>\u001b[39m Self:\n\u001b[0;32m     89\u001b[0m \u001b[38;5;250m    \u001b[39m\u001b[38;5;124mr\u001b[39m\u001b[38;5;124;03m\"\"\"Constructs a :class:`~torch_geometric.data.Batch` object from a\u001b[39;00m\n\u001b[0;32m     90\u001b[0m \u001b[38;5;124;03m    list of :class:`~torch_geometric.data.Data` or\u001b[39;00m\n\u001b[0;32m     91\u001b[0m \u001b[38;5;124;03m    :class:`~torch_geometric.data.HeteroData` objects.\u001b[39;00m\n\u001b[1;32m   (...)\u001b[0m\n\u001b[0;32m     95\u001b[0m \u001b[38;5;124;03m    Will exclude any keys given in :obj:`exclude_keys`.\u001b[39;00m\n\u001b[0;32m     96\u001b[0m \u001b[38;5;124;03m    \"\"\"\u001b[39;00m\n\u001b[1;32m---> 97\u001b[0m     batch, slice_dict, inc_dict \u001b[38;5;241m=\u001b[39m collate(\n\u001b[0;32m     98\u001b[0m         \u001b[38;5;28mcls\u001b[39m,\n\u001b[0;32m     99\u001b[0m         data_list\u001b[38;5;241m=\u001b[39mdata_list,\n\u001b[0;32m    100\u001b[0m         increment\u001b[38;5;241m=\u001b[39m\u001b[38;5;28;01mTrue\u001b[39;00m,\n\u001b[0;32m    101\u001b[0m         add_batch\u001b[38;5;241m=\u001b[39m\u001b[38;5;129;01mnot\u001b[39;00m \u001b[38;5;28misinstance\u001b[39m(data_list[\u001b[38;5;241m0\u001b[39m], Batch),\n\u001b[0;32m    102\u001b[0m         follow_batch\u001b[38;5;241m=\u001b[39mfollow_batch,\n\u001b[0;32m    103\u001b[0m         exclude_keys\u001b[38;5;241m=\u001b[39mexclude_keys,\n\u001b[0;32m    104\u001b[0m     )\n\u001b[0;32m    106\u001b[0m     batch\u001b[38;5;241m.\u001b[39m_num_graphs \u001b[38;5;241m=\u001b[39m \u001b[38;5;28mlen\u001b[39m(data_list)  \u001b[38;5;66;03m# type: ignore\u001b[39;00m\n\u001b[0;32m    107\u001b[0m     batch\u001b[38;5;241m.\u001b[39m_slice_dict \u001b[38;5;241m=\u001b[39m slice_dict  \u001b[38;5;66;03m# type: ignore\u001b[39;00m\n",
      "File \u001b[1;32mc:\\Users\\ramse\\anaconda3\\Lib\\site-packages\\torch_geometric\\data\\collate.py:117\u001b[0m, in \u001b[0;36mcollate\u001b[1;34m(cls, data_list, increment, add_batch, follow_batch, exclude_keys)\u001b[0m\n\u001b[0;32m    114\u001b[0m \u001b[38;5;28;01mif\u001b[39;00m \u001b[38;5;28misinstance\u001b[39m(value, Tensor) \u001b[38;5;129;01mand\u001b[39;00m value\u001b[38;5;241m.\u001b[39mis_cuda:\n\u001b[0;32m    115\u001b[0m     device \u001b[38;5;241m=\u001b[39m value\u001b[38;5;241m.\u001b[39mdevice\n\u001b[1;32m--> 117\u001b[0m out_store[attr] \u001b[38;5;241m=\u001b[39m value\n\u001b[0;32m    119\u001b[0m \u001b[38;5;28;01mif\u001b[39;00m key \u001b[38;5;129;01mis\u001b[39;00m \u001b[38;5;129;01mnot\u001b[39;00m \u001b[38;5;28;01mNone\u001b[39;00m:  \u001b[38;5;66;03m# Heterogeneous:\u001b[39;00m\n\u001b[0;32m    120\u001b[0m     store_slice_dict \u001b[38;5;241m=\u001b[39m slice_dict\u001b[38;5;241m.\u001b[39mget(key, {})\n",
      "File \u001b[1;32mc:\\Users\\ramse\\anaconda3\\Lib\\site-packages\\torch_geometric\\data\\storage.py:120\u001b[0m, in \u001b[0;36mBaseStorage.__setitem__\u001b[1;34m(self, key, value)\u001b[0m\n\u001b[0;32m    117\u001b[0m \u001b[38;5;28;01mdef\u001b[39;00m \u001b[38;5;21m__getitem__\u001b[39m(\u001b[38;5;28mself\u001b[39m, key: \u001b[38;5;28mstr\u001b[39m) \u001b[38;5;241m-\u001b[39m\u001b[38;5;241m>\u001b[39m Any:\n\u001b[0;32m    118\u001b[0m     \u001b[38;5;28;01mreturn\u001b[39;00m \u001b[38;5;28mself\u001b[39m\u001b[38;5;241m.\u001b[39m_mapping[key]\n\u001b[1;32m--> 120\u001b[0m \u001b[38;5;28;01mdef\u001b[39;00m \u001b[38;5;21m__setitem__\u001b[39m(\u001b[38;5;28mself\u001b[39m, key: \u001b[38;5;28mstr\u001b[39m, value: Any) \u001b[38;5;241m-\u001b[39m\u001b[38;5;241m>\u001b[39m \u001b[38;5;28;01mNone\u001b[39;00m:\n\u001b[0;32m    121\u001b[0m     \u001b[38;5;28mself\u001b[39m\u001b[38;5;241m.\u001b[39m_pop_cache(key)\n\u001b[0;32m    122\u001b[0m     \u001b[38;5;28;01mif\u001b[39;00m value \u001b[38;5;129;01mis\u001b[39;00m \u001b[38;5;28;01mNone\u001b[39;00m \u001b[38;5;129;01mand\u001b[39;00m key \u001b[38;5;129;01min\u001b[39;00m \u001b[38;5;28mself\u001b[39m\u001b[38;5;241m.\u001b[39m_mapping:\n",
      "\u001b[1;31mKeyboardInterrupt\u001b[0m: "
     ]
    }
   ],
   "source": [
    "# Entrenamiento\n",
    "train_losses = []\n",
    "val_losses = []\n",
    "epoch_times = []\n",
    "\n",
    "early_stopper = EarlyStopping(patience=config[\"early_stop_patience\"])\n",
    "max_epochs = config[\"max_epochs\"]\n",
    "best_lr=config[\"lr\"]\n",
    "\n",
    "print(\"Iniciando entrenamiento...\")\n",
    "for epoch in range(config[\"max_epochs\"]):\n",
    "    start_time = time.time() \n",
    "\n",
    "    # Entrenar\n",
    "    train_loss = train(model, train_loader, optimizer, device, norm_info, lambda_physics=config[\"lambda_physics\"],\n",
    "                       use_physics=config[\"use_physics\"], lambda_boundary=config[\"lambda_boundary\"],\n",
    "                       use_boundary_loss=config[\"use_boundary_loss\"], lambda_heater=config[\"lambda_heater\"],\n",
    "                       use_heater_loss=config[\"use_heater_loss\"])\n",
    "    train_losses.append(train_loss)\n",
    "\n",
    "    # Evaluar en validación\n",
    "    val_mse, val_mae, val_r2, val_accuracy, val_physics, val_boundary, val_heaters, val_rmse, val_total_loss = evaluate(\n",
    "        model, val_loader, device, norm_info, lambda_physics=config[\"lambda_physics\"],\n",
    "        use_physics=config[\"use_physics\"], lambda_boundary=config[\"lambda_boundary\"],\n",
    "        use_boundary_loss=config[\"use_boundary_loss\"], lambda_heater=config[\"lambda_heater\"],\n",
    "        use_heater_loss=config[\"use_heater_loss\"],\n",
    "        error_threshold=config[\"error_threshold_K\"],\n",
    "        percentage_threshold=config[\"percentage_threshold\"] if config[\"use_percentage_threshold\"] else None,\n",
    "        plot_results=False\n",
    "    )\n",
    "    val_losses.append(val_mse)\n",
    "\n",
    "    scheduler.step(val_mse)\n",
    "\n",
    "    # Medir tiempo transcurrido\n",
    "    epoch_duration = time.time() - start_time\n",
    "    epoch_times.append(epoch_duration)\n",
    "\n",
    "    # Formatear bien los losses opcionales\n",
    "    physics_loss_str = f\"{val_physics:.6f}\" if config[\"use_physics\"] else \"N/A\"\n",
    "    boundary_loss_str = f\"{val_boundary:.6f}\" if config[\"use_boundary_loss\"] else \"N/A\"\n",
    "    heaters_loss_str = f\"{val_heaters:.6f}\" if config[\"use_heater_loss\"] else \"N/A\"\n",
    "\n",
    "    # Imprimir métricas\n",
    "    print(f\"Epoch {epoch + 1} - \"\n",
    "          f\"Train Loss: {train_loss:.6f} | \"\n",
    "          f\"Val MSE: {val_mse:.6f} | \"\n",
    "          f\"Val MAE: {val_mae:.6f} | \"\n",
    "          f\"Val R²: {val_r2:.4f} | \"\n",
    "          f\"[Boundary loss] {boundary_loss_str} | \"\n",
    "          f\"[Heaters loss] {heaters_loss_str} | \"\n",
    "          f\"[Physics loss] {physics_loss_str} | \"\n",
    "          f\"Val Accuracy: {val_accuracy:.2f}% | \"\n",
    "          f\"LR: {optimizer.param_groups[0]['lr']:.9f} | \"\n",
    "          f\"Time: {epoch_duration:.2f}s\")\n",
    "\n",
    "    # Guardar el mejor modelo\n",
    "    if val_total_loss < early_stopper.best_loss:\n",
    "        best_model_state = model.state_dict()\n",
    "        final_epoch = epoch + 1\n",
    "        best_lr = optimizer.param_groups[0]['lr']\n",
    "\n",
    "    early_stopper(val_total_loss, epoch)\n",
    "    if early_stopper.early_stop:\n",
    "        print(f\" Early stopping triggered at epoch {epoch}\")\n",
    "        avg_epoch_time = np.mean(epoch_times)\n",
    "        print(f\"Tiempo por época        : {avg_epoch_time:.2f}\")\n",
    "        break\n"
   ]
  },
  {
   "cell_type": "code",
   "execution_count": 22,
   "id": "df90a2d8",
   "metadata": {},
   "outputs": [
    {
     "name": "stdout",
     "output_type": "stream",
     "text": [
      "Nombre del modelo: GCN_Layers_7_HDim_32_Epochs_32_Lr_0.001698484_B_LOSS_True_Lambda_1.0_H_LOSS_False_Lambda_0.0_PI_True_Lambda_0.01_Batch_16.pth\n"
     ]
    }
   ],
   "source": [
    "# Cargar el mejor modelo antes de guardar\n",
    "if best_model_state is not None:\n",
    "    model.load_state_dict(best_model_state)\n",
    "else:\n",
    "    print(\"Advertencia: No se ha encontrado un modelo mejor durante el entrenamiento.\")\n",
    "\n",
    "# Crear nombre de archivo con los hiperparámetros clave\n",
    "model_name = (\n",
    "    f\"GCN_Layers_{config['num_layers']}_\"\n",
    "    f\"HDim_{config['hidden_dim']}_\"\n",
    "    f\"Epochs_{final_epoch}_\"\n",
    "    f\"Lr_{best_lr:.9f}_\"\n",
    "    f\"B_LOSS_{config['use_boundary_loss']}_\"\n",
    "    f\"Lambda_{config['lambda_boundary']}_\"\n",
    "    f\"H_LOSS_{config['use_heater_loss']}_\"\n",
    "    f\"Lambda_{config['lambda_heater']}_\"\n",
    "    f\"PI_{config['use_physics']}_\"\n",
    "    f\"Lambda_{config['lambda_physics']}_\"\n",
    "    f\"Batch_{config['batch_size']}.pth\"\n",
    ")\n",
    "print(\"Nombre del modelo:\", model_name)"
   ]
  },
  {
   "cell_type": "code",
   "execution_count": 23,
   "id": "c124d154",
   "metadata": {},
   "outputs": [
    {
     "data": {
      "image/png": "[encoded data removed]",
      "text/plain": [
       "<Figure size 800x500 with 1 Axes>"
      ]
     },
     "metadata": {},
     "output_type": "display_data"
    }
   ],
   "source": [
    "# GRAFICAR MSE\n",
    "# Crear carpeta si no existe\n",
    "os.makedirs(\"LOSS_IMG\", exist_ok=True)\n",
    "loss_img_filename = model_name.replace(\".pth\", \".svg\")\n",
    "loss_img_path = os.path.join(\"LOSS_IMG\", loss_img_filename)\n",
    "\n",
    "plt.figure(figsize=(8, 5))\n",
    "plt.plot(train_losses, label='Train Loss', linewidth=2)\n",
    "plt.plot(val_losses, label='Val Loss (MSE)', linewidth=2)\n",
    "\n",
    "# Escala logarítmica en y (opcional)\n",
    "plt.yscale(\"log\")\n",
    "\n",
    "plt.xlabel('Epoch')\n",
    "plt.ylabel('MSE Loss')\n",
    "plt.title('Evolución del Loss por Época')\n",
    "plt.legend()\n",
    "plt.grid(True)\n",
    "plt.tight_layout()\n",
    "\n",
    "# Eje X con enteros\n",
    "ax = plt.gca()\n",
    "ax.xaxis.set_major_locator(ticker.MaxNLocator(integer=True))\n",
    "\n",
    "plt.savefig(loss_img_path, format=\"svg\") \n",
    "plt.show()"
   ]
  },
  {
   "cell_type": "markdown",
   "id": "a6109da7",
   "metadata": {},
   "source": [
    "### Carga de modelos ya entrenados"
   ]
  },
  {
   "cell_type": "code",
   "execution_count": null,
   "id": "285a4877",
   "metadata": {},
   "outputs": [],
   "source": [
    "if config[\"load_model\"]:\n",
    "    from dataset_utils import load_model_by_name\n",
    "\n",
    "    # Definir el modelo a cargar, los modelos guardados no guardan la arquitectura de la red\n",
    "    model = GCN(\n",
    "        input_dim=config[\"input_dim\"],\n",
    "        hidden_dim=config[\"hidden_dim\"],\n",
    "        output_dim=config[\"output_dim\"],\n",
    "        num_layers=config[\"num_layers\"],\n",
    "        use_dropout=config[\"use_dropout\"],\n",
    "        dropout_rate=config[\"dropout_rate\"],\n",
    "        use_batchnorm=config[\"use_batchnorm\"],\n",
    "        use_residual=config[\"use_residual\"]\n",
    "    ).to(device)\n",
    "\n",
    "    # Nombre exacto del archivo que quieres cargar, cambiar solo los números\n",
    "    model_filename = \"GCN_Layers_8_HDim_128_Epochs_216_Lr_0.000000271_B_LOSS_True_Lambda_1_H_LOSS_True_Lambda_10_PI_True_Lambda_0.001_Batch_16.pth\"\n",
    "\n",
    "    # Cargar modelo concreto\n",
    "    model = load_model_by_name(model, model_filename)\n",
    "    print(\"Modelo cargado:\", model_filename)\n"
   ]
  },
  {
   "cell_type": "markdown",
   "id": "847445b4",
   "metadata": {},
   "source": [
    "### Evaluación"
   ]
  },
  {
   "cell_type": "code",
   "execution_count": 24,
   "id": "fea022f7",
   "metadata": {},
   "outputs": [
    {
     "name": "stdout",
     "output_type": "stream",
     "text": [
      "Evaluando en test set con visualización de un ejemplo:\n"
     ]
    },
    {
     "data": {
      "image/png": "[encoded data removed]",
      "text/plain": [
       "<Figure size 1800x600 with 6 Axes>"
      ]
     },
     "metadata": {},
     "output_type": "display_data"
    },
    {
     "name": "stdout",
     "output_type": "stream",
     "text": [
      "MAE en Kelvin     : 55.161 K\n",
      "RMSE en Kelvin    : 58.183 K\n",
      "MSE en Kelvin²    : 3385.234 K²\n",
      "Resultados del test:\n",
      "MSE       : 0.025414\n",
      "MAE       : 0.151137\n",
      "R²        : -23.9324\n",
      "Accuracy  : 0.01%\n",
      "Boundary Loss  : 0.000066\n",
      "Heaters Loss  : 0.000000\n",
      "Physics Loss  : 1.391571\n"
     ]
    }
   ],
   "source": [
    "# Evaluar en test y graficar un ejemplo\n",
    "print(\"Evaluando en test set con visualización de un ejemplo:\")\n",
    "test_mse, test_mae, test_r2, test_accuracy, test_physics, test_boundary, test_heater, test_rmse, test_total_loss = evaluate(\n",
    "    model, test_loader, device, norm_info, lambda_physics=config[\"lambda_physics\"],\n",
    "    use_physics=config[\"use_physics\"], lambda_boundary=config[\"lambda_boundary\"],\n",
    "    use_boundary_loss=config[\"use_boundary_loss\"], lambda_heater=config[\"lambda_heater\"],\n",
    "    use_heater_loss=config[\"use_heater_loss\"],\n",
    "    error_threshold=config[\"error_threshold_K\"],\n",
    "    percentage_threshold=config[\"percentage_threshold\"] if config[\"use_percentage_threshold\"] else None,\n",
    "    plot_results=True\n",
    ")\n",
    "\n",
    "physics_loss_str = f\"{test_physics:.6f}\" if test_physics is not None else \"N/A\"\n",
    "\n",
    "max_T_outputs = norm_info[\"max_T_outputs\"].to(device)\n",
    "mae_K = test_mae * max_T_outputs\n",
    "rmse_K = test_rmse * (max_T_outputs)\n",
    "mse_K = test_mse * (max_T_outputs ** 2)\n",
    "print(f\"MAE en Kelvin     : {mae_K:.3f} K\")\n",
    "print(f\"RMSE en Kelvin    : {rmse_K:.3f} K\")\n",
    "print(f\"MSE en Kelvin²    : {mse_K:.3f} K²\")\n",
    "\n",
    "\n",
    "print(\"Resultados del test:\")\n",
    "print(f\"MSE       : {test_mse:.6f}\")\n",
    "print(f\"MAE       : {test_mae:.6f}\")\n",
    "print(f\"R²        : {test_r2:.4f}\")\n",
    "print(f\"Accuracy  : {test_accuracy:.2f}%\")\n",
    "print(f\"Boundary Loss  : {test_boundary:.6f}\")\n",
    "print(f\"Heaters Loss  : {test_heater:.6f}\")\n",
    "print(f\"Physics Loss  : {physics_loss_str}\")"
   ]
  },
  {
   "cell_type": "markdown",
   "id": "ddc799c2",
   "metadata": {},
   "source": [
    "### GNNExplainer"
   ]
  },
  {
   "cell_type": "code",
   "execution_count": null,
   "id": "1c5dbbb7",
   "metadata": {},
   "outputs": [
    {
     "name": "stdout",
     "output_type": "stream",
     "text": [
      "Número de nodos: 169\n"
     ]
    },
    {
     "data": {
      "image/png": "[encoded data removed]",
      "text/plain": [
       "<Figure size 1200x500 with 4 Axes>"
      ]
     },
     "metadata": {},
     "output_type": "display_data"
    },
    {
     "name": "stdout",
     "output_type": "stream",
     "text": [
      "Max true: 0.932275116443634\n",
      "Min true: 0.7701469659805298\n"
     ]
    }
   ],
   "source": [
    "from torch_geometric.explain import Explainer, GNNExplainer, ModelConfig\n",
    "\n",
    "# Poner el modelo en modo evaluación\n",
    "model.eval()\n",
    "\n",
    "# Crear el explainer solo una vez\n",
    "explainer = Explainer(\n",
    "    model=model,\n",
    "    algorithm=GNNExplainer(epochs=200),\n",
    "    explanation_type='model',\n",
    "    edge_mask_type='object',\n",
    "    node_mask_type='attributes',\n",
    "    model_config=ModelConfig(\n",
    "        mode='regression',\n",
    "        task_level='node',\n",
    "        return_type='raw'\n",
    "    )\n",
    ")\n",
    "\n",
    "# ---------------- CONFIGURACIÓN ----------------\n",
    "graph_idx = 3      # <- Cambia este valor para elegir el grafo del test set\n",
    "node_idx = 69     # <- Cambia este valor para elegir el nodo a explicar\n",
    "# ------------------------------------------------\n",
    "\n",
    "# Obtener el grafo y pasarlo a GPU si es necesario\n",
    "graph = test_dataset[graph_idx].to(device)\n",
    "\n",
    "# Predecir con el modelo\n",
    "with torch.no_grad():\n",
    "    pred = model(graph.x, graph.edge_index).squeeze()\n",
    "true = graph.y.squeeze()\n",
    "#error = torch.abs(pred - true)\n",
    "pred_real = pred * max_T_interfaces\n",
    "true_real = true * max_T_interfaces\n",
    "error_real = torch.abs(pred_real - true_real)\n",
    "\n",
    "# Obtener explicación\n",
    "explanation = explainer(\n",
    "    x=graph.x,\n",
    "    edge_index=graph.edge_index,\n",
    "    index=node_idx\n",
    ")\n",
    "\n",
    "# Obtener importancia del explainer y agrupar por nodo\n",
    "importance = explanation.node_mask.squeeze().cpu()      # Así obtenemos las features por nodo\n",
    "importance = importance.view(-1, 3)                     # Cambiamos a un tensor que pueda ser interpretado como [num_nodes, num_features]\n",
    "importance_per_node = importance.mean(dim=1)            # [num_nodes] Hacemos la media de la importancia de las 3 características en la predicción\n",
    "\n",
    "# Obtener tamaño cuadrícula real del dataset\n",
    "num_nodes = graph.y.numel()\n",
    "print(\"Número de nodos:\", num_nodes)\n",
    "grid_size = int(num_nodes ** 0.5)\n",
    "assert grid_size ** 2 == num_nodes, f\"El número de nodos ({num_nodes}) no coincide con cuadrícula {grid_size}x{grid_size}\"\n",
    "\n",
    "# Convertir vectores a cuadrícula\n",
    "importance_grid = importance_per_node.view(grid_size, grid_size)\n",
    "error_grid = error_real.view(grid_size, grid_size).cpu()\n",
    "\n",
    "# Visualización\n",
    "fig, axs = plt.subplots(1, 2, figsize=(12, 5))\n",
    "\n",
    "im1 = axs[0].imshow(importance_grid, cmap='hot')\n",
    "# Coordenadas del nodo que estás explicando\n",
    "row = node_idx // grid_size\n",
    "col = node_idx % grid_size\n",
    "\n",
    "# Dibujar un punto rojo en la celda correspondiente\n",
    "axs[0].plot(col, row, 'o', markersize=10, markeredgecolor='black', markerfacecolor='cyan', label='Nodo explicado')\n",
    "axs[0].legend(loc='upper right')\n",
    "\n",
    "axs[0].set_title(f\"Importancia (nodo {node_idx})\")\n",
    "plt.colorbar(im1, ax=axs[0])\n",
    "\n",
    "im2 = axs[1].imshow(error_grid, cmap='Blues')\n",
    "# Número de nodos a etiquetar\n",
    "top_n = 5  # \"n\" nodos de mayor error a mostrar\n",
    "\n",
    "# Obtener los índices de los nodos con mayor error\n",
    "top_error_nodes = torch.topk(error_real, top_n).indices.cpu()\n",
    "\n",
    "for idx in top_error_nodes:\n",
    "    idx = idx.item()\n",
    "    row = idx // grid_size\n",
    "    col = idx % grid_size\n",
    "    axs[1].text(\n",
    "        col, row, str(idx),\n",
    "        ha='center', va='center',\n",
    "        fontsize=8, fontweight='bold',\n",
    "        color='black', bbox=dict(boxstyle='round,pad=0.2', facecolor='white', edgecolor='none', alpha=0.7)\n",
    "    )\n",
    "axs[1].set_title(\"Error absoluto por nodo desnormalizado\")\n",
    "plt.colorbar(im2, ax=axs[1])\n",
    "\n",
    "plt.suptitle(f\"Grafo {graph_idx} | Nodo {node_idx} explicado\")\n",
    "plt.tight_layout()\n",
    "plt.show()\n"
   ]
  },
  {
   "cell_type": "markdown",
   "id": "5e194f71",
   "metadata": {},
   "source": [
    "### Guardado del modelo ya entrenado"
   ]
  },
  {
   "cell_type": "code",
   "execution_count": null,
   "id": "cf2a4c5f",
   "metadata": {},
   "outputs": [
    {
     "name": "stdout",
     "output_type": "stream",
     "text": [
      " Modelo guardado en: saved_models\\GCN_Layers_8_HDim_32_Epochs_215_Lr_0.000004439_B_LOSS_True_Lambda_1_H_LOSS_True_Lambda_10_PI_True_Lambda_0.001_Batch_32.pth\n"
     ]
    }
   ],
   "source": [
    "# Crear carpeta si no existe\n",
    "save_dir = \"saved_models\"\n",
    "os.makedirs(save_dir, exist_ok=True)\n",
    "\n",
    "# Guardar el modelo\n",
    "model_path = os.path.join(save_dir, model_name)\n",
    "if config[\"save_model\"]:\n",
    "    # Guardar el modelo entrenado\n",
    "    torch.save(model.state_dict(), model_path)\n",
    "\n",
    "    print(f\" Modelo guardado en: {model_path}\")"
   ]
  },
  {
   "cell_type": "markdown",
   "id": "368d2128",
   "metadata": {},
   "source": [
    "### Predicción"
   ]
  },
  {
   "cell_type": "code",
   "execution_count": null,
   "id": "dc8b9e14",
   "metadata": {},
   "outputs": [
    {
     "ename": "SyntaxError",
     "evalue": "invalid syntax (985569303.py, line 1)",
     "output_type": "error",
     "traceback": [
      "\u001b[1;36m  Cell \u001b[1;32mIn[28], line 1\u001b[1;36m\u001b[0m\n\u001b[1;33m    fr train_eval import predict\u001b[0m\n\u001b[1;37m       ^\u001b[0m\n\u001b[1;31mSyntaxError\u001b[0m\u001b[1;31m:\u001b[0m invalid syntax\n"
     ]
    }
   ],
   "source": [
    "\n",
    "# from train_eval import predict\n",
    "# from dataset_utils import load_latest_model\n",
    "# # Cargar el modelo más reciente\n",
    "# model = GCN(\n",
    "#     input_dim=config[\"input_dim\"],\n",
    "#     hidden_dim=config[\"hidden_dim\"],\n",
    "#     output_dim=config[\"output_dim\"],\n",
    "#     num_layers=config[\"num_layers\"],\n",
    "#     use_dropout=config[\"use_dropout\"],\n",
    "#     dropout_rate=config[\"dropout_rate\"],\n",
    "#     use_batchnorm=config[\"use_batchnorm\"],\n",
    "#     use_residual=config[\"use_residual\"]\n",
    "# )\n",
    "\n",
    "# model = load_latest_model(model)\n",
    "\n",
    "# # Predecir sobre test\n",
    "# predicciones = predict(model, test_loader, device, norm_info)\n",
    "\n",
    "# print(\"Predicciones shape:\", predicciones.shape)"
   ]
  }
 ],
 "metadata": {
  "kernelspec": {
   "display_name": "base",
   "language": "python",
   "name": "python3"
  },
  "language_info": {
   "codemirror_mode": {
    "name": "ipython",
    "version": 3
   },
   "file_extension": ".py",
   "mimetype": "text/x-python",
   "name": "python",
   "nbconvert_exporter": "python",
   "pygments_lexer": "ipython3",
   "version": "3.12.9"
  }
 },
 "nbformat": 4,
 "nbformat_minor": 5
}
