{
 "cells": [
  {
   "cell_type": "markdown",
   "id": "f6519f31",
   "metadata": {},
   "source": [
    "# Librerías"
   ]
  },
  {
   "cell_type": "code",
   "execution_count": 1,
   "id": "f27a23e4",
   "metadata": {},
   "outputs": [],
   "source": [
    "import torch\n",
    "import matplotlib.pyplot as plt\n",
    "import matplotlib.ticker as ticker\n",
    "import os\n",
    "import numpy as np\n",
    "import time\n",
    "import platform\n",
    "import random\n",
    "from torch.optim.lr_scheduler import ReduceLROnPlateau\n",
    "from gcn_model import GCN\n",
    "from torch_geometric.loader import DataLoader\n",
    "from dataset_utils import generate_edge_index, build_graph_list, build_graph_from_sample\n",
    "from train_eval import train, evaluate, EarlyStopping"
   ]
  },
  {
   "cell_type": "code",
   "execution_count": 2,
   "id": "170d8493",
   "metadata": {},
   "outputs": [
    {
     "name": "stdout",
     "output_type": "stream",
     "text": [
      "Using device: cuda\n"
     ]
    }
   ],
   "source": [
    "# Device configuration\n",
    "device = torch.device('cuda' if torch.cuda.is_available() else 'cpu')\n",
    "print('Using device:', device)"
   ]
  },
  {
   "cell_type": "code",
   "execution_count": 3,
   "id": "1fbe6b92",
   "metadata": {},
   "outputs": [
    {
     "name": "stdout",
     "output_type": "stream",
     "text": [
      "system_specs {'os': 'Windows', 'os_version': '10.0.22000', 'machine': 'AMD64', 'processor': 'Intel64 Family 6 Model 158 Stepping 10, GenuineIntel', 'python_version': '3.12.9', 'device': 'cuda', 'gpu_name': 'NVIDIA GeForce RTX 2060', 'gpu_memory_total_GB': 6.0, 'cuda_version': '12.1'}\n"
     ]
    }
   ],
   "source": [
    "# Propiedades del sistema\n",
    "system_specs = {\n",
    "    \"os\": platform.system(),  # e.g. \"Linux\", \"Windows\", \"Darwin\"\n",
    "    \"os_version\": platform.version(),\n",
    "    \"machine\": platform.machine(),  # e.g. \"x86_64\"\n",
    "    \"processor\": platform.processor(),  # e.g. \"Intel64 Family 6 Model 158\"\n",
    "    \"python_version\": platform.python_version(),\n",
    "    \"device\": str(device)\n",
    "}\n",
    "if torch.cuda.is_available():\n",
    "    system_specs[\"gpu_name\"] = torch.cuda.get_device_name(0)\n",
    "    system_specs[\"gpu_memory_total_GB\"] = round(torch.cuda.get_device_properties(0).total_memory / (1024**3), 2)\n",
    "    system_specs[\"cuda_version\"] = torch.version.cuda\n",
    "    print(\"system_specs\", system_specs)\n"
   ]
  },
  {
   "cell_type": "code",
   "execution_count": 4,
   "id": "b9ddd377",
   "metadata": {},
   "outputs": [
    {
     "name": "stdout",
     "output_type": "stream",
     "text": [
      "c:\\Users\\ramse\\Escritorio\\Aero Ordenador\\4to Aero\\2do Cuatri\\ia_thermal\\ernestoemedina\\GCN_MK1\n"
     ]
    }
   ],
   "source": [
    "dir_path = os.getcwd()\n",
    "print(dir_path)"
   ]
  },
  {
   "cell_type": "code",
   "execution_count": 5,
   "id": "0ba6b3d9",
   "metadata": {},
   "outputs": [
    {
     "name": "stderr",
     "output_type": "stream",
     "text": [
      "C:\\Users\\ramse\\AppData\\Local\\Temp\\ipykernel_14228\\1864307277.py:7: FutureWarning: You are using `torch.load` with `weights_only=False` (the current default value), which uses the default pickle module implicitly. It is possible to construct malicious pickle data which will execute arbitrary code during unpickling (See https://github.com/pytorch/pytorch/blob/main/SECURITY.md#untrusted-models for more details). In a future release, the default value for `weights_only` will be flipped to `True`. This limits the functions that could be executed during unpickling. Arbitrary objects will no longer be allowed to be loaded via this mode unless they are explicitly allowlisted by the user via `torch.serialization.add_safe_globals`. We recommend you start setting `weights_only=True` for any use case where you don't have full control of the loaded file. Please open an issue on GitHub for any issues related to this experimental feature.\n",
      "  dataset = torch.load(dataset_path)\n",
      "C:\\Users\\ramse\\AppData\\Local\\Temp\\ipykernel_14228\\1864307277.py:8: FutureWarning: You are using `torch.load` with `weights_only=False` (the current default value), which uses the default pickle module implicitly. It is possible to construct malicious pickle data which will execute arbitrary code during unpickling (See https://github.com/pytorch/pytorch/blob/main/SECURITY.md#untrusted-models for more details). In a future release, the default value for `weights_only` will be flipped to `True`. This limits the functions that could be executed during unpickling. Arbitrary objects will no longer be allowed to be loaded via this mode unless they are explicitly allowlisted by the user via `torch.serialization.add_safe_globals`. We recommend you start setting `weights_only=True` for any use case where you don't have full control of the loaded file. Please open an issue on GitHub for any issues related to this experimental feature.\n",
      "  norm_dataset = torch.load(norm_dataset_path)\n",
      "C:\\Users\\ramse\\AppData\\Local\\Temp\\ipykernel_14228\\1864307277.py:9: FutureWarning: You are using `torch.load` with `weights_only=False` (the current default value), which uses the default pickle module implicitly. It is possible to construct malicious pickle data which will execute arbitrary code during unpickling (See https://github.com/pytorch/pytorch/blob/main/SECURITY.md#untrusted-models for more details). In a future release, the default value for `weights_only` will be flipped to `True`. This limits the functions that could be executed during unpickling. Arbitrary objects will no longer be allowed to be loaded via this mode unless they are explicitly allowlisted by the user via `torch.serialization.add_safe_globals`. We recommend you start setting `weights_only=True` for any use case where you don't have full control of the loaded file. Please open an issue on GitHub for any issues related to this experimental feature.\n",
      "  norm_info = torch.load(info_path)\n"
     ]
    }
   ],
   "source": [
    "# Ruta del dataset completo\n",
    "dataset_path = os.path.join(dir_path, \"Datasets\", \"PCB_dataset.pth\")\n",
    "norm_dataset_path = os.path.join(dir_path, \"Datasets\", \"PCB_Dataset_Norm.pth\")\n",
    "info_path = os.path.join(dir_path, \"Datasets\", \"normalization_info.pth\")\n",
    "\n",
    "# Cargar dataset\n",
    "dataset = torch.load(dataset_path)\n",
    "norm_dataset = torch.load(norm_dataset_path)\n",
    "norm_info = torch.load(info_path)"
   ]
  },
  {
   "cell_type": "markdown",
   "id": "d2fbec94",
   "metadata": {},
   "source": [
    "## Para desnormalizar"
   ]
  },
  {
   "cell_type": "code",
   "execution_count": 6,
   "id": "e1c54c1f",
   "metadata": {},
   "outputs": [
    {
     "name": "stdout",
     "output_type": "stream",
     "text": [
      "max_T_output tensor(364.9723)\n"
     ]
    }
   ],
   "source": [
    "max_T_interfaces = norm_info[\"max_T_interfaces\"]\n",
    "max_Q_heaters = norm_info[\"max_Q_heaters\"]\n",
    "max_T_env = norm_info[\"max_T_env\"]\n",
    "max_T_outputs = norm_info[\"max_T_outputs\"]\n",
    "print(\"max_T_output\", max_T_outputs)\n",
    "\n",
    "def desnormalize_inputs(dataset_norm, idx):\n",
    "    T_interfaces_norm = dataset_norm.T_interfaces[idx]\n",
    "    Q_heaters_norm = dataset_norm.Q_heaters[idx]\n",
    "    T_env_norm = dataset_norm.T_env[idx]\n",
    "    \n",
    "    T_interfaces_real = T_interfaces_norm * max_T_interfaces\n",
    "    Q_heaters_real = Q_heaters_norm * max_Q_heaters\n",
    "    T_env_real = T_env_norm * max_T_env\n",
    "    \n",
    "    return T_interfaces_real, Q_heaters_real, T_env_real"
   ]
  },
  {
   "cell_type": "code",
   "execution_count": 7,
   "id": "d9878b37",
   "metadata": {},
   "outputs": [
    {
     "name": "stdout",
     "output_type": "stream",
     "text": [
      "tensor(307.6863) K\n",
      "tensor(0.8122) W\n",
      "tensor(276.9086) K\n"
     ]
    }
   ],
   "source": [
    "idx = 1\n",
    "T_interfaces_real, Q_heaters_real, T_env_real = desnormalize_inputs(norm_dataset, idx)\n",
    "\n",
    "# Por ejemplo:\n",
    "print(torch.max(T_interfaces_real), \"K\")\n",
    "print(torch.max(Q_heaters_real), \"W\")\n",
    "print(torch.max(T_env_real), \"K\")\n"
   ]
  },
  {
   "cell_type": "code",
   "execution_count": 8,
   "id": "dff0e0b3",
   "metadata": {},
   "outputs": [
    {
     "name": "stdout",
     "output_type": "stream",
     "text": [
      "torch.Size([30000, 13, 13])\n",
      "tensor(307.6863) K\n",
      "tensor(0.8122) W\n",
      "tensor(276.9086) K\n"
     ]
    }
   ],
   "source": [
    "# Seleccionar un índice para graficar\n",
    "idx = 1  # Puedes cambiar este valor\n",
    "\n",
    "# Obtener los valores reales de las CC en T, Q y T_env\n",
    "T_interfaces_real = dataset.denormalize_T_interfaces(dataset.T_interfaces)\n",
    "Q_heaters_real = dataset.denormalize_Q_heaters(dataset.Q_heaters)\n",
    "T_env_real = dataset.denormalize_T_env(dataset.T_env)\n",
    "\n",
    "print(T_interfaces_real.shape)\n",
    "print(torch.max(T_interfaces_real[idx]), \"K\")\n",
    "print(torch.max(Q_heaters_real[idx]), \"W\")\n",
    "print(torch.max(T_env_real[idx]), \"K\")\n"
   ]
  },
  {
   "cell_type": "code",
   "execution_count": 9,
   "id": "bfc34ac6",
   "metadata": {},
   "outputs": [],
   "source": [
    "idx = 10\n",
    "T_interfaces_norm = norm_dataset.T_interfaces[idx]\n",
    "Q_heaters_norm = norm_dataset.Q_heaters[idx]\n",
    "T_env_norm = norm_dataset.T_env[idx]"
   ]
  },
  {
   "cell_type": "code",
   "execution_count": 10,
   "id": "5de920d4",
   "metadata": {},
   "outputs": [
    {
     "data": {
      "image/png": "[encoded data removed]",
      "text/plain": [
       "<Figure size 1500x500 with 6 Axes>"
      ]
     },
     "metadata": {},
     "output_type": "display_data"
    }
   ],
   "source": [
    "# === Configuración de estilo global ===\n",
    "plt.style.use('default')\n",
    "plt.rcParams[\"figure.figsize\"] = (6, 4)   # Figura por defecto\n",
    "plt.rcParams[\"font.family\"] = \"Times New Roman\"\n",
    "plt.rcParams[\"font.size\"] = 12\n",
    "plt.rcParams[\"text.usetex\"] = False\n",
    "plt.rcParams[\"axes.titlesize\"] = 17\n",
    "\n",
    "# === Crear figura específica para mostrar las 3 variables ===\n",
    "# Nota: Sobrescribimos figsize solo para este plot múltiple:\n",
    "fig, axs = plt.subplots(1, 3, figsize=(15, 5))  # Tamaño específico para la cuadrícula de 3 gráficas\n",
    "\n",
    "# Primer mapa\n",
    "im1 = axs[0].imshow(T_interfaces_norm.numpy(), cmap='hot')\n",
    "axs[0].set_title(\"Interfaces Temperature, normalized [0–1]\")\n",
    "plt.colorbar(im1, ax=axs[0])\n",
    "\n",
    "# Segundo mapa\n",
    "im2 = axs[1].imshow(Q_heaters_norm.numpy(), cmap='hot')\n",
    "axs[1].set_title(\"Power Dissipated, normalized [0–1]\")\n",
    "plt.colorbar(im2, ax=axs[1])\n",
    "\n",
    "# Tercer mapa\n",
    "im3 = axs[2].imshow(T_env_norm.numpy(), cmap='hot')\n",
    "axs[2].set_title(\"Environment Temperature, normalized [0–1]\")\n",
    "plt.colorbar(im3, ax=axs[2])\n",
    "\n",
    "# Título global\n",
    "plt.suptitle(rf\"Dataset entry, idx = {idx}\")\n",
    "\n",
    "# Ajuste de espacios\n",
    "plt.tight_layout()\n",
    "\n",
    "plt.show()\n"
   ]
  },
  {
   "cell_type": "markdown",
   "id": "d65f0f56",
   "metadata": {},
   "source": [
    "## GCN"
   ]
  },
  {
   "cell_type": "markdown",
   "id": "356807ba",
   "metadata": {},
   "source": [
    "### Configuración de la red"
   ]
  },
  {
   "cell_type": "code",
   "execution_count": 11,
   "id": "6111d86f",
   "metadata": {},
   "outputs": [],
   "source": [
    "# Configuración del modelo\n",
    "config = {\n",
    "    \"input_dim\": 3,           # 3 canales: T_interfaces, Q_heaters, T_env\n",
    "    \"hidden_dim\": 32,\n",
    "    \"output_dim\": 1,\n",
    "    \"num_layers\": 8,\n",
    "    \"use_dropout\": True,\n",
    "    \"dropout_rate\": 0.053866716854445156,\n",
    "    \"use_batchnorm\": True,\n",
    "    \"use_residual\": True,\n",
    "    \"batch_size\": 32,\n",
    "    \"lr\": 0.004545536157520707,\n",
    "    \"max_epochs\": 10000,\n",
    "    \"early_stop_patience\": 100,\n",
    "    \"error_threshold_K\": 3.0,\n",
    "    \"use_percentage_threshold\": False,\n",
    "    \"percentage_threshold\": 1.0,  # solo si se activa la opción\n",
    "    \"save_model\": True,\n",
    "    \"load_model\": False, # Cargar un modelo preentrenado\n",
    "    \"factor\" : 0.5 , # Factor de reducción del learning rate\n",
    "    \"patience\" : 10 , # Épocas sin mejora para reducir el learning rate\n",
    "    \"min_lr\" : 1e-9,  # evita que baje infinitamente el learning rate\n",
    "    \"use_physics\" : True,\n",
    "    \"lambda_physics\" : 0.001, # Peso de la física en la función de pérdida\n",
    "    \"use_boundary_loss\" : True,\n",
    "    \"lambda_boundary\" : 1,\n",
    "    \"use_heater_loss\" : True,\n",
    "    \"lambda_heater\" : 10\n",
    "}"
   ]
  },
  {
   "cell_type": "code",
   "execution_count": 12,
   "id": "eb322f50",
   "metadata": {},
   "outputs": [
    {
     "name": "stdout",
     "output_type": "stream",
     "text": [
      "PCB cuadrada de 13 nodos por lado\n"
     ]
    }
   ],
   "source": [
    "grid_size = norm_dataset.inputs.shape[-1]\n",
    "print(\"PCB cuadrada de\", grid_size, \"nodos por lado\")\n",
    "edge_index = generate_edge_index(grid_size=grid_size) # Matriz de adyacencia bidireccional\n",
    "graphs = build_graph_list(norm_dataset, edge_index)"
   ]
  },
  {
   "cell_type": "code",
   "execution_count": 13,
   "id": "00e10985",
   "metadata": {},
   "outputs": [],
   "source": [
    "# Por si en algún momento el Dataset tuviera un patrón al ser generado\n",
    "random.seed(42)\n",
    "random.shuffle(graphs)"
   ]
  },
  {
   "cell_type": "code",
   "execution_count": 14,
   "id": "f759d218",
   "metadata": {},
   "outputs": [
    {
     "name": "stdout",
     "output_type": "stream",
     "text": [
      "Mean of outputs: 0.8287\n",
      "Std of outputs:  0.0338\n",
      "Atributo .T_outputs_mean: 0.0000\n",
      "Atributo .T_outputs_std:  1.0000\n"
     ]
    }
   ],
   "source": [
    "\n",
    "# Ruta al dataset normalizado\n",
    "\n",
    "# Extraer un tensor de salida\n",
    "sample_output = norm_dataset.outputs[0]\n",
    "\n",
    "# Imprimir estadísticas globales de outputs\n",
    "all_outputs = norm_dataset.outputs.view(-1)\n",
    "print(f\"Mean of outputs: {all_outputs.mean().item():.4f}\")\n",
    "print(f\"Std of outputs:  {all_outputs.std().item():.4f}\")\n",
    "\n",
    "# También desde los atributos si están disponibles\n",
    "if hasattr(norm_dataset, \"T_outputs_mean\"):\n",
    "    print(f\"Atributo .T_outputs_mean: {norm_dataset.T_outputs_mean.item():.4f}\")\n",
    "    print(f\"Atributo .T_outputs_std:  {norm_dataset.T_outputs_std.item():.4f}\")\n"
   ]
  },
  {
   "cell_type": "markdown",
   "id": "e7fd356b",
   "metadata": {},
   "source": [
    "### Evolución del error vs. Tamaño del Dataset"
   ]
  },
  {
   "cell_type": "code",
   "execution_count": 15,
   "id": "3e1815a1",
   "metadata": {},
   "outputs": [
    {
     "data": {
      "text/plain": [
       "' import numpy as np\\n# Tamaños logarítmicos entre 10² y 10⁵\\ndataset_sizes = np.logspace(2, 5, num=10, dtype=int)  # de 100 a 100000 en escala logarítmica\\ndataset_sizes = np.unique(dataset_sizes)  # eliminar duplicados por redondeo\\n\\ntrain_losses_vs_size, train_rmse_real = [], []\\n\\nprint(\"Explorando influencia del tamaño del dataset en train_loss (log scale)...\\n\")\\n\\nfor size in dataset_sizes:\\n    if size > len(graphs):\\n        print(f\"Saltando tamaño {size}: excede el tamaño actual del dataset ({len(graphs)} muestras)\")\\n        continue\\n\\n    print(f\"\\nEntrenando con {size} muestras...\")\\n\\n    subset = random.sample(graphs, size)\\n    #subset = graphs[:size]\\n    split_idx = int(0.9 * len(subset))\\n    train_dataset = subset[:split_idx]\\n    val_dataset = subset[split_idx:]\\n\\n    train_loader = DataLoader(train_dataset, batch_size=config[\"batch_size\"], shuffle=True)\\n    val_loader = DataLoader(val_dataset, batch_size=config[\"batch_size\"], shuffle=False)\\n\\n    model = GCN(\\n        input_dim=config[\"input_dim\"],\\n        hidden_dim=config[\"hidden_dim\"],\\n        output_dim=config[\"output_dim\"],\\n        num_layers=config[\"num_layers\"],\\n        use_dropout=config[\"use_dropout\"],\\n        dropout_rate=config[\"dropout_rate\"],\\n        use_batchnorm=config[\"use_batchnorm\"],\\n        use_residual=config[\"use_residual\"]\\n    ).to(device)\\n    optimizer = torch.optim.Adam(model.parameters(), lr=config[\"lr\"])\\n\\n    max_epochs = 100\\n    train_losses = []\\n    for epoch in range(max_epochs):\\n        train_loss = train(\\n            model, train_loader, optimizer, device, norm_info,\\n            use_physics=config[\"use_physics\"], lambda_physics=config[\"lambda_physics\"],\\n            use_boundary_loss=config[\"use_boundary_loss\"], lambda_boundary=config[\"lambda_boundary\"],\\n            use_heater_loss=config[\"use_heater_loss\"], lambda_heater=config[\"lambda_heater\"]\\n        )\\n        train_losses.append(train_loss)\\n\\n    final_train_loss = train_losses[-1]\\n    train_losses_vs_size.append(final_train_loss)\\n    \\n    max_T = norm_info[\"max_T_interfaces\"]\\n    train_rmse_real.append((final_train_loss**0.5)*max_T)\\n    \\n    print(f\"Train loss con {size} muestras: {final_train_loss:.6f} | RMSE real: {train_rmse_real[-1]:.6f} K\")\\n '"
      ]
     },
     "execution_count": 15,
     "metadata": {},
     "output_type": "execute_result"
    }
   ],
   "source": [
    "\"\"\" import numpy as np\n",
    "# Tamaños logarítmicos entre 10² y 10⁵\n",
    "dataset_sizes = np.logspace(2, 5, num=10, dtype=int)  # de 100 a 100000 en escala logarítmica\n",
    "dataset_sizes = np.unique(dataset_sizes)  # eliminar duplicados por redondeo\n",
    "\n",
    "train_losses_vs_size, train_rmse_real = [], []\n",
    "\n",
    "print(\"Explorando influencia del tamaño del dataset en train_loss (log scale)...\\n\")\n",
    "\n",
    "for size in dataset_sizes:\n",
    "    if size > len(graphs):\n",
    "        print(f\"Saltando tamaño {size}: excede el tamaño actual del dataset ({len(graphs)} muestras)\")\n",
    "        continue\n",
    "\n",
    "    print(f\"\\nEntrenando con {size} muestras...\")\n",
    "\n",
    "    subset = random.sample(graphs, size)\n",
    "    #subset = graphs[:size]\n",
    "    split_idx = int(0.9 * len(subset))\n",
    "    train_dataset = subset[:split_idx]\n",
    "    val_dataset = subset[split_idx:]\n",
    "\n",
    "    train_loader = DataLoader(train_dataset, batch_size=config[\"batch_size\"], shuffle=True)\n",
    "    val_loader = DataLoader(val_dataset, batch_size=config[\"batch_size\"], shuffle=False)\n",
    "\n",
    "    model = GCN(\n",
    "        input_dim=config[\"input_dim\"],\n",
    "        hidden_dim=config[\"hidden_dim\"],\n",
    "        output_dim=config[\"output_dim\"],\n",
    "        num_layers=config[\"num_layers\"],\n",
    "        use_dropout=config[\"use_dropout\"],\n",
    "        dropout_rate=config[\"dropout_rate\"],\n",
    "        use_batchnorm=config[\"use_batchnorm\"],\n",
    "        use_residual=config[\"use_residual\"]\n",
    "    ).to(device)\n",
    "    optimizer = torch.optim.Adam(model.parameters(), lr=config[\"lr\"])\n",
    "\n",
    "    max_epochs = 100\n",
    "    train_losses = []\n",
    "    for epoch in range(max_epochs):\n",
    "        train_loss = train(\n",
    "            model, train_loader, optimizer, device, norm_info,\n",
    "            use_physics=config[\"use_physics\"], lambda_physics=config[\"lambda_physics\"],\n",
    "            use_boundary_loss=config[\"use_boundary_loss\"], lambda_boundary=config[\"lambda_boundary\"],\n",
    "            use_heater_loss=config[\"use_heater_loss\"], lambda_heater=config[\"lambda_heater\"]\n",
    "        )\n",
    "        train_losses.append(train_loss)\n",
    "\n",
    "    final_train_loss = train_losses[-1]\n",
    "    train_losses_vs_size.append(final_train_loss)\n",
    "    \n",
    "    max_T = norm_info[\"max_T_interfaces\"]\n",
    "    train_rmse_real.append((final_train_loss**0.5)*max_T)\n",
    "    \n",
    "    print(f\"Train loss con {size} muestras: {final_train_loss:.6f} | RMSE real: {train_rmse_real[-1]:.6f} K\")\n",
    " \"\"\""
   ]
  },
  {
   "cell_type": "code",
   "execution_count": 16,
   "id": "ff169bbf",
   "metadata": {},
   "outputs": [
    {
     "data": {
      "text/plain": [
       "'\\n# === Configuración global ===\\nplt.style.use(\\'default\\')\\nplt.rcParams[\"figure.figsize\"] = (6, 4)\\nplt.rcParams[\"font.family\"] = \"Times New Roman\"\\nplt.rcParams[\"font.size\"] = 18\\nplt.rcParams[\"text.usetex\"] = False  #  mientras MiKTeX no funcione bien\\nplt.rcParams[\"axes.titlesize\"] = 17\\n\\n\\n\\n# === Gráfica 1: train_loss normalizado ===\\nfig1, ax1 = plt.subplots(figsize=(8, 5))  # Más ancho localmente\\nax1.plot(dataset_sizes[:len(train_losses_vs_size)], train_losses_vs_size, marker=\\'o\\', linestyle=\\'-\\')\\n\\nax1.set_xscale(\\'log\\')\\nax1.set_xlabel(\\'Dataset size for training (logarithmic scale)\\')\\nax1.set_ylabel(\\'Training loss (MSE, normalized)\\')\\nax1.set_title(\\'Influence of dataset size on training loss (normalized)\\')\\nax1.grid(True, which=\"both\", ls=\"--\")\\n\\nfig1.tight_layout()\\nplt.show()\\n\\n# === Gráfica 2: train_loss desnormalizado (RMSE real) ===\\nfig2, ax2 = plt.subplots(figsize=(8, 5))  # Igual de ancho localmente\\nax2.plot(dataset_sizes[3:], train_rmse_real[3:], marker=\\'o\\', linestyle=\\'-\\')\\n\\nax2.set_xscale(\\'log\\')\\nax2.set_xlabel(\\'Dataset size for training (logarithmic scale)\\')\\nax2.set_ylabel(\\'RMSE Error in Kelvin\\')\\nax2.set_title(\\'Training Error in real scale\\')\\nax2.grid(True, which=\"both\", ls=\"--\")\\n\\nfig2.tight_layout()\\nplt.show()'"
      ]
     },
     "execution_count": 16,
     "metadata": {},
     "output_type": "execute_result"
    }
   ],
   "source": [
    "\"\"\"\n",
    "# === Configuración global ===\n",
    "plt.style.use('default')\n",
    "plt.rcParams[\"figure.figsize\"] = (6, 4)\n",
    "plt.rcParams[\"font.family\"] = \"Times New Roman\"\n",
    "plt.rcParams[\"font.size\"] = 18\n",
    "plt.rcParams[\"text.usetex\"] = False  #  mientras MiKTeX no funcione bien\n",
    "plt.rcParams[\"axes.titlesize\"] = 17\n",
    "\n",
    "\n",
    "\n",
    "# === Gráfica 1: train_loss normalizado ===\n",
    "fig1, ax1 = plt.subplots(figsize=(8, 5))  # Más ancho localmente\n",
    "ax1.plot(dataset_sizes[:len(train_losses_vs_size)], train_losses_vs_size, marker='o', linestyle='-')\n",
    "\n",
    "ax1.set_xscale('log')\n",
    "ax1.set_xlabel('Dataset size for training (logarithmic scale)')\n",
    "ax1.set_ylabel('Training loss (MSE, normalized)')\n",
    "ax1.set_title('Influence of dataset size on training loss (normalized)')\n",
    "ax1.grid(True, which=\"both\", ls=\"--\")\n",
    "\n",
    "fig1.tight_layout()\n",
    "plt.show()\n",
    "\n",
    "# === Gráfica 2: train_loss desnormalizado (RMSE real) ===\n",
    "fig2, ax2 = plt.subplots(figsize=(8, 5))  # Igual de ancho localmente\n",
    "ax2.plot(dataset_sizes[3:], train_rmse_real[3:], marker='o', linestyle='-')\n",
    "\n",
    "ax2.set_xscale('log')\n",
    "ax2.set_xlabel('Dataset size for training (logarithmic scale)')\n",
    "ax2.set_ylabel('RMSE Error in Kelvin')\n",
    "ax2.set_title('Training Error in real scale')\n",
    "ax2.grid(True, which=\"both\", ls=\"--\")\n",
    "\n",
    "fig2.tight_layout()\n",
    "plt.show()\"\"\""
   ]
  },
  {
   "cell_type": "markdown",
   "id": "0ee6ec01",
   "metadata": {},
   "source": [
    "### División Dataset"
   ]
  },
  {
   "cell_type": "code",
   "execution_count": 17,
   "id": "3237d032",
   "metadata": {},
   "outputs": [],
   "source": [
    "# División del dataset\n",
    "train_size = int(0.8 * len(graphs))\n",
    "val_size = int(0.1 * len(graphs))\n",
    "test_size = len(graphs) - train_size - val_size\n",
    "\n",
    "train_dataset = graphs[:train_size]\n",
    "val_dataset = graphs[train_size:train_size + val_size]\n",
    "test_dataset = graphs[train_size + val_size:]\n",
    "\n",
    "# Crear DataLoaders\n",
    "batch_size = config[\"batch_size\"]\n",
    "train_loader = DataLoader(train_dataset, batch_size=batch_size, shuffle=True)\n",
    "val_loader = DataLoader(val_dataset, batch_size=batch_size, shuffle=False)\n",
    "test_loader = DataLoader(test_dataset, batch_size=batch_size, shuffle=False)"
   ]
  },
  {
   "cell_type": "code",
   "execution_count": 18,
   "id": "fd616c7f",
   "metadata": {},
   "outputs": [
    {
     "name": "stdout",
     "output_type": "stream",
     "text": [
      "Número total de parámetros entrenables: 6945\n"
     ]
    },
    {
     "name": "stderr",
     "output_type": "stream",
     "text": [
      "c:\\Users\\ramse\\anaconda3\\Lib\\site-packages\\torch\\optim\\lr_scheduler.py:62: UserWarning: The verbose parameter is deprecated. Please use get_last_lr() to access the learning rate.\n",
      "  warnings.warn(\n"
     ]
    }
   ],
   "source": [
    "model = GCN(\n",
    "    input_dim=config[\"input_dim\"],\n",
    "    hidden_dim=config[\"hidden_dim\"],\n",
    "    output_dim=config[\"output_dim\"],\n",
    "    num_layers=config[\"num_layers\"],\n",
    "    use_dropout=config[\"use_dropout\"],\n",
    "    dropout_rate=config[\"dropout_rate\"],\n",
    "    use_batchnorm=config[\"use_batchnorm\"],\n",
    "    use_residual=config[\"use_residual\"]\n",
    ").to(device)\n",
    "\n",
    "num_params = sum(p.numel() for p in model.parameters() if p.requires_grad)\n",
    "print(f\"Número total de parámetros entrenables: {num_params}\")\n",
    "\n",
    "optimizer = torch.optim.Adam(model.parameters(), lr=config[\"lr\"])\n",
    "scheduler = ReduceLROnPlateau(\n",
    "    optimizer,\n",
    "    mode='min',            # queremos minimizar el val_loss\n",
    "    factor=config[\"factor\"],            # reduce a la mitad el LR\n",
    "    patience=config[\"patience\"],           # espera 10 épocas sin mejora\n",
    "    verbose=True,          # imprime info cuando reduce\n",
    "    min_lr=config[\"min_lr\"]            # evita que baje infinitamente\n",
    ")"
   ]
  },
  {
   "cell_type": "code",
   "execution_count": 19,
   "id": "cf329d89",
   "metadata": {},
   "outputs": [
    {
     "name": "stdout",
     "output_type": "stream",
     "text": [
      "Forma de entrada: torch.Size([3, 13, 13])\n",
      "Forma de salida: torch.Size([13, 13])\n"
     ]
    }
   ],
   "source": [
    "print(\"Forma de entrada:\", norm_dataset.inputs[0].shape)\n",
    "print(\"Forma de salida:\", norm_dataset.outputs[0].shape)\n"
   ]
  },
  {
   "cell_type": "markdown",
   "id": "ce568184",
   "metadata": {},
   "source": [
    "### Train Loss vs. Capas"
   ]
  },
  {
   "cell_type": "code",
   "execution_count": 20,
   "id": "bcb1d518",
   "metadata": {},
   "outputs": [
    {
     "data": {
      "text/plain": [
       "'\\nnum_layers_list = list(range(2, 31))\\nfinal_train_losses = []\\n\\nprint(\"Explorando influencia de num_layers en train_loss final...\\n\")\\n\\nfor nl in num_layers_list:\\n    print(f\"Entrenando modelo con {nl} capas...\")\\n\\n    config[\\'num_layers\\'] = nl\\n    config[\\'epochs\\'] = 100  # Aseguramos que entrene 100 épocas\\n\\n    # Crear nuevo modelo\\n    model = GCN(\\n    input_dim=config[\"input_dim\"],\\n    hidden_dim=config[\"hidden_dim\"],\\n    output_dim=config[\"output_dim\"],\\n    num_layers=config[\"num_layers\"],\\n    use_dropout=config[\"use_dropout\"],\\n    dropout_rate=config[\"dropout_rate\"],\\n    use_batchnorm=config[\"use_batchnorm\"],\\n    use_residual=config[\"use_residual\"]\\n    ).to(device)\\n    optimizer = torch.optim.Adam(model.parameters(), lr=config[\"lr\"])\\n    scheduler = ReduceLROnPlateau(\\n        optimizer,\\n        mode=\\'min\\',            # queremos minimizar el val_loss\\n        factor=config[\"factor\"],            # reduce a la mitad el LR\\n        patience=config[\"patience\"],           # espera 10 épocas sin mejora\\n        verbose=True,          # imprime info cuando reduce\\n        min_lr=config[\"min_lr\"]            # evita que baje infinitamente\\n    )\\n\\n    train_losses = []\\n\\n    for epoch in range(config[\"epochs\"]):\\n        train_loss = train(model, train_loader, optimizer, device, norm_info,\\n                           lambda_physics=config[\"lambda_physics\"],\\n                           use_physics=config[\"use_physics\"],\\n                           lambda_boundary=config[\"lambda_boundary\"],\\n                           use_boundary_loss=config[\"use_boundary_loss\"],\\n                           lambda_heater=config[\"lambda_heater\"],\\n                           use_heater_loss=config[\"use_heater_loss\"])\\n        train_losses.append(train_loss)\\n        scheduler.step(train_loss) \\n\\n    final_train_loss = train_losses[-1]\\n    final_train_losses.append(final_train_loss)\\n    print(f\"Train loss final con {nl} capas: {final_train_loss:.6f}\")\\n\\n\\n# === Configuración global de estilo ===\\nplt.style.use(\\'default\\')\\nplt.rcParams[\"figure.figsize\"] = (6, 4)\\nplt.rcParams[\"font.family\"] = \"Times New Roman\"\\nplt.rcParams[\"font.size\"] = 18\\nplt.rcParams[\"text.usetex\"] = False  # mientras MiKTeX no funcione bien\\nplt.rcParams[\"axes.titlesize\"] = 17\\n\\n# === Gráfica final ===\\nfig, ax = plt.subplots(figsize=(8, 5))  # Un poco más ancho para claridad\\n\\nax.plot(num_layers_list, final_train_losses, marker=\\'o\\', linestyle=\\'-\\')\\n\\nax.set_xlabel(\\'Number of layers\\')\\nax.set_ylabel(\\'Training Loss (MSE, normalized)\\')\\nax.set_title(\\'Influence of Number of Layers on Training Loss\\')\\nax.grid(True)\\n\\nfig.tight_layout()\\nplt.show()'"
      ]
     },
     "execution_count": 20,
     "metadata": {},
     "output_type": "execute_result"
    }
   ],
   "source": [
    "\"\"\"\n",
    "num_layers_list = list(range(2, 31))\n",
    "final_train_losses = []\n",
    "\n",
    "print(\"Explorando influencia de num_layers en train_loss final...\\n\")\n",
    "\n",
    "for nl in num_layers_list:\n",
    "    print(f\"Entrenando modelo con {nl} capas...\")\n",
    "\n",
    "    config['num_layers'] = nl\n",
    "    config['epochs'] = 100  # Aseguramos que entrene 100 épocas\n",
    "\n",
    "    # Crear nuevo modelo\n",
    "    model = GCN(\n",
    "    input_dim=config[\"input_dim\"],\n",
    "    hidden_dim=config[\"hidden_dim\"],\n",
    "    output_dim=config[\"output_dim\"],\n",
    "    num_layers=config[\"num_layers\"],\n",
    "    use_dropout=config[\"use_dropout\"],\n",
    "    dropout_rate=config[\"dropout_rate\"],\n",
    "    use_batchnorm=config[\"use_batchnorm\"],\n",
    "    use_residual=config[\"use_residual\"]\n",
    "    ).to(device)\n",
    "    optimizer = torch.optim.Adam(model.parameters(), lr=config[\"lr\"])\n",
    "    scheduler = ReduceLROnPlateau(\n",
    "        optimizer,\n",
    "        mode='min',            # queremos minimizar el val_loss\n",
    "        factor=config[\"factor\"],            # reduce a la mitad el LR\n",
    "        patience=config[\"patience\"],           # espera 10 épocas sin mejora\n",
    "        verbose=True,          # imprime info cuando reduce\n",
    "        min_lr=config[\"min_lr\"]            # evita que baje infinitamente\n",
    "    )\n",
    "\n",
    "    train_losses = []\n",
    "\n",
    "    for epoch in range(config[\"epochs\"]):\n",
    "        train_loss = train(model, train_loader, optimizer, device, norm_info,\n",
    "                           lambda_physics=config[\"lambda_physics\"],\n",
    "                           use_physics=config[\"use_physics\"],\n",
    "                           lambda_boundary=config[\"lambda_boundary\"],\n",
    "                           use_boundary_loss=config[\"use_boundary_loss\"],\n",
    "                           lambda_heater=config[\"lambda_heater\"],\n",
    "                           use_heater_loss=config[\"use_heater_loss\"])\n",
    "        train_losses.append(train_loss)\n",
    "        scheduler.step(train_loss) \n",
    "\n",
    "    final_train_loss = train_losses[-1]\n",
    "    final_train_losses.append(final_train_loss)\n",
    "    print(f\"Train loss final con {nl} capas: {final_train_loss:.6f}\")\n",
    "\n",
    "\n",
    "# === Configuración global de estilo ===\n",
    "plt.style.use('default')\n",
    "plt.rcParams[\"figure.figsize\"] = (6, 4)\n",
    "plt.rcParams[\"font.family\"] = \"Times New Roman\"\n",
    "plt.rcParams[\"font.size\"] = 18\n",
    "plt.rcParams[\"text.usetex\"] = False  # mientras MiKTeX no funcione bien\n",
    "plt.rcParams[\"axes.titlesize\"] = 17\n",
    "\n",
    "# === Gráfica final ===\n",
    "fig, ax = plt.subplots(figsize=(8, 5))  # Un poco más ancho para claridad\n",
    "\n",
    "ax.plot(num_layers_list, final_train_losses, marker='o', linestyle='-')\n",
    "\n",
    "ax.set_xlabel('Number of layers')\n",
    "ax.set_ylabel('Training Loss (MSE, normalized)')\n",
    "ax.set_title('Influence of Number of Layers on Training Loss')\n",
    "ax.grid(True)\n",
    "\n",
    "fig.tight_layout()\n",
    "plt.show()\"\"\"\n"
   ]
  },
  {
   "cell_type": "markdown",
   "id": "8c1f86ca",
   "metadata": {},
   "source": [
    "### Entrenamiento"
   ]
  },
  {
   "cell_type": "code",
   "execution_count": 21,
   "id": "9de0edbc",
   "metadata": {},
   "outputs": [
    {
     "name": "stdout",
     "output_type": "stream",
     "text": [
      "Iniciando entrenamiento...\n",
      "Epoch 1 - Train Loss: 15.126538 | Val MSE: 0.010401 | Val MAE: 0.075099 | Val R²: -8.8648 | [Boundary loss] 0.046790 | [Heaters loss] 0.011262 | [Physics loss] 15.112023 | Val Accuracy: 7.94% | LR: 0.004545536 | Time: 47.90s\n",
      "Epoch 2 - Train Loss: 0.875110 | Val MSE: 0.007853 | Val MAE: 0.064680 | Val R²: -6.4499 | [Boundary loss] 0.036502 | [Heaters loss] 0.008531 | [Physics loss] 9.619668 | Val Accuracy: 9.26% | LR: 0.004545536 | Time: 36.57s\n",
      "Epoch 3 - Train Loss: 0.689763 | Val MSE: 0.004795 | Val MAE: 0.052089 | Val R²: -3.5242 | [Boundary loss] 0.005351 | [Heaters loss] 0.004808 | [Physics loss] 5.716808 | Val Accuracy: 11.02% | LR: 0.004545536 | Time: 36.10s\n"
     ]
    },
    {
     "ename": "KeyboardInterrupt",
     "evalue": "",
     "output_type": "error",
     "traceback": [
      "\u001b[1;31m---------------------------------------------------------------------------\u001b[0m",
      "\u001b[1;31mKeyboardInterrupt\u001b[0m                         Traceback (most recent call last)",
      "Cell \u001b[1;32mIn[21], line 15\u001b[0m\n\u001b[0;32m     12\u001b[0m start_time \u001b[38;5;241m=\u001b[39m time\u001b[38;5;241m.\u001b[39mtime() \n\u001b[0;32m     14\u001b[0m \u001b[38;5;66;03m# Entrenar\u001b[39;00m\n\u001b[1;32m---> 15\u001b[0m train_loss \u001b[38;5;241m=\u001b[39m train(model, train_loader, optimizer, device, norm_info, lambda_physics\u001b[38;5;241m=\u001b[39mconfig[\u001b[38;5;124m\"\u001b[39m\u001b[38;5;124mlambda_physics\u001b[39m\u001b[38;5;124m\"\u001b[39m],\n\u001b[0;32m     16\u001b[0m                    use_physics\u001b[38;5;241m=\u001b[39mconfig[\u001b[38;5;124m\"\u001b[39m\u001b[38;5;124muse_physics\u001b[39m\u001b[38;5;124m\"\u001b[39m], lambda_boundary\u001b[38;5;241m=\u001b[39mconfig[\u001b[38;5;124m\"\u001b[39m\u001b[38;5;124mlambda_boundary\u001b[39m\u001b[38;5;124m\"\u001b[39m],\n\u001b[0;32m     17\u001b[0m                    use_boundary_loss\u001b[38;5;241m=\u001b[39mconfig[\u001b[38;5;124m\"\u001b[39m\u001b[38;5;124muse_boundary_loss\u001b[39m\u001b[38;5;124m\"\u001b[39m], lambda_heater\u001b[38;5;241m=\u001b[39mconfig[\u001b[38;5;124m\"\u001b[39m\u001b[38;5;124mlambda_heater\u001b[39m\u001b[38;5;124m\"\u001b[39m],\n\u001b[0;32m     18\u001b[0m                    use_heater_loss\u001b[38;5;241m=\u001b[39mconfig[\u001b[38;5;124m\"\u001b[39m\u001b[38;5;124muse_heater_loss\u001b[39m\u001b[38;5;124m\"\u001b[39m])\n\u001b[0;32m     19\u001b[0m train_losses\u001b[38;5;241m.\u001b[39mappend(train_loss)\n\u001b[0;32m     21\u001b[0m \u001b[38;5;66;03m# Evaluar en validación\u001b[39;00m\n",
      "File \u001b[1;32mc:\\Users\\ramse\\Escritorio\\Aero Ordenador\\4to Aero\\2do Cuatri\\ia_thermal\\ernestoemedina\\GCN_MK1\\train_eval.py:39\u001b[0m, in \u001b[0;36mtrain\u001b[1;34m(model, loader, optimizer, device, norm_info, use_physics, lambda_physics, use_boundary_loss, lambda_boundary, use_heater_loss, lambda_heater)\u001b[0m\n\u001b[0;32m     27\u001b[0m \u001b[38;5;66;03m#loss_data = criterion(out, true_vals) # Este valora todos los nodos, no solo los no fijos, para ver el global\u001b[39;00m\n\u001b[0;32m     30\u001b[0m loss_physics \u001b[38;5;241m=\u001b[39m compute_physics_loss(\n\u001b[0;32m     31\u001b[0m     pred_T_norm\u001b[38;5;241m=\u001b[39mout,\n\u001b[0;32m     32\u001b[0m     edge_index\u001b[38;5;241m=\u001b[39mbatch\u001b[38;5;241m.\u001b[39medge_index,\n\u001b[1;32m   (...)\u001b[0m\n\u001b[0;32m     36\u001b[0m     norm_info\u001b[38;5;241m=\u001b[39mnorm_info\n\u001b[0;32m     37\u001b[0m ) \u001b[38;5;28;01mif\u001b[39;00m use_physics \u001b[38;5;28;01melse\u001b[39;00m torch\u001b[38;5;241m.\u001b[39mtensor(\u001b[38;5;241m0.0\u001b[39m, device\u001b[38;5;241m=\u001b[39mdevice)\n\u001b[1;32m---> 39\u001b[0m loss_boundary \u001b[38;5;241m=\u001b[39m compute_boundary_loss(\n\u001b[0;32m     40\u001b[0m     pred_T_norm\u001b[38;5;241m=\u001b[39mout,\n\u001b[0;32m     41\u001b[0m     true_T_norm\u001b[38;5;241m=\u001b[39mbatch\u001b[38;5;241m.\u001b[39my\u001b[38;5;241m.\u001b[39mview(\u001b[38;5;241m-\u001b[39m\u001b[38;5;241m1\u001b[39m),\n\u001b[0;32m     42\u001b[0m     mask_fixed\u001b[38;5;241m=\u001b[39mbatch\u001b[38;5;241m.\u001b[39mmask_fixed_temp\u001b[38;5;241m.\u001b[39mview(\u001b[38;5;241m-\u001b[39m\u001b[38;5;241m1\u001b[39m)\n\u001b[0;32m     43\u001b[0m ) \u001b[38;5;28;01mif\u001b[39;00m use_boundary_loss \u001b[38;5;28;01melse\u001b[39;00m torch\u001b[38;5;241m.\u001b[39mtensor(\u001b[38;5;241m0.0\u001b[39m, device\u001b[38;5;241m=\u001b[39mdevice)\n\u001b[0;32m     45\u001b[0m loss_heater \u001b[38;5;241m=\u001b[39m compute_heater_loss(\n\u001b[0;32m     46\u001b[0m     pred_T_norm\u001b[38;5;241m=\u001b[39mout,\n\u001b[0;32m     47\u001b[0m     true_T_norm\u001b[38;5;241m=\u001b[39mbatch\u001b[38;5;241m.\u001b[39my\u001b[38;5;241m.\u001b[39mview(\u001b[38;5;241m-\u001b[39m\u001b[38;5;241m1\u001b[39m),\n\u001b[0;32m     48\u001b[0m     Q_heaters_norm\u001b[38;5;241m=\u001b[39mbatch\u001b[38;5;241m.\u001b[39mx[:, \u001b[38;5;241m2\u001b[39m]\n\u001b[0;32m     49\u001b[0m ) \u001b[38;5;28;01mif\u001b[39;00m use_heater_loss \u001b[38;5;28;01melse\u001b[39;00m torch\u001b[38;5;241m.\u001b[39mtensor(\u001b[38;5;241m0.0\u001b[39m, device\u001b[38;5;241m=\u001b[39mdevice)\n\u001b[0;32m     51\u001b[0m loss \u001b[38;5;241m=\u001b[39m loss_data \u001b[38;5;241m+\u001b[39m lambda_physics \u001b[38;5;241m*\u001b[39m loss_physics \u001b[38;5;241m+\u001b[39m lambda_boundary \u001b[38;5;241m*\u001b[39m loss_boundary \u001b[38;5;241m+\u001b[39m lambda_heater \u001b[38;5;241m*\u001b[39m loss_heater\n",
      "File \u001b[1;32mc:\\Users\\ramse\\Escritorio\\Aero Ordenador\\4to Aero\\2do Cuatri\\ia_thermal\\ernestoemedina\\GCN_MK1\\train_eval.py:367\u001b[0m, in \u001b[0;36mcompute_boundary_loss\u001b[1;34m(pred_T_norm, true_T_norm, mask_fixed)\u001b[0m\n\u001b[0;32m    364\u001b[0m pred_fixed \u001b[38;5;241m=\u001b[39m pred_T_norm[mask_fixed]\n\u001b[0;32m    365\u001b[0m true_fixed \u001b[38;5;241m=\u001b[39m true_T_norm[mask_fixed]\n\u001b[1;32m--> 367\u001b[0m boundary_loss \u001b[38;5;241m=\u001b[39m F\u001b[38;5;241m.\u001b[39mmse_loss(pred_fixed, true_fixed)\n\u001b[0;32m    368\u001b[0m \u001b[38;5;28;01mreturn\u001b[39;00m boundary_loss\n",
      "File \u001b[1;32mc:\\Users\\ramse\\anaconda3\\Lib\\site-packages\\torch\\nn\\functional.py:3759\u001b[0m, in \u001b[0;36mmse_loss\u001b[1;34m(input, target, size_average, reduce, reduction)\u001b[0m\n\u001b[0;32m   3753\u001b[0m     expanded_input, expanded_target \u001b[38;5;241m=\u001b[39m torch\u001b[38;5;241m.\u001b[39mbroadcast_tensors(\u001b[38;5;28minput\u001b[39m, target)\n\u001b[0;32m   3754\u001b[0m     \u001b[38;5;28;01mreturn\u001b[39;00m torch\u001b[38;5;241m.\u001b[39m_C\u001b[38;5;241m.\u001b[39m_nn\u001b[38;5;241m.\u001b[39ml1_loss(\n\u001b[0;32m   3755\u001b[0m         expanded_input, expanded_target, _Reduction\u001b[38;5;241m.\u001b[39mget_enum(reduction)\n\u001b[0;32m   3756\u001b[0m     )\n\u001b[1;32m-> 3759\u001b[0m \u001b[38;5;28;01mdef\u001b[39;00m \u001b[38;5;21mmse_loss\u001b[39m(\n\u001b[0;32m   3760\u001b[0m     \u001b[38;5;28minput\u001b[39m: Tensor,\n\u001b[0;32m   3761\u001b[0m     target: Tensor,\n\u001b[0;32m   3762\u001b[0m     size_average: Optional[\u001b[38;5;28mbool\u001b[39m] \u001b[38;5;241m=\u001b[39m \u001b[38;5;28;01mNone\u001b[39;00m,\n\u001b[0;32m   3763\u001b[0m     reduce: Optional[\u001b[38;5;28mbool\u001b[39m] \u001b[38;5;241m=\u001b[39m \u001b[38;5;28;01mNone\u001b[39;00m,\n\u001b[0;32m   3764\u001b[0m     reduction: \u001b[38;5;28mstr\u001b[39m \u001b[38;5;241m=\u001b[39m \u001b[38;5;124m\"\u001b[39m\u001b[38;5;124mmean\u001b[39m\u001b[38;5;124m\"\u001b[39m,\n\u001b[0;32m   3765\u001b[0m ) \u001b[38;5;241m-\u001b[39m\u001b[38;5;241m>\u001b[39m Tensor:  \u001b[38;5;66;03m# noqa: D400,D402\u001b[39;00m\n\u001b[0;32m   3766\u001b[0m \u001b[38;5;250m    \u001b[39m\u001b[38;5;124mr\u001b[39m\u001b[38;5;124;03m\"\"\"mse_loss(input, target, size_average=None, reduce=None, reduction='mean') -> Tensor\u001b[39;00m\n\u001b[0;32m   3767\u001b[0m \n\u001b[0;32m   3768\u001b[0m \u001b[38;5;124;03m    Measures the element-wise mean squared error.\u001b[39;00m\n\u001b[0;32m   3769\u001b[0m \u001b[38;5;124;03m    See :class:`~torch.nn.MSELoss` for details.\u001b[39;00m\n\u001b[0;32m   3770\u001b[0m \u001b[38;5;124;03m    \"\"\"\u001b[39;00m\n\u001b[0;32m   3771\u001b[0m     \u001b[38;5;28;01mif\u001b[39;00m has_torch_function_variadic(\u001b[38;5;28minput\u001b[39m, target):\n",
      "\u001b[1;31mKeyboardInterrupt\u001b[0m: "
     ]
    }
   ],
   "source": [
    "# Entrenamiento\n",
    "train_losses = []\n",
    "val_losses = []\n",
    "epoch_times = []\n",
    "\n",
    "early_stopper = EarlyStopping(patience=config[\"early_stop_patience\"])\n",
    "max_epochs = config[\"max_epochs\"]\n",
    "best_lr=config[\"lr\"]\n",
    "\n",
    "print(\"Iniciando entrenamiento...\")\n",
    "for epoch in range(config[\"max_epochs\"]):\n",
    "    start_time = time.time() \n",
    "\n",
    "    # Entrenar\n",
    "    train_loss = train(model, train_loader, optimizer, device, norm_info, lambda_physics=config[\"lambda_physics\"],\n",
    "                       use_physics=config[\"use_physics\"], lambda_boundary=config[\"lambda_boundary\"],\n",
    "                       use_boundary_loss=config[\"use_boundary_loss\"], lambda_heater=config[\"lambda_heater\"],\n",
    "                       use_heater_loss=config[\"use_heater_loss\"])\n",
    "    train_losses.append(train_loss)\n",
    "\n",
    "    # Evaluar en validación\n",
    "    val_mse, val_mae, val_r2, val_accuracy, val_physics, val_boundary, val_heaters, val_rmse, val_total_loss = evaluate(\n",
    "        model, val_loader, device, norm_info, lambda_physics=config[\"lambda_physics\"],\n",
    "        use_physics=config[\"use_physics\"], lambda_boundary=config[\"lambda_boundary\"],\n",
    "        use_boundary_loss=config[\"use_boundary_loss\"], lambda_heater=config[\"lambda_heater\"],\n",
    "        use_heater_loss=config[\"use_heater_loss\"],\n",
    "        error_threshold=config[\"error_threshold_K\"],\n",
    "        percentage_threshold=config[\"percentage_threshold\"] if config[\"use_percentage_threshold\"] else None,\n",
    "        plot_results=False\n",
    "    )\n",
    "    val_losses.append(val_mse)\n",
    "\n",
    "    scheduler.step(val_mse)\n",
    "\n",
    "    # Medir tiempo transcurrido\n",
    "    epoch_duration = time.time() - start_time\n",
    "    epoch_times.append(epoch_duration)\n",
    "\n",
    "    # Formatear bien los losses opcionales\n",
    "    physics_loss_str = f\"{val_physics:.6f}\" if config[\"use_physics\"] else \"N/A\"\n",
    "    boundary_loss_str = f\"{val_boundary:.6f}\" if config[\"use_boundary_loss\"] else \"N/A\"\n",
    "    heaters_loss_str = f\"{val_heaters:.6f}\" if config[\"use_heater_loss\"] else \"N/A\"\n",
    "\n",
    "    # Imprimir métricas\n",
    "    print(f\"Epoch {epoch + 1} - \"\n",
    "          f\"Train Loss: {train_loss:.6f} | \"\n",
    "          f\"Val MSE: {val_mse:.6f} | \"\n",
    "          f\"Val MAE: {val_mae:.6f} | \"\n",
    "          f\"Val R²: {val_r2:.4f} | \"\n",
    "          f\"[Boundary loss] {boundary_loss_str} | \"\n",
    "          f\"[Heaters loss] {heaters_loss_str} | \"\n",
    "          f\"[Physics loss] {physics_loss_str} | \"\n",
    "          f\"Val Accuracy: {val_accuracy:.2f}% | \"\n",
    "          f\"LR: {optimizer.param_groups[0]['lr']:.9f} | \"\n",
    "          f\"Time: {epoch_duration:.2f}s\")\n",
    "\n",
    "    # Guardar el mejor modelo\n",
    "    if val_total_loss < early_stopper.best_loss:\n",
    "        best_model_state = model.state_dict()\n",
    "        final_epoch = epoch + 1\n",
    "        best_lr = optimizer.param_groups[0]['lr']\n",
    "\n",
    "    early_stopper(val_total_loss, epoch)\n",
    "    if early_stopper.early_stop:\n",
    "        print(f\" Early stopping triggered at epoch {epoch}\")\n",
    "        avg_epoch_time = np.mean(epoch_times)\n",
    "        print(f\"Tiempo por época        : {avg_epoch_time:.2f}\")\n",
    "        break\n"
   ]
  },
  {
   "cell_type": "code",
   "execution_count": 22,
   "id": "df90a2d8",
   "metadata": {},
   "outputs": [
    {
     "name": "stdout",
     "output_type": "stream",
     "text": [
      "Nombre del modelo: GCN_Layers_8_HDim_32_Epochs_3_Lr_0.004545536_B_LOSS_True_Lambda_1_H_LOSS_True_Lambda_10_PI_True_Lambda_0.001_Batch_32.pth\n"
     ]
    }
   ],
   "source": [
    "# Cargar el mejor modelo antes de guardar\n",
    "if best_model_state is not None:\n",
    "    model.load_state_dict(best_model_state)\n",
    "else:\n",
    "    print(\"Advertencia: No se ha encontrado un modelo mejor durante el entrenamiento.\")\n",
    "\n",
    "# Crear nombre de archivo con los hiperparámetros clave\n",
    "model_name = (\n",
    "    f\"GCN_Layers_{config['num_layers']}_\"\n",
    "    f\"HDim_{config['hidden_dim']}_\"\n",
    "    f\"Epochs_{final_epoch}_\"\n",
    "    f\"Lr_{best_lr:.9f}_\"\n",
    "    f\"B_LOSS_{config['use_boundary_loss']}_\"\n",
    "    f\"Lambda_{config['lambda_boundary']}_\"\n",
    "    f\"H_LOSS_{config['use_heater_loss']}_\"\n",
    "    f\"Lambda_{config['lambda_heater']}_\"\n",
    "    f\"PI_{config['use_physics']}_\"\n",
    "    f\"Lambda_{config['lambda_physics']}_\"\n",
    "    f\"Batch_{config['batch_size']}.pth\"\n",
    ")\n",
    "print(\"Nombre del modelo:\", model_name)"
   ]
  },
  {
   "cell_type": "code",
   "execution_count": 23,
   "id": "c124d154",
   "metadata": {},
   "outputs": [
    {
     "data": {
      "image/png": "[encoded data removed]",
      "text/plain": [
       "<Figure size 600x400 with 1 Axes>"
      ]
     },
     "metadata": {},
     "output_type": "display_data"
    }
   ],
   "source": [
    "# === Configuración global ===\n",
    "plt.style.use('default')\n",
    "plt.rcParams[\"figure.figsize\"] = (6, 4)\n",
    "plt.rcParams[\"font.family\"] = \"Times New Roman\"\n",
    "plt.rcParams[\"font.size\"] = 12\n",
    "plt.rcParams[\"text.usetex\"] = False  #  pon True solo si MiKTeX funciona\n",
    "plt.rcParams[\"axes.titlesize\"] = 11\n",
    "\n",
    "# === GRAFICAR MSE ===\n",
    "\n",
    "# Crear carpeta para guardar imagen si no existe\n",
    "os.makedirs(\"LOSS_IMG\", exist_ok=True)\n",
    "loss_img_filename = model_name.replace(\".pth\", \".svg\")\n",
    "loss_img_path = os.path.join(\"LOSS_IMG\", loss_img_filename)\n",
    "\n",
    "# Crear figura (usa figsize global)\n",
    "fig, ax = plt.subplots()\n",
    "\n",
    "ax.plot(train_losses, label='Train Loss', linewidth=2)\n",
    "ax.plot(val_losses, label='Val Loss (MSE)', linewidth=2)\n",
    "\n",
    "# Escala logarítmica en eje y (opcional)\n",
    "ax.set_yscale(\"log\")\n",
    "\n",
    "# Ejes y título coherentes\n",
    "ax.set_xlabel('Epoch')\n",
    "ax.set_ylabel('MSE Loss')\n",
    "ax.set_title('Evolution of MSE Loss during Training')\n",
    "ax.legend()\n",
    "ax.grid(True)\n",
    "\n",
    "# Forzar ticks del eje X a enteros\n",
    "ax.xaxis.set_major_locator(ticker.MaxNLocator(integer=True))\n",
    "\n",
    "# Ajustar espacios\n",
    "plt.tight_layout()\n",
    "\n",
    "# Guardar en formato SVG\n",
    "plt.savefig(loss_img_path, format=\"svg\")\n",
    "\n",
    "plt.show()"
   ]
  },
  {
   "cell_type": "markdown",
   "id": "a6109da7",
   "metadata": {},
   "source": [
    "### Carga de modelos ya entrenados"
   ]
  },
  {
   "cell_type": "code",
   "execution_count": 24,
   "id": "285a4877",
   "metadata": {},
   "outputs": [],
   "source": [
    "if config[\"load_model\"]:\n",
    "    from dataset_utils import load_model_by_name\n",
    "\n",
    "    # Definir el modelo a cargar, los modelos guardados no guardan la arquitectura de la red\n",
    "    model = GCN(\n",
    "        input_dim=config[\"input_dim\"],\n",
    "        hidden_dim=config[\"hidden_dim\"],\n",
    "        output_dim=config[\"output_dim\"],\n",
    "        num_layers=config[\"num_layers\"],\n",
    "        use_dropout=config[\"use_dropout\"],\n",
    "        dropout_rate=config[\"dropout_rate\"],\n",
    "        use_batchnorm=config[\"use_batchnorm\"],\n",
    "        use_residual=config[\"use_residual\"]\n",
    "    ).to(device)\n",
    "\n",
    "    # Nombre exacto del archivo que quieres cargar, cambiar solo los números\n",
    "    model_filename = \"GCN_Layers_8_HDim_128_Epochs_216_Lr_0.000000271_B_LOSS_True_Lambda_1_H_LOSS_True_Lambda_10_PI_True_Lambda_0.001_Batch_16.pth\"\n",
    "\n",
    "    # Cargar modelo concreto\n",
    "    model = load_model_by_name(model, model_filename)\n",
    "    print(\"Modelo cargado:\", model_filename)\n"
   ]
  },
  {
   "cell_type": "markdown",
   "id": "847445b4",
   "metadata": {},
   "source": [
    "### Evaluación"
   ]
  },
  {
   "cell_type": "code",
   "execution_count": 25,
   "id": "fea022f7",
   "metadata": {},
   "outputs": [
    {
     "name": "stdout",
     "output_type": "stream",
     "text": [
      "Evaluando en test set con visualización de un ejemplo:\n"
     ]
    },
    {
     "data": {
      "image/png": "[encoded data removed]",
      "text/plain": [
       "<Figure size 1200x500 with 4 Axes>"
      ]
     },
     "metadata": {},
     "output_type": "display_data"
    },
    {
     "data": {
      "image/png": "[encoded data removed]",
      "text/plain": [
       "<Figure size 600x500 with 2 Axes>"
      ]
     },
     "metadata": {},
     "output_type": "display_data"
    },
    {
     "name": "stdout",
     "output_type": "stream",
     "text": [
      "MAE en Kelvin     : 12.850 K\n",
      "RMSE en Kelvin    : 16.779 K\n",
      "MSE en Kelvin²    : 281.544 K²\n",
      "Resultados del test:\n",
      "MSE       : 0.002114\n",
      "MAE       : 0.035208\n",
      "R²        : -1.0086\n",
      "Accuracy  : 15.02%\n",
      "Boundary Loss  : 295.910187 K²\n",
      "Heaters Loss  : 281.883575 K²\n",
      "Physics Loss  : 4.148122 W²\n"
     ]
    }
   ],
   "source": [
    "# Evaluar en test y graficar un ejemplo\n",
    "print(\"Evaluando en test set con visualización de un ejemplo:\")\n",
    "test_mse, test_mae, test_r2, test_accuracy, test_physics, test_boundary, test_heater, test_rmse, test_total_loss = evaluate(\n",
    "    model, test_loader, device, norm_info, lambda_physics=config[\"lambda_physics\"],\n",
    "    use_physics=config[\"use_physics\"], lambda_boundary=config[\"lambda_boundary\"],\n",
    "    use_boundary_loss=config[\"use_boundary_loss\"], lambda_heater=config[\"lambda_heater\"],\n",
    "    use_heater_loss=config[\"use_heater_loss\"],\n",
    "    error_threshold=config[\"error_threshold_K\"],\n",
    "    percentage_threshold=config[\"percentage_threshold\"] if config[\"use_percentage_threshold\"] else None,\n",
    "    plot_results=True\n",
    ")\n",
    "\n",
    "physics_loss_str = f\"{test_physics:.6f}\" if test_physics is not None else \"N/A\"\n",
    "\n",
    "max_T_outputs = norm_info[\"max_T_outputs\"].to(device)\n",
    "mae_K = test_mae * max_T_outputs\n",
    "rmse_K = test_rmse * (max_T_outputs)\n",
    "mse_K = test_mse * (max_T_outputs ** 2)\n",
    "print(f\"MAE en Kelvin     : {mae_K:.3f} K\")\n",
    "print(f\"RMSE en Kelvin    : {rmse_K:.3f} K\")\n",
    "print(f\"MSE en Kelvin²    : {mse_K:.3f} K²\")\n",
    "b_loss = test_boundary * (max_T_outputs ** 2)\n",
    "h_loss = test_heater * (max_T_outputs ** 2)\n",
    "\n",
    "print(\"Resultados del test:\")\n",
    "print(f\"MSE       : {test_mse:.6f}\")\n",
    "print(f\"MAE       : {test_mae:.6f}\")\n",
    "print(f\"R²        : {test_r2:.4f}\")\n",
    "print(f\"Accuracy  : {test_accuracy:.2f}%\")\n",
    "print(f\"Boundary Loss  : {b_loss:.6f} K²\")\n",
    "print(f\"Heaters Loss  : {h_loss:.6f} K²\")\n",
    "print(f\"Physics Loss  : {physics_loss_str} W²\")"
   ]
  },
  {
   "cell_type": "markdown",
   "id": "ddc799c2",
   "metadata": {},
   "source": [
    "### GNNExplainer"
   ]
  },
  {
   "cell_type": "code",
   "execution_count": null,
   "id": "1c5dbbb7",
   "metadata": {},
   "outputs": [
    {
     "name": "stdout",
     "output_type": "stream",
     "text": [
      "Número de nodos: 169\n"
     ]
    },
    {
     "data": {
      "image/png": "[encoded data removed]",
      "text/plain": [
       "<Figure size 1200x500 with 4 Axes>"
      ]
     },
     "metadata": {},
     "output_type": "display_data"
    }
   ],
   "source": [
    "from torch_geometric.explain import Explainer, GNNExplainer, ModelConfig\n",
    "\n",
    "plt.style.use('default')\n",
    "plt.rcParams[\"figure.figsize\"] = (6, 4)\n",
    "plt.rcParams[\"font.family\"] = \"Times New Roman\"\n",
    "plt.rcParams[\"font.size\"] = 12\n",
    "plt.rcParams[\"text.usetex\"] = False  # mientras MiKTeX no esté operativo\n",
    "plt.rcParams[\"axes.titlesize\"] = 11\n",
    "\n",
    "# Poner el modelo en modo evaluación\n",
    "model.eval()\n",
    "\n",
    "# Crear el explainer solo una vez\n",
    "explainer = Explainer(\n",
    "    model=model,\n",
    "    algorithm=GNNExplainer(epochs=200),\n",
    "    explanation_type='model',\n",
    "    edge_mask_type='object',\n",
    "    node_mask_type='attributes',\n",
    "    model_config=ModelConfig(\n",
    "        mode='regression',\n",
    "        task_level='node',\n",
    "        return_type='raw'\n",
    "    )\n",
    ")\n",
    "\n",
    "# ---------------- CONFIGURACIÓN ----------------\n",
    "graph_idx = 3      # <- Cambia este valor para elegir el grafo del test set\n",
    "node_idx = 69     # <- Cambia este valor para elegir el nodo a explicar\n",
    "# ------------------------------------------------\n",
    "\n",
    "# Obtener el grafo y pasarlo a GPU si es necesario\n",
    "graph = test_dataset[graph_idx].to(device)\n",
    "\n",
    "# Predecir con el modelo\n",
    "with torch.no_grad():\n",
    "    pred = model(graph.x, graph.edge_index).squeeze()\n",
    "true = graph.y.squeeze()\n",
    "#error = torch.abs(pred - true)\n",
    "pred_real = pred * max_T_interfaces\n",
    "true_real = true * max_T_interfaces\n",
    "error_real = torch.abs(pred_real - true_real)\n",
    "\n",
    "# Obtener explicación\n",
    "explanation = explainer(\n",
    "    x=graph.x,\n",
    "    edge_index=graph.edge_index,\n",
    "    index=node_idx\n",
    ")\n",
    "\n",
    "# Obtener importancia del explainer y agrupar por nodo\n",
    "importance = explanation.node_mask.squeeze().cpu()      # Así obtenemos las features por nodo\n",
    "importance = importance.view(-1, 3)                     # Cambiamos a un tensor que pueda ser interpretado como [num_nodes, num_features]\n",
    "importance_per_node = importance.mean(dim=1)            # [num_nodes] Hacemos la media de la importancia de las 3 características en la predicción\n",
    "\n",
    "# Obtener tamaño cuadrícula real del dataset\n",
    "num_nodes = graph.y.numel()\n",
    "print(\"Número de nodos:\", num_nodes)\n",
    "grid_size = int(num_nodes ** 0.5)\n",
    "assert grid_size ** 2 == num_nodes, f\"El número de nodos ({num_nodes}) no coincide con cuadrícula {grid_size}x{grid_size}\"\n",
    "\n",
    "# Convertir vectores a cuadrícula\n",
    "importance_grid = importance_per_node.view(grid_size, grid_size)\n",
    "error_grid = error_real.view(grid_size, grid_size).cpu()\n",
    "# === Visualización coherente con formato ===\n",
    "fig, axs = plt.subplots(1, 2, figsize=(12, 5))  # Mantén tamaño ancho solo aquí\n",
    "\n",
    "# Mapa de importancia\n",
    "im1 = axs[0].imshow(importance_grid, cmap='hot')\n",
    "\n",
    "row = node_idx // grid_size\n",
    "col = node_idx % grid_size\n",
    "axs[0].plot(col, row, 'o', markersize=10, markeredgecolor='black',\n",
    "            markerfacecolor='cyan', label='Explained Node')\n",
    "axs[0].legend(loc='upper right')\n",
    "\n",
    "axs[0].set_title(f\"Importance of node {node_idx}\")\n",
    "fig.colorbar(im1, ax=axs[0])\n",
    "\n",
    "# Mapa de error absoluto\n",
    "im2 = axs[1].imshow(error_grid, cmap='Blues')\n",
    "\n",
    "top_n = 5\n",
    "top_error_nodes = torch.topk(error_real, top_n).indices.cpu()\n",
    "for idx in top_error_nodes:\n",
    "    idx = idx.item()\n",
    "    row = idx // grid_size\n",
    "    col = idx % grid_size\n",
    "    axs[1].text(\n",
    "        col, row, str(idx),\n",
    "        ha='center', va='center',\n",
    "        fontsize=8, fontweight='bold',\n",
    "        color='black',\n",
    "        bbox=dict(boxstyle='round,pad=0.2',\n",
    "                  facecolor='white', edgecolor='none', alpha=0.7)\n",
    "    )\n",
    "axs[1].set_title(\"Absolute Error per Node (Denormalized)\")\n",
    "fig.colorbar(im2, ax=axs[1])\n",
    "\n",
    "fig.suptitle(f\"Graph {graph_idx} | Node {node_idx} explained\")\n",
    "fig.tight_layout()\n",
    "plt.show()\n",
    "\n"
   ]
  },
  {
   "cell_type": "markdown",
   "id": "5e194f71",
   "metadata": {},
   "source": [
    "### Guardado del modelo ya entrenado"
   ]
  },
  {
   "cell_type": "code",
   "execution_count": null,
   "id": "cf2a4c5f",
   "metadata": {},
   "outputs": [
    {
     "name": "stdout",
     "output_type": "stream",
     "text": [
      " Modelo guardado en: saved_models\\GCN_Layers_8_HDim_32_Epochs_215_Lr_0.000004439_B_LOSS_True_Lambda_1_H_LOSS_True_Lambda_10_PI_True_Lambda_0.001_Batch_32.pth\n"
     ]
    }
   ],
   "source": [
    "# Crear carpeta si no existe\n",
    "save_dir = \"saved_models\"\n",
    "os.makedirs(save_dir, exist_ok=True)\n",
    "\n",
    "# Guardar el modelo\n",
    "model_path = os.path.join(save_dir, model_name)\n",
    "if config[\"save_model\"]:\n",
    "    # Guardar el modelo entrenado\n",
    "    torch.save(model.state_dict(), model_path)\n",
    "\n",
    "    print(f\" Modelo guardado en: {model_path}\")"
   ]
  },
  {
   "cell_type": "markdown",
   "id": "368d2128",
   "metadata": {},
   "source": [
    "### Predicción"
   ]
  },
  {
   "cell_type": "code",
   "execution_count": null,
   "id": "dc8b9e14",
   "metadata": {},
   "outputs": [
    {
     "ename": "SyntaxError",
     "evalue": "invalid syntax (985569303.py, line 1)",
     "output_type": "error",
     "traceback": [
      "\u001b[1;36m  Cell \u001b[1;32mIn[28], line 1\u001b[1;36m\u001b[0m\n\u001b[1;33m    fr train_eval import predict\u001b[0m\n\u001b[1;37m       ^\u001b[0m\n\u001b[1;31mSyntaxError\u001b[0m\u001b[1;31m:\u001b[0m invalid syntax\n"
     ]
    }
   ],
   "source": [
    "\n",
    "# from train_eval import predict\n",
    "# from dataset_utils import load_latest_model\n",
    "# # Cargar el modelo más reciente\n",
    "# model = GCN(\n",
    "#     input_dim=config[\"input_dim\"],\n",
    "#     hidden_dim=config[\"hidden_dim\"],\n",
    "#     output_dim=config[\"output_dim\"],\n",
    "#     num_layers=config[\"num_layers\"],\n",
    "#     use_dropout=config[\"use_dropout\"],\n",
    "#     dropout_rate=config[\"dropout_rate\"],\n",
    "#     use_batchnorm=config[\"use_batchnorm\"],\n",
    "#     use_residual=config[\"use_residual\"]\n",
    "# )\n",
    "\n",
    "# model = load_latest_model(model)\n",
    "\n",
    "# # Predecir sobre test\n",
    "# predicciones = predict(model, test_loader, device, norm_info)\n",
    "\n",
    "# print(\"Predicciones shape:\", predicciones.shape)"
   ]
  }
 ],
 "metadata": {
  "kernelspec": {
   "display_name": "base",
   "language": "python",
   "name": "python3"
  },
  "language_info": {
   "codemirror_mode": {
    "name": "ipython",
    "version": 3
   },
   "file_extension": ".py",
   "mimetype": "text/x-python",
   "name": "python",
   "nbconvert_exporter": "python",
   "pygments_lexer": "ipython3",
   "version": "3.12.9"
  }
 },
 "nbformat": 4,
 "nbformat_minor": 5
}
