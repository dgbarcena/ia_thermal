{
 "cells": [
  {
   "cell_type": "code",
   "execution_count": null,
   "id": "9d3b2954",
   "metadata": {},
   "outputs": [],
   "source": []
  },
  {
   "cell_type": "markdown",
   "id": "05b11f5a",
   "metadata": {},
   "source": [
    "# Optuna"
   ]
  },
  {
   "cell_type": "code",
   "execution_count": null,
   "id": "c2dd21d0",
   "metadata": {},
   "outputs": [],
   "source": [
    "import optuna\n",
    "import torch\n",
    "import os\n",
    "from torch.optim.lr_scheduler import ReduceLROnPlateau\n",
    "from gcn_model import GCN\n",
    "from train_eval import train, evaluate\n",
    "from dataset_utils import get_dataloaders_optuna\n"
   ]
  },
  {
   "cell_type": "code",
   "execution_count": null,
   "id": "135b41d3",
   "metadata": {},
   "outputs": [],
   "source": [
    "#%%\n",
    "device = torch.device(\"cuda\" if torch.cuda.is_available() else \"cpu\")\n",
    "print(\"Usando dispositivo:\", device)\n"
   ]
  },
  {
   "cell_type": "code",
   "execution_count": null,
   "id": "9a301848",
   "metadata": {},
   "outputs": [],
   "source": [
    "#%%\n",
    "def get_dataloaders(batch_size):\n",
    "    return get_dataloaders_optuna(batch_size)\n"
   ]
  },
  {
   "cell_type": "code",
   "execution_count": null,
   "id": "3d2339b0",
   "metadata": {},
   "outputs": [],
   "source": [
    "#%%\n",
    "def objective(trial):\n",
    "    # --- Hiperparámetros a optimizar ---\n",
    "    num_layers = trial.suggest_int(\"num_layers\", 10, 30)\n",
    "    hidden_dim = trial.suggest_categorical(\"hidden_dim\", [32, 64, 128, 256, 512])\n",
    "    dropout_rate = trial.suggest_float(\"dropout_rate\", 0.0, 0.2)\n",
    "    lr = trial.suggest_float(\"lr\", 1e-4, 1e-2, log=True)\n",
    "    batch_size = trial.suggest_categorical(\"batch_size\", [16, 32, 64])\n",
    "\n",
    "    # --- Cargar datos ---\n",
    "    train_loader, val_loader, test_loader, input_dim = get_dataloaders(batch_size=batch_size)\n",
    "\n",
    "    # --- Crear modelo ---\n",
    "    model = GCN(\n",
    "        input_dim=input_dim,\n",
    "        hidden_dim=hidden_dim,\n",
    "        output_dim=1,\n",
    "        num_layers=num_layers,\n",
    "        use_dropout=True,\n",
    "        dropout_rate=dropout_rate,\n",
    "        use_batchnorm=False,\n",
    "        use_residual=False\n",
    "    ).to(device)\n",
    "\n",
    "    optimizer = torch.optim.Adam(model.parameters(), lr=lr)\n",
    "\n",
    "    # --- Scheduler con ReduceLROnPlateau ---\n",
    "    scheduler = ReduceLROnPlateau(\n",
    "        optimizer,\n",
    "        mode='min',\n",
    "        factor=0.5,\n",
    "        patience=10,\n",
    "        min_lr=1e-6\n",
    "    )\n",
    "\n",
    "    # --- Entrenamiento + Evaluación en validación ---\n",
    "    for epoch in range(50):\n",
    "        train(model, train_loader, optimizer, device)\n",
    "        val_loss, _, _, _ = evaluate(model, val_loader, device, error_threshold=1.0)\n",
    "        scheduler.step(val_loss)\n",
    "\n",
    "    return val_loss  # Métrica a minimizar\n"
   ]
  },
  {
   "cell_type": "markdown",
   "id": "46d23df8",
   "metadata": {},
   "source": [
    "## Estudio"
   ]
  },
  {
   "cell_type": "code",
   "execution_count": null,
   "id": "e5ba43b5",
   "metadata": {},
   "outputs": [],
   "source": [
    "#%%\n",
    "# Ejecuta este bloque y haz clic en el enlace generado para abrir el panel de control de Optuna\n",
    "!pip install optuna-dashboard\n",
    "\n",
    "import optuna_dashboard\n",
    "\n",
    "# Ejecutar dashboard en segundo plano\n",
    "optuna_dashboard.run_server(\"sqlite:///gcn_optuna_3.db\", port=8080, host=\"0.0.0.0\", no_browser=True)\n"
   ]
  },
  {
   "cell_type": "code",
   "execution_count": null,
   "id": "5aed0a15",
   "metadata": {},
   "outputs": [],
   "source": [
    "#%%\n",
    "study = optuna.create_study(\n",
    "    direction=\"minimize\",\n",
    "    study_name=\"gcn_study_3\",\n",
    "    storage=\"sqlite:///gcn_optuna_3.db\",  # Persistente para dashboard\n",
    "    load_if_exists=True\n",
    ")\n",
    "\n",
    "study.optimize(objective, n_trials=100)\n"
   ]
  },
  {
   "cell_type": "code",
   "execution_count": null,
   "id": "46b94be1",
   "metadata": {},
   "outputs": [],
   "source": [
    "#%%\n",
    "print(\"Mejor conjunto de hiperparámetros encontrados:\")\n",
    "for key, val in study.best_trial.params.items():\n",
    "    print(f\"{key}: {val}\")\n"
   ]
  },
  {
   "cell_type": "code",
   "execution_count": null,
   "id": "38ba32cd",
   "metadata": {},
   "outputs": [],
   "source": [
    "#%%\n",
    "import optuna.visualization.matplotlib as vis\n",
    "\n",
    "fig1 = vis.plot_optimization_history(study)\n",
    "fig1.show()\n",
    "\n",
    "fig2 = vis.plot_param_importances(study)\n",
    "fig2.show()\n"
   ]
  }
 ],
 "metadata": {
  "language_info": {
   "name": "python"
  }
 },
 "nbformat": 4,
 "nbformat_minor": 5
}
