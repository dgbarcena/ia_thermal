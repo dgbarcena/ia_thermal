{
 "cells": [
  {
   "cell_type": "markdown",
   "id": "6a43e162",
   "metadata": {},
   "source": [
    "# Para generar las imágenes del TFG\n"
   ]
  },
  {
   "cell_type": "code",
   "execution_count": null,
   "id": "6dd99891",
   "metadata": {
    "vscode": {
     "languageId": "plaintext"
    }
   },
   "outputs": [],
   "source": []
  }
 ],
 "metadata": {
  "language_info": {
   "name": "python"
  }
 },
 "nbformat": 4,
 "nbformat_minor": 5
}
