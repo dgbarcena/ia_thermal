{
 "cells": [
  {
   "cell_type": "markdown",
   "id": "dfecd1a1",
   "metadata": {},
   "source": [
    "# Librerías"
   ]
  },
  {
   "cell_type": "code",
   "execution_count": null,
   "id": "fb46d803",
   "metadata": {
    "vscode": {
     "languageId": "plaintext"
    }
   },
   "outputs": [],
   "source": []
  },
  {
   "cell_type": "code",
   "execution_count": null,
   "id": "650b6c5f",
   "metadata": {
    "vscode": {
     "languageId": "plaintext"
    }
   },
   "outputs": [],
   "source": []
  },
  {
   "cell_type": "markdown",
   "id": "459c9f9a",
   "metadata": {},
   "source": [
    "# Cargar Dataset"
   ]
  },
  {
   "cell_type": "code",
   "execution_count": null,
   "id": "7772c0fd",
   "metadata": {
    "vscode": {
     "languageId": "plaintext"
    }
   },
   "outputs": [],
   "source": []
  },
  {
   "cell_type": "markdown",
   "id": "8044a7b4",
   "metadata": {},
   "source": [
    "# Prueba Chat"
   ]
  },
  {
   "cell_type": "code",
   "execution_count": null,
   "id": "13a156e7",
   "metadata": {},
   "outputs": [],
   "source": [
    "import os\n",
    "import torch\n",
    "import matplotlib.pyplot as plt\n",
    "import numpy as np\n",
    "from torch_geometric.data import DataLoader\n",
    "from dataset_loader import load_test_dataset, load_norm_info\n",
    "from evaluate import evaluate\n",
    "from dataset_utils import load_model_by_name\n",
    "from gcn_model import GCN\n",
    "from gat_model import GAT\n",
    "from sage_model import SAGE\n",
    "from nnconv_model import NNConvNet"
   ]
  },
  {
   "cell_type": "code",
   "execution_count": null,
   "id": "d1dbe55c",
   "metadata": {},
   "outputs": [],
   "source": [
    "folder_base = \"saved_models\"\n",
    "architectures = [\"GCN\", \"GAT\", \"SAGE\", \"NNConv\"]\n",
    "device = torch.device('cuda' if torch.cuda.is_available() else 'cpu')"
   ]
  },
  {
   "cell_type": "code",
   "execution_count": null,
   "id": "ae27caae",
   "metadata": {},
   "outputs": [],
   "source": [
    "dataset_path = \"data/test_dataset.pth\"\n",
    "norm_info_path = \"data/normalization_info.pth\"\n",
    "test_loader = load_test_dataset(dataset_path)\n",
    "norm_info = load_norm_info(norm_info_path)"
   ]
  },
  {
   "cell_type": "code",
   "execution_count": null,
   "id": "eb72c8bf",
   "metadata": {},
   "outputs": [],
   "source": [
    "def get_model_class(arch):\n",
    "    if arch == \"GCN\": return GCN\n",
    "    if arch == \"GAT\": return GAT\n",
    "    if arch == \"SAGE\": return SAGE\n",
    "    if arch == \"NNConv\": return NNConvNet\n",
    "    raise ValueError(f\"Arquitectura no reconocida: {arch}\")\n",
    "\n",
    "\n",
    "def get_model_config_from_filename(filename):\n",
    "    # Añade aquí si quieres parsear hiperparámetros del nombre\n",
    "    return {\n",
    "        \"input_dim\": 3,\n",
    "        \"hidden_dim\": 128,\n",
    "        \"output_dim\": 1,\n",
    "        \"num_layers\": 3,\n",
    "        \"use_dropout\": True,\n",
    "        \"dropout_rate\": 0.2,\n",
    "        \"use_batchnorm\": False,\n",
    "        \"use_residual\": False,\n",
    "        \"edge_dim\": 3  # solo para NNConv\n",
    "    }"
   ]
  },
  {
   "cell_type": "code",
   "execution_count": null,
   "id": "f531ffd7",
   "metadata": {},
   "outputs": [],
   "source": [
    "resultados = {}\n",
    "\n",
    "for arch in architectures:\n",
    "    model_dir = os.path.join(folder_base, arch)\n",
    "    if not os.path.isdir(model_dir):\n",
    "        print(f\"No se encontró la carpeta de modelos para {arch}.\")\n",
    "        continue\n",
    "\n",
    "    model_files = [f for f in os.listdir(model_dir) if f.endswith(\".pth\")]\n",
    "    if not model_files:\n",
    "        print(f\"No hay modelos en {model_dir}\")\n",
    "        continue\n",
    "\n",
    "    # Se puede elegir uno específico o el último por ejemplo\n",
    "    filename = sorted(model_files)[-1]\n",
    "    model_config = get_model_config_from_filename(filename)\n",
    "    ModelClass = get_model_class(arch)\n",
    "\n",
    "    if arch == \"NNConv\":\n",
    "        model = ModelClass(\n",
    "            input_dim=model_config[\"input_dim\"],\n",
    "            hidden_dim=model_config[\"hidden_dim\"],\n",
    "            output_dim=model_config[\"output_dim\"],\n",
    "            num_layers=model_config[\"num_layers\"],\n",
    "            edge_dim=model_config[\"edge_dim\"],\n",
    "            use_dropout=model_config[\"use_dropout\"],\n",
    "            dropout_rate=model_config[\"dropout_rate\"],\n",
    "            use_batchnorm=model_config[\"use_batchnorm\"],\n",
    "            use_residual=model_config[\"use_residual\"]\n",
    "        ).to(device)\n",
    "    else:\n",
    "        model = ModelClass(\n",
    "            input_dim=model_config[\"input_dim\"],\n",
    "            hidden_dim=model_config[\"hidden_dim\"],\n",
    "            output_dim=model_config[\"output_dim\"],\n",
    "            num_layers=model_config[\"num_layers\"],\n",
    "            use_dropout=model_config[\"use_dropout\"],\n",
    "            dropout_rate=model_config[\"dropout_rate\"],\n",
    "            use_batchnorm=model_config[\"use_batchnorm\"],\n",
    "            use_residual=model_config[\"use_residual\"]\n",
    "        ).to(device)\n",
    "\n",
    "    model_path = os.path.join(model_dir, filename)\n",
    "    model = load_model_by_name(model, filename, folder=model_dir)\n",
    "\n",
    "    print(f\"\\nEvaluando {arch} desde archivo: {filename}\")\n",
    "    plot = True  # Solo el último modelo graficado\n",
    "\n",
    "    results = evaluate(\n",
    "        model, test_loader, device, norm_info,\n",
    "        lambda_physics=0.0,\n",
    "        use_physics=False,\n",
    "        lambda_boundary=0.0,\n",
    "        use_boundary_loss=False,\n",
    "        lambda_heater=0.0,\n",
    "        use_heater_loss=False,\n",
    "        error_threshold=2.0,\n",
    "        percentage_threshold=None,\n",
    "        plot_results=plot\n",
    "    )\n",
    "\n",
    "    resultados[arch] = results"
   ]
  },
  {
   "cell_type": "code",
   "execution_count": null,
   "id": "b01c1d5e",
   "metadata": {},
   "outputs": [],
   "source": [
    "# --- CELDA 6: Comparación visual o resumen ---\n",
    "metricas = [\"MSE\", \"MAE\", \"R2\", \"Accuracy\"]\n",
    "\n",
    "valores = {m: [] for m in metricas}\n",
    "\n",
    "for arch in architectures:\n",
    "    if arch not in resultados:\n",
    "        for m in metricas:\n",
    "            valores[m].append(None)\n",
    "        continue\n",
    "\n",
    "    mse, mae, r2, acc = resultados[arch][0], resultados[arch][1], resultados[arch][2], resultados[arch][3]\n",
    "    valores[\"MSE\"].append(mse)\n",
    "    valores[\"MAE\"].append(mae)\n",
    "    valores[\"R2\"].append(r2)\n",
    "    valores[\"Accuracy\"].append(acc)\n",
    "\n",
    "x = np.arange(len(architectures))\n",
    "width = 0.2\n",
    "\n",
    "fig, ax = plt.subplots(figsize=(10, 6))\n",
    "\n",
    "for i, m in enumerate(metricas):\n",
    "    ax.bar(x + i * width, valores[m], width, label=m)\n",
    "\n",
    "ax.set_xticks(x + width * 1.5)\n",
    "ax.set_xticklabels(architectures)\n",
    "ax.set_ylabel(\"Valor\")\n",
    "ax.set_title(\"Comparación de métricas por arquitectura\")\n",
    "ax.legend()\n",
    "plt.grid(True, linestyle='--', alpha=0.6)\n",
    "plt.tight_layout()\n",
    "plt.show()"
   ]
  }
 ],
 "metadata": {
  "language_info": {
   "name": "python"
  }
 },
 "nbformat": 4,
 "nbformat_minor": 5
}
