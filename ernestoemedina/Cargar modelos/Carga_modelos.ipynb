{
 "cells": [
  {
   "cell_type": "markdown",
   "id": "dfecd1a1",
   "metadata": {},
   "source": [
    "# Librerías"
   ]
  },
  {
   "cell_type": "code",
   "execution_count": null,
   "id": "fb46d803",
   "metadata": {
    "vscode": {
     "languageId": "plaintext"
    }
   },
   "outputs": [],
   "source": []
  },
  {
   "cell_type": "code",
   "execution_count": null,
   "id": "650b6c5f",
   "metadata": {
    "vscode": {
     "languageId": "plaintext"
    }
   },
   "outputs": [],
   "source": []
  },
  {
   "cell_type": "markdown",
   "id": "459c9f9a",
   "metadata": {},
   "source": [
    "# Cargar Dataset"
   ]
  },
  {
   "cell_type": "code",
   "execution_count": null,
   "id": "7772c0fd",
   "metadata": {
    "vscode": {
     "languageId": "plaintext"
    }
   },
   "outputs": [],
   "source": []
  },
  {
   "cell_type": "markdown",
   "id": "8044a7b4",
   "metadata": {},
   "source": [
    "# Prueba Chat"
   ]
  },
  {
   "cell_type": "code",
   "execution_count": null,
   "id": "13a156e7",
   "metadata": {},
   "outputs": [],
   "source": [
    "import os\n",
    "import torch\n",
    "import matplotlib.pyplot as plt\n",
    "import numpy as np\n",
    "from torch_geometric.data import DataLoader\n",
    "from dataset_utils import generate_edge_index, generate_edge_attr, build_graph_list, build_graph_from_sample, load_model_by_name\n",
    "from train_eval import evaluate, evaluate_NNConv\n",
    "from gcn_model import GCN\n",
    "from gat_model import GAT\n",
    "from sage_model import GraphSAGE\n",
    "from nnconv_model import NNConvNet"
   ]
  },
  {
   "cell_type": "code",
   "execution_count": null,
   "id": "d1dbe55c",
   "metadata": {},
   "outputs": [],
   "source": [
    "dir_path = os.getcwd()\n",
    "print(dir_path)\n",
    "folder_base = \"saved_models\"\n",
    "print(folder_base)\n",
    "architectures = [\"GCN\", \"GAT\", \"SAGE\", \"NNConv\"]\n",
    "device = torch.device('cuda' if torch.cuda.is_available() else 'cpu')"
   ]
  },
  {
   "cell_type": "code",
   "execution_count": null,
   "id": "2002c832",
   "metadata": {},
   "outputs": [],
   "source": [
    "# Configuración del modelo\n",
    "config = {\n",
    "    \"input_dim\": 3,           # 3 canales: T_interfaces, Q_heaters, T_env\n",
    "    \"edge_dim\": 3,           # Dimensión de los atributos de las aristas (GR, GLx, GLy)\n",
    "    \"hidden_dim\": 128,\n",
    "    \"output_dim\": 1,\n",
    "    \"num_layers\": 3,\n",
    "    \"attention_heads\": 4,\n",
    "    \"use_dropout\": True,\n",
    "    \"dropout_rate\": 0.15217808088248522,\n",
    "    \"use_batchnorm\": True,\n",
    "    \"use_residual\": True,\n",
    "    \"batch_size\": 16,\n",
    "    \"lr\": 0.0022165075808203588,\n",
    "    \"max_epochs\": 10000,\n",
    "    \"early_stop_patience\": 100,\n",
    "    \"error_threshold_K\": 3.0,\n",
    "    \"use_percentage_threshold\": False,\n",
    "    \"percentage_threshold\": 1.0,  # solo si se activa la opción\n",
    "    \"save_model\": True,\n",
    "    \"load_model\": False, # Cargar un modelo preentrenado\n",
    "    \"factor\" : 0.5 , # Factor de reducción del learning rate\n",
    "    \"patience\" : 10 , # Épocas sin mejora para reducir el learning rate\n",
    "    \"min_lr\" : 1e-9,  # evita que baje infinitamente el learning rate\n",
    "    \"use_physics\" : True,\n",
    "    \"lambda_physics\" : 0.001, # Peso de la física en la función de pérdida\n",
    "    \"use_boundary_loss\" : True,\n",
    "    \"lambda_boundary\" : 1,\n",
    "    \"use_heater_loss\" : True,\n",
    "    \"lambda_heater\" : 10\n",
    "}"
   ]
  },
  {
   "cell_type": "code",
   "execution_count": null,
   "id": "ae27caae",
   "metadata": {},
   "outputs": [],
   "source": [
    "\n",
    "norm_dataset_path = os.path.join(dir_path, \"Datasets\", \"PCB_Dataset_Norm.pth\")\n",
    "info_path = os.path.join(dir_path, \"Datasets\", \"normalization_info.pth\")\n",
    "\n",
    "norm_dataset = torch.load(norm_dataset_path)\n",
    "norm_info = torch.load(info_path)\n",
    "\n",
    "grid_size = norm_dataset.inputs.shape[-1]\n",
    "print(\"PCB cuadrada de\", grid_size, \"nodos por lado\")\n",
    "\n",
    "edge_index = generate_edge_index(grid_size=grid_size)\n",
    "edge_attr = generate_edge_attr(grid_size=grid_size, edge_index=edge_index)\n",
    "graphs = build_graph_list(norm_dataset, edge_index, edge_attr)\n",
    "\n",
    "\n",
    "test_loader = DataLoader(norm_dataset, batch_size=batch_size, shuffle=False)"
   ]
  },
  {
   "cell_type": "code",
   "execution_count": null,
   "id": "eb72c8bf",
   "metadata": {},
   "outputs": [],
   "source": [
    "def get_model_class(arch):\n",
    "    if arch == \"GCN\": return GCN\n",
    "    if arch == \"GAT\": return GAT\n",
    "    if arch == \"SAGE\": return SAGE\n",
    "    if arch == \"NNConv\": return NNConvNet\n",
    "    raise ValueError(f\"Arquitectura no reconocida: {arch}\")\n",
    "\n",
    "\n",
    "def get_model_config_from_filename(filename):\n",
    "    # Añade aquí si quieres parsear hiperparámetros del nombre\n",
    "    return {\n",
    "        \"input_dim\": 3,\n",
    "        \"hidden_dim\": 128,\n",
    "        \"output_dim\": 1,\n",
    "        \"num_layers\": 3,\n",
    "        \"use_dropout\": True,\n",
    "        \"dropout_rate\": 0.2,\n",
    "        \"use_batchnorm\": False,\n",
    "        \"use_residual\": False,\n",
    "        \"edge_dim\": 3  # solo para NNConv\n",
    "        \"attention_heads\": 4,  # solo para GAT\n",
    "    }"
   ]
  },
  {
   "cell_type": "code",
   "execution_count": null,
   "id": "f531ffd7",
   "metadata": {},
   "outputs": [],
   "source": [
    "resultados = {}\n",
    "\n",
    "for arch in architectures:\n",
    "    model_dir = os.path.join(folder_base, arch)\n",
    "    if not os.path.isdir(model_dir):\n",
    "        print(f\"No se encontró la carpeta de modelos para {arch}.\")\n",
    "        continue\n",
    "\n",
    "    model_files = [f for f in os.listdir(model_dir) if f.endswith(\".pth\")]\n",
    "    if not model_files:\n",
    "        print(f\"No hay modelos en {model_dir}\")\n",
    "        continue\n",
    "\n",
    "    # Se puede elegir uno específico o el último por ejemplo\n",
    "    filename = sorted(model_files)[-1]\n",
    "    model_config = get_model_config_from_filename(filename)\n",
    "    ModelClass = get_model_class(arch)\n",
    "\n",
    "    if arch == \"NNConv\":\n",
    "        model = ModelClass(\n",
    "            input_dim=model_config[\"input_dim\"],\n",
    "            hidden_dim=model_config[\"hidden_dim\"],\n",
    "            output_dim=model_config[\"output_dim\"],\n",
    "            num_layers=model_config[\"num_layers\"],\n",
    "            edge_dim=model_config[\"edge_dim\"],\n",
    "            use_dropout=model_config[\"use_dropout\"],\n",
    "            dropout_rate=model_config[\"dropout_rate\"],\n",
    "            use_batchnorm=model_config[\"use_batchnorm\"],\n",
    "            use_residual=model_config[\"use_residual\"]\n",
    "        ).to(device)\n",
    "    if    arch == \"GAT\":\n",
    "        model = ModelClass(\n",
    "            input_dim=model_config[\"input_dim\"],\n",
    "            hidden_dim=model_config[\"hidden_dim\"],\n",
    "            output_dim=model_config[\"output_dim\"],\n",
    "            num_layers=model_config[\"num_layers\"],\n",
    "            attention_heads=model_config[\"attention_heads\"],\n",
    "            use_dropout=model_config[\"use_dropout\"],\n",
    "            dropout_rate=model_config[\"dropout_rate\"],\n",
    "            use_batchnorm=model_config[\"use_batchnorm\"],\n",
    "            use_residual=model_config[\"use_residual\"]\n",
    "        ).to(device)\n",
    "    else:\n",
    "        model = ModelClass(\n",
    "            input_dim=model_config[\"input_dim\"],\n",
    "            hidden_dim=model_config[\"hidden_dim\"],\n",
    "            output_dim=model_config[\"output_dim\"],\n",
    "            num_layers=model_config[\"num_layers\"],\n",
    "            use_dropout=model_config[\"use_dropout\"],\n",
    "            dropout_rate=model_config[\"dropout_rate\"],\n",
    "            use_batchnorm=model_config[\"use_batchnorm\"],\n",
    "            use_residual=model_config[\"use_residual\"]\n",
    "        ).to(device)\n",
    "\n",
    "    model_path = os.path.join(model_dir, filename)\n",
    "    model = load_model_by_name(model, filename, folder=model_dir)\n",
    "\n",
    "    print(f\"\\nEvaluando {arch} desde archivo: {filename}\")\n",
    "    plot = True  # Solo el último modelo graficado\n",
    "\n",
    "    results = evaluate(\n",
    "        model, test_loader, device, norm_info,\n",
    "        lambda_physics=0.0,\n",
    "        use_physics=False,\n",
    "        lambda_boundary=0.0,\n",
    "        use_boundary_loss=False,\n",
    "        lambda_heater=0.0,\n",
    "        use_heater_loss=False,\n",
    "        error_threshold=2.0,\n",
    "        percentage_threshold=None,\n",
    "        plot_results=plot\n",
    "    )\n",
    "\n",
    "    resultados[arch] = results"
   ]
  },
  {
   "cell_type": "code",
   "execution_count": null,
   "id": "b01c1d5e",
   "metadata": {},
   "outputs": [],
   "source": [
    "# --- CELDA 6: Comparación visual o resumen ---\n",
    "metricas = [\"MSE\", \"MAE\", \"R2\", \"Accuracy\"]\n",
    "\n",
    "valores = {m: [] for m in metricas}\n",
    "\n",
    "for arch in architectures:\n",
    "    if arch not in resultados:\n",
    "        for m in metricas:\n",
    "            valores[m].append(None)\n",
    "        continue\n",
    "\n",
    "    mse, mae, r2, acc = resultados[arch][0], resultados[arch][1], resultados[arch][2], resultados[arch][3]\n",
    "    valores[\"MSE\"].append(mse)\n",
    "    valores[\"MAE\"].append(mae)\n",
    "    valores[\"R2\"].append(r2)\n",
    "    valores[\"Accuracy\"].append(acc)\n",
    "\n",
    "x = np.arange(len(architectures))\n",
    "width = 0.2\n",
    "\n",
    "fig, ax = plt.subplots(figsize=(10, 6))\n",
    "\n",
    "for i, m in enumerate(metricas):\n",
    "    ax.bar(x + i * width, valores[m], width, label=m)\n",
    "\n",
    "ax.set_xticks(x + width * 1.5)\n",
    "ax.set_xticklabels(architectures)\n",
    "ax.set_ylabel(\"Valor\")\n",
    "ax.set_title(\"Comparación de métricas por arquitectura\")\n",
    "ax.legend()\n",
    "plt.grid(True, linestyle='--', alpha=0.6)\n",
    "plt.tight_layout()\n",
    "plt.show()"
   ]
  }
 ],
 "metadata": {
  "language_info": {
   "name": "python"
  }
 },
 "nbformat": 4,
 "nbformat_minor": 5
}
