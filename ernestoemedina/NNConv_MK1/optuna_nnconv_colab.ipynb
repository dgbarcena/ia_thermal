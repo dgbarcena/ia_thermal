{
 "cells": [
  {
   "cell_type": "code",
   "execution_count": null,
   "id": "15cbfd92",
   "metadata": {},
   "outputs": [],
   "source": [
    "import os\n",
    "\n",
    "# Desinstala numpy y cualquier paquete conflictivo\n",
    "!pip uninstall -y numpy torch torchvision torchaudio torch-geometric torch-scatter torch-sparse torch-cluster torch-spline-conv -q\n",
    "\n",
    "# Instala numpy compatible (ANTES de que torch lo cargue)\n",
    "!pip install numpy==1.24.4\n",
    "\n",
    "# Mensaje al usuario\n",
    "print(\"NumPy 1.24.4 instalado correctamente.\")\n",
    "print(\"Reiniciando entorno para que los cambios surtan efecto...\")\n",
    "\n",
    "# Reinicia el entorno de ejecución automáticamente (muy importante)\n",
    "os.kill(os.getpid(), 9)\n"
   ]
  },
  {
   "cell_type": "code",
   "execution_count": null,
   "id": "9d3b2954",
   "metadata": {},
   "outputs": [],
   "source": [
    "\n",
    "# Instalación de PyTorch con CUDA 11.8\n",
    "!pip install torch==2.0.1+cu118 torchvision==0.15.2+cu118 torchaudio==2.0.2 --index-url https://download.pytorch.org/whl/cu118\n",
    "\n",
    "# Instalación de dependencias específicas de PyTorch Geometric\n",
    "!pip install torch-scatter torch-sparse torch-cluster torch-spline-conv -f https://data.pyg.org/whl/torch-2.0.0+cu118.html\n",
    "\n",
    "# Instalación de torch-geometric y librerías útiles\n",
    "!pip install torch-geometric matplotlib pandas optuna optuna-dashboard\n",
    "\n",
    "!pip install pyngrok --quiet\n"
   ]
  },
  {
   "cell_type": "code",
   "execution_count": null,
   "id": "f6e4da4b",
   "metadata": {},
   "outputs": [],
   "source": [
    "# Eliminar carpeta antigua si existe, para evitar que se quede en  el caché\n",
    "!rm -rf ia_thermal\n",
    "\n",
    "# Clonar versión actualizada desde GitHub\n",
    "!git clone --branch Ernesto https://github.com/dgbarcena/ia_thermal.git\n",
    "\n",
    "%cd ia_thermal/ernestoemedina/NNConv_MK1"
   ]
  },
  {
   "cell_type": "code",
   "execution_count": null,
   "id": "1f728fe6",
   "metadata": {},
   "outputs": [],
   "source": [
    "# Añadir ruta al sistema para importar módulos locales\n",
    "import sys\n",
    "sys.path.append('/content/ia_thermal/ernestoemedina/NNConv_MK1')"
   ]
  },
  {
   "cell_type": "code",
   "execution_count": null,
   "id": "250af8c7",
   "metadata": {},
   "outputs": [],
   "source": [
    "from google.colab import drive\n",
    "drive.mount('/content/drive')"
   ]
  },
  {
   "cell_type": "markdown",
   "id": "05b11f5a",
   "metadata": {},
   "source": [
    "# Optuna"
   ]
  },
  {
   "cell_type": "code",
   "execution_count": null,
   "id": "c2dd21d0",
   "metadata": {},
   "outputs": [],
   "source": [
    "import optuna\n",
    "import optuna_dashboard\n",
    "import torch\n",
    "import os\n",
    "import threading\n",
    "from torch.optim.lr_scheduler import ReduceLROnPlateau\n",
    "from optuna_dashboard import run_server\n",
    "from pyngrok import ngrok\n",
    "from nnconv_model import NNConvNet\n",
    "from train_eval import train, evaluate\n",
    "from dataset_utils import get_dataloaders_optuna"
   ]
  },
  {
   "cell_type": "code",
   "execution_count": null,
   "id": "f832ccfc",
   "metadata": {},
   "outputs": [],
   "source": [
    "try:\n",
    "    import google.colab\n",
    "    IN_COLAB = True\n",
    "except ImportError:\n",
    "    IN_COLAB = False\n",
    "\n",
    "if IN_COLAB:\n",
    "    dir_path = \"/content/drive/MyDrive/ErnestoData\"\n",
    "    db_path = \"/content/drive/MyDrive/ErnestoData/Optuna/nnconv_optuna_1.db\"\n",
    "else:\n",
    "    dir_path = os.getcwd()\n",
    "    db_path = os.path.join(dir_path, \"nnconv_optuna_1.db\")"
   ]
  },
  {
   "cell_type": "code",
   "execution_count": null,
   "id": "135b41d3",
   "metadata": {},
   "outputs": [],
   "source": [
    "\n",
    "device = torch.device(\"cuda\" if torch.cuda.is_available() else \"cpu\")\n",
    "print(\"Usando dispositivo:\", device)\n"
   ]
  },
  {
   "cell_type": "code",
   "execution_count": null,
   "id": "9a301848",
   "metadata": {},
   "outputs": [],
   "source": [
    "\n",
    "def get_dataloaders(batch_size, dir_path):\n",
    "    return get_dataloaders_optuna(batch_size, dir_path)\n"
   ]
  },
  {
   "cell_type": "code",
   "execution_count": null,
   "id": "3d2339b0",
   "metadata": {},
   "outputs": [],
   "source": [
    "def objective(trial):\n",
    "    # --- Hiperparámetros a optimizar ---\n",
    "    num_layers = trial.suggest_int(\"num_layers\", 1, 10)\n",
    "    hidden_dim = trial.suggest_categorical(\"hidden_dim\", [8, 9, 16, 32, 64, 128])\n",
    "    dropout_rate = trial.suggest_float(\"dropout_rate\", 0.0, 0.2)\n",
    "    lr = trial.suggest_float(\"lr\", 1e-4, 1e-2, log=True)\n",
    "    batch_size = trial.suggest_categorical(\"batch_size\", [8, 16, 32, 64])\n",
    "\n",
    "    # --- Cargar datos ---\n",
    "    train_loader, val_loader, test_loader, input_dim, norm_info = get_dataloaders(batch_size=batch_size, dir_path=dir_path)\n",
    "\n",
    "\n",
    "    # --- Crear modelo ---\n",
    "    model = NNConvNet(\n",
    "        input_dim=input_dim,\n",
    "        edge_dim=3,\n",
    "        hidden_dim=hidden_dim,\n",
    "        output_dim=1,\n",
    "        num_layers=num_layers,\n",
    "        use_dropout=True,\n",
    "        dropout_rate=dropout_rate,\n",
    "        use_batchnorm=True,\n",
    "        use_residual=True\n",
    "    ).to(device)\n",
    "\n",
    "    optimizer = torch.optim.Adam(model.parameters(), lr=lr)\n",
    "\n",
    "    # --- Scheduler con ReduceLROnPlateau ---\n",
    "    scheduler = ReduceLROnPlateau(\n",
    "        optimizer,\n",
    "        mode='min',\n",
    "        factor=0.5,\n",
    "        patience=10,\n",
    "        min_lr=1e-6\n",
    "    )\n",
    "\n",
    "    # --- Entrenamiento + Evaluación en validación ---\n",
    "    for epoch in range(50):\n",
    "        train(\n",
    "            model,\n",
    "            train_loader,\n",
    "            optimizer,\n",
    "            device,\n",
    "            norm_info=norm_info,\n",
    "            use_physics=True,\n",
    "            lambda_physics=0.0001,\n",
    "            use_boundary_loss=True,\n",
    "            lambda_boundary=1,\n",
    "            use_heater_loss=True,\n",
    "            lambda_heater=10\n",
    "        )\n",
    "\n",
    "        val_metrics = evaluate(\n",
    "            model,\n",
    "            val_loader,\n",
    "            device,\n",
    "            norm_info=norm_info,\n",
    "            error_threshold=1.0,\n",
    "            use_physics=True,\n",
    "            use_boundary_loss=True,\n",
    "            use_heater_loss=True,\n",
    "            lambda_physics=0.003,\n",
    "            lambda_boundary=1,\n",
    "            lambda_heater=10\n",
    "        )\n",
    "\n",
    "        val_total_loss = val_metrics[-1]\n",
    "        scheduler.step(val_total_loss)\n",
    "\n",
    "    return val_total_loss  # Métrica a minimizar"
   ]
  },
  {
   "cell_type": "markdown",
   "id": "46d23df8",
   "metadata": {},
   "source": [
    "## Estudio"
   ]
  },
  {
   "cell_type": "code",
   "execution_count": null,
   "id": "f04290e0",
   "metadata": {},
   "outputs": [],
   "source": [
    "\"\"\" # Ruta al archivo .db\n",
    "\n",
    "port = 8080\n",
    "\n",
    "# Abrir túnel ngrok\n",
    "public_url = ngrok.connect(port)\n",
    "print(f\"Abre este enlace para ver Optuna Dashboard:\\n{public_url}\")\n",
    "\n",
    "# Ejecutar el dashboard en segundo plano con threading\n",
    "thread = threading.Thread(\n",
    "    target=run_server,\n",
    "    args=(f\"sqlite:///{db_path}\",),\n",
    "    kwargs={\"port\": port, \"host\": \"0.0.0.0\", \"no_browser\": True},\n",
    "    daemon=True\n",
    ")\n",
    "thread.start() \"\"\""
   ]
  },
  {
   "cell_type": "code",
   "execution_count": null,
   "id": "5aed0a15",
   "metadata": {},
   "outputs": [],
   "source": [
    "# Crear estudio y ejecutar optimización\n",
    "study = optuna.create_study(\n",
    "    direction=\"minimize\",\n",
    "    study_name=\"nnconv_study_1\",\n",
    "    storage=f\"sqlite:///db_path\",\n",
    "    load_if_exists=True\n",
    ")\n",
    "\n",
    "study.optimize(objective, n_trials=100)"
   ]
  },
  {
   "cell_type": "code",
   "execution_count": null,
   "id": "46b94be1",
   "metadata": {},
   "outputs": [],
   "source": [
    "\n",
    "print(\"Mejor conjunto de hiperparámetros encontrados:\")\n",
    "for key, val in study.best_trial.params.items():\n",
    "    print(f\"{key}: {val}\")\n"
   ]
  },
  {
   "cell_type": "code",
   "execution_count": null,
   "id": "38ba32cd",
   "metadata": {},
   "outputs": [],
   "source": [
    "\n",
    "import optuna.visualization.matplotlib as vis\n",
    "\n",
    "fig1 = vis.plot_optimization_history(study)\n",
    "fig1.show()\n",
    "\n",
    "fig2 = vis.plot_param_importances(study)\n",
    "fig2.show()\n"
   ]
  }
 ],
 "metadata": {
  "language_info": {
   "name": "python"
  }
 },
 "nbformat": 4,
 "nbformat_minor": 5
}
