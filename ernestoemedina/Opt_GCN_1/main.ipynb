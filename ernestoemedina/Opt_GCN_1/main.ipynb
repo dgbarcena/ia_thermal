{
 "cells": [
  {
   "cell_type": "markdown",
   "metadata": {},
   "source": [
    "# Importar librerías y módulos"
   ]
  },
  {
   "cell_type": "code",
   "execution_count": 1,
   "metadata": {},
   "outputs": [],
   "source": [
    "import os\n",
    "import random\n",
    "import numpy as np\n",
    "import torch\n",
    "import matplotlib.pyplot as plt\n",
    "from torch_geometric.loader import DataLoader\n",
    "from gcn_model import GCN\n",
    "from Dataset_loader import (\n",
    "    prepare_dataset, load_dataset, load_pcb_dataset,\n",
    "    standardize_data, denormalize_graphs,\n",
    "    target_mean, target_std, PCBDataset\n",
    ")\n",
    "from train_eval import train, evaluate, predict, plot_temperature_maps\n",
    "from model_saver import save_model\n"
   ]
  },
  {
   "cell_type": "code",
   "execution_count": 2,
   "metadata": {},
   "outputs": [
    {
     "name": "stdout",
     "output_type": "stream",
     "text": [
      "Usando dispositivo: cuda\n"
     ]
    }
   ],
   "source": [
    "# Configuración del dispositivo\n",
    "device = torch.device('cuda' if torch.cuda.is_available() else 'cpu')\n",
    "print(f\"Usando dispositivo: {device}\")\n",
    "\n",
    "# Configuración reproducible\n",
    "torch.manual_seed(42)\n",
    "np.random.seed(42)\n",
    "random.seed(42)"
   ]
  },
  {
   "cell_type": "markdown",
   "metadata": {},
   "source": [
    "## Configuración"
   ]
  },
  {
   "cell_type": "code",
   "execution_count": 3,
   "metadata": {},
   "outputs": [],
   "source": [
    "config = {\n",
    "    \"file_path\": \"PCB_dataset.pth\",\n",
    "    \"apply_standardization\": True,\n",
    "    \"use_percentage_threshold\": False,\n",
    "    \"error_threshold_K\": 5.0,\n",
    "    \"percentage_threshold\": 5.0,\n",
    "    \"batch_size\": 32,\n",
    "    \"input_dim\": 1,\n",
    "    \"hidden_dim\": 64,\n",
    "    \"output_dim\": 1,\n",
    "    \"num_layers\": 2,\n",
    "    \"learning_rate\": 0.001,\n",
    "    \"epochs\": 3,\n",
    "    \"keep_best_model_in_memory\": False,\n",
    "    \"use_dropout\": True,\n",
    "    \"dropout_rate\": 0.2,\n",
    "    \"use_batchnorm\": True,\n",
    "    \"use_residual\": True\n",
    "}\n"
   ]
  },
  {
   "cell_type": "code",
   "execution_count": 4,
   "metadata": {},
   "outputs": [
    {
     "name": "stderr",
     "output_type": "stream",
     "text": [
      "c:\\Users\\ramse\\Escritorio\\Aero Ordenador\\4to Aero\\2do Cuatri\\Repo_TFG\\ia_thermal\\ernestoemedina\\Opt_GCN_1\\Dataset_loader.py:155: FutureWarning: You are using `torch.load` with `weights_only=False` (the current default value), which uses the default pickle module implicitly. It is possible to construct malicious pickle data which will execute arbitrary code during unpickling (See https://github.com/pytorch/pytorch/blob/main/SECURITY.md#untrusted-models for more details). In a future release, the default value for `weights_only` will be flipped to `True`. This limits the functions that could be executed during unpickling. Arbitrary objects will no longer be allowed to be loaded via this mode unless they are explicitly allowlisted by the user via `torch.serialization.add_safe_globals`. We recommend you start setting `weights_only=True` for any use case where you don't have full control of the loaded file. Please open an issue on GitHub for any issues related to this experimental feature.\n",
      "  dataset = torch.load(file_path)\n"
     ]
    },
    {
     "name": "stdout",
     "output_type": "stream",
     "text": [
      "Dataset estandarizado (mean=354.61, std=35.92)\n",
      "Dataset cargado correctamente. Número de gráficos: 20000\n",
      "Nodos por gráfico: 169\n"
     ]
    }
   ],
   "source": [
    "# Cargar dataset desde archivo\n",
    "graphs = load_pcb_dataset(config[\"file_path\"], device=device)\n",
    "\n",
    "# Estandarizar si es necesario\n",
    "if config[\"apply_standardization\"]:\n",
    "    graphs = standardize_data(graphs, device=device)\n",
    "\n",
    "\n",
    "print(f\"Dataset cargado correctamente. Número de gráficos: {len(graphs)}\")\n",
    "nodos_por_grafico = graphs[0].y.shape[0]\n",
    "print(f\"Nodos por gráfico: {nodos_por_grafico}\")\n"
   ]
  },
  {
   "cell_type": "code",
   "execution_count": 5,
   "metadata": {},
   "outputs": [],
   "source": [
    "# División del dataset\n",
    "train_size = int(0.8 * len(graphs))\n",
    "val_size = int(0.1 * len(graphs))\n",
    "test_size = len(graphs) - train_size - val_size\n",
    "\n",
    "train_dataset = graphs[:train_size]\n",
    "val_dataset = graphs[train_size:train_size + val_size]\n",
    "test_dataset = graphs[train_size + val_size:]\n",
    "\n",
    "# Crear DataLoaders\n",
    "batch_size = config[\"batch_size\"]\n",
    "train_loader = DataLoader(train_dataset, batch_size=batch_size, shuffle=True)\n",
    "val_loader = DataLoader(val_dataset, batch_size=batch_size, shuffle=False)\n",
    "test_loader = DataLoader(test_dataset, batch_size=batch_size, shuffle=False)"
   ]
  },
  {
   "cell_type": "markdown",
   "metadata": {},
   "source": [
    "## Modelo"
   ]
  },
  {
   "cell_type": "code",
   "execution_count": 6,
   "metadata": {},
   "outputs": [
    {
     "name": "stdout",
     "output_type": "stream",
     "text": [
      "Modelo inicializado correctamente.\n"
     ]
    }
   ],
   "source": [
    "# Crear el modelo\n",
    "\n",
    "model = GCN(\n",
    "    input_dim=config[\"input_dim\"],\n",
    "    hidden_dim=config[\"hidden_dim\"],\n",
    "    output_dim=config[\"output_dim\"],\n",
    "    num_layers=config[\"num_layers\"],\n",
    "    use_dropout=config[\"use_dropout\"],\n",
    "    dropout_rate=config[\"dropout_rate\"],\n",
    "    use_batchnorm=config[\"use_batchnorm\"],\n",
    "    use_residual=config[\"use_residual\"]\n",
    ").to(device)\n",
    "\n",
    "optimizer = torch.optim.Adam(model.parameters(), lr=config[\"learning_rate\"])\n",
    "best_model_state = None\n",
    "#best_val_loss = float(\"inf\")\n",
    "min_loss = float(\"inf\")\n",
    "print(\"Modelo inicializado correctamente.\")"
   ]
  },
  {
   "cell_type": "markdown",
   "metadata": {},
   "source": [
    "## Entrenamiento"
   ]
  },
  {
   "cell_type": "code",
   "execution_count": 7,
   "metadata": {},
   "outputs": [
    {
     "name": "stdout",
     "output_type": "stream",
     "text": [
      "Iniciando entrenamiento...\n",
      "Epoch 1/3 - Loss: 22.9208 - Val MSE: 78.6486 - Val MAE: 8.7522 - Val R2: -121.0700 - Val Accuracy: 0.00%\n",
      "Epoch 2/3 - Loss: 1.1043 - Val MSE: 99.8583 - Val MAE: 9.9035 - Val R2: -155.5106 - Val Accuracy: 0.00%\n",
      "Epoch 3/3 - Loss: 0.9174 - Val MSE: 97.9336 - Val MAE: 9.8149 - Val R2: -152.6660 - Val Accuracy: 0.00%\n"
     ]
    }
   ],
   "source": [
    "print(\"Iniciando entrenamiento...\")\n",
    "\n",
    "for epoch in range(config[\"epochs\"]):\n",
    "    train_loss = train(model, train_loader, optimizer, device, normalize=config[\"apply_standardization\"])\n",
    "\n",
    "    val_mse, val_mae, val_r2, val_accuracy = evaluate(\n",
    "    model, val_loader, device,\n",
    "    nodos_por_grafico=nodos_por_grafico,\n",
    "    error_threshold=config[\"error_threshold_K\"],\n",
    "    percentage_threshold=config[\"percentage_threshold\"] if config[\"use_percentage_threshold\"] else None,\n",
    "    plot_results=False,\n",
    "    normalize=config[\"apply_standardization\"],\n",
    ")\n",
    "\n",
    "    print(f\"Epoch {epoch+1}/{config['epochs']} - Loss: {train_loss:.4f} - Val MSE: {val_mse:.4f} - Val MAE: {val_mae:.4f} - Val R2: {val_r2:.4f} - Val Accuracy: {val_accuracy:.2f}%\")\n",
    "\n",
    "    if config[\"keep_best_model_in_memory\"] and train_loss < min_loss:\n",
    "        min_loss = train_loss\n",
    "        best_model_state = {k: v.clone() for k, v in model.state_dict().items()}\n",
    "        print(f\"Nuevo mejor modelo encontrado en el epoch {epoch+1}\")"
   ]
  },
  {
   "cell_type": "markdown",
   "metadata": {},
   "source": [
    "## Evaluación"
   ]
  },
  {
   "cell_type": "code",
   "execution_count": 8,
   "metadata": {},
   "outputs": [
    {
     "name": "stdout",
     "output_type": "stream",
     "text": [
      "Evaluando en el conjunto de prueba...\n"
     ]
    },
    {
     "data": {
      "image/png": "[encoded data removed]",
      "text/plain": [
       "<Figure size 1800x600 with 6 Axes>"
      ]
     },
     "metadata": {},
     "output_type": "display_data"
    },
    {
     "name": "stdout",
     "output_type": "stream",
     "text": [
      "Test MSE: 126485.9219 | MAE: 352.7710 | R2: -154.9353\n",
      "% de nodos dentro de ±5.0K: 0.00%\n"
     ]
    }
   ],
   "source": [
    "print(\"Evaluando en el conjunto de prueba...\")\n",
    "\n",
    "if config[\"keep_best_model_in_memory\"] and best_model_state is not None:\n",
    "    model.load_state_dict(best_model_state)\n",
    "\n",
    "test_mse, test_mae, test_r2, test_accuracy = evaluate(\n",
    "    model, test_loader, device,\n",
    "    nodos_por_grafico=nodos_por_grafico,\n",
    "    error_threshold=config[\"error_threshold_K\"],\n",
    "    percentage_threshold=config[\"percentage_threshold\"] if config[\"use_percentage_threshold\"] else None,\n",
    "    plot_results=True,\n",
    "    normalize=False\n",
    ")\n",
    "\n",
    "print(f\"Test MSE: {test_mse:.4f} | MAE: {test_mae:.4f} | R2: {test_r2:.4f}\")\n",
    "if config[\"use_percentage_threshold\"]:\n",
    "    print(f\"% de nodos dentro de ±{config['percentage_threshold']}%: {test_accuracy:.2f}%\")\n",
    "else:\n",
    "    print(f\"% de nodos dentro de ±{config['error_threshold_K']}K: {test_accuracy:.2f}%\")\n"
   ]
  },
  {
   "cell_type": "code",
   "execution_count": 9,
   "metadata": {},
   "outputs": [],
   "source": [
    "# Guardar modelo solo si se usó memoria\n",
    "if config[\"keep_best_model_in_memory\"]:\n",
    "    save_model(\n",
    "        model,\n",
    "        num_layers=config[\"num_layers\"],\n",
    "        hidden_dim=config[\"hidden_dim\"],\n",
    "        epochs=config[\"epochs\"],\n",
    "        learning_rate=config[\"learning_rate\"],\n",
    "        test_mse=test_mse,\n",
    "        test_accuracy=test_accuracy,\n",
    "        best_model_state=best_model_state,\n",
    "        save_best_model_to_file=True\n",
    "    )\n"
   ]
  }
 ],
 "metadata": {
  "kernelspec": {
   "display_name": "base",
   "language": "python",
   "name": "python3"
  },
  "language_info": {
   "codemirror_mode": {
    "name": "ipython",
    "version": 3
   },
   "file_extension": ".py",
   "mimetype": "text/x-python",
   "name": "python",
   "nbconvert_exporter": "python",
   "pygments_lexer": "ipython3",
   "version": "3.12.9"
  }
 },
 "nbformat": 4,
 "nbformat_minor": 2
}
